{
 "cells": [
  {
   "cell_type": "code",
   "execution_count": 1,
   "id": "293d7bd2-d800-4204-a57a-5061562b66a9",
   "metadata": {},
   "outputs": [
    {
     "name": "stdout",
     "output_type": "stream",
     "text": [
      "Found 24 files to process.\n"
     ]
    },
    {
     "name": "stderr",
     "output_type": "stream",
     "text": [
      "Processing files: 100%|██████████| 24/24 [31:23<00:00, 78.47s/it] "
     ]
    },
    {
     "name": "stdout",
     "output_type": "stream",
     "text": [
      "Processing complete! Master CSV created at /home/charlie/Desktop/master_data.csv\n",
      "Total processing time: 1883.38 seconds.\n"
     ]
    },
    {
     "name": "stderr",
     "output_type": "stream",
     "text": [
      "\n"
     ]
    }
   ],
   "source": [
    "import pandas as pd\n",
    "import glob\n",
    "import time\n",
    "from tqdm import tqdm\n",
    "\n",
    "# Define the expected column types\n",
    "parsed_data = {\n",
    "    'ts': 'float64',\n",
    "    'uid': 'object',\n",
    "    'id.orig_h': 'object',\n",
    "    'id.orig_p': 'float64',\n",
    "    'id.resp_h': 'object',\n",
    "    'id.resp_p': 'float64',\n",
    "    'proto': 'object',\n",
    "    'service': 'object',\n",
    "    'duration': 'float64',\n",
    "    'orig_bytes': 'float64',\n",
    "    'resp_bytes': 'float64',\n",
    "    'conn_state': 'object',\n",
    "    'local_orig': 'object',\n",
    "    'local_resp': 'object',\n",
    "    'missed_bytes': 'float64',\n",
    "    'history': 'object',\n",
    "    'orig_pkts': 'float64',\n",
    "    'orig_ip_bytes': 'float64',\n",
    "    'resp_pkts': 'float64',\n",
    "    'resp_ip_bytes': 'float64',\n",
    "    'tunnel_parents': 'object',\n",
    "    'label': 'object',\n",
    "    'detailed_label': 'object'\n",
    "}\n",
    "\n",
    "# Input and output paths\n",
    "input_folder = \"/home/charlie/Desktop/Original_Data/Subset_CVS/*.csv\"\n",
    "master_csv_path = \"/home/charlie/Desktop/master_data.csv\"\n",
    "\n",
    "# Track progress\n",
    "files = glob.glob(input_folder)\n",
    "print(f\"Found {len(files)} files to process.\")\n",
    "\n",
    "# Initialize master file\n",
    "first_file = True  # Indicates whether to write the header\n",
    "\n",
    "# Start processing\n",
    "start_time = time.time()\n",
    "\n",
    "with tqdm(total=len(files), desc=\"Processing files\") as pbar:\n",
    "    for file in files:\n",
    "        try:\n",
    "            # Read file in chunks\n",
    "            for chunk in pd.read_csv(file, dtype=parsed_data, na_values=['-'], chunksize=10000):\n",
    "                chunk.columns = chunk.columns.str.strip()  # Clean column names\n",
    "                chunk.columns = chunk.columns.str.replace(\"-\", \"_\")\n",
    "                \n",
    "                # Append chunk to the master CSV\n",
    "                chunk.to_csv(master_csv_path, mode='a', header=first_file, index=False)\n",
    "                first_file = False  # Ensure header is only written once\n",
    "        except Exception as e:\n",
    "            print(f\"Error processing file {file}: {e}\")\n",
    "        \n",
    "        # Update progress bar\n",
    "        pbar.update(1)\n",
    "\n",
    "end_time = time.time()\n",
    "print(f\"Processing complete! Master CSV created at {master_csv_path}\")\n",
    "print(f\"Total processing time: {end_time - start_time:.2f} seconds.\")\n"
   ]
  },
  {
   "cell_type": "code",
   "execution_count": 3,
   "id": "9e43ceb5-f1b0-4520-a8bc-88196f747ba4",
   "metadata": {},
   "outputs": [
    {
     "name": "stdout",
     "output_type": "stream",
     "text": [
      "Missing columns in this chunk: {'tunnel_parents   label   detailed-label'}\n"
     ]
    },
    {
     "name": "stderr",
     "output_type": "stream",
     "text": [
      "/tmp/ipykernel_18148/1266505323.py:8: DtypeWarning: Columns (7) have mixed types. Specify dtype option on import or set low_memory=False.\n",
      "  for chunk in pd.read_csv(\"/home/charlie/Desktop/master_data.csv\", chunksize=chunk_size):\n"
     ]
    },
    {
     "name": "stdout",
     "output_type": "stream",
     "text": [
      "Missing columns in this chunk: {'tunnel_parents   label   detailed-label'}\n",
      "Missing columns in this chunk: {'tunnel_parents   label   detailed-label'}\n",
      "Missing columns in this chunk: {'tunnel_parents   label   detailed-label'}\n",
      "Missing columns in this chunk: {'tunnel_parents   label   detailed-label'}\n",
      "Missing columns in this chunk: {'tunnel_parents   label   detailed-label'}\n",
      "Missing columns in this chunk: {'tunnel_parents   label   detailed-label'}\n",
      "Missing columns in this chunk: {'tunnel_parents   label   detailed-label'}\n"
     ]
    },
    {
     "name": "stderr",
     "output_type": "stream",
     "text": [
      "/tmp/ipykernel_18148/1266505323.py:8: DtypeWarning: Columns (7) have mixed types. Specify dtype option on import or set low_memory=False.\n",
      "  for chunk in pd.read_csv(\"/home/charlie/Desktop/master_data.csv\", chunksize=chunk_size):\n"
     ]
    },
    {
     "name": "stdout",
     "output_type": "stream",
     "text": [
      "Missing columns in this chunk: {'tunnel_parents   label   detailed-label'}\n",
      "Missing columns in this chunk: {'tunnel_parents   label   detailed-label'}\n",
      "Missing columns in this chunk: {'tunnel_parents   label   detailed-label'}\n"
     ]
    },
    {
     "name": "stderr",
     "output_type": "stream",
     "text": [
      "/tmp/ipykernel_18148/1266505323.py:8: DtypeWarning: Columns (7) have mixed types. Specify dtype option on import or set low_memory=False.\n",
      "  for chunk in pd.read_csv(\"/home/charlie/Desktop/master_data.csv\", chunksize=chunk_size):\n"
     ]
    },
    {
     "name": "stdout",
     "output_type": "stream",
     "text": [
      "Missing columns in this chunk: {'tunnel_parents   label   detailed-label'}\n",
      "Missing columns in this chunk: {'tunnel_parents   label   detailed-label'}\n",
      "Missing columns in this chunk: {'tunnel_parents   label   detailed-label'}\n",
      "Missing columns in this chunk: {'tunnel_parents   label   detailed-label'}\n",
      "Missing columns in this chunk: {'tunnel_parents   label   detailed-label'}\n",
      "Missing columns in this chunk: {'tunnel_parents   label   detailed-label'}\n",
      "Missing columns in this chunk: {'tunnel_parents   label   detailed-label'}\n",
      "Missing columns in this chunk: {'tunnel_parents   label   detailed-label'}\n",
      "Missing columns in this chunk: {'tunnel_parents   label   detailed-label'}\n",
      "Missing columns in this chunk: {'tunnel_parents   label   detailed-label'}\n",
      "Missing columns in this chunk: {'tunnel_parents   label   detailed-label'}\n",
      "Missing columns in this chunk: {'tunnel_parents   label   detailed-label'}\n",
      "Missing columns in this chunk: {'tunnel_parents   label   detailed-label'}\n",
      "Missing columns in this chunk: {'tunnel_parents   label   detailed-label'}\n",
      "Missing columns in this chunk: {'tunnel_parents   label   detailed-label'}\n",
      "Missing columns in this chunk: {'tunnel_parents   label   detailed-label'}\n",
      "Missing columns in this chunk: {'tunnel_parents   label   detailed-label'}\n",
      "Missing columns in this chunk: {'tunnel_parents   label   detailed-label'}\n",
      "Missing columns in this chunk: {'tunnel_parents   label   detailed-label'}\n",
      "Missing columns in this chunk: {'tunnel_parents   label   detailed-label'}\n",
      "Missing columns in this chunk: {'tunnel_parents   label   detailed-label'}\n",
      "Missing columns in this chunk: {'tunnel_parents   label   detailed-label'}\n",
      "Missing columns in this chunk: {'tunnel_parents   label   detailed-label'}\n",
      "Missing columns in this chunk: {'tunnel_parents   label   detailed-label'}\n"
     ]
    },
    {
     "name": "stderr",
     "output_type": "stream",
     "text": [
      "/tmp/ipykernel_18148/1266505323.py:8: DtypeWarning: Columns (7) have mixed types. Specify dtype option on import or set low_memory=False.\n",
      "  for chunk in pd.read_csv(\"/home/charlie/Desktop/master_data.csv\", chunksize=chunk_size):\n",
      "/tmp/ipykernel_18148/1266505323.py:8: DtypeWarning: Columns (7) have mixed types. Specify dtype option on import or set low_memory=False.\n",
      "  for chunk in pd.read_csv(\"/home/charlie/Desktop/master_data.csv\", chunksize=chunk_size):\n"
     ]
    },
    {
     "name": "stdout",
     "output_type": "stream",
     "text": [
      "Missing columns in this chunk: {'tunnel_parents   label   detailed-label'}\n",
      "Missing columns in this chunk: {'tunnel_parents   label   detailed-label'}\n"
     ]
    },
    {
     "name": "stderr",
     "output_type": "stream",
     "text": [
      "/tmp/ipykernel_18148/1266505323.py:8: DtypeWarning: Columns (7) have mixed types. Specify dtype option on import or set low_memory=False.\n",
      "  for chunk in pd.read_csv(\"/home/charlie/Desktop/master_data.csv\", chunksize=chunk_size):\n",
      "/tmp/ipykernel_18148/1266505323.py:8: DtypeWarning: Columns (7) have mixed types. Specify dtype option on import or set low_memory=False.\n",
      "  for chunk in pd.read_csv(\"/home/charlie/Desktop/master_data.csv\", chunksize=chunk_size):\n"
     ]
    },
    {
     "name": "stdout",
     "output_type": "stream",
     "text": [
      "Missing columns in this chunk: {'tunnel_parents   label   detailed-label'}\n",
      "Missing columns in this chunk: {'tunnel_parents   label   detailed-label'}\n"
     ]
    },
    {
     "name": "stderr",
     "output_type": "stream",
     "text": [
      "/tmp/ipykernel_18148/1266505323.py:8: DtypeWarning: Columns (7) have mixed types. Specify dtype option on import or set low_memory=False.\n",
      "  for chunk in pd.read_csv(\"/home/charlie/Desktop/master_data.csv\", chunksize=chunk_size):\n",
      "/tmp/ipykernel_18148/1266505323.py:8: DtypeWarning: Columns (7) have mixed types. Specify dtype option on import or set low_memory=False.\n",
      "  for chunk in pd.read_csv(\"/home/charlie/Desktop/master_data.csv\", chunksize=chunk_size):\n"
     ]
    },
    {
     "name": "stdout",
     "output_type": "stream",
     "text": [
      "Missing columns in this chunk: {'tunnel_parents   label   detailed-label'}\n",
      "Missing columns in this chunk: {'tunnel_parents   label   detailed-label'}\n"
     ]
    },
    {
     "name": "stderr",
     "output_type": "stream",
     "text": [
      "/tmp/ipykernel_18148/1266505323.py:8: DtypeWarning: Columns (7) have mixed types. Specify dtype option on import or set low_memory=False.\n",
      "  for chunk in pd.read_csv(\"/home/charlie/Desktop/master_data.csv\", chunksize=chunk_size):\n",
      "/tmp/ipykernel_18148/1266505323.py:8: DtypeWarning: Columns (7) have mixed types. Specify dtype option on import or set low_memory=False.\n",
      "  for chunk in pd.read_csv(\"/home/charlie/Desktop/master_data.csv\", chunksize=chunk_size):\n"
     ]
    },
    {
     "name": "stdout",
     "output_type": "stream",
     "text": [
      "Missing columns in this chunk: {'tunnel_parents   label   detailed-label'}\n",
      "Missing columns in this chunk: {'tunnel_parents   label   detailed-label'}\n"
     ]
    },
    {
     "name": "stderr",
     "output_type": "stream",
     "text": [
      "/tmp/ipykernel_18148/1266505323.py:8: DtypeWarning: Columns (7) have mixed types. Specify dtype option on import or set low_memory=False.\n",
      "  for chunk in pd.read_csv(\"/home/charlie/Desktop/master_data.csv\", chunksize=chunk_size):\n",
      "/tmp/ipykernel_18148/1266505323.py:8: DtypeWarning: Columns (7) have mixed types. Specify dtype option on import or set low_memory=False.\n",
      "  for chunk in pd.read_csv(\"/home/charlie/Desktop/master_data.csv\", chunksize=chunk_size):\n"
     ]
    },
    {
     "name": "stdout",
     "output_type": "stream",
     "text": [
      "Missing columns in this chunk: {'tunnel_parents   label   detailed-label'}\n",
      "Missing columns in this chunk: {'tunnel_parents   label   detailed-label'}\n"
     ]
    },
    {
     "name": "stderr",
     "output_type": "stream",
     "text": [
      "/tmp/ipykernel_18148/1266505323.py:8: DtypeWarning: Columns (7) have mixed types. Specify dtype option on import or set low_memory=False.\n",
      "  for chunk in pd.read_csv(\"/home/charlie/Desktop/master_data.csv\", chunksize=chunk_size):\n",
      "/tmp/ipykernel_18148/1266505323.py:8: DtypeWarning: Columns (7) have mixed types. Specify dtype option on import or set low_memory=False.\n",
      "  for chunk in pd.read_csv(\"/home/charlie/Desktop/master_data.csv\", chunksize=chunk_size):\n"
     ]
    },
    {
     "name": "stdout",
     "output_type": "stream",
     "text": [
      "Missing columns in this chunk: {'tunnel_parents   label   detailed-label'}\n",
      "Missing columns in this chunk: {'tunnel_parents   label   detailed-label'}\n"
     ]
    },
    {
     "name": "stderr",
     "output_type": "stream",
     "text": [
      "/tmp/ipykernel_18148/1266505323.py:8: DtypeWarning: Columns (7) have mixed types. Specify dtype option on import or set low_memory=False.\n",
      "  for chunk in pd.read_csv(\"/home/charlie/Desktop/master_data.csv\", chunksize=chunk_size):\n",
      "/tmp/ipykernel_18148/1266505323.py:8: DtypeWarning: Columns (7) have mixed types. Specify dtype option on import or set low_memory=False.\n",
      "  for chunk in pd.read_csv(\"/home/charlie/Desktop/master_data.csv\", chunksize=chunk_size):\n"
     ]
    },
    {
     "name": "stdout",
     "output_type": "stream",
     "text": [
      "Missing columns in this chunk: {'tunnel_parents   label   detailed-label'}\n",
      "Missing columns in this chunk: {'tunnel_parents   label   detailed-label'}\n"
     ]
    },
    {
     "name": "stderr",
     "output_type": "stream",
     "text": [
      "/tmp/ipykernel_18148/1266505323.py:8: DtypeWarning: Columns (7) have mixed types. Specify dtype option on import or set low_memory=False.\n",
      "  for chunk in pd.read_csv(\"/home/charlie/Desktop/master_data.csv\", chunksize=chunk_size):\n",
      "/tmp/ipykernel_18148/1266505323.py:8: DtypeWarning: Columns (7) have mixed types. Specify dtype option on import or set low_memory=False.\n",
      "  for chunk in pd.read_csv(\"/home/charlie/Desktop/master_data.csv\", chunksize=chunk_size):\n"
     ]
    },
    {
     "name": "stdout",
     "output_type": "stream",
     "text": [
      "Missing columns in this chunk: {'tunnel_parents   label   detailed-label'}\n",
      "Missing columns in this chunk: {'tunnel_parents   label   detailed-label'}\n"
     ]
    },
    {
     "name": "stderr",
     "output_type": "stream",
     "text": [
      "/tmp/ipykernel_18148/1266505323.py:8: DtypeWarning: Columns (7) have mixed types. Specify dtype option on import or set low_memory=False.\n",
      "  for chunk in pd.read_csv(\"/home/charlie/Desktop/master_data.csv\", chunksize=chunk_size):\n",
      "/tmp/ipykernel_18148/1266505323.py:8: DtypeWarning: Columns (7) have mixed types. Specify dtype option on import or set low_memory=False.\n",
      "  for chunk in pd.read_csv(\"/home/charlie/Desktop/master_data.csv\", chunksize=chunk_size):\n"
     ]
    },
    {
     "name": "stdout",
     "output_type": "stream",
     "text": [
      "Missing columns in this chunk: {'tunnel_parents   label   detailed-label'}\n",
      "Missing columns in this chunk: {'tunnel_parents   label   detailed-label'}\n"
     ]
    },
    {
     "name": "stderr",
     "output_type": "stream",
     "text": [
      "/tmp/ipykernel_18148/1266505323.py:8: DtypeWarning: Columns (7) have mixed types. Specify dtype option on import or set low_memory=False.\n",
      "  for chunk in pd.read_csv(\"/home/charlie/Desktop/master_data.csv\", chunksize=chunk_size):\n",
      "/tmp/ipykernel_18148/1266505323.py:8: DtypeWarning: Columns (7) have mixed types. Specify dtype option on import or set low_memory=False.\n",
      "  for chunk in pd.read_csv(\"/home/charlie/Desktop/master_data.csv\", chunksize=chunk_size):\n"
     ]
    },
    {
     "name": "stdout",
     "output_type": "stream",
     "text": [
      "Missing columns in this chunk: {'tunnel_parents   label   detailed-label'}\n",
      "Missing columns in this chunk: {'tunnel_parents   label   detailed-label'}\n"
     ]
    },
    {
     "name": "stderr",
     "output_type": "stream",
     "text": [
      "/tmp/ipykernel_18148/1266505323.py:8: DtypeWarning: Columns (7) have mixed types. Specify dtype option on import or set low_memory=False.\n",
      "  for chunk in pd.read_csv(\"/home/charlie/Desktop/master_data.csv\", chunksize=chunk_size):\n",
      "/tmp/ipykernel_18148/1266505323.py:8: DtypeWarning: Columns (7) have mixed types. Specify dtype option on import or set low_memory=False.\n",
      "  for chunk in pd.read_csv(\"/home/charlie/Desktop/master_data.csv\", chunksize=chunk_size):\n"
     ]
    },
    {
     "name": "stdout",
     "output_type": "stream",
     "text": [
      "Missing columns in this chunk: {'tunnel_parents   label   detailed-label'}\n",
      "Missing columns in this chunk: {'tunnel_parents   label   detailed-label'}\n"
     ]
    },
    {
     "name": "stderr",
     "output_type": "stream",
     "text": [
      "/tmp/ipykernel_18148/1266505323.py:8: DtypeWarning: Columns (7) have mixed types. Specify dtype option on import or set low_memory=False.\n",
      "  for chunk in pd.read_csv(\"/home/charlie/Desktop/master_data.csv\", chunksize=chunk_size):\n",
      "/tmp/ipykernel_18148/1266505323.py:8: DtypeWarning: Columns (7) have mixed types. Specify dtype option on import or set low_memory=False.\n",
      "  for chunk in pd.read_csv(\"/home/charlie/Desktop/master_data.csv\", chunksize=chunk_size):\n"
     ]
    },
    {
     "name": "stdout",
     "output_type": "stream",
     "text": [
      "Missing columns in this chunk: {'tunnel_parents   label   detailed-label'}\n",
      "Missing columns in this chunk: {'tunnel_parents   label   detailed-label'}\n"
     ]
    },
    {
     "name": "stderr",
     "output_type": "stream",
     "text": [
      "/tmp/ipykernel_18148/1266505323.py:8: DtypeWarning: Columns (7) have mixed types. Specify dtype option on import or set low_memory=False.\n",
      "  for chunk in pd.read_csv(\"/home/charlie/Desktop/master_data.csv\", chunksize=chunk_size):\n",
      "/tmp/ipykernel_18148/1266505323.py:8: DtypeWarning: Columns (7) have mixed types. Specify dtype option on import or set low_memory=False.\n",
      "  for chunk in pd.read_csv(\"/home/charlie/Desktop/master_data.csv\", chunksize=chunk_size):\n"
     ]
    },
    {
     "name": "stdout",
     "output_type": "stream",
     "text": [
      "Missing columns in this chunk: {'tunnel_parents   label   detailed-label'}\n",
      "Missing columns in this chunk: {'tunnel_parents   label   detailed-label'}\n"
     ]
    },
    {
     "name": "stderr",
     "output_type": "stream",
     "text": [
      "/tmp/ipykernel_18148/1266505323.py:8: DtypeWarning: Columns (7) have mixed types. Specify dtype option on import or set low_memory=False.\n",
      "  for chunk in pd.read_csv(\"/home/charlie/Desktop/master_data.csv\", chunksize=chunk_size):\n",
      "/tmp/ipykernel_18148/1266505323.py:8: DtypeWarning: Columns (7) have mixed types. Specify dtype option on import or set low_memory=False.\n",
      "  for chunk in pd.read_csv(\"/home/charlie/Desktop/master_data.csv\", chunksize=chunk_size):\n"
     ]
    },
    {
     "name": "stdout",
     "output_type": "stream",
     "text": [
      "Missing columns in this chunk: {'tunnel_parents   label   detailed-label'}\n",
      "Missing columns in this chunk: {'tunnel_parents   label   detailed-label'}\n"
     ]
    },
    {
     "name": "stderr",
     "output_type": "stream",
     "text": [
      "/tmp/ipykernel_18148/1266505323.py:8: DtypeWarning: Columns (7) have mixed types. Specify dtype option on import or set low_memory=False.\n",
      "  for chunk in pd.read_csv(\"/home/charlie/Desktop/master_data.csv\", chunksize=chunk_size):\n",
      "/tmp/ipykernel_18148/1266505323.py:8: DtypeWarning: Columns (7) have mixed types. Specify dtype option on import or set low_memory=False.\n",
      "  for chunk in pd.read_csv(\"/home/charlie/Desktop/master_data.csv\", chunksize=chunk_size):\n"
     ]
    },
    {
     "name": "stdout",
     "output_type": "stream",
     "text": [
      "Missing columns in this chunk: {'tunnel_parents   label   detailed-label'}\n",
      "Missing columns in this chunk: {'tunnel_parents   label   detailed-label'}\n"
     ]
    },
    {
     "name": "stderr",
     "output_type": "stream",
     "text": [
      "/tmp/ipykernel_18148/1266505323.py:8: DtypeWarning: Columns (7) have mixed types. Specify dtype option on import or set low_memory=False.\n",
      "  for chunk in pd.read_csv(\"/home/charlie/Desktop/master_data.csv\", chunksize=chunk_size):\n",
      "/tmp/ipykernel_18148/1266505323.py:8: DtypeWarning: Columns (7) have mixed types. Specify dtype option on import or set low_memory=False.\n",
      "  for chunk in pd.read_csv(\"/home/charlie/Desktop/master_data.csv\", chunksize=chunk_size):\n"
     ]
    },
    {
     "name": "stdout",
     "output_type": "stream",
     "text": [
      "Missing columns in this chunk: {'tunnel_parents   label   detailed-label'}\n",
      "Missing columns in this chunk: {'tunnel_parents   label   detailed-label'}\n"
     ]
    },
    {
     "name": "stderr",
     "output_type": "stream",
     "text": [
      "/tmp/ipykernel_18148/1266505323.py:8: DtypeWarning: Columns (7) have mixed types. Specify dtype option on import or set low_memory=False.\n",
      "  for chunk in pd.read_csv(\"/home/charlie/Desktop/master_data.csv\", chunksize=chunk_size):\n",
      "/tmp/ipykernel_18148/1266505323.py:8: DtypeWarning: Columns (7) have mixed types. Specify dtype option on import or set low_memory=False.\n",
      "  for chunk in pd.read_csv(\"/home/charlie/Desktop/master_data.csv\", chunksize=chunk_size):\n"
     ]
    },
    {
     "name": "stdout",
     "output_type": "stream",
     "text": [
      "Missing columns in this chunk: {'tunnel_parents   label   detailed-label'}\n",
      "Missing columns in this chunk: {'tunnel_parents   label   detailed-label'}\n"
     ]
    },
    {
     "name": "stderr",
     "output_type": "stream",
     "text": [
      "/tmp/ipykernel_18148/1266505323.py:8: DtypeWarning: Columns (7) have mixed types. Specify dtype option on import or set low_memory=False.\n",
      "  for chunk in pd.read_csv(\"/home/charlie/Desktop/master_data.csv\", chunksize=chunk_size):\n",
      "/tmp/ipykernel_18148/1266505323.py:8: DtypeWarning: Columns (7) have mixed types. Specify dtype option on import or set low_memory=False.\n",
      "  for chunk in pd.read_csv(\"/home/charlie/Desktop/master_data.csv\", chunksize=chunk_size):\n"
     ]
    },
    {
     "name": "stdout",
     "output_type": "stream",
     "text": [
      "Missing columns in this chunk: {'tunnel_parents   label   detailed-label'}\n",
      "Missing columns in this chunk: {'tunnel_parents   label   detailed-label'}\n"
     ]
    },
    {
     "name": "stderr",
     "output_type": "stream",
     "text": [
      "/tmp/ipykernel_18148/1266505323.py:8: DtypeWarning: Columns (7) have mixed types. Specify dtype option on import or set low_memory=False.\n",
      "  for chunk in pd.read_csv(\"/home/charlie/Desktop/master_data.csv\", chunksize=chunk_size):\n",
      "/tmp/ipykernel_18148/1266505323.py:8: DtypeWarning: Columns (7) have mixed types. Specify dtype option on import or set low_memory=False.\n",
      "  for chunk in pd.read_csv(\"/home/charlie/Desktop/master_data.csv\", chunksize=chunk_size):\n"
     ]
    },
    {
     "name": "stdout",
     "output_type": "stream",
     "text": [
      "Missing columns in this chunk: {'tunnel_parents   label   detailed-label'}\n",
      "Missing columns in this chunk: {'tunnel_parents   label   detailed-label'}\n"
     ]
    },
    {
     "name": "stderr",
     "output_type": "stream",
     "text": [
      "/tmp/ipykernel_18148/1266505323.py:8: DtypeWarning: Columns (7) have mixed types. Specify dtype option on import or set low_memory=False.\n",
      "  for chunk in pd.read_csv(\"/home/charlie/Desktop/master_data.csv\", chunksize=chunk_size):\n",
      "/tmp/ipykernel_18148/1266505323.py:8: DtypeWarning: Columns (7) have mixed types. Specify dtype option on import or set low_memory=False.\n",
      "  for chunk in pd.read_csv(\"/home/charlie/Desktop/master_data.csv\", chunksize=chunk_size):\n"
     ]
    },
    {
     "name": "stdout",
     "output_type": "stream",
     "text": [
      "Missing columns in this chunk: {'tunnel_parents   label   detailed-label'}\n",
      "Missing columns in this chunk: {'tunnel_parents   label   detailed-label'}\n"
     ]
    },
    {
     "name": "stderr",
     "output_type": "stream",
     "text": [
      "/tmp/ipykernel_18148/1266505323.py:8: DtypeWarning: Columns (7) have mixed types. Specify dtype option on import or set low_memory=False.\n",
      "  for chunk in pd.read_csv(\"/home/charlie/Desktop/master_data.csv\", chunksize=chunk_size):\n",
      "/tmp/ipykernel_18148/1266505323.py:8: DtypeWarning: Columns (7) have mixed types. Specify dtype option on import or set low_memory=False.\n",
      "  for chunk in pd.read_csv(\"/home/charlie/Desktop/master_data.csv\", chunksize=chunk_size):\n"
     ]
    },
    {
     "name": "stdout",
     "output_type": "stream",
     "text": [
      "Missing columns in this chunk: {'tunnel_parents   label   detailed-label'}\n",
      "Missing columns in this chunk: {'tunnel_parents   label   detailed-label'}\n"
     ]
    },
    {
     "name": "stderr",
     "output_type": "stream",
     "text": [
      "/tmp/ipykernel_18148/1266505323.py:8: DtypeWarning: Columns (7) have mixed types. Specify dtype option on import or set low_memory=False.\n",
      "  for chunk in pd.read_csv(\"/home/charlie/Desktop/master_data.csv\", chunksize=chunk_size):\n",
      "/tmp/ipykernel_18148/1266505323.py:8: DtypeWarning: Columns (7) have mixed types. Specify dtype option on import or set low_memory=False.\n",
      "  for chunk in pd.read_csv(\"/home/charlie/Desktop/master_data.csv\", chunksize=chunk_size):\n"
     ]
    },
    {
     "name": "stdout",
     "output_type": "stream",
     "text": [
      "Missing columns in this chunk: {'tunnel_parents   label   detailed-label'}\n",
      "Missing columns in this chunk: {'tunnel_parents   label   detailed-label'}\n"
     ]
    },
    {
     "name": "stderr",
     "output_type": "stream",
     "text": [
      "/tmp/ipykernel_18148/1266505323.py:8: DtypeWarning: Columns (7) have mixed types. Specify dtype option on import or set low_memory=False.\n",
      "  for chunk in pd.read_csv(\"/home/charlie/Desktop/master_data.csv\", chunksize=chunk_size):\n"
     ]
    },
    {
     "name": "stdout",
     "output_type": "stream",
     "text": [
      "Missing columns in this chunk: {'tunnel_parents   label   detailed-label'}\n",
      "Missing columns in this chunk: {'tunnel_parents   label   detailed-label'}\n"
     ]
    },
    {
     "name": "stderr",
     "output_type": "stream",
     "text": [
      "/tmp/ipykernel_18148/1266505323.py:8: DtypeWarning: Columns (7) have mixed types. Specify dtype option on import or set low_memory=False.\n",
      "  for chunk in pd.read_csv(\"/home/charlie/Desktop/master_data.csv\", chunksize=chunk_size):\n",
      "/tmp/ipykernel_18148/1266505323.py:8: DtypeWarning: Columns (7) have mixed types. Specify dtype option on import or set low_memory=False.\n",
      "  for chunk in pd.read_csv(\"/home/charlie/Desktop/master_data.csv\", chunksize=chunk_size):\n"
     ]
    },
    {
     "name": "stdout",
     "output_type": "stream",
     "text": [
      "Missing columns in this chunk: {'tunnel_parents   label   detailed-label'}\n",
      "Missing columns in this chunk: {'tunnel_parents   label   detailed-label'}\n"
     ]
    },
    {
     "name": "stderr",
     "output_type": "stream",
     "text": [
      "/tmp/ipykernel_18148/1266505323.py:8: DtypeWarning: Columns (7) have mixed types. Specify dtype option on import or set low_memory=False.\n",
      "  for chunk in pd.read_csv(\"/home/charlie/Desktop/master_data.csv\", chunksize=chunk_size):\n",
      "/tmp/ipykernel_18148/1266505323.py:8: DtypeWarning: Columns (7) have mixed types. Specify dtype option on import or set low_memory=False.\n",
      "  for chunk in pd.read_csv(\"/home/charlie/Desktop/master_data.csv\", chunksize=chunk_size):\n"
     ]
    },
    {
     "name": "stdout",
     "output_type": "stream",
     "text": [
      "Missing columns in this chunk: {'tunnel_parents   label   detailed-label'}\n",
      "Missing columns in this chunk: {'tunnel_parents   label   detailed-label'}\n"
     ]
    },
    {
     "name": "stderr",
     "output_type": "stream",
     "text": [
      "/tmp/ipykernel_18148/1266505323.py:8: DtypeWarning: Columns (7) have mixed types. Specify dtype option on import or set low_memory=False.\n",
      "  for chunk in pd.read_csv(\"/home/charlie/Desktop/master_data.csv\", chunksize=chunk_size):\n",
      "/tmp/ipykernel_18148/1266505323.py:8: DtypeWarning: Columns (7) have mixed types. Specify dtype option on import or set low_memory=False.\n",
      "  for chunk in pd.read_csv(\"/home/charlie/Desktop/master_data.csv\", chunksize=chunk_size):\n"
     ]
    },
    {
     "name": "stdout",
     "output_type": "stream",
     "text": [
      "Missing columns in this chunk: {'tunnel_parents   label   detailed-label'}\n",
      "Missing columns in this chunk: {'tunnel_parents   label   detailed-label'}\n"
     ]
    },
    {
     "name": "stderr",
     "output_type": "stream",
     "text": [
      "/tmp/ipykernel_18148/1266505323.py:8: DtypeWarning: Columns (7) have mixed types. Specify dtype option on import or set low_memory=False.\n",
      "  for chunk in pd.read_csv(\"/home/charlie/Desktop/master_data.csv\", chunksize=chunk_size):\n",
      "/tmp/ipykernel_18148/1266505323.py:8: DtypeWarning: Columns (7) have mixed types. Specify dtype option on import or set low_memory=False.\n",
      "  for chunk in pd.read_csv(\"/home/charlie/Desktop/master_data.csv\", chunksize=chunk_size):\n"
     ]
    },
    {
     "name": "stdout",
     "output_type": "stream",
     "text": [
      "Missing columns in this chunk: {'tunnel_parents   label   detailed-label'}\n",
      "Missing columns in this chunk: {'tunnel_parents   label   detailed-label'}\n"
     ]
    },
    {
     "name": "stderr",
     "output_type": "stream",
     "text": [
      "/tmp/ipykernel_18148/1266505323.py:8: DtypeWarning: Columns (7) have mixed types. Specify dtype option on import or set low_memory=False.\n",
      "  for chunk in pd.read_csv(\"/home/charlie/Desktop/master_data.csv\", chunksize=chunk_size):\n",
      "/tmp/ipykernel_18148/1266505323.py:8: DtypeWarning: Columns (7) have mixed types. Specify dtype option on import or set low_memory=False.\n",
      "  for chunk in pd.read_csv(\"/home/charlie/Desktop/master_data.csv\", chunksize=chunk_size):\n"
     ]
    },
    {
     "name": "stdout",
     "output_type": "stream",
     "text": [
      "Missing columns in this chunk: {'tunnel_parents   label   detailed-label'}\n",
      "Missing columns in this chunk: {'tunnel_parents   label   detailed-label'}\n"
     ]
    },
    {
     "name": "stderr",
     "output_type": "stream",
     "text": [
      "/tmp/ipykernel_18148/1266505323.py:8: DtypeWarning: Columns (7) have mixed types. Specify dtype option on import or set low_memory=False.\n",
      "  for chunk in pd.read_csv(\"/home/charlie/Desktop/master_data.csv\", chunksize=chunk_size):\n",
      "/tmp/ipykernel_18148/1266505323.py:8: DtypeWarning: Columns (7) have mixed types. Specify dtype option on import or set low_memory=False.\n",
      "  for chunk in pd.read_csv(\"/home/charlie/Desktop/master_data.csv\", chunksize=chunk_size):\n"
     ]
    },
    {
     "name": "stdout",
     "output_type": "stream",
     "text": [
      "Missing columns in this chunk: {'tunnel_parents   label   detailed-label'}\n",
      "Missing columns in this chunk: {'tunnel_parents   label   detailed-label'}\n"
     ]
    },
    {
     "name": "stderr",
     "output_type": "stream",
     "text": [
      "/tmp/ipykernel_18148/1266505323.py:8: DtypeWarning: Columns (7) have mixed types. Specify dtype option on import or set low_memory=False.\n",
      "  for chunk in pd.read_csv(\"/home/charlie/Desktop/master_data.csv\", chunksize=chunk_size):\n"
     ]
    },
    {
     "name": "stdout",
     "output_type": "stream",
     "text": [
      "Missing columns in this chunk: {'tunnel_parents   label   detailed-label'}\n",
      "Missing columns in this chunk: {'tunnel_parents   label   detailed-label'}\n",
      "Missing columns in this chunk: {'tunnel_parents   label   detailed-label'}\n"
     ]
    },
    {
     "name": "stderr",
     "output_type": "stream",
     "text": [
      "/tmp/ipykernel_18148/1266505323.py:8: DtypeWarning: Columns (7) have mixed types. Specify dtype option on import or set low_memory=False.\n",
      "  for chunk in pd.read_csv(\"/home/charlie/Desktop/master_data.csv\", chunksize=chunk_size):\n"
     ]
    },
    {
     "name": "stdout",
     "output_type": "stream",
     "text": [
      "Missing columns in this chunk: {'tunnel_parents   label   detailed-label'}\n",
      "Missing columns in this chunk: {'tunnel_parents   label   detailed-label'}\n",
      "Missing columns in this chunk: {'tunnel_parents   label   detailed-label'}\n",
      "Missing columns in this chunk: {'tunnel_parents   label   detailed-label'}\n",
      "Missing columns in this chunk: {'tunnel_parents   label   detailed-label'}\n",
      "Missing columns in this chunk: {'tunnel_parents   label   detailed-label'}\n",
      "Missing columns in this chunk: {'tunnel_parents   label   detailed-label'}\n",
      "Missing columns in this chunk: {'tunnel_parents   label   detailed-label'}\n"
     ]
    },
    {
     "name": "stderr",
     "output_type": "stream",
     "text": [
      "/tmp/ipykernel_18148/1266505323.py:8: DtypeWarning: Columns (7) have mixed types. Specify dtype option on import or set low_memory=False.\n",
      "  for chunk in pd.read_csv(\"/home/charlie/Desktop/master_data.csv\", chunksize=chunk_size):\n",
      "/tmp/ipykernel_18148/1266505323.py:8: DtypeWarning: Columns (7) have mixed types. Specify dtype option on import or set low_memory=False.\n",
      "  for chunk in pd.read_csv(\"/home/charlie/Desktop/master_data.csv\", chunksize=chunk_size):\n"
     ]
    },
    {
     "name": "stdout",
     "output_type": "stream",
     "text": [
      "Missing columns in this chunk: {'tunnel_parents   label   detailed-label'}\n",
      "Missing columns in this chunk: {'tunnel_parents   label   detailed-label'}\n",
      "Missing columns in this chunk: {'tunnel_parents   label   detailed-label'}\n",
      "Missing columns in this chunk: {'tunnel_parents   label   detailed-label'}\n",
      "Missing columns in this chunk: {'tunnel_parents   label   detailed-label'}\n"
     ]
    },
    {
     "name": "stderr",
     "output_type": "stream",
     "text": [
      "/tmp/ipykernel_18148/1266505323.py:8: DtypeWarning: Columns (7) have mixed types. Specify dtype option on import or set low_memory=False.\n",
      "  for chunk in pd.read_csv(\"/home/charlie/Desktop/master_data.csv\", chunksize=chunk_size):\n"
     ]
    },
    {
     "name": "stdout",
     "output_type": "stream",
     "text": [
      "Missing columns in this chunk: {'tunnel_parents   label   detailed-label'}\n",
      "Missing columns in this chunk: {'tunnel_parents   label   detailed-label'}\n",
      "Missing columns in this chunk: {'tunnel_parents   label   detailed-label'}\n",
      "Missing columns in this chunk: {'tunnel_parents   label   detailed-label'}\n"
     ]
    },
    {
     "name": "stderr",
     "output_type": "stream",
     "text": [
      "/tmp/ipykernel_18148/1266505323.py:8: DtypeWarning: Columns (7) have mixed types. Specify dtype option on import or set low_memory=False.\n",
      "  for chunk in pd.read_csv(\"/home/charlie/Desktop/master_data.csv\", chunksize=chunk_size):\n"
     ]
    },
    {
     "name": "stdout",
     "output_type": "stream",
     "text": [
      "Missing columns in this chunk: {'tunnel_parents   label   detailed-label'}\n",
      "Missing columns in this chunk: {'tunnel_parents   label   detailed-label'}\n",
      "Missing columns in this chunk: {'tunnel_parents   label   detailed-label'}\n"
     ]
    },
    {
     "name": "stderr",
     "output_type": "stream",
     "text": [
      "/tmp/ipykernel_18148/1266505323.py:8: DtypeWarning: Columns (7) have mixed types. Specify dtype option on import or set low_memory=False.\n",
      "  for chunk in pd.read_csv(\"/home/charlie/Desktop/master_data.csv\", chunksize=chunk_size):\n"
     ]
    },
    {
     "name": "stdout",
     "output_type": "stream",
     "text": [
      "Missing columns in this chunk: {'tunnel_parents   label   detailed-label'}\n",
      "Missing columns in this chunk: {'tunnel_parents   label   detailed-label'}\n"
     ]
    },
    {
     "name": "stderr",
     "output_type": "stream",
     "text": [
      "/tmp/ipykernel_18148/1266505323.py:8: DtypeWarning: Columns (7) have mixed types. Specify dtype option on import or set low_memory=False.\n",
      "  for chunk in pd.read_csv(\"/home/charlie/Desktop/master_data.csv\", chunksize=chunk_size):\n",
      "/tmp/ipykernel_18148/1266505323.py:8: DtypeWarning: Columns (7) have mixed types. Specify dtype option on import or set low_memory=False.\n",
      "  for chunk in pd.read_csv(\"/home/charlie/Desktop/master_data.csv\", chunksize=chunk_size):\n"
     ]
    },
    {
     "name": "stdout",
     "output_type": "stream",
     "text": [
      "Missing columns in this chunk: {'tunnel_parents   label   detailed-label'}\n",
      "Missing columns in this chunk: {'tunnel_parents   label   detailed-label'}\n",
      "Missing columns in this chunk: {'tunnel_parents   label   detailed-label'}\n"
     ]
    },
    {
     "name": "stderr",
     "output_type": "stream",
     "text": [
      "/tmp/ipykernel_18148/1266505323.py:8: DtypeWarning: Columns (7) have mixed types. Specify dtype option on import or set low_memory=False.\n",
      "  for chunk in pd.read_csv(\"/home/charlie/Desktop/master_data.csv\", chunksize=chunk_size):\n",
      "/tmp/ipykernel_18148/1266505323.py:8: DtypeWarning: Columns (7) have mixed types. Specify dtype option on import or set low_memory=False.\n",
      "  for chunk in pd.read_csv(\"/home/charlie/Desktop/master_data.csv\", chunksize=chunk_size):\n"
     ]
    },
    {
     "name": "stdout",
     "output_type": "stream",
     "text": [
      "Missing columns in this chunk: {'tunnel_parents   label   detailed-label'}\n",
      "Missing columns in this chunk: {'tunnel_parents   label   detailed-label'}\n",
      "Missing columns in this chunk: {'tunnel_parents   label   detailed-label'}\n",
      "Missing columns in this chunk: {'tunnel_parents   label   detailed-label'}\n"
     ]
    },
    {
     "name": "stderr",
     "output_type": "stream",
     "text": [
      "/tmp/ipykernel_18148/1266505323.py:8: DtypeWarning: Columns (7) have mixed types. Specify dtype option on import or set low_memory=False.\n",
      "  for chunk in pd.read_csv(\"/home/charlie/Desktop/master_data.csv\", chunksize=chunk_size):\n"
     ]
    },
    {
     "name": "stdout",
     "output_type": "stream",
     "text": [
      "Missing columns in this chunk: {'tunnel_parents   label   detailed-label'}\n",
      "Missing columns in this chunk: {'tunnel_parents   label   detailed-label'}\n",
      "Missing columns in this chunk: {'tunnel_parents   label   detailed-label'}\n"
     ]
    },
    {
     "name": "stderr",
     "output_type": "stream",
     "text": [
      "/tmp/ipykernel_18148/1266505323.py:8: DtypeWarning: Columns (7) have mixed types. Specify dtype option on import or set low_memory=False.\n",
      "  for chunk in pd.read_csv(\"/home/charlie/Desktop/master_data.csv\", chunksize=chunk_size):\n",
      "/tmp/ipykernel_18148/1266505323.py:8: DtypeWarning: Columns (7) have mixed types. Specify dtype option on import or set low_memory=False.\n",
      "  for chunk in pd.read_csv(\"/home/charlie/Desktop/master_data.csv\", chunksize=chunk_size):\n"
     ]
    },
    {
     "name": "stdout",
     "output_type": "stream",
     "text": [
      "Missing columns in this chunk: {'tunnel_parents   label   detailed-label'}\n",
      "Missing columns in this chunk: {'tunnel_parents   label   detailed-label'}\n"
     ]
    },
    {
     "name": "stderr",
     "output_type": "stream",
     "text": [
      "/tmp/ipykernel_18148/1266505323.py:8: DtypeWarning: Columns (7) have mixed types. Specify dtype option on import or set low_memory=False.\n",
      "  for chunk in pd.read_csv(\"/home/charlie/Desktop/master_data.csv\", chunksize=chunk_size):\n"
     ]
    },
    {
     "name": "stdout",
     "output_type": "stream",
     "text": [
      "Missing columns in this chunk: {'tunnel_parents   label   detailed-label'}\n",
      "Missing columns in this chunk: {'tunnel_parents   label   detailed-label'}\n",
      "Missing columns in this chunk: {'tunnel_parents   label   detailed-label'}\n",
      "Missing columns in this chunk: {'tunnel_parents   label   detailed-label'}\n"
     ]
    },
    {
     "name": "stderr",
     "output_type": "stream",
     "text": [
      "/tmp/ipykernel_18148/1266505323.py:8: DtypeWarning: Columns (7) have mixed types. Specify dtype option on import or set low_memory=False.\n",
      "  for chunk in pd.read_csv(\"/home/charlie/Desktop/master_data.csv\", chunksize=chunk_size):\n"
     ]
    },
    {
     "name": "stdout",
     "output_type": "stream",
     "text": [
      "Missing columns in this chunk: {'tunnel_parents   label   detailed-label'}\n",
      "Missing columns in this chunk: {'tunnel_parents   label   detailed-label'}\n"
     ]
    },
    {
     "name": "stderr",
     "output_type": "stream",
     "text": [
      "/tmp/ipykernel_18148/1266505323.py:8: DtypeWarning: Columns (7) have mixed types. Specify dtype option on import or set low_memory=False.\n",
      "  for chunk in pd.read_csv(\"/home/charlie/Desktop/master_data.csv\", chunksize=chunk_size):\n"
     ]
    },
    {
     "name": "stdout",
     "output_type": "stream",
     "text": [
      "Missing columns in this chunk: {'tunnel_parents   label   detailed-label'}\n",
      "Missing columns in this chunk: {'tunnel_parents   label   detailed-label'}\n",
      "Missing columns in this chunk: {'tunnel_parents   label   detailed-label'}\n",
      "Missing columns in this chunk: {'tunnel_parents   label   detailed-label'}\n"
     ]
    },
    {
     "name": "stderr",
     "output_type": "stream",
     "text": [
      "/tmp/ipykernel_18148/1266505323.py:8: DtypeWarning: Columns (7) have mixed types. Specify dtype option on import or set low_memory=False.\n",
      "  for chunk in pd.read_csv(\"/home/charlie/Desktop/master_data.csv\", chunksize=chunk_size):\n"
     ]
    },
    {
     "name": "stdout",
     "output_type": "stream",
     "text": [
      "Missing columns in this chunk: {'tunnel_parents   label   detailed-label'}\n",
      "Missing columns in this chunk: {'tunnel_parents   label   detailed-label'}\n",
      "Missing columns in this chunk: {'tunnel_parents   label   detailed-label'}\n"
     ]
    },
    {
     "name": "stderr",
     "output_type": "stream",
     "text": [
      "/tmp/ipykernel_18148/1266505323.py:8: DtypeWarning: Columns (7) have mixed types. Specify dtype option on import or set low_memory=False.\n",
      "  for chunk in pd.read_csv(\"/home/charlie/Desktop/master_data.csv\", chunksize=chunk_size):\n",
      "/tmp/ipykernel_18148/1266505323.py:8: DtypeWarning: Columns (7) have mixed types. Specify dtype option on import or set low_memory=False.\n",
      "  for chunk in pd.read_csv(\"/home/charlie/Desktop/master_data.csv\", chunksize=chunk_size):\n"
     ]
    },
    {
     "name": "stdout",
     "output_type": "stream",
     "text": [
      "Missing columns in this chunk: {'tunnel_parents   label   detailed-label'}\n",
      "Missing columns in this chunk: {'tunnel_parents   label   detailed-label'}\n"
     ]
    },
    {
     "name": "stderr",
     "output_type": "stream",
     "text": [
      "/tmp/ipykernel_18148/1266505323.py:8: DtypeWarning: Columns (7) have mixed types. Specify dtype option on import or set low_memory=False.\n",
      "  for chunk in pd.read_csv(\"/home/charlie/Desktop/master_data.csv\", chunksize=chunk_size):\n"
     ]
    },
    {
     "name": "stdout",
     "output_type": "stream",
     "text": [
      "Missing columns in this chunk: {'tunnel_parents   label   detailed-label'}\n",
      "Missing columns in this chunk: {'tunnel_parents   label   detailed-label'}\n",
      "Missing columns in this chunk: {'tunnel_parents   label   detailed-label'}\n",
      "Missing columns in this chunk: {'tunnel_parents   label   detailed-label'}\n",
      "Missing columns in this chunk: {'tunnel_parents   label   detailed-label'}\n",
      "Missing columns in this chunk: {'tunnel_parents   label   detailed-label'}\n",
      "Missing columns in this chunk: {'tunnel_parents   label   detailed-label'}\n",
      "Missing columns in this chunk: {'tunnel_parents   label   detailed-label'}\n",
      "Missing columns in this chunk: {'tunnel_parents   label   detailed-label'}\n",
      "Missing columns in this chunk: {'tunnel_parents   label   detailed-label'}\n"
     ]
    },
    {
     "name": "stderr",
     "output_type": "stream",
     "text": [
      "/tmp/ipykernel_18148/1266505323.py:8: DtypeWarning: Columns (7) have mixed types. Specify dtype option on import or set low_memory=False.\n",
      "  for chunk in pd.read_csv(\"/home/charlie/Desktop/master_data.csv\", chunksize=chunk_size):\n",
      "/tmp/ipykernel_18148/1266505323.py:8: DtypeWarning: Columns (7) have mixed types. Specify dtype option on import or set low_memory=False.\n",
      "  for chunk in pd.read_csv(\"/home/charlie/Desktop/master_data.csv\", chunksize=chunk_size):\n"
     ]
    },
    {
     "name": "stdout",
     "output_type": "stream",
     "text": [
      "Missing columns in this chunk: {'tunnel_parents   label   detailed-label'}\n",
      "Missing columns in this chunk: {'tunnel_parents   label   detailed-label'}\n"
     ]
    },
    {
     "name": "stderr",
     "output_type": "stream",
     "text": [
      "/tmp/ipykernel_18148/1266505323.py:8: DtypeWarning: Columns (7) have mixed types. Specify dtype option on import or set low_memory=False.\n",
      "  for chunk in pd.read_csv(\"/home/charlie/Desktop/master_data.csv\", chunksize=chunk_size):\n",
      "/tmp/ipykernel_18148/1266505323.py:8: DtypeWarning: Columns (7) have mixed types. Specify dtype option on import or set low_memory=False.\n",
      "  for chunk in pd.read_csv(\"/home/charlie/Desktop/master_data.csv\", chunksize=chunk_size):\n"
     ]
    },
    {
     "name": "stdout",
     "output_type": "stream",
     "text": [
      "Missing columns in this chunk: {'tunnel_parents   label   detailed-label'}\n",
      "Missing columns in this chunk: {'tunnel_parents   label   detailed-label'}\n"
     ]
    },
    {
     "name": "stderr",
     "output_type": "stream",
     "text": [
      "/tmp/ipykernel_18148/1266505323.py:8: DtypeWarning: Columns (7) have mixed types. Specify dtype option on import or set low_memory=False.\n",
      "  for chunk in pd.read_csv(\"/home/charlie/Desktop/master_data.csv\", chunksize=chunk_size):\n",
      "/tmp/ipykernel_18148/1266505323.py:8: DtypeWarning: Columns (7) have mixed types. Specify dtype option on import or set low_memory=False.\n",
      "  for chunk in pd.read_csv(\"/home/charlie/Desktop/master_data.csv\", chunksize=chunk_size):\n"
     ]
    },
    {
     "name": "stdout",
     "output_type": "stream",
     "text": [
      "Missing columns in this chunk: {'tunnel_parents   label   detailed-label'}\n",
      "Missing columns in this chunk: {'tunnel_parents   label   detailed-label'}\n"
     ]
    },
    {
     "name": "stderr",
     "output_type": "stream",
     "text": [
      "/tmp/ipykernel_18148/1266505323.py:8: DtypeWarning: Columns (7) have mixed types. Specify dtype option on import or set low_memory=False.\n",
      "  for chunk in pd.read_csv(\"/home/charlie/Desktop/master_data.csv\", chunksize=chunk_size):\n",
      "/tmp/ipykernel_18148/1266505323.py:8: DtypeWarning: Columns (7) have mixed types. Specify dtype option on import or set low_memory=False.\n",
      "  for chunk in pd.read_csv(\"/home/charlie/Desktop/master_data.csv\", chunksize=chunk_size):\n"
     ]
    },
    {
     "name": "stdout",
     "output_type": "stream",
     "text": [
      "Missing columns in this chunk: {'tunnel_parents   label   detailed-label'}\n",
      "Missing columns in this chunk: {'tunnel_parents   label   detailed-label'}\n"
     ]
    },
    {
     "name": "stderr",
     "output_type": "stream",
     "text": [
      "/tmp/ipykernel_18148/1266505323.py:8: DtypeWarning: Columns (7) have mixed types. Specify dtype option on import or set low_memory=False.\n",
      "  for chunk in pd.read_csv(\"/home/charlie/Desktop/master_data.csv\", chunksize=chunk_size):\n",
      "/tmp/ipykernel_18148/1266505323.py:8: DtypeWarning: Columns (7) have mixed types. Specify dtype option on import or set low_memory=False.\n",
      "  for chunk in pd.read_csv(\"/home/charlie/Desktop/master_data.csv\", chunksize=chunk_size):\n"
     ]
    },
    {
     "name": "stdout",
     "output_type": "stream",
     "text": [
      "Missing columns in this chunk: {'tunnel_parents   label   detailed-label'}\n",
      "Missing columns in this chunk: {'tunnel_parents   label   detailed-label'}\n"
     ]
    },
    {
     "name": "stderr",
     "output_type": "stream",
     "text": [
      "/tmp/ipykernel_18148/1266505323.py:8: DtypeWarning: Columns (7) have mixed types. Specify dtype option on import or set low_memory=False.\n",
      "  for chunk in pd.read_csv(\"/home/charlie/Desktop/master_data.csv\", chunksize=chunk_size):\n"
     ]
    },
    {
     "name": "stdout",
     "output_type": "stream",
     "text": [
      "Missing columns in this chunk: {'tunnel_parents   label   detailed-label'}\n",
      "Missing columns in this chunk: {'tunnel_parents   label   detailed-label'}\n"
     ]
    },
    {
     "name": "stderr",
     "output_type": "stream",
     "text": [
      "/tmp/ipykernel_18148/1266505323.py:8: DtypeWarning: Columns (7) have mixed types. Specify dtype option on import or set low_memory=False.\n",
      "  for chunk in pd.read_csv(\"/home/charlie/Desktop/master_data.csv\", chunksize=chunk_size):\n",
      "/tmp/ipykernel_18148/1266505323.py:8: DtypeWarning: Columns (7) have mixed types. Specify dtype option on import or set low_memory=False.\n",
      "  for chunk in pd.read_csv(\"/home/charlie/Desktop/master_data.csv\", chunksize=chunk_size):\n"
     ]
    },
    {
     "name": "stdout",
     "output_type": "stream",
     "text": [
      "Missing columns in this chunk: {'tunnel_parents   label   detailed-label'}\n",
      "Missing columns in this chunk: {'tunnel_parents   label   detailed-label'}\n"
     ]
    },
    {
     "name": "stderr",
     "output_type": "stream",
     "text": [
      "/tmp/ipykernel_18148/1266505323.py:8: DtypeWarning: Columns (7) have mixed types. Specify dtype option on import or set low_memory=False.\n",
      "  for chunk in pd.read_csv(\"/home/charlie/Desktop/master_data.csv\", chunksize=chunk_size):\n",
      "/tmp/ipykernel_18148/1266505323.py:8: DtypeWarning: Columns (7) have mixed types. Specify dtype option on import or set low_memory=False.\n",
      "  for chunk in pd.read_csv(\"/home/charlie/Desktop/master_data.csv\", chunksize=chunk_size):\n"
     ]
    },
    {
     "name": "stdout",
     "output_type": "stream",
     "text": [
      "Missing columns in this chunk: {'tunnel_parents   label   detailed-label'}\n",
      "Missing columns in this chunk: {'tunnel_parents   label   detailed-label'}\n"
     ]
    },
    {
     "name": "stderr",
     "output_type": "stream",
     "text": [
      "/tmp/ipykernel_18148/1266505323.py:8: DtypeWarning: Columns (7) have mixed types. Specify dtype option on import or set low_memory=False.\n",
      "  for chunk in pd.read_csv(\"/home/charlie/Desktop/master_data.csv\", chunksize=chunk_size):\n",
      "/tmp/ipykernel_18148/1266505323.py:8: DtypeWarning: Columns (7) have mixed types. Specify dtype option on import or set low_memory=False.\n",
      "  for chunk in pd.read_csv(\"/home/charlie/Desktop/master_data.csv\", chunksize=chunk_size):\n"
     ]
    },
    {
     "name": "stdout",
     "output_type": "stream",
     "text": [
      "Missing columns in this chunk: {'tunnel_parents   label   detailed-label'}\n",
      "Missing columns in this chunk: {'tunnel_parents   label   detailed-label'}\n"
     ]
    },
    {
     "name": "stderr",
     "output_type": "stream",
     "text": [
      "/tmp/ipykernel_18148/1266505323.py:8: DtypeWarning: Columns (7) have mixed types. Specify dtype option on import or set low_memory=False.\n",
      "  for chunk in pd.read_csv(\"/home/charlie/Desktop/master_data.csv\", chunksize=chunk_size):\n",
      "/tmp/ipykernel_18148/1266505323.py:8: DtypeWarning: Columns (7) have mixed types. Specify dtype option on import or set low_memory=False.\n",
      "  for chunk in pd.read_csv(\"/home/charlie/Desktop/master_data.csv\", chunksize=chunk_size):\n"
     ]
    },
    {
     "name": "stdout",
     "output_type": "stream",
     "text": [
      "Missing columns in this chunk: {'tunnel_parents   label   detailed-label'}\n",
      "Missing columns in this chunk: {'tunnel_parents   label   detailed-label'}\n"
     ]
    },
    {
     "name": "stderr",
     "output_type": "stream",
     "text": [
      "/tmp/ipykernel_18148/1266505323.py:8: DtypeWarning: Columns (7) have mixed types. Specify dtype option on import or set low_memory=False.\n",
      "  for chunk in pd.read_csv(\"/home/charlie/Desktop/master_data.csv\", chunksize=chunk_size):\n",
      "/tmp/ipykernel_18148/1266505323.py:8: DtypeWarning: Columns (7) have mixed types. Specify dtype option on import or set low_memory=False.\n",
      "  for chunk in pd.read_csv(\"/home/charlie/Desktop/master_data.csv\", chunksize=chunk_size):\n"
     ]
    },
    {
     "name": "stdout",
     "output_type": "stream",
     "text": [
      "Missing columns in this chunk: {'tunnel_parents   label   detailed-label'}\n",
      "Missing columns in this chunk: {'tunnel_parents   label   detailed-label'}\n"
     ]
    },
    {
     "name": "stderr",
     "output_type": "stream",
     "text": [
      "/tmp/ipykernel_18148/1266505323.py:8: DtypeWarning: Columns (7) have mixed types. Specify dtype option on import or set low_memory=False.\n",
      "  for chunk in pd.read_csv(\"/home/charlie/Desktop/master_data.csv\", chunksize=chunk_size):\n",
      "/tmp/ipykernel_18148/1266505323.py:8: DtypeWarning: Columns (7) have mixed types. Specify dtype option on import or set low_memory=False.\n",
      "  for chunk in pd.read_csv(\"/home/charlie/Desktop/master_data.csv\", chunksize=chunk_size):\n"
     ]
    },
    {
     "name": "stdout",
     "output_type": "stream",
     "text": [
      "Missing columns in this chunk: {'tunnel_parents   label   detailed-label'}\n",
      "Missing columns in this chunk: {'tunnel_parents   label   detailed-label'}\n"
     ]
    },
    {
     "name": "stderr",
     "output_type": "stream",
     "text": [
      "/tmp/ipykernel_18148/1266505323.py:8: DtypeWarning: Columns (7) have mixed types. Specify dtype option on import or set low_memory=False.\n",
      "  for chunk in pd.read_csv(\"/home/charlie/Desktop/master_data.csv\", chunksize=chunk_size):\n"
     ]
    },
    {
     "name": "stdout",
     "output_type": "stream",
     "text": [
      "Missing columns in this chunk: {'tunnel_parents   label   detailed-label'}\n",
      "Missing columns in this chunk: {'tunnel_parents   label   detailed-label'}\n"
     ]
    },
    {
     "name": "stderr",
     "output_type": "stream",
     "text": [
      "/tmp/ipykernel_18148/1266505323.py:8: DtypeWarning: Columns (7) have mixed types. Specify dtype option on import or set low_memory=False.\n",
      "  for chunk in pd.read_csv(\"/home/charlie/Desktop/master_data.csv\", chunksize=chunk_size):\n",
      "/tmp/ipykernel_18148/1266505323.py:8: DtypeWarning: Columns (7) have mixed types. Specify dtype option on import or set low_memory=False.\n",
      "  for chunk in pd.read_csv(\"/home/charlie/Desktop/master_data.csv\", chunksize=chunk_size):\n"
     ]
    },
    {
     "name": "stdout",
     "output_type": "stream",
     "text": [
      "Missing columns in this chunk: {'tunnel_parents   label   detailed-label'}\n",
      "Missing columns in this chunk: {'tunnel_parents   label   detailed-label'}\n"
     ]
    },
    {
     "name": "stderr",
     "output_type": "stream",
     "text": [
      "/tmp/ipykernel_18148/1266505323.py:8: DtypeWarning: Columns (7) have mixed types. Specify dtype option on import or set low_memory=False.\n",
      "  for chunk in pd.read_csv(\"/home/charlie/Desktop/master_data.csv\", chunksize=chunk_size):\n"
     ]
    },
    {
     "name": "stdout",
     "output_type": "stream",
     "text": [
      "Missing columns in this chunk: {'tunnel_parents   label   detailed-label'}\n",
      "Missing columns in this chunk: {'tunnel_parents   label   detailed-label'}\n"
     ]
    },
    {
     "name": "stderr",
     "output_type": "stream",
     "text": [
      "/tmp/ipykernel_18148/1266505323.py:8: DtypeWarning: Columns (7) have mixed types. Specify dtype option on import or set low_memory=False.\n",
      "  for chunk in pd.read_csv(\"/home/charlie/Desktop/master_data.csv\", chunksize=chunk_size):\n",
      "/tmp/ipykernel_18148/1266505323.py:8: DtypeWarning: Columns (7) have mixed types. Specify dtype option on import or set low_memory=False.\n",
      "  for chunk in pd.read_csv(\"/home/charlie/Desktop/master_data.csv\", chunksize=chunk_size):\n"
     ]
    },
    {
     "name": "stdout",
     "output_type": "stream",
     "text": [
      "Missing columns in this chunk: {'tunnel_parents   label   detailed-label'}\n",
      "Missing columns in this chunk: {'tunnel_parents   label   detailed-label'}\n"
     ]
    },
    {
     "name": "stderr",
     "output_type": "stream",
     "text": [
      "/tmp/ipykernel_18148/1266505323.py:8: DtypeWarning: Columns (7) have mixed types. Specify dtype option on import or set low_memory=False.\n",
      "  for chunk in pd.read_csv(\"/home/charlie/Desktop/master_data.csv\", chunksize=chunk_size):\n"
     ]
    },
    {
     "name": "stdout",
     "output_type": "stream",
     "text": [
      "Missing columns in this chunk: {'tunnel_parents   label   detailed-label'}\n",
      "Missing columns in this chunk: {'tunnel_parents   label   detailed-label'}\n",
      "Missing columns in this chunk: {'tunnel_parents   label   detailed-label'}\n",
      "Missing columns in this chunk: {'tunnel_parents   label   detailed-label'}\n"
     ]
    },
    {
     "name": "stderr",
     "output_type": "stream",
     "text": [
      "/tmp/ipykernel_18148/1266505323.py:8: DtypeWarning: Columns (7) have mixed types. Specify dtype option on import or set low_memory=False.\n",
      "  for chunk in pd.read_csv(\"/home/charlie/Desktop/master_data.csv\", chunksize=chunk_size):\n"
     ]
    },
    {
     "name": "stdout",
     "output_type": "stream",
     "text": [
      "Missing columns in this chunk: {'tunnel_parents   label   detailed-label'}\n",
      "Missing columns in this chunk: {'tunnel_parents   label   detailed-label'}\n",
      "Missing columns in this chunk: {'tunnel_parents   label   detailed-label'}\n",
      "Missing columns in this chunk: {'tunnel_parents   label   detailed-label'}\n"
     ]
    },
    {
     "name": "stderr",
     "output_type": "stream",
     "text": [
      "/tmp/ipykernel_18148/1266505323.py:8: DtypeWarning: Columns (7) have mixed types. Specify dtype option on import or set low_memory=False.\n",
      "  for chunk in pd.read_csv(\"/home/charlie/Desktop/master_data.csv\", chunksize=chunk_size):\n"
     ]
    },
    {
     "name": "stdout",
     "output_type": "stream",
     "text": [
      "Missing columns in this chunk: {'tunnel_parents   label   detailed-label'}\n",
      "Missing columns in this chunk: {'tunnel_parents   label   detailed-label'}\n",
      "Missing columns in this chunk: {'tunnel_parents   label   detailed-label'}\n",
      "Missing columns in this chunk: {'tunnel_parents   label   detailed-label'}\n",
      "Missing columns in this chunk: {'tunnel_parents   label   detailed-label'}\n",
      "Missing columns in this chunk: {'tunnel_parents   label   detailed-label'}\n",
      "Missing columns in this chunk: {'tunnel_parents   label   detailed-label'}\n",
      "Missing columns in this chunk: {'tunnel_parents   label   detailed-label'}\n",
      "Missing columns in this chunk: {'tunnel_parents   label   detailed-label'}\n",
      "Missing columns in this chunk: {'tunnel_parents   label   detailed-label'}\n"
     ]
    },
    {
     "name": "stderr",
     "output_type": "stream",
     "text": [
      "/tmp/ipykernel_18148/1266505323.py:8: DtypeWarning: Columns (7) have mixed types. Specify dtype option on import or set low_memory=False.\n",
      "  for chunk in pd.read_csv(\"/home/charlie/Desktop/master_data.csv\", chunksize=chunk_size):\n"
     ]
    },
    {
     "name": "stdout",
     "output_type": "stream",
     "text": [
      "Missing columns in this chunk: {'tunnel_parents   label   detailed-label'}\n",
      "Missing columns in this chunk: {'tunnel_parents   label   detailed-label'}\n",
      "Missing columns in this chunk: {'tunnel_parents   label   detailed-label'}\n",
      "Missing columns in this chunk: {'tunnel_parents   label   detailed-label'}\n"
     ]
    },
    {
     "name": "stderr",
     "output_type": "stream",
     "text": [
      "/tmp/ipykernel_18148/1266505323.py:8: DtypeWarning: Columns (7) have mixed types. Specify dtype option on import or set low_memory=False.\n",
      "  for chunk in pd.read_csv(\"/home/charlie/Desktop/master_data.csv\", chunksize=chunk_size):\n"
     ]
    },
    {
     "name": "stdout",
     "output_type": "stream",
     "text": [
      "Missing columns in this chunk: {'tunnel_parents   label   detailed-label'}\n",
      "Missing columns in this chunk: {'tunnel_parents   label   detailed-label'}\n"
     ]
    },
    {
     "name": "stderr",
     "output_type": "stream",
     "text": [
      "/tmp/ipykernel_18148/1266505323.py:8: DtypeWarning: Columns (7) have mixed types. Specify dtype option on import or set low_memory=False.\n",
      "  for chunk in pd.read_csv(\"/home/charlie/Desktop/master_data.csv\", chunksize=chunk_size):\n",
      "/tmp/ipykernel_18148/1266505323.py:8: DtypeWarning: Columns (7) have mixed types. Specify dtype option on import or set low_memory=False.\n",
      "  for chunk in pd.read_csv(\"/home/charlie/Desktop/master_data.csv\", chunksize=chunk_size):\n"
     ]
    },
    {
     "name": "stdout",
     "output_type": "stream",
     "text": [
      "Missing columns in this chunk: {'tunnel_parents   label   detailed-label'}\n",
      "Missing columns in this chunk: {'tunnel_parents   label   detailed-label'}\n"
     ]
    },
    {
     "name": "stderr",
     "output_type": "stream",
     "text": [
      "/tmp/ipykernel_18148/1266505323.py:8: DtypeWarning: Columns (7) have mixed types. Specify dtype option on import or set low_memory=False.\n",
      "  for chunk in pd.read_csv(\"/home/charlie/Desktop/master_data.csv\", chunksize=chunk_size):\n",
      "/tmp/ipykernel_18148/1266505323.py:8: DtypeWarning: Columns (7) have mixed types. Specify dtype option on import or set low_memory=False.\n",
      "  for chunk in pd.read_csv(\"/home/charlie/Desktop/master_data.csv\", chunksize=chunk_size):\n"
     ]
    },
    {
     "name": "stdout",
     "output_type": "stream",
     "text": [
      "Missing columns in this chunk: {'tunnel_parents   label   detailed-label'}\n",
      "Missing columns in this chunk: {'tunnel_parents   label   detailed-label'}\n"
     ]
    },
    {
     "name": "stderr",
     "output_type": "stream",
     "text": [
      "/tmp/ipykernel_18148/1266505323.py:8: DtypeWarning: Columns (7) have mixed types. Specify dtype option on import or set low_memory=False.\n",
      "  for chunk in pd.read_csv(\"/home/charlie/Desktop/master_data.csv\", chunksize=chunk_size):\n",
      "/tmp/ipykernel_18148/1266505323.py:8: DtypeWarning: Columns (7) have mixed types. Specify dtype option on import or set low_memory=False.\n",
      "  for chunk in pd.read_csv(\"/home/charlie/Desktop/master_data.csv\", chunksize=chunk_size):\n"
     ]
    },
    {
     "name": "stdout",
     "output_type": "stream",
     "text": [
      "Missing columns in this chunk: {'tunnel_parents   label   detailed-label'}\n",
      "Missing columns in this chunk: {'tunnel_parents   label   detailed-label'}\n"
     ]
    },
    {
     "name": "stderr",
     "output_type": "stream",
     "text": [
      "/tmp/ipykernel_18148/1266505323.py:8: DtypeWarning: Columns (7) have mixed types. Specify dtype option on import or set low_memory=False.\n",
      "  for chunk in pd.read_csv(\"/home/charlie/Desktop/master_data.csv\", chunksize=chunk_size):\n",
      "/tmp/ipykernel_18148/1266505323.py:8: DtypeWarning: Columns (7) have mixed types. Specify dtype option on import or set low_memory=False.\n",
      "  for chunk in pd.read_csv(\"/home/charlie/Desktop/master_data.csv\", chunksize=chunk_size):\n"
     ]
    },
    {
     "name": "stdout",
     "output_type": "stream",
     "text": [
      "Missing columns in this chunk: {'tunnel_parents   label   detailed-label'}\n",
      "Missing columns in this chunk: {'tunnel_parents   label   detailed-label'}\n"
     ]
    },
    {
     "name": "stderr",
     "output_type": "stream",
     "text": [
      "/tmp/ipykernel_18148/1266505323.py:8: DtypeWarning: Columns (7) have mixed types. Specify dtype option on import or set low_memory=False.\n",
      "  for chunk in pd.read_csv(\"/home/charlie/Desktop/master_data.csv\", chunksize=chunk_size):\n",
      "/tmp/ipykernel_18148/1266505323.py:8: DtypeWarning: Columns (7) have mixed types. Specify dtype option on import or set low_memory=False.\n",
      "  for chunk in pd.read_csv(\"/home/charlie/Desktop/master_data.csv\", chunksize=chunk_size):\n"
     ]
    },
    {
     "name": "stdout",
     "output_type": "stream",
     "text": [
      "Missing columns in this chunk: {'tunnel_parents   label   detailed-label'}\n",
      "Missing columns in this chunk: {'tunnel_parents   label   detailed-label'}\n"
     ]
    },
    {
     "name": "stderr",
     "output_type": "stream",
     "text": [
      "/tmp/ipykernel_18148/1266505323.py:8: DtypeWarning: Columns (7) have mixed types. Specify dtype option on import or set low_memory=False.\n",
      "  for chunk in pd.read_csv(\"/home/charlie/Desktop/master_data.csv\", chunksize=chunk_size):\n",
      "/tmp/ipykernel_18148/1266505323.py:8: DtypeWarning: Columns (7) have mixed types. Specify dtype option on import or set low_memory=False.\n",
      "  for chunk in pd.read_csv(\"/home/charlie/Desktop/master_data.csv\", chunksize=chunk_size):\n"
     ]
    },
    {
     "name": "stdout",
     "output_type": "stream",
     "text": [
      "Missing columns in this chunk: {'tunnel_parents   label   detailed-label'}\n",
      "Missing columns in this chunk: {'tunnel_parents   label   detailed-label'}\n"
     ]
    },
    {
     "name": "stderr",
     "output_type": "stream",
     "text": [
      "/tmp/ipykernel_18148/1266505323.py:8: DtypeWarning: Columns (7) have mixed types. Specify dtype option on import or set low_memory=False.\n",
      "  for chunk in pd.read_csv(\"/home/charlie/Desktop/master_data.csv\", chunksize=chunk_size):\n",
      "/tmp/ipykernel_18148/1266505323.py:8: DtypeWarning: Columns (7) have mixed types. Specify dtype option on import or set low_memory=False.\n",
      "  for chunk in pd.read_csv(\"/home/charlie/Desktop/master_data.csv\", chunksize=chunk_size):\n"
     ]
    },
    {
     "name": "stdout",
     "output_type": "stream",
     "text": [
      "Missing columns in this chunk: {'tunnel_parents   label   detailed-label'}\n",
      "Missing columns in this chunk: {'tunnel_parents   label   detailed-label'}\n"
     ]
    },
    {
     "name": "stderr",
     "output_type": "stream",
     "text": [
      "/tmp/ipykernel_18148/1266505323.py:8: DtypeWarning: Columns (7) have mixed types. Specify dtype option on import or set low_memory=False.\n",
      "  for chunk in pd.read_csv(\"/home/charlie/Desktop/master_data.csv\", chunksize=chunk_size):\n"
     ]
    },
    {
     "name": "stdout",
     "output_type": "stream",
     "text": [
      "Missing columns in this chunk: {'tunnel_parents   label   detailed-label'}\n",
      "Missing columns in this chunk: {'tunnel_parents   label   detailed-label'}\n"
     ]
    },
    {
     "name": "stderr",
     "output_type": "stream",
     "text": [
      "/tmp/ipykernel_18148/1266505323.py:8: DtypeWarning: Columns (7) have mixed types. Specify dtype option on import or set low_memory=False.\n",
      "  for chunk in pd.read_csv(\"/home/charlie/Desktop/master_data.csv\", chunksize=chunk_size):\n",
      "/tmp/ipykernel_18148/1266505323.py:8: DtypeWarning: Columns (7) have mixed types. Specify dtype option on import or set low_memory=False.\n",
      "  for chunk in pd.read_csv(\"/home/charlie/Desktop/master_data.csv\", chunksize=chunk_size):\n"
     ]
    },
    {
     "name": "stdout",
     "output_type": "stream",
     "text": [
      "Missing columns in this chunk: {'tunnel_parents   label   detailed-label'}\n",
      "Missing columns in this chunk: {'tunnel_parents   label   detailed-label'}\n",
      "Missing columns in this chunk: {'tunnel_parents   label   detailed-label'}\n",
      "Missing columns in this chunk: {'tunnel_parents   label   detailed-label'}\n"
     ]
    },
    {
     "name": "stderr",
     "output_type": "stream",
     "text": [
      "/tmp/ipykernel_18148/1266505323.py:8: DtypeWarning: Columns (7) have mixed types. Specify dtype option on import or set low_memory=False.\n",
      "  for chunk in pd.read_csv(\"/home/charlie/Desktop/master_data.csv\", chunksize=chunk_size):\n"
     ]
    },
    {
     "name": "stdout",
     "output_type": "stream",
     "text": [
      "Missing columns in this chunk: {'tunnel_parents   label   detailed-label'}\n",
      "Missing columns in this chunk: {'tunnel_parents   label   detailed-label'}\n",
      "Missing columns in this chunk: {'tunnel_parents   label   detailed-label'}\n"
     ]
    },
    {
     "name": "stderr",
     "output_type": "stream",
     "text": [
      "/tmp/ipykernel_18148/1266505323.py:8: DtypeWarning: Columns (7) have mixed types. Specify dtype option on import or set low_memory=False.\n",
      "  for chunk in pd.read_csv(\"/home/charlie/Desktop/master_data.csv\", chunksize=chunk_size):\n"
     ]
    },
    {
     "name": "stdout",
     "output_type": "stream",
     "text": [
      "Missing columns in this chunk: {'tunnel_parents   label   detailed-label'}\n",
      "Missing columns in this chunk: {'tunnel_parents   label   detailed-label'}\n"
     ]
    },
    {
     "name": "stderr",
     "output_type": "stream",
     "text": [
      "/tmp/ipykernel_18148/1266505323.py:8: DtypeWarning: Columns (7) have mixed types. Specify dtype option on import or set low_memory=False.\n",
      "  for chunk in pd.read_csv(\"/home/charlie/Desktop/master_data.csv\", chunksize=chunk_size):\n"
     ]
    },
    {
     "name": "stdout",
     "output_type": "stream",
     "text": [
      "Missing columns in this chunk: {'tunnel_parents   label   detailed-label'}\n",
      "Missing columns in this chunk: {'tunnel_parents   label   detailed-label'}\n"
     ]
    },
    {
     "name": "stderr",
     "output_type": "stream",
     "text": [
      "/tmp/ipykernel_18148/1266505323.py:8: DtypeWarning: Columns (7) have mixed types. Specify dtype option on import or set low_memory=False.\n",
      "  for chunk in pd.read_csv(\"/home/charlie/Desktop/master_data.csv\", chunksize=chunk_size):\n"
     ]
    },
    {
     "name": "stdout",
     "output_type": "stream",
     "text": [
      "Missing columns in this chunk: {'tunnel_parents   label   detailed-label'}\n",
      "Missing columns in this chunk: {'tunnel_parents   label   detailed-label'}\n"
     ]
    },
    {
     "name": "stderr",
     "output_type": "stream",
     "text": [
      "/tmp/ipykernel_18148/1266505323.py:8: DtypeWarning: Columns (7) have mixed types. Specify dtype option on import or set low_memory=False.\n",
      "  for chunk in pd.read_csv(\"/home/charlie/Desktop/master_data.csv\", chunksize=chunk_size):\n"
     ]
    },
    {
     "name": "stdout",
     "output_type": "stream",
     "text": [
      "Missing columns in this chunk: {'tunnel_parents   label   detailed-label'}\n",
      "Missing columns in this chunk: {'tunnel_parents   label   detailed-label'}\n",
      "Missing columns in this chunk: {'tunnel_parents   label   detailed-label'}\n",
      "Missing columns in this chunk: {'tunnel_parents   label   detailed-label'}\n"
     ]
    },
    {
     "name": "stderr",
     "output_type": "stream",
     "text": [
      "/tmp/ipykernel_18148/1266505323.py:8: DtypeWarning: Columns (7) have mixed types. Specify dtype option on import or set low_memory=False.\n",
      "  for chunk in pd.read_csv(\"/home/charlie/Desktop/master_data.csv\", chunksize=chunk_size):\n",
      "/tmp/ipykernel_18148/1266505323.py:8: DtypeWarning: Columns (7) have mixed types. Specify dtype option on import or set low_memory=False.\n",
      "  for chunk in pd.read_csv(\"/home/charlie/Desktop/master_data.csv\", chunksize=chunk_size):\n"
     ]
    },
    {
     "name": "stdout",
     "output_type": "stream",
     "text": [
      "Missing columns in this chunk: {'tunnel_parents   label   detailed-label'}\n",
      "Missing columns in this chunk: {'tunnel_parents   label   detailed-label'}\n"
     ]
    },
    {
     "name": "stderr",
     "output_type": "stream",
     "text": [
      "/tmp/ipykernel_18148/1266505323.py:8: DtypeWarning: Columns (7) have mixed types. Specify dtype option on import or set low_memory=False.\n",
      "  for chunk in pd.read_csv(\"/home/charlie/Desktop/master_data.csv\", chunksize=chunk_size):\n"
     ]
    },
    {
     "name": "stdout",
     "output_type": "stream",
     "text": [
      "Missing columns in this chunk: {'tunnel_parents   label   detailed-label'}\n",
      "Missing columns in this chunk: {'tunnel_parents   label   detailed-label'}\n",
      "Missing columns in this chunk: {'tunnel_parents   label   detailed-label'}\n",
      "Missing columns in this chunk: {'tunnel_parents   label   detailed-label'}\n",
      "Missing columns in this chunk: {'tunnel_parents   label   detailed-label'}\n",
      "Missing columns in this chunk: {'tunnel_parents   label   detailed-label'}\n",
      "Missing columns in this chunk: {'tunnel_parents   label   detailed-label'}\n"
     ]
    },
    {
     "name": "stderr",
     "output_type": "stream",
     "text": [
      "/tmp/ipykernel_18148/1266505323.py:8: DtypeWarning: Columns (7) have mixed types. Specify dtype option on import or set low_memory=False.\n",
      "  for chunk in pd.read_csv(\"/home/charlie/Desktop/master_data.csv\", chunksize=chunk_size):\n",
      "/tmp/ipykernel_18148/1266505323.py:8: DtypeWarning: Columns (7) have mixed types. Specify dtype option on import or set low_memory=False.\n",
      "  for chunk in pd.read_csv(\"/home/charlie/Desktop/master_data.csv\", chunksize=chunk_size):\n"
     ]
    },
    {
     "name": "stdout",
     "output_type": "stream",
     "text": [
      "Missing columns in this chunk: {'tunnel_parents   label   detailed-label'}\n",
      "Missing columns in this chunk: {'tunnel_parents   label   detailed-label'}\n",
      "Missing columns in this chunk: {'tunnel_parents   label   detailed-label'}\n"
     ]
    },
    {
     "name": "stderr",
     "output_type": "stream",
     "text": [
      "/tmp/ipykernel_18148/1266505323.py:8: DtypeWarning: Columns (7) have mixed types. Specify dtype option on import or set low_memory=False.\n",
      "  for chunk in pd.read_csv(\"/home/charlie/Desktop/master_data.csv\", chunksize=chunk_size):\n",
      "/tmp/ipykernel_18148/1266505323.py:8: DtypeWarning: Columns (7) have mixed types. Specify dtype option on import or set low_memory=False.\n",
      "  for chunk in pd.read_csv(\"/home/charlie/Desktop/master_data.csv\", chunksize=chunk_size):\n"
     ]
    },
    {
     "name": "stdout",
     "output_type": "stream",
     "text": [
      "Missing columns in this chunk: {'tunnel_parents   label   detailed-label'}\n",
      "Missing columns in this chunk: {'tunnel_parents   label   detailed-label'}\n"
     ]
    },
    {
     "name": "stderr",
     "output_type": "stream",
     "text": [
      "/tmp/ipykernel_18148/1266505323.py:8: DtypeWarning: Columns (7) have mixed types. Specify dtype option on import or set low_memory=False.\n",
      "  for chunk in pd.read_csv(\"/home/charlie/Desktop/master_data.csv\", chunksize=chunk_size):\n",
      "/tmp/ipykernel_18148/1266505323.py:8: DtypeWarning: Columns (7) have mixed types. Specify dtype option on import or set low_memory=False.\n",
      "  for chunk in pd.read_csv(\"/home/charlie/Desktop/master_data.csv\", chunksize=chunk_size):\n"
     ]
    },
    {
     "name": "stdout",
     "output_type": "stream",
     "text": [
      "Missing columns in this chunk: {'tunnel_parents   label   detailed-label'}\n",
      "Missing columns in this chunk: {'tunnel_parents   label   detailed-label'}\n"
     ]
    },
    {
     "name": "stderr",
     "output_type": "stream",
     "text": [
      "/tmp/ipykernel_18148/1266505323.py:8: DtypeWarning: Columns (7) have mixed types. Specify dtype option on import or set low_memory=False.\n",
      "  for chunk in pd.read_csv(\"/home/charlie/Desktop/master_data.csv\", chunksize=chunk_size):\n"
     ]
    },
    {
     "name": "stdout",
     "output_type": "stream",
     "text": [
      "Missing columns in this chunk: {'tunnel_parents   label   detailed-label'}\n",
      "Missing columns in this chunk: {'tunnel_parents   label   detailed-label'}\n",
      "Missing columns in this chunk: {'tunnel_parents   label   detailed-label'}\n",
      "Missing columns in this chunk: {'tunnel_parents   label   detailed-label'}\n",
      "Missing columns in this chunk: {'tunnel_parents   label   detailed-label'}\n"
     ]
    },
    {
     "name": "stderr",
     "output_type": "stream",
     "text": [
      "/tmp/ipykernel_18148/1266505323.py:8: DtypeWarning: Columns (7) have mixed types. Specify dtype option on import or set low_memory=False.\n",
      "  for chunk in pd.read_csv(\"/home/charlie/Desktop/master_data.csv\", chunksize=chunk_size):\n",
      "/tmp/ipykernel_18148/1266505323.py:8: DtypeWarning: Columns (7) have mixed types. Specify dtype option on import or set low_memory=False.\n",
      "  for chunk in pd.read_csv(\"/home/charlie/Desktop/master_data.csv\", chunksize=chunk_size):\n"
     ]
    },
    {
     "name": "stdout",
     "output_type": "stream",
     "text": [
      "Missing columns in this chunk: {'tunnel_parents   label   detailed-label'}\n",
      "Missing columns in this chunk: {'tunnel_parents   label   detailed-label'}\n"
     ]
    },
    {
     "name": "stderr",
     "output_type": "stream",
     "text": [
      "/tmp/ipykernel_18148/1266505323.py:8: DtypeWarning: Columns (7) have mixed types. Specify dtype option on import or set low_memory=False.\n",
      "  for chunk in pd.read_csv(\"/home/charlie/Desktop/master_data.csv\", chunksize=chunk_size):\n"
     ]
    },
    {
     "name": "stdout",
     "output_type": "stream",
     "text": [
      "Missing columns in this chunk: {'tunnel_parents   label   detailed-label'}\n",
      "Missing columns in this chunk: {'tunnel_parents   label   detailed-label'}\n"
     ]
    },
    {
     "name": "stderr",
     "output_type": "stream",
     "text": [
      "/tmp/ipykernel_18148/1266505323.py:8: DtypeWarning: Columns (7) have mixed types. Specify dtype option on import or set low_memory=False.\n",
      "  for chunk in pd.read_csv(\"/home/charlie/Desktop/master_data.csv\", chunksize=chunk_size):\n"
     ]
    },
    {
     "name": "stdout",
     "output_type": "stream",
     "text": [
      "Missing columns in this chunk: {'tunnel_parents   label   detailed-label'}\n",
      "Missing columns in this chunk: {'tunnel_parents   label   detailed-label'}\n",
      "Missing columns in this chunk: {'tunnel_parents   label   detailed-label'}\n",
      "Missing columns in this chunk: {'tunnel_parents   label   detailed-label'}\n",
      "Missing columns in this chunk: {'tunnel_parents   label   detailed-label'}\n",
      "Missing columns in this chunk: {'tunnel_parents   label   detailed-label'}\n",
      "Missing columns in this chunk: {'tunnel_parents   label   detailed-label'}\n"
     ]
    },
    {
     "name": "stderr",
     "output_type": "stream",
     "text": [
      "/tmp/ipykernel_18148/1266505323.py:8: DtypeWarning: Columns (7) have mixed types. Specify dtype option on import or set low_memory=False.\n",
      "  for chunk in pd.read_csv(\"/home/charlie/Desktop/master_data.csv\", chunksize=chunk_size):\n"
     ]
    },
    {
     "name": "stdout",
     "output_type": "stream",
     "text": [
      "Missing columns in this chunk: {'tunnel_parents   label   detailed-label'}\n",
      "Missing columns in this chunk: {'tunnel_parents   label   detailed-label'}\n",
      "Missing columns in this chunk: {'tunnel_parents   label   detailed-label'}\n"
     ]
    },
    {
     "name": "stderr",
     "output_type": "stream",
     "text": [
      "/tmp/ipykernel_18148/1266505323.py:8: DtypeWarning: Columns (7) have mixed types. Specify dtype option on import or set low_memory=False.\n",
      "  for chunk in pd.read_csv(\"/home/charlie/Desktop/master_data.csv\", chunksize=chunk_size):\n"
     ]
    },
    {
     "name": "stdout",
     "output_type": "stream",
     "text": [
      "Missing columns in this chunk: {'tunnel_parents   label   detailed-label'}\n",
      "Missing columns in this chunk: {'tunnel_parents   label   detailed-label'}\n",
      "Missing columns in this chunk: {'tunnel_parents   label   detailed-label'}\n"
     ]
    },
    {
     "name": "stderr",
     "output_type": "stream",
     "text": [
      "/tmp/ipykernel_18148/1266505323.py:8: DtypeWarning: Columns (7) have mixed types. Specify dtype option on import or set low_memory=False.\n",
      "  for chunk in pd.read_csv(\"/home/charlie/Desktop/master_data.csv\", chunksize=chunk_size):\n"
     ]
    },
    {
     "name": "stdout",
     "output_type": "stream",
     "text": [
      "Missing columns in this chunk: {'tunnel_parents   label   detailed-label'}\n",
      "Missing columns in this chunk: {'tunnel_parents   label   detailed-label'}\n",
      "Missing columns in this chunk: {'tunnel_parents   label   detailed-label'}\n",
      "Missing columns in this chunk: {'tunnel_parents   label   detailed-label'}\n"
     ]
    },
    {
     "name": "stderr",
     "output_type": "stream",
     "text": [
      "/tmp/ipykernel_18148/1266505323.py:8: DtypeWarning: Columns (7) have mixed types. Specify dtype option on import or set low_memory=False.\n",
      "  for chunk in pd.read_csv(\"/home/charlie/Desktop/master_data.csv\", chunksize=chunk_size):\n"
     ]
    },
    {
     "name": "stdout",
     "output_type": "stream",
     "text": [
      "Missing columns in this chunk: {'tunnel_parents   label   detailed-label'}\n",
      "Missing columns in this chunk: {'tunnel_parents   label   detailed-label'}\n"
     ]
    },
    {
     "name": "stderr",
     "output_type": "stream",
     "text": [
      "/tmp/ipykernel_18148/1266505323.py:8: DtypeWarning: Columns (7) have mixed types. Specify dtype option on import or set low_memory=False.\n",
      "  for chunk in pd.read_csv(\"/home/charlie/Desktop/master_data.csv\", chunksize=chunk_size):\n"
     ]
    },
    {
     "name": "stdout",
     "output_type": "stream",
     "text": [
      "Missing columns in this chunk: {'tunnel_parents   label   detailed-label'}\n",
      "Missing columns in this chunk: {'tunnel_parents   label   detailed-label'}\n"
     ]
    },
    {
     "name": "stderr",
     "output_type": "stream",
     "text": [
      "/tmp/ipykernel_18148/1266505323.py:8: DtypeWarning: Columns (7) have mixed types. Specify dtype option on import or set low_memory=False.\n",
      "  for chunk in pd.read_csv(\"/home/charlie/Desktop/master_data.csv\", chunksize=chunk_size):\n",
      "/tmp/ipykernel_18148/1266505323.py:8: DtypeWarning: Columns (7) have mixed types. Specify dtype option on import or set low_memory=False.\n",
      "  for chunk in pd.read_csv(\"/home/charlie/Desktop/master_data.csv\", chunksize=chunk_size):\n"
     ]
    },
    {
     "name": "stdout",
     "output_type": "stream",
     "text": [
      "Missing columns in this chunk: {'tunnel_parents   label   detailed-label'}\n",
      "Missing columns in this chunk: {'tunnel_parents   label   detailed-label'}\n"
     ]
    },
    {
     "name": "stderr",
     "output_type": "stream",
     "text": [
      "/tmp/ipykernel_18148/1266505323.py:8: DtypeWarning: Columns (7) have mixed types. Specify dtype option on import or set low_memory=False.\n",
      "  for chunk in pd.read_csv(\"/home/charlie/Desktop/master_data.csv\", chunksize=chunk_size):\n",
      "/tmp/ipykernel_18148/1266505323.py:8: DtypeWarning: Columns (7) have mixed types. Specify dtype option on import or set low_memory=False.\n",
      "  for chunk in pd.read_csv(\"/home/charlie/Desktop/master_data.csv\", chunksize=chunk_size):\n"
     ]
    },
    {
     "name": "stdout",
     "output_type": "stream",
     "text": [
      "Missing columns in this chunk: {'tunnel_parents   label   detailed-label'}\n",
      "Missing columns in this chunk: {'tunnel_parents   label   detailed-label'}\n"
     ]
    },
    {
     "name": "stderr",
     "output_type": "stream",
     "text": [
      "/tmp/ipykernel_18148/1266505323.py:8: DtypeWarning: Columns (7) have mixed types. Specify dtype option on import or set low_memory=False.\n",
      "  for chunk in pd.read_csv(\"/home/charlie/Desktop/master_data.csv\", chunksize=chunk_size):\n",
      "/tmp/ipykernel_18148/1266505323.py:8: DtypeWarning: Columns (7) have mixed types. Specify dtype option on import or set low_memory=False.\n",
      "  for chunk in pd.read_csv(\"/home/charlie/Desktop/master_data.csv\", chunksize=chunk_size):\n"
     ]
    },
    {
     "name": "stdout",
     "output_type": "stream",
     "text": [
      "Missing columns in this chunk: {'tunnel_parents   label   detailed-label'}\n",
      "Missing columns in this chunk: {'tunnel_parents   label   detailed-label'}\n"
     ]
    },
    {
     "name": "stderr",
     "output_type": "stream",
     "text": [
      "/tmp/ipykernel_18148/1266505323.py:8: DtypeWarning: Columns (7) have mixed types. Specify dtype option on import or set low_memory=False.\n",
      "  for chunk in pd.read_csv(\"/home/charlie/Desktop/master_data.csv\", chunksize=chunk_size):\n",
      "/tmp/ipykernel_18148/1266505323.py:8: DtypeWarning: Columns (7) have mixed types. Specify dtype option on import or set low_memory=False.\n",
      "  for chunk in pd.read_csv(\"/home/charlie/Desktop/master_data.csv\", chunksize=chunk_size):\n"
     ]
    },
    {
     "name": "stdout",
     "output_type": "stream",
     "text": [
      "Missing columns in this chunk: {'tunnel_parents   label   detailed-label'}\n",
      "Missing columns in this chunk: {'tunnel_parents   label   detailed-label'}\n"
     ]
    },
    {
     "name": "stderr",
     "output_type": "stream",
     "text": [
      "/tmp/ipykernel_18148/1266505323.py:8: DtypeWarning: Columns (7) have mixed types. Specify dtype option on import or set low_memory=False.\n",
      "  for chunk in pd.read_csv(\"/home/charlie/Desktop/master_data.csv\", chunksize=chunk_size):\n",
      "/tmp/ipykernel_18148/1266505323.py:8: DtypeWarning: Columns (7) have mixed types. Specify dtype option on import or set low_memory=False.\n",
      "  for chunk in pd.read_csv(\"/home/charlie/Desktop/master_data.csv\", chunksize=chunk_size):\n"
     ]
    },
    {
     "name": "stdout",
     "output_type": "stream",
     "text": [
      "Missing columns in this chunk: {'tunnel_parents   label   detailed-label'}\n",
      "Missing columns in this chunk: {'tunnel_parents   label   detailed-label'}\n"
     ]
    },
    {
     "name": "stderr",
     "output_type": "stream",
     "text": [
      "/tmp/ipykernel_18148/1266505323.py:8: DtypeWarning: Columns (7) have mixed types. Specify dtype option on import or set low_memory=False.\n",
      "  for chunk in pd.read_csv(\"/home/charlie/Desktop/master_data.csv\", chunksize=chunk_size):\n",
      "/tmp/ipykernel_18148/1266505323.py:8: DtypeWarning: Columns (7) have mixed types. Specify dtype option on import or set low_memory=False.\n",
      "  for chunk in pd.read_csv(\"/home/charlie/Desktop/master_data.csv\", chunksize=chunk_size):\n"
     ]
    },
    {
     "name": "stdout",
     "output_type": "stream",
     "text": [
      "Missing columns in this chunk: {'tunnel_parents   label   detailed-label'}\n",
      "Missing columns in this chunk: {'tunnel_parents   label   detailed-label'}\n"
     ]
    },
    {
     "name": "stderr",
     "output_type": "stream",
     "text": [
      "/tmp/ipykernel_18148/1266505323.py:8: DtypeWarning: Columns (7) have mixed types. Specify dtype option on import or set low_memory=False.\n",
      "  for chunk in pd.read_csv(\"/home/charlie/Desktop/master_data.csv\", chunksize=chunk_size):\n",
      "/tmp/ipykernel_18148/1266505323.py:8: DtypeWarning: Columns (7) have mixed types. Specify dtype option on import or set low_memory=False.\n",
      "  for chunk in pd.read_csv(\"/home/charlie/Desktop/master_data.csv\", chunksize=chunk_size):\n"
     ]
    },
    {
     "name": "stdout",
     "output_type": "stream",
     "text": [
      "Missing columns in this chunk: {'tunnel_parents   label   detailed-label'}\n",
      "Missing columns in this chunk: {'tunnel_parents   label   detailed-label'}\n"
     ]
    },
    {
     "name": "stderr",
     "output_type": "stream",
     "text": [
      "/tmp/ipykernel_18148/1266505323.py:8: DtypeWarning: Columns (7) have mixed types. Specify dtype option on import or set low_memory=False.\n",
      "  for chunk in pd.read_csv(\"/home/charlie/Desktop/master_data.csv\", chunksize=chunk_size):\n",
      "/tmp/ipykernel_18148/1266505323.py:8: DtypeWarning: Columns (7) have mixed types. Specify dtype option on import or set low_memory=False.\n",
      "  for chunk in pd.read_csv(\"/home/charlie/Desktop/master_data.csv\", chunksize=chunk_size):\n"
     ]
    },
    {
     "name": "stdout",
     "output_type": "stream",
     "text": [
      "Missing columns in this chunk: {'tunnel_parents   label   detailed-label'}\n",
      "Missing columns in this chunk: {'tunnel_parents   label   detailed-label'}\n"
     ]
    },
    {
     "name": "stderr",
     "output_type": "stream",
     "text": [
      "/tmp/ipykernel_18148/1266505323.py:8: DtypeWarning: Columns (7) have mixed types. Specify dtype option on import or set low_memory=False.\n",
      "  for chunk in pd.read_csv(\"/home/charlie/Desktop/master_data.csv\", chunksize=chunk_size):\n",
      "/tmp/ipykernel_18148/1266505323.py:8: DtypeWarning: Columns (7) have mixed types. Specify dtype option on import or set low_memory=False.\n",
      "  for chunk in pd.read_csv(\"/home/charlie/Desktop/master_data.csv\", chunksize=chunk_size):\n"
     ]
    },
    {
     "name": "stdout",
     "output_type": "stream",
     "text": [
      "Missing columns in this chunk: {'tunnel_parents   label   detailed-label'}\n",
      "Missing columns in this chunk: {'tunnel_parents   label   detailed-label'}\n"
     ]
    },
    {
     "name": "stderr",
     "output_type": "stream",
     "text": [
      "/tmp/ipykernel_18148/1266505323.py:8: DtypeWarning: Columns (7) have mixed types. Specify dtype option on import or set low_memory=False.\n",
      "  for chunk in pd.read_csv(\"/home/charlie/Desktop/master_data.csv\", chunksize=chunk_size):\n",
      "/tmp/ipykernel_18148/1266505323.py:8: DtypeWarning: Columns (7) have mixed types. Specify dtype option on import or set low_memory=False.\n",
      "  for chunk in pd.read_csv(\"/home/charlie/Desktop/master_data.csv\", chunksize=chunk_size):\n"
     ]
    },
    {
     "name": "stdout",
     "output_type": "stream",
     "text": [
      "Missing columns in this chunk: {'tunnel_parents   label   detailed-label'}\n",
      "Missing columns in this chunk: {'tunnel_parents   label   detailed-label'}\n"
     ]
    },
    {
     "name": "stderr",
     "output_type": "stream",
     "text": [
      "/tmp/ipykernel_18148/1266505323.py:8: DtypeWarning: Columns (7) have mixed types. Specify dtype option on import or set low_memory=False.\n",
      "  for chunk in pd.read_csv(\"/home/charlie/Desktop/master_data.csv\", chunksize=chunk_size):\n",
      "/tmp/ipykernel_18148/1266505323.py:8: DtypeWarning: Columns (7) have mixed types. Specify dtype option on import or set low_memory=False.\n",
      "  for chunk in pd.read_csv(\"/home/charlie/Desktop/master_data.csv\", chunksize=chunk_size):\n"
     ]
    },
    {
     "name": "stdout",
     "output_type": "stream",
     "text": [
      "Missing columns in this chunk: {'tunnel_parents   label   detailed-label'}\n",
      "Missing columns in this chunk: {'tunnel_parents   label   detailed-label'}\n"
     ]
    },
    {
     "name": "stderr",
     "output_type": "stream",
     "text": [
      "/tmp/ipykernel_18148/1266505323.py:8: DtypeWarning: Columns (7) have mixed types. Specify dtype option on import or set low_memory=False.\n",
      "  for chunk in pd.read_csv(\"/home/charlie/Desktop/master_data.csv\", chunksize=chunk_size):\n",
      "/tmp/ipykernel_18148/1266505323.py:8: DtypeWarning: Columns (7) have mixed types. Specify dtype option on import or set low_memory=False.\n",
      "  for chunk in pd.read_csv(\"/home/charlie/Desktop/master_data.csv\", chunksize=chunk_size):\n"
     ]
    },
    {
     "name": "stdout",
     "output_type": "stream",
     "text": [
      "Missing columns in this chunk: {'tunnel_parents   label   detailed-label'}\n",
      "Missing columns in this chunk: {'tunnel_parents   label   detailed-label'}\n"
     ]
    },
    {
     "name": "stderr",
     "output_type": "stream",
     "text": [
      "/tmp/ipykernel_18148/1266505323.py:8: DtypeWarning: Columns (7) have mixed types. Specify dtype option on import or set low_memory=False.\n",
      "  for chunk in pd.read_csv(\"/home/charlie/Desktop/master_data.csv\", chunksize=chunk_size):\n",
      "/tmp/ipykernel_18148/1266505323.py:8: DtypeWarning: Columns (7) have mixed types. Specify dtype option on import or set low_memory=False.\n",
      "  for chunk in pd.read_csv(\"/home/charlie/Desktop/master_data.csv\", chunksize=chunk_size):\n"
     ]
    },
    {
     "name": "stdout",
     "output_type": "stream",
     "text": [
      "Missing columns in this chunk: {'tunnel_parents   label   detailed-label'}\n",
      "Missing columns in this chunk: {'tunnel_parents   label   detailed-label'}\n"
     ]
    },
    {
     "name": "stderr",
     "output_type": "stream",
     "text": [
      "/tmp/ipykernel_18148/1266505323.py:8: DtypeWarning: Columns (7) have mixed types. Specify dtype option on import or set low_memory=False.\n",
      "  for chunk in pd.read_csv(\"/home/charlie/Desktop/master_data.csv\", chunksize=chunk_size):\n",
      "/tmp/ipykernel_18148/1266505323.py:8: DtypeWarning: Columns (7) have mixed types. Specify dtype option on import or set low_memory=False.\n",
      "  for chunk in pd.read_csv(\"/home/charlie/Desktop/master_data.csv\", chunksize=chunk_size):\n"
     ]
    },
    {
     "name": "stdout",
     "output_type": "stream",
     "text": [
      "Missing columns in this chunk: {'tunnel_parents   label   detailed-label'}\n",
      "Missing columns in this chunk: {'tunnel_parents   label   detailed-label'}\n"
     ]
    },
    {
     "name": "stderr",
     "output_type": "stream",
     "text": [
      "/tmp/ipykernel_18148/1266505323.py:8: DtypeWarning: Columns (7) have mixed types. Specify dtype option on import or set low_memory=False.\n",
      "  for chunk in pd.read_csv(\"/home/charlie/Desktop/master_data.csv\", chunksize=chunk_size):\n",
      "/tmp/ipykernel_18148/1266505323.py:8: DtypeWarning: Columns (7) have mixed types. Specify dtype option on import or set low_memory=False.\n",
      "  for chunk in pd.read_csv(\"/home/charlie/Desktop/master_data.csv\", chunksize=chunk_size):\n"
     ]
    },
    {
     "name": "stdout",
     "output_type": "stream",
     "text": [
      "Missing columns in this chunk: {'tunnel_parents   label   detailed-label'}\n",
      "Missing columns in this chunk: {'tunnel_parents   label   detailed-label'}\n"
     ]
    },
    {
     "name": "stderr",
     "output_type": "stream",
     "text": [
      "/tmp/ipykernel_18148/1266505323.py:8: DtypeWarning: Columns (7) have mixed types. Specify dtype option on import or set low_memory=False.\n",
      "  for chunk in pd.read_csv(\"/home/charlie/Desktop/master_data.csv\", chunksize=chunk_size):\n",
      "/tmp/ipykernel_18148/1266505323.py:8: DtypeWarning: Columns (7) have mixed types. Specify dtype option on import or set low_memory=False.\n",
      "  for chunk in pd.read_csv(\"/home/charlie/Desktop/master_data.csv\", chunksize=chunk_size):\n"
     ]
    },
    {
     "name": "stdout",
     "output_type": "stream",
     "text": [
      "Missing columns in this chunk: {'tunnel_parents   label   detailed-label'}\n",
      "Missing columns in this chunk: {'tunnel_parents   label   detailed-label'}\n"
     ]
    },
    {
     "name": "stderr",
     "output_type": "stream",
     "text": [
      "/tmp/ipykernel_18148/1266505323.py:8: DtypeWarning: Columns (7) have mixed types. Specify dtype option on import or set low_memory=False.\n",
      "  for chunk in pd.read_csv(\"/home/charlie/Desktop/master_data.csv\", chunksize=chunk_size):\n",
      "/tmp/ipykernel_18148/1266505323.py:8: DtypeWarning: Columns (7) have mixed types. Specify dtype option on import or set low_memory=False.\n",
      "  for chunk in pd.read_csv(\"/home/charlie/Desktop/master_data.csv\", chunksize=chunk_size):\n"
     ]
    },
    {
     "name": "stdout",
     "output_type": "stream",
     "text": [
      "Missing columns in this chunk: {'tunnel_parents   label   detailed-label'}\n",
      "Missing columns in this chunk: {'tunnel_parents   label   detailed-label'}\n"
     ]
    },
    {
     "name": "stderr",
     "output_type": "stream",
     "text": [
      "/tmp/ipykernel_18148/1266505323.py:8: DtypeWarning: Columns (7) have mixed types. Specify dtype option on import or set low_memory=False.\n",
      "  for chunk in pd.read_csv(\"/home/charlie/Desktop/master_data.csv\", chunksize=chunk_size):\n",
      "/tmp/ipykernel_18148/1266505323.py:8: DtypeWarning: Columns (7) have mixed types. Specify dtype option on import or set low_memory=False.\n",
      "  for chunk in pd.read_csv(\"/home/charlie/Desktop/master_data.csv\", chunksize=chunk_size):\n"
     ]
    },
    {
     "name": "stdout",
     "output_type": "stream",
     "text": [
      "Missing columns in this chunk: {'tunnel_parents   label   detailed-label'}\n",
      "Missing columns in this chunk: {'tunnel_parents   label   detailed-label'}\n"
     ]
    },
    {
     "name": "stderr",
     "output_type": "stream",
     "text": [
      "/tmp/ipykernel_18148/1266505323.py:8: DtypeWarning: Columns (7) have mixed types. Specify dtype option on import or set low_memory=False.\n",
      "  for chunk in pd.read_csv(\"/home/charlie/Desktop/master_data.csv\", chunksize=chunk_size):\n",
      "/tmp/ipykernel_18148/1266505323.py:8: DtypeWarning: Columns (7) have mixed types. Specify dtype option on import or set low_memory=False.\n",
      "  for chunk in pd.read_csv(\"/home/charlie/Desktop/master_data.csv\", chunksize=chunk_size):\n"
     ]
    },
    {
     "name": "stdout",
     "output_type": "stream",
     "text": [
      "Missing columns in this chunk: {'tunnel_parents   label   detailed-label'}\n",
      "Missing columns in this chunk: {'tunnel_parents   label   detailed-label'}\n"
     ]
    },
    {
     "name": "stderr",
     "output_type": "stream",
     "text": [
      "/tmp/ipykernel_18148/1266505323.py:8: DtypeWarning: Columns (7) have mixed types. Specify dtype option on import or set low_memory=False.\n",
      "  for chunk in pd.read_csv(\"/home/charlie/Desktop/master_data.csv\", chunksize=chunk_size):\n",
      "/tmp/ipykernel_18148/1266505323.py:8: DtypeWarning: Columns (7) have mixed types. Specify dtype option on import or set low_memory=False.\n",
      "  for chunk in pd.read_csv(\"/home/charlie/Desktop/master_data.csv\", chunksize=chunk_size):\n"
     ]
    },
    {
     "name": "stdout",
     "output_type": "stream",
     "text": [
      "Missing columns in this chunk: {'tunnel_parents   label   detailed-label'}\n",
      "Missing columns in this chunk: {'tunnel_parents   label   detailed-label'}\n"
     ]
    },
    {
     "name": "stderr",
     "output_type": "stream",
     "text": [
      "/tmp/ipykernel_18148/1266505323.py:8: DtypeWarning: Columns (7) have mixed types. Specify dtype option on import or set low_memory=False.\n",
      "  for chunk in pd.read_csv(\"/home/charlie/Desktop/master_data.csv\", chunksize=chunk_size):\n",
      "/tmp/ipykernel_18148/1266505323.py:8: DtypeWarning: Columns (7) have mixed types. Specify dtype option on import or set low_memory=False.\n",
      "  for chunk in pd.read_csv(\"/home/charlie/Desktop/master_data.csv\", chunksize=chunk_size):\n"
     ]
    },
    {
     "name": "stdout",
     "output_type": "stream",
     "text": [
      "Missing columns in this chunk: {'tunnel_parents   label   detailed-label'}\n",
      "Missing columns in this chunk: {'tunnel_parents   label   detailed-label'}\n"
     ]
    },
    {
     "name": "stderr",
     "output_type": "stream",
     "text": [
      "/tmp/ipykernel_18148/1266505323.py:8: DtypeWarning: Columns (7) have mixed types. Specify dtype option on import or set low_memory=False.\n",
      "  for chunk in pd.read_csv(\"/home/charlie/Desktop/master_data.csv\", chunksize=chunk_size):\n",
      "/tmp/ipykernel_18148/1266505323.py:8: DtypeWarning: Columns (7) have mixed types. Specify dtype option on import or set low_memory=False.\n",
      "  for chunk in pd.read_csv(\"/home/charlie/Desktop/master_data.csv\", chunksize=chunk_size):\n"
     ]
    },
    {
     "name": "stdout",
     "output_type": "stream",
     "text": [
      "Missing columns in this chunk: {'tunnel_parents   label   detailed-label'}\n",
      "Missing columns in this chunk: {'tunnel_parents   label   detailed-label'}\n"
     ]
    },
    {
     "name": "stderr",
     "output_type": "stream",
     "text": [
      "/tmp/ipykernel_18148/1266505323.py:8: DtypeWarning: Columns (7) have mixed types. Specify dtype option on import or set low_memory=False.\n",
      "  for chunk in pd.read_csv(\"/home/charlie/Desktop/master_data.csv\", chunksize=chunk_size):\n",
      "/tmp/ipykernel_18148/1266505323.py:8: DtypeWarning: Columns (7) have mixed types. Specify dtype option on import or set low_memory=False.\n",
      "  for chunk in pd.read_csv(\"/home/charlie/Desktop/master_data.csv\", chunksize=chunk_size):\n"
     ]
    },
    {
     "name": "stdout",
     "output_type": "stream",
     "text": [
      "Missing columns in this chunk: {'tunnel_parents   label   detailed-label'}\n",
      "Missing columns in this chunk: {'tunnel_parents   label   detailed-label'}\n"
     ]
    },
    {
     "name": "stderr",
     "output_type": "stream",
     "text": [
      "/tmp/ipykernel_18148/1266505323.py:8: DtypeWarning: Columns (7) have mixed types. Specify dtype option on import or set low_memory=False.\n",
      "  for chunk in pd.read_csv(\"/home/charlie/Desktop/master_data.csv\", chunksize=chunk_size):\n",
      "/tmp/ipykernel_18148/1266505323.py:8: DtypeWarning: Columns (7) have mixed types. Specify dtype option on import or set low_memory=False.\n",
      "  for chunk in pd.read_csv(\"/home/charlie/Desktop/master_data.csv\", chunksize=chunk_size):\n"
     ]
    },
    {
     "name": "stdout",
     "output_type": "stream",
     "text": [
      "Missing columns in this chunk: {'tunnel_parents   label   detailed-label'}\n",
      "Missing columns in this chunk: {'tunnel_parents   label   detailed-label'}\n"
     ]
    },
    {
     "name": "stderr",
     "output_type": "stream",
     "text": [
      "/tmp/ipykernel_18148/1266505323.py:8: DtypeWarning: Columns (7) have mixed types. Specify dtype option on import or set low_memory=False.\n",
      "  for chunk in pd.read_csv(\"/home/charlie/Desktop/master_data.csv\", chunksize=chunk_size):\n",
      "/tmp/ipykernel_18148/1266505323.py:8: DtypeWarning: Columns (7) have mixed types. Specify dtype option on import or set low_memory=False.\n",
      "  for chunk in pd.read_csv(\"/home/charlie/Desktop/master_data.csv\", chunksize=chunk_size):\n"
     ]
    },
    {
     "name": "stdout",
     "output_type": "stream",
     "text": [
      "Missing columns in this chunk: {'tunnel_parents   label   detailed-label'}\n",
      "Missing columns in this chunk: {'tunnel_parents   label   detailed-label'}\n"
     ]
    },
    {
     "name": "stderr",
     "output_type": "stream",
     "text": [
      "/tmp/ipykernel_18148/1266505323.py:8: DtypeWarning: Columns (7) have mixed types. Specify dtype option on import or set low_memory=False.\n",
      "  for chunk in pd.read_csv(\"/home/charlie/Desktop/master_data.csv\", chunksize=chunk_size):\n",
      "/tmp/ipykernel_18148/1266505323.py:8: DtypeWarning: Columns (7) have mixed types. Specify dtype option on import or set low_memory=False.\n",
      "  for chunk in pd.read_csv(\"/home/charlie/Desktop/master_data.csv\", chunksize=chunk_size):\n"
     ]
    },
    {
     "name": "stdout",
     "output_type": "stream",
     "text": [
      "Missing columns in this chunk: {'tunnel_parents   label   detailed-label'}\n",
      "Missing columns in this chunk: {'tunnel_parents   label   detailed-label'}\n"
     ]
    },
    {
     "name": "stderr",
     "output_type": "stream",
     "text": [
      "/tmp/ipykernel_18148/1266505323.py:8: DtypeWarning: Columns (7) have mixed types. Specify dtype option on import or set low_memory=False.\n",
      "  for chunk in pd.read_csv(\"/home/charlie/Desktop/master_data.csv\", chunksize=chunk_size):\n",
      "/tmp/ipykernel_18148/1266505323.py:8: DtypeWarning: Columns (7) have mixed types. Specify dtype option on import or set low_memory=False.\n",
      "  for chunk in pd.read_csv(\"/home/charlie/Desktop/master_data.csv\", chunksize=chunk_size):\n"
     ]
    },
    {
     "name": "stdout",
     "output_type": "stream",
     "text": [
      "Missing columns in this chunk: {'tunnel_parents   label   detailed-label'}\n",
      "Missing columns in this chunk: {'tunnel_parents   label   detailed-label'}\n"
     ]
    },
    {
     "name": "stderr",
     "output_type": "stream",
     "text": [
      "/tmp/ipykernel_18148/1266505323.py:8: DtypeWarning: Columns (7) have mixed types. Specify dtype option on import or set low_memory=False.\n",
      "  for chunk in pd.read_csv(\"/home/charlie/Desktop/master_data.csv\", chunksize=chunk_size):\n",
      "/tmp/ipykernel_18148/1266505323.py:8: DtypeWarning: Columns (7) have mixed types. Specify dtype option on import or set low_memory=False.\n",
      "  for chunk in pd.read_csv(\"/home/charlie/Desktop/master_data.csv\", chunksize=chunk_size):\n"
     ]
    },
    {
     "name": "stdout",
     "output_type": "stream",
     "text": [
      "Missing columns in this chunk: {'tunnel_parents   label   detailed-label'}\n",
      "Missing columns in this chunk: {'tunnel_parents   label   detailed-label'}\n"
     ]
    },
    {
     "name": "stderr",
     "output_type": "stream",
     "text": [
      "/tmp/ipykernel_18148/1266505323.py:8: DtypeWarning: Columns (7) have mixed types. Specify dtype option on import or set low_memory=False.\n",
      "  for chunk in pd.read_csv(\"/home/charlie/Desktop/master_data.csv\", chunksize=chunk_size):\n",
      "/tmp/ipykernel_18148/1266505323.py:8: DtypeWarning: Columns (7) have mixed types. Specify dtype option on import or set low_memory=False.\n",
      "  for chunk in pd.read_csv(\"/home/charlie/Desktop/master_data.csv\", chunksize=chunk_size):\n"
     ]
    },
    {
     "name": "stdout",
     "output_type": "stream",
     "text": [
      "Missing columns in this chunk: {'tunnel_parents   label   detailed-label'}\n",
      "Missing columns in this chunk: {'tunnel_parents   label   detailed-label'}\n"
     ]
    },
    {
     "name": "stderr",
     "output_type": "stream",
     "text": [
      "/tmp/ipykernel_18148/1266505323.py:8: DtypeWarning: Columns (7) have mixed types. Specify dtype option on import or set low_memory=False.\n",
      "  for chunk in pd.read_csv(\"/home/charlie/Desktop/master_data.csv\", chunksize=chunk_size):\n",
      "/tmp/ipykernel_18148/1266505323.py:8: DtypeWarning: Columns (7) have mixed types. Specify dtype option on import or set low_memory=False.\n",
      "  for chunk in pd.read_csv(\"/home/charlie/Desktop/master_data.csv\", chunksize=chunk_size):\n"
     ]
    },
    {
     "name": "stdout",
     "output_type": "stream",
     "text": [
      "Missing columns in this chunk: {'tunnel_parents   label   detailed-label'}\n",
      "Missing columns in this chunk: {'tunnel_parents   label   detailed-label'}\n"
     ]
    },
    {
     "name": "stderr",
     "output_type": "stream",
     "text": [
      "/tmp/ipykernel_18148/1266505323.py:8: DtypeWarning: Columns (7) have mixed types. Specify dtype option on import or set low_memory=False.\n",
      "  for chunk in pd.read_csv(\"/home/charlie/Desktop/master_data.csv\", chunksize=chunk_size):\n",
      "/tmp/ipykernel_18148/1266505323.py:8: DtypeWarning: Columns (7) have mixed types. Specify dtype option on import or set low_memory=False.\n",
      "  for chunk in pd.read_csv(\"/home/charlie/Desktop/master_data.csv\", chunksize=chunk_size):\n"
     ]
    },
    {
     "name": "stdout",
     "output_type": "stream",
     "text": [
      "Missing columns in this chunk: {'tunnel_parents   label   detailed-label'}\n",
      "Missing columns in this chunk: {'tunnel_parents   label   detailed-label'}\n"
     ]
    },
    {
     "name": "stderr",
     "output_type": "stream",
     "text": [
      "/tmp/ipykernel_18148/1266505323.py:8: DtypeWarning: Columns (7) have mixed types. Specify dtype option on import or set low_memory=False.\n",
      "  for chunk in pd.read_csv(\"/home/charlie/Desktop/master_data.csv\", chunksize=chunk_size):\n",
      "/tmp/ipykernel_18148/1266505323.py:8: DtypeWarning: Columns (7) have mixed types. Specify dtype option on import or set low_memory=False.\n",
      "  for chunk in pd.read_csv(\"/home/charlie/Desktop/master_data.csv\", chunksize=chunk_size):\n"
     ]
    },
    {
     "name": "stdout",
     "output_type": "stream",
     "text": [
      "Missing columns in this chunk: {'tunnel_parents   label   detailed-label'}\n",
      "Missing columns in this chunk: {'tunnel_parents   label   detailed-label'}\n"
     ]
    },
    {
     "name": "stderr",
     "output_type": "stream",
     "text": [
      "/tmp/ipykernel_18148/1266505323.py:8: DtypeWarning: Columns (7) have mixed types. Specify dtype option on import or set low_memory=False.\n",
      "  for chunk in pd.read_csv(\"/home/charlie/Desktop/master_data.csv\", chunksize=chunk_size):\n",
      "/tmp/ipykernel_18148/1266505323.py:8: DtypeWarning: Columns (7) have mixed types. Specify dtype option on import or set low_memory=False.\n",
      "  for chunk in pd.read_csv(\"/home/charlie/Desktop/master_data.csv\", chunksize=chunk_size):\n"
     ]
    },
    {
     "name": "stdout",
     "output_type": "stream",
     "text": [
      "Missing columns in this chunk: {'tunnel_parents   label   detailed-label'}\n",
      "Missing columns in this chunk: {'tunnel_parents   label   detailed-label'}\n"
     ]
    },
    {
     "name": "stderr",
     "output_type": "stream",
     "text": [
      "/tmp/ipykernel_18148/1266505323.py:8: DtypeWarning: Columns (7) have mixed types. Specify dtype option on import or set low_memory=False.\n",
      "  for chunk in pd.read_csv(\"/home/charlie/Desktop/master_data.csv\", chunksize=chunk_size):\n",
      "/tmp/ipykernel_18148/1266505323.py:8: DtypeWarning: Columns (7) have mixed types. Specify dtype option on import or set low_memory=False.\n",
      "  for chunk in pd.read_csv(\"/home/charlie/Desktop/master_data.csv\", chunksize=chunk_size):\n"
     ]
    },
    {
     "name": "stdout",
     "output_type": "stream",
     "text": [
      "Missing columns in this chunk: {'tunnel_parents   label   detailed-label'}\n",
      "Missing columns in this chunk: {'tunnel_parents   label   detailed-label'}\n"
     ]
    },
    {
     "name": "stderr",
     "output_type": "stream",
     "text": [
      "/tmp/ipykernel_18148/1266505323.py:8: DtypeWarning: Columns (7) have mixed types. Specify dtype option on import or set low_memory=False.\n",
      "  for chunk in pd.read_csv(\"/home/charlie/Desktop/master_data.csv\", chunksize=chunk_size):\n",
      "/tmp/ipykernel_18148/1266505323.py:8: DtypeWarning: Columns (7) have mixed types. Specify dtype option on import or set low_memory=False.\n",
      "  for chunk in pd.read_csv(\"/home/charlie/Desktop/master_data.csv\", chunksize=chunk_size):\n"
     ]
    },
    {
     "name": "stdout",
     "output_type": "stream",
     "text": [
      "Missing columns in this chunk: {'tunnel_parents   label   detailed-label'}\n",
      "Missing columns in this chunk: {'tunnel_parents   label   detailed-label'}\n"
     ]
    },
    {
     "name": "stderr",
     "output_type": "stream",
     "text": [
      "/tmp/ipykernel_18148/1266505323.py:8: DtypeWarning: Columns (7) have mixed types. Specify dtype option on import or set low_memory=False.\n",
      "  for chunk in pd.read_csv(\"/home/charlie/Desktop/master_data.csv\", chunksize=chunk_size):\n",
      "/tmp/ipykernel_18148/1266505323.py:8: DtypeWarning: Columns (7) have mixed types. Specify dtype option on import or set low_memory=False.\n",
      "  for chunk in pd.read_csv(\"/home/charlie/Desktop/master_data.csv\", chunksize=chunk_size):\n"
     ]
    },
    {
     "name": "stdout",
     "output_type": "stream",
     "text": [
      "Missing columns in this chunk: {'tunnel_parents   label   detailed-label'}\n",
      "Missing columns in this chunk: {'tunnel_parents   label   detailed-label'}\n"
     ]
    },
    {
     "name": "stderr",
     "output_type": "stream",
     "text": [
      "/tmp/ipykernel_18148/1266505323.py:8: DtypeWarning: Columns (7) have mixed types. Specify dtype option on import or set low_memory=False.\n",
      "  for chunk in pd.read_csv(\"/home/charlie/Desktop/master_data.csv\", chunksize=chunk_size):\n",
      "/tmp/ipykernel_18148/1266505323.py:8: DtypeWarning: Columns (7) have mixed types. Specify dtype option on import or set low_memory=False.\n",
      "  for chunk in pd.read_csv(\"/home/charlie/Desktop/master_data.csv\", chunksize=chunk_size):\n"
     ]
    },
    {
     "name": "stdout",
     "output_type": "stream",
     "text": [
      "Missing columns in this chunk: {'tunnel_parents   label   detailed-label'}\n",
      "Missing columns in this chunk: {'tunnel_parents   label   detailed-label'}\n"
     ]
    },
    {
     "name": "stderr",
     "output_type": "stream",
     "text": [
      "/tmp/ipykernel_18148/1266505323.py:8: DtypeWarning: Columns (7) have mixed types. Specify dtype option on import or set low_memory=False.\n",
      "  for chunk in pd.read_csv(\"/home/charlie/Desktop/master_data.csv\", chunksize=chunk_size):\n",
      "/tmp/ipykernel_18148/1266505323.py:8: DtypeWarning: Columns (7) have mixed types. Specify dtype option on import or set low_memory=False.\n",
      "  for chunk in pd.read_csv(\"/home/charlie/Desktop/master_data.csv\", chunksize=chunk_size):\n"
     ]
    },
    {
     "name": "stdout",
     "output_type": "stream",
     "text": [
      "Missing columns in this chunk: {'tunnel_parents   label   detailed-label'}\n",
      "Missing columns in this chunk: {'tunnel_parents   label   detailed-label'}\n"
     ]
    },
    {
     "name": "stderr",
     "output_type": "stream",
     "text": [
      "/tmp/ipykernel_18148/1266505323.py:8: DtypeWarning: Columns (7) have mixed types. Specify dtype option on import or set low_memory=False.\n",
      "  for chunk in pd.read_csv(\"/home/charlie/Desktop/master_data.csv\", chunksize=chunk_size):\n",
      "/tmp/ipykernel_18148/1266505323.py:8: DtypeWarning: Columns (7) have mixed types. Specify dtype option on import or set low_memory=False.\n",
      "  for chunk in pd.read_csv(\"/home/charlie/Desktop/master_data.csv\", chunksize=chunk_size):\n"
     ]
    },
    {
     "name": "stdout",
     "output_type": "stream",
     "text": [
      "Missing columns in this chunk: {'tunnel_parents   label   detailed-label'}\n",
      "Missing columns in this chunk: {'tunnel_parents   label   detailed-label'}\n"
     ]
    },
    {
     "name": "stderr",
     "output_type": "stream",
     "text": [
      "/tmp/ipykernel_18148/1266505323.py:8: DtypeWarning: Columns (7) have mixed types. Specify dtype option on import or set low_memory=False.\n",
      "  for chunk in pd.read_csv(\"/home/charlie/Desktop/master_data.csv\", chunksize=chunk_size):\n",
      "/tmp/ipykernel_18148/1266505323.py:8: DtypeWarning: Columns (7) have mixed types. Specify dtype option on import or set low_memory=False.\n",
      "  for chunk in pd.read_csv(\"/home/charlie/Desktop/master_data.csv\", chunksize=chunk_size):\n"
     ]
    },
    {
     "name": "stdout",
     "output_type": "stream",
     "text": [
      "Missing columns in this chunk: {'tunnel_parents   label   detailed-label'}\n",
      "Missing columns in this chunk: {'tunnel_parents   label   detailed-label'}\n"
     ]
    },
    {
     "name": "stderr",
     "output_type": "stream",
     "text": [
      "/tmp/ipykernel_18148/1266505323.py:8: DtypeWarning: Columns (7) have mixed types. Specify dtype option on import or set low_memory=False.\n",
      "  for chunk in pd.read_csv(\"/home/charlie/Desktop/master_data.csv\", chunksize=chunk_size):\n",
      "/tmp/ipykernel_18148/1266505323.py:8: DtypeWarning: Columns (7) have mixed types. Specify dtype option on import or set low_memory=False.\n",
      "  for chunk in pd.read_csv(\"/home/charlie/Desktop/master_data.csv\", chunksize=chunk_size):\n"
     ]
    },
    {
     "name": "stdout",
     "output_type": "stream",
     "text": [
      "Missing columns in this chunk: {'tunnel_parents   label   detailed-label'}\n",
      "Missing columns in this chunk: {'tunnel_parents   label   detailed-label'}\n"
     ]
    },
    {
     "name": "stderr",
     "output_type": "stream",
     "text": [
      "/tmp/ipykernel_18148/1266505323.py:8: DtypeWarning: Columns (7) have mixed types. Specify dtype option on import or set low_memory=False.\n",
      "  for chunk in pd.read_csv(\"/home/charlie/Desktop/master_data.csv\", chunksize=chunk_size):\n",
      "/tmp/ipykernel_18148/1266505323.py:8: DtypeWarning: Columns (7) have mixed types. Specify dtype option on import or set low_memory=False.\n",
      "  for chunk in pd.read_csv(\"/home/charlie/Desktop/master_data.csv\", chunksize=chunk_size):\n"
     ]
    },
    {
     "name": "stdout",
     "output_type": "stream",
     "text": [
      "Missing columns in this chunk: {'tunnel_parents   label   detailed-label'}\n",
      "Missing columns in this chunk: {'tunnel_parents   label   detailed-label'}\n"
     ]
    },
    {
     "name": "stderr",
     "output_type": "stream",
     "text": [
      "/tmp/ipykernel_18148/1266505323.py:8: DtypeWarning: Columns (7) have mixed types. Specify dtype option on import or set low_memory=False.\n",
      "  for chunk in pd.read_csv(\"/home/charlie/Desktop/master_data.csv\", chunksize=chunk_size):\n",
      "/tmp/ipykernel_18148/1266505323.py:8: DtypeWarning: Columns (7) have mixed types. Specify dtype option on import or set low_memory=False.\n",
      "  for chunk in pd.read_csv(\"/home/charlie/Desktop/master_data.csv\", chunksize=chunk_size):\n"
     ]
    },
    {
     "name": "stdout",
     "output_type": "stream",
     "text": [
      "Missing columns in this chunk: {'tunnel_parents   label   detailed-label'}\n",
      "Missing columns in this chunk: {'tunnel_parents   label   detailed-label'}\n"
     ]
    },
    {
     "name": "stderr",
     "output_type": "stream",
     "text": [
      "/tmp/ipykernel_18148/1266505323.py:8: DtypeWarning: Columns (7) have mixed types. Specify dtype option on import or set low_memory=False.\n",
      "  for chunk in pd.read_csv(\"/home/charlie/Desktop/master_data.csv\", chunksize=chunk_size):\n",
      "/tmp/ipykernel_18148/1266505323.py:8: DtypeWarning: Columns (7) have mixed types. Specify dtype option on import or set low_memory=False.\n",
      "  for chunk in pd.read_csv(\"/home/charlie/Desktop/master_data.csv\", chunksize=chunk_size):\n"
     ]
    },
    {
     "name": "stdout",
     "output_type": "stream",
     "text": [
      "Missing columns in this chunk: {'tunnel_parents   label   detailed-label'}\n",
      "Missing columns in this chunk: {'tunnel_parents   label   detailed-label'}\n"
     ]
    },
    {
     "name": "stderr",
     "output_type": "stream",
     "text": [
      "/tmp/ipykernel_18148/1266505323.py:8: DtypeWarning: Columns (7) have mixed types. Specify dtype option on import or set low_memory=False.\n",
      "  for chunk in pd.read_csv(\"/home/charlie/Desktop/master_data.csv\", chunksize=chunk_size):\n",
      "/tmp/ipykernel_18148/1266505323.py:8: DtypeWarning: Columns (7) have mixed types. Specify dtype option on import or set low_memory=False.\n",
      "  for chunk in pd.read_csv(\"/home/charlie/Desktop/master_data.csv\", chunksize=chunk_size):\n"
     ]
    },
    {
     "name": "stdout",
     "output_type": "stream",
     "text": [
      "Missing columns in this chunk: {'tunnel_parents   label   detailed-label'}\n",
      "Missing columns in this chunk: {'tunnel_parents   label   detailed-label'}\n"
     ]
    },
    {
     "name": "stderr",
     "output_type": "stream",
     "text": [
      "/tmp/ipykernel_18148/1266505323.py:8: DtypeWarning: Columns (7) have mixed types. Specify dtype option on import or set low_memory=False.\n",
      "  for chunk in pd.read_csv(\"/home/charlie/Desktop/master_data.csv\", chunksize=chunk_size):\n",
      "/tmp/ipykernel_18148/1266505323.py:8: DtypeWarning: Columns (7) have mixed types. Specify dtype option on import or set low_memory=False.\n",
      "  for chunk in pd.read_csv(\"/home/charlie/Desktop/master_data.csv\", chunksize=chunk_size):\n"
     ]
    },
    {
     "name": "stdout",
     "output_type": "stream",
     "text": [
      "Missing columns in this chunk: {'tunnel_parents   label   detailed-label'}\n",
      "Missing columns in this chunk: {'tunnel_parents   label   detailed-label'}\n"
     ]
    },
    {
     "name": "stderr",
     "output_type": "stream",
     "text": [
      "/tmp/ipykernel_18148/1266505323.py:8: DtypeWarning: Columns (7) have mixed types. Specify dtype option on import or set low_memory=False.\n",
      "  for chunk in pd.read_csv(\"/home/charlie/Desktop/master_data.csv\", chunksize=chunk_size):\n",
      "/tmp/ipykernel_18148/1266505323.py:8: DtypeWarning: Columns (7) have mixed types. Specify dtype option on import or set low_memory=False.\n",
      "  for chunk in pd.read_csv(\"/home/charlie/Desktop/master_data.csv\", chunksize=chunk_size):\n"
     ]
    },
    {
     "name": "stdout",
     "output_type": "stream",
     "text": [
      "Missing columns in this chunk: {'tunnel_parents   label   detailed-label'}\n",
      "Missing columns in this chunk: {'tunnel_parents   label   detailed-label'}\n"
     ]
    },
    {
     "name": "stderr",
     "output_type": "stream",
     "text": [
      "/tmp/ipykernel_18148/1266505323.py:8: DtypeWarning: Columns (7) have mixed types. Specify dtype option on import or set low_memory=False.\n",
      "  for chunk in pd.read_csv(\"/home/charlie/Desktop/master_data.csv\", chunksize=chunk_size):\n",
      "/tmp/ipykernel_18148/1266505323.py:8: DtypeWarning: Columns (7) have mixed types. Specify dtype option on import or set low_memory=False.\n",
      "  for chunk in pd.read_csv(\"/home/charlie/Desktop/master_data.csv\", chunksize=chunk_size):\n"
     ]
    },
    {
     "name": "stdout",
     "output_type": "stream",
     "text": [
      "Missing columns in this chunk: {'tunnel_parents   label   detailed-label'}\n",
      "Missing columns in this chunk: {'tunnel_parents   label   detailed-label'}\n"
     ]
    },
    {
     "name": "stderr",
     "output_type": "stream",
     "text": [
      "/tmp/ipykernel_18148/1266505323.py:8: DtypeWarning: Columns (7) have mixed types. Specify dtype option on import or set low_memory=False.\n",
      "  for chunk in pd.read_csv(\"/home/charlie/Desktop/master_data.csv\", chunksize=chunk_size):\n",
      "/tmp/ipykernel_18148/1266505323.py:8: DtypeWarning: Columns (7) have mixed types. Specify dtype option on import or set low_memory=False.\n",
      "  for chunk in pd.read_csv(\"/home/charlie/Desktop/master_data.csv\", chunksize=chunk_size):\n"
     ]
    },
    {
     "name": "stdout",
     "output_type": "stream",
     "text": [
      "Missing columns in this chunk: {'tunnel_parents   label   detailed-label'}\n",
      "Missing columns in this chunk: {'tunnel_parents   label   detailed-label'}\n"
     ]
    },
    {
     "name": "stderr",
     "output_type": "stream",
     "text": [
      "/tmp/ipykernel_18148/1266505323.py:8: DtypeWarning: Columns (7) have mixed types. Specify dtype option on import or set low_memory=False.\n",
      "  for chunk in pd.read_csv(\"/home/charlie/Desktop/master_data.csv\", chunksize=chunk_size):\n",
      "/tmp/ipykernel_18148/1266505323.py:8: DtypeWarning: Columns (7) have mixed types. Specify dtype option on import or set low_memory=False.\n",
      "  for chunk in pd.read_csv(\"/home/charlie/Desktop/master_data.csv\", chunksize=chunk_size):\n"
     ]
    },
    {
     "name": "stdout",
     "output_type": "stream",
     "text": [
      "Missing columns in this chunk: {'tunnel_parents   label   detailed-label'}\n",
      "Missing columns in this chunk: {'tunnel_parents   label   detailed-label'}\n"
     ]
    },
    {
     "name": "stderr",
     "output_type": "stream",
     "text": [
      "/tmp/ipykernel_18148/1266505323.py:8: DtypeWarning: Columns (7) have mixed types. Specify dtype option on import or set low_memory=False.\n",
      "  for chunk in pd.read_csv(\"/home/charlie/Desktop/master_data.csv\", chunksize=chunk_size):\n",
      "/tmp/ipykernel_18148/1266505323.py:8: DtypeWarning: Columns (7) have mixed types. Specify dtype option on import or set low_memory=False.\n",
      "  for chunk in pd.read_csv(\"/home/charlie/Desktop/master_data.csv\", chunksize=chunk_size):\n"
     ]
    },
    {
     "name": "stdout",
     "output_type": "stream",
     "text": [
      "Missing columns in this chunk: {'tunnel_parents   label   detailed-label'}\n",
      "Missing columns in this chunk: {'tunnel_parents   label   detailed-label'}\n"
     ]
    },
    {
     "name": "stderr",
     "output_type": "stream",
     "text": [
      "/tmp/ipykernel_18148/1266505323.py:8: DtypeWarning: Columns (7) have mixed types. Specify dtype option on import or set low_memory=False.\n",
      "  for chunk in pd.read_csv(\"/home/charlie/Desktop/master_data.csv\", chunksize=chunk_size):\n",
      "/tmp/ipykernel_18148/1266505323.py:8: DtypeWarning: Columns (7) have mixed types. Specify dtype option on import or set low_memory=False.\n",
      "  for chunk in pd.read_csv(\"/home/charlie/Desktop/master_data.csv\", chunksize=chunk_size):\n"
     ]
    },
    {
     "name": "stdout",
     "output_type": "stream",
     "text": [
      "Missing columns in this chunk: {'tunnel_parents   label   detailed-label'}\n",
      "Missing columns in this chunk: {'tunnel_parents   label   detailed-label'}\n"
     ]
    },
    {
     "name": "stderr",
     "output_type": "stream",
     "text": [
      "/tmp/ipykernel_18148/1266505323.py:8: DtypeWarning: Columns (7) have mixed types. Specify dtype option on import or set low_memory=False.\n",
      "  for chunk in pd.read_csv(\"/home/charlie/Desktop/master_data.csv\", chunksize=chunk_size):\n",
      "/tmp/ipykernel_18148/1266505323.py:8: DtypeWarning: Columns (7) have mixed types. Specify dtype option on import or set low_memory=False.\n",
      "  for chunk in pd.read_csv(\"/home/charlie/Desktop/master_data.csv\", chunksize=chunk_size):\n"
     ]
    },
    {
     "name": "stdout",
     "output_type": "stream",
     "text": [
      "Missing columns in this chunk: {'tunnel_parents   label   detailed-label'}\n",
      "Missing columns in this chunk: {'tunnel_parents   label   detailed-label'}\n"
     ]
    },
    {
     "name": "stderr",
     "output_type": "stream",
     "text": [
      "/tmp/ipykernel_18148/1266505323.py:8: DtypeWarning: Columns (7) have mixed types. Specify dtype option on import or set low_memory=False.\n",
      "  for chunk in pd.read_csv(\"/home/charlie/Desktop/master_data.csv\", chunksize=chunk_size):\n",
      "/tmp/ipykernel_18148/1266505323.py:8: DtypeWarning: Columns (7) have mixed types. Specify dtype option on import or set low_memory=False.\n",
      "  for chunk in pd.read_csv(\"/home/charlie/Desktop/master_data.csv\", chunksize=chunk_size):\n"
     ]
    },
    {
     "name": "stdout",
     "output_type": "stream",
     "text": [
      "Missing columns in this chunk: {'tunnel_parents   label   detailed-label'}\n",
      "Missing columns in this chunk: {'tunnel_parents   label   detailed-label'}\n"
     ]
    },
    {
     "name": "stderr",
     "output_type": "stream",
     "text": [
      "/tmp/ipykernel_18148/1266505323.py:8: DtypeWarning: Columns (7) have mixed types. Specify dtype option on import or set low_memory=False.\n",
      "  for chunk in pd.read_csv(\"/home/charlie/Desktop/master_data.csv\", chunksize=chunk_size):\n",
      "/tmp/ipykernel_18148/1266505323.py:8: DtypeWarning: Columns (7) have mixed types. Specify dtype option on import or set low_memory=False.\n",
      "  for chunk in pd.read_csv(\"/home/charlie/Desktop/master_data.csv\", chunksize=chunk_size):\n"
     ]
    },
    {
     "name": "stdout",
     "output_type": "stream",
     "text": [
      "Missing columns in this chunk: {'tunnel_parents   label   detailed-label'}\n",
      "Missing columns in this chunk: {'tunnel_parents   label   detailed-label'}\n"
     ]
    },
    {
     "name": "stderr",
     "output_type": "stream",
     "text": [
      "/tmp/ipykernel_18148/1266505323.py:8: DtypeWarning: Columns (7) have mixed types. Specify dtype option on import or set low_memory=False.\n",
      "  for chunk in pd.read_csv(\"/home/charlie/Desktop/master_data.csv\", chunksize=chunk_size):\n",
      "/tmp/ipykernel_18148/1266505323.py:8: DtypeWarning: Columns (7) have mixed types. Specify dtype option on import or set low_memory=False.\n",
      "  for chunk in pd.read_csv(\"/home/charlie/Desktop/master_data.csv\", chunksize=chunk_size):\n"
     ]
    },
    {
     "name": "stdout",
     "output_type": "stream",
     "text": [
      "Missing columns in this chunk: {'tunnel_parents   label   detailed-label'}\n",
      "Missing columns in this chunk: {'tunnel_parents   label   detailed-label'}\n"
     ]
    },
    {
     "name": "stderr",
     "output_type": "stream",
     "text": [
      "/tmp/ipykernel_18148/1266505323.py:8: DtypeWarning: Columns (7) have mixed types. Specify dtype option on import or set low_memory=False.\n",
      "  for chunk in pd.read_csv(\"/home/charlie/Desktop/master_data.csv\", chunksize=chunk_size):\n",
      "/tmp/ipykernel_18148/1266505323.py:8: DtypeWarning: Columns (7) have mixed types. Specify dtype option on import or set low_memory=False.\n",
      "  for chunk in pd.read_csv(\"/home/charlie/Desktop/master_data.csv\", chunksize=chunk_size):\n"
     ]
    },
    {
     "name": "stdout",
     "output_type": "stream",
     "text": [
      "Missing columns in this chunk: {'tunnel_parents   label   detailed-label'}\n",
      "Missing columns in this chunk: {'tunnel_parents   label   detailed-label'}\n"
     ]
    },
    {
     "name": "stderr",
     "output_type": "stream",
     "text": [
      "/tmp/ipykernel_18148/1266505323.py:8: DtypeWarning: Columns (7) have mixed types. Specify dtype option on import or set low_memory=False.\n",
      "  for chunk in pd.read_csv(\"/home/charlie/Desktop/master_data.csv\", chunksize=chunk_size):\n",
      "/tmp/ipykernel_18148/1266505323.py:8: DtypeWarning: Columns (7) have mixed types. Specify dtype option on import or set low_memory=False.\n",
      "  for chunk in pd.read_csv(\"/home/charlie/Desktop/master_data.csv\", chunksize=chunk_size):\n"
     ]
    },
    {
     "name": "stdout",
     "output_type": "stream",
     "text": [
      "Missing columns in this chunk: {'tunnel_parents   label   detailed-label'}\n",
      "Missing columns in this chunk: {'tunnel_parents   label   detailed-label'}\n"
     ]
    },
    {
     "name": "stderr",
     "output_type": "stream",
     "text": [
      "/tmp/ipykernel_18148/1266505323.py:8: DtypeWarning: Columns (7) have mixed types. Specify dtype option on import or set low_memory=False.\n",
      "  for chunk in pd.read_csv(\"/home/charlie/Desktop/master_data.csv\", chunksize=chunk_size):\n",
      "/tmp/ipykernel_18148/1266505323.py:8: DtypeWarning: Columns (7) have mixed types. Specify dtype option on import or set low_memory=False.\n",
      "  for chunk in pd.read_csv(\"/home/charlie/Desktop/master_data.csv\", chunksize=chunk_size):\n"
     ]
    },
    {
     "name": "stdout",
     "output_type": "stream",
     "text": [
      "Missing columns in this chunk: {'tunnel_parents   label   detailed-label'}\n",
      "Missing columns in this chunk: {'tunnel_parents   label   detailed-label'}\n"
     ]
    },
    {
     "name": "stderr",
     "output_type": "stream",
     "text": [
      "/tmp/ipykernel_18148/1266505323.py:8: DtypeWarning: Columns (7) have mixed types. Specify dtype option on import or set low_memory=False.\n",
      "  for chunk in pd.read_csv(\"/home/charlie/Desktop/master_data.csv\", chunksize=chunk_size):\n",
      "/tmp/ipykernel_18148/1266505323.py:8: DtypeWarning: Columns (7) have mixed types. Specify dtype option on import or set low_memory=False.\n",
      "  for chunk in pd.read_csv(\"/home/charlie/Desktop/master_data.csv\", chunksize=chunk_size):\n"
     ]
    },
    {
     "name": "stdout",
     "output_type": "stream",
     "text": [
      "Missing columns in this chunk: {'tunnel_parents   label   detailed-label'}\n",
      "Missing columns in this chunk: {'tunnel_parents   label   detailed-label'}\n"
     ]
    },
    {
     "name": "stderr",
     "output_type": "stream",
     "text": [
      "/tmp/ipykernel_18148/1266505323.py:8: DtypeWarning: Columns (7) have mixed types. Specify dtype option on import or set low_memory=False.\n",
      "  for chunk in pd.read_csv(\"/home/charlie/Desktop/master_data.csv\", chunksize=chunk_size):\n",
      "/tmp/ipykernel_18148/1266505323.py:8: DtypeWarning: Columns (7) have mixed types. Specify dtype option on import or set low_memory=False.\n",
      "  for chunk in pd.read_csv(\"/home/charlie/Desktop/master_data.csv\", chunksize=chunk_size):\n"
     ]
    },
    {
     "name": "stdout",
     "output_type": "stream",
     "text": [
      "Missing columns in this chunk: {'tunnel_parents   label   detailed-label'}\n",
      "Missing columns in this chunk: {'tunnel_parents   label   detailed-label'}\n"
     ]
    },
    {
     "name": "stderr",
     "output_type": "stream",
     "text": [
      "/tmp/ipykernel_18148/1266505323.py:8: DtypeWarning: Columns (7) have mixed types. Specify dtype option on import or set low_memory=False.\n",
      "  for chunk in pd.read_csv(\"/home/charlie/Desktop/master_data.csv\", chunksize=chunk_size):\n",
      "/tmp/ipykernel_18148/1266505323.py:8: DtypeWarning: Columns (7) have mixed types. Specify dtype option on import or set low_memory=False.\n",
      "  for chunk in pd.read_csv(\"/home/charlie/Desktop/master_data.csv\", chunksize=chunk_size):\n"
     ]
    },
    {
     "name": "stdout",
     "output_type": "stream",
     "text": [
      "Missing columns in this chunk: {'tunnel_parents   label   detailed-label'}\n",
      "Missing columns in this chunk: {'tunnel_parents   label   detailed-label'}\n"
     ]
    },
    {
     "name": "stderr",
     "output_type": "stream",
     "text": [
      "/tmp/ipykernel_18148/1266505323.py:8: DtypeWarning: Columns (7) have mixed types. Specify dtype option on import or set low_memory=False.\n",
      "  for chunk in pd.read_csv(\"/home/charlie/Desktop/master_data.csv\", chunksize=chunk_size):\n",
      "/tmp/ipykernel_18148/1266505323.py:8: DtypeWarning: Columns (7) have mixed types. Specify dtype option on import or set low_memory=False.\n",
      "  for chunk in pd.read_csv(\"/home/charlie/Desktop/master_data.csv\", chunksize=chunk_size):\n"
     ]
    },
    {
     "name": "stdout",
     "output_type": "stream",
     "text": [
      "Missing columns in this chunk: {'tunnel_parents   label   detailed-label'}\n",
      "Missing columns in this chunk: {'tunnel_parents   label   detailed-label'}\n"
     ]
    },
    {
     "name": "stderr",
     "output_type": "stream",
     "text": [
      "/tmp/ipykernel_18148/1266505323.py:8: DtypeWarning: Columns (7) have mixed types. Specify dtype option on import or set low_memory=False.\n",
      "  for chunk in pd.read_csv(\"/home/charlie/Desktop/master_data.csv\", chunksize=chunk_size):\n",
      "/tmp/ipykernel_18148/1266505323.py:8: DtypeWarning: Columns (7) have mixed types. Specify dtype option on import or set low_memory=False.\n",
      "  for chunk in pd.read_csv(\"/home/charlie/Desktop/master_data.csv\", chunksize=chunk_size):\n"
     ]
    },
    {
     "name": "stdout",
     "output_type": "stream",
     "text": [
      "Missing columns in this chunk: {'tunnel_parents   label   detailed-label'}\n",
      "Missing columns in this chunk: {'tunnel_parents   label   detailed-label'}\n"
     ]
    },
    {
     "name": "stderr",
     "output_type": "stream",
     "text": [
      "/tmp/ipykernel_18148/1266505323.py:8: DtypeWarning: Columns (7) have mixed types. Specify dtype option on import or set low_memory=False.\n",
      "  for chunk in pd.read_csv(\"/home/charlie/Desktop/master_data.csv\", chunksize=chunk_size):\n",
      "/tmp/ipykernel_18148/1266505323.py:8: DtypeWarning: Columns (7) have mixed types. Specify dtype option on import or set low_memory=False.\n",
      "  for chunk in pd.read_csv(\"/home/charlie/Desktop/master_data.csv\", chunksize=chunk_size):\n"
     ]
    },
    {
     "name": "stdout",
     "output_type": "stream",
     "text": [
      "Missing columns in this chunk: {'tunnel_parents   label   detailed-label'}\n",
      "Missing columns in this chunk: {'tunnel_parents   label   detailed-label'}\n"
     ]
    },
    {
     "name": "stderr",
     "output_type": "stream",
     "text": [
      "/tmp/ipykernel_18148/1266505323.py:8: DtypeWarning: Columns (7) have mixed types. Specify dtype option on import or set low_memory=False.\n",
      "  for chunk in pd.read_csv(\"/home/charlie/Desktop/master_data.csv\", chunksize=chunk_size):\n",
      "/tmp/ipykernel_18148/1266505323.py:8: DtypeWarning: Columns (7) have mixed types. Specify dtype option on import or set low_memory=False.\n",
      "  for chunk in pd.read_csv(\"/home/charlie/Desktop/master_data.csv\", chunksize=chunk_size):\n"
     ]
    },
    {
     "name": "stdout",
     "output_type": "stream",
     "text": [
      "Missing columns in this chunk: {'tunnel_parents   label   detailed-label'}\n",
      "Missing columns in this chunk: {'tunnel_parents   label   detailed-label'}\n"
     ]
    },
    {
     "name": "stderr",
     "output_type": "stream",
     "text": [
      "/tmp/ipykernel_18148/1266505323.py:8: DtypeWarning: Columns (7) have mixed types. Specify dtype option on import or set low_memory=False.\n",
      "  for chunk in pd.read_csv(\"/home/charlie/Desktop/master_data.csv\", chunksize=chunk_size):\n",
      "/tmp/ipykernel_18148/1266505323.py:8: DtypeWarning: Columns (7) have mixed types. Specify dtype option on import or set low_memory=False.\n",
      "  for chunk in pd.read_csv(\"/home/charlie/Desktop/master_data.csv\", chunksize=chunk_size):\n"
     ]
    },
    {
     "name": "stdout",
     "output_type": "stream",
     "text": [
      "Missing columns in this chunk: {'tunnel_parents   label   detailed-label'}\n",
      "Missing columns in this chunk: {'tunnel_parents   label   detailed-label'}\n"
     ]
    },
    {
     "name": "stderr",
     "output_type": "stream",
     "text": [
      "/tmp/ipykernel_18148/1266505323.py:8: DtypeWarning: Columns (7) have mixed types. Specify dtype option on import or set low_memory=False.\n",
      "  for chunk in pd.read_csv(\"/home/charlie/Desktop/master_data.csv\", chunksize=chunk_size):\n",
      "/tmp/ipykernel_18148/1266505323.py:8: DtypeWarning: Columns (7) have mixed types. Specify dtype option on import or set low_memory=False.\n",
      "  for chunk in pd.read_csv(\"/home/charlie/Desktop/master_data.csv\", chunksize=chunk_size):\n"
     ]
    },
    {
     "name": "stdout",
     "output_type": "stream",
     "text": [
      "Missing columns in this chunk: {'tunnel_parents   label   detailed-label'}\n",
      "Missing columns in this chunk: {'tunnel_parents   label   detailed-label'}\n"
     ]
    },
    {
     "name": "stderr",
     "output_type": "stream",
     "text": [
      "/tmp/ipykernel_18148/1266505323.py:8: DtypeWarning: Columns (7) have mixed types. Specify dtype option on import or set low_memory=False.\n",
      "  for chunk in pd.read_csv(\"/home/charlie/Desktop/master_data.csv\", chunksize=chunk_size):\n",
      "/tmp/ipykernel_18148/1266505323.py:8: DtypeWarning: Columns (7) have mixed types. Specify dtype option on import or set low_memory=False.\n",
      "  for chunk in pd.read_csv(\"/home/charlie/Desktop/master_data.csv\", chunksize=chunk_size):\n"
     ]
    },
    {
     "name": "stdout",
     "output_type": "stream",
     "text": [
      "Missing columns in this chunk: {'tunnel_parents   label   detailed-label'}\n",
      "Missing columns in this chunk: {'tunnel_parents   label   detailed-label'}\n"
     ]
    },
    {
     "name": "stderr",
     "output_type": "stream",
     "text": [
      "/tmp/ipykernel_18148/1266505323.py:8: DtypeWarning: Columns (7) have mixed types. Specify dtype option on import or set low_memory=False.\n",
      "  for chunk in pd.read_csv(\"/home/charlie/Desktop/master_data.csv\", chunksize=chunk_size):\n",
      "/tmp/ipykernel_18148/1266505323.py:8: DtypeWarning: Columns (7) have mixed types. Specify dtype option on import or set low_memory=False.\n",
      "  for chunk in pd.read_csv(\"/home/charlie/Desktop/master_data.csv\", chunksize=chunk_size):\n"
     ]
    },
    {
     "name": "stdout",
     "output_type": "stream",
     "text": [
      "Missing columns in this chunk: {'tunnel_parents   label   detailed-label'}\n",
      "Missing columns in this chunk: {'tunnel_parents   label   detailed-label'}\n"
     ]
    },
    {
     "name": "stderr",
     "output_type": "stream",
     "text": [
      "/tmp/ipykernel_18148/1266505323.py:8: DtypeWarning: Columns (7) have mixed types. Specify dtype option on import or set low_memory=False.\n",
      "  for chunk in pd.read_csv(\"/home/charlie/Desktop/master_data.csv\", chunksize=chunk_size):\n",
      "/tmp/ipykernel_18148/1266505323.py:8: DtypeWarning: Columns (7) have mixed types. Specify dtype option on import or set low_memory=False.\n",
      "  for chunk in pd.read_csv(\"/home/charlie/Desktop/master_data.csv\", chunksize=chunk_size):\n"
     ]
    },
    {
     "name": "stdout",
     "output_type": "stream",
     "text": [
      "Missing columns in this chunk: {'tunnel_parents   label   detailed-label'}\n",
      "Missing columns in this chunk: {'tunnel_parents   label   detailed-label'}\n"
     ]
    },
    {
     "name": "stderr",
     "output_type": "stream",
     "text": [
      "/tmp/ipykernel_18148/1266505323.py:8: DtypeWarning: Columns (7) have mixed types. Specify dtype option on import or set low_memory=False.\n",
      "  for chunk in pd.read_csv(\"/home/charlie/Desktop/master_data.csv\", chunksize=chunk_size):\n",
      "/tmp/ipykernel_18148/1266505323.py:8: DtypeWarning: Columns (7) have mixed types. Specify dtype option on import or set low_memory=False.\n",
      "  for chunk in pd.read_csv(\"/home/charlie/Desktop/master_data.csv\", chunksize=chunk_size):\n"
     ]
    },
    {
     "name": "stdout",
     "output_type": "stream",
     "text": [
      "Missing columns in this chunk: {'tunnel_parents   label   detailed-label'}\n",
      "Missing columns in this chunk: {'tunnel_parents   label   detailed-label'}\n"
     ]
    },
    {
     "name": "stderr",
     "output_type": "stream",
     "text": [
      "/tmp/ipykernel_18148/1266505323.py:8: DtypeWarning: Columns (7) have mixed types. Specify dtype option on import or set low_memory=False.\n",
      "  for chunk in pd.read_csv(\"/home/charlie/Desktop/master_data.csv\", chunksize=chunk_size):\n",
      "/tmp/ipykernel_18148/1266505323.py:8: DtypeWarning: Columns (7) have mixed types. Specify dtype option on import or set low_memory=False.\n",
      "  for chunk in pd.read_csv(\"/home/charlie/Desktop/master_data.csv\", chunksize=chunk_size):\n"
     ]
    },
    {
     "name": "stdout",
     "output_type": "stream",
     "text": [
      "Missing columns in this chunk: {'tunnel_parents   label   detailed-label'}\n",
      "Missing columns in this chunk: {'tunnel_parents   label   detailed-label'}\n"
     ]
    },
    {
     "name": "stderr",
     "output_type": "stream",
     "text": [
      "/tmp/ipykernel_18148/1266505323.py:8: DtypeWarning: Columns (7) have mixed types. Specify dtype option on import or set low_memory=False.\n",
      "  for chunk in pd.read_csv(\"/home/charlie/Desktop/master_data.csv\", chunksize=chunk_size):\n",
      "/tmp/ipykernel_18148/1266505323.py:8: DtypeWarning: Columns (7) have mixed types. Specify dtype option on import or set low_memory=False.\n",
      "  for chunk in pd.read_csv(\"/home/charlie/Desktop/master_data.csv\", chunksize=chunk_size):\n"
     ]
    },
    {
     "name": "stdout",
     "output_type": "stream",
     "text": [
      "Missing columns in this chunk: {'tunnel_parents   label   detailed-label'}\n",
      "Missing columns in this chunk: {'tunnel_parents   label   detailed-label'}\n"
     ]
    },
    {
     "name": "stderr",
     "output_type": "stream",
     "text": [
      "/tmp/ipykernel_18148/1266505323.py:8: DtypeWarning: Columns (7) have mixed types. Specify dtype option on import or set low_memory=False.\n",
      "  for chunk in pd.read_csv(\"/home/charlie/Desktop/master_data.csv\", chunksize=chunk_size):\n",
      "/tmp/ipykernel_18148/1266505323.py:8: DtypeWarning: Columns (7) have mixed types. Specify dtype option on import or set low_memory=False.\n",
      "  for chunk in pd.read_csv(\"/home/charlie/Desktop/master_data.csv\", chunksize=chunk_size):\n"
     ]
    },
    {
     "name": "stdout",
     "output_type": "stream",
     "text": [
      "Missing columns in this chunk: {'tunnel_parents   label   detailed-label'}\n",
      "Missing columns in this chunk: {'tunnel_parents   label   detailed-label'}\n"
     ]
    },
    {
     "name": "stderr",
     "output_type": "stream",
     "text": [
      "/tmp/ipykernel_18148/1266505323.py:8: DtypeWarning: Columns (7) have mixed types. Specify dtype option on import or set low_memory=False.\n",
      "  for chunk in pd.read_csv(\"/home/charlie/Desktop/master_data.csv\", chunksize=chunk_size):\n",
      "/tmp/ipykernel_18148/1266505323.py:8: DtypeWarning: Columns (7) have mixed types. Specify dtype option on import or set low_memory=False.\n",
      "  for chunk in pd.read_csv(\"/home/charlie/Desktop/master_data.csv\", chunksize=chunk_size):\n"
     ]
    },
    {
     "name": "stdout",
     "output_type": "stream",
     "text": [
      "Missing columns in this chunk: {'tunnel_parents   label   detailed-label'}\n",
      "Missing columns in this chunk: {'tunnel_parents   label   detailed-label'}\n"
     ]
    },
    {
     "name": "stderr",
     "output_type": "stream",
     "text": [
      "/tmp/ipykernel_18148/1266505323.py:8: DtypeWarning: Columns (7) have mixed types. Specify dtype option on import or set low_memory=False.\n",
      "  for chunk in pd.read_csv(\"/home/charlie/Desktop/master_data.csv\", chunksize=chunk_size):\n",
      "/tmp/ipykernel_18148/1266505323.py:8: DtypeWarning: Columns (7) have mixed types. Specify dtype option on import or set low_memory=False.\n",
      "  for chunk in pd.read_csv(\"/home/charlie/Desktop/master_data.csv\", chunksize=chunk_size):\n"
     ]
    },
    {
     "name": "stdout",
     "output_type": "stream",
     "text": [
      "Missing columns in this chunk: {'tunnel_parents   label   detailed-label'}\n",
      "Missing columns in this chunk: {'tunnel_parents   label   detailed-label'}\n"
     ]
    },
    {
     "name": "stderr",
     "output_type": "stream",
     "text": [
      "/tmp/ipykernel_18148/1266505323.py:8: DtypeWarning: Columns (7) have mixed types. Specify dtype option on import or set low_memory=False.\n",
      "  for chunk in pd.read_csv(\"/home/charlie/Desktop/master_data.csv\", chunksize=chunk_size):\n",
      "/tmp/ipykernel_18148/1266505323.py:8: DtypeWarning: Columns (7) have mixed types. Specify dtype option on import or set low_memory=False.\n",
      "  for chunk in pd.read_csv(\"/home/charlie/Desktop/master_data.csv\", chunksize=chunk_size):\n"
     ]
    },
    {
     "name": "stdout",
     "output_type": "stream",
     "text": [
      "Missing columns in this chunk: {'tunnel_parents   label   detailed-label'}\n",
      "Missing columns in this chunk: {'tunnel_parents   label   detailed-label'}\n"
     ]
    },
    {
     "name": "stderr",
     "output_type": "stream",
     "text": [
      "/tmp/ipykernel_18148/1266505323.py:8: DtypeWarning: Columns (7) have mixed types. Specify dtype option on import or set low_memory=False.\n",
      "  for chunk in pd.read_csv(\"/home/charlie/Desktop/master_data.csv\", chunksize=chunk_size):\n",
      "/tmp/ipykernel_18148/1266505323.py:8: DtypeWarning: Columns (7) have mixed types. Specify dtype option on import or set low_memory=False.\n",
      "  for chunk in pd.read_csv(\"/home/charlie/Desktop/master_data.csv\", chunksize=chunk_size):\n"
     ]
    },
    {
     "name": "stdout",
     "output_type": "stream",
     "text": [
      "Missing columns in this chunk: {'tunnel_parents   label   detailed-label'}\n",
      "Missing columns in this chunk: {'tunnel_parents   label   detailed-label'}\n"
     ]
    },
    {
     "name": "stderr",
     "output_type": "stream",
     "text": [
      "/tmp/ipykernel_18148/1266505323.py:8: DtypeWarning: Columns (7) have mixed types. Specify dtype option on import or set low_memory=False.\n",
      "  for chunk in pd.read_csv(\"/home/charlie/Desktop/master_data.csv\", chunksize=chunk_size):\n",
      "/tmp/ipykernel_18148/1266505323.py:8: DtypeWarning: Columns (7) have mixed types. Specify dtype option on import or set low_memory=False.\n",
      "  for chunk in pd.read_csv(\"/home/charlie/Desktop/master_data.csv\", chunksize=chunk_size):\n"
     ]
    },
    {
     "name": "stdout",
     "output_type": "stream",
     "text": [
      "Missing columns in this chunk: {'tunnel_parents   label   detailed-label'}\n",
      "Missing columns in this chunk: {'tunnel_parents   label   detailed-label'}\n"
     ]
    },
    {
     "name": "stderr",
     "output_type": "stream",
     "text": [
      "/tmp/ipykernel_18148/1266505323.py:8: DtypeWarning: Columns (7) have mixed types. Specify dtype option on import or set low_memory=False.\n",
      "  for chunk in pd.read_csv(\"/home/charlie/Desktop/master_data.csv\", chunksize=chunk_size):\n",
      "/tmp/ipykernel_18148/1266505323.py:8: DtypeWarning: Columns (7) have mixed types. Specify dtype option on import or set low_memory=False.\n",
      "  for chunk in pd.read_csv(\"/home/charlie/Desktop/master_data.csv\", chunksize=chunk_size):\n"
     ]
    },
    {
     "name": "stdout",
     "output_type": "stream",
     "text": [
      "Missing columns in this chunk: {'tunnel_parents   label   detailed-label'}\n",
      "Missing columns in this chunk: {'tunnel_parents   label   detailed-label'}\n"
     ]
    },
    {
     "name": "stderr",
     "output_type": "stream",
     "text": [
      "/tmp/ipykernel_18148/1266505323.py:8: DtypeWarning: Columns (7) have mixed types. Specify dtype option on import or set low_memory=False.\n",
      "  for chunk in pd.read_csv(\"/home/charlie/Desktop/master_data.csv\", chunksize=chunk_size):\n",
      "/tmp/ipykernel_18148/1266505323.py:8: DtypeWarning: Columns (7) have mixed types. Specify dtype option on import or set low_memory=False.\n",
      "  for chunk in pd.read_csv(\"/home/charlie/Desktop/master_data.csv\", chunksize=chunk_size):\n"
     ]
    },
    {
     "name": "stdout",
     "output_type": "stream",
     "text": [
      "Missing columns in this chunk: {'tunnel_parents   label   detailed-label'}\n",
      "Missing columns in this chunk: {'tunnel_parents   label   detailed-label'}\n"
     ]
    },
    {
     "name": "stderr",
     "output_type": "stream",
     "text": [
      "/tmp/ipykernel_18148/1266505323.py:8: DtypeWarning: Columns (7) have mixed types. Specify dtype option on import or set low_memory=False.\n",
      "  for chunk in pd.read_csv(\"/home/charlie/Desktop/master_data.csv\", chunksize=chunk_size):\n",
      "/tmp/ipykernel_18148/1266505323.py:8: DtypeWarning: Columns (7) have mixed types. Specify dtype option on import or set low_memory=False.\n",
      "  for chunk in pd.read_csv(\"/home/charlie/Desktop/master_data.csv\", chunksize=chunk_size):\n"
     ]
    },
    {
     "name": "stdout",
     "output_type": "stream",
     "text": [
      "Missing columns in this chunk: {'tunnel_parents   label   detailed-label'}\n",
      "Missing columns in this chunk: {'tunnel_parents   label   detailed-label'}\n"
     ]
    },
    {
     "name": "stderr",
     "output_type": "stream",
     "text": [
      "/tmp/ipykernel_18148/1266505323.py:8: DtypeWarning: Columns (7) have mixed types. Specify dtype option on import or set low_memory=False.\n",
      "  for chunk in pd.read_csv(\"/home/charlie/Desktop/master_data.csv\", chunksize=chunk_size):\n",
      "/tmp/ipykernel_18148/1266505323.py:8: DtypeWarning: Columns (7) have mixed types. Specify dtype option on import or set low_memory=False.\n",
      "  for chunk in pd.read_csv(\"/home/charlie/Desktop/master_data.csv\", chunksize=chunk_size):\n"
     ]
    },
    {
     "name": "stdout",
     "output_type": "stream",
     "text": [
      "Missing columns in this chunk: {'tunnel_parents   label   detailed-label'}\n",
      "Missing columns in this chunk: {'tunnel_parents   label   detailed-label'}\n"
     ]
    },
    {
     "name": "stderr",
     "output_type": "stream",
     "text": [
      "/tmp/ipykernel_18148/1266505323.py:8: DtypeWarning: Columns (7) have mixed types. Specify dtype option on import or set low_memory=False.\n",
      "  for chunk in pd.read_csv(\"/home/charlie/Desktop/master_data.csv\", chunksize=chunk_size):\n",
      "/tmp/ipykernel_18148/1266505323.py:8: DtypeWarning: Columns (7) have mixed types. Specify dtype option on import or set low_memory=False.\n",
      "  for chunk in pd.read_csv(\"/home/charlie/Desktop/master_data.csv\", chunksize=chunk_size):\n"
     ]
    },
    {
     "name": "stdout",
     "output_type": "stream",
     "text": [
      "Missing columns in this chunk: {'tunnel_parents   label   detailed-label'}\n",
      "Missing columns in this chunk: {'tunnel_parents   label   detailed-label'}\n"
     ]
    },
    {
     "name": "stderr",
     "output_type": "stream",
     "text": [
      "/tmp/ipykernel_18148/1266505323.py:8: DtypeWarning: Columns (7) have mixed types. Specify dtype option on import or set low_memory=False.\n",
      "  for chunk in pd.read_csv(\"/home/charlie/Desktop/master_data.csv\", chunksize=chunk_size):\n",
      "/tmp/ipykernel_18148/1266505323.py:8: DtypeWarning: Columns (7) have mixed types. Specify dtype option on import or set low_memory=False.\n",
      "  for chunk in pd.read_csv(\"/home/charlie/Desktop/master_data.csv\", chunksize=chunk_size):\n"
     ]
    },
    {
     "name": "stdout",
     "output_type": "stream",
     "text": [
      "Missing columns in this chunk: {'tunnel_parents   label   detailed-label'}\n",
      "Missing columns in this chunk: {'tunnel_parents   label   detailed-label'}\n"
     ]
    },
    {
     "name": "stderr",
     "output_type": "stream",
     "text": [
      "/tmp/ipykernel_18148/1266505323.py:8: DtypeWarning: Columns (7) have mixed types. Specify dtype option on import or set low_memory=False.\n",
      "  for chunk in pd.read_csv(\"/home/charlie/Desktop/master_data.csv\", chunksize=chunk_size):\n",
      "/tmp/ipykernel_18148/1266505323.py:8: DtypeWarning: Columns (7) have mixed types. Specify dtype option on import or set low_memory=False.\n",
      "  for chunk in pd.read_csv(\"/home/charlie/Desktop/master_data.csv\", chunksize=chunk_size):\n"
     ]
    },
    {
     "name": "stdout",
     "output_type": "stream",
     "text": [
      "Missing columns in this chunk: {'tunnel_parents   label   detailed-label'}\n",
      "Missing columns in this chunk: {'tunnel_parents   label   detailed-label'}\n"
     ]
    },
    {
     "name": "stderr",
     "output_type": "stream",
     "text": [
      "/tmp/ipykernel_18148/1266505323.py:8: DtypeWarning: Columns (7) have mixed types. Specify dtype option on import or set low_memory=False.\n",
      "  for chunk in pd.read_csv(\"/home/charlie/Desktop/master_data.csv\", chunksize=chunk_size):\n",
      "/tmp/ipykernel_18148/1266505323.py:8: DtypeWarning: Columns (7) have mixed types. Specify dtype option on import or set low_memory=False.\n",
      "  for chunk in pd.read_csv(\"/home/charlie/Desktop/master_data.csv\", chunksize=chunk_size):\n"
     ]
    },
    {
     "name": "stdout",
     "output_type": "stream",
     "text": [
      "Missing columns in this chunk: {'tunnel_parents   label   detailed-label'}\n",
      "Missing columns in this chunk: {'tunnel_parents   label   detailed-label'}\n"
     ]
    },
    {
     "name": "stderr",
     "output_type": "stream",
     "text": [
      "/tmp/ipykernel_18148/1266505323.py:8: DtypeWarning: Columns (7) have mixed types. Specify dtype option on import or set low_memory=False.\n",
      "  for chunk in pd.read_csv(\"/home/charlie/Desktop/master_data.csv\", chunksize=chunk_size):\n",
      "/tmp/ipykernel_18148/1266505323.py:8: DtypeWarning: Columns (7) have mixed types. Specify dtype option on import or set low_memory=False.\n",
      "  for chunk in pd.read_csv(\"/home/charlie/Desktop/master_data.csv\", chunksize=chunk_size):\n"
     ]
    },
    {
     "name": "stdout",
     "output_type": "stream",
     "text": [
      "Missing columns in this chunk: {'tunnel_parents   label   detailed-label'}\n",
      "Missing columns in this chunk: {'tunnel_parents   label   detailed-label'}\n"
     ]
    },
    {
     "name": "stderr",
     "output_type": "stream",
     "text": [
      "/tmp/ipykernel_18148/1266505323.py:8: DtypeWarning: Columns (7) have mixed types. Specify dtype option on import or set low_memory=False.\n",
      "  for chunk in pd.read_csv(\"/home/charlie/Desktop/master_data.csv\", chunksize=chunk_size):\n",
      "/tmp/ipykernel_18148/1266505323.py:8: DtypeWarning: Columns (7) have mixed types. Specify dtype option on import or set low_memory=False.\n",
      "  for chunk in pd.read_csv(\"/home/charlie/Desktop/master_data.csv\", chunksize=chunk_size):\n"
     ]
    },
    {
     "name": "stdout",
     "output_type": "stream",
     "text": [
      "Missing columns in this chunk: {'tunnel_parents   label   detailed-label'}\n",
      "Missing columns in this chunk: {'tunnel_parents   label   detailed-label'}\n"
     ]
    },
    {
     "name": "stderr",
     "output_type": "stream",
     "text": [
      "/tmp/ipykernel_18148/1266505323.py:8: DtypeWarning: Columns (7) have mixed types. Specify dtype option on import or set low_memory=False.\n",
      "  for chunk in pd.read_csv(\"/home/charlie/Desktop/master_data.csv\", chunksize=chunk_size):\n",
      "/tmp/ipykernel_18148/1266505323.py:8: DtypeWarning: Columns (7) have mixed types. Specify dtype option on import or set low_memory=False.\n",
      "  for chunk in pd.read_csv(\"/home/charlie/Desktop/master_data.csv\", chunksize=chunk_size):\n"
     ]
    },
    {
     "name": "stdout",
     "output_type": "stream",
     "text": [
      "Missing columns in this chunk: {'tunnel_parents   label   detailed-label'}\n",
      "Missing columns in this chunk: {'tunnel_parents   label   detailed-label'}\n"
     ]
    },
    {
     "name": "stderr",
     "output_type": "stream",
     "text": [
      "/tmp/ipykernel_18148/1266505323.py:8: DtypeWarning: Columns (7) have mixed types. Specify dtype option on import or set low_memory=False.\n",
      "  for chunk in pd.read_csv(\"/home/charlie/Desktop/master_data.csv\", chunksize=chunk_size):\n",
      "/tmp/ipykernel_18148/1266505323.py:8: DtypeWarning: Columns (7) have mixed types. Specify dtype option on import or set low_memory=False.\n",
      "  for chunk in pd.read_csv(\"/home/charlie/Desktop/master_data.csv\", chunksize=chunk_size):\n"
     ]
    },
    {
     "name": "stdout",
     "output_type": "stream",
     "text": [
      "Missing columns in this chunk: {'tunnel_parents   label   detailed-label'}\n",
      "Missing columns in this chunk: {'tunnel_parents   label   detailed-label'}\n"
     ]
    },
    {
     "name": "stderr",
     "output_type": "stream",
     "text": [
      "/tmp/ipykernel_18148/1266505323.py:8: DtypeWarning: Columns (7) have mixed types. Specify dtype option on import or set low_memory=False.\n",
      "  for chunk in pd.read_csv(\"/home/charlie/Desktop/master_data.csv\", chunksize=chunk_size):\n",
      "/tmp/ipykernel_18148/1266505323.py:8: DtypeWarning: Columns (7) have mixed types. Specify dtype option on import or set low_memory=False.\n",
      "  for chunk in pd.read_csv(\"/home/charlie/Desktop/master_data.csv\", chunksize=chunk_size):\n"
     ]
    },
    {
     "name": "stdout",
     "output_type": "stream",
     "text": [
      "Missing columns in this chunk: {'tunnel_parents   label   detailed-label'}\n",
      "Missing columns in this chunk: {'tunnel_parents   label   detailed-label'}\n"
     ]
    },
    {
     "name": "stderr",
     "output_type": "stream",
     "text": [
      "/tmp/ipykernel_18148/1266505323.py:8: DtypeWarning: Columns (7) have mixed types. Specify dtype option on import or set low_memory=False.\n",
      "  for chunk in pd.read_csv(\"/home/charlie/Desktop/master_data.csv\", chunksize=chunk_size):\n",
      "/tmp/ipykernel_18148/1266505323.py:8: DtypeWarning: Columns (7) have mixed types. Specify dtype option on import or set low_memory=False.\n",
      "  for chunk in pd.read_csv(\"/home/charlie/Desktop/master_data.csv\", chunksize=chunk_size):\n"
     ]
    },
    {
     "name": "stdout",
     "output_type": "stream",
     "text": [
      "Missing columns in this chunk: {'tunnel_parents   label   detailed-label'}\n",
      "Missing columns in this chunk: {'tunnel_parents   label   detailed-label'}\n"
     ]
    },
    {
     "name": "stderr",
     "output_type": "stream",
     "text": [
      "/tmp/ipykernel_18148/1266505323.py:8: DtypeWarning: Columns (7) have mixed types. Specify dtype option on import or set low_memory=False.\n",
      "  for chunk in pd.read_csv(\"/home/charlie/Desktop/master_data.csv\", chunksize=chunk_size):\n",
      "/tmp/ipykernel_18148/1266505323.py:8: DtypeWarning: Columns (7) have mixed types. Specify dtype option on import or set low_memory=False.\n",
      "  for chunk in pd.read_csv(\"/home/charlie/Desktop/master_data.csv\", chunksize=chunk_size):\n"
     ]
    },
    {
     "name": "stdout",
     "output_type": "stream",
     "text": [
      "Missing columns in this chunk: {'tunnel_parents   label   detailed-label'}\n",
      "Missing columns in this chunk: {'tunnel_parents   label   detailed-label'}\n"
     ]
    },
    {
     "name": "stderr",
     "output_type": "stream",
     "text": [
      "/tmp/ipykernel_18148/1266505323.py:8: DtypeWarning: Columns (7) have mixed types. Specify dtype option on import or set low_memory=False.\n",
      "  for chunk in pd.read_csv(\"/home/charlie/Desktop/master_data.csv\", chunksize=chunk_size):\n",
      "/tmp/ipykernel_18148/1266505323.py:8: DtypeWarning: Columns (7) have mixed types. Specify dtype option on import or set low_memory=False.\n",
      "  for chunk in pd.read_csv(\"/home/charlie/Desktop/master_data.csv\", chunksize=chunk_size):\n"
     ]
    },
    {
     "name": "stdout",
     "output_type": "stream",
     "text": [
      "Missing columns in this chunk: {'tunnel_parents   label   detailed-label'}\n",
      "Missing columns in this chunk: {'tunnel_parents   label   detailed-label'}\n"
     ]
    },
    {
     "name": "stderr",
     "output_type": "stream",
     "text": [
      "/tmp/ipykernel_18148/1266505323.py:8: DtypeWarning: Columns (7) have mixed types. Specify dtype option on import or set low_memory=False.\n",
      "  for chunk in pd.read_csv(\"/home/charlie/Desktop/master_data.csv\", chunksize=chunk_size):\n",
      "/tmp/ipykernel_18148/1266505323.py:8: DtypeWarning: Columns (7) have mixed types. Specify dtype option on import or set low_memory=False.\n",
      "  for chunk in pd.read_csv(\"/home/charlie/Desktop/master_data.csv\", chunksize=chunk_size):\n"
     ]
    },
    {
     "name": "stdout",
     "output_type": "stream",
     "text": [
      "Missing columns in this chunk: {'tunnel_parents   label   detailed-label'}\n",
      "Missing columns in this chunk: {'tunnel_parents   label   detailed-label'}\n"
     ]
    },
    {
     "name": "stderr",
     "output_type": "stream",
     "text": [
      "/tmp/ipykernel_18148/1266505323.py:8: DtypeWarning: Columns (7) have mixed types. Specify dtype option on import or set low_memory=False.\n",
      "  for chunk in pd.read_csv(\"/home/charlie/Desktop/master_data.csv\", chunksize=chunk_size):\n",
      "/tmp/ipykernel_18148/1266505323.py:8: DtypeWarning: Columns (7) have mixed types. Specify dtype option on import or set low_memory=False.\n",
      "  for chunk in pd.read_csv(\"/home/charlie/Desktop/master_data.csv\", chunksize=chunk_size):\n"
     ]
    },
    {
     "name": "stdout",
     "output_type": "stream",
     "text": [
      "Missing columns in this chunk: {'tunnel_parents   label   detailed-label'}\n",
      "Missing columns in this chunk: {'tunnel_parents   label   detailed-label'}\n"
     ]
    },
    {
     "name": "stderr",
     "output_type": "stream",
     "text": [
      "/tmp/ipykernel_18148/1266505323.py:8: DtypeWarning: Columns (7) have mixed types. Specify dtype option on import or set low_memory=False.\n",
      "  for chunk in pd.read_csv(\"/home/charlie/Desktop/master_data.csv\", chunksize=chunk_size):\n",
      "/tmp/ipykernel_18148/1266505323.py:8: DtypeWarning: Columns (7) have mixed types. Specify dtype option on import or set low_memory=False.\n",
      "  for chunk in pd.read_csv(\"/home/charlie/Desktop/master_data.csv\", chunksize=chunk_size):\n"
     ]
    },
    {
     "name": "stdout",
     "output_type": "stream",
     "text": [
      "Missing columns in this chunk: {'tunnel_parents   label   detailed-label'}\n",
      "Missing columns in this chunk: {'tunnel_parents   label   detailed-label'}\n"
     ]
    },
    {
     "name": "stderr",
     "output_type": "stream",
     "text": [
      "/tmp/ipykernel_18148/1266505323.py:8: DtypeWarning: Columns (7) have mixed types. Specify dtype option on import or set low_memory=False.\n",
      "  for chunk in pd.read_csv(\"/home/charlie/Desktop/master_data.csv\", chunksize=chunk_size):\n",
      "/tmp/ipykernel_18148/1266505323.py:8: DtypeWarning: Columns (7) have mixed types. Specify dtype option on import or set low_memory=False.\n",
      "  for chunk in pd.read_csv(\"/home/charlie/Desktop/master_data.csv\", chunksize=chunk_size):\n"
     ]
    },
    {
     "name": "stdout",
     "output_type": "stream",
     "text": [
      "Missing columns in this chunk: {'tunnel_parents   label   detailed-label'}\n",
      "Missing columns in this chunk: {'tunnel_parents   label   detailed-label'}\n"
     ]
    },
    {
     "name": "stderr",
     "output_type": "stream",
     "text": [
      "/tmp/ipykernel_18148/1266505323.py:8: DtypeWarning: Columns (7) have mixed types. Specify dtype option on import or set low_memory=False.\n",
      "  for chunk in pd.read_csv(\"/home/charlie/Desktop/master_data.csv\", chunksize=chunk_size):\n",
      "/tmp/ipykernel_18148/1266505323.py:8: DtypeWarning: Columns (7) have mixed types. Specify dtype option on import or set low_memory=False.\n",
      "  for chunk in pd.read_csv(\"/home/charlie/Desktop/master_data.csv\", chunksize=chunk_size):\n"
     ]
    },
    {
     "name": "stdout",
     "output_type": "stream",
     "text": [
      "Missing columns in this chunk: {'tunnel_parents   label   detailed-label'}\n",
      "Missing columns in this chunk: {'tunnel_parents   label   detailed-label'}\n"
     ]
    },
    {
     "name": "stderr",
     "output_type": "stream",
     "text": [
      "/tmp/ipykernel_18148/1266505323.py:8: DtypeWarning: Columns (7) have mixed types. Specify dtype option on import or set low_memory=False.\n",
      "  for chunk in pd.read_csv(\"/home/charlie/Desktop/master_data.csv\", chunksize=chunk_size):\n",
      "/tmp/ipykernel_18148/1266505323.py:8: DtypeWarning: Columns (7) have mixed types. Specify dtype option on import or set low_memory=False.\n",
      "  for chunk in pd.read_csv(\"/home/charlie/Desktop/master_data.csv\", chunksize=chunk_size):\n"
     ]
    },
    {
     "name": "stdout",
     "output_type": "stream",
     "text": [
      "Missing columns in this chunk: {'tunnel_parents   label   detailed-label'}\n",
      "Missing columns in this chunk: {'tunnel_parents   label   detailed-label'}\n"
     ]
    },
    {
     "name": "stderr",
     "output_type": "stream",
     "text": [
      "/tmp/ipykernel_18148/1266505323.py:8: DtypeWarning: Columns (7) have mixed types. Specify dtype option on import or set low_memory=False.\n",
      "  for chunk in pd.read_csv(\"/home/charlie/Desktop/master_data.csv\", chunksize=chunk_size):\n",
      "/tmp/ipykernel_18148/1266505323.py:8: DtypeWarning: Columns (7) have mixed types. Specify dtype option on import or set low_memory=False.\n",
      "  for chunk in pd.read_csv(\"/home/charlie/Desktop/master_data.csv\", chunksize=chunk_size):\n"
     ]
    },
    {
     "name": "stdout",
     "output_type": "stream",
     "text": [
      "Missing columns in this chunk: {'tunnel_parents   label   detailed-label'}\n",
      "Missing columns in this chunk: {'tunnel_parents   label   detailed-label'}\n"
     ]
    },
    {
     "name": "stderr",
     "output_type": "stream",
     "text": [
      "/tmp/ipykernel_18148/1266505323.py:8: DtypeWarning: Columns (7) have mixed types. Specify dtype option on import or set low_memory=False.\n",
      "  for chunk in pd.read_csv(\"/home/charlie/Desktop/master_data.csv\", chunksize=chunk_size):\n",
      "/tmp/ipykernel_18148/1266505323.py:8: DtypeWarning: Columns (7) have mixed types. Specify dtype option on import or set low_memory=False.\n",
      "  for chunk in pd.read_csv(\"/home/charlie/Desktop/master_data.csv\", chunksize=chunk_size):\n"
     ]
    },
    {
     "name": "stdout",
     "output_type": "stream",
     "text": [
      "Missing columns in this chunk: {'tunnel_parents   label   detailed-label'}\n",
      "Missing columns in this chunk: {'tunnel_parents   label   detailed-label'}\n"
     ]
    },
    {
     "name": "stderr",
     "output_type": "stream",
     "text": [
      "/tmp/ipykernel_18148/1266505323.py:8: DtypeWarning: Columns (7) have mixed types. Specify dtype option on import or set low_memory=False.\n",
      "  for chunk in pd.read_csv(\"/home/charlie/Desktop/master_data.csv\", chunksize=chunk_size):\n",
      "/tmp/ipykernel_18148/1266505323.py:8: DtypeWarning: Columns (7) have mixed types. Specify dtype option on import or set low_memory=False.\n",
      "  for chunk in pd.read_csv(\"/home/charlie/Desktop/master_data.csv\", chunksize=chunk_size):\n"
     ]
    },
    {
     "name": "stdout",
     "output_type": "stream",
     "text": [
      "Missing columns in this chunk: {'tunnel_parents   label   detailed-label'}\n",
      "Missing columns in this chunk: {'tunnel_parents   label   detailed-label'}\n"
     ]
    },
    {
     "name": "stderr",
     "output_type": "stream",
     "text": [
      "/tmp/ipykernel_18148/1266505323.py:8: DtypeWarning: Columns (7) have mixed types. Specify dtype option on import or set low_memory=False.\n",
      "  for chunk in pd.read_csv(\"/home/charlie/Desktop/master_data.csv\", chunksize=chunk_size):\n",
      "/tmp/ipykernel_18148/1266505323.py:8: DtypeWarning: Columns (7) have mixed types. Specify dtype option on import or set low_memory=False.\n",
      "  for chunk in pd.read_csv(\"/home/charlie/Desktop/master_data.csv\", chunksize=chunk_size):\n"
     ]
    },
    {
     "name": "stdout",
     "output_type": "stream",
     "text": [
      "Missing columns in this chunk: {'tunnel_parents   label   detailed-label'}\n",
      "Missing columns in this chunk: {'tunnel_parents   label   detailed-label'}\n",
      "Missing columns in this chunk: {'tunnel_parents   label   detailed-label'}\n",
      "Missing columns in this chunk: {'tunnel_parents   label   detailed-label'}\n",
      "Missing columns in this chunk: {'tunnel_parents   label   detailed-label'}\n",
      "Missing columns in this chunk: {'tunnel_parents   label   detailed-label'}\n",
      "Missing columns in this chunk: {'tunnel_parents   label   detailed-label'}\n",
      "Missing columns in this chunk: {'tunnel_parents   label   detailed-label'}\n",
      "Missing columns in this chunk: {'tunnel_parents   label   detailed-label'}\n",
      "Missing columns in this chunk: {'tunnel_parents   label   detailed-label'}\n",
      "Missing columns in this chunk: {'tunnel_parents   label   detailed-label'}\n",
      "Missing columns in this chunk: {'tunnel_parents   label   detailed-label'}\n",
      "Missing columns in this chunk: {'tunnel_parents   label   detailed-label'}\n"
     ]
    },
    {
     "name": "stderr",
     "output_type": "stream",
     "text": [
      "/tmp/ipykernel_18148/1266505323.py:8: DtypeWarning: Columns (7) have mixed types. Specify dtype option on import or set low_memory=False.\n",
      "  for chunk in pd.read_csv(\"/home/charlie/Desktop/master_data.csv\", chunksize=chunk_size):\n",
      "/tmp/ipykernel_18148/1266505323.py:8: DtypeWarning: Columns (7) have mixed types. Specify dtype option on import or set low_memory=False.\n",
      "  for chunk in pd.read_csv(\"/home/charlie/Desktop/master_data.csv\", chunksize=chunk_size):\n"
     ]
    },
    {
     "name": "stdout",
     "output_type": "stream",
     "text": [
      "Missing columns in this chunk: {'tunnel_parents   label   detailed-label'}\n",
      "Missing columns in this chunk: {'tunnel_parents   label   detailed-label'}\n",
      "Missing columns in this chunk: {'tunnel_parents   label   detailed-label'}\n",
      "Missing columns in this chunk: {'tunnel_parents   label   detailed-label'}\n",
      "Missing columns in this chunk: {'tunnel_parents   label   detailed-label'}\n",
      "Missing columns in this chunk: {'tunnel_parents   label   detailed-label'}\n"
     ]
    },
    {
     "name": "stderr",
     "output_type": "stream",
     "text": [
      "/tmp/ipykernel_18148/1266505323.py:8: DtypeWarning: Columns (7) have mixed types. Specify dtype option on import or set low_memory=False.\n",
      "  for chunk in pd.read_csv(\"/home/charlie/Desktop/master_data.csv\", chunksize=chunk_size):\n"
     ]
    },
    {
     "name": "stdout",
     "output_type": "stream",
     "text": [
      "Missing columns in this chunk: {'tunnel_parents   label   detailed-label'}\n",
      "Missing columns in this chunk: {'tunnel_parents   label   detailed-label'}\n",
      "Missing columns in this chunk: {'tunnel_parents   label   detailed-label'}\n",
      "Missing columns in this chunk: {'tunnel_parents   label   detailed-label'}\n",
      "Missing columns in this chunk: {'tunnel_parents   label   detailed-label'}\n",
      "Missing columns in this chunk: {'tunnel_parents   label   detailed-label'}\n"
     ]
    },
    {
     "name": "stderr",
     "output_type": "stream",
     "text": [
      "/tmp/ipykernel_18148/1266505323.py:8: DtypeWarning: Columns (7) have mixed types. Specify dtype option on import or set low_memory=False.\n",
      "  for chunk in pd.read_csv(\"/home/charlie/Desktop/master_data.csv\", chunksize=chunk_size):\n"
     ]
    },
    {
     "name": "stdout",
     "output_type": "stream",
     "text": [
      "Missing columns in this chunk: {'tunnel_parents   label   detailed-label'}\n",
      "Missing columns in this chunk: {'tunnel_parents   label   detailed-label'}\n"
     ]
    },
    {
     "name": "stderr",
     "output_type": "stream",
     "text": [
      "/tmp/ipykernel_18148/1266505323.py:8: DtypeWarning: Columns (7) have mixed types. Specify dtype option on import or set low_memory=False.\n",
      "  for chunk in pd.read_csv(\"/home/charlie/Desktop/master_data.csv\", chunksize=chunk_size):\n"
     ]
    },
    {
     "name": "stdout",
     "output_type": "stream",
     "text": [
      "Missing columns in this chunk: {'tunnel_parents   label   detailed-label'}\n",
      "Missing columns in this chunk: {'tunnel_parents   label   detailed-label'}\n"
     ]
    },
    {
     "name": "stderr",
     "output_type": "stream",
     "text": [
      "/tmp/ipykernel_18148/1266505323.py:8: DtypeWarning: Columns (7) have mixed types. Specify dtype option on import or set low_memory=False.\n",
      "  for chunk in pd.read_csv(\"/home/charlie/Desktop/master_data.csv\", chunksize=chunk_size):\n"
     ]
    },
    {
     "name": "stdout",
     "output_type": "stream",
     "text": [
      "Missing columns in this chunk: {'tunnel_parents   label   detailed-label'}\n",
      "Missing columns in this chunk: {'tunnel_parents   label   detailed-label'}\n"
     ]
    },
    {
     "name": "stderr",
     "output_type": "stream",
     "text": [
      "/tmp/ipykernel_18148/1266505323.py:8: DtypeWarning: Columns (7) have mixed types. Specify dtype option on import or set low_memory=False.\n",
      "  for chunk in pd.read_csv(\"/home/charlie/Desktop/master_data.csv\", chunksize=chunk_size):\n",
      "/tmp/ipykernel_18148/1266505323.py:8: DtypeWarning: Columns (7) have mixed types. Specify dtype option on import or set low_memory=False.\n",
      "  for chunk in pd.read_csv(\"/home/charlie/Desktop/master_data.csv\", chunksize=chunk_size):\n"
     ]
    },
    {
     "name": "stdout",
     "output_type": "stream",
     "text": [
      "Missing columns in this chunk: {'tunnel_parents   label   detailed-label'}\n",
      "Missing columns in this chunk: {'tunnel_parents   label   detailed-label'}\n"
     ]
    },
    {
     "name": "stderr",
     "output_type": "stream",
     "text": [
      "/tmp/ipykernel_18148/1266505323.py:8: DtypeWarning: Columns (7) have mixed types. Specify dtype option on import or set low_memory=False.\n",
      "  for chunk in pd.read_csv(\"/home/charlie/Desktop/master_data.csv\", chunksize=chunk_size):\n",
      "/tmp/ipykernel_18148/1266505323.py:8: DtypeWarning: Columns (7) have mixed types. Specify dtype option on import or set low_memory=False.\n",
      "  for chunk in pd.read_csv(\"/home/charlie/Desktop/master_data.csv\", chunksize=chunk_size):\n"
     ]
    },
    {
     "name": "stdout",
     "output_type": "stream",
     "text": [
      "Missing columns in this chunk: {'tunnel_parents   label   detailed-label'}\n",
      "Missing columns in this chunk: {'tunnel_parents   label   detailed-label'}\n"
     ]
    },
    {
     "name": "stderr",
     "output_type": "stream",
     "text": [
      "/tmp/ipykernel_18148/1266505323.py:8: DtypeWarning: Columns (7) have mixed types. Specify dtype option on import or set low_memory=False.\n",
      "  for chunk in pd.read_csv(\"/home/charlie/Desktop/master_data.csv\", chunksize=chunk_size):\n",
      "/tmp/ipykernel_18148/1266505323.py:8: DtypeWarning: Columns (7) have mixed types. Specify dtype option on import or set low_memory=False.\n",
      "  for chunk in pd.read_csv(\"/home/charlie/Desktop/master_data.csv\", chunksize=chunk_size):\n"
     ]
    },
    {
     "name": "stdout",
     "output_type": "stream",
     "text": [
      "Missing columns in this chunk: {'tunnel_parents   label   detailed-label'}\n",
      "Missing columns in this chunk: {'tunnel_parents   label   detailed-label'}\n"
     ]
    },
    {
     "name": "stderr",
     "output_type": "stream",
     "text": [
      "/tmp/ipykernel_18148/1266505323.py:8: DtypeWarning: Columns (7) have mixed types. Specify dtype option on import or set low_memory=False.\n",
      "  for chunk in pd.read_csv(\"/home/charlie/Desktop/master_data.csv\", chunksize=chunk_size):\n",
      "/tmp/ipykernel_18148/1266505323.py:8: DtypeWarning: Columns (7) have mixed types. Specify dtype option on import or set low_memory=False.\n",
      "  for chunk in pd.read_csv(\"/home/charlie/Desktop/master_data.csv\", chunksize=chunk_size):\n"
     ]
    },
    {
     "name": "stdout",
     "output_type": "stream",
     "text": [
      "Missing columns in this chunk: {'tunnel_parents   label   detailed-label'}\n",
      "Missing columns in this chunk: {'tunnel_parents   label   detailed-label'}\n",
      "Missing columns in this chunk: {'tunnel_parents   label   detailed-label'}\n",
      "Missing columns in this chunk: {'tunnel_parents   label   detailed-label'}\n",
      "Missing columns in this chunk: {'tunnel_parents   label   detailed-label'}\n",
      "Missing columns in this chunk: {'tunnel_parents   label   detailed-label'}\n",
      "Missing columns in this chunk: {'tunnel_parents   label   detailed-label'}\n",
      "Missing columns in this chunk: {'tunnel_parents   label   detailed-label'}\n",
      "Missing columns in this chunk: {'tunnel_parents   label   detailed-label'}\n",
      "Missing columns in this chunk: {'tunnel_parents   label   detailed-label'}\n",
      "Missing columns in this chunk: {'tunnel_parents   label   detailed-label'}\n"
     ]
    },
    {
     "name": "stderr",
     "output_type": "stream",
     "text": [
      "/tmp/ipykernel_18148/1266505323.py:8: DtypeWarning: Columns (7) have mixed types. Specify dtype option on import or set low_memory=False.\n",
      "  for chunk in pd.read_csv(\"/home/charlie/Desktop/master_data.csv\", chunksize=chunk_size):\n"
     ]
    },
    {
     "name": "stdout",
     "output_type": "stream",
     "text": [
      "Missing columns in this chunk: {'tunnel_parents   label   detailed-label'}\n",
      "Missing columns in this chunk: {'tunnel_parents   label   detailed-label'}\n"
     ]
    },
    {
     "name": "stderr",
     "output_type": "stream",
     "text": [
      "/tmp/ipykernel_18148/1266505323.py:8: DtypeWarning: Columns (7) have mixed types. Specify dtype option on import or set low_memory=False.\n",
      "  for chunk in pd.read_csv(\"/home/charlie/Desktop/master_data.csv\", chunksize=chunk_size):\n"
     ]
    },
    {
     "name": "stdout",
     "output_type": "stream",
     "text": [
      "Missing columns in this chunk: {'tunnel_parents   label   detailed-label'}\n",
      "Missing columns in this chunk: {'tunnel_parents   label   detailed-label'}\n"
     ]
    },
    {
     "name": "stderr",
     "output_type": "stream",
     "text": [
      "/tmp/ipykernel_18148/1266505323.py:8: DtypeWarning: Columns (7) have mixed types. Specify dtype option on import or set low_memory=False.\n",
      "  for chunk in pd.read_csv(\"/home/charlie/Desktop/master_data.csv\", chunksize=chunk_size):\n"
     ]
    },
    {
     "name": "stdout",
     "output_type": "stream",
     "text": [
      "Missing columns in this chunk: {'tunnel_parents   label   detailed-label'}\n",
      "Missing columns in this chunk: {'tunnel_parents   label   detailed-label'}\n",
      "Missing columns in this chunk: {'tunnel_parents   label   detailed-label'}\n",
      "Missing columns in this chunk: {'tunnel_parents   label   detailed-label'}\n",
      "Missing columns in this chunk: {'tunnel_parents   label   detailed-label'}\n",
      "Missing columns in this chunk: {'tunnel_parents   label   detailed-label'}\n"
     ]
    },
    {
     "name": "stderr",
     "output_type": "stream",
     "text": [
      "/tmp/ipykernel_18148/1266505323.py:8: DtypeWarning: Columns (7) have mixed types. Specify dtype option on import or set low_memory=False.\n",
      "  for chunk in pd.read_csv(\"/home/charlie/Desktop/master_data.csv\", chunksize=chunk_size):\n"
     ]
    },
    {
     "name": "stdout",
     "output_type": "stream",
     "text": [
      "Missing columns in this chunk: {'tunnel_parents   label   detailed-label'}\n",
      "Missing columns in this chunk: {'tunnel_parents   label   detailed-label'}\n",
      "Missing columns in this chunk: {'tunnel_parents   label   detailed-label'}\n"
     ]
    },
    {
     "name": "stderr",
     "output_type": "stream",
     "text": [
      "/tmp/ipykernel_18148/1266505323.py:8: DtypeWarning: Columns (7) have mixed types. Specify dtype option on import or set low_memory=False.\n",
      "  for chunk in pd.read_csv(\"/home/charlie/Desktop/master_data.csv\", chunksize=chunk_size):\n"
     ]
    },
    {
     "name": "stdout",
     "output_type": "stream",
     "text": [
      "Missing columns in this chunk: {'tunnel_parents   label   detailed-label'}\n",
      "Missing columns in this chunk: {'tunnel_parents   label   detailed-label'}\n",
      "Missing columns in this chunk: {'tunnel_parents   label   detailed-label'}\n"
     ]
    },
    {
     "name": "stderr",
     "output_type": "stream",
     "text": [
      "/tmp/ipykernel_18148/1266505323.py:8: DtypeWarning: Columns (7) have mixed types. Specify dtype option on import or set low_memory=False.\n",
      "  for chunk in pd.read_csv(\"/home/charlie/Desktop/master_data.csv\", chunksize=chunk_size):\n"
     ]
    },
    {
     "name": "stdout",
     "output_type": "stream",
     "text": [
      "Missing columns in this chunk: {'tunnel_parents   label   detailed-label'}\n",
      "Missing columns in this chunk: {'tunnel_parents   label   detailed-label'}\n",
      "Missing columns in this chunk: {'tunnel_parents   label   detailed-label'}\n",
      "Missing columns in this chunk: {'tunnel_parents   label   detailed-label'}\n"
     ]
    },
    {
     "name": "stderr",
     "output_type": "stream",
     "text": [
      "/tmp/ipykernel_18148/1266505323.py:8: DtypeWarning: Columns (7) have mixed types. Specify dtype option on import or set low_memory=False.\n",
      "  for chunk in pd.read_csv(\"/home/charlie/Desktop/master_data.csv\", chunksize=chunk_size):\n",
      "/tmp/ipykernel_18148/1266505323.py:8: DtypeWarning: Columns (7) have mixed types. Specify dtype option on import or set low_memory=False.\n",
      "  for chunk in pd.read_csv(\"/home/charlie/Desktop/master_data.csv\", chunksize=chunk_size):\n"
     ]
    },
    {
     "name": "stdout",
     "output_type": "stream",
     "text": [
      "Missing columns in this chunk: {'tunnel_parents   label   detailed-label'}\n",
      "Missing columns in this chunk: {'tunnel_parents   label   detailed-label'}\n",
      "Missing columns in this chunk: {'tunnel_parents   label   detailed-label'}\n"
     ]
    },
    {
     "name": "stderr",
     "output_type": "stream",
     "text": [
      "/tmp/ipykernel_18148/1266505323.py:8: DtypeWarning: Columns (7) have mixed types. Specify dtype option on import or set low_memory=False.\n",
      "  for chunk in pd.read_csv(\"/home/charlie/Desktop/master_data.csv\", chunksize=chunk_size):\n",
      "/tmp/ipykernel_18148/1266505323.py:8: DtypeWarning: Columns (7) have mixed types. Specify dtype option on import or set low_memory=False.\n",
      "  for chunk in pd.read_csv(\"/home/charlie/Desktop/master_data.csv\", chunksize=chunk_size):\n"
     ]
    },
    {
     "name": "stdout",
     "output_type": "stream",
     "text": [
      "Missing columns in this chunk: {'tunnel_parents   label   detailed-label'}\n",
      "Missing columns in this chunk: {'tunnel_parents   label   detailed-label'}\n"
     ]
    },
    {
     "name": "stderr",
     "output_type": "stream",
     "text": [
      "/tmp/ipykernel_18148/1266505323.py:8: DtypeWarning: Columns (7) have mixed types. Specify dtype option on import or set low_memory=False.\n",
      "  for chunk in pd.read_csv(\"/home/charlie/Desktop/master_data.csv\", chunksize=chunk_size):\n",
      "/tmp/ipykernel_18148/1266505323.py:8: DtypeWarning: Columns (7) have mixed types. Specify dtype option on import or set low_memory=False.\n",
      "  for chunk in pd.read_csv(\"/home/charlie/Desktop/master_data.csv\", chunksize=chunk_size):\n"
     ]
    },
    {
     "name": "stdout",
     "output_type": "stream",
     "text": [
      "Missing columns in this chunk: {'tunnel_parents   label   detailed-label'}\n",
      "Missing columns in this chunk: {'tunnel_parents   label   detailed-label'}\n"
     ]
    },
    {
     "name": "stderr",
     "output_type": "stream",
     "text": [
      "/tmp/ipykernel_18148/1266505323.py:8: DtypeWarning: Columns (7) have mixed types. Specify dtype option on import or set low_memory=False.\n",
      "  for chunk in pd.read_csv(\"/home/charlie/Desktop/master_data.csv\", chunksize=chunk_size):\n",
      "/tmp/ipykernel_18148/1266505323.py:8: DtypeWarning: Columns (7) have mixed types. Specify dtype option on import or set low_memory=False.\n",
      "  for chunk in pd.read_csv(\"/home/charlie/Desktop/master_data.csv\", chunksize=chunk_size):\n"
     ]
    },
    {
     "name": "stdout",
     "output_type": "stream",
     "text": [
      "Missing columns in this chunk: {'tunnel_parents   label   detailed-label'}\n",
      "Missing columns in this chunk: {'tunnel_parents   label   detailed-label'}\n"
     ]
    },
    {
     "name": "stderr",
     "output_type": "stream",
     "text": [
      "/tmp/ipykernel_18148/1266505323.py:8: DtypeWarning: Columns (7) have mixed types. Specify dtype option on import or set low_memory=False.\n",
      "  for chunk in pd.read_csv(\"/home/charlie/Desktop/master_data.csv\", chunksize=chunk_size):\n",
      "/tmp/ipykernel_18148/1266505323.py:8: DtypeWarning: Columns (7) have mixed types. Specify dtype option on import or set low_memory=False.\n",
      "  for chunk in pd.read_csv(\"/home/charlie/Desktop/master_data.csv\", chunksize=chunk_size):\n"
     ]
    },
    {
     "name": "stdout",
     "output_type": "stream",
     "text": [
      "Missing columns in this chunk: {'tunnel_parents   label   detailed-label'}\n",
      "Missing columns in this chunk: {'tunnel_parents   label   detailed-label'}\n"
     ]
    },
    {
     "name": "stderr",
     "output_type": "stream",
     "text": [
      "/tmp/ipykernel_18148/1266505323.py:8: DtypeWarning: Columns (7) have mixed types. Specify dtype option on import or set low_memory=False.\n",
      "  for chunk in pd.read_csv(\"/home/charlie/Desktop/master_data.csv\", chunksize=chunk_size):\n",
      "/tmp/ipykernel_18148/1266505323.py:8: DtypeWarning: Columns (7) have mixed types. Specify dtype option on import or set low_memory=False.\n",
      "  for chunk in pd.read_csv(\"/home/charlie/Desktop/master_data.csv\", chunksize=chunk_size):\n"
     ]
    },
    {
     "name": "stdout",
     "output_type": "stream",
     "text": [
      "Missing columns in this chunk: {'tunnel_parents   label   detailed-label'}\n",
      "Missing columns in this chunk: {'tunnel_parents   label   detailed-label'}\n"
     ]
    },
    {
     "name": "stderr",
     "output_type": "stream",
     "text": [
      "/tmp/ipykernel_18148/1266505323.py:8: DtypeWarning: Columns (7) have mixed types. Specify dtype option on import or set low_memory=False.\n",
      "  for chunk in pd.read_csv(\"/home/charlie/Desktop/master_data.csv\", chunksize=chunk_size):\n",
      "/tmp/ipykernel_18148/1266505323.py:8: DtypeWarning: Columns (7) have mixed types. Specify dtype option on import or set low_memory=False.\n",
      "  for chunk in pd.read_csv(\"/home/charlie/Desktop/master_data.csv\", chunksize=chunk_size):\n"
     ]
    },
    {
     "name": "stdout",
     "output_type": "stream",
     "text": [
      "Missing columns in this chunk: {'tunnel_parents   label   detailed-label'}\n",
      "Missing columns in this chunk: {'tunnel_parents   label   detailed-label'}\n"
     ]
    },
    {
     "name": "stderr",
     "output_type": "stream",
     "text": [
      "/tmp/ipykernel_18148/1266505323.py:8: DtypeWarning: Columns (7) have mixed types. Specify dtype option on import or set low_memory=False.\n",
      "  for chunk in pd.read_csv(\"/home/charlie/Desktop/master_data.csv\", chunksize=chunk_size):\n",
      "/tmp/ipykernel_18148/1266505323.py:8: DtypeWarning: Columns (7) have mixed types. Specify dtype option on import or set low_memory=False.\n",
      "  for chunk in pd.read_csv(\"/home/charlie/Desktop/master_data.csv\", chunksize=chunk_size):\n"
     ]
    },
    {
     "name": "stdout",
     "output_type": "stream",
     "text": [
      "Missing columns in this chunk: {'tunnel_parents   label   detailed-label'}\n",
      "Missing columns in this chunk: {'tunnel_parents   label   detailed-label'}\n"
     ]
    },
    {
     "name": "stderr",
     "output_type": "stream",
     "text": [
      "/tmp/ipykernel_18148/1266505323.py:8: DtypeWarning: Columns (7) have mixed types. Specify dtype option on import or set low_memory=False.\n",
      "  for chunk in pd.read_csv(\"/home/charlie/Desktop/master_data.csv\", chunksize=chunk_size):\n",
      "/tmp/ipykernel_18148/1266505323.py:8: DtypeWarning: Columns (7) have mixed types. Specify dtype option on import or set low_memory=False.\n",
      "  for chunk in pd.read_csv(\"/home/charlie/Desktop/master_data.csv\", chunksize=chunk_size):\n"
     ]
    },
    {
     "name": "stdout",
     "output_type": "stream",
     "text": [
      "Missing columns in this chunk: {'tunnel_parents   label   detailed-label'}\n",
      "Missing columns in this chunk: {'tunnel_parents   label   detailed-label'}\n"
     ]
    },
    {
     "name": "stderr",
     "output_type": "stream",
     "text": [
      "/tmp/ipykernel_18148/1266505323.py:8: DtypeWarning: Columns (7) have mixed types. Specify dtype option on import or set low_memory=False.\n",
      "  for chunk in pd.read_csv(\"/home/charlie/Desktop/master_data.csv\", chunksize=chunk_size):\n",
      "/tmp/ipykernel_18148/1266505323.py:8: DtypeWarning: Columns (7) have mixed types. Specify dtype option on import or set low_memory=False.\n",
      "  for chunk in pd.read_csv(\"/home/charlie/Desktop/master_data.csv\", chunksize=chunk_size):\n"
     ]
    },
    {
     "name": "stdout",
     "output_type": "stream",
     "text": [
      "Missing columns in this chunk: {'tunnel_parents   label   detailed-label'}\n",
      "Missing columns in this chunk: {'tunnel_parents   label   detailed-label'}\n"
     ]
    },
    {
     "name": "stderr",
     "output_type": "stream",
     "text": [
      "/tmp/ipykernel_18148/1266505323.py:8: DtypeWarning: Columns (7) have mixed types. Specify dtype option on import or set low_memory=False.\n",
      "  for chunk in pd.read_csv(\"/home/charlie/Desktop/master_data.csv\", chunksize=chunk_size):\n",
      "/tmp/ipykernel_18148/1266505323.py:8: DtypeWarning: Columns (7) have mixed types. Specify dtype option on import or set low_memory=False.\n",
      "  for chunk in pd.read_csv(\"/home/charlie/Desktop/master_data.csv\", chunksize=chunk_size):\n"
     ]
    },
    {
     "name": "stdout",
     "output_type": "stream",
     "text": [
      "Missing columns in this chunk: {'tunnel_parents   label   detailed-label'}\n",
      "Missing columns in this chunk: {'tunnel_parents   label   detailed-label'}\n"
     ]
    },
    {
     "name": "stderr",
     "output_type": "stream",
     "text": [
      "/tmp/ipykernel_18148/1266505323.py:8: DtypeWarning: Columns (7) have mixed types. Specify dtype option on import or set low_memory=False.\n",
      "  for chunk in pd.read_csv(\"/home/charlie/Desktop/master_data.csv\", chunksize=chunk_size):\n",
      "/tmp/ipykernel_18148/1266505323.py:8: DtypeWarning: Columns (7) have mixed types. Specify dtype option on import or set low_memory=False.\n",
      "  for chunk in pd.read_csv(\"/home/charlie/Desktop/master_data.csv\", chunksize=chunk_size):\n"
     ]
    },
    {
     "name": "stdout",
     "output_type": "stream",
     "text": [
      "Missing columns in this chunk: {'tunnel_parents   label   detailed-label'}\n",
      "Missing columns in this chunk: {'tunnel_parents   label   detailed-label'}\n"
     ]
    },
    {
     "name": "stderr",
     "output_type": "stream",
     "text": [
      "/tmp/ipykernel_18148/1266505323.py:8: DtypeWarning: Columns (7) have mixed types. Specify dtype option on import or set low_memory=False.\n",
      "  for chunk in pd.read_csv(\"/home/charlie/Desktop/master_data.csv\", chunksize=chunk_size):\n",
      "/tmp/ipykernel_18148/1266505323.py:8: DtypeWarning: Columns (7) have mixed types. Specify dtype option on import or set low_memory=False.\n",
      "  for chunk in pd.read_csv(\"/home/charlie/Desktop/master_data.csv\", chunksize=chunk_size):\n"
     ]
    },
    {
     "name": "stdout",
     "output_type": "stream",
     "text": [
      "Missing columns in this chunk: {'tunnel_parents   label   detailed-label'}\n",
      "Missing columns in this chunk: {'tunnel_parents   label   detailed-label'}\n"
     ]
    },
    {
     "name": "stderr",
     "output_type": "stream",
     "text": [
      "/tmp/ipykernel_18148/1266505323.py:8: DtypeWarning: Columns (7) have mixed types. Specify dtype option on import or set low_memory=False.\n",
      "  for chunk in pd.read_csv(\"/home/charlie/Desktop/master_data.csv\", chunksize=chunk_size):\n",
      "/tmp/ipykernel_18148/1266505323.py:8: DtypeWarning: Columns (7) have mixed types. Specify dtype option on import or set low_memory=False.\n",
      "  for chunk in pd.read_csv(\"/home/charlie/Desktop/master_data.csv\", chunksize=chunk_size):\n"
     ]
    },
    {
     "name": "stdout",
     "output_type": "stream",
     "text": [
      "Missing columns in this chunk: {'tunnel_parents   label   detailed-label'}\n",
      "Missing columns in this chunk: {'tunnel_parents   label   detailed-label'}\n"
     ]
    },
    {
     "name": "stderr",
     "output_type": "stream",
     "text": [
      "/tmp/ipykernel_18148/1266505323.py:8: DtypeWarning: Columns (7) have mixed types. Specify dtype option on import or set low_memory=False.\n",
      "  for chunk in pd.read_csv(\"/home/charlie/Desktop/master_data.csv\", chunksize=chunk_size):\n",
      "/tmp/ipykernel_18148/1266505323.py:8: DtypeWarning: Columns (7) have mixed types. Specify dtype option on import or set low_memory=False.\n",
      "  for chunk in pd.read_csv(\"/home/charlie/Desktop/master_data.csv\", chunksize=chunk_size):\n"
     ]
    },
    {
     "name": "stdout",
     "output_type": "stream",
     "text": [
      "Missing columns in this chunk: {'tunnel_parents   label   detailed-label'}\n",
      "Missing columns in this chunk: {'tunnel_parents   label   detailed-label'}\n"
     ]
    },
    {
     "name": "stderr",
     "output_type": "stream",
     "text": [
      "/tmp/ipykernel_18148/1266505323.py:8: DtypeWarning: Columns (7) have mixed types. Specify dtype option on import or set low_memory=False.\n",
      "  for chunk in pd.read_csv(\"/home/charlie/Desktop/master_data.csv\", chunksize=chunk_size):\n",
      "/tmp/ipykernel_18148/1266505323.py:8: DtypeWarning: Columns (7) have mixed types. Specify dtype option on import or set low_memory=False.\n",
      "  for chunk in pd.read_csv(\"/home/charlie/Desktop/master_data.csv\", chunksize=chunk_size):\n"
     ]
    },
    {
     "name": "stdout",
     "output_type": "stream",
     "text": [
      "Missing columns in this chunk: {'tunnel_parents   label   detailed-label'}\n",
      "Missing columns in this chunk: {'tunnel_parents   label   detailed-label'}\n"
     ]
    },
    {
     "name": "stderr",
     "output_type": "stream",
     "text": [
      "/tmp/ipykernel_18148/1266505323.py:8: DtypeWarning: Columns (7) have mixed types. Specify dtype option on import or set low_memory=False.\n",
      "  for chunk in pd.read_csv(\"/home/charlie/Desktop/master_data.csv\", chunksize=chunk_size):\n",
      "/tmp/ipykernel_18148/1266505323.py:8: DtypeWarning: Columns (7) have mixed types. Specify dtype option on import or set low_memory=False.\n",
      "  for chunk in pd.read_csv(\"/home/charlie/Desktop/master_data.csv\", chunksize=chunk_size):\n"
     ]
    },
    {
     "name": "stdout",
     "output_type": "stream",
     "text": [
      "Missing columns in this chunk: {'tunnel_parents   label   detailed-label'}\n",
      "Missing columns in this chunk: {'tunnel_parents   label   detailed-label'}\n"
     ]
    },
    {
     "name": "stderr",
     "output_type": "stream",
     "text": [
      "/tmp/ipykernel_18148/1266505323.py:8: DtypeWarning: Columns (7) have mixed types. Specify dtype option on import or set low_memory=False.\n",
      "  for chunk in pd.read_csv(\"/home/charlie/Desktop/master_data.csv\", chunksize=chunk_size):\n",
      "/tmp/ipykernel_18148/1266505323.py:8: DtypeWarning: Columns (7) have mixed types. Specify dtype option on import or set low_memory=False.\n",
      "  for chunk in pd.read_csv(\"/home/charlie/Desktop/master_data.csv\", chunksize=chunk_size):\n"
     ]
    },
    {
     "name": "stdout",
     "output_type": "stream",
     "text": [
      "Missing columns in this chunk: {'tunnel_parents   label   detailed-label'}\n",
      "Missing columns in this chunk: {'tunnel_parents   label   detailed-label'}\n"
     ]
    },
    {
     "name": "stderr",
     "output_type": "stream",
     "text": [
      "/tmp/ipykernel_18148/1266505323.py:8: DtypeWarning: Columns (7) have mixed types. Specify dtype option on import or set low_memory=False.\n",
      "  for chunk in pd.read_csv(\"/home/charlie/Desktop/master_data.csv\", chunksize=chunk_size):\n",
      "/tmp/ipykernel_18148/1266505323.py:8: DtypeWarning: Columns (7) have mixed types. Specify dtype option on import or set low_memory=False.\n",
      "  for chunk in pd.read_csv(\"/home/charlie/Desktop/master_data.csv\", chunksize=chunk_size):\n"
     ]
    },
    {
     "name": "stdout",
     "output_type": "stream",
     "text": [
      "Missing columns in this chunk: {'tunnel_parents   label   detailed-label'}\n",
      "Missing columns in this chunk: {'tunnel_parents   label   detailed-label'}\n"
     ]
    },
    {
     "name": "stderr",
     "output_type": "stream",
     "text": [
      "/tmp/ipykernel_18148/1266505323.py:8: DtypeWarning: Columns (7) have mixed types. Specify dtype option on import or set low_memory=False.\n",
      "  for chunk in pd.read_csv(\"/home/charlie/Desktop/master_data.csv\", chunksize=chunk_size):\n",
      "/tmp/ipykernel_18148/1266505323.py:8: DtypeWarning: Columns (7) have mixed types. Specify dtype option on import or set low_memory=False.\n",
      "  for chunk in pd.read_csv(\"/home/charlie/Desktop/master_data.csv\", chunksize=chunk_size):\n"
     ]
    },
    {
     "name": "stdout",
     "output_type": "stream",
     "text": [
      "Missing columns in this chunk: {'tunnel_parents   label   detailed-label'}\n",
      "Missing columns in this chunk: {'tunnel_parents   label   detailed-label'}\n",
      "Missing columns in this chunk: {'tunnel_parents   label   detailed-label'}\n",
      "Missing columns in this chunk: {'tunnel_parents   label   detailed-label'}\n"
     ]
    },
    {
     "name": "stderr",
     "output_type": "stream",
     "text": [
      "/tmp/ipykernel_18148/1266505323.py:8: DtypeWarning: Columns (7) have mixed types. Specify dtype option on import or set low_memory=False.\n",
      "  for chunk in pd.read_csv(\"/home/charlie/Desktop/master_data.csv\", chunksize=chunk_size):\n"
     ]
    },
    {
     "name": "stdout",
     "output_type": "stream",
     "text": [
      "Missing columns in this chunk: {'tunnel_parents   label   detailed-label'}\n",
      "Missing columns in this chunk: {'tunnel_parents   label   detailed-label'}\n"
     ]
    },
    {
     "name": "stderr",
     "output_type": "stream",
     "text": [
      "/tmp/ipykernel_18148/1266505323.py:8: DtypeWarning: Columns (7) have mixed types. Specify dtype option on import or set low_memory=False.\n",
      "  for chunk in pd.read_csv(\"/home/charlie/Desktop/master_data.csv\", chunksize=chunk_size):\n",
      "/tmp/ipykernel_18148/1266505323.py:8: DtypeWarning: Columns (7) have mixed types. Specify dtype option on import or set low_memory=False.\n",
      "  for chunk in pd.read_csv(\"/home/charlie/Desktop/master_data.csv\", chunksize=chunk_size):\n"
     ]
    },
    {
     "name": "stdout",
     "output_type": "stream",
     "text": [
      "Missing columns in this chunk: {'tunnel_parents   label   detailed-label'}\n",
      "Missing columns in this chunk: {'tunnel_parents   label   detailed-label'}\n"
     ]
    },
    {
     "name": "stderr",
     "output_type": "stream",
     "text": [
      "/tmp/ipykernel_18148/1266505323.py:8: DtypeWarning: Columns (7) have mixed types. Specify dtype option on import or set low_memory=False.\n",
      "  for chunk in pd.read_csv(\"/home/charlie/Desktop/master_data.csv\", chunksize=chunk_size):\n"
     ]
    },
    {
     "name": "stdout",
     "output_type": "stream",
     "text": [
      "Missing columns in this chunk: {'tunnel_parents   label   detailed-label'}\n",
      "Missing columns in this chunk: {'tunnel_parents   label   detailed-label'}\n",
      "Missing columns in this chunk: {'tunnel_parents   label   detailed-label'}\n"
     ]
    },
    {
     "name": "stderr",
     "output_type": "stream",
     "text": [
      "/tmp/ipykernel_18148/1266505323.py:8: DtypeWarning: Columns (7) have mixed types. Specify dtype option on import or set low_memory=False.\n",
      "  for chunk in pd.read_csv(\"/home/charlie/Desktop/master_data.csv\", chunksize=chunk_size):\n"
     ]
    },
    {
     "name": "stdout",
     "output_type": "stream",
     "text": [
      "Missing columns in this chunk: {'tunnel_parents   label   detailed-label'}\n",
      "Missing columns in this chunk: {'tunnel_parents   label   detailed-label'}\n",
      "Missing columns in this chunk: {'tunnel_parents   label   detailed-label'}\n",
      "Missing columns in this chunk: {'tunnel_parents   label   detailed-label'}\n"
     ]
    },
    {
     "name": "stderr",
     "output_type": "stream",
     "text": [
      "/tmp/ipykernel_18148/1266505323.py:8: DtypeWarning: Columns (7) have mixed types. Specify dtype option on import or set low_memory=False.\n",
      "  for chunk in pd.read_csv(\"/home/charlie/Desktop/master_data.csv\", chunksize=chunk_size):\n"
     ]
    },
    {
     "name": "stdout",
     "output_type": "stream",
     "text": [
      "Missing columns in this chunk: {'tunnel_parents   label   detailed-label'}\n",
      "Missing columns in this chunk: {'tunnel_parents   label   detailed-label'}\n"
     ]
    },
    {
     "name": "stderr",
     "output_type": "stream",
     "text": [
      "/tmp/ipykernel_18148/1266505323.py:8: DtypeWarning: Columns (7) have mixed types. Specify dtype option on import or set low_memory=False.\n",
      "  for chunk in pd.read_csv(\"/home/charlie/Desktop/master_data.csv\", chunksize=chunk_size):\n",
      "/tmp/ipykernel_18148/1266505323.py:8: DtypeWarning: Columns (7) have mixed types. Specify dtype option on import or set low_memory=False.\n",
      "  for chunk in pd.read_csv(\"/home/charlie/Desktop/master_data.csv\", chunksize=chunk_size):\n"
     ]
    },
    {
     "name": "stdout",
     "output_type": "stream",
     "text": [
      "Missing columns in this chunk: {'tunnel_parents   label   detailed-label'}\n",
      "Missing columns in this chunk: {'tunnel_parents   label   detailed-label'}\n"
     ]
    },
    {
     "name": "stderr",
     "output_type": "stream",
     "text": [
      "/tmp/ipykernel_18148/1266505323.py:8: DtypeWarning: Columns (7) have mixed types. Specify dtype option on import or set low_memory=False.\n",
      "  for chunk in pd.read_csv(\"/home/charlie/Desktop/master_data.csv\", chunksize=chunk_size):\n"
     ]
    },
    {
     "name": "stdout",
     "output_type": "stream",
     "text": [
      "Missing columns in this chunk: {'tunnel_parents   label   detailed-label'}\n",
      "Missing columns in this chunk: {'tunnel_parents   label   detailed-label'}\n"
     ]
    },
    {
     "name": "stderr",
     "output_type": "stream",
     "text": [
      "/tmp/ipykernel_18148/1266505323.py:8: DtypeWarning: Columns (7) have mixed types. Specify dtype option on import or set low_memory=False.\n",
      "  for chunk in pd.read_csv(\"/home/charlie/Desktop/master_data.csv\", chunksize=chunk_size):\n"
     ]
    },
    {
     "name": "stdout",
     "output_type": "stream",
     "text": [
      "Missing columns in this chunk: {'tunnel_parents   label   detailed-label'}\n",
      "Missing columns in this chunk: {'tunnel_parents   label   detailed-label'}\n",
      "Missing columns in this chunk: {'tunnel_parents   label   detailed-label'}\n",
      "Missing columns in this chunk: {'tunnel_parents   label   detailed-label'}\n",
      "Missing columns in this chunk: {'tunnel_parents   label   detailed-label'}\n",
      "Missing columns in this chunk: {'tunnel_parents   label   detailed-label'}\n",
      "Missing columns in this chunk: {'tunnel_parents   label   detailed-label'}\n"
     ]
    },
    {
     "name": "stderr",
     "output_type": "stream",
     "text": [
      "/tmp/ipykernel_18148/1266505323.py:8: DtypeWarning: Columns (7) have mixed types. Specify dtype option on import or set low_memory=False.\n",
      "  for chunk in pd.read_csv(\"/home/charlie/Desktop/master_data.csv\", chunksize=chunk_size):\n"
     ]
    },
    {
     "name": "stdout",
     "output_type": "stream",
     "text": [
      "Missing columns in this chunk: {'tunnel_parents   label   detailed-label'}\n",
      "Missing columns in this chunk: {'tunnel_parents   label   detailed-label'}\n",
      "Missing columns in this chunk: {'tunnel_parents   label   detailed-label'}\n"
     ]
    },
    {
     "name": "stderr",
     "output_type": "stream",
     "text": [
      "/tmp/ipykernel_18148/1266505323.py:8: DtypeWarning: Columns (7) have mixed types. Specify dtype option on import or set low_memory=False.\n",
      "  for chunk in pd.read_csv(\"/home/charlie/Desktop/master_data.csv\", chunksize=chunk_size):\n",
      "/tmp/ipykernel_18148/1266505323.py:8: DtypeWarning: Columns (7) have mixed types. Specify dtype option on import or set low_memory=False.\n",
      "  for chunk in pd.read_csv(\"/home/charlie/Desktop/master_data.csv\", chunksize=chunk_size):\n"
     ]
    },
    {
     "name": "stdout",
     "output_type": "stream",
     "text": [
      "Missing columns in this chunk: {'tunnel_parents   label   detailed-label'}\n",
      "Missing columns in this chunk: {'tunnel_parents   label   detailed-label'}\n"
     ]
    },
    {
     "name": "stderr",
     "output_type": "stream",
     "text": [
      "/tmp/ipykernel_18148/1266505323.py:8: DtypeWarning: Columns (7) have mixed types. Specify dtype option on import or set low_memory=False.\n",
      "  for chunk in pd.read_csv(\"/home/charlie/Desktop/master_data.csv\", chunksize=chunk_size):\n",
      "/tmp/ipykernel_18148/1266505323.py:8: DtypeWarning: Columns (7) have mixed types. Specify dtype option on import or set low_memory=False.\n",
      "  for chunk in pd.read_csv(\"/home/charlie/Desktop/master_data.csv\", chunksize=chunk_size):\n"
     ]
    },
    {
     "name": "stdout",
     "output_type": "stream",
     "text": [
      "Missing columns in this chunk: {'tunnel_parents   label   detailed-label'}\n",
      "Missing columns in this chunk: {'tunnel_parents   label   detailed-label'}\n"
     ]
    },
    {
     "name": "stderr",
     "output_type": "stream",
     "text": [
      "/tmp/ipykernel_18148/1266505323.py:8: DtypeWarning: Columns (7) have mixed types. Specify dtype option on import or set low_memory=False.\n",
      "  for chunk in pd.read_csv(\"/home/charlie/Desktop/master_data.csv\", chunksize=chunk_size):\n",
      "/tmp/ipykernel_18148/1266505323.py:8: DtypeWarning: Columns (7) have mixed types. Specify dtype option on import or set low_memory=False.\n",
      "  for chunk in pd.read_csv(\"/home/charlie/Desktop/master_data.csv\", chunksize=chunk_size):\n"
     ]
    },
    {
     "name": "stdout",
     "output_type": "stream",
     "text": [
      "Missing columns in this chunk: {'tunnel_parents   label   detailed-label'}\n",
      "Missing columns in this chunk: {'tunnel_parents   label   detailed-label'}\n"
     ]
    },
    {
     "name": "stderr",
     "output_type": "stream",
     "text": [
      "/tmp/ipykernel_18148/1266505323.py:8: DtypeWarning: Columns (7) have mixed types. Specify dtype option on import or set low_memory=False.\n",
      "  for chunk in pd.read_csv(\"/home/charlie/Desktop/master_data.csv\", chunksize=chunk_size):\n",
      "/tmp/ipykernel_18148/1266505323.py:8: DtypeWarning: Columns (7) have mixed types. Specify dtype option on import or set low_memory=False.\n",
      "  for chunk in pd.read_csv(\"/home/charlie/Desktop/master_data.csv\", chunksize=chunk_size):\n"
     ]
    },
    {
     "name": "stdout",
     "output_type": "stream",
     "text": [
      "Missing columns in this chunk: {'tunnel_parents   label   detailed-label'}\n",
      "Missing columns in this chunk: {'tunnel_parents   label   detailed-label'}\n"
     ]
    },
    {
     "name": "stderr",
     "output_type": "stream",
     "text": [
      "/tmp/ipykernel_18148/1266505323.py:8: DtypeWarning: Columns (7) have mixed types. Specify dtype option on import or set low_memory=False.\n",
      "  for chunk in pd.read_csv(\"/home/charlie/Desktop/master_data.csv\", chunksize=chunk_size):\n",
      "/tmp/ipykernel_18148/1266505323.py:8: DtypeWarning: Columns (7) have mixed types. Specify dtype option on import or set low_memory=False.\n",
      "  for chunk in pd.read_csv(\"/home/charlie/Desktop/master_data.csv\", chunksize=chunk_size):\n"
     ]
    },
    {
     "name": "stdout",
     "output_type": "stream",
     "text": [
      "Missing columns in this chunk: {'tunnel_parents   label   detailed-label'}\n",
      "Missing columns in this chunk: {'tunnel_parents   label   detailed-label'}\n"
     ]
    },
    {
     "name": "stderr",
     "output_type": "stream",
     "text": [
      "/tmp/ipykernel_18148/1266505323.py:8: DtypeWarning: Columns (7) have mixed types. Specify dtype option on import or set low_memory=False.\n",
      "  for chunk in pd.read_csv(\"/home/charlie/Desktop/master_data.csv\", chunksize=chunk_size):\n",
      "/tmp/ipykernel_18148/1266505323.py:8: DtypeWarning: Columns (7) have mixed types. Specify dtype option on import or set low_memory=False.\n",
      "  for chunk in pd.read_csv(\"/home/charlie/Desktop/master_data.csv\", chunksize=chunk_size):\n"
     ]
    },
    {
     "name": "stdout",
     "output_type": "stream",
     "text": [
      "Missing columns in this chunk: {'tunnel_parents   label   detailed-label'}\n",
      "Missing columns in this chunk: {'tunnel_parents   label   detailed-label'}\n"
     ]
    },
    {
     "name": "stderr",
     "output_type": "stream",
     "text": [
      "/tmp/ipykernel_18148/1266505323.py:8: DtypeWarning: Columns (7) have mixed types. Specify dtype option on import or set low_memory=False.\n",
      "  for chunk in pd.read_csv(\"/home/charlie/Desktop/master_data.csv\", chunksize=chunk_size):\n",
      "/tmp/ipykernel_18148/1266505323.py:8: DtypeWarning: Columns (7) have mixed types. Specify dtype option on import or set low_memory=False.\n",
      "  for chunk in pd.read_csv(\"/home/charlie/Desktop/master_data.csv\", chunksize=chunk_size):\n"
     ]
    },
    {
     "name": "stdout",
     "output_type": "stream",
     "text": [
      "Missing columns in this chunk: {'tunnel_parents   label   detailed-label'}\n",
      "Missing columns in this chunk: {'tunnel_parents   label   detailed-label'}\n",
      "Missing columns in this chunk: {'tunnel_parents   label   detailed-label'}\n",
      "Missing columns in this chunk: {'tunnel_parents   label   detailed-label'}\n"
     ]
    },
    {
     "name": "stderr",
     "output_type": "stream",
     "text": [
      "/tmp/ipykernel_18148/1266505323.py:8: DtypeWarning: Columns (7) have mixed types. Specify dtype option on import or set low_memory=False.\n",
      "  for chunk in pd.read_csv(\"/home/charlie/Desktop/master_data.csv\", chunksize=chunk_size):\n"
     ]
    },
    {
     "name": "stdout",
     "output_type": "stream",
     "text": [
      "Missing columns in this chunk: {'tunnel_parents   label   detailed-label'}\n",
      "Missing columns in this chunk: {'tunnel_parents   label   detailed-label'}\n",
      "Missing columns in this chunk: {'tunnel_parents   label   detailed-label'}\n",
      "Missing columns in this chunk: {'tunnel_parents   label   detailed-label'}\n"
     ]
    },
    {
     "name": "stderr",
     "output_type": "stream",
     "text": [
      "/tmp/ipykernel_18148/1266505323.py:8: DtypeWarning: Columns (7) have mixed types. Specify dtype option on import or set low_memory=False.\n",
      "  for chunk in pd.read_csv(\"/home/charlie/Desktop/master_data.csv\", chunksize=chunk_size):\n"
     ]
    },
    {
     "name": "stdout",
     "output_type": "stream",
     "text": [
      "Missing columns in this chunk: {'tunnel_parents   label   detailed-label'}\n",
      "Missing columns in this chunk: {'tunnel_parents   label   detailed-label'}\n",
      "Missing columns in this chunk: {'tunnel_parents   label   detailed-label'}\n"
     ]
    },
    {
     "name": "stderr",
     "output_type": "stream",
     "text": [
      "/tmp/ipykernel_18148/1266505323.py:8: DtypeWarning: Columns (7) have mixed types. Specify dtype option on import or set low_memory=False.\n",
      "  for chunk in pd.read_csv(\"/home/charlie/Desktop/master_data.csv\", chunksize=chunk_size):\n"
     ]
    },
    {
     "name": "stdout",
     "output_type": "stream",
     "text": [
      "Missing columns in this chunk: {'tunnel_parents   label   detailed-label'}\n",
      "Missing columns in this chunk: {'tunnel_parents   label   detailed-label'}\n",
      "Missing columns in this chunk: {'tunnel_parents   label   detailed-label'}\n"
     ]
    },
    {
     "name": "stderr",
     "output_type": "stream",
     "text": [
      "/tmp/ipykernel_18148/1266505323.py:8: DtypeWarning: Columns (7) have mixed types. Specify dtype option on import or set low_memory=False.\n",
      "  for chunk in pd.read_csv(\"/home/charlie/Desktop/master_data.csv\", chunksize=chunk_size):\n"
     ]
    },
    {
     "name": "stdout",
     "output_type": "stream",
     "text": [
      "Missing columns in this chunk: {'tunnel_parents   label   detailed-label'}\n",
      "Missing columns in this chunk: {'tunnel_parents   label   detailed-label'}\n"
     ]
    },
    {
     "name": "stderr",
     "output_type": "stream",
     "text": [
      "/tmp/ipykernel_18148/1266505323.py:8: DtypeWarning: Columns (7) have mixed types. Specify dtype option on import or set low_memory=False.\n",
      "  for chunk in pd.read_csv(\"/home/charlie/Desktop/master_data.csv\", chunksize=chunk_size):\n"
     ]
    },
    {
     "name": "stdout",
     "output_type": "stream",
     "text": [
      "Missing columns in this chunk: {'tunnel_parents   label   detailed-label'}\n",
      "Missing columns in this chunk: {'tunnel_parents   label   detailed-label'}\n",
      "Missing columns in this chunk: {'tunnel_parents   label   detailed-label'}\n"
     ]
    },
    {
     "name": "stderr",
     "output_type": "stream",
     "text": [
      "/tmp/ipykernel_18148/1266505323.py:8: DtypeWarning: Columns (7) have mixed types. Specify dtype option on import or set low_memory=False.\n",
      "  for chunk in pd.read_csv(\"/home/charlie/Desktop/master_data.csv\", chunksize=chunk_size):\n",
      "/tmp/ipykernel_18148/1266505323.py:8: DtypeWarning: Columns (7) have mixed types. Specify dtype option on import or set low_memory=False.\n",
      "  for chunk in pd.read_csv(\"/home/charlie/Desktop/master_data.csv\", chunksize=chunk_size):\n"
     ]
    },
    {
     "name": "stdout",
     "output_type": "stream",
     "text": [
      "Missing columns in this chunk: {'tunnel_parents   label   detailed-label'}\n",
      "Missing columns in this chunk: {'tunnel_parents   label   detailed-label'}\n"
     ]
    },
    {
     "name": "stderr",
     "output_type": "stream",
     "text": [
      "/tmp/ipykernel_18148/1266505323.py:8: DtypeWarning: Columns (7) have mixed types. Specify dtype option on import or set low_memory=False.\n",
      "  for chunk in pd.read_csv(\"/home/charlie/Desktop/master_data.csv\", chunksize=chunk_size):\n"
     ]
    },
    {
     "name": "stdout",
     "output_type": "stream",
     "text": [
      "Missing columns in this chunk: {'tunnel_parents   label   detailed-label'}\n",
      "Missing columns in this chunk: {'tunnel_parents   label   detailed-label'}\n",
      "Missing columns in this chunk: {'tunnel_parents   label   detailed-label'}\n",
      "Missing columns in this chunk: {'tunnel_parents   label   detailed-label'}\n",
      "Missing columns in this chunk: {'tunnel_parents   label   detailed-label'}\n",
      "Missing columns in this chunk: {'tunnel_parents   label   detailed-label'}\n"
     ]
    },
    {
     "name": "stderr",
     "output_type": "stream",
     "text": [
      "/tmp/ipykernel_18148/1266505323.py:8: DtypeWarning: Columns (7) have mixed types. Specify dtype option on import or set low_memory=False.\n",
      "  for chunk in pd.read_csv(\"/home/charlie/Desktop/master_data.csv\", chunksize=chunk_size):\n"
     ]
    },
    {
     "name": "stdout",
     "output_type": "stream",
     "text": [
      "Missing columns in this chunk: {'tunnel_parents   label   detailed-label'}\n",
      "Missing columns in this chunk: {'tunnel_parents   label   detailed-label'}\n",
      "Missing columns in this chunk: {'tunnel_parents   label   detailed-label'}\n"
     ]
    },
    {
     "name": "stderr",
     "output_type": "stream",
     "text": [
      "/tmp/ipykernel_18148/1266505323.py:8: DtypeWarning: Columns (7) have mixed types. Specify dtype option on import or set low_memory=False.\n",
      "  for chunk in pd.read_csv(\"/home/charlie/Desktop/master_data.csv\", chunksize=chunk_size):\n",
      "/tmp/ipykernel_18148/1266505323.py:8: DtypeWarning: Columns (7) have mixed types. Specify dtype option on import or set low_memory=False.\n",
      "  for chunk in pd.read_csv(\"/home/charlie/Desktop/master_data.csv\", chunksize=chunk_size):\n"
     ]
    },
    {
     "name": "stdout",
     "output_type": "stream",
     "text": [
      "Missing columns in this chunk: {'tunnel_parents   label   detailed-label'}\n",
      "Missing columns in this chunk: {'tunnel_parents   label   detailed-label'}\n"
     ]
    },
    {
     "name": "stderr",
     "output_type": "stream",
     "text": [
      "/tmp/ipykernel_18148/1266505323.py:8: DtypeWarning: Columns (7) have mixed types. Specify dtype option on import or set low_memory=False.\n",
      "  for chunk in pd.read_csv(\"/home/charlie/Desktop/master_data.csv\", chunksize=chunk_size):\n",
      "/tmp/ipykernel_18148/1266505323.py:8: DtypeWarning: Columns (7) have mixed types. Specify dtype option on import or set low_memory=False.\n",
      "  for chunk in pd.read_csv(\"/home/charlie/Desktop/master_data.csv\", chunksize=chunk_size):\n"
     ]
    },
    {
     "name": "stdout",
     "output_type": "stream",
     "text": [
      "Missing columns in this chunk: {'tunnel_parents   label   detailed-label'}\n",
      "Missing columns in this chunk: {'tunnel_parents   label   detailed-label'}\n"
     ]
    },
    {
     "name": "stderr",
     "output_type": "stream",
     "text": [
      "/tmp/ipykernel_18148/1266505323.py:8: DtypeWarning: Columns (7) have mixed types. Specify dtype option on import or set low_memory=False.\n",
      "  for chunk in pd.read_csv(\"/home/charlie/Desktop/master_data.csv\", chunksize=chunk_size):\n",
      "/tmp/ipykernel_18148/1266505323.py:8: DtypeWarning: Columns (7) have mixed types. Specify dtype option on import or set low_memory=False.\n",
      "  for chunk in pd.read_csv(\"/home/charlie/Desktop/master_data.csv\", chunksize=chunk_size):\n"
     ]
    },
    {
     "name": "stdout",
     "output_type": "stream",
     "text": [
      "Missing columns in this chunk: {'tunnel_parents   label   detailed-label'}\n",
      "Missing columns in this chunk: {'tunnel_parents   label   detailed-label'}\n"
     ]
    },
    {
     "name": "stderr",
     "output_type": "stream",
     "text": [
      "/tmp/ipykernel_18148/1266505323.py:8: DtypeWarning: Columns (7) have mixed types. Specify dtype option on import or set low_memory=False.\n",
      "  for chunk in pd.read_csv(\"/home/charlie/Desktop/master_data.csv\", chunksize=chunk_size):\n"
     ]
    },
    {
     "name": "stdout",
     "output_type": "stream",
     "text": [
      "Missing columns in this chunk: {'tunnel_parents   label   detailed-label'}\n",
      "Missing columns in this chunk: {'tunnel_parents   label   detailed-label'}\n",
      "Missing columns in this chunk: {'tunnel_parents   label   detailed-label'}\n",
      "Missing columns in this chunk: {'tunnel_parents   label   detailed-label'}\n",
      "Missing columns in this chunk: {'tunnel_parents   label   detailed-label'}\n",
      "Missing columns in this chunk: {'tunnel_parents   label   detailed-label'}\n",
      "Missing columns in this chunk: {'tunnel_parents   label   detailed-label'}\n",
      "Missing columns in this chunk: {'tunnel_parents   label   detailed-label'}\n",
      "Missing columns in this chunk: {'tunnel_parents   label   detailed-label'}\n"
     ]
    },
    {
     "name": "stderr",
     "output_type": "stream",
     "text": [
      "/tmp/ipykernel_18148/1266505323.py:8: DtypeWarning: Columns (7) have mixed types. Specify dtype option on import or set low_memory=False.\n",
      "  for chunk in pd.read_csv(\"/home/charlie/Desktop/master_data.csv\", chunksize=chunk_size):\n",
      "/tmp/ipykernel_18148/1266505323.py:8: DtypeWarning: Columns (7) have mixed types. Specify dtype option on import or set low_memory=False.\n",
      "  for chunk in pd.read_csv(\"/home/charlie/Desktop/master_data.csv\", chunksize=chunk_size):\n"
     ]
    },
    {
     "name": "stdout",
     "output_type": "stream",
     "text": [
      "Missing columns in this chunk: {'tunnel_parents   label   detailed-label'}\n",
      "Missing columns in this chunk: {'tunnel_parents   label   detailed-label'}\n",
      "Missing columns in this chunk: {'tunnel_parents   label   detailed-label'}\n"
     ]
    },
    {
     "name": "stderr",
     "output_type": "stream",
     "text": [
      "/tmp/ipykernel_18148/1266505323.py:8: DtypeWarning: Columns (7) have mixed types. Specify dtype option on import or set low_memory=False.\n",
      "  for chunk in pd.read_csv(\"/home/charlie/Desktop/master_data.csv\", chunksize=chunk_size):\n"
     ]
    },
    {
     "name": "stdout",
     "output_type": "stream",
     "text": [
      "Missing columns in this chunk: {'tunnel_parents   label   detailed-label'}\n",
      "Missing columns in this chunk: {'tunnel_parents   label   detailed-label'}\n",
      "Missing columns in this chunk: {'tunnel_parents   label   detailed-label'}\n"
     ]
    },
    {
     "name": "stderr",
     "output_type": "stream",
     "text": [
      "/tmp/ipykernel_18148/1266505323.py:8: DtypeWarning: Columns (7) have mixed types. Specify dtype option on import or set low_memory=False.\n",
      "  for chunk in pd.read_csv(\"/home/charlie/Desktop/master_data.csv\", chunksize=chunk_size):\n"
     ]
    },
    {
     "name": "stdout",
     "output_type": "stream",
     "text": [
      "Missing columns in this chunk: {'tunnel_parents   label   detailed-label'}\n",
      "Missing columns in this chunk: {'tunnel_parents   label   detailed-label'}\n",
      "Missing columns in this chunk: {'tunnel_parents   label   detailed-label'}\n",
      "Missing columns in this chunk: {'tunnel_parents   label   detailed-label'}\n",
      "Missing columns in this chunk: {'tunnel_parents   label   detailed-label'}\n",
      "Missing columns in this chunk: {'tunnel_parents   label   detailed-label'}\n"
     ]
    },
    {
     "name": "stderr",
     "output_type": "stream",
     "text": [
      "/tmp/ipykernel_18148/1266505323.py:8: DtypeWarning: Columns (7) have mixed types. Specify dtype option on import or set low_memory=False.\n",
      "  for chunk in pd.read_csv(\"/home/charlie/Desktop/master_data.csv\", chunksize=chunk_size):\n"
     ]
    },
    {
     "name": "stdout",
     "output_type": "stream",
     "text": [
      "Missing columns in this chunk: {'tunnel_parents   label   detailed-label'}\n",
      "Missing columns in this chunk: {'tunnel_parents   label   detailed-label'}\n",
      "Missing columns in this chunk: {'tunnel_parents   label   detailed-label'}\n",
      "Missing columns in this chunk: {'tunnel_parents   label   detailed-label'}\n",
      "Missing columns in this chunk: {'tunnel_parents   label   detailed-label'}\n",
      "Missing columns in this chunk: {'tunnel_parents   label   detailed-label'}\n"
     ]
    },
    {
     "name": "stderr",
     "output_type": "stream",
     "text": [
      "/tmp/ipykernel_18148/1266505323.py:8: DtypeWarning: Columns (7) have mixed types. Specify dtype option on import or set low_memory=False.\n",
      "  for chunk in pd.read_csv(\"/home/charlie/Desktop/master_data.csv\", chunksize=chunk_size):\n"
     ]
    },
    {
     "name": "stdout",
     "output_type": "stream",
     "text": [
      "Missing columns in this chunk: {'tunnel_parents   label   detailed-label'}\n",
      "Missing columns in this chunk: {'tunnel_parents   label   detailed-label'}\n",
      "Missing columns in this chunk: {'tunnel_parents   label   detailed-label'}\n",
      "Missing columns in this chunk: {'tunnel_parents   label   detailed-label'}\n"
     ]
    },
    {
     "name": "stderr",
     "output_type": "stream",
     "text": [
      "/tmp/ipykernel_18148/1266505323.py:8: DtypeWarning: Columns (7) have mixed types. Specify dtype option on import or set low_memory=False.\n",
      "  for chunk in pd.read_csv(\"/home/charlie/Desktop/master_data.csv\", chunksize=chunk_size):\n",
      "/tmp/ipykernel_18148/1266505323.py:8: DtypeWarning: Columns (7) have mixed types. Specify dtype option on import or set low_memory=False.\n",
      "  for chunk in pd.read_csv(\"/home/charlie/Desktop/master_data.csv\", chunksize=chunk_size):\n"
     ]
    },
    {
     "name": "stdout",
     "output_type": "stream",
     "text": [
      "Missing columns in this chunk: {'tunnel_parents   label   detailed-label'}\n",
      "Missing columns in this chunk: {'tunnel_parents   label   detailed-label'}\n"
     ]
    },
    {
     "name": "stderr",
     "output_type": "stream",
     "text": [
      "/tmp/ipykernel_18148/1266505323.py:8: DtypeWarning: Columns (7) have mixed types. Specify dtype option on import or set low_memory=False.\n",
      "  for chunk in pd.read_csv(\"/home/charlie/Desktop/master_data.csv\", chunksize=chunk_size):\n",
      "/tmp/ipykernel_18148/1266505323.py:8: DtypeWarning: Columns (7) have mixed types. Specify dtype option on import or set low_memory=False.\n",
      "  for chunk in pd.read_csv(\"/home/charlie/Desktop/master_data.csv\", chunksize=chunk_size):\n"
     ]
    },
    {
     "name": "stdout",
     "output_type": "stream",
     "text": [
      "Missing columns in this chunk: {'tunnel_parents   label   detailed-label'}\n",
      "Missing columns in this chunk: {'tunnel_parents   label   detailed-label'}\n"
     ]
    },
    {
     "name": "stderr",
     "output_type": "stream",
     "text": [
      "/tmp/ipykernel_18148/1266505323.py:8: DtypeWarning: Columns (7) have mixed types. Specify dtype option on import or set low_memory=False.\n",
      "  for chunk in pd.read_csv(\"/home/charlie/Desktop/master_data.csv\", chunksize=chunk_size):\n",
      "/tmp/ipykernel_18148/1266505323.py:8: DtypeWarning: Columns (7) have mixed types. Specify dtype option on import or set low_memory=False.\n",
      "  for chunk in pd.read_csv(\"/home/charlie/Desktop/master_data.csv\", chunksize=chunk_size):\n"
     ]
    },
    {
     "name": "stdout",
     "output_type": "stream",
     "text": [
      "Missing columns in this chunk: {'tunnel_parents   label   detailed-label'}\n",
      "Missing columns in this chunk: {'tunnel_parents   label   detailed-label'}\n"
     ]
    },
    {
     "name": "stderr",
     "output_type": "stream",
     "text": [
      "/tmp/ipykernel_18148/1266505323.py:8: DtypeWarning: Columns (7) have mixed types. Specify dtype option on import or set low_memory=False.\n",
      "  for chunk in pd.read_csv(\"/home/charlie/Desktop/master_data.csv\", chunksize=chunk_size):\n",
      "/tmp/ipykernel_18148/1266505323.py:8: DtypeWarning: Columns (7) have mixed types. Specify dtype option on import or set low_memory=False.\n",
      "  for chunk in pd.read_csv(\"/home/charlie/Desktop/master_data.csv\", chunksize=chunk_size):\n"
     ]
    },
    {
     "name": "stdout",
     "output_type": "stream",
     "text": [
      "Missing columns in this chunk: {'tunnel_parents   label   detailed-label'}\n",
      "Missing columns in this chunk: {'tunnel_parents   label   detailed-label'}\n"
     ]
    },
    {
     "name": "stderr",
     "output_type": "stream",
     "text": [
      "/tmp/ipykernel_18148/1266505323.py:8: DtypeWarning: Columns (7) have mixed types. Specify dtype option on import or set low_memory=False.\n",
      "  for chunk in pd.read_csv(\"/home/charlie/Desktop/master_data.csv\", chunksize=chunk_size):\n",
      "/tmp/ipykernel_18148/1266505323.py:8: DtypeWarning: Columns (7) have mixed types. Specify dtype option on import or set low_memory=False.\n",
      "  for chunk in pd.read_csv(\"/home/charlie/Desktop/master_data.csv\", chunksize=chunk_size):\n"
     ]
    },
    {
     "name": "stdout",
     "output_type": "stream",
     "text": [
      "Missing columns in this chunk: {'tunnel_parents   label   detailed-label'}\n",
      "Missing columns in this chunk: {'tunnel_parents   label   detailed-label'}\n"
     ]
    },
    {
     "name": "stderr",
     "output_type": "stream",
     "text": [
      "/tmp/ipykernel_18148/1266505323.py:8: DtypeWarning: Columns (7) have mixed types. Specify dtype option on import or set low_memory=False.\n",
      "  for chunk in pd.read_csv(\"/home/charlie/Desktop/master_data.csv\", chunksize=chunk_size):\n",
      "/tmp/ipykernel_18148/1266505323.py:8: DtypeWarning: Columns (7) have mixed types. Specify dtype option on import or set low_memory=False.\n",
      "  for chunk in pd.read_csv(\"/home/charlie/Desktop/master_data.csv\", chunksize=chunk_size):\n"
     ]
    },
    {
     "name": "stdout",
     "output_type": "stream",
     "text": [
      "Missing columns in this chunk: {'tunnel_parents   label   detailed-label'}\n",
      "Missing columns in this chunk: {'tunnel_parents   label   detailed-label'}\n"
     ]
    },
    {
     "name": "stderr",
     "output_type": "stream",
     "text": [
      "/tmp/ipykernel_18148/1266505323.py:8: DtypeWarning: Columns (7) have mixed types. Specify dtype option on import or set low_memory=False.\n",
      "  for chunk in pd.read_csv(\"/home/charlie/Desktop/master_data.csv\", chunksize=chunk_size):\n",
      "/tmp/ipykernel_18148/1266505323.py:8: DtypeWarning: Columns (7) have mixed types. Specify dtype option on import or set low_memory=False.\n",
      "  for chunk in pd.read_csv(\"/home/charlie/Desktop/master_data.csv\", chunksize=chunk_size):\n"
     ]
    },
    {
     "name": "stdout",
     "output_type": "stream",
     "text": [
      "Missing columns in this chunk: {'tunnel_parents   label   detailed-label'}\n",
      "Missing columns in this chunk: {'tunnel_parents   label   detailed-label'}\n"
     ]
    },
    {
     "name": "stderr",
     "output_type": "stream",
     "text": [
      "/tmp/ipykernel_18148/1266505323.py:8: DtypeWarning: Columns (7) have mixed types. Specify dtype option on import or set low_memory=False.\n",
      "  for chunk in pd.read_csv(\"/home/charlie/Desktop/master_data.csv\", chunksize=chunk_size):\n",
      "/tmp/ipykernel_18148/1266505323.py:8: DtypeWarning: Columns (7) have mixed types. Specify dtype option on import or set low_memory=False.\n",
      "  for chunk in pd.read_csv(\"/home/charlie/Desktop/master_data.csv\", chunksize=chunk_size):\n"
     ]
    },
    {
     "name": "stdout",
     "output_type": "stream",
     "text": [
      "Missing columns in this chunk: {'tunnel_parents   label   detailed-label'}\n",
      "Missing columns in this chunk: {'tunnel_parents   label   detailed-label'}\n"
     ]
    },
    {
     "name": "stderr",
     "output_type": "stream",
     "text": [
      "/tmp/ipykernel_18148/1266505323.py:8: DtypeWarning: Columns (7) have mixed types. Specify dtype option on import or set low_memory=False.\n",
      "  for chunk in pd.read_csv(\"/home/charlie/Desktop/master_data.csv\", chunksize=chunk_size):\n",
      "/tmp/ipykernel_18148/1266505323.py:8: DtypeWarning: Columns (7) have mixed types. Specify dtype option on import or set low_memory=False.\n",
      "  for chunk in pd.read_csv(\"/home/charlie/Desktop/master_data.csv\", chunksize=chunk_size):\n"
     ]
    },
    {
     "name": "stdout",
     "output_type": "stream",
     "text": [
      "Missing columns in this chunk: {'tunnel_parents   label   detailed-label'}\n",
      "Missing columns in this chunk: {'tunnel_parents   label   detailed-label'}\n"
     ]
    },
    {
     "name": "stderr",
     "output_type": "stream",
     "text": [
      "/tmp/ipykernel_18148/1266505323.py:8: DtypeWarning: Columns (7) have mixed types. Specify dtype option on import or set low_memory=False.\n",
      "  for chunk in pd.read_csv(\"/home/charlie/Desktop/master_data.csv\", chunksize=chunk_size):\n",
      "/tmp/ipykernel_18148/1266505323.py:8: DtypeWarning: Columns (7) have mixed types. Specify dtype option on import or set low_memory=False.\n",
      "  for chunk in pd.read_csv(\"/home/charlie/Desktop/master_data.csv\", chunksize=chunk_size):\n"
     ]
    },
    {
     "name": "stdout",
     "output_type": "stream",
     "text": [
      "Missing columns in this chunk: {'tunnel_parents   label   detailed-label'}\n",
      "Missing columns in this chunk: {'tunnel_parents   label   detailed-label'}\n"
     ]
    },
    {
     "name": "stderr",
     "output_type": "stream",
     "text": [
      "/tmp/ipykernel_18148/1266505323.py:8: DtypeWarning: Columns (7) have mixed types. Specify dtype option on import or set low_memory=False.\n",
      "  for chunk in pd.read_csv(\"/home/charlie/Desktop/master_data.csv\", chunksize=chunk_size):\n",
      "/tmp/ipykernel_18148/1266505323.py:8: DtypeWarning: Columns (7) have mixed types. Specify dtype option on import or set low_memory=False.\n",
      "  for chunk in pd.read_csv(\"/home/charlie/Desktop/master_data.csv\", chunksize=chunk_size):\n"
     ]
    },
    {
     "name": "stdout",
     "output_type": "stream",
     "text": [
      "Missing columns in this chunk: {'tunnel_parents   label   detailed-label'}\n",
      "Missing columns in this chunk: {'tunnel_parents   label   detailed-label'}\n"
     ]
    },
    {
     "name": "stderr",
     "output_type": "stream",
     "text": [
      "/tmp/ipykernel_18148/1266505323.py:8: DtypeWarning: Columns (7) have mixed types. Specify dtype option on import or set low_memory=False.\n",
      "  for chunk in pd.read_csv(\"/home/charlie/Desktop/master_data.csv\", chunksize=chunk_size):\n",
      "/tmp/ipykernel_18148/1266505323.py:8: DtypeWarning: Columns (7) have mixed types. Specify dtype option on import or set low_memory=False.\n",
      "  for chunk in pd.read_csv(\"/home/charlie/Desktop/master_data.csv\", chunksize=chunk_size):\n"
     ]
    },
    {
     "name": "stdout",
     "output_type": "stream",
     "text": [
      "Missing columns in this chunk: {'tunnel_parents   label   detailed-label'}\n",
      "Missing columns in this chunk: {'tunnel_parents   label   detailed-label'}\n"
     ]
    },
    {
     "name": "stderr",
     "output_type": "stream",
     "text": [
      "/tmp/ipykernel_18148/1266505323.py:8: DtypeWarning: Columns (7) have mixed types. Specify dtype option on import or set low_memory=False.\n",
      "  for chunk in pd.read_csv(\"/home/charlie/Desktop/master_data.csv\", chunksize=chunk_size):\n",
      "/tmp/ipykernel_18148/1266505323.py:8: DtypeWarning: Columns (7) have mixed types. Specify dtype option on import or set low_memory=False.\n",
      "  for chunk in pd.read_csv(\"/home/charlie/Desktop/master_data.csv\", chunksize=chunk_size):\n"
     ]
    },
    {
     "name": "stdout",
     "output_type": "stream",
     "text": [
      "Missing columns in this chunk: {'tunnel_parents   label   detailed-label'}\n",
      "Missing columns in this chunk: {'tunnel_parents   label   detailed-label'}\n"
     ]
    },
    {
     "name": "stderr",
     "output_type": "stream",
     "text": [
      "/tmp/ipykernel_18148/1266505323.py:8: DtypeWarning: Columns (7) have mixed types. Specify dtype option on import or set low_memory=False.\n",
      "  for chunk in pd.read_csv(\"/home/charlie/Desktop/master_data.csv\", chunksize=chunk_size):\n",
      "/tmp/ipykernel_18148/1266505323.py:8: DtypeWarning: Columns (7) have mixed types. Specify dtype option on import or set low_memory=False.\n",
      "  for chunk in pd.read_csv(\"/home/charlie/Desktop/master_data.csv\", chunksize=chunk_size):\n"
     ]
    },
    {
     "name": "stdout",
     "output_type": "stream",
     "text": [
      "Missing columns in this chunk: {'tunnel_parents   label   detailed-label'}\n",
      "Missing columns in this chunk: {'tunnel_parents   label   detailed-label'}\n"
     ]
    },
    {
     "name": "stderr",
     "output_type": "stream",
     "text": [
      "/tmp/ipykernel_18148/1266505323.py:8: DtypeWarning: Columns (7) have mixed types. Specify dtype option on import or set low_memory=False.\n",
      "  for chunk in pd.read_csv(\"/home/charlie/Desktop/master_data.csv\", chunksize=chunk_size):\n",
      "/tmp/ipykernel_18148/1266505323.py:8: DtypeWarning: Columns (7) have mixed types. Specify dtype option on import or set low_memory=False.\n",
      "  for chunk in pd.read_csv(\"/home/charlie/Desktop/master_data.csv\", chunksize=chunk_size):\n"
     ]
    },
    {
     "name": "stdout",
     "output_type": "stream",
     "text": [
      "Missing columns in this chunk: {'tunnel_parents   label   detailed-label'}\n",
      "Missing columns in this chunk: {'tunnel_parents   label   detailed-label'}\n"
     ]
    },
    {
     "name": "stderr",
     "output_type": "stream",
     "text": [
      "/tmp/ipykernel_18148/1266505323.py:8: DtypeWarning: Columns (7) have mixed types. Specify dtype option on import or set low_memory=False.\n",
      "  for chunk in pd.read_csv(\"/home/charlie/Desktop/master_data.csv\", chunksize=chunk_size):\n",
      "/tmp/ipykernel_18148/1266505323.py:8: DtypeWarning: Columns (7) have mixed types. Specify dtype option on import or set low_memory=False.\n",
      "  for chunk in pd.read_csv(\"/home/charlie/Desktop/master_data.csv\", chunksize=chunk_size):\n"
     ]
    },
    {
     "name": "stdout",
     "output_type": "stream",
     "text": [
      "Missing columns in this chunk: {'tunnel_parents   label   detailed-label'}\n",
      "Missing columns in this chunk: {'tunnel_parents   label   detailed-label'}\n"
     ]
    },
    {
     "name": "stderr",
     "output_type": "stream",
     "text": [
      "/tmp/ipykernel_18148/1266505323.py:8: DtypeWarning: Columns (7) have mixed types. Specify dtype option on import or set low_memory=False.\n",
      "  for chunk in pd.read_csv(\"/home/charlie/Desktop/master_data.csv\", chunksize=chunk_size):\n",
      "/tmp/ipykernel_18148/1266505323.py:8: DtypeWarning: Columns (7) have mixed types. Specify dtype option on import or set low_memory=False.\n",
      "  for chunk in pd.read_csv(\"/home/charlie/Desktop/master_data.csv\", chunksize=chunk_size):\n"
     ]
    },
    {
     "name": "stdout",
     "output_type": "stream",
     "text": [
      "Missing columns in this chunk: {'tunnel_parents   label   detailed-label'}\n",
      "Missing columns in this chunk: {'tunnel_parents   label   detailed-label'}\n"
     ]
    },
    {
     "name": "stderr",
     "output_type": "stream",
     "text": [
      "/tmp/ipykernel_18148/1266505323.py:8: DtypeWarning: Columns (7) have mixed types. Specify dtype option on import or set low_memory=False.\n",
      "  for chunk in pd.read_csv(\"/home/charlie/Desktop/master_data.csv\", chunksize=chunk_size):\n",
      "/tmp/ipykernel_18148/1266505323.py:8: DtypeWarning: Columns (7) have mixed types. Specify dtype option on import or set low_memory=False.\n",
      "  for chunk in pd.read_csv(\"/home/charlie/Desktop/master_data.csv\", chunksize=chunk_size):\n"
     ]
    },
    {
     "name": "stdout",
     "output_type": "stream",
     "text": [
      "Missing columns in this chunk: {'tunnel_parents   label   detailed-label'}\n",
      "Missing columns in this chunk: {'tunnel_parents   label   detailed-label'}\n"
     ]
    },
    {
     "name": "stderr",
     "output_type": "stream",
     "text": [
      "/tmp/ipykernel_18148/1266505323.py:8: DtypeWarning: Columns (7) have mixed types. Specify dtype option on import or set low_memory=False.\n",
      "  for chunk in pd.read_csv(\"/home/charlie/Desktop/master_data.csv\", chunksize=chunk_size):\n",
      "/tmp/ipykernel_18148/1266505323.py:8: DtypeWarning: Columns (7) have mixed types. Specify dtype option on import or set low_memory=False.\n",
      "  for chunk in pd.read_csv(\"/home/charlie/Desktop/master_data.csv\", chunksize=chunk_size):\n"
     ]
    },
    {
     "name": "stdout",
     "output_type": "stream",
     "text": [
      "Missing columns in this chunk: {'tunnel_parents   label   detailed-label'}\n",
      "Missing columns in this chunk: {'tunnel_parents   label   detailed-label'}\n"
     ]
    },
    {
     "name": "stderr",
     "output_type": "stream",
     "text": [
      "/tmp/ipykernel_18148/1266505323.py:8: DtypeWarning: Columns (7) have mixed types. Specify dtype option on import or set low_memory=False.\n",
      "  for chunk in pd.read_csv(\"/home/charlie/Desktop/master_data.csv\", chunksize=chunk_size):\n",
      "/tmp/ipykernel_18148/1266505323.py:8: DtypeWarning: Columns (7) have mixed types. Specify dtype option on import or set low_memory=False.\n",
      "  for chunk in pd.read_csv(\"/home/charlie/Desktop/master_data.csv\", chunksize=chunk_size):\n"
     ]
    },
    {
     "name": "stdout",
     "output_type": "stream",
     "text": [
      "Missing columns in this chunk: {'tunnel_parents   label   detailed-label'}\n",
      "Missing columns in this chunk: {'tunnel_parents   label   detailed-label'}\n"
     ]
    },
    {
     "name": "stderr",
     "output_type": "stream",
     "text": [
      "/tmp/ipykernel_18148/1266505323.py:8: DtypeWarning: Columns (7) have mixed types. Specify dtype option on import or set low_memory=False.\n",
      "  for chunk in pd.read_csv(\"/home/charlie/Desktop/master_data.csv\", chunksize=chunk_size):\n",
      "/tmp/ipykernel_18148/1266505323.py:8: DtypeWarning: Columns (7) have mixed types. Specify dtype option on import or set low_memory=False.\n",
      "  for chunk in pd.read_csv(\"/home/charlie/Desktop/master_data.csv\", chunksize=chunk_size):\n"
     ]
    },
    {
     "name": "stdout",
     "output_type": "stream",
     "text": [
      "Missing columns in this chunk: {'tunnel_parents   label   detailed-label'}\n",
      "Missing columns in this chunk: {'tunnel_parents   label   detailed-label'}\n"
     ]
    },
    {
     "name": "stderr",
     "output_type": "stream",
     "text": [
      "/tmp/ipykernel_18148/1266505323.py:8: DtypeWarning: Columns (7) have mixed types. Specify dtype option on import or set low_memory=False.\n",
      "  for chunk in pd.read_csv(\"/home/charlie/Desktop/master_data.csv\", chunksize=chunk_size):\n",
      "/tmp/ipykernel_18148/1266505323.py:8: DtypeWarning: Columns (7) have mixed types. Specify dtype option on import or set low_memory=False.\n",
      "  for chunk in pd.read_csv(\"/home/charlie/Desktop/master_data.csv\", chunksize=chunk_size):\n"
     ]
    },
    {
     "name": "stdout",
     "output_type": "stream",
     "text": [
      "Missing columns in this chunk: {'tunnel_parents   label   detailed-label'}\n",
      "Missing columns in this chunk: {'tunnel_parents   label   detailed-label'}\n"
     ]
    },
    {
     "name": "stderr",
     "output_type": "stream",
     "text": [
      "/tmp/ipykernel_18148/1266505323.py:8: DtypeWarning: Columns (7) have mixed types. Specify dtype option on import or set low_memory=False.\n",
      "  for chunk in pd.read_csv(\"/home/charlie/Desktop/master_data.csv\", chunksize=chunk_size):\n",
      "/tmp/ipykernel_18148/1266505323.py:8: DtypeWarning: Columns (7) have mixed types. Specify dtype option on import or set low_memory=False.\n",
      "  for chunk in pd.read_csv(\"/home/charlie/Desktop/master_data.csv\", chunksize=chunk_size):\n"
     ]
    },
    {
     "name": "stdout",
     "output_type": "stream",
     "text": [
      "Missing columns in this chunk: {'tunnel_parents   label   detailed-label'}\n",
      "Missing columns in this chunk: {'tunnel_parents   label   detailed-label'}\n",
      "Missing columns in this chunk: {'tunnel_parents   label   detailed-label'}\n",
      "Missing columns in this chunk: {'tunnel_parents   label   detailed-label'}\n",
      "Missing columns in this chunk: {'tunnel_parents   label   detailed-label'}\n"
     ]
    },
    {
     "name": "stderr",
     "output_type": "stream",
     "text": [
      "/tmp/ipykernel_18148/1266505323.py:8: DtypeWarning: Columns (7) have mixed types. Specify dtype option on import or set low_memory=False.\n",
      "  for chunk in pd.read_csv(\"/home/charlie/Desktop/master_data.csv\", chunksize=chunk_size):\n"
     ]
    },
    {
     "name": "stdout",
     "output_type": "stream",
     "text": [
      "Missing columns in this chunk: {'tunnel_parents   label   detailed-label'}\n",
      "Missing columns in this chunk: {'tunnel_parents   label   detailed-label'}\n",
      "Missing columns in this chunk: {'tunnel_parents   label   detailed-label'}\n",
      "Missing columns in this chunk: {'tunnel_parents   label   detailed-label'}\n"
     ]
    },
    {
     "name": "stderr",
     "output_type": "stream",
     "text": [
      "/tmp/ipykernel_18148/1266505323.py:8: DtypeWarning: Columns (7) have mixed types. Specify dtype option on import or set low_memory=False.\n",
      "  for chunk in pd.read_csv(\"/home/charlie/Desktop/master_data.csv\", chunksize=chunk_size):\n",
      "/tmp/ipykernel_18148/1266505323.py:8: DtypeWarning: Columns (7) have mixed types. Specify dtype option on import or set low_memory=False.\n",
      "  for chunk in pd.read_csv(\"/home/charlie/Desktop/master_data.csv\", chunksize=chunk_size):\n"
     ]
    },
    {
     "name": "stdout",
     "output_type": "stream",
     "text": [
      "Missing columns in this chunk: {'tunnel_parents   label   detailed-label'}\n",
      "Missing columns in this chunk: {'tunnel_parents   label   detailed-label'}\n"
     ]
    },
    {
     "name": "stderr",
     "output_type": "stream",
     "text": [
      "/tmp/ipykernel_18148/1266505323.py:8: DtypeWarning: Columns (7) have mixed types. Specify dtype option on import or set low_memory=False.\n",
      "  for chunk in pd.read_csv(\"/home/charlie/Desktop/master_data.csv\", chunksize=chunk_size):\n"
     ]
    },
    {
     "name": "stdout",
     "output_type": "stream",
     "text": [
      "Missing columns in this chunk: {'tunnel_parents   label   detailed-label'}\n",
      "Missing columns in this chunk: {'tunnel_parents   label   detailed-label'}\n",
      "Missing columns in this chunk: {'tunnel_parents   label   detailed-label'}\n",
      "Missing columns in this chunk: {'tunnel_parents   label   detailed-label'}\n",
      "Missing columns in this chunk: {'tunnel_parents   label   detailed-label'}\n",
      "Missing columns in this chunk: {'tunnel_parents   label   detailed-label'}\n",
      "Missing columns in this chunk: {'tunnel_parents   label   detailed-label'}\n",
      "Missing columns in this chunk: {'tunnel_parents   label   detailed-label'}\n",
      "Missing columns in this chunk: {'tunnel_parents   label   detailed-label'}\n"
     ]
    },
    {
     "name": "stderr",
     "output_type": "stream",
     "text": [
      "/tmp/ipykernel_18148/1266505323.py:8: DtypeWarning: Columns (7) have mixed types. Specify dtype option on import or set low_memory=False.\n",
      "  for chunk in pd.read_csv(\"/home/charlie/Desktop/master_data.csv\", chunksize=chunk_size):\n"
     ]
    },
    {
     "name": "stdout",
     "output_type": "stream",
     "text": [
      "Missing columns in this chunk: {'tunnel_parents   label   detailed-label'}\n",
      "Missing columns in this chunk: {'tunnel_parents   label   detailed-label'}\n",
      "Missing columns in this chunk: {'tunnel_parents   label   detailed-label'}\n",
      "Missing columns in this chunk: {'tunnel_parents   label   detailed-label'}\n",
      "Missing columns in this chunk: {'tunnel_parents   label   detailed-label'}\n",
      "Missing columns in this chunk: {'tunnel_parents   label   detailed-label'}\n",
      "Missing columns in this chunk: {'tunnel_parents   label   detailed-label'}\n",
      "Missing columns in this chunk: {'tunnel_parents   label   detailed-label'}\n",
      "Missing columns in this chunk: {'tunnel_parents   label   detailed-label'}\n",
      "Missing columns in this chunk: {'tunnel_parents   label   detailed-label'}\n",
      "Missing columns in this chunk: {'tunnel_parents   label   detailed-label'}\n",
      "Missing columns in this chunk: {'tunnel_parents   label   detailed-label'}\n"
     ]
    },
    {
     "name": "stderr",
     "output_type": "stream",
     "text": [
      "/tmp/ipykernel_18148/1266505323.py:8: DtypeWarning: Columns (7) have mixed types. Specify dtype option on import or set low_memory=False.\n",
      "  for chunk in pd.read_csv(\"/home/charlie/Desktop/master_data.csv\", chunksize=chunk_size):\n"
     ]
    },
    {
     "name": "stdout",
     "output_type": "stream",
     "text": [
      "Missing columns in this chunk: {'tunnel_parents   label   detailed-label'}\n",
      "Missing columns in this chunk: {'tunnel_parents   label   detailed-label'}\n",
      "Missing columns in this chunk: {'tunnel_parents   label   detailed-label'}\n",
      "Missing columns in this chunk: {'tunnel_parents   label   detailed-label'}\n",
      "Missing columns in this chunk: {'tunnel_parents   label   detailed-label'}\n",
      "Missing columns in this chunk: {'tunnel_parents   label   detailed-label'}\n",
      "Missing columns in this chunk: {'tunnel_parents   label   detailed-label'}\n",
      "Missing columns in this chunk: {'tunnel_parents   label   detailed-label'}\n",
      "Missing columns in this chunk: {'tunnel_parents   label   detailed-label'}\n",
      "Missing columns in this chunk: {'tunnel_parents   label   detailed-label'}\n",
      "Missing columns in this chunk: {'tunnel_parents   label   detailed-label'}\n",
      "Missing columns in this chunk: {'tunnel_parents   label   detailed-label'}\n",
      "Missing columns in this chunk: {'tunnel_parents   label   detailed-label'}\n"
     ]
    },
    {
     "name": "stderr",
     "output_type": "stream",
     "text": [
      "/tmp/ipykernel_18148/1266505323.py:8: DtypeWarning: Columns (7) have mixed types. Specify dtype option on import or set low_memory=False.\n",
      "  for chunk in pd.read_csv(\"/home/charlie/Desktop/master_data.csv\", chunksize=chunk_size):\n"
     ]
    },
    {
     "name": "stdout",
     "output_type": "stream",
     "text": [
      "Missing columns in this chunk: {'tunnel_parents   label   detailed-label'}\n",
      "Missing columns in this chunk: {'tunnel_parents   label   detailed-label'}\n",
      "Missing columns in this chunk: {'tunnel_parents   label   detailed-label'}\n",
      "Missing columns in this chunk: {'tunnel_parents   label   detailed-label'}\n",
      "Missing columns in this chunk: {'tunnel_parents   label   detailed-label'}\n",
      "Missing columns in this chunk: {'tunnel_parents   label   detailed-label'}\n",
      "Missing columns in this chunk: {'tunnel_parents   label   detailed-label'}\n",
      "Missing columns in this chunk: {'tunnel_parents   label   detailed-label'}\n",
      "Missing columns in this chunk: {'tunnel_parents   label   detailed-label'}\n",
      "Missing columns in this chunk: {'tunnel_parents   label   detailed-label'}\n",
      "Missing columns in this chunk: {'tunnel_parents   label   detailed-label'}\n",
      "Missing columns in this chunk: {'tunnel_parents   label   detailed-label'}\n",
      "Missing columns in this chunk: {'tunnel_parents   label   detailed-label'}\n",
      "Missing columns in this chunk: {'tunnel_parents   label   detailed-label'}\n",
      "Missing columns in this chunk: {'tunnel_parents   label   detailed-label'}\n",
      "Missing columns in this chunk: {'tunnel_parents   label   detailed-label'}\n",
      "Missing columns in this chunk: {'tunnel_parents   label   detailed-label'}\n",
      "Missing columns in this chunk: {'tunnel_parents   label   detailed-label'}\n",
      "Missing columns in this chunk: {'tunnel_parents   label   detailed-label'}\n",
      "Missing columns in this chunk: {'tunnel_parents   label   detailed-label'}\n",
      "Missing columns in this chunk: {'tunnel_parents   label   detailed-label'}\n",
      "Missing columns in this chunk: {'tunnel_parents   label   detailed-label'}\n",
      "Missing columns in this chunk: {'tunnel_parents   label   detailed-label'}\n",
      "Missing columns in this chunk: {'tunnel_parents   label   detailed-label'}\n"
     ]
    },
    {
     "name": "stderr",
     "output_type": "stream",
     "text": [
      "/tmp/ipykernel_18148/1266505323.py:8: DtypeWarning: Columns (7) have mixed types. Specify dtype option on import or set low_memory=False.\n",
      "  for chunk in pd.read_csv(\"/home/charlie/Desktop/master_data.csv\", chunksize=chunk_size):\n",
      "/tmp/ipykernel_18148/1266505323.py:8: DtypeWarning: Columns (7) have mixed types. Specify dtype option on import or set low_memory=False.\n",
      "  for chunk in pd.read_csv(\"/home/charlie/Desktop/master_data.csv\", chunksize=chunk_size):\n"
     ]
    },
    {
     "name": "stdout",
     "output_type": "stream",
     "text": [
      "Missing columns in this chunk: {'tunnel_parents   label   detailed-label'}\n",
      "Missing columns in this chunk: {'tunnel_parents   label   detailed-label'}\n",
      "Missing columns in this chunk: {'tunnel_parents   label   detailed-label'}\n",
      "Missing columns in this chunk: {'tunnel_parents   label   detailed-label'}\n",
      "Missing columns in this chunk: {'tunnel_parents   label   detailed-label'}\n",
      "Missing columns in this chunk: {'tunnel_parents   label   detailed-label'}\n",
      "Missing columns in this chunk: {'tunnel_parents   label   detailed-label'}\n",
      "Missing columns in this chunk: {'tunnel_parents   label   detailed-label'}\n",
      "Missing columns in this chunk: {'tunnel_parents   label   detailed-label'}\n",
      "Missing columns in this chunk: {'tunnel_parents   label   detailed-label'}\n",
      "Missing columns in this chunk: {'tunnel_parents   label   detailed-label'}\n"
     ]
    },
    {
     "name": "stderr",
     "output_type": "stream",
     "text": [
      "/tmp/ipykernel_18148/1266505323.py:8: DtypeWarning: Columns (7) have mixed types. Specify dtype option on import or set low_memory=False.\n",
      "  for chunk in pd.read_csv(\"/home/charlie/Desktop/master_data.csv\", chunksize=chunk_size):\n"
     ]
    },
    {
     "name": "stdout",
     "output_type": "stream",
     "text": [
      "Missing columns in this chunk: {'tunnel_parents   label   detailed-label'}\n",
      "Missing columns in this chunk: {'tunnel_parents   label   detailed-label'}\n",
      "Missing columns in this chunk: {'tunnel_parents   label   detailed-label'}\n",
      "Missing columns in this chunk: {'tunnel_parents   label   detailed-label'}\n",
      "Missing columns in this chunk: {'tunnel_parents   label   detailed-label'}\n",
      "Missing columns in this chunk: {'tunnel_parents   label   detailed-label'}\n",
      "Missing columns in this chunk: {'tunnel_parents   label   detailed-label'}\n",
      "Missing columns in this chunk: {'tunnel_parents   label   detailed-label'}\n",
      "Missing columns in this chunk: {'tunnel_parents   label   detailed-label'}\n"
     ]
    },
    {
     "name": "stderr",
     "output_type": "stream",
     "text": [
      "/tmp/ipykernel_18148/1266505323.py:8: DtypeWarning: Columns (7) have mixed types. Specify dtype option on import or set low_memory=False.\n",
      "  for chunk in pd.read_csv(\"/home/charlie/Desktop/master_data.csv\", chunksize=chunk_size):\n",
      "/tmp/ipykernel_18148/1266505323.py:8: DtypeWarning: Columns (7) have mixed types. Specify dtype option on import or set low_memory=False.\n",
      "  for chunk in pd.read_csv(\"/home/charlie/Desktop/master_data.csv\", chunksize=chunk_size):\n"
     ]
    },
    {
     "name": "stdout",
     "output_type": "stream",
     "text": [
      "Missing columns in this chunk: {'tunnel_parents   label   detailed-label'}\n",
      "Missing columns in this chunk: {'tunnel_parents   label   detailed-label'}\n"
     ]
    },
    {
     "name": "stderr",
     "output_type": "stream",
     "text": [
      "/tmp/ipykernel_18148/1266505323.py:8: DtypeWarning: Columns (7) have mixed types. Specify dtype option on import or set low_memory=False.\n",
      "  for chunk in pd.read_csv(\"/home/charlie/Desktop/master_data.csv\", chunksize=chunk_size):\n",
      "/tmp/ipykernel_18148/1266505323.py:8: DtypeWarning: Columns (7) have mixed types. Specify dtype option on import or set low_memory=False.\n",
      "  for chunk in pd.read_csv(\"/home/charlie/Desktop/master_data.csv\", chunksize=chunk_size):\n"
     ]
    },
    {
     "name": "stdout",
     "output_type": "stream",
     "text": [
      "Missing columns in this chunk: {'tunnel_parents   label   detailed-label'}\n",
      "Missing columns in this chunk: {'tunnel_parents   label   detailed-label'}\n",
      "Missing columns in this chunk: {'tunnel_parents   label   detailed-label'}\n"
     ]
    },
    {
     "name": "stderr",
     "output_type": "stream",
     "text": [
      "/tmp/ipykernel_18148/1266505323.py:8: DtypeWarning: Columns (7) have mixed types. Specify dtype option on import or set low_memory=False.\n",
      "  for chunk in pd.read_csv(\"/home/charlie/Desktop/master_data.csv\", chunksize=chunk_size):\n",
      "/tmp/ipykernel_18148/1266505323.py:8: DtypeWarning: Columns (7) have mixed types. Specify dtype option on import or set low_memory=False.\n",
      "  for chunk in pd.read_csv(\"/home/charlie/Desktop/master_data.csv\", chunksize=chunk_size):\n"
     ]
    },
    {
     "name": "stdout",
     "output_type": "stream",
     "text": [
      "Missing columns in this chunk: {'tunnel_parents   label   detailed-label'}\n",
      "Missing columns in this chunk: {'tunnel_parents   label   detailed-label'}\n"
     ]
    },
    {
     "name": "stderr",
     "output_type": "stream",
     "text": [
      "/tmp/ipykernel_18148/1266505323.py:8: DtypeWarning: Columns (7) have mixed types. Specify dtype option on import or set low_memory=False.\n",
      "  for chunk in pd.read_csv(\"/home/charlie/Desktop/master_data.csv\", chunksize=chunk_size):\n"
     ]
    },
    {
     "name": "stdout",
     "output_type": "stream",
     "text": [
      "Missing columns in this chunk: {'tunnel_parents   label   detailed-label'}\n",
      "Missing columns in this chunk: {'tunnel_parents   label   detailed-label'}\n"
     ]
    },
    {
     "name": "stderr",
     "output_type": "stream",
     "text": [
      "/tmp/ipykernel_18148/1266505323.py:8: DtypeWarning: Columns (7) have mixed types. Specify dtype option on import or set low_memory=False.\n",
      "  for chunk in pd.read_csv(\"/home/charlie/Desktop/master_data.csv\", chunksize=chunk_size):\n",
      "/tmp/ipykernel_18148/1266505323.py:8: DtypeWarning: Columns (7) have mixed types. Specify dtype option on import or set low_memory=False.\n",
      "  for chunk in pd.read_csv(\"/home/charlie/Desktop/master_data.csv\", chunksize=chunk_size):\n"
     ]
    },
    {
     "name": "stdout",
     "output_type": "stream",
     "text": [
      "Missing columns in this chunk: {'tunnel_parents   label   detailed-label'}\n",
      "Missing columns in this chunk: {'tunnel_parents   label   detailed-label'}\n"
     ]
    },
    {
     "name": "stderr",
     "output_type": "stream",
     "text": [
      "/tmp/ipykernel_18148/1266505323.py:8: DtypeWarning: Columns (7) have mixed types. Specify dtype option on import or set low_memory=False.\n",
      "  for chunk in pd.read_csv(\"/home/charlie/Desktop/master_data.csv\", chunksize=chunk_size):\n",
      "/tmp/ipykernel_18148/1266505323.py:8: DtypeWarning: Columns (7) have mixed types. Specify dtype option on import or set low_memory=False.\n",
      "  for chunk in pd.read_csv(\"/home/charlie/Desktop/master_data.csv\", chunksize=chunk_size):\n"
     ]
    },
    {
     "name": "stdout",
     "output_type": "stream",
     "text": [
      "Missing columns in this chunk: {'tunnel_parents   label   detailed-label'}\n",
      "Missing columns in this chunk: {'tunnel_parents   label   detailed-label'}\n"
     ]
    },
    {
     "name": "stderr",
     "output_type": "stream",
     "text": [
      "/tmp/ipykernel_18148/1266505323.py:8: DtypeWarning: Columns (7) have mixed types. Specify dtype option on import or set low_memory=False.\n",
      "  for chunk in pd.read_csv(\"/home/charlie/Desktop/master_data.csv\", chunksize=chunk_size):\n",
      "/tmp/ipykernel_18148/1266505323.py:8: DtypeWarning: Columns (7) have mixed types. Specify dtype option on import or set low_memory=False.\n",
      "  for chunk in pd.read_csv(\"/home/charlie/Desktop/master_data.csv\", chunksize=chunk_size):\n"
     ]
    },
    {
     "name": "stdout",
     "output_type": "stream",
     "text": [
      "Missing columns in this chunk: {'tunnel_parents   label   detailed-label'}\n",
      "Missing columns in this chunk: {'tunnel_parents   label   detailed-label'}\n",
      "Missing columns in this chunk: {'tunnel_parents   label   detailed-label'}\n"
     ]
    },
    {
     "name": "stderr",
     "output_type": "stream",
     "text": [
      "/tmp/ipykernel_18148/1266505323.py:8: DtypeWarning: Columns (7) have mixed types. Specify dtype option on import or set low_memory=False.\n",
      "  for chunk in pd.read_csv(\"/home/charlie/Desktop/master_data.csv\", chunksize=chunk_size):\n",
      "/tmp/ipykernel_18148/1266505323.py:8: DtypeWarning: Columns (7) have mixed types. Specify dtype option on import or set low_memory=False.\n",
      "  for chunk in pd.read_csv(\"/home/charlie/Desktop/master_data.csv\", chunksize=chunk_size):\n"
     ]
    },
    {
     "name": "stdout",
     "output_type": "stream",
     "text": [
      "Missing columns in this chunk: {'tunnel_parents   label   detailed-label'}\n",
      "Missing columns in this chunk: {'tunnel_parents   label   detailed-label'}\n",
      "Missing columns in this chunk: {'tunnel_parents   label   detailed-label'}\n"
     ]
    },
    {
     "name": "stderr",
     "output_type": "stream",
     "text": [
      "/tmp/ipykernel_18148/1266505323.py:8: DtypeWarning: Columns (7) have mixed types. Specify dtype option on import or set low_memory=False.\n",
      "  for chunk in pd.read_csv(\"/home/charlie/Desktop/master_data.csv\", chunksize=chunk_size):\n"
     ]
    },
    {
     "name": "stdout",
     "output_type": "stream",
     "text": [
      "Missing columns in this chunk: {'tunnel_parents   label   detailed-label'}\n",
      "Missing columns in this chunk: {'tunnel_parents   label   detailed-label'}\n"
     ]
    },
    {
     "name": "stderr",
     "output_type": "stream",
     "text": [
      "/tmp/ipykernel_18148/1266505323.py:8: DtypeWarning: Columns (7) have mixed types. Specify dtype option on import or set low_memory=False.\n",
      "  for chunk in pd.read_csv(\"/home/charlie/Desktop/master_data.csv\", chunksize=chunk_size):\n",
      "/tmp/ipykernel_18148/1266505323.py:8: DtypeWarning: Columns (7) have mixed types. Specify dtype option on import or set low_memory=False.\n",
      "  for chunk in pd.read_csv(\"/home/charlie/Desktop/master_data.csv\", chunksize=chunk_size):\n"
     ]
    },
    {
     "name": "stdout",
     "output_type": "stream",
     "text": [
      "Missing columns in this chunk: {'tunnel_parents   label   detailed-label'}\n",
      "Missing columns in this chunk: {'tunnel_parents   label   detailed-label'}\n"
     ]
    },
    {
     "name": "stderr",
     "output_type": "stream",
     "text": [
      "/tmp/ipykernel_18148/1266505323.py:8: DtypeWarning: Columns (7) have mixed types. Specify dtype option on import or set low_memory=False.\n",
      "  for chunk in pd.read_csv(\"/home/charlie/Desktop/master_data.csv\", chunksize=chunk_size):\n",
      "/tmp/ipykernel_18148/1266505323.py:8: DtypeWarning: Columns (7) have mixed types. Specify dtype option on import or set low_memory=False.\n",
      "  for chunk in pd.read_csv(\"/home/charlie/Desktop/master_data.csv\", chunksize=chunk_size):\n"
     ]
    },
    {
     "name": "stdout",
     "output_type": "stream",
     "text": [
      "Missing columns in this chunk: {'tunnel_parents   label   detailed-label'}\n",
      "Missing columns in this chunk: {'tunnel_parents   label   detailed-label'}\n"
     ]
    },
    {
     "name": "stderr",
     "output_type": "stream",
     "text": [
      "/tmp/ipykernel_18148/1266505323.py:8: DtypeWarning: Columns (7) have mixed types. Specify dtype option on import or set low_memory=False.\n",
      "  for chunk in pd.read_csv(\"/home/charlie/Desktop/master_data.csv\", chunksize=chunk_size):\n",
      "/tmp/ipykernel_18148/1266505323.py:8: DtypeWarning: Columns (7) have mixed types. Specify dtype option on import or set low_memory=False.\n",
      "  for chunk in pd.read_csv(\"/home/charlie/Desktop/master_data.csv\", chunksize=chunk_size):\n"
     ]
    },
    {
     "name": "stdout",
     "output_type": "stream",
     "text": [
      "Missing columns in this chunk: {'tunnel_parents   label   detailed-label'}\n",
      "Missing columns in this chunk: {'tunnel_parents   label   detailed-label'}\n"
     ]
    },
    {
     "name": "stderr",
     "output_type": "stream",
     "text": [
      "/tmp/ipykernel_18148/1266505323.py:8: DtypeWarning: Columns (7) have mixed types. Specify dtype option on import or set low_memory=False.\n",
      "  for chunk in pd.read_csv(\"/home/charlie/Desktop/master_data.csv\", chunksize=chunk_size):\n",
      "/tmp/ipykernel_18148/1266505323.py:8: DtypeWarning: Columns (7) have mixed types. Specify dtype option on import or set low_memory=False.\n",
      "  for chunk in pd.read_csv(\"/home/charlie/Desktop/master_data.csv\", chunksize=chunk_size):\n"
     ]
    },
    {
     "name": "stdout",
     "output_type": "stream",
     "text": [
      "Missing columns in this chunk: {'tunnel_parents   label   detailed-label'}\n",
      "Missing columns in this chunk: {'tunnel_parents   label   detailed-label'}\n"
     ]
    },
    {
     "name": "stderr",
     "output_type": "stream",
     "text": [
      "/tmp/ipykernel_18148/1266505323.py:8: DtypeWarning: Columns (7) have mixed types. Specify dtype option on import or set low_memory=False.\n",
      "  for chunk in pd.read_csv(\"/home/charlie/Desktop/master_data.csv\", chunksize=chunk_size):\n",
      "/tmp/ipykernel_18148/1266505323.py:8: DtypeWarning: Columns (7) have mixed types. Specify dtype option on import or set low_memory=False.\n",
      "  for chunk in pd.read_csv(\"/home/charlie/Desktop/master_data.csv\", chunksize=chunk_size):\n"
     ]
    },
    {
     "name": "stdout",
     "output_type": "stream",
     "text": [
      "Missing columns in this chunk: {'tunnel_parents   label   detailed-label'}\n",
      "Missing columns in this chunk: {'tunnel_parents   label   detailed-label'}\n"
     ]
    },
    {
     "name": "stderr",
     "output_type": "stream",
     "text": [
      "/tmp/ipykernel_18148/1266505323.py:8: DtypeWarning: Columns (7) have mixed types. Specify dtype option on import or set low_memory=False.\n",
      "  for chunk in pd.read_csv(\"/home/charlie/Desktop/master_data.csv\", chunksize=chunk_size):\n",
      "/tmp/ipykernel_18148/1266505323.py:8: DtypeWarning: Columns (7) have mixed types. Specify dtype option on import or set low_memory=False.\n",
      "  for chunk in pd.read_csv(\"/home/charlie/Desktop/master_data.csv\", chunksize=chunk_size):\n"
     ]
    },
    {
     "name": "stdout",
     "output_type": "stream",
     "text": [
      "Missing columns in this chunk: {'tunnel_parents   label   detailed-label'}\n",
      "Missing columns in this chunk: {'tunnel_parents   label   detailed-label'}\n"
     ]
    },
    {
     "name": "stderr",
     "output_type": "stream",
     "text": [
      "/tmp/ipykernel_18148/1266505323.py:8: DtypeWarning: Columns (7) have mixed types. Specify dtype option on import or set low_memory=False.\n",
      "  for chunk in pd.read_csv(\"/home/charlie/Desktop/master_data.csv\", chunksize=chunk_size):\n",
      "/tmp/ipykernel_18148/1266505323.py:8: DtypeWarning: Columns (7) have mixed types. Specify dtype option on import or set low_memory=False.\n",
      "  for chunk in pd.read_csv(\"/home/charlie/Desktop/master_data.csv\", chunksize=chunk_size):\n"
     ]
    },
    {
     "name": "stdout",
     "output_type": "stream",
     "text": [
      "Missing columns in this chunk: {'tunnel_parents   label   detailed-label'}\n",
      "Missing columns in this chunk: {'tunnel_parents   label   detailed-label'}\n"
     ]
    },
    {
     "name": "stderr",
     "output_type": "stream",
     "text": [
      "/tmp/ipykernel_18148/1266505323.py:8: DtypeWarning: Columns (7) have mixed types. Specify dtype option on import or set low_memory=False.\n",
      "  for chunk in pd.read_csv(\"/home/charlie/Desktop/master_data.csv\", chunksize=chunk_size):\n",
      "/tmp/ipykernel_18148/1266505323.py:8: DtypeWarning: Columns (7) have mixed types. Specify dtype option on import or set low_memory=False.\n",
      "  for chunk in pd.read_csv(\"/home/charlie/Desktop/master_data.csv\", chunksize=chunk_size):\n"
     ]
    },
    {
     "name": "stdout",
     "output_type": "stream",
     "text": [
      "Missing columns in this chunk: {'tunnel_parents   label   detailed-label'}\n",
      "Missing columns in this chunk: {'tunnel_parents   label   detailed-label'}\n"
     ]
    },
    {
     "name": "stderr",
     "output_type": "stream",
     "text": [
      "/tmp/ipykernel_18148/1266505323.py:8: DtypeWarning: Columns (7) have mixed types. Specify dtype option on import or set low_memory=False.\n",
      "  for chunk in pd.read_csv(\"/home/charlie/Desktop/master_data.csv\", chunksize=chunk_size):\n",
      "/tmp/ipykernel_18148/1266505323.py:8: DtypeWarning: Columns (7) have mixed types. Specify dtype option on import or set low_memory=False.\n",
      "  for chunk in pd.read_csv(\"/home/charlie/Desktop/master_data.csv\", chunksize=chunk_size):\n"
     ]
    },
    {
     "name": "stdout",
     "output_type": "stream",
     "text": [
      "Missing columns in this chunk: {'tunnel_parents   label   detailed-label'}\n",
      "Missing columns in this chunk: {'tunnel_parents   label   detailed-label'}\n"
     ]
    },
    {
     "name": "stderr",
     "output_type": "stream",
     "text": [
      "/tmp/ipykernel_18148/1266505323.py:8: DtypeWarning: Columns (7) have mixed types. Specify dtype option on import or set low_memory=False.\n",
      "  for chunk in pd.read_csv(\"/home/charlie/Desktop/master_data.csv\", chunksize=chunk_size):\n",
      "/tmp/ipykernel_18148/1266505323.py:8: DtypeWarning: Columns (7) have mixed types. Specify dtype option on import or set low_memory=False.\n",
      "  for chunk in pd.read_csv(\"/home/charlie/Desktop/master_data.csv\", chunksize=chunk_size):\n"
     ]
    },
    {
     "name": "stdout",
     "output_type": "stream",
     "text": [
      "Missing columns in this chunk: {'tunnel_parents   label   detailed-label'}\n",
      "Missing columns in this chunk: {'tunnel_parents   label   detailed-label'}\n",
      "Missing columns in this chunk: {'tunnel_parents   label   detailed-label'}\n"
     ]
    },
    {
     "name": "stderr",
     "output_type": "stream",
     "text": [
      "/tmp/ipykernel_18148/1266505323.py:8: DtypeWarning: Columns (7) have mixed types. Specify dtype option on import or set low_memory=False.\n",
      "  for chunk in pd.read_csv(\"/home/charlie/Desktop/master_data.csv\", chunksize=chunk_size):\n",
      "/tmp/ipykernel_18148/1266505323.py:8: DtypeWarning: Columns (7) have mixed types. Specify dtype option on import or set low_memory=False.\n",
      "  for chunk in pd.read_csv(\"/home/charlie/Desktop/master_data.csv\", chunksize=chunk_size):\n"
     ]
    },
    {
     "name": "stdout",
     "output_type": "stream",
     "text": [
      "Missing columns in this chunk: {'tunnel_parents   label   detailed-label'}\n",
      "Missing columns in this chunk: {'tunnel_parents   label   detailed-label'}\n",
      "Missing columns in this chunk: {'tunnel_parents   label   detailed-label'}\n"
     ]
    },
    {
     "name": "stderr",
     "output_type": "stream",
     "text": [
      "/tmp/ipykernel_18148/1266505323.py:8: DtypeWarning: Columns (7) have mixed types. Specify dtype option on import or set low_memory=False.\n",
      "  for chunk in pd.read_csv(\"/home/charlie/Desktop/master_data.csv\", chunksize=chunk_size):\n",
      "/tmp/ipykernel_18148/1266505323.py:8: DtypeWarning: Columns (7) have mixed types. Specify dtype option on import or set low_memory=False.\n",
      "  for chunk in pd.read_csv(\"/home/charlie/Desktop/master_data.csv\", chunksize=chunk_size):\n"
     ]
    },
    {
     "name": "stdout",
     "output_type": "stream",
     "text": [
      "Missing columns in this chunk: {'tunnel_parents   label   detailed-label'}\n",
      "Missing columns in this chunk: {'tunnel_parents   label   detailed-label'}\n"
     ]
    },
    {
     "name": "stderr",
     "output_type": "stream",
     "text": [
      "/tmp/ipykernel_18148/1266505323.py:8: DtypeWarning: Columns (7) have mixed types. Specify dtype option on import or set low_memory=False.\n",
      "  for chunk in pd.read_csv(\"/home/charlie/Desktop/master_data.csv\", chunksize=chunk_size):\n",
      "/tmp/ipykernel_18148/1266505323.py:8: DtypeWarning: Columns (7) have mixed types. Specify dtype option on import or set low_memory=False.\n",
      "  for chunk in pd.read_csv(\"/home/charlie/Desktop/master_data.csv\", chunksize=chunk_size):\n"
     ]
    },
    {
     "name": "stdout",
     "output_type": "stream",
     "text": [
      "Missing columns in this chunk: {'tunnel_parents   label   detailed-label'}\n",
      "Missing columns in this chunk: {'tunnel_parents   label   detailed-label'}\n"
     ]
    },
    {
     "name": "stderr",
     "output_type": "stream",
     "text": [
      "/tmp/ipykernel_18148/1266505323.py:8: DtypeWarning: Columns (7) have mixed types. Specify dtype option on import or set low_memory=False.\n",
      "  for chunk in pd.read_csv(\"/home/charlie/Desktop/master_data.csv\", chunksize=chunk_size):\n",
      "/tmp/ipykernel_18148/1266505323.py:8: DtypeWarning: Columns (7) have mixed types. Specify dtype option on import or set low_memory=False.\n",
      "  for chunk in pd.read_csv(\"/home/charlie/Desktop/master_data.csv\", chunksize=chunk_size):\n"
     ]
    },
    {
     "name": "stdout",
     "output_type": "stream",
     "text": [
      "Missing columns in this chunk: {'tunnel_parents   label   detailed-label'}\n",
      "Missing columns in this chunk: {'tunnel_parents   label   detailed-label'}\n"
     ]
    },
    {
     "name": "stderr",
     "output_type": "stream",
     "text": [
      "/tmp/ipykernel_18148/1266505323.py:8: DtypeWarning: Columns (7) have mixed types. Specify dtype option on import or set low_memory=False.\n",
      "  for chunk in pd.read_csv(\"/home/charlie/Desktop/master_data.csv\", chunksize=chunk_size):\n",
      "/tmp/ipykernel_18148/1266505323.py:8: DtypeWarning: Columns (7) have mixed types. Specify dtype option on import or set low_memory=False.\n",
      "  for chunk in pd.read_csv(\"/home/charlie/Desktop/master_data.csv\", chunksize=chunk_size):\n"
     ]
    },
    {
     "name": "stdout",
     "output_type": "stream",
     "text": [
      "Missing columns in this chunk: {'tunnel_parents   label   detailed-label'}\n",
      "Missing columns in this chunk: {'tunnel_parents   label   detailed-label'}\n"
     ]
    },
    {
     "name": "stderr",
     "output_type": "stream",
     "text": [
      "/tmp/ipykernel_18148/1266505323.py:8: DtypeWarning: Columns (7) have mixed types. Specify dtype option on import or set low_memory=False.\n",
      "  for chunk in pd.read_csv(\"/home/charlie/Desktop/master_data.csv\", chunksize=chunk_size):\n",
      "/tmp/ipykernel_18148/1266505323.py:8: DtypeWarning: Columns (7) have mixed types. Specify dtype option on import or set low_memory=False.\n",
      "  for chunk in pd.read_csv(\"/home/charlie/Desktop/master_data.csv\", chunksize=chunk_size):\n"
     ]
    },
    {
     "name": "stdout",
     "output_type": "stream",
     "text": [
      "Missing columns in this chunk: {'tunnel_parents   label   detailed-label'}\n",
      "Missing columns in this chunk: {'tunnel_parents   label   detailed-label'}\n"
     ]
    },
    {
     "name": "stderr",
     "output_type": "stream",
     "text": [
      "/tmp/ipykernel_18148/1266505323.py:8: DtypeWarning: Columns (7) have mixed types. Specify dtype option on import or set low_memory=False.\n",
      "  for chunk in pd.read_csv(\"/home/charlie/Desktop/master_data.csv\", chunksize=chunk_size):\n",
      "/tmp/ipykernel_18148/1266505323.py:8: DtypeWarning: Columns (7) have mixed types. Specify dtype option on import or set low_memory=False.\n",
      "  for chunk in pd.read_csv(\"/home/charlie/Desktop/master_data.csv\", chunksize=chunk_size):\n"
     ]
    },
    {
     "name": "stdout",
     "output_type": "stream",
     "text": [
      "Missing columns in this chunk: {'tunnel_parents   label   detailed-label'}\n",
      "Missing columns in this chunk: {'tunnel_parents   label   detailed-label'}\n"
     ]
    },
    {
     "name": "stderr",
     "output_type": "stream",
     "text": [
      "/tmp/ipykernel_18148/1266505323.py:8: DtypeWarning: Columns (7) have mixed types. Specify dtype option on import or set low_memory=False.\n",
      "  for chunk in pd.read_csv(\"/home/charlie/Desktop/master_data.csv\", chunksize=chunk_size):\n",
      "/tmp/ipykernel_18148/1266505323.py:8: DtypeWarning: Columns (7) have mixed types. Specify dtype option on import or set low_memory=False.\n",
      "  for chunk in pd.read_csv(\"/home/charlie/Desktop/master_data.csv\", chunksize=chunk_size):\n"
     ]
    },
    {
     "name": "stdout",
     "output_type": "stream",
     "text": [
      "Missing columns in this chunk: {'tunnel_parents   label   detailed-label'}\n",
      "Missing columns in this chunk: {'tunnel_parents   label   detailed-label'}\n",
      "Missing columns in this chunk: {'tunnel_parents   label   detailed-label'}\n"
     ]
    },
    {
     "name": "stderr",
     "output_type": "stream",
     "text": [
      "/tmp/ipykernel_18148/1266505323.py:8: DtypeWarning: Columns (7) have mixed types. Specify dtype option on import or set low_memory=False.\n",
      "  for chunk in pd.read_csv(\"/home/charlie/Desktop/master_data.csv\", chunksize=chunk_size):\n",
      "/tmp/ipykernel_18148/1266505323.py:8: DtypeWarning: Columns (7) have mixed types. Specify dtype option on import or set low_memory=False.\n",
      "  for chunk in pd.read_csv(\"/home/charlie/Desktop/master_data.csv\", chunksize=chunk_size):\n"
     ]
    },
    {
     "name": "stdout",
     "output_type": "stream",
     "text": [
      "Missing columns in this chunk: {'tunnel_parents   label   detailed-label'}\n",
      "Missing columns in this chunk: {'tunnel_parents   label   detailed-label'}\n"
     ]
    },
    {
     "name": "stderr",
     "output_type": "stream",
     "text": [
      "/tmp/ipykernel_18148/1266505323.py:8: DtypeWarning: Columns (7) have mixed types. Specify dtype option on import or set low_memory=False.\n",
      "  for chunk in pd.read_csv(\"/home/charlie/Desktop/master_data.csv\", chunksize=chunk_size):\n",
      "/tmp/ipykernel_18148/1266505323.py:8: DtypeWarning: Columns (7) have mixed types. Specify dtype option on import or set low_memory=False.\n",
      "  for chunk in pd.read_csv(\"/home/charlie/Desktop/master_data.csv\", chunksize=chunk_size):\n"
     ]
    },
    {
     "name": "stdout",
     "output_type": "stream",
     "text": [
      "Missing columns in this chunk: {'tunnel_parents   label   detailed-label'}\n",
      "Missing columns in this chunk: {'tunnel_parents   label   detailed-label'}\n"
     ]
    },
    {
     "name": "stderr",
     "output_type": "stream",
     "text": [
      "/tmp/ipykernel_18148/1266505323.py:8: DtypeWarning: Columns (7) have mixed types. Specify dtype option on import or set low_memory=False.\n",
      "  for chunk in pd.read_csv(\"/home/charlie/Desktop/master_data.csv\", chunksize=chunk_size):\n",
      "/tmp/ipykernel_18148/1266505323.py:8: DtypeWarning: Columns (7) have mixed types. Specify dtype option on import or set low_memory=False.\n",
      "  for chunk in pd.read_csv(\"/home/charlie/Desktop/master_data.csv\", chunksize=chunk_size):\n"
     ]
    },
    {
     "name": "stdout",
     "output_type": "stream",
     "text": [
      "Missing columns in this chunk: {'tunnel_parents   label   detailed-label'}\n",
      "Missing columns in this chunk: {'tunnel_parents   label   detailed-label'}\n"
     ]
    },
    {
     "name": "stderr",
     "output_type": "stream",
     "text": [
      "/tmp/ipykernel_18148/1266505323.py:8: DtypeWarning: Columns (7) have mixed types. Specify dtype option on import or set low_memory=False.\n",
      "  for chunk in pd.read_csv(\"/home/charlie/Desktop/master_data.csv\", chunksize=chunk_size):\n"
     ]
    },
    {
     "name": "stdout",
     "output_type": "stream",
     "text": [
      "Missing columns in this chunk: {'tunnel_parents   label   detailed-label'}\n",
      "Missing columns in this chunk: {'tunnel_parents   label   detailed-label'}\n"
     ]
    },
    {
     "name": "stderr",
     "output_type": "stream",
     "text": [
      "/tmp/ipykernel_18148/1266505323.py:8: DtypeWarning: Columns (7) have mixed types. Specify dtype option on import or set low_memory=False.\n",
      "  for chunk in pd.read_csv(\"/home/charlie/Desktop/master_data.csv\", chunksize=chunk_size):\n",
      "/tmp/ipykernel_18148/1266505323.py:8: DtypeWarning: Columns (7) have mixed types. Specify dtype option on import or set low_memory=False.\n",
      "  for chunk in pd.read_csv(\"/home/charlie/Desktop/master_data.csv\", chunksize=chunk_size):\n"
     ]
    },
    {
     "name": "stdout",
     "output_type": "stream",
     "text": [
      "Missing columns in this chunk: {'tunnel_parents   label   detailed-label'}\n",
      "Missing columns in this chunk: {'tunnel_parents   label   detailed-label'}\n"
     ]
    },
    {
     "name": "stderr",
     "output_type": "stream",
     "text": [
      "/tmp/ipykernel_18148/1266505323.py:8: DtypeWarning: Columns (7) have mixed types. Specify dtype option on import or set low_memory=False.\n",
      "  for chunk in pd.read_csv(\"/home/charlie/Desktop/master_data.csv\", chunksize=chunk_size):\n",
      "/tmp/ipykernel_18148/1266505323.py:8: DtypeWarning: Columns (7) have mixed types. Specify dtype option on import or set low_memory=False.\n",
      "  for chunk in pd.read_csv(\"/home/charlie/Desktop/master_data.csv\", chunksize=chunk_size):\n"
     ]
    },
    {
     "name": "stdout",
     "output_type": "stream",
     "text": [
      "Missing columns in this chunk: {'tunnel_parents   label   detailed-label'}\n",
      "Missing columns in this chunk: {'tunnel_parents   label   detailed-label'}\n"
     ]
    },
    {
     "name": "stderr",
     "output_type": "stream",
     "text": [
      "/tmp/ipykernel_18148/1266505323.py:8: DtypeWarning: Columns (7) have mixed types. Specify dtype option on import or set low_memory=False.\n",
      "  for chunk in pd.read_csv(\"/home/charlie/Desktop/master_data.csv\", chunksize=chunk_size):\n",
      "/tmp/ipykernel_18148/1266505323.py:8: DtypeWarning: Columns (7) have mixed types. Specify dtype option on import or set low_memory=False.\n",
      "  for chunk in pd.read_csv(\"/home/charlie/Desktop/master_data.csv\", chunksize=chunk_size):\n"
     ]
    },
    {
     "name": "stdout",
     "output_type": "stream",
     "text": [
      "Missing columns in this chunk: {'tunnel_parents   label   detailed-label'}\n",
      "Missing columns in this chunk: {'tunnel_parents   label   detailed-label'}\n"
     ]
    },
    {
     "name": "stderr",
     "output_type": "stream",
     "text": [
      "/tmp/ipykernel_18148/1266505323.py:8: DtypeWarning: Columns (7) have mixed types. Specify dtype option on import or set low_memory=False.\n",
      "  for chunk in pd.read_csv(\"/home/charlie/Desktop/master_data.csv\", chunksize=chunk_size):\n",
      "/tmp/ipykernel_18148/1266505323.py:8: DtypeWarning: Columns (7) have mixed types. Specify dtype option on import or set low_memory=False.\n",
      "  for chunk in pd.read_csv(\"/home/charlie/Desktop/master_data.csv\", chunksize=chunk_size):\n"
     ]
    },
    {
     "name": "stdout",
     "output_type": "stream",
     "text": [
      "Missing columns in this chunk: {'tunnel_parents   label   detailed-label'}\n",
      "Missing columns in this chunk: {'tunnel_parents   label   detailed-label'}\n"
     ]
    },
    {
     "name": "stderr",
     "output_type": "stream",
     "text": [
      "/tmp/ipykernel_18148/1266505323.py:8: DtypeWarning: Columns (7) have mixed types. Specify dtype option on import or set low_memory=False.\n",
      "  for chunk in pd.read_csv(\"/home/charlie/Desktop/master_data.csv\", chunksize=chunk_size):\n",
      "/tmp/ipykernel_18148/1266505323.py:8: DtypeWarning: Columns (7) have mixed types. Specify dtype option on import or set low_memory=False.\n",
      "  for chunk in pd.read_csv(\"/home/charlie/Desktop/master_data.csv\", chunksize=chunk_size):\n"
     ]
    },
    {
     "name": "stdout",
     "output_type": "stream",
     "text": [
      "Missing columns in this chunk: {'tunnel_parents   label   detailed-label'}\n",
      "Missing columns in this chunk: {'tunnel_parents   label   detailed-label'}\n"
     ]
    },
    {
     "name": "stderr",
     "output_type": "stream",
     "text": [
      "/tmp/ipykernel_18148/1266505323.py:8: DtypeWarning: Columns (7) have mixed types. Specify dtype option on import or set low_memory=False.\n",
      "  for chunk in pd.read_csv(\"/home/charlie/Desktop/master_data.csv\", chunksize=chunk_size):\n"
     ]
    },
    {
     "name": "stdout",
     "output_type": "stream",
     "text": [
      "Missing columns in this chunk: {'tunnel_parents   label   detailed-label'}\n",
      "Missing columns in this chunk: {'tunnel_parents   label   detailed-label'}\n",
      "Missing columns in this chunk: {'tunnel_parents   label   detailed-label'}\n"
     ]
    },
    {
     "name": "stderr",
     "output_type": "stream",
     "text": [
      "/tmp/ipykernel_18148/1266505323.py:8: DtypeWarning: Columns (7) have mixed types. Specify dtype option on import or set low_memory=False.\n",
      "  for chunk in pd.read_csv(\"/home/charlie/Desktop/master_data.csv\", chunksize=chunk_size):\n",
      "/tmp/ipykernel_18148/1266505323.py:8: DtypeWarning: Columns (7) have mixed types. Specify dtype option on import or set low_memory=False.\n",
      "  for chunk in pd.read_csv(\"/home/charlie/Desktop/master_data.csv\", chunksize=chunk_size):\n"
     ]
    },
    {
     "name": "stdout",
     "output_type": "stream",
     "text": [
      "Missing columns in this chunk: {'tunnel_parents   label   detailed-label'}\n",
      "Missing columns in this chunk: {'tunnel_parents   label   detailed-label'}\n"
     ]
    },
    {
     "name": "stderr",
     "output_type": "stream",
     "text": [
      "/tmp/ipykernel_18148/1266505323.py:8: DtypeWarning: Columns (7) have mixed types. Specify dtype option on import or set low_memory=False.\n",
      "  for chunk in pd.read_csv(\"/home/charlie/Desktop/master_data.csv\", chunksize=chunk_size):\n",
      "/tmp/ipykernel_18148/1266505323.py:8: DtypeWarning: Columns (7) have mixed types. Specify dtype option on import or set low_memory=False.\n",
      "  for chunk in pd.read_csv(\"/home/charlie/Desktop/master_data.csv\", chunksize=chunk_size):\n"
     ]
    },
    {
     "name": "stdout",
     "output_type": "stream",
     "text": [
      "Missing columns in this chunk: {'tunnel_parents   label   detailed-label'}\n",
      "Missing columns in this chunk: {'tunnel_parents   label   detailed-label'}\n"
     ]
    },
    {
     "name": "stderr",
     "output_type": "stream",
     "text": [
      "/tmp/ipykernel_18148/1266505323.py:8: DtypeWarning: Columns (7) have mixed types. Specify dtype option on import or set low_memory=False.\n",
      "  for chunk in pd.read_csv(\"/home/charlie/Desktop/master_data.csv\", chunksize=chunk_size):\n",
      "/tmp/ipykernel_18148/1266505323.py:8: DtypeWarning: Columns (7) have mixed types. Specify dtype option on import or set low_memory=False.\n",
      "  for chunk in pd.read_csv(\"/home/charlie/Desktop/master_data.csv\", chunksize=chunk_size):\n"
     ]
    },
    {
     "name": "stdout",
     "output_type": "stream",
     "text": [
      "Missing columns in this chunk: {'tunnel_parents   label   detailed-label'}\n",
      "Missing columns in this chunk: {'tunnel_parents   label   detailed-label'}\n"
     ]
    },
    {
     "name": "stderr",
     "output_type": "stream",
     "text": [
      "/tmp/ipykernel_18148/1266505323.py:8: DtypeWarning: Columns (7) have mixed types. Specify dtype option on import or set low_memory=False.\n",
      "  for chunk in pd.read_csv(\"/home/charlie/Desktop/master_data.csv\", chunksize=chunk_size):\n",
      "/tmp/ipykernel_18148/1266505323.py:8: DtypeWarning: Columns (7) have mixed types. Specify dtype option on import or set low_memory=False.\n",
      "  for chunk in pd.read_csv(\"/home/charlie/Desktop/master_data.csv\", chunksize=chunk_size):\n"
     ]
    },
    {
     "name": "stdout",
     "output_type": "stream",
     "text": [
      "Missing columns in this chunk: {'tunnel_parents   label   detailed-label'}\n",
      "Missing columns in this chunk: {'tunnel_parents   label   detailed-label'}\n"
     ]
    },
    {
     "name": "stderr",
     "output_type": "stream",
     "text": [
      "/tmp/ipykernel_18148/1266505323.py:8: DtypeWarning: Columns (7) have mixed types. Specify dtype option on import or set low_memory=False.\n",
      "  for chunk in pd.read_csv(\"/home/charlie/Desktop/master_data.csv\", chunksize=chunk_size):\n",
      "/tmp/ipykernel_18148/1266505323.py:8: DtypeWarning: Columns (7) have mixed types. Specify dtype option on import or set low_memory=False.\n",
      "  for chunk in pd.read_csv(\"/home/charlie/Desktop/master_data.csv\", chunksize=chunk_size):\n"
     ]
    },
    {
     "name": "stdout",
     "output_type": "stream",
     "text": [
      "Missing columns in this chunk: {'tunnel_parents   label   detailed-label'}\n",
      "Missing columns in this chunk: {'tunnel_parents   label   detailed-label'}\n",
      "Missing columns in this chunk: {'tunnel_parents   label   detailed-label'}\n"
     ]
    },
    {
     "name": "stderr",
     "output_type": "stream",
     "text": [
      "/tmp/ipykernel_18148/1266505323.py:8: DtypeWarning: Columns (7) have mixed types. Specify dtype option on import or set low_memory=False.\n",
      "  for chunk in pd.read_csv(\"/home/charlie/Desktop/master_data.csv\", chunksize=chunk_size):\n",
      "/tmp/ipykernel_18148/1266505323.py:8: DtypeWarning: Columns (7) have mixed types. Specify dtype option on import or set low_memory=False.\n",
      "  for chunk in pd.read_csv(\"/home/charlie/Desktop/master_data.csv\", chunksize=chunk_size):\n"
     ]
    },
    {
     "name": "stdout",
     "output_type": "stream",
     "text": [
      "Missing columns in this chunk: {'tunnel_parents   label   detailed-label'}\n",
      "Missing columns in this chunk: {'tunnel_parents   label   detailed-label'}\n"
     ]
    },
    {
     "name": "stderr",
     "output_type": "stream",
     "text": [
      "/tmp/ipykernel_18148/1266505323.py:8: DtypeWarning: Columns (7) have mixed types. Specify dtype option on import or set low_memory=False.\n",
      "  for chunk in pd.read_csv(\"/home/charlie/Desktop/master_data.csv\", chunksize=chunk_size):\n",
      "/tmp/ipykernel_18148/1266505323.py:8: DtypeWarning: Columns (7) have mixed types. Specify dtype option on import or set low_memory=False.\n",
      "  for chunk in pd.read_csv(\"/home/charlie/Desktop/master_data.csv\", chunksize=chunk_size):\n"
     ]
    },
    {
     "name": "stdout",
     "output_type": "stream",
     "text": [
      "Missing columns in this chunk: {'tunnel_parents   label   detailed-label'}\n",
      "Missing columns in this chunk: {'tunnel_parents   label   detailed-label'}\n"
     ]
    },
    {
     "name": "stderr",
     "output_type": "stream",
     "text": [
      "/tmp/ipykernel_18148/1266505323.py:8: DtypeWarning: Columns (7) have mixed types. Specify dtype option on import or set low_memory=False.\n",
      "  for chunk in pd.read_csv(\"/home/charlie/Desktop/master_data.csv\", chunksize=chunk_size):\n",
      "/tmp/ipykernel_18148/1266505323.py:8: DtypeWarning: Columns (7) have mixed types. Specify dtype option on import or set low_memory=False.\n",
      "  for chunk in pd.read_csv(\"/home/charlie/Desktop/master_data.csv\", chunksize=chunk_size):\n"
     ]
    },
    {
     "name": "stdout",
     "output_type": "stream",
     "text": [
      "Missing columns in this chunk: {'tunnel_parents   label   detailed-label'}\n",
      "Missing columns in this chunk: {'tunnel_parents   label   detailed-label'}\n"
     ]
    },
    {
     "name": "stderr",
     "output_type": "stream",
     "text": [
      "/tmp/ipykernel_18148/1266505323.py:8: DtypeWarning: Columns (7) have mixed types. Specify dtype option on import or set low_memory=False.\n",
      "  for chunk in pd.read_csv(\"/home/charlie/Desktop/master_data.csv\", chunksize=chunk_size):\n",
      "/tmp/ipykernel_18148/1266505323.py:8: DtypeWarning: Columns (7) have mixed types. Specify dtype option on import or set low_memory=False.\n",
      "  for chunk in pd.read_csv(\"/home/charlie/Desktop/master_data.csv\", chunksize=chunk_size):\n"
     ]
    },
    {
     "name": "stdout",
     "output_type": "stream",
     "text": [
      "Missing columns in this chunk: {'tunnel_parents   label   detailed-label'}\n",
      "Missing columns in this chunk: {'tunnel_parents   label   detailed-label'}\n"
     ]
    },
    {
     "name": "stderr",
     "output_type": "stream",
     "text": [
      "/tmp/ipykernel_18148/1266505323.py:8: DtypeWarning: Columns (7) have mixed types. Specify dtype option on import or set low_memory=False.\n",
      "  for chunk in pd.read_csv(\"/home/charlie/Desktop/master_data.csv\", chunksize=chunk_size):\n",
      "/tmp/ipykernel_18148/1266505323.py:8: DtypeWarning: Columns (7) have mixed types. Specify dtype option on import or set low_memory=False.\n",
      "  for chunk in pd.read_csv(\"/home/charlie/Desktop/master_data.csv\", chunksize=chunk_size):\n"
     ]
    },
    {
     "name": "stdout",
     "output_type": "stream",
     "text": [
      "Missing columns in this chunk: {'tunnel_parents   label   detailed-label'}\n",
      "Missing columns in this chunk: {'tunnel_parents   label   detailed-label'}\n"
     ]
    },
    {
     "name": "stderr",
     "output_type": "stream",
     "text": [
      "/tmp/ipykernel_18148/1266505323.py:8: DtypeWarning: Columns (7) have mixed types. Specify dtype option on import or set low_memory=False.\n",
      "  for chunk in pd.read_csv(\"/home/charlie/Desktop/master_data.csv\", chunksize=chunk_size):\n",
      "/tmp/ipykernel_18148/1266505323.py:8: DtypeWarning: Columns (7) have mixed types. Specify dtype option on import or set low_memory=False.\n",
      "  for chunk in pd.read_csv(\"/home/charlie/Desktop/master_data.csv\", chunksize=chunk_size):\n"
     ]
    },
    {
     "name": "stdout",
     "output_type": "stream",
     "text": [
      "Missing columns in this chunk: {'tunnel_parents   label   detailed-label'}\n",
      "Missing columns in this chunk: {'tunnel_parents   label   detailed-label'}\n"
     ]
    },
    {
     "name": "stderr",
     "output_type": "stream",
     "text": [
      "/tmp/ipykernel_18148/1266505323.py:8: DtypeWarning: Columns (7) have mixed types. Specify dtype option on import or set low_memory=False.\n",
      "  for chunk in pd.read_csv(\"/home/charlie/Desktop/master_data.csv\", chunksize=chunk_size):\n",
      "/tmp/ipykernel_18148/1266505323.py:8: DtypeWarning: Columns (7) have mixed types. Specify dtype option on import or set low_memory=False.\n",
      "  for chunk in pd.read_csv(\"/home/charlie/Desktop/master_data.csv\", chunksize=chunk_size):\n"
     ]
    },
    {
     "name": "stdout",
     "output_type": "stream",
     "text": [
      "Missing columns in this chunk: {'tunnel_parents   label   detailed-label'}\n",
      "Missing columns in this chunk: {'tunnel_parents   label   detailed-label'}\n"
     ]
    },
    {
     "name": "stderr",
     "output_type": "stream",
     "text": [
      "/tmp/ipykernel_18148/1266505323.py:8: DtypeWarning: Columns (7) have mixed types. Specify dtype option on import or set low_memory=False.\n",
      "  for chunk in pd.read_csv(\"/home/charlie/Desktop/master_data.csv\", chunksize=chunk_size):\n"
     ]
    },
    {
     "name": "stdout",
     "output_type": "stream",
     "text": [
      "Missing columns in this chunk: {'tunnel_parents   label   detailed-label'}\n",
      "Missing columns in this chunk: {'tunnel_parents   label   detailed-label'}\n"
     ]
    },
    {
     "name": "stderr",
     "output_type": "stream",
     "text": [
      "/tmp/ipykernel_18148/1266505323.py:8: DtypeWarning: Columns (7) have mixed types. Specify dtype option on import or set low_memory=False.\n",
      "  for chunk in pd.read_csv(\"/home/charlie/Desktop/master_data.csv\", chunksize=chunk_size):\n",
      "/tmp/ipykernel_18148/1266505323.py:8: DtypeWarning: Columns (7) have mixed types. Specify dtype option on import or set low_memory=False.\n",
      "  for chunk in pd.read_csv(\"/home/charlie/Desktop/master_data.csv\", chunksize=chunk_size):\n"
     ]
    },
    {
     "name": "stdout",
     "output_type": "stream",
     "text": [
      "Missing columns in this chunk: {'tunnel_parents   label   detailed-label'}\n",
      "Missing columns in this chunk: {'tunnel_parents   label   detailed-label'}\n"
     ]
    },
    {
     "name": "stderr",
     "output_type": "stream",
     "text": [
      "/tmp/ipykernel_18148/1266505323.py:8: DtypeWarning: Columns (7) have mixed types. Specify dtype option on import or set low_memory=False.\n",
      "  for chunk in pd.read_csv(\"/home/charlie/Desktop/master_data.csv\", chunksize=chunk_size):\n",
      "/tmp/ipykernel_18148/1266505323.py:8: DtypeWarning: Columns (7) have mixed types. Specify dtype option on import or set low_memory=False.\n",
      "  for chunk in pd.read_csv(\"/home/charlie/Desktop/master_data.csv\", chunksize=chunk_size):\n"
     ]
    },
    {
     "name": "stdout",
     "output_type": "stream",
     "text": [
      "Missing columns in this chunk: {'tunnel_parents   label   detailed-label'}\n",
      "Missing columns in this chunk: {'tunnel_parents   label   detailed-label'}\n"
     ]
    },
    {
     "name": "stderr",
     "output_type": "stream",
     "text": [
      "/tmp/ipykernel_18148/1266505323.py:8: DtypeWarning: Columns (7) have mixed types. Specify dtype option on import or set low_memory=False.\n",
      "  for chunk in pd.read_csv(\"/home/charlie/Desktop/master_data.csv\", chunksize=chunk_size):\n",
      "/tmp/ipykernel_18148/1266505323.py:8: DtypeWarning: Columns (7) have mixed types. Specify dtype option on import or set low_memory=False.\n",
      "  for chunk in pd.read_csv(\"/home/charlie/Desktop/master_data.csv\", chunksize=chunk_size):\n"
     ]
    },
    {
     "name": "stdout",
     "output_type": "stream",
     "text": [
      "Missing columns in this chunk: {'tunnel_parents   label   detailed-label'}\n",
      "Missing columns in this chunk: {'tunnel_parents   label   detailed-label'}\n"
     ]
    },
    {
     "name": "stderr",
     "output_type": "stream",
     "text": [
      "/tmp/ipykernel_18148/1266505323.py:8: DtypeWarning: Columns (7) have mixed types. Specify dtype option on import or set low_memory=False.\n",
      "  for chunk in pd.read_csv(\"/home/charlie/Desktop/master_data.csv\", chunksize=chunk_size):\n",
      "/tmp/ipykernel_18148/1266505323.py:8: DtypeWarning: Columns (7) have mixed types. Specify dtype option on import or set low_memory=False.\n",
      "  for chunk in pd.read_csv(\"/home/charlie/Desktop/master_data.csv\", chunksize=chunk_size):\n"
     ]
    },
    {
     "name": "stdout",
     "output_type": "stream",
     "text": [
      "Missing columns in this chunk: {'tunnel_parents   label   detailed-label'}\n",
      "Missing columns in this chunk: {'tunnel_parents   label   detailed-label'}\n"
     ]
    },
    {
     "name": "stderr",
     "output_type": "stream",
     "text": [
      "/tmp/ipykernel_18148/1266505323.py:8: DtypeWarning: Columns (7) have mixed types. Specify dtype option on import or set low_memory=False.\n",
      "  for chunk in pd.read_csv(\"/home/charlie/Desktop/master_data.csv\", chunksize=chunk_size):\n",
      "/tmp/ipykernel_18148/1266505323.py:8: DtypeWarning: Columns (7) have mixed types. Specify dtype option on import or set low_memory=False.\n",
      "  for chunk in pd.read_csv(\"/home/charlie/Desktop/master_data.csv\", chunksize=chunk_size):\n"
     ]
    },
    {
     "name": "stdout",
     "output_type": "stream",
     "text": [
      "Missing columns in this chunk: {'tunnel_parents   label   detailed-label'}\n",
      "Missing columns in this chunk: {'tunnel_parents   label   detailed-label'}\n"
     ]
    },
    {
     "name": "stderr",
     "output_type": "stream",
     "text": [
      "/tmp/ipykernel_18148/1266505323.py:8: DtypeWarning: Columns (7) have mixed types. Specify dtype option on import or set low_memory=False.\n",
      "  for chunk in pd.read_csv(\"/home/charlie/Desktop/master_data.csv\", chunksize=chunk_size):\n",
      "/tmp/ipykernel_18148/1266505323.py:8: DtypeWarning: Columns (7) have mixed types. Specify dtype option on import or set low_memory=False.\n",
      "  for chunk in pd.read_csv(\"/home/charlie/Desktop/master_data.csv\", chunksize=chunk_size):\n"
     ]
    },
    {
     "name": "stdout",
     "output_type": "stream",
     "text": [
      "Missing columns in this chunk: {'tunnel_parents   label   detailed-label'}\n",
      "Missing columns in this chunk: {'tunnel_parents   label   detailed-label'}\n"
     ]
    },
    {
     "name": "stderr",
     "output_type": "stream",
     "text": [
      "/tmp/ipykernel_18148/1266505323.py:8: DtypeWarning: Columns (7) have mixed types. Specify dtype option on import or set low_memory=False.\n",
      "  for chunk in pd.read_csv(\"/home/charlie/Desktop/master_data.csv\", chunksize=chunk_size):\n",
      "/tmp/ipykernel_18148/1266505323.py:8: DtypeWarning: Columns (7) have mixed types. Specify dtype option on import or set low_memory=False.\n",
      "  for chunk in pd.read_csv(\"/home/charlie/Desktop/master_data.csv\", chunksize=chunk_size):\n"
     ]
    },
    {
     "name": "stdout",
     "output_type": "stream",
     "text": [
      "Missing columns in this chunk: {'tunnel_parents   label   detailed-label'}\n",
      "Missing columns in this chunk: {'tunnel_parents   label   detailed-label'}\n"
     ]
    },
    {
     "name": "stderr",
     "output_type": "stream",
     "text": [
      "/tmp/ipykernel_18148/1266505323.py:8: DtypeWarning: Columns (7) have mixed types. Specify dtype option on import or set low_memory=False.\n",
      "  for chunk in pd.read_csv(\"/home/charlie/Desktop/master_data.csv\", chunksize=chunk_size):\n",
      "/tmp/ipykernel_18148/1266505323.py:8: DtypeWarning: Columns (7) have mixed types. Specify dtype option on import or set low_memory=False.\n",
      "  for chunk in pd.read_csv(\"/home/charlie/Desktop/master_data.csv\", chunksize=chunk_size):\n"
     ]
    },
    {
     "name": "stdout",
     "output_type": "stream",
     "text": [
      "Missing columns in this chunk: {'tunnel_parents   label   detailed-label'}\n",
      "Missing columns in this chunk: {'tunnel_parents   label   detailed-label'}\n",
      "Missing columns in this chunk: {'tunnel_parents   label   detailed-label'}\n"
     ]
    },
    {
     "name": "stderr",
     "output_type": "stream",
     "text": [
      "/tmp/ipykernel_18148/1266505323.py:8: DtypeWarning: Columns (7) have mixed types. Specify dtype option on import or set low_memory=False.\n",
      "  for chunk in pd.read_csv(\"/home/charlie/Desktop/master_data.csv\", chunksize=chunk_size):\n"
     ]
    },
    {
     "name": "stdout",
     "output_type": "stream",
     "text": [
      "Missing columns in this chunk: {'tunnel_parents   label   detailed-label'}\n",
      "Missing columns in this chunk: {'tunnel_parents   label   detailed-label'}\n"
     ]
    },
    {
     "name": "stderr",
     "output_type": "stream",
     "text": [
      "/tmp/ipykernel_18148/1266505323.py:8: DtypeWarning: Columns (7) have mixed types. Specify dtype option on import or set low_memory=False.\n",
      "  for chunk in pd.read_csv(\"/home/charlie/Desktop/master_data.csv\", chunksize=chunk_size):\n",
      "/tmp/ipykernel_18148/1266505323.py:8: DtypeWarning: Columns (7) have mixed types. Specify dtype option on import or set low_memory=False.\n",
      "  for chunk in pd.read_csv(\"/home/charlie/Desktop/master_data.csv\", chunksize=chunk_size):\n"
     ]
    },
    {
     "name": "stdout",
     "output_type": "stream",
     "text": [
      "Missing columns in this chunk: {'tunnel_parents   label   detailed-label'}\n",
      "Missing columns in this chunk: {'tunnel_parents   label   detailed-label'}\n",
      "Missing columns in this chunk: {'tunnel_parents   label   detailed-label'}\n"
     ]
    },
    {
     "name": "stderr",
     "output_type": "stream",
     "text": [
      "/tmp/ipykernel_18148/1266505323.py:8: DtypeWarning: Columns (7) have mixed types. Specify dtype option on import or set low_memory=False.\n",
      "  for chunk in pd.read_csv(\"/home/charlie/Desktop/master_data.csv\", chunksize=chunk_size):\n",
      "/tmp/ipykernel_18148/1266505323.py:8: DtypeWarning: Columns (7) have mixed types. Specify dtype option on import or set low_memory=False.\n",
      "  for chunk in pd.read_csv(\"/home/charlie/Desktop/master_data.csv\", chunksize=chunk_size):\n"
     ]
    },
    {
     "name": "stdout",
     "output_type": "stream",
     "text": [
      "Missing columns in this chunk: {'tunnel_parents   label   detailed-label'}\n",
      "Missing columns in this chunk: {'tunnel_parents   label   detailed-label'}\n"
     ]
    },
    {
     "name": "stderr",
     "output_type": "stream",
     "text": [
      "/tmp/ipykernel_18148/1266505323.py:8: DtypeWarning: Columns (7) have mixed types. Specify dtype option on import or set low_memory=False.\n",
      "  for chunk in pd.read_csv(\"/home/charlie/Desktop/master_data.csv\", chunksize=chunk_size):\n",
      "/tmp/ipykernel_18148/1266505323.py:8: DtypeWarning: Columns (7) have mixed types. Specify dtype option on import or set low_memory=False.\n",
      "  for chunk in pd.read_csv(\"/home/charlie/Desktop/master_data.csv\", chunksize=chunk_size):\n"
     ]
    },
    {
     "name": "stdout",
     "output_type": "stream",
     "text": [
      "Missing columns in this chunk: {'tunnel_parents   label   detailed-label'}\n",
      "Missing columns in this chunk: {'tunnel_parents   label   detailed-label'}\n"
     ]
    },
    {
     "name": "stderr",
     "output_type": "stream",
     "text": [
      "/tmp/ipykernel_18148/1266505323.py:8: DtypeWarning: Columns (7) have mixed types. Specify dtype option on import or set low_memory=False.\n",
      "  for chunk in pd.read_csv(\"/home/charlie/Desktop/master_data.csv\", chunksize=chunk_size):\n",
      "/tmp/ipykernel_18148/1266505323.py:8: DtypeWarning: Columns (7) have mixed types. Specify dtype option on import or set low_memory=False.\n",
      "  for chunk in pd.read_csv(\"/home/charlie/Desktop/master_data.csv\", chunksize=chunk_size):\n"
     ]
    },
    {
     "name": "stdout",
     "output_type": "stream",
     "text": [
      "Missing columns in this chunk: {'tunnel_parents   label   detailed-label'}\n",
      "Missing columns in this chunk: {'tunnel_parents   label   detailed-label'}\n"
     ]
    },
    {
     "name": "stderr",
     "output_type": "stream",
     "text": [
      "/tmp/ipykernel_18148/1266505323.py:8: DtypeWarning: Columns (7) have mixed types. Specify dtype option on import or set low_memory=False.\n",
      "  for chunk in pd.read_csv(\"/home/charlie/Desktop/master_data.csv\", chunksize=chunk_size):\n",
      "/tmp/ipykernel_18148/1266505323.py:8: DtypeWarning: Columns (7) have mixed types. Specify dtype option on import or set low_memory=False.\n",
      "  for chunk in pd.read_csv(\"/home/charlie/Desktop/master_data.csv\", chunksize=chunk_size):\n"
     ]
    },
    {
     "name": "stdout",
     "output_type": "stream",
     "text": [
      "Missing columns in this chunk: {'tunnel_parents   label   detailed-label'}\n",
      "Missing columns in this chunk: {'tunnel_parents   label   detailed-label'}\n"
     ]
    },
    {
     "name": "stderr",
     "output_type": "stream",
     "text": [
      "/tmp/ipykernel_18148/1266505323.py:8: DtypeWarning: Columns (7) have mixed types. Specify dtype option on import or set low_memory=False.\n",
      "  for chunk in pd.read_csv(\"/home/charlie/Desktop/master_data.csv\", chunksize=chunk_size):\n",
      "/tmp/ipykernel_18148/1266505323.py:8: DtypeWarning: Columns (7) have mixed types. Specify dtype option on import or set low_memory=False.\n",
      "  for chunk in pd.read_csv(\"/home/charlie/Desktop/master_data.csv\", chunksize=chunk_size):\n"
     ]
    },
    {
     "name": "stdout",
     "output_type": "stream",
     "text": [
      "Missing columns in this chunk: {'tunnel_parents   label   detailed-label'}\n",
      "Missing columns in this chunk: {'tunnel_parents   label   detailed-label'}\n"
     ]
    },
    {
     "name": "stderr",
     "output_type": "stream",
     "text": [
      "/tmp/ipykernel_18148/1266505323.py:8: DtypeWarning: Columns (7) have mixed types. Specify dtype option on import or set low_memory=False.\n",
      "  for chunk in pd.read_csv(\"/home/charlie/Desktop/master_data.csv\", chunksize=chunk_size):\n",
      "/tmp/ipykernel_18148/1266505323.py:8: DtypeWarning: Columns (7) have mixed types. Specify dtype option on import or set low_memory=False.\n",
      "  for chunk in pd.read_csv(\"/home/charlie/Desktop/master_data.csv\", chunksize=chunk_size):\n"
     ]
    },
    {
     "name": "stdout",
     "output_type": "stream",
     "text": [
      "Missing columns in this chunk: {'tunnel_parents   label   detailed-label'}\n",
      "Missing columns in this chunk: {'tunnel_parents   label   detailed-label'}\n"
     ]
    },
    {
     "name": "stderr",
     "output_type": "stream",
     "text": [
      "/tmp/ipykernel_18148/1266505323.py:8: DtypeWarning: Columns (7) have mixed types. Specify dtype option on import or set low_memory=False.\n",
      "  for chunk in pd.read_csv(\"/home/charlie/Desktop/master_data.csv\", chunksize=chunk_size):\n",
      "/tmp/ipykernel_18148/1266505323.py:8: DtypeWarning: Columns (7) have mixed types. Specify dtype option on import or set low_memory=False.\n",
      "  for chunk in pd.read_csv(\"/home/charlie/Desktop/master_data.csv\", chunksize=chunk_size):\n"
     ]
    },
    {
     "name": "stdout",
     "output_type": "stream",
     "text": [
      "Missing columns in this chunk: {'tunnel_parents   label   detailed-label'}\n",
      "Missing columns in this chunk: {'tunnel_parents   label   detailed-label'}\n"
     ]
    },
    {
     "name": "stderr",
     "output_type": "stream",
     "text": [
      "/tmp/ipykernel_18148/1266505323.py:8: DtypeWarning: Columns (7) have mixed types. Specify dtype option on import or set low_memory=False.\n",
      "  for chunk in pd.read_csv(\"/home/charlie/Desktop/master_data.csv\", chunksize=chunk_size):\n",
      "/tmp/ipykernel_18148/1266505323.py:8: DtypeWarning: Columns (7) have mixed types. Specify dtype option on import or set low_memory=False.\n",
      "  for chunk in pd.read_csv(\"/home/charlie/Desktop/master_data.csv\", chunksize=chunk_size):\n"
     ]
    },
    {
     "name": "stdout",
     "output_type": "stream",
     "text": [
      "Missing columns in this chunk: {'tunnel_parents   label   detailed-label'}\n",
      "Missing columns in this chunk: {'tunnel_parents   label   detailed-label'}\n",
      "Missing columns in this chunk: {'tunnel_parents   label   detailed-label'}\n"
     ]
    },
    {
     "name": "stderr",
     "output_type": "stream",
     "text": [
      "/tmp/ipykernel_18148/1266505323.py:8: DtypeWarning: Columns (7) have mixed types. Specify dtype option on import or set low_memory=False.\n",
      "  for chunk in pd.read_csv(\"/home/charlie/Desktop/master_data.csv\", chunksize=chunk_size):\n",
      "/tmp/ipykernel_18148/1266505323.py:8: DtypeWarning: Columns (7) have mixed types. Specify dtype option on import or set low_memory=False.\n",
      "  for chunk in pd.read_csv(\"/home/charlie/Desktop/master_data.csv\", chunksize=chunk_size):\n"
     ]
    },
    {
     "name": "stdout",
     "output_type": "stream",
     "text": [
      "Missing columns in this chunk: {'tunnel_parents   label   detailed-label'}\n",
      "Missing columns in this chunk: {'tunnel_parents   label   detailed-label'}\n"
     ]
    },
    {
     "name": "stderr",
     "output_type": "stream",
     "text": [
      "/tmp/ipykernel_18148/1266505323.py:8: DtypeWarning: Columns (7) have mixed types. Specify dtype option on import or set low_memory=False.\n",
      "  for chunk in pd.read_csv(\"/home/charlie/Desktop/master_data.csv\", chunksize=chunk_size):\n",
      "/tmp/ipykernel_18148/1266505323.py:8: DtypeWarning: Columns (7) have mixed types. Specify dtype option on import or set low_memory=False.\n",
      "  for chunk in pd.read_csv(\"/home/charlie/Desktop/master_data.csv\", chunksize=chunk_size):\n"
     ]
    },
    {
     "name": "stdout",
     "output_type": "stream",
     "text": [
      "Missing columns in this chunk: {'tunnel_parents   label   detailed-label'}\n",
      "Missing columns in this chunk: {'tunnel_parents   label   detailed-label'}\n",
      "Missing columns in this chunk: {'tunnel_parents   label   detailed-label'}\n",
      "Missing columns in this chunk: {'tunnel_parents   label   detailed-label'}\n"
     ]
    },
    {
     "name": "stderr",
     "output_type": "stream",
     "text": [
      "/tmp/ipykernel_18148/1266505323.py:8: DtypeWarning: Columns (7) have mixed types. Specify dtype option on import or set low_memory=False.\n",
      "  for chunk in pd.read_csv(\"/home/charlie/Desktop/master_data.csv\", chunksize=chunk_size):\n",
      "/tmp/ipykernel_18148/1266505323.py:8: DtypeWarning: Columns (7) have mixed types. Specify dtype option on import or set low_memory=False.\n",
      "  for chunk in pd.read_csv(\"/home/charlie/Desktop/master_data.csv\", chunksize=chunk_size):\n"
     ]
    },
    {
     "name": "stdout",
     "output_type": "stream",
     "text": [
      "Missing columns in this chunk: {'tunnel_parents   label   detailed-label'}\n",
      "Missing columns in this chunk: {'tunnel_parents   label   detailed-label'}\n"
     ]
    },
    {
     "name": "stderr",
     "output_type": "stream",
     "text": [
      "/tmp/ipykernel_18148/1266505323.py:8: DtypeWarning: Columns (7) have mixed types. Specify dtype option on import or set low_memory=False.\n",
      "  for chunk in pd.read_csv(\"/home/charlie/Desktop/master_data.csv\", chunksize=chunk_size):\n",
      "/tmp/ipykernel_18148/1266505323.py:8: DtypeWarning: Columns (7) have mixed types. Specify dtype option on import or set low_memory=False.\n",
      "  for chunk in pd.read_csv(\"/home/charlie/Desktop/master_data.csv\", chunksize=chunk_size):\n"
     ]
    },
    {
     "name": "stdout",
     "output_type": "stream",
     "text": [
      "Missing columns in this chunk: {'tunnel_parents   label   detailed-label'}\n",
      "Missing columns in this chunk: {'tunnel_parents   label   detailed-label'}\n"
     ]
    },
    {
     "name": "stderr",
     "output_type": "stream",
     "text": [
      "/tmp/ipykernel_18148/1266505323.py:8: DtypeWarning: Columns (7) have mixed types. Specify dtype option on import or set low_memory=False.\n",
      "  for chunk in pd.read_csv(\"/home/charlie/Desktop/master_data.csv\", chunksize=chunk_size):\n"
     ]
    },
    {
     "name": "stdout",
     "output_type": "stream",
     "text": [
      "Missing columns in this chunk: {'tunnel_parents   label   detailed-label'}\n",
      "Missing columns in this chunk: {'tunnel_parents   label   detailed-label'}\n"
     ]
    },
    {
     "name": "stderr",
     "output_type": "stream",
     "text": [
      "/tmp/ipykernel_18148/1266505323.py:8: DtypeWarning: Columns (7) have mixed types. Specify dtype option on import or set low_memory=False.\n",
      "  for chunk in pd.read_csv(\"/home/charlie/Desktop/master_data.csv\", chunksize=chunk_size):\n",
      "/tmp/ipykernel_18148/1266505323.py:8: DtypeWarning: Columns (7) have mixed types. Specify dtype option on import or set low_memory=False.\n",
      "  for chunk in pd.read_csv(\"/home/charlie/Desktop/master_data.csv\", chunksize=chunk_size):\n"
     ]
    },
    {
     "name": "stdout",
     "output_type": "stream",
     "text": [
      "Missing columns in this chunk: {'tunnel_parents   label   detailed-label'}\n",
      "Missing columns in this chunk: {'tunnel_parents   label   detailed-label'}\n"
     ]
    },
    {
     "name": "stderr",
     "output_type": "stream",
     "text": [
      "/tmp/ipykernel_18148/1266505323.py:8: DtypeWarning: Columns (7) have mixed types. Specify dtype option on import or set low_memory=False.\n",
      "  for chunk in pd.read_csv(\"/home/charlie/Desktop/master_data.csv\", chunksize=chunk_size):\n",
      "/tmp/ipykernel_18148/1266505323.py:8: DtypeWarning: Columns (7) have mixed types. Specify dtype option on import or set low_memory=False.\n",
      "  for chunk in pd.read_csv(\"/home/charlie/Desktop/master_data.csv\", chunksize=chunk_size):\n"
     ]
    },
    {
     "name": "stdout",
     "output_type": "stream",
     "text": [
      "Missing columns in this chunk: {'tunnel_parents   label   detailed-label'}\n",
      "Missing columns in this chunk: {'tunnel_parents   label   detailed-label'}\n"
     ]
    },
    {
     "name": "stderr",
     "output_type": "stream",
     "text": [
      "/tmp/ipykernel_18148/1266505323.py:8: DtypeWarning: Columns (7) have mixed types. Specify dtype option on import or set low_memory=False.\n",
      "  for chunk in pd.read_csv(\"/home/charlie/Desktop/master_data.csv\", chunksize=chunk_size):\n",
      "/tmp/ipykernel_18148/1266505323.py:8: DtypeWarning: Columns (7) have mixed types. Specify dtype option on import or set low_memory=False.\n",
      "  for chunk in pd.read_csv(\"/home/charlie/Desktop/master_data.csv\", chunksize=chunk_size):\n"
     ]
    },
    {
     "name": "stdout",
     "output_type": "stream",
     "text": [
      "Missing columns in this chunk: {'tunnel_parents   label   detailed-label'}\n",
      "Missing columns in this chunk: {'tunnel_parents   label   detailed-label'}\n"
     ]
    },
    {
     "name": "stderr",
     "output_type": "stream",
     "text": [
      "/tmp/ipykernel_18148/1266505323.py:8: DtypeWarning: Columns (7) have mixed types. Specify dtype option on import or set low_memory=False.\n",
      "  for chunk in pd.read_csv(\"/home/charlie/Desktop/master_data.csv\", chunksize=chunk_size):\n",
      "/tmp/ipykernel_18148/1266505323.py:8: DtypeWarning: Columns (7) have mixed types. Specify dtype option on import or set low_memory=False.\n",
      "  for chunk in pd.read_csv(\"/home/charlie/Desktop/master_data.csv\", chunksize=chunk_size):\n"
     ]
    },
    {
     "name": "stdout",
     "output_type": "stream",
     "text": [
      "Missing columns in this chunk: {'tunnel_parents   label   detailed-label'}\n",
      "Missing columns in this chunk: {'tunnel_parents   label   detailed-label'}\n",
      "Missing columns in this chunk: {'tunnel_parents   label   detailed-label'}\n"
     ]
    },
    {
     "name": "stderr",
     "output_type": "stream",
     "text": [
      "/tmp/ipykernel_18148/1266505323.py:8: DtypeWarning: Columns (7) have mixed types. Specify dtype option on import or set low_memory=False.\n",
      "  for chunk in pd.read_csv(\"/home/charlie/Desktop/master_data.csv\", chunksize=chunk_size):\n"
     ]
    },
    {
     "name": "stdout",
     "output_type": "stream",
     "text": [
      "Missing columns in this chunk: {'tunnel_parents   label   detailed-label'}\n",
      "Missing columns in this chunk: {'tunnel_parents   label   detailed-label'}\n"
     ]
    },
    {
     "name": "stderr",
     "output_type": "stream",
     "text": [
      "/tmp/ipykernel_18148/1266505323.py:8: DtypeWarning: Columns (7) have mixed types. Specify dtype option on import or set low_memory=False.\n",
      "  for chunk in pd.read_csv(\"/home/charlie/Desktop/master_data.csv\", chunksize=chunk_size):\n",
      "/tmp/ipykernel_18148/1266505323.py:8: DtypeWarning: Columns (7) have mixed types. Specify dtype option on import or set low_memory=False.\n",
      "  for chunk in pd.read_csv(\"/home/charlie/Desktop/master_data.csv\", chunksize=chunk_size):\n"
     ]
    },
    {
     "name": "stdout",
     "output_type": "stream",
     "text": [
      "Missing columns in this chunk: {'tunnel_parents   label   detailed-label'}\n",
      "Missing columns in this chunk: {'tunnel_parents   label   detailed-label'}\n"
     ]
    },
    {
     "name": "stderr",
     "output_type": "stream",
     "text": [
      "/tmp/ipykernel_18148/1266505323.py:8: DtypeWarning: Columns (7) have mixed types. Specify dtype option on import or set low_memory=False.\n",
      "  for chunk in pd.read_csv(\"/home/charlie/Desktop/master_data.csv\", chunksize=chunk_size):\n",
      "/tmp/ipykernel_18148/1266505323.py:8: DtypeWarning: Columns (7) have mixed types. Specify dtype option on import or set low_memory=False.\n",
      "  for chunk in pd.read_csv(\"/home/charlie/Desktop/master_data.csv\", chunksize=chunk_size):\n"
     ]
    },
    {
     "name": "stdout",
     "output_type": "stream",
     "text": [
      "Missing columns in this chunk: {'tunnel_parents   label   detailed-label'}\n",
      "Missing columns in this chunk: {'tunnel_parents   label   detailed-label'}\n"
     ]
    },
    {
     "name": "stderr",
     "output_type": "stream",
     "text": [
      "/tmp/ipykernel_18148/1266505323.py:8: DtypeWarning: Columns (7) have mixed types. Specify dtype option on import or set low_memory=False.\n",
      "  for chunk in pd.read_csv(\"/home/charlie/Desktop/master_data.csv\", chunksize=chunk_size):\n",
      "/tmp/ipykernel_18148/1266505323.py:8: DtypeWarning: Columns (7) have mixed types. Specify dtype option on import or set low_memory=False.\n",
      "  for chunk in pd.read_csv(\"/home/charlie/Desktop/master_data.csv\", chunksize=chunk_size):\n"
     ]
    },
    {
     "name": "stdout",
     "output_type": "stream",
     "text": [
      "Missing columns in this chunk: {'tunnel_parents   label   detailed-label'}\n",
      "Missing columns in this chunk: {'tunnel_parents   label   detailed-label'}\n"
     ]
    },
    {
     "name": "stderr",
     "output_type": "stream",
     "text": [
      "/tmp/ipykernel_18148/1266505323.py:8: DtypeWarning: Columns (7) have mixed types. Specify dtype option on import or set low_memory=False.\n",
      "  for chunk in pd.read_csv(\"/home/charlie/Desktop/master_data.csv\", chunksize=chunk_size):\n",
      "/tmp/ipykernel_18148/1266505323.py:8: DtypeWarning: Columns (7) have mixed types. Specify dtype option on import or set low_memory=False.\n",
      "  for chunk in pd.read_csv(\"/home/charlie/Desktop/master_data.csv\", chunksize=chunk_size):\n"
     ]
    },
    {
     "name": "stdout",
     "output_type": "stream",
     "text": [
      "Missing columns in this chunk: {'tunnel_parents   label   detailed-label'}\n",
      "Missing columns in this chunk: {'tunnel_parents   label   detailed-label'}\n"
     ]
    },
    {
     "name": "stderr",
     "output_type": "stream",
     "text": [
      "/tmp/ipykernel_18148/1266505323.py:8: DtypeWarning: Columns (7) have mixed types. Specify dtype option on import or set low_memory=False.\n",
      "  for chunk in pd.read_csv(\"/home/charlie/Desktop/master_data.csv\", chunksize=chunk_size):\n",
      "/tmp/ipykernel_18148/1266505323.py:8: DtypeWarning: Columns (7) have mixed types. Specify dtype option on import or set low_memory=False.\n",
      "  for chunk in pd.read_csv(\"/home/charlie/Desktop/master_data.csv\", chunksize=chunk_size):\n"
     ]
    },
    {
     "name": "stdout",
     "output_type": "stream",
     "text": [
      "Missing columns in this chunk: {'tunnel_parents   label   detailed-label'}\n",
      "Missing columns in this chunk: {'tunnel_parents   label   detailed-label'}\n"
     ]
    },
    {
     "name": "stderr",
     "output_type": "stream",
     "text": [
      "/tmp/ipykernel_18148/1266505323.py:8: DtypeWarning: Columns (7) have mixed types. Specify dtype option on import or set low_memory=False.\n",
      "  for chunk in pd.read_csv(\"/home/charlie/Desktop/master_data.csv\", chunksize=chunk_size):\n",
      "/tmp/ipykernel_18148/1266505323.py:8: DtypeWarning: Columns (7) have mixed types. Specify dtype option on import or set low_memory=False.\n",
      "  for chunk in pd.read_csv(\"/home/charlie/Desktop/master_data.csv\", chunksize=chunk_size):\n"
     ]
    },
    {
     "name": "stdout",
     "output_type": "stream",
     "text": [
      "Missing columns in this chunk: {'tunnel_parents   label   detailed-label'}\n",
      "Missing columns in this chunk: {'tunnel_parents   label   detailed-label'}\n"
     ]
    },
    {
     "name": "stderr",
     "output_type": "stream",
     "text": [
      "/tmp/ipykernel_18148/1266505323.py:8: DtypeWarning: Columns (7) have mixed types. Specify dtype option on import or set low_memory=False.\n",
      "  for chunk in pd.read_csv(\"/home/charlie/Desktop/master_data.csv\", chunksize=chunk_size):\n",
      "/tmp/ipykernel_18148/1266505323.py:8: DtypeWarning: Columns (7) have mixed types. Specify dtype option on import or set low_memory=False.\n",
      "  for chunk in pd.read_csv(\"/home/charlie/Desktop/master_data.csv\", chunksize=chunk_size):\n"
     ]
    },
    {
     "name": "stdout",
     "output_type": "stream",
     "text": [
      "Missing columns in this chunk: {'tunnel_parents   label   detailed-label'}\n",
      "Missing columns in this chunk: {'tunnel_parents   label   detailed-label'}\n"
     ]
    },
    {
     "name": "stderr",
     "output_type": "stream",
     "text": [
      "/tmp/ipykernel_18148/1266505323.py:8: DtypeWarning: Columns (7) have mixed types. Specify dtype option on import or set low_memory=False.\n",
      "  for chunk in pd.read_csv(\"/home/charlie/Desktop/master_data.csv\", chunksize=chunk_size):\n",
      "/tmp/ipykernel_18148/1266505323.py:8: DtypeWarning: Columns (7) have mixed types. Specify dtype option on import or set low_memory=False.\n",
      "  for chunk in pd.read_csv(\"/home/charlie/Desktop/master_data.csv\", chunksize=chunk_size):\n"
     ]
    },
    {
     "name": "stdout",
     "output_type": "stream",
     "text": [
      "Missing columns in this chunk: {'tunnel_parents   label   detailed-label'}\n",
      "Missing columns in this chunk: {'tunnel_parents   label   detailed-label'}\n"
     ]
    },
    {
     "name": "stderr",
     "output_type": "stream",
     "text": [
      "/tmp/ipykernel_18148/1266505323.py:8: DtypeWarning: Columns (7) have mixed types. Specify dtype option on import or set low_memory=False.\n",
      "  for chunk in pd.read_csv(\"/home/charlie/Desktop/master_data.csv\", chunksize=chunk_size):\n"
     ]
    },
    {
     "name": "stdout",
     "output_type": "stream",
     "text": [
      "Missing columns in this chunk: {'tunnel_parents   label   detailed-label'}\n",
      "Missing columns in this chunk: {'tunnel_parents   label   detailed-label'}\n"
     ]
    },
    {
     "name": "stderr",
     "output_type": "stream",
     "text": [
      "/tmp/ipykernel_18148/1266505323.py:8: DtypeWarning: Columns (7) have mixed types. Specify dtype option on import or set low_memory=False.\n",
      "  for chunk in pd.read_csv(\"/home/charlie/Desktop/master_data.csv\", chunksize=chunk_size):\n",
      "/tmp/ipykernel_18148/1266505323.py:8: DtypeWarning: Columns (7) have mixed types. Specify dtype option on import or set low_memory=False.\n",
      "  for chunk in pd.read_csv(\"/home/charlie/Desktop/master_data.csv\", chunksize=chunk_size):\n"
     ]
    },
    {
     "name": "stdout",
     "output_type": "stream",
     "text": [
      "Missing columns in this chunk: {'tunnel_parents   label   detailed-label'}\n",
      "Missing columns in this chunk: {'tunnel_parents   label   detailed-label'}\n"
     ]
    },
    {
     "name": "stderr",
     "output_type": "stream",
     "text": [
      "/tmp/ipykernel_18148/1266505323.py:8: DtypeWarning: Columns (7) have mixed types. Specify dtype option on import or set low_memory=False.\n",
      "  for chunk in pd.read_csv(\"/home/charlie/Desktop/master_data.csv\", chunksize=chunk_size):\n"
     ]
    },
    {
     "name": "stdout",
     "output_type": "stream",
     "text": [
      "Missing columns in this chunk: {'tunnel_parents   label   detailed-label'}\n",
      "Missing columns in this chunk: {'tunnel_parents   label   detailed-label'}\n"
     ]
    },
    {
     "name": "stderr",
     "output_type": "stream",
     "text": [
      "/tmp/ipykernel_18148/1266505323.py:8: DtypeWarning: Columns (7) have mixed types. Specify dtype option on import or set low_memory=False.\n",
      "  for chunk in pd.read_csv(\"/home/charlie/Desktop/master_data.csv\", chunksize=chunk_size):\n",
      "/tmp/ipykernel_18148/1266505323.py:8: DtypeWarning: Columns (7) have mixed types. Specify dtype option on import or set low_memory=False.\n",
      "  for chunk in pd.read_csv(\"/home/charlie/Desktop/master_data.csv\", chunksize=chunk_size):\n"
     ]
    },
    {
     "name": "stdout",
     "output_type": "stream",
     "text": [
      "Missing columns in this chunk: {'tunnel_parents   label   detailed-label'}\n",
      "Missing columns in this chunk: {'tunnel_parents   label   detailed-label'}\n"
     ]
    },
    {
     "name": "stderr",
     "output_type": "stream",
     "text": [
      "/tmp/ipykernel_18148/1266505323.py:8: DtypeWarning: Columns (7) have mixed types. Specify dtype option on import or set low_memory=False.\n",
      "  for chunk in pd.read_csv(\"/home/charlie/Desktop/master_data.csv\", chunksize=chunk_size):\n",
      "/tmp/ipykernel_18148/1266505323.py:8: DtypeWarning: Columns (7) have mixed types. Specify dtype option on import or set low_memory=False.\n",
      "  for chunk in pd.read_csv(\"/home/charlie/Desktop/master_data.csv\", chunksize=chunk_size):\n"
     ]
    },
    {
     "name": "stdout",
     "output_type": "stream",
     "text": [
      "Missing columns in this chunk: {'tunnel_parents   label   detailed-label'}\n",
      "Missing columns in this chunk: {'tunnel_parents   label   detailed-label'}\n"
     ]
    },
    {
     "name": "stderr",
     "output_type": "stream",
     "text": [
      "/tmp/ipykernel_18148/1266505323.py:8: DtypeWarning: Columns (7) have mixed types. Specify dtype option on import or set low_memory=False.\n",
      "  for chunk in pd.read_csv(\"/home/charlie/Desktop/master_data.csv\", chunksize=chunk_size):\n",
      "/tmp/ipykernel_18148/1266505323.py:8: DtypeWarning: Columns (7) have mixed types. Specify dtype option on import or set low_memory=False.\n",
      "  for chunk in pd.read_csv(\"/home/charlie/Desktop/master_data.csv\", chunksize=chunk_size):\n"
     ]
    },
    {
     "name": "stdout",
     "output_type": "stream",
     "text": [
      "Missing columns in this chunk: {'tunnel_parents   label   detailed-label'}\n",
      "Missing columns in this chunk: {'tunnel_parents   label   detailed-label'}\n"
     ]
    },
    {
     "name": "stderr",
     "output_type": "stream",
     "text": [
      "/tmp/ipykernel_18148/1266505323.py:8: DtypeWarning: Columns (7) have mixed types. Specify dtype option on import or set low_memory=False.\n",
      "  for chunk in pd.read_csv(\"/home/charlie/Desktop/master_data.csv\", chunksize=chunk_size):\n",
      "/tmp/ipykernel_18148/1266505323.py:8: DtypeWarning: Columns (7) have mixed types. Specify dtype option on import or set low_memory=False.\n",
      "  for chunk in pd.read_csv(\"/home/charlie/Desktop/master_data.csv\", chunksize=chunk_size):\n"
     ]
    },
    {
     "name": "stdout",
     "output_type": "stream",
     "text": [
      "Missing columns in this chunk: {'tunnel_parents   label   detailed-label'}\n",
      "Missing columns in this chunk: {'tunnel_parents   label   detailed-label'}\n"
     ]
    },
    {
     "name": "stderr",
     "output_type": "stream",
     "text": [
      "/tmp/ipykernel_18148/1266505323.py:8: DtypeWarning: Columns (7) have mixed types. Specify dtype option on import or set low_memory=False.\n",
      "  for chunk in pd.read_csv(\"/home/charlie/Desktop/master_data.csv\", chunksize=chunk_size):\n",
      "/tmp/ipykernel_18148/1266505323.py:8: DtypeWarning: Columns (7) have mixed types. Specify dtype option on import or set low_memory=False.\n",
      "  for chunk in pd.read_csv(\"/home/charlie/Desktop/master_data.csv\", chunksize=chunk_size):\n"
     ]
    },
    {
     "name": "stdout",
     "output_type": "stream",
     "text": [
      "Missing columns in this chunk: {'tunnel_parents   label   detailed-label'}\n",
      "Missing columns in this chunk: {'tunnel_parents   label   detailed-label'}\n"
     ]
    },
    {
     "name": "stderr",
     "output_type": "stream",
     "text": [
      "/tmp/ipykernel_18148/1266505323.py:8: DtypeWarning: Columns (7) have mixed types. Specify dtype option on import or set low_memory=False.\n",
      "  for chunk in pd.read_csv(\"/home/charlie/Desktop/master_data.csv\", chunksize=chunk_size):\n",
      "/tmp/ipykernel_18148/1266505323.py:8: DtypeWarning: Columns (7) have mixed types. Specify dtype option on import or set low_memory=False.\n",
      "  for chunk in pd.read_csv(\"/home/charlie/Desktop/master_data.csv\", chunksize=chunk_size):\n"
     ]
    },
    {
     "name": "stdout",
     "output_type": "stream",
     "text": [
      "Missing columns in this chunk: {'tunnel_parents   label   detailed-label'}\n",
      "Missing columns in this chunk: {'tunnel_parents   label   detailed-label'}\n"
     ]
    },
    {
     "name": "stderr",
     "output_type": "stream",
     "text": [
      "/tmp/ipykernel_18148/1266505323.py:8: DtypeWarning: Columns (7) have mixed types. Specify dtype option on import or set low_memory=False.\n",
      "  for chunk in pd.read_csv(\"/home/charlie/Desktop/master_data.csv\", chunksize=chunk_size):\n",
      "/tmp/ipykernel_18148/1266505323.py:8: DtypeWarning: Columns (7) have mixed types. Specify dtype option on import or set low_memory=False.\n",
      "  for chunk in pd.read_csv(\"/home/charlie/Desktop/master_data.csv\", chunksize=chunk_size):\n"
     ]
    },
    {
     "name": "stdout",
     "output_type": "stream",
     "text": [
      "Missing columns in this chunk: {'tunnel_parents   label   detailed-label'}\n",
      "Missing columns in this chunk: {'tunnel_parents   label   detailed-label'}\n"
     ]
    },
    {
     "name": "stderr",
     "output_type": "stream",
     "text": [
      "/tmp/ipykernel_18148/1266505323.py:8: DtypeWarning: Columns (7) have mixed types. Specify dtype option on import or set low_memory=False.\n",
      "  for chunk in pd.read_csv(\"/home/charlie/Desktop/master_data.csv\", chunksize=chunk_size):\n",
      "/tmp/ipykernel_18148/1266505323.py:8: DtypeWarning: Columns (7) have mixed types. Specify dtype option on import or set low_memory=False.\n",
      "  for chunk in pd.read_csv(\"/home/charlie/Desktop/master_data.csv\", chunksize=chunk_size):\n"
     ]
    },
    {
     "name": "stdout",
     "output_type": "stream",
     "text": [
      "Missing columns in this chunk: {'tunnel_parents   label   detailed-label'}\n",
      "Missing columns in this chunk: {'tunnel_parents   label   detailed-label'}\n"
     ]
    },
    {
     "name": "stderr",
     "output_type": "stream",
     "text": [
      "/tmp/ipykernel_18148/1266505323.py:8: DtypeWarning: Columns (7) have mixed types. Specify dtype option on import or set low_memory=False.\n",
      "  for chunk in pd.read_csv(\"/home/charlie/Desktop/master_data.csv\", chunksize=chunk_size):\n",
      "/tmp/ipykernel_18148/1266505323.py:8: DtypeWarning: Columns (7) have mixed types. Specify dtype option on import or set low_memory=False.\n",
      "  for chunk in pd.read_csv(\"/home/charlie/Desktop/master_data.csv\", chunksize=chunk_size):\n"
     ]
    },
    {
     "name": "stdout",
     "output_type": "stream",
     "text": [
      "Missing columns in this chunk: {'tunnel_parents   label   detailed-label'}\n",
      "Missing columns in this chunk: {'tunnel_parents   label   detailed-label'}\n"
     ]
    },
    {
     "name": "stderr",
     "output_type": "stream",
     "text": [
      "/tmp/ipykernel_18148/1266505323.py:8: DtypeWarning: Columns (7) have mixed types. Specify dtype option on import or set low_memory=False.\n",
      "  for chunk in pd.read_csv(\"/home/charlie/Desktop/master_data.csv\", chunksize=chunk_size):\n",
      "/tmp/ipykernel_18148/1266505323.py:8: DtypeWarning: Columns (7) have mixed types. Specify dtype option on import or set low_memory=False.\n",
      "  for chunk in pd.read_csv(\"/home/charlie/Desktop/master_data.csv\", chunksize=chunk_size):\n"
     ]
    },
    {
     "name": "stdout",
     "output_type": "stream",
     "text": [
      "Missing columns in this chunk: {'tunnel_parents   label   detailed-label'}\n",
      "Missing columns in this chunk: {'tunnel_parents   label   detailed-label'}\n"
     ]
    },
    {
     "name": "stderr",
     "output_type": "stream",
     "text": [
      "/tmp/ipykernel_18148/1266505323.py:8: DtypeWarning: Columns (7) have mixed types. Specify dtype option on import or set low_memory=False.\n",
      "  for chunk in pd.read_csv(\"/home/charlie/Desktop/master_data.csv\", chunksize=chunk_size):\n",
      "/tmp/ipykernel_18148/1266505323.py:8: DtypeWarning: Columns (7) have mixed types. Specify dtype option on import or set low_memory=False.\n",
      "  for chunk in pd.read_csv(\"/home/charlie/Desktop/master_data.csv\", chunksize=chunk_size):\n"
     ]
    },
    {
     "name": "stdout",
     "output_type": "stream",
     "text": [
      "Missing columns in this chunk: {'tunnel_parents   label   detailed-label'}\n",
      "Missing columns in this chunk: {'tunnel_parents   label   detailed-label'}\n"
     ]
    },
    {
     "name": "stderr",
     "output_type": "stream",
     "text": [
      "/tmp/ipykernel_18148/1266505323.py:8: DtypeWarning: Columns (7) have mixed types. Specify dtype option on import or set low_memory=False.\n",
      "  for chunk in pd.read_csv(\"/home/charlie/Desktop/master_data.csv\", chunksize=chunk_size):\n",
      "/tmp/ipykernel_18148/1266505323.py:8: DtypeWarning: Columns (7) have mixed types. Specify dtype option on import or set low_memory=False.\n",
      "  for chunk in pd.read_csv(\"/home/charlie/Desktop/master_data.csv\", chunksize=chunk_size):\n"
     ]
    },
    {
     "name": "stdout",
     "output_type": "stream",
     "text": [
      "Missing columns in this chunk: {'tunnel_parents   label   detailed-label'}\n",
      "Missing columns in this chunk: {'tunnel_parents   label   detailed-label'}\n"
     ]
    },
    {
     "name": "stderr",
     "output_type": "stream",
     "text": [
      "/tmp/ipykernel_18148/1266505323.py:8: DtypeWarning: Columns (7) have mixed types. Specify dtype option on import or set low_memory=False.\n",
      "  for chunk in pd.read_csv(\"/home/charlie/Desktop/master_data.csv\", chunksize=chunk_size):\n",
      "/tmp/ipykernel_18148/1266505323.py:8: DtypeWarning: Columns (7) have mixed types. Specify dtype option on import or set low_memory=False.\n",
      "  for chunk in pd.read_csv(\"/home/charlie/Desktop/master_data.csv\", chunksize=chunk_size):\n"
     ]
    },
    {
     "name": "stdout",
     "output_type": "stream",
     "text": [
      "Missing columns in this chunk: {'tunnel_parents   label   detailed-label'}\n",
      "Missing columns in this chunk: {'tunnel_parents   label   detailed-label'}\n"
     ]
    },
    {
     "name": "stderr",
     "output_type": "stream",
     "text": [
      "/tmp/ipykernel_18148/1266505323.py:8: DtypeWarning: Columns (7) have mixed types. Specify dtype option on import or set low_memory=False.\n",
      "  for chunk in pd.read_csv(\"/home/charlie/Desktop/master_data.csv\", chunksize=chunk_size):\n",
      "/tmp/ipykernel_18148/1266505323.py:8: DtypeWarning: Columns (7) have mixed types. Specify dtype option on import or set low_memory=False.\n",
      "  for chunk in pd.read_csv(\"/home/charlie/Desktop/master_data.csv\", chunksize=chunk_size):\n"
     ]
    },
    {
     "name": "stdout",
     "output_type": "stream",
     "text": [
      "Missing columns in this chunk: {'tunnel_parents   label   detailed-label'}\n",
      "Missing columns in this chunk: {'tunnel_parents   label   detailed-label'}\n"
     ]
    },
    {
     "name": "stderr",
     "output_type": "stream",
     "text": [
      "/tmp/ipykernel_18148/1266505323.py:8: DtypeWarning: Columns (7) have mixed types. Specify dtype option on import or set low_memory=False.\n",
      "  for chunk in pd.read_csv(\"/home/charlie/Desktop/master_data.csv\", chunksize=chunk_size):\n",
      "/tmp/ipykernel_18148/1266505323.py:8: DtypeWarning: Columns (7) have mixed types. Specify dtype option on import or set low_memory=False.\n",
      "  for chunk in pd.read_csv(\"/home/charlie/Desktop/master_data.csv\", chunksize=chunk_size):\n"
     ]
    },
    {
     "name": "stdout",
     "output_type": "stream",
     "text": [
      "Missing columns in this chunk: {'tunnel_parents   label   detailed-label'}\n",
      "Missing columns in this chunk: {'tunnel_parents   label   detailed-label'}\n"
     ]
    },
    {
     "name": "stderr",
     "output_type": "stream",
     "text": [
      "/tmp/ipykernel_18148/1266505323.py:8: DtypeWarning: Columns (7) have mixed types. Specify dtype option on import or set low_memory=False.\n",
      "  for chunk in pd.read_csv(\"/home/charlie/Desktop/master_data.csv\", chunksize=chunk_size):\n"
     ]
    },
    {
     "name": "stdout",
     "output_type": "stream",
     "text": [
      "Missing columns in this chunk: {'tunnel_parents   label   detailed-label'}\n",
      "Missing columns in this chunk: {'tunnel_parents   label   detailed-label'}\n"
     ]
    },
    {
     "name": "stderr",
     "output_type": "stream",
     "text": [
      "/tmp/ipykernel_18148/1266505323.py:8: DtypeWarning: Columns (7) have mixed types. Specify dtype option on import or set low_memory=False.\n",
      "  for chunk in pd.read_csv(\"/home/charlie/Desktop/master_data.csv\", chunksize=chunk_size):\n",
      "/tmp/ipykernel_18148/1266505323.py:8: DtypeWarning: Columns (7) have mixed types. Specify dtype option on import or set low_memory=False.\n",
      "  for chunk in pd.read_csv(\"/home/charlie/Desktop/master_data.csv\", chunksize=chunk_size):\n"
     ]
    },
    {
     "name": "stdout",
     "output_type": "stream",
     "text": [
      "Missing columns in this chunk: {'tunnel_parents   label   detailed-label'}\n",
      "Missing columns in this chunk: {'tunnel_parents   label   detailed-label'}\n"
     ]
    },
    {
     "name": "stderr",
     "output_type": "stream",
     "text": [
      "/tmp/ipykernel_18148/1266505323.py:8: DtypeWarning: Columns (7) have mixed types. Specify dtype option on import or set low_memory=False.\n",
      "  for chunk in pd.read_csv(\"/home/charlie/Desktop/master_data.csv\", chunksize=chunk_size):\n",
      "/tmp/ipykernel_18148/1266505323.py:8: DtypeWarning: Columns (7) have mixed types. Specify dtype option on import or set low_memory=False.\n",
      "  for chunk in pd.read_csv(\"/home/charlie/Desktop/master_data.csv\", chunksize=chunk_size):\n"
     ]
    },
    {
     "name": "stdout",
     "output_type": "stream",
     "text": [
      "Missing columns in this chunk: {'tunnel_parents   label   detailed-label'}\n",
      "Missing columns in this chunk: {'tunnel_parents   label   detailed-label'}\n"
     ]
    },
    {
     "name": "stderr",
     "output_type": "stream",
     "text": [
      "/tmp/ipykernel_18148/1266505323.py:8: DtypeWarning: Columns (7) have mixed types. Specify dtype option on import or set low_memory=False.\n",
      "  for chunk in pd.read_csv(\"/home/charlie/Desktop/master_data.csv\", chunksize=chunk_size):\n",
      "/tmp/ipykernel_18148/1266505323.py:8: DtypeWarning: Columns (7) have mixed types. Specify dtype option on import or set low_memory=False.\n",
      "  for chunk in pd.read_csv(\"/home/charlie/Desktop/master_data.csv\", chunksize=chunk_size):\n"
     ]
    },
    {
     "name": "stdout",
     "output_type": "stream",
     "text": [
      "Missing columns in this chunk: {'tunnel_parents   label   detailed-label'}\n",
      "Missing columns in this chunk: {'tunnel_parents   label   detailed-label'}\n"
     ]
    },
    {
     "name": "stderr",
     "output_type": "stream",
     "text": [
      "/tmp/ipykernel_18148/1266505323.py:8: DtypeWarning: Columns (7) have mixed types. Specify dtype option on import or set low_memory=False.\n",
      "  for chunk in pd.read_csv(\"/home/charlie/Desktop/master_data.csv\", chunksize=chunk_size):\n",
      "/tmp/ipykernel_18148/1266505323.py:8: DtypeWarning: Columns (7) have mixed types. Specify dtype option on import or set low_memory=False.\n",
      "  for chunk in pd.read_csv(\"/home/charlie/Desktop/master_data.csv\", chunksize=chunk_size):\n"
     ]
    },
    {
     "name": "stdout",
     "output_type": "stream",
     "text": [
      "Missing columns in this chunk: {'tunnel_parents   label   detailed-label'}\n",
      "Missing columns in this chunk: {'tunnel_parents   label   detailed-label'}\n"
     ]
    },
    {
     "name": "stderr",
     "output_type": "stream",
     "text": [
      "/tmp/ipykernel_18148/1266505323.py:8: DtypeWarning: Columns (7) have mixed types. Specify dtype option on import or set low_memory=False.\n",
      "  for chunk in pd.read_csv(\"/home/charlie/Desktop/master_data.csv\", chunksize=chunk_size):\n",
      "/tmp/ipykernel_18148/1266505323.py:8: DtypeWarning: Columns (7) have mixed types. Specify dtype option on import or set low_memory=False.\n",
      "  for chunk in pd.read_csv(\"/home/charlie/Desktop/master_data.csv\", chunksize=chunk_size):\n"
     ]
    },
    {
     "name": "stdout",
     "output_type": "stream",
     "text": [
      "Missing columns in this chunk: {'tunnel_parents   label   detailed-label'}\n",
      "Missing columns in this chunk: {'tunnel_parents   label   detailed-label'}\n",
      "Missing columns in this chunk: {'tunnel_parents   label   detailed-label'}\n"
     ]
    },
    {
     "name": "stderr",
     "output_type": "stream",
     "text": [
      "/tmp/ipykernel_18148/1266505323.py:8: DtypeWarning: Columns (7) have mixed types. Specify dtype option on import or set low_memory=False.\n",
      "  for chunk in pd.read_csv(\"/home/charlie/Desktop/master_data.csv\", chunksize=chunk_size):\n",
      "/tmp/ipykernel_18148/1266505323.py:8: DtypeWarning: Columns (7) have mixed types. Specify dtype option on import or set low_memory=False.\n",
      "  for chunk in pd.read_csv(\"/home/charlie/Desktop/master_data.csv\", chunksize=chunk_size):\n"
     ]
    },
    {
     "name": "stdout",
     "output_type": "stream",
     "text": [
      "Missing columns in this chunk: {'tunnel_parents   label   detailed-label'}\n",
      "Missing columns in this chunk: {'tunnel_parents   label   detailed-label'}\n"
     ]
    },
    {
     "name": "stderr",
     "output_type": "stream",
     "text": [
      "/tmp/ipykernel_18148/1266505323.py:8: DtypeWarning: Columns (7) have mixed types. Specify dtype option on import or set low_memory=False.\n",
      "  for chunk in pd.read_csv(\"/home/charlie/Desktop/master_data.csv\", chunksize=chunk_size):\n",
      "/tmp/ipykernel_18148/1266505323.py:8: DtypeWarning: Columns (7) have mixed types. Specify dtype option on import or set low_memory=False.\n",
      "  for chunk in pd.read_csv(\"/home/charlie/Desktop/master_data.csv\", chunksize=chunk_size):\n"
     ]
    },
    {
     "name": "stdout",
     "output_type": "stream",
     "text": [
      "Missing columns in this chunk: {'tunnel_parents   label   detailed-label'}\n",
      "Missing columns in this chunk: {'tunnel_parents   label   detailed-label'}\n"
     ]
    },
    {
     "name": "stderr",
     "output_type": "stream",
     "text": [
      "/tmp/ipykernel_18148/1266505323.py:8: DtypeWarning: Columns (7) have mixed types. Specify dtype option on import or set low_memory=False.\n",
      "  for chunk in pd.read_csv(\"/home/charlie/Desktop/master_data.csv\", chunksize=chunk_size):\n",
      "/tmp/ipykernel_18148/1266505323.py:8: DtypeWarning: Columns (7) have mixed types. Specify dtype option on import or set low_memory=False.\n",
      "  for chunk in pd.read_csv(\"/home/charlie/Desktop/master_data.csv\", chunksize=chunk_size):\n"
     ]
    },
    {
     "name": "stdout",
     "output_type": "stream",
     "text": [
      "Missing columns in this chunk: {'tunnel_parents   label   detailed-label'}\n",
      "Missing columns in this chunk: {'tunnel_parents   label   detailed-label'}\n"
     ]
    },
    {
     "name": "stderr",
     "output_type": "stream",
     "text": [
      "/tmp/ipykernel_18148/1266505323.py:8: DtypeWarning: Columns (7) have mixed types. Specify dtype option on import or set low_memory=False.\n",
      "  for chunk in pd.read_csv(\"/home/charlie/Desktop/master_data.csv\", chunksize=chunk_size):\n",
      "/tmp/ipykernel_18148/1266505323.py:8: DtypeWarning: Columns (7) have mixed types. Specify dtype option on import or set low_memory=False.\n",
      "  for chunk in pd.read_csv(\"/home/charlie/Desktop/master_data.csv\", chunksize=chunk_size):\n"
     ]
    },
    {
     "name": "stdout",
     "output_type": "stream",
     "text": [
      "Missing columns in this chunk: {'tunnel_parents   label   detailed-label'}\n",
      "Missing columns in this chunk: {'tunnel_parents   label   detailed-label'}\n"
     ]
    },
    {
     "name": "stderr",
     "output_type": "stream",
     "text": [
      "/tmp/ipykernel_18148/1266505323.py:8: DtypeWarning: Columns (7) have mixed types. Specify dtype option on import or set low_memory=False.\n",
      "  for chunk in pd.read_csv(\"/home/charlie/Desktop/master_data.csv\", chunksize=chunk_size):\n",
      "/tmp/ipykernel_18148/1266505323.py:8: DtypeWarning: Columns (7) have mixed types. Specify dtype option on import or set low_memory=False.\n",
      "  for chunk in pd.read_csv(\"/home/charlie/Desktop/master_data.csv\", chunksize=chunk_size):\n"
     ]
    },
    {
     "name": "stdout",
     "output_type": "stream",
     "text": [
      "Missing columns in this chunk: {'tunnel_parents   label   detailed-label'}\n",
      "Missing columns in this chunk: {'tunnel_parents   label   detailed-label'}\n"
     ]
    },
    {
     "name": "stderr",
     "output_type": "stream",
     "text": [
      "/tmp/ipykernel_18148/1266505323.py:8: DtypeWarning: Columns (7) have mixed types. Specify dtype option on import or set low_memory=False.\n",
      "  for chunk in pd.read_csv(\"/home/charlie/Desktop/master_data.csv\", chunksize=chunk_size):\n",
      "/tmp/ipykernel_18148/1266505323.py:8: DtypeWarning: Columns (7) have mixed types. Specify dtype option on import or set low_memory=False.\n",
      "  for chunk in pd.read_csv(\"/home/charlie/Desktop/master_data.csv\", chunksize=chunk_size):\n"
     ]
    },
    {
     "name": "stdout",
     "output_type": "stream",
     "text": [
      "Missing columns in this chunk: {'tunnel_parents   label   detailed-label'}\n",
      "Missing columns in this chunk: {'tunnel_parents   label   detailed-label'}\n"
     ]
    },
    {
     "name": "stderr",
     "output_type": "stream",
     "text": [
      "/tmp/ipykernel_18148/1266505323.py:8: DtypeWarning: Columns (7) have mixed types. Specify dtype option on import or set low_memory=False.\n",
      "  for chunk in pd.read_csv(\"/home/charlie/Desktop/master_data.csv\", chunksize=chunk_size):\n",
      "/tmp/ipykernel_18148/1266505323.py:8: DtypeWarning: Columns (7) have mixed types. Specify dtype option on import or set low_memory=False.\n",
      "  for chunk in pd.read_csv(\"/home/charlie/Desktop/master_data.csv\", chunksize=chunk_size):\n"
     ]
    },
    {
     "name": "stdout",
     "output_type": "stream",
     "text": [
      "Missing columns in this chunk: {'tunnel_parents   label   detailed-label'}\n",
      "Missing columns in this chunk: {'tunnel_parents   label   detailed-label'}\n"
     ]
    },
    {
     "name": "stderr",
     "output_type": "stream",
     "text": [
      "/tmp/ipykernel_18148/1266505323.py:8: DtypeWarning: Columns (7) have mixed types. Specify dtype option on import or set low_memory=False.\n",
      "  for chunk in pd.read_csv(\"/home/charlie/Desktop/master_data.csv\", chunksize=chunk_size):\n",
      "/tmp/ipykernel_18148/1266505323.py:8: DtypeWarning: Columns (7) have mixed types. Specify dtype option on import or set low_memory=False.\n",
      "  for chunk in pd.read_csv(\"/home/charlie/Desktop/master_data.csv\", chunksize=chunk_size):\n"
     ]
    },
    {
     "name": "stdout",
     "output_type": "stream",
     "text": [
      "Missing columns in this chunk: {'tunnel_parents   label   detailed-label'}\n",
      "Missing columns in this chunk: {'tunnel_parents   label   detailed-label'}\n",
      "Missing columns in this chunk: {'tunnel_parents   label   detailed-label'}\n"
     ]
    },
    {
     "name": "stderr",
     "output_type": "stream",
     "text": [
      "/tmp/ipykernel_18148/1266505323.py:8: DtypeWarning: Columns (7) have mixed types. Specify dtype option on import or set low_memory=False.\n",
      "  for chunk in pd.read_csv(\"/home/charlie/Desktop/master_data.csv\", chunksize=chunk_size):\n",
      "/tmp/ipykernel_18148/1266505323.py:8: DtypeWarning: Columns (7) have mixed types. Specify dtype option on import or set low_memory=False.\n",
      "  for chunk in pd.read_csv(\"/home/charlie/Desktop/master_data.csv\", chunksize=chunk_size):\n"
     ]
    },
    {
     "name": "stdout",
     "output_type": "stream",
     "text": [
      "Missing columns in this chunk: {'tunnel_parents   label   detailed-label'}\n",
      "Missing columns in this chunk: {'tunnel_parents   label   detailed-label'}\n"
     ]
    },
    {
     "name": "stderr",
     "output_type": "stream",
     "text": [
      "/tmp/ipykernel_18148/1266505323.py:8: DtypeWarning: Columns (7) have mixed types. Specify dtype option on import or set low_memory=False.\n",
      "  for chunk in pd.read_csv(\"/home/charlie/Desktop/master_data.csv\", chunksize=chunk_size):\n",
      "/tmp/ipykernel_18148/1266505323.py:8: DtypeWarning: Columns (7) have mixed types. Specify dtype option on import or set low_memory=False.\n",
      "  for chunk in pd.read_csv(\"/home/charlie/Desktop/master_data.csv\", chunksize=chunk_size):\n"
     ]
    },
    {
     "name": "stdout",
     "output_type": "stream",
     "text": [
      "Missing columns in this chunk: {'tunnel_parents   label   detailed-label'}\n",
      "Missing columns in this chunk: {'tunnel_parents   label   detailed-label'}\n"
     ]
    },
    {
     "name": "stderr",
     "output_type": "stream",
     "text": [
      "/tmp/ipykernel_18148/1266505323.py:8: DtypeWarning: Columns (7) have mixed types. Specify dtype option on import or set low_memory=False.\n",
      "  for chunk in pd.read_csv(\"/home/charlie/Desktop/master_data.csv\", chunksize=chunk_size):\n",
      "/tmp/ipykernel_18148/1266505323.py:8: DtypeWarning: Columns (7) have mixed types. Specify dtype option on import or set low_memory=False.\n",
      "  for chunk in pd.read_csv(\"/home/charlie/Desktop/master_data.csv\", chunksize=chunk_size):\n"
     ]
    },
    {
     "name": "stdout",
     "output_type": "stream",
     "text": [
      "Missing columns in this chunk: {'tunnel_parents   label   detailed-label'}\n",
      "Missing columns in this chunk: {'tunnel_parents   label   detailed-label'}\n"
     ]
    },
    {
     "name": "stderr",
     "output_type": "stream",
     "text": [
      "/tmp/ipykernel_18148/1266505323.py:8: DtypeWarning: Columns (7) have mixed types. Specify dtype option on import or set low_memory=False.\n",
      "  for chunk in pd.read_csv(\"/home/charlie/Desktop/master_data.csv\", chunksize=chunk_size):\n",
      "/tmp/ipykernel_18148/1266505323.py:8: DtypeWarning: Columns (7) have mixed types. Specify dtype option on import or set low_memory=False.\n",
      "  for chunk in pd.read_csv(\"/home/charlie/Desktop/master_data.csv\", chunksize=chunk_size):\n"
     ]
    },
    {
     "name": "stdout",
     "output_type": "stream",
     "text": [
      "Missing columns in this chunk: {'tunnel_parents   label   detailed-label'}\n",
      "Missing columns in this chunk: {'tunnel_parents   label   detailed-label'}\n"
     ]
    },
    {
     "name": "stderr",
     "output_type": "stream",
     "text": [
      "/tmp/ipykernel_18148/1266505323.py:8: DtypeWarning: Columns (7) have mixed types. Specify dtype option on import or set low_memory=False.\n",
      "  for chunk in pd.read_csv(\"/home/charlie/Desktop/master_data.csv\", chunksize=chunk_size):\n",
      "/tmp/ipykernel_18148/1266505323.py:8: DtypeWarning: Columns (7) have mixed types. Specify dtype option on import or set low_memory=False.\n",
      "  for chunk in pd.read_csv(\"/home/charlie/Desktop/master_data.csv\", chunksize=chunk_size):\n"
     ]
    },
    {
     "name": "stdout",
     "output_type": "stream",
     "text": [
      "Missing columns in this chunk: {'tunnel_parents   label   detailed-label'}\n",
      "Missing columns in this chunk: {'tunnel_parents   label   detailed-label'}\n"
     ]
    },
    {
     "name": "stderr",
     "output_type": "stream",
     "text": [
      "/tmp/ipykernel_18148/1266505323.py:8: DtypeWarning: Columns (7) have mixed types. Specify dtype option on import or set low_memory=False.\n",
      "  for chunk in pd.read_csv(\"/home/charlie/Desktop/master_data.csv\", chunksize=chunk_size):\n",
      "/tmp/ipykernel_18148/1266505323.py:8: DtypeWarning: Columns (7) have mixed types. Specify dtype option on import or set low_memory=False.\n",
      "  for chunk in pd.read_csv(\"/home/charlie/Desktop/master_data.csv\", chunksize=chunk_size):\n"
     ]
    },
    {
     "name": "stdout",
     "output_type": "stream",
     "text": [
      "Missing columns in this chunk: {'tunnel_parents   label   detailed-label'}\n",
      "Missing columns in this chunk: {'tunnel_parents   label   detailed-label'}\n"
     ]
    },
    {
     "name": "stderr",
     "output_type": "stream",
     "text": [
      "/tmp/ipykernel_18148/1266505323.py:8: DtypeWarning: Columns (7) have mixed types. Specify dtype option on import or set low_memory=False.\n",
      "  for chunk in pd.read_csv(\"/home/charlie/Desktop/master_data.csv\", chunksize=chunk_size):\n",
      "/tmp/ipykernel_18148/1266505323.py:8: DtypeWarning: Columns (7) have mixed types. Specify dtype option on import or set low_memory=False.\n",
      "  for chunk in pd.read_csv(\"/home/charlie/Desktop/master_data.csv\", chunksize=chunk_size):\n"
     ]
    },
    {
     "name": "stdout",
     "output_type": "stream",
     "text": [
      "Missing columns in this chunk: {'tunnel_parents   label   detailed-label'}\n",
      "Missing columns in this chunk: {'tunnel_parents   label   detailed-label'}\n"
     ]
    },
    {
     "name": "stderr",
     "output_type": "stream",
     "text": [
      "/tmp/ipykernel_18148/1266505323.py:8: DtypeWarning: Columns (7) have mixed types. Specify dtype option on import or set low_memory=False.\n",
      "  for chunk in pd.read_csv(\"/home/charlie/Desktop/master_data.csv\", chunksize=chunk_size):\n",
      "/tmp/ipykernel_18148/1266505323.py:8: DtypeWarning: Columns (7) have mixed types. Specify dtype option on import or set low_memory=False.\n",
      "  for chunk in pd.read_csv(\"/home/charlie/Desktop/master_data.csv\", chunksize=chunk_size):\n"
     ]
    },
    {
     "name": "stdout",
     "output_type": "stream",
     "text": [
      "Missing columns in this chunk: {'tunnel_parents   label   detailed-label'}\n",
      "Missing columns in this chunk: {'tunnel_parents   label   detailed-label'}\n"
     ]
    },
    {
     "name": "stderr",
     "output_type": "stream",
     "text": [
      "/tmp/ipykernel_18148/1266505323.py:8: DtypeWarning: Columns (7) have mixed types. Specify dtype option on import or set low_memory=False.\n",
      "  for chunk in pd.read_csv(\"/home/charlie/Desktop/master_data.csv\", chunksize=chunk_size):\n"
     ]
    },
    {
     "name": "stdout",
     "output_type": "stream",
     "text": [
      "Missing columns in this chunk: {'tunnel_parents   label   detailed-label'}\n",
      "Missing columns in this chunk: {'tunnel_parents   label   detailed-label'}\n"
     ]
    },
    {
     "name": "stderr",
     "output_type": "stream",
     "text": [
      "/tmp/ipykernel_18148/1266505323.py:8: DtypeWarning: Columns (7) have mixed types. Specify dtype option on import or set low_memory=False.\n",
      "  for chunk in pd.read_csv(\"/home/charlie/Desktop/master_data.csv\", chunksize=chunk_size):\n",
      "/tmp/ipykernel_18148/1266505323.py:8: DtypeWarning: Columns (7) have mixed types. Specify dtype option on import or set low_memory=False.\n",
      "  for chunk in pd.read_csv(\"/home/charlie/Desktop/master_data.csv\", chunksize=chunk_size):\n"
     ]
    },
    {
     "name": "stdout",
     "output_type": "stream",
     "text": [
      "Missing columns in this chunk: {'tunnel_parents   label   detailed-label'}\n",
      "Missing columns in this chunk: {'tunnel_parents   label   detailed-label'}\n"
     ]
    },
    {
     "name": "stderr",
     "output_type": "stream",
     "text": [
      "/tmp/ipykernel_18148/1266505323.py:8: DtypeWarning: Columns (7) have mixed types. Specify dtype option on import or set low_memory=False.\n",
      "  for chunk in pd.read_csv(\"/home/charlie/Desktop/master_data.csv\", chunksize=chunk_size):\n"
     ]
    },
    {
     "name": "stdout",
     "output_type": "stream",
     "text": [
      "Missing columns in this chunk: {'tunnel_parents   label   detailed-label'}\n",
      "Missing columns in this chunk: {'tunnel_parents   label   detailed-label'}\n"
     ]
    },
    {
     "name": "stderr",
     "output_type": "stream",
     "text": [
      "/tmp/ipykernel_18148/1266505323.py:8: DtypeWarning: Columns (7) have mixed types. Specify dtype option on import or set low_memory=False.\n",
      "  for chunk in pd.read_csv(\"/home/charlie/Desktop/master_data.csv\", chunksize=chunk_size):\n",
      "/tmp/ipykernel_18148/1266505323.py:8: DtypeWarning: Columns (7) have mixed types. Specify dtype option on import or set low_memory=False.\n",
      "  for chunk in pd.read_csv(\"/home/charlie/Desktop/master_data.csv\", chunksize=chunk_size):\n"
     ]
    },
    {
     "name": "stdout",
     "output_type": "stream",
     "text": [
      "Missing columns in this chunk: {'tunnel_parents   label   detailed-label'}\n",
      "Missing columns in this chunk: {'tunnel_parents   label   detailed-label'}\n"
     ]
    },
    {
     "name": "stderr",
     "output_type": "stream",
     "text": [
      "/tmp/ipykernel_18148/1266505323.py:8: DtypeWarning: Columns (7) have mixed types. Specify dtype option on import or set low_memory=False.\n",
      "  for chunk in pd.read_csv(\"/home/charlie/Desktop/master_data.csv\", chunksize=chunk_size):\n",
      "/tmp/ipykernel_18148/1266505323.py:8: DtypeWarning: Columns (7) have mixed types. Specify dtype option on import or set low_memory=False.\n",
      "  for chunk in pd.read_csv(\"/home/charlie/Desktop/master_data.csv\", chunksize=chunk_size):\n"
     ]
    },
    {
     "name": "stdout",
     "output_type": "stream",
     "text": [
      "Missing columns in this chunk: {'tunnel_parents   label   detailed-label'}\n",
      "Missing columns in this chunk: {'tunnel_parents   label   detailed-label'}\n",
      "Missing columns in this chunk: {'tunnel_parents   label   detailed-label'}\n"
     ]
    },
    {
     "name": "stderr",
     "output_type": "stream",
     "text": [
      "/tmp/ipykernel_18148/1266505323.py:8: DtypeWarning: Columns (7) have mixed types. Specify dtype option on import or set low_memory=False.\n",
      "  for chunk in pd.read_csv(\"/home/charlie/Desktop/master_data.csv\", chunksize=chunk_size):\n",
      "/tmp/ipykernel_18148/1266505323.py:8: DtypeWarning: Columns (7) have mixed types. Specify dtype option on import or set low_memory=False.\n",
      "  for chunk in pd.read_csv(\"/home/charlie/Desktop/master_data.csv\", chunksize=chunk_size):\n"
     ]
    },
    {
     "name": "stdout",
     "output_type": "stream",
     "text": [
      "Missing columns in this chunk: {'tunnel_parents   label   detailed-label'}\n",
      "Missing columns in this chunk: {'tunnel_parents   label   detailed-label'}\n"
     ]
    },
    {
     "name": "stderr",
     "output_type": "stream",
     "text": [
      "/tmp/ipykernel_18148/1266505323.py:8: DtypeWarning: Columns (7) have mixed types. Specify dtype option on import or set low_memory=False.\n",
      "  for chunk in pd.read_csv(\"/home/charlie/Desktop/master_data.csv\", chunksize=chunk_size):\n",
      "/tmp/ipykernel_18148/1266505323.py:8: DtypeWarning: Columns (7) have mixed types. Specify dtype option on import or set low_memory=False.\n",
      "  for chunk in pd.read_csv(\"/home/charlie/Desktop/master_data.csv\", chunksize=chunk_size):\n"
     ]
    },
    {
     "name": "stdout",
     "output_type": "stream",
     "text": [
      "Missing columns in this chunk: {'tunnel_parents   label   detailed-label'}\n",
      "Missing columns in this chunk: {'tunnel_parents   label   detailed-label'}\n"
     ]
    },
    {
     "name": "stderr",
     "output_type": "stream",
     "text": [
      "/tmp/ipykernel_18148/1266505323.py:8: DtypeWarning: Columns (7) have mixed types. Specify dtype option on import or set low_memory=False.\n",
      "  for chunk in pd.read_csv(\"/home/charlie/Desktop/master_data.csv\", chunksize=chunk_size):\n",
      "/tmp/ipykernel_18148/1266505323.py:8: DtypeWarning: Columns (7) have mixed types. Specify dtype option on import or set low_memory=False.\n",
      "  for chunk in pd.read_csv(\"/home/charlie/Desktop/master_data.csv\", chunksize=chunk_size):\n"
     ]
    },
    {
     "name": "stdout",
     "output_type": "stream",
     "text": [
      "Missing columns in this chunk: {'tunnel_parents   label   detailed-label'}\n",
      "Missing columns in this chunk: {'tunnel_parents   label   detailed-label'}\n"
     ]
    },
    {
     "name": "stderr",
     "output_type": "stream",
     "text": [
      "/tmp/ipykernel_18148/1266505323.py:8: DtypeWarning: Columns (7) have mixed types. Specify dtype option on import or set low_memory=False.\n",
      "  for chunk in pd.read_csv(\"/home/charlie/Desktop/master_data.csv\", chunksize=chunk_size):\n",
      "/tmp/ipykernel_18148/1266505323.py:8: DtypeWarning: Columns (7) have mixed types. Specify dtype option on import or set low_memory=False.\n",
      "  for chunk in pd.read_csv(\"/home/charlie/Desktop/master_data.csv\", chunksize=chunk_size):\n"
     ]
    },
    {
     "name": "stdout",
     "output_type": "stream",
     "text": [
      "Missing columns in this chunk: {'tunnel_parents   label   detailed-label'}\n",
      "Missing columns in this chunk: {'tunnel_parents   label   detailed-label'}\n"
     ]
    },
    {
     "name": "stderr",
     "output_type": "stream",
     "text": [
      "/tmp/ipykernel_18148/1266505323.py:8: DtypeWarning: Columns (7) have mixed types. Specify dtype option on import or set low_memory=False.\n",
      "  for chunk in pd.read_csv(\"/home/charlie/Desktop/master_data.csv\", chunksize=chunk_size):\n",
      "/tmp/ipykernel_18148/1266505323.py:8: DtypeWarning: Columns (7) have mixed types. Specify dtype option on import or set low_memory=False.\n",
      "  for chunk in pd.read_csv(\"/home/charlie/Desktop/master_data.csv\", chunksize=chunk_size):\n"
     ]
    },
    {
     "name": "stdout",
     "output_type": "stream",
     "text": [
      "Missing columns in this chunk: {'tunnel_parents   label   detailed-label'}\n",
      "Missing columns in this chunk: {'tunnel_parents   label   detailed-label'}\n"
     ]
    },
    {
     "name": "stderr",
     "output_type": "stream",
     "text": [
      "/tmp/ipykernel_18148/1266505323.py:8: DtypeWarning: Columns (7) have mixed types. Specify dtype option on import or set low_memory=False.\n",
      "  for chunk in pd.read_csv(\"/home/charlie/Desktop/master_data.csv\", chunksize=chunk_size):\n",
      "/tmp/ipykernel_18148/1266505323.py:8: DtypeWarning: Columns (7) have mixed types. Specify dtype option on import or set low_memory=False.\n",
      "  for chunk in pd.read_csv(\"/home/charlie/Desktop/master_data.csv\", chunksize=chunk_size):\n"
     ]
    },
    {
     "name": "stdout",
     "output_type": "stream",
     "text": [
      "Missing columns in this chunk: {'tunnel_parents   label   detailed-label'}\n",
      "Missing columns in this chunk: {'tunnel_parents   label   detailed-label'}\n"
     ]
    },
    {
     "name": "stderr",
     "output_type": "stream",
     "text": [
      "/tmp/ipykernel_18148/1266505323.py:8: DtypeWarning: Columns (7) have mixed types. Specify dtype option on import or set low_memory=False.\n",
      "  for chunk in pd.read_csv(\"/home/charlie/Desktop/master_data.csv\", chunksize=chunk_size):\n",
      "/tmp/ipykernel_18148/1266505323.py:8: DtypeWarning: Columns (7) have mixed types. Specify dtype option on import or set low_memory=False.\n",
      "  for chunk in pd.read_csv(\"/home/charlie/Desktop/master_data.csv\", chunksize=chunk_size):\n"
     ]
    },
    {
     "name": "stdout",
     "output_type": "stream",
     "text": [
      "Missing columns in this chunk: {'tunnel_parents   label   detailed-label'}\n",
      "Missing columns in this chunk: {'tunnel_parents   label   detailed-label'}\n",
      "Missing columns in this chunk: {'tunnel_parents   label   detailed-label'}\n"
     ]
    },
    {
     "name": "stderr",
     "output_type": "stream",
     "text": [
      "/tmp/ipykernel_18148/1266505323.py:8: DtypeWarning: Columns (7) have mixed types. Specify dtype option on import or set low_memory=False.\n",
      "  for chunk in pd.read_csv(\"/home/charlie/Desktop/master_data.csv\", chunksize=chunk_size):\n"
     ]
    },
    {
     "name": "stdout",
     "output_type": "stream",
     "text": [
      "Missing columns in this chunk: {'tunnel_parents   label   detailed-label'}\n",
      "Missing columns in this chunk: {'tunnel_parents   label   detailed-label'}\n"
     ]
    },
    {
     "name": "stderr",
     "output_type": "stream",
     "text": [
      "/tmp/ipykernel_18148/1266505323.py:8: DtypeWarning: Columns (7) have mixed types. Specify dtype option on import or set low_memory=False.\n",
      "  for chunk in pd.read_csv(\"/home/charlie/Desktop/master_data.csv\", chunksize=chunk_size):\n",
      "/tmp/ipykernel_18148/1266505323.py:8: DtypeWarning: Columns (7) have mixed types. Specify dtype option on import or set low_memory=False.\n",
      "  for chunk in pd.read_csv(\"/home/charlie/Desktop/master_data.csv\", chunksize=chunk_size):\n"
     ]
    },
    {
     "name": "stdout",
     "output_type": "stream",
     "text": [
      "Missing columns in this chunk: {'tunnel_parents   label   detailed-label'}\n",
      "Missing columns in this chunk: {'tunnel_parents   label   detailed-label'}\n"
     ]
    },
    {
     "name": "stderr",
     "output_type": "stream",
     "text": [
      "/tmp/ipykernel_18148/1266505323.py:8: DtypeWarning: Columns (7) have mixed types. Specify dtype option on import or set low_memory=False.\n",
      "  for chunk in pd.read_csv(\"/home/charlie/Desktop/master_data.csv\", chunksize=chunk_size):\n",
      "/tmp/ipykernel_18148/1266505323.py:8: DtypeWarning: Columns (7) have mixed types. Specify dtype option on import or set low_memory=False.\n",
      "  for chunk in pd.read_csv(\"/home/charlie/Desktop/master_data.csv\", chunksize=chunk_size):\n"
     ]
    },
    {
     "name": "stdout",
     "output_type": "stream",
     "text": [
      "Missing columns in this chunk: {'tunnel_parents   label   detailed-label'}\n",
      "Missing columns in this chunk: {'tunnel_parents   label   detailed-label'}\n"
     ]
    },
    {
     "name": "stderr",
     "output_type": "stream",
     "text": [
      "/tmp/ipykernel_18148/1266505323.py:8: DtypeWarning: Columns (7) have mixed types. Specify dtype option on import or set low_memory=False.\n",
      "  for chunk in pd.read_csv(\"/home/charlie/Desktop/master_data.csv\", chunksize=chunk_size):\n",
      "/tmp/ipykernel_18148/1266505323.py:8: DtypeWarning: Columns (7) have mixed types. Specify dtype option on import or set low_memory=False.\n",
      "  for chunk in pd.read_csv(\"/home/charlie/Desktop/master_data.csv\", chunksize=chunk_size):\n"
     ]
    },
    {
     "name": "stdout",
     "output_type": "stream",
     "text": [
      "Missing columns in this chunk: {'tunnel_parents   label   detailed-label'}\n",
      "Missing columns in this chunk: {'tunnel_parents   label   detailed-label'}\n"
     ]
    },
    {
     "name": "stderr",
     "output_type": "stream",
     "text": [
      "/tmp/ipykernel_18148/1266505323.py:8: DtypeWarning: Columns (7) have mixed types. Specify dtype option on import or set low_memory=False.\n",
      "  for chunk in pd.read_csv(\"/home/charlie/Desktop/master_data.csv\", chunksize=chunk_size):\n",
      "/tmp/ipykernel_18148/1266505323.py:8: DtypeWarning: Columns (7) have mixed types. Specify dtype option on import or set low_memory=False.\n",
      "  for chunk in pd.read_csv(\"/home/charlie/Desktop/master_data.csv\", chunksize=chunk_size):\n"
     ]
    },
    {
     "name": "stdout",
     "output_type": "stream",
     "text": [
      "Missing columns in this chunk: {'tunnel_parents   label   detailed-label'}\n",
      "Missing columns in this chunk: {'tunnel_parents   label   detailed-label'}\n"
     ]
    },
    {
     "name": "stderr",
     "output_type": "stream",
     "text": [
      "/tmp/ipykernel_18148/1266505323.py:8: DtypeWarning: Columns (7) have mixed types. Specify dtype option on import or set low_memory=False.\n",
      "  for chunk in pd.read_csv(\"/home/charlie/Desktop/master_data.csv\", chunksize=chunk_size):\n",
      "/tmp/ipykernel_18148/1266505323.py:8: DtypeWarning: Columns (7) have mixed types. Specify dtype option on import or set low_memory=False.\n",
      "  for chunk in pd.read_csv(\"/home/charlie/Desktop/master_data.csv\", chunksize=chunk_size):\n"
     ]
    },
    {
     "name": "stdout",
     "output_type": "stream",
     "text": [
      "Missing columns in this chunk: {'tunnel_parents   label   detailed-label'}\n",
      "Missing columns in this chunk: {'tunnel_parents   label   detailed-label'}\n"
     ]
    },
    {
     "name": "stderr",
     "output_type": "stream",
     "text": [
      "/tmp/ipykernel_18148/1266505323.py:8: DtypeWarning: Columns (7) have mixed types. Specify dtype option on import or set low_memory=False.\n",
      "  for chunk in pd.read_csv(\"/home/charlie/Desktop/master_data.csv\", chunksize=chunk_size):\n",
      "/tmp/ipykernel_18148/1266505323.py:8: DtypeWarning: Columns (7) have mixed types. Specify dtype option on import or set low_memory=False.\n",
      "  for chunk in pd.read_csv(\"/home/charlie/Desktop/master_data.csv\", chunksize=chunk_size):\n"
     ]
    },
    {
     "name": "stdout",
     "output_type": "stream",
     "text": [
      "Missing columns in this chunk: {'tunnel_parents   label   detailed-label'}\n",
      "Missing columns in this chunk: {'tunnel_parents   label   detailed-label'}\n"
     ]
    },
    {
     "name": "stderr",
     "output_type": "stream",
     "text": [
      "/tmp/ipykernel_18148/1266505323.py:8: DtypeWarning: Columns (7) have mixed types. Specify dtype option on import or set low_memory=False.\n",
      "  for chunk in pd.read_csv(\"/home/charlie/Desktop/master_data.csv\", chunksize=chunk_size):\n",
      "/tmp/ipykernel_18148/1266505323.py:8: DtypeWarning: Columns (7) have mixed types. Specify dtype option on import or set low_memory=False.\n",
      "  for chunk in pd.read_csv(\"/home/charlie/Desktop/master_data.csv\", chunksize=chunk_size):\n"
     ]
    },
    {
     "name": "stdout",
     "output_type": "stream",
     "text": [
      "Missing columns in this chunk: {'tunnel_parents   label   detailed-label'}\n",
      "Missing columns in this chunk: {'tunnel_parents   label   detailed-label'}\n"
     ]
    },
    {
     "name": "stderr",
     "output_type": "stream",
     "text": [
      "/tmp/ipykernel_18148/1266505323.py:8: DtypeWarning: Columns (7) have mixed types. Specify dtype option on import or set low_memory=False.\n",
      "  for chunk in pd.read_csv(\"/home/charlie/Desktop/master_data.csv\", chunksize=chunk_size):\n",
      "/tmp/ipykernel_18148/1266505323.py:8: DtypeWarning: Columns (7) have mixed types. Specify dtype option on import or set low_memory=False.\n",
      "  for chunk in pd.read_csv(\"/home/charlie/Desktop/master_data.csv\", chunksize=chunk_size):\n"
     ]
    },
    {
     "name": "stdout",
     "output_type": "stream",
     "text": [
      "Missing columns in this chunk: {'tunnel_parents   label   detailed-label'}\n",
      "Missing columns in this chunk: {'tunnel_parents   label   detailed-label'}\n"
     ]
    },
    {
     "name": "stderr",
     "output_type": "stream",
     "text": [
      "/tmp/ipykernel_18148/1266505323.py:8: DtypeWarning: Columns (7) have mixed types. Specify dtype option on import or set low_memory=False.\n",
      "  for chunk in pd.read_csv(\"/home/charlie/Desktop/master_data.csv\", chunksize=chunk_size):\n",
      "/tmp/ipykernel_18148/1266505323.py:8: DtypeWarning: Columns (7) have mixed types. Specify dtype option on import or set low_memory=False.\n",
      "  for chunk in pd.read_csv(\"/home/charlie/Desktop/master_data.csv\", chunksize=chunk_size):\n"
     ]
    },
    {
     "name": "stdout",
     "output_type": "stream",
     "text": [
      "Missing columns in this chunk: {'tunnel_parents   label   detailed-label'}\n",
      "Missing columns in this chunk: {'tunnel_parents   label   detailed-label'}\n"
     ]
    },
    {
     "name": "stderr",
     "output_type": "stream",
     "text": [
      "/tmp/ipykernel_18148/1266505323.py:8: DtypeWarning: Columns (7) have mixed types. Specify dtype option on import or set low_memory=False.\n",
      "  for chunk in pd.read_csv(\"/home/charlie/Desktop/master_data.csv\", chunksize=chunk_size):\n",
      "/tmp/ipykernel_18148/1266505323.py:8: DtypeWarning: Columns (7) have mixed types. Specify dtype option on import or set low_memory=False.\n",
      "  for chunk in pd.read_csv(\"/home/charlie/Desktop/master_data.csv\", chunksize=chunk_size):\n"
     ]
    },
    {
     "name": "stdout",
     "output_type": "stream",
     "text": [
      "Missing columns in this chunk: {'tunnel_parents   label   detailed-label'}\n",
      "Missing columns in this chunk: {'tunnel_parents   label   detailed-label'}\n"
     ]
    },
    {
     "name": "stderr",
     "output_type": "stream",
     "text": [
      "/tmp/ipykernel_18148/1266505323.py:8: DtypeWarning: Columns (7) have mixed types. Specify dtype option on import or set low_memory=False.\n",
      "  for chunk in pd.read_csv(\"/home/charlie/Desktop/master_data.csv\", chunksize=chunk_size):\n",
      "/tmp/ipykernel_18148/1266505323.py:8: DtypeWarning: Columns (7) have mixed types. Specify dtype option on import or set low_memory=False.\n",
      "  for chunk in pd.read_csv(\"/home/charlie/Desktop/master_data.csv\", chunksize=chunk_size):\n"
     ]
    },
    {
     "name": "stdout",
     "output_type": "stream",
     "text": [
      "Missing columns in this chunk: {'tunnel_parents   label   detailed-label'}\n",
      "Missing columns in this chunk: {'tunnel_parents   label   detailed-label'}\n"
     ]
    },
    {
     "name": "stderr",
     "output_type": "stream",
     "text": [
      "/tmp/ipykernel_18148/1266505323.py:8: DtypeWarning: Columns (7) have mixed types. Specify dtype option on import or set low_memory=False.\n",
      "  for chunk in pd.read_csv(\"/home/charlie/Desktop/master_data.csv\", chunksize=chunk_size):\n"
     ]
    },
    {
     "name": "stdout",
     "output_type": "stream",
     "text": [
      "Missing columns in this chunk: {'tunnel_parents   label   detailed-label'}\n",
      "Missing columns in this chunk: {'tunnel_parents   label   detailed-label'}\n"
     ]
    },
    {
     "name": "stderr",
     "output_type": "stream",
     "text": [
      "/tmp/ipykernel_18148/1266505323.py:8: DtypeWarning: Columns (7) have mixed types. Specify dtype option on import or set low_memory=False.\n",
      "  for chunk in pd.read_csv(\"/home/charlie/Desktop/master_data.csv\", chunksize=chunk_size):\n"
     ]
    },
    {
     "name": "stdout",
     "output_type": "stream",
     "text": [
      "Missing columns in this chunk: {'tunnel_parents   label   detailed-label'}\n",
      "Missing columns in this chunk: {'tunnel_parents   label   detailed-label'}\n",
      "Missing columns in this chunk: {'tunnel_parents   label   detailed-label'}\n"
     ]
    },
    {
     "name": "stderr",
     "output_type": "stream",
     "text": [
      "/tmp/ipykernel_18148/1266505323.py:8: DtypeWarning: Columns (7) have mixed types. Specify dtype option on import or set low_memory=False.\n",
      "  for chunk in pd.read_csv(\"/home/charlie/Desktop/master_data.csv\", chunksize=chunk_size):\n",
      "/tmp/ipykernel_18148/1266505323.py:8: DtypeWarning: Columns (7) have mixed types. Specify dtype option on import or set low_memory=False.\n",
      "  for chunk in pd.read_csv(\"/home/charlie/Desktop/master_data.csv\", chunksize=chunk_size):\n"
     ]
    },
    {
     "name": "stdout",
     "output_type": "stream",
     "text": [
      "Missing columns in this chunk: {'tunnel_parents   label   detailed-label'}\n",
      "Missing columns in this chunk: {'tunnel_parents   label   detailed-label'}\n"
     ]
    },
    {
     "name": "stderr",
     "output_type": "stream",
     "text": [
      "/tmp/ipykernel_18148/1266505323.py:8: DtypeWarning: Columns (7) have mixed types. Specify dtype option on import or set low_memory=False.\n",
      "  for chunk in pd.read_csv(\"/home/charlie/Desktop/master_data.csv\", chunksize=chunk_size):\n",
      "/tmp/ipykernel_18148/1266505323.py:8: DtypeWarning: Columns (7) have mixed types. Specify dtype option on import or set low_memory=False.\n",
      "  for chunk in pd.read_csv(\"/home/charlie/Desktop/master_data.csv\", chunksize=chunk_size):\n"
     ]
    },
    {
     "name": "stdout",
     "output_type": "stream",
     "text": [
      "Missing columns in this chunk: {'tunnel_parents   label   detailed-label'}\n",
      "Missing columns in this chunk: {'tunnel_parents   label   detailed-label'}\n",
      "Missing columns in this chunk: {'tunnel_parents   label   detailed-label'}\n"
     ]
    },
    {
     "name": "stderr",
     "output_type": "stream",
     "text": [
      "/tmp/ipykernel_18148/1266505323.py:8: DtypeWarning: Columns (7) have mixed types. Specify dtype option on import or set low_memory=False.\n",
      "  for chunk in pd.read_csv(\"/home/charlie/Desktop/master_data.csv\", chunksize=chunk_size):\n",
      "/tmp/ipykernel_18148/1266505323.py:8: DtypeWarning: Columns (7) have mixed types. Specify dtype option on import or set low_memory=False.\n",
      "  for chunk in pd.read_csv(\"/home/charlie/Desktop/master_data.csv\", chunksize=chunk_size):\n"
     ]
    },
    {
     "name": "stdout",
     "output_type": "stream",
     "text": [
      "Missing columns in this chunk: {'tunnel_parents   label   detailed-label'}\n",
      "Missing columns in this chunk: {'tunnel_parents   label   detailed-label'}\n"
     ]
    },
    {
     "name": "stderr",
     "output_type": "stream",
     "text": [
      "/tmp/ipykernel_18148/1266505323.py:8: DtypeWarning: Columns (7) have mixed types. Specify dtype option on import or set low_memory=False.\n",
      "  for chunk in pd.read_csv(\"/home/charlie/Desktop/master_data.csv\", chunksize=chunk_size):\n",
      "/tmp/ipykernel_18148/1266505323.py:8: DtypeWarning: Columns (7) have mixed types. Specify dtype option on import or set low_memory=False.\n",
      "  for chunk in pd.read_csv(\"/home/charlie/Desktop/master_data.csv\", chunksize=chunk_size):\n"
     ]
    },
    {
     "name": "stdout",
     "output_type": "stream",
     "text": [
      "Missing columns in this chunk: {'tunnel_parents   label   detailed-label'}\n",
      "Missing columns in this chunk: {'tunnel_parents   label   detailed-label'}\n"
     ]
    },
    {
     "name": "stderr",
     "output_type": "stream",
     "text": [
      "/tmp/ipykernel_18148/1266505323.py:8: DtypeWarning: Columns (7) have mixed types. Specify dtype option on import or set low_memory=False.\n",
      "  for chunk in pd.read_csv(\"/home/charlie/Desktop/master_data.csv\", chunksize=chunk_size):\n",
      "/tmp/ipykernel_18148/1266505323.py:8: DtypeWarning: Columns (7) have mixed types. Specify dtype option on import or set low_memory=False.\n",
      "  for chunk in pd.read_csv(\"/home/charlie/Desktop/master_data.csv\", chunksize=chunk_size):\n"
     ]
    },
    {
     "name": "stdout",
     "output_type": "stream",
     "text": [
      "Missing columns in this chunk: {'tunnel_parents   label   detailed-label'}\n",
      "Missing columns in this chunk: {'tunnel_parents   label   detailed-label'}\n",
      "Missing columns in this chunk: {'tunnel_parents   label   detailed-label'}\n"
     ]
    },
    {
     "name": "stderr",
     "output_type": "stream",
     "text": [
      "/tmp/ipykernel_18148/1266505323.py:8: DtypeWarning: Columns (7) have mixed types. Specify dtype option on import or set low_memory=False.\n",
      "  for chunk in pd.read_csv(\"/home/charlie/Desktop/master_data.csv\", chunksize=chunk_size):\n",
      "/tmp/ipykernel_18148/1266505323.py:8: DtypeWarning: Columns (7) have mixed types. Specify dtype option on import or set low_memory=False.\n",
      "  for chunk in pd.read_csv(\"/home/charlie/Desktop/master_data.csv\", chunksize=chunk_size):\n"
     ]
    },
    {
     "name": "stdout",
     "output_type": "stream",
     "text": [
      "Missing columns in this chunk: {'tunnel_parents   label   detailed-label'}\n",
      "Missing columns in this chunk: {'tunnel_parents   label   detailed-label'}\n"
     ]
    },
    {
     "name": "stderr",
     "output_type": "stream",
     "text": [
      "/tmp/ipykernel_18148/1266505323.py:8: DtypeWarning: Columns (7) have mixed types. Specify dtype option on import or set low_memory=False.\n",
      "  for chunk in pd.read_csv(\"/home/charlie/Desktop/master_data.csv\", chunksize=chunk_size):\n"
     ]
    },
    {
     "name": "stdout",
     "output_type": "stream",
     "text": [
      "Missing columns in this chunk: {'tunnel_parents   label   detailed-label'}\n",
      "Missing columns in this chunk: {'tunnel_parents   label   detailed-label'}\n"
     ]
    },
    {
     "name": "stderr",
     "output_type": "stream",
     "text": [
      "/tmp/ipykernel_18148/1266505323.py:8: DtypeWarning: Columns (7) have mixed types. Specify dtype option on import or set low_memory=False.\n",
      "  for chunk in pd.read_csv(\"/home/charlie/Desktop/master_data.csv\", chunksize=chunk_size):\n",
      "/tmp/ipykernel_18148/1266505323.py:8: DtypeWarning: Columns (7) have mixed types. Specify dtype option on import or set low_memory=False.\n",
      "  for chunk in pd.read_csv(\"/home/charlie/Desktop/master_data.csv\", chunksize=chunk_size):\n"
     ]
    },
    {
     "name": "stdout",
     "output_type": "stream",
     "text": [
      "Missing columns in this chunk: {'tunnel_parents   label   detailed-label'}\n",
      "Missing columns in this chunk: {'tunnel_parents   label   detailed-label'}\n",
      "Missing columns in this chunk: {'tunnel_parents   label   detailed-label'}\n"
     ]
    },
    {
     "name": "stderr",
     "output_type": "stream",
     "text": [
      "/tmp/ipykernel_18148/1266505323.py:8: DtypeWarning: Columns (7) have mixed types. Specify dtype option on import or set low_memory=False.\n",
      "  for chunk in pd.read_csv(\"/home/charlie/Desktop/master_data.csv\", chunksize=chunk_size):\n",
      "/tmp/ipykernel_18148/1266505323.py:8: DtypeWarning: Columns (7) have mixed types. Specify dtype option on import or set low_memory=False.\n",
      "  for chunk in pd.read_csv(\"/home/charlie/Desktop/master_data.csv\", chunksize=chunk_size):\n"
     ]
    },
    {
     "name": "stdout",
     "output_type": "stream",
     "text": [
      "Missing columns in this chunk: {'tunnel_parents   label   detailed-label'}\n",
      "Missing columns in this chunk: {'tunnel_parents   label   detailed-label'}\n"
     ]
    },
    {
     "name": "stderr",
     "output_type": "stream",
     "text": [
      "/tmp/ipykernel_18148/1266505323.py:8: DtypeWarning: Columns (7) have mixed types. Specify dtype option on import or set low_memory=False.\n",
      "  for chunk in pd.read_csv(\"/home/charlie/Desktop/master_data.csv\", chunksize=chunk_size):\n",
      "/tmp/ipykernel_18148/1266505323.py:8: DtypeWarning: Columns (7) have mixed types. Specify dtype option on import or set low_memory=False.\n",
      "  for chunk in pd.read_csv(\"/home/charlie/Desktop/master_data.csv\", chunksize=chunk_size):\n"
     ]
    },
    {
     "name": "stdout",
     "output_type": "stream",
     "text": [
      "Missing columns in this chunk: {'tunnel_parents   label   detailed-label'}\n",
      "Missing columns in this chunk: {'tunnel_parents   label   detailed-label'}\n"
     ]
    },
    {
     "name": "stderr",
     "output_type": "stream",
     "text": [
      "/tmp/ipykernel_18148/1266505323.py:8: DtypeWarning: Columns (7) have mixed types. Specify dtype option on import or set low_memory=False.\n",
      "  for chunk in pd.read_csv(\"/home/charlie/Desktop/master_data.csv\", chunksize=chunk_size):\n",
      "/tmp/ipykernel_18148/1266505323.py:8: DtypeWarning: Columns (7) have mixed types. Specify dtype option on import or set low_memory=False.\n",
      "  for chunk in pd.read_csv(\"/home/charlie/Desktop/master_data.csv\", chunksize=chunk_size):\n"
     ]
    },
    {
     "name": "stdout",
     "output_type": "stream",
     "text": [
      "Missing columns in this chunk: {'tunnel_parents   label   detailed-label'}\n",
      "Missing columns in this chunk: {'tunnel_parents   label   detailed-label'}\n",
      "Missing columns in this chunk: {'tunnel_parents   label   detailed-label'}\n",
      "Missing columns in this chunk: {'tunnel_parents   label   detailed-label'}\n"
     ]
    },
    {
     "name": "stderr",
     "output_type": "stream",
     "text": [
      "/tmp/ipykernel_18148/1266505323.py:8: DtypeWarning: Columns (7) have mixed types. Specify dtype option on import or set low_memory=False.\n",
      "  for chunk in pd.read_csv(\"/home/charlie/Desktop/master_data.csv\", chunksize=chunk_size):\n",
      "/tmp/ipykernel_18148/1266505323.py:8: DtypeWarning: Columns (7) have mixed types. Specify dtype option on import or set low_memory=False.\n",
      "  for chunk in pd.read_csv(\"/home/charlie/Desktop/master_data.csv\", chunksize=chunk_size):\n"
     ]
    },
    {
     "name": "stdout",
     "output_type": "stream",
     "text": [
      "Missing columns in this chunk: {'tunnel_parents   label   detailed-label'}\n",
      "Missing columns in this chunk: {'tunnel_parents   label   detailed-label'}\n"
     ]
    },
    {
     "name": "stderr",
     "output_type": "stream",
     "text": [
      "/tmp/ipykernel_18148/1266505323.py:8: DtypeWarning: Columns (7) have mixed types. Specify dtype option on import or set low_memory=False.\n",
      "  for chunk in pd.read_csv(\"/home/charlie/Desktop/master_data.csv\", chunksize=chunk_size):\n"
     ]
    },
    {
     "name": "stdout",
     "output_type": "stream",
     "text": [
      "Missing columns in this chunk: {'tunnel_parents   label   detailed-label'}\n",
      "Missing columns in this chunk: {'tunnel_parents   label   detailed-label'}\n"
     ]
    },
    {
     "name": "stderr",
     "output_type": "stream",
     "text": [
      "/tmp/ipykernel_18148/1266505323.py:8: DtypeWarning: Columns (7) have mixed types. Specify dtype option on import or set low_memory=False.\n",
      "  for chunk in pd.read_csv(\"/home/charlie/Desktop/master_data.csv\", chunksize=chunk_size):\n"
     ]
    },
    {
     "name": "stdout",
     "output_type": "stream",
     "text": [
      "Missing columns in this chunk: {'tunnel_parents   label   detailed-label'}\n",
      "Missing columns in this chunk: {'tunnel_parents   label   detailed-label'}\n"
     ]
    },
    {
     "name": "stderr",
     "output_type": "stream",
     "text": [
      "/tmp/ipykernel_18148/1266505323.py:8: DtypeWarning: Columns (7) have mixed types. Specify dtype option on import or set low_memory=False.\n",
      "  for chunk in pd.read_csv(\"/home/charlie/Desktop/master_data.csv\", chunksize=chunk_size):\n",
      "/tmp/ipykernel_18148/1266505323.py:8: DtypeWarning: Columns (7) have mixed types. Specify dtype option on import or set low_memory=False.\n",
      "  for chunk in pd.read_csv(\"/home/charlie/Desktop/master_data.csv\", chunksize=chunk_size):\n"
     ]
    },
    {
     "name": "stdout",
     "output_type": "stream",
     "text": [
      "Missing columns in this chunk: {'tunnel_parents   label   detailed-label'}\n",
      "Missing columns in this chunk: {'tunnel_parents   label   detailed-label'}\n"
     ]
    },
    {
     "name": "stderr",
     "output_type": "stream",
     "text": [
      "/tmp/ipykernel_18148/1266505323.py:8: DtypeWarning: Columns (7) have mixed types. Specify dtype option on import or set low_memory=False.\n",
      "  for chunk in pd.read_csv(\"/home/charlie/Desktop/master_data.csv\", chunksize=chunk_size):\n",
      "/tmp/ipykernel_18148/1266505323.py:8: DtypeWarning: Columns (7) have mixed types. Specify dtype option on import or set low_memory=False.\n",
      "  for chunk in pd.read_csv(\"/home/charlie/Desktop/master_data.csv\", chunksize=chunk_size):\n"
     ]
    },
    {
     "name": "stdout",
     "output_type": "stream",
     "text": [
      "Missing columns in this chunk: {'tunnel_parents   label   detailed-label'}\n",
      "Missing columns in this chunk: {'tunnel_parents   label   detailed-label'}\n"
     ]
    },
    {
     "name": "stderr",
     "output_type": "stream",
     "text": [
      "/tmp/ipykernel_18148/1266505323.py:8: DtypeWarning: Columns (7) have mixed types. Specify dtype option on import or set low_memory=False.\n",
      "  for chunk in pd.read_csv(\"/home/charlie/Desktop/master_data.csv\", chunksize=chunk_size):\n"
     ]
    },
    {
     "name": "stdout",
     "output_type": "stream",
     "text": [
      "Missing columns in this chunk: {'tunnel_parents   label   detailed-label'}\n",
      "Missing columns in this chunk: {'tunnel_parents   label   detailed-label'}\n"
     ]
    },
    {
     "name": "stderr",
     "output_type": "stream",
     "text": [
      "/tmp/ipykernel_18148/1266505323.py:8: DtypeWarning: Columns (7) have mixed types. Specify dtype option on import or set low_memory=False.\n",
      "  for chunk in pd.read_csv(\"/home/charlie/Desktop/master_data.csv\", chunksize=chunk_size):\n",
      "/tmp/ipykernel_18148/1266505323.py:8: DtypeWarning: Columns (7) have mixed types. Specify dtype option on import or set low_memory=False.\n",
      "  for chunk in pd.read_csv(\"/home/charlie/Desktop/master_data.csv\", chunksize=chunk_size):\n"
     ]
    },
    {
     "name": "stdout",
     "output_type": "stream",
     "text": [
      "Missing columns in this chunk: {'tunnel_parents   label   detailed-label'}\n",
      "Missing columns in this chunk: {'tunnel_parents   label   detailed-label'}\n"
     ]
    },
    {
     "name": "stderr",
     "output_type": "stream",
     "text": [
      "/tmp/ipykernel_18148/1266505323.py:8: DtypeWarning: Columns (7) have mixed types. Specify dtype option on import or set low_memory=False.\n",
      "  for chunk in pd.read_csv(\"/home/charlie/Desktop/master_data.csv\", chunksize=chunk_size):\n",
      "/tmp/ipykernel_18148/1266505323.py:8: DtypeWarning: Columns (7) have mixed types. Specify dtype option on import or set low_memory=False.\n",
      "  for chunk in pd.read_csv(\"/home/charlie/Desktop/master_data.csv\", chunksize=chunk_size):\n"
     ]
    },
    {
     "name": "stdout",
     "output_type": "stream",
     "text": [
      "Missing columns in this chunk: {'tunnel_parents   label   detailed-label'}\n",
      "Missing columns in this chunk: {'tunnel_parents   label   detailed-label'}\n"
     ]
    },
    {
     "name": "stderr",
     "output_type": "stream",
     "text": [
      "/tmp/ipykernel_18148/1266505323.py:8: DtypeWarning: Columns (7) have mixed types. Specify dtype option on import or set low_memory=False.\n",
      "  for chunk in pd.read_csv(\"/home/charlie/Desktop/master_data.csv\", chunksize=chunk_size):\n",
      "/tmp/ipykernel_18148/1266505323.py:8: DtypeWarning: Columns (7) have mixed types. Specify dtype option on import or set low_memory=False.\n",
      "  for chunk in pd.read_csv(\"/home/charlie/Desktop/master_data.csv\", chunksize=chunk_size):\n"
     ]
    },
    {
     "name": "stdout",
     "output_type": "stream",
     "text": [
      "Missing columns in this chunk: {'tunnel_parents   label   detailed-label'}\n",
      "Missing columns in this chunk: {'tunnel_parents   label   detailed-label'}\n",
      "Missing columns in this chunk: {'tunnel_parents   label   detailed-label'}\n"
     ]
    },
    {
     "name": "stderr",
     "output_type": "stream",
     "text": [
      "/tmp/ipykernel_18148/1266505323.py:8: DtypeWarning: Columns (7) have mixed types. Specify dtype option on import or set low_memory=False.\n",
      "  for chunk in pd.read_csv(\"/home/charlie/Desktop/master_data.csv\", chunksize=chunk_size):\n",
      "/tmp/ipykernel_18148/1266505323.py:8: DtypeWarning: Columns (7) have mixed types. Specify dtype option on import or set low_memory=False.\n",
      "  for chunk in pd.read_csv(\"/home/charlie/Desktop/master_data.csv\", chunksize=chunk_size):\n"
     ]
    },
    {
     "name": "stdout",
     "output_type": "stream",
     "text": [
      "Missing columns in this chunk: {'tunnel_parents   label   detailed-label'}\n",
      "Missing columns in this chunk: {'tunnel_parents   label   detailed-label'}\n"
     ]
    },
    {
     "name": "stderr",
     "output_type": "stream",
     "text": [
      "/tmp/ipykernel_18148/1266505323.py:8: DtypeWarning: Columns (7) have mixed types. Specify dtype option on import or set low_memory=False.\n",
      "  for chunk in pd.read_csv(\"/home/charlie/Desktop/master_data.csv\", chunksize=chunk_size):\n"
     ]
    },
    {
     "name": "stdout",
     "output_type": "stream",
     "text": [
      "Missing columns in this chunk: {'tunnel_parents   label   detailed-label'}\n",
      "Missing columns in this chunk: {'tunnel_parents   label   detailed-label'}\n"
     ]
    },
    {
     "name": "stderr",
     "output_type": "stream",
     "text": [
      "/tmp/ipykernel_18148/1266505323.py:8: DtypeWarning: Columns (7) have mixed types. Specify dtype option on import or set low_memory=False.\n",
      "  for chunk in pd.read_csv(\"/home/charlie/Desktop/master_data.csv\", chunksize=chunk_size):\n",
      "/tmp/ipykernel_18148/1266505323.py:8: DtypeWarning: Columns (7) have mixed types. Specify dtype option on import or set low_memory=False.\n",
      "  for chunk in pd.read_csv(\"/home/charlie/Desktop/master_data.csv\", chunksize=chunk_size):\n"
     ]
    },
    {
     "name": "stdout",
     "output_type": "stream",
     "text": [
      "Missing columns in this chunk: {'tunnel_parents   label   detailed-label'}\n",
      "Missing columns in this chunk: {'tunnel_parents   label   detailed-label'}\n"
     ]
    },
    {
     "name": "stderr",
     "output_type": "stream",
     "text": [
      "/tmp/ipykernel_18148/1266505323.py:8: DtypeWarning: Columns (7) have mixed types. Specify dtype option on import or set low_memory=False.\n",
      "  for chunk in pd.read_csv(\"/home/charlie/Desktop/master_data.csv\", chunksize=chunk_size):\n",
      "/tmp/ipykernel_18148/1266505323.py:8: DtypeWarning: Columns (7) have mixed types. Specify dtype option on import or set low_memory=False.\n",
      "  for chunk in pd.read_csv(\"/home/charlie/Desktop/master_data.csv\", chunksize=chunk_size):\n"
     ]
    },
    {
     "name": "stdout",
     "output_type": "stream",
     "text": [
      "Missing columns in this chunk: {'tunnel_parents   label   detailed-label'}\n",
      "Missing columns in this chunk: {'tunnel_parents   label   detailed-label'}\n"
     ]
    },
    {
     "name": "stderr",
     "output_type": "stream",
     "text": [
      "/tmp/ipykernel_18148/1266505323.py:8: DtypeWarning: Columns (7) have mixed types. Specify dtype option on import or set low_memory=False.\n",
      "  for chunk in pd.read_csv(\"/home/charlie/Desktop/master_data.csv\", chunksize=chunk_size):\n"
     ]
    },
    {
     "name": "stdout",
     "output_type": "stream",
     "text": [
      "Missing columns in this chunk: {'tunnel_parents   label   detailed-label'}\n",
      "Missing columns in this chunk: {'tunnel_parents   label   detailed-label'}\n"
     ]
    },
    {
     "name": "stderr",
     "output_type": "stream",
     "text": [
      "/tmp/ipykernel_18148/1266505323.py:8: DtypeWarning: Columns (7) have mixed types. Specify dtype option on import or set low_memory=False.\n",
      "  for chunk in pd.read_csv(\"/home/charlie/Desktop/master_data.csv\", chunksize=chunk_size):\n"
     ]
    },
    {
     "name": "stdout",
     "output_type": "stream",
     "text": [
      "Missing columns in this chunk: {'tunnel_parents   label   detailed-label'}\n",
      "Missing columns in this chunk: {'tunnel_parents   label   detailed-label'}\n"
     ]
    },
    {
     "name": "stderr",
     "output_type": "stream",
     "text": [
      "/tmp/ipykernel_18148/1266505323.py:8: DtypeWarning: Columns (7) have mixed types. Specify dtype option on import or set low_memory=False.\n",
      "  for chunk in pd.read_csv(\"/home/charlie/Desktop/master_data.csv\", chunksize=chunk_size):\n",
      "/tmp/ipykernel_18148/1266505323.py:8: DtypeWarning: Columns (7) have mixed types. Specify dtype option on import or set low_memory=False.\n",
      "  for chunk in pd.read_csv(\"/home/charlie/Desktop/master_data.csv\", chunksize=chunk_size):\n"
     ]
    },
    {
     "name": "stdout",
     "output_type": "stream",
     "text": [
      "Missing columns in this chunk: {'tunnel_parents   label   detailed-label'}\n",
      "Missing columns in this chunk: {'tunnel_parents   label   detailed-label'}\n"
     ]
    },
    {
     "name": "stderr",
     "output_type": "stream",
     "text": [
      "/tmp/ipykernel_18148/1266505323.py:8: DtypeWarning: Columns (7) have mixed types. Specify dtype option on import or set low_memory=False.\n",
      "  for chunk in pd.read_csv(\"/home/charlie/Desktop/master_data.csv\", chunksize=chunk_size):\n"
     ]
    },
    {
     "name": "stdout",
     "output_type": "stream",
     "text": [
      "Missing columns in this chunk: {'tunnel_parents   label   detailed-label'}\n",
      "Missing columns in this chunk: {'tunnel_parents   label   detailed-label'}\n"
     ]
    },
    {
     "name": "stderr",
     "output_type": "stream",
     "text": [
      "/tmp/ipykernel_18148/1266505323.py:8: DtypeWarning: Columns (7) have mixed types. Specify dtype option on import or set low_memory=False.\n",
      "  for chunk in pd.read_csv(\"/home/charlie/Desktop/master_data.csv\", chunksize=chunk_size):\n",
      "/tmp/ipykernel_18148/1266505323.py:8: DtypeWarning: Columns (7) have mixed types. Specify dtype option on import or set low_memory=False.\n",
      "  for chunk in pd.read_csv(\"/home/charlie/Desktop/master_data.csv\", chunksize=chunk_size):\n"
     ]
    },
    {
     "name": "stdout",
     "output_type": "stream",
     "text": [
      "Missing columns in this chunk: {'tunnel_parents   label   detailed-label'}\n",
      "Missing columns in this chunk: {'tunnel_parents   label   detailed-label'}\n"
     ]
    },
    {
     "name": "stderr",
     "output_type": "stream",
     "text": [
      "/tmp/ipykernel_18148/1266505323.py:8: DtypeWarning: Columns (7) have mixed types. Specify dtype option on import or set low_memory=False.\n",
      "  for chunk in pd.read_csv(\"/home/charlie/Desktop/master_data.csv\", chunksize=chunk_size):\n"
     ]
    },
    {
     "name": "stdout",
     "output_type": "stream",
     "text": [
      "Missing columns in this chunk: {'tunnel_parents   label   detailed-label'}\n",
      "Missing columns in this chunk: {'tunnel_parents   label   detailed-label'}\n"
     ]
    },
    {
     "name": "stderr",
     "output_type": "stream",
     "text": [
      "/tmp/ipykernel_18148/1266505323.py:8: DtypeWarning: Columns (7) have mixed types. Specify dtype option on import or set low_memory=False.\n",
      "  for chunk in pd.read_csv(\"/home/charlie/Desktop/master_data.csv\", chunksize=chunk_size):\n",
      "/tmp/ipykernel_18148/1266505323.py:8: DtypeWarning: Columns (7) have mixed types. Specify dtype option on import or set low_memory=False.\n",
      "  for chunk in pd.read_csv(\"/home/charlie/Desktop/master_data.csv\", chunksize=chunk_size):\n"
     ]
    },
    {
     "name": "stdout",
     "output_type": "stream",
     "text": [
      "Missing columns in this chunk: {'tunnel_parents   label   detailed-label'}\n",
      "Missing columns in this chunk: {'tunnel_parents   label   detailed-label'}\n"
     ]
    },
    {
     "name": "stderr",
     "output_type": "stream",
     "text": [
      "/tmp/ipykernel_18148/1266505323.py:8: DtypeWarning: Columns (7) have mixed types. Specify dtype option on import or set low_memory=False.\n",
      "  for chunk in pd.read_csv(\"/home/charlie/Desktop/master_data.csv\", chunksize=chunk_size):\n",
      "/tmp/ipykernel_18148/1266505323.py:8: DtypeWarning: Columns (7) have mixed types. Specify dtype option on import or set low_memory=False.\n",
      "  for chunk in pd.read_csv(\"/home/charlie/Desktop/master_data.csv\", chunksize=chunk_size):\n"
     ]
    },
    {
     "name": "stdout",
     "output_type": "stream",
     "text": [
      "Missing columns in this chunk: {'tunnel_parents   label   detailed-label'}\n",
      "Missing columns in this chunk: {'tunnel_parents   label   detailed-label'}\n",
      "Missing columns in this chunk: {'tunnel_parents   label   detailed-label'}\n"
     ]
    },
    {
     "name": "stderr",
     "output_type": "stream",
     "text": [
      "/tmp/ipykernel_18148/1266505323.py:8: DtypeWarning: Columns (7) have mixed types. Specify dtype option on import or set low_memory=False.\n",
      "  for chunk in pd.read_csv(\"/home/charlie/Desktop/master_data.csv\", chunksize=chunk_size):\n",
      "/tmp/ipykernel_18148/1266505323.py:8: DtypeWarning: Columns (7) have mixed types. Specify dtype option on import or set low_memory=False.\n",
      "  for chunk in pd.read_csv(\"/home/charlie/Desktop/master_data.csv\", chunksize=chunk_size):\n"
     ]
    },
    {
     "name": "stdout",
     "output_type": "stream",
     "text": [
      "Missing columns in this chunk: {'tunnel_parents   label   detailed-label'}\n",
      "Missing columns in this chunk: {'tunnel_parents   label   detailed-label'}\n"
     ]
    },
    {
     "name": "stderr",
     "output_type": "stream",
     "text": [
      "/tmp/ipykernel_18148/1266505323.py:8: DtypeWarning: Columns (7) have mixed types. Specify dtype option on import or set low_memory=False.\n",
      "  for chunk in pd.read_csv(\"/home/charlie/Desktop/master_data.csv\", chunksize=chunk_size):\n",
      "/tmp/ipykernel_18148/1266505323.py:8: DtypeWarning: Columns (7) have mixed types. Specify dtype option on import or set low_memory=False.\n",
      "  for chunk in pd.read_csv(\"/home/charlie/Desktop/master_data.csv\", chunksize=chunk_size):\n"
     ]
    },
    {
     "name": "stdout",
     "output_type": "stream",
     "text": [
      "Missing columns in this chunk: {'tunnel_parents   label   detailed-label'}\n",
      "Missing columns in this chunk: {'tunnel_parents   label   detailed-label'}\n"
     ]
    },
    {
     "name": "stderr",
     "output_type": "stream",
     "text": [
      "/tmp/ipykernel_18148/1266505323.py:8: DtypeWarning: Columns (7) have mixed types. Specify dtype option on import or set low_memory=False.\n",
      "  for chunk in pd.read_csv(\"/home/charlie/Desktop/master_data.csv\", chunksize=chunk_size):\n",
      "/tmp/ipykernel_18148/1266505323.py:8: DtypeWarning: Columns (7) have mixed types. Specify dtype option on import or set low_memory=False.\n",
      "  for chunk in pd.read_csv(\"/home/charlie/Desktop/master_data.csv\", chunksize=chunk_size):\n"
     ]
    },
    {
     "name": "stdout",
     "output_type": "stream",
     "text": [
      "Missing columns in this chunk: {'tunnel_parents   label   detailed-label'}\n",
      "Missing columns in this chunk: {'tunnel_parents   label   detailed-label'}\n"
     ]
    },
    {
     "name": "stderr",
     "output_type": "stream",
     "text": [
      "/tmp/ipykernel_18148/1266505323.py:8: DtypeWarning: Columns (7) have mixed types. Specify dtype option on import or set low_memory=False.\n",
      "  for chunk in pd.read_csv(\"/home/charlie/Desktop/master_data.csv\", chunksize=chunk_size):\n",
      "/tmp/ipykernel_18148/1266505323.py:8: DtypeWarning: Columns (7) have mixed types. Specify dtype option on import or set low_memory=False.\n",
      "  for chunk in pd.read_csv(\"/home/charlie/Desktop/master_data.csv\", chunksize=chunk_size):\n"
     ]
    },
    {
     "name": "stdout",
     "output_type": "stream",
     "text": [
      "Missing columns in this chunk: {'tunnel_parents   label   detailed-label'}\n",
      "Missing columns in this chunk: {'tunnel_parents   label   detailed-label'}\n",
      "Missing columns in this chunk: {'tunnel_parents   label   detailed-label'}\n"
     ]
    },
    {
     "name": "stderr",
     "output_type": "stream",
     "text": [
      "/tmp/ipykernel_18148/1266505323.py:8: DtypeWarning: Columns (7) have mixed types. Specify dtype option on import or set low_memory=False.\n",
      "  for chunk in pd.read_csv(\"/home/charlie/Desktop/master_data.csv\", chunksize=chunk_size):\n",
      "/tmp/ipykernel_18148/1266505323.py:8: DtypeWarning: Columns (7) have mixed types. Specify dtype option on import or set low_memory=False.\n",
      "  for chunk in pd.read_csv(\"/home/charlie/Desktop/master_data.csv\", chunksize=chunk_size):\n"
     ]
    },
    {
     "name": "stdout",
     "output_type": "stream",
     "text": [
      "Missing columns in this chunk: {'tunnel_parents   label   detailed-label'}\n",
      "Missing columns in this chunk: {'tunnel_parents   label   detailed-label'}\n"
     ]
    },
    {
     "name": "stderr",
     "output_type": "stream",
     "text": [
      "/tmp/ipykernel_18148/1266505323.py:8: DtypeWarning: Columns (7) have mixed types. Specify dtype option on import or set low_memory=False.\n",
      "  for chunk in pd.read_csv(\"/home/charlie/Desktop/master_data.csv\", chunksize=chunk_size):\n",
      "/tmp/ipykernel_18148/1266505323.py:8: DtypeWarning: Columns (7) have mixed types. Specify dtype option on import or set low_memory=False.\n",
      "  for chunk in pd.read_csv(\"/home/charlie/Desktop/master_data.csv\", chunksize=chunk_size):\n"
     ]
    },
    {
     "name": "stdout",
     "output_type": "stream",
     "text": [
      "Missing columns in this chunk: {'tunnel_parents   label   detailed-label'}\n",
      "Missing columns in this chunk: {'tunnel_parents   label   detailed-label'}\n"
     ]
    },
    {
     "name": "stderr",
     "output_type": "stream",
     "text": [
      "/tmp/ipykernel_18148/1266505323.py:8: DtypeWarning: Columns (7) have mixed types. Specify dtype option on import or set low_memory=False.\n",
      "  for chunk in pd.read_csv(\"/home/charlie/Desktop/master_data.csv\", chunksize=chunk_size):\n",
      "/tmp/ipykernel_18148/1266505323.py:8: DtypeWarning: Columns (7) have mixed types. Specify dtype option on import or set low_memory=False.\n",
      "  for chunk in pd.read_csv(\"/home/charlie/Desktop/master_data.csv\", chunksize=chunk_size):\n"
     ]
    },
    {
     "name": "stdout",
     "output_type": "stream",
     "text": [
      "Missing columns in this chunk: {'tunnel_parents   label   detailed-label'}\n",
      "Missing columns in this chunk: {'tunnel_parents   label   detailed-label'}\n"
     ]
    },
    {
     "name": "stderr",
     "output_type": "stream",
     "text": [
      "/tmp/ipykernel_18148/1266505323.py:8: DtypeWarning: Columns (7) have mixed types. Specify dtype option on import or set low_memory=False.\n",
      "  for chunk in pd.read_csv(\"/home/charlie/Desktop/master_data.csv\", chunksize=chunk_size):\n",
      "/tmp/ipykernel_18148/1266505323.py:8: DtypeWarning: Columns (7) have mixed types. Specify dtype option on import or set low_memory=False.\n",
      "  for chunk in pd.read_csv(\"/home/charlie/Desktop/master_data.csv\", chunksize=chunk_size):\n"
     ]
    },
    {
     "name": "stdout",
     "output_type": "stream",
     "text": [
      "Missing columns in this chunk: {'tunnel_parents   label   detailed-label'}\n",
      "Missing columns in this chunk: {'tunnel_parents   label   detailed-label'}\n"
     ]
    },
    {
     "name": "stderr",
     "output_type": "stream",
     "text": [
      "/tmp/ipykernel_18148/1266505323.py:8: DtypeWarning: Columns (7) have mixed types. Specify dtype option on import or set low_memory=False.\n",
      "  for chunk in pd.read_csv(\"/home/charlie/Desktop/master_data.csv\", chunksize=chunk_size):\n",
      "/tmp/ipykernel_18148/1266505323.py:8: DtypeWarning: Columns (7) have mixed types. Specify dtype option on import or set low_memory=False.\n",
      "  for chunk in pd.read_csv(\"/home/charlie/Desktop/master_data.csv\", chunksize=chunk_size):\n"
     ]
    },
    {
     "name": "stdout",
     "output_type": "stream",
     "text": [
      "Missing columns in this chunk: {'tunnel_parents   label   detailed-label'}\n",
      "Missing columns in this chunk: {'tunnel_parents   label   detailed-label'}\n"
     ]
    },
    {
     "name": "stderr",
     "output_type": "stream",
     "text": [
      "/tmp/ipykernel_18148/1266505323.py:8: DtypeWarning: Columns (7) have mixed types. Specify dtype option on import or set low_memory=False.\n",
      "  for chunk in pd.read_csv(\"/home/charlie/Desktop/master_data.csv\", chunksize=chunk_size):\n",
      "/tmp/ipykernel_18148/1266505323.py:8: DtypeWarning: Columns (7) have mixed types. Specify dtype option on import or set low_memory=False.\n",
      "  for chunk in pd.read_csv(\"/home/charlie/Desktop/master_data.csv\", chunksize=chunk_size):\n"
     ]
    },
    {
     "name": "stdout",
     "output_type": "stream",
     "text": [
      "Missing columns in this chunk: {'tunnel_parents   label   detailed-label'}\n",
      "Missing columns in this chunk: {'tunnel_parents   label   detailed-label'}\n"
     ]
    },
    {
     "name": "stderr",
     "output_type": "stream",
     "text": [
      "/tmp/ipykernel_18148/1266505323.py:8: DtypeWarning: Columns (7) have mixed types. Specify dtype option on import or set low_memory=False.\n",
      "  for chunk in pd.read_csv(\"/home/charlie/Desktop/master_data.csv\", chunksize=chunk_size):\n",
      "/tmp/ipykernel_18148/1266505323.py:8: DtypeWarning: Columns (7) have mixed types. Specify dtype option on import or set low_memory=False.\n",
      "  for chunk in pd.read_csv(\"/home/charlie/Desktop/master_data.csv\", chunksize=chunk_size):\n"
     ]
    },
    {
     "name": "stdout",
     "output_type": "stream",
     "text": [
      "Missing columns in this chunk: {'tunnel_parents   label   detailed-label'}\n",
      "Missing columns in this chunk: {'tunnel_parents   label   detailed-label'}\n",
      "Missing columns in this chunk: {'tunnel_parents   label   detailed-label'}\n"
     ]
    },
    {
     "name": "stderr",
     "output_type": "stream",
     "text": [
      "/tmp/ipykernel_18148/1266505323.py:8: DtypeWarning: Columns (7) have mixed types. Specify dtype option on import or set low_memory=False.\n",
      "  for chunk in pd.read_csv(\"/home/charlie/Desktop/master_data.csv\", chunksize=chunk_size):\n",
      "/tmp/ipykernel_18148/1266505323.py:8: DtypeWarning: Columns (7) have mixed types. Specify dtype option on import or set low_memory=False.\n",
      "  for chunk in pd.read_csv(\"/home/charlie/Desktop/master_data.csv\", chunksize=chunk_size):\n"
     ]
    },
    {
     "name": "stdout",
     "output_type": "stream",
     "text": [
      "Missing columns in this chunk: {'tunnel_parents   label   detailed-label'}\n",
      "Missing columns in this chunk: {'tunnel_parents   label   detailed-label'}\n"
     ]
    },
    {
     "name": "stderr",
     "output_type": "stream",
     "text": [
      "/tmp/ipykernel_18148/1266505323.py:8: DtypeWarning: Columns (7) have mixed types. Specify dtype option on import or set low_memory=False.\n",
      "  for chunk in pd.read_csv(\"/home/charlie/Desktop/master_data.csv\", chunksize=chunk_size):\n",
      "/tmp/ipykernel_18148/1266505323.py:8: DtypeWarning: Columns (7) have mixed types. Specify dtype option on import or set low_memory=False.\n",
      "  for chunk in pd.read_csv(\"/home/charlie/Desktop/master_data.csv\", chunksize=chunk_size):\n"
     ]
    },
    {
     "name": "stdout",
     "output_type": "stream",
     "text": [
      "Missing columns in this chunk: {'tunnel_parents   label   detailed-label'}\n",
      "Missing columns in this chunk: {'tunnel_parents   label   detailed-label'}\n",
      "Missing columns in this chunk: {'tunnel_parents   label   detailed-label'}\n",
      "Missing columns in this chunk: {'tunnel_parents   label   detailed-label'}\n"
     ]
    },
    {
     "name": "stderr",
     "output_type": "stream",
     "text": [
      "/tmp/ipykernel_18148/1266505323.py:8: DtypeWarning: Columns (7) have mixed types. Specify dtype option on import or set low_memory=False.\n",
      "  for chunk in pd.read_csv(\"/home/charlie/Desktop/master_data.csv\", chunksize=chunk_size):\n",
      "/tmp/ipykernel_18148/1266505323.py:8: DtypeWarning: Columns (7) have mixed types. Specify dtype option on import or set low_memory=False.\n",
      "  for chunk in pd.read_csv(\"/home/charlie/Desktop/master_data.csv\", chunksize=chunk_size):\n"
     ]
    },
    {
     "name": "stdout",
     "output_type": "stream",
     "text": [
      "Missing columns in this chunk: {'tunnel_parents   label   detailed-label'}\n",
      "Missing columns in this chunk: {'tunnel_parents   label   detailed-label'}\n"
     ]
    },
    {
     "name": "stderr",
     "output_type": "stream",
     "text": [
      "/tmp/ipykernel_18148/1266505323.py:8: DtypeWarning: Columns (7) have mixed types. Specify dtype option on import or set low_memory=False.\n",
      "  for chunk in pd.read_csv(\"/home/charlie/Desktop/master_data.csv\", chunksize=chunk_size):\n",
      "/tmp/ipykernel_18148/1266505323.py:8: DtypeWarning: Columns (7) have mixed types. Specify dtype option on import or set low_memory=False.\n",
      "  for chunk in pd.read_csv(\"/home/charlie/Desktop/master_data.csv\", chunksize=chunk_size):\n"
     ]
    },
    {
     "name": "stdout",
     "output_type": "stream",
     "text": [
      "Missing columns in this chunk: {'tunnel_parents   label   detailed-label'}\n",
      "Missing columns in this chunk: {'tunnel_parents   label   detailed-label'}\n"
     ]
    },
    {
     "name": "stderr",
     "output_type": "stream",
     "text": [
      "/tmp/ipykernel_18148/1266505323.py:8: DtypeWarning: Columns (7) have mixed types. Specify dtype option on import or set low_memory=False.\n",
      "  for chunk in pd.read_csv(\"/home/charlie/Desktop/master_data.csv\", chunksize=chunk_size):\n",
      "/tmp/ipykernel_18148/1266505323.py:8: DtypeWarning: Columns (7) have mixed types. Specify dtype option on import or set low_memory=False.\n",
      "  for chunk in pd.read_csv(\"/home/charlie/Desktop/master_data.csv\", chunksize=chunk_size):\n"
     ]
    },
    {
     "name": "stdout",
     "output_type": "stream",
     "text": [
      "Missing columns in this chunk: {'tunnel_parents   label   detailed-label'}\n",
      "Missing columns in this chunk: {'tunnel_parents   label   detailed-label'}\n"
     ]
    },
    {
     "name": "stderr",
     "output_type": "stream",
     "text": [
      "/tmp/ipykernel_18148/1266505323.py:8: DtypeWarning: Columns (7) have mixed types. Specify dtype option on import or set low_memory=False.\n",
      "  for chunk in pd.read_csv(\"/home/charlie/Desktop/master_data.csv\", chunksize=chunk_size):\n"
     ]
    },
    {
     "name": "stdout",
     "output_type": "stream",
     "text": [
      "Missing columns in this chunk: {'tunnel_parents   label   detailed-label'}\n",
      "Missing columns in this chunk: {'tunnel_parents   label   detailed-label'}\n"
     ]
    },
    {
     "name": "stderr",
     "output_type": "stream",
     "text": [
      "/tmp/ipykernel_18148/1266505323.py:8: DtypeWarning: Columns (7) have mixed types. Specify dtype option on import or set low_memory=False.\n",
      "  for chunk in pd.read_csv(\"/home/charlie/Desktop/master_data.csv\", chunksize=chunk_size):\n"
     ]
    },
    {
     "name": "stdout",
     "output_type": "stream",
     "text": [
      "Missing columns in this chunk: {'tunnel_parents   label   detailed-label'}\n",
      "Missing columns in this chunk: {'tunnel_parents   label   detailed-label'}\n"
     ]
    },
    {
     "name": "stderr",
     "output_type": "stream",
     "text": [
      "/tmp/ipykernel_18148/1266505323.py:8: DtypeWarning: Columns (7) have mixed types. Specify dtype option on import or set low_memory=False.\n",
      "  for chunk in pd.read_csv(\"/home/charlie/Desktop/master_data.csv\", chunksize=chunk_size):\n",
      "/tmp/ipykernel_18148/1266505323.py:8: DtypeWarning: Columns (7) have mixed types. Specify dtype option on import or set low_memory=False.\n",
      "  for chunk in pd.read_csv(\"/home/charlie/Desktop/master_data.csv\", chunksize=chunk_size):\n"
     ]
    },
    {
     "name": "stdout",
     "output_type": "stream",
     "text": [
      "Missing columns in this chunk: {'tunnel_parents   label   detailed-label'}\n",
      "Missing columns in this chunk: {'tunnel_parents   label   detailed-label'}\n",
      "Missing columns in this chunk: {'tunnel_parents   label   detailed-label'}\n"
     ]
    },
    {
     "name": "stderr",
     "output_type": "stream",
     "text": [
      "/tmp/ipykernel_18148/1266505323.py:8: DtypeWarning: Columns (7) have mixed types. Specify dtype option on import or set low_memory=False.\n",
      "  for chunk in pd.read_csv(\"/home/charlie/Desktop/master_data.csv\", chunksize=chunk_size):\n",
      "/tmp/ipykernel_18148/1266505323.py:8: DtypeWarning: Columns (7) have mixed types. Specify dtype option on import or set low_memory=False.\n",
      "  for chunk in pd.read_csv(\"/home/charlie/Desktop/master_data.csv\", chunksize=chunk_size):\n"
     ]
    },
    {
     "name": "stdout",
     "output_type": "stream",
     "text": [
      "Missing columns in this chunk: {'tunnel_parents   label   detailed-label'}\n",
      "Missing columns in this chunk: {'tunnel_parents   label   detailed-label'}\n"
     ]
    },
    {
     "name": "stderr",
     "output_type": "stream",
     "text": [
      "/tmp/ipykernel_18148/1266505323.py:8: DtypeWarning: Columns (7) have mixed types. Specify dtype option on import or set low_memory=False.\n",
      "  for chunk in pd.read_csv(\"/home/charlie/Desktop/master_data.csv\", chunksize=chunk_size):\n"
     ]
    },
    {
     "name": "stdout",
     "output_type": "stream",
     "text": [
      "Missing columns in this chunk: {'tunnel_parents   label   detailed-label'}\n",
      "Missing columns in this chunk: {'tunnel_parents   label   detailed-label'}\n",
      "Missing columns in this chunk: {'tunnel_parents   label   detailed-label'}\n"
     ]
    },
    {
     "name": "stderr",
     "output_type": "stream",
     "text": [
      "/tmp/ipykernel_18148/1266505323.py:8: DtypeWarning: Columns (7) have mixed types. Specify dtype option on import or set low_memory=False.\n",
      "  for chunk in pd.read_csv(\"/home/charlie/Desktop/master_data.csv\", chunksize=chunk_size):\n",
      "/tmp/ipykernel_18148/1266505323.py:8: DtypeWarning: Columns (7) have mixed types. Specify dtype option on import or set low_memory=False.\n",
      "  for chunk in pd.read_csv(\"/home/charlie/Desktop/master_data.csv\", chunksize=chunk_size):\n"
     ]
    },
    {
     "name": "stdout",
     "output_type": "stream",
     "text": [
      "Missing columns in this chunk: {'tunnel_parents   label   detailed-label'}\n",
      "Missing columns in this chunk: {'tunnel_parents   label   detailed-label'}\n"
     ]
    },
    {
     "name": "stderr",
     "output_type": "stream",
     "text": [
      "/tmp/ipykernel_18148/1266505323.py:8: DtypeWarning: Columns (7) have mixed types. Specify dtype option on import or set low_memory=False.\n",
      "  for chunk in pd.read_csv(\"/home/charlie/Desktop/master_data.csv\", chunksize=chunk_size):\n",
      "/tmp/ipykernel_18148/1266505323.py:8: DtypeWarning: Columns (7) have mixed types. Specify dtype option on import or set low_memory=False.\n",
      "  for chunk in pd.read_csv(\"/home/charlie/Desktop/master_data.csv\", chunksize=chunk_size):\n"
     ]
    },
    {
     "name": "stdout",
     "output_type": "stream",
     "text": [
      "Missing columns in this chunk: {'tunnel_parents   label   detailed-label'}\n",
      "Missing columns in this chunk: {'tunnel_parents   label   detailed-label'}\n",
      "Missing columns in this chunk: {'tunnel_parents   label   detailed-label'}\n"
     ]
    },
    {
     "name": "stderr",
     "output_type": "stream",
     "text": [
      "/tmp/ipykernel_18148/1266505323.py:8: DtypeWarning: Columns (7) have mixed types. Specify dtype option on import or set low_memory=False.\n",
      "  for chunk in pd.read_csv(\"/home/charlie/Desktop/master_data.csv\", chunksize=chunk_size):\n",
      "/tmp/ipykernel_18148/1266505323.py:8: DtypeWarning: Columns (7) have mixed types. Specify dtype option on import or set low_memory=False.\n",
      "  for chunk in pd.read_csv(\"/home/charlie/Desktop/master_data.csv\", chunksize=chunk_size):\n"
     ]
    },
    {
     "name": "stdout",
     "output_type": "stream",
     "text": [
      "Missing columns in this chunk: {'tunnel_parents   label   detailed-label'}\n",
      "Missing columns in this chunk: {'tunnel_parents   label   detailed-label'}\n"
     ]
    },
    {
     "name": "stderr",
     "output_type": "stream",
     "text": [
      "/tmp/ipykernel_18148/1266505323.py:8: DtypeWarning: Columns (7) have mixed types. Specify dtype option on import or set low_memory=False.\n",
      "  for chunk in pd.read_csv(\"/home/charlie/Desktop/master_data.csv\", chunksize=chunk_size):\n",
      "/tmp/ipykernel_18148/1266505323.py:8: DtypeWarning: Columns (7) have mixed types. Specify dtype option on import or set low_memory=False.\n",
      "  for chunk in pd.read_csv(\"/home/charlie/Desktop/master_data.csv\", chunksize=chunk_size):\n"
     ]
    },
    {
     "name": "stdout",
     "output_type": "stream",
     "text": [
      "Missing columns in this chunk: {'tunnel_parents   label   detailed-label'}\n",
      "Missing columns in this chunk: {'tunnel_parents   label   detailed-label'}\n"
     ]
    },
    {
     "name": "stderr",
     "output_type": "stream",
     "text": [
      "/tmp/ipykernel_18148/1266505323.py:8: DtypeWarning: Columns (7) have mixed types. Specify dtype option on import or set low_memory=False.\n",
      "  for chunk in pd.read_csv(\"/home/charlie/Desktop/master_data.csv\", chunksize=chunk_size):\n",
      "/tmp/ipykernel_18148/1266505323.py:8: DtypeWarning: Columns (7) have mixed types. Specify dtype option on import or set low_memory=False.\n",
      "  for chunk in pd.read_csv(\"/home/charlie/Desktop/master_data.csv\", chunksize=chunk_size):\n"
     ]
    },
    {
     "name": "stdout",
     "output_type": "stream",
     "text": [
      "Missing columns in this chunk: {'tunnel_parents   label   detailed-label'}\n",
      "Missing columns in this chunk: {'tunnel_parents   label   detailed-label'}\n"
     ]
    },
    {
     "name": "stderr",
     "output_type": "stream",
     "text": [
      "/tmp/ipykernel_18148/1266505323.py:8: DtypeWarning: Columns (7) have mixed types. Specify dtype option on import or set low_memory=False.\n",
      "  for chunk in pd.read_csv(\"/home/charlie/Desktop/master_data.csv\", chunksize=chunk_size):\n",
      "/tmp/ipykernel_18148/1266505323.py:8: DtypeWarning: Columns (7) have mixed types. Specify dtype option on import or set low_memory=False.\n",
      "  for chunk in pd.read_csv(\"/home/charlie/Desktop/master_data.csv\", chunksize=chunk_size):\n"
     ]
    },
    {
     "name": "stdout",
     "output_type": "stream",
     "text": [
      "Missing columns in this chunk: {'tunnel_parents   label   detailed-label'}\n",
      "Missing columns in this chunk: {'tunnel_parents   label   detailed-label'}\n"
     ]
    },
    {
     "name": "stderr",
     "output_type": "stream",
     "text": [
      "/tmp/ipykernel_18148/1266505323.py:8: DtypeWarning: Columns (7) have mixed types. Specify dtype option on import or set low_memory=False.\n",
      "  for chunk in pd.read_csv(\"/home/charlie/Desktop/master_data.csv\", chunksize=chunk_size):\n",
      "/tmp/ipykernel_18148/1266505323.py:8: DtypeWarning: Columns (7) have mixed types. Specify dtype option on import or set low_memory=False.\n",
      "  for chunk in pd.read_csv(\"/home/charlie/Desktop/master_data.csv\", chunksize=chunk_size):\n"
     ]
    },
    {
     "name": "stdout",
     "output_type": "stream",
     "text": [
      "Missing columns in this chunk: {'tunnel_parents   label   detailed-label'}\n",
      "Missing columns in this chunk: {'tunnel_parents   label   detailed-label'}\n"
     ]
    },
    {
     "name": "stderr",
     "output_type": "stream",
     "text": [
      "/tmp/ipykernel_18148/1266505323.py:8: DtypeWarning: Columns (7) have mixed types. Specify dtype option on import or set low_memory=False.\n",
      "  for chunk in pd.read_csv(\"/home/charlie/Desktop/master_data.csv\", chunksize=chunk_size):\n",
      "/tmp/ipykernel_18148/1266505323.py:8: DtypeWarning: Columns (7) have mixed types. Specify dtype option on import or set low_memory=False.\n",
      "  for chunk in pd.read_csv(\"/home/charlie/Desktop/master_data.csv\", chunksize=chunk_size):\n"
     ]
    },
    {
     "name": "stdout",
     "output_type": "stream",
     "text": [
      "Missing columns in this chunk: {'tunnel_parents   label   detailed-label'}\n",
      "Missing columns in this chunk: {'tunnel_parents   label   detailed-label'}\n"
     ]
    },
    {
     "name": "stderr",
     "output_type": "stream",
     "text": [
      "/tmp/ipykernel_18148/1266505323.py:8: DtypeWarning: Columns (7) have mixed types. Specify dtype option on import or set low_memory=False.\n",
      "  for chunk in pd.read_csv(\"/home/charlie/Desktop/master_data.csv\", chunksize=chunk_size):\n",
      "/tmp/ipykernel_18148/1266505323.py:8: DtypeWarning: Columns (7) have mixed types. Specify dtype option on import or set low_memory=False.\n",
      "  for chunk in pd.read_csv(\"/home/charlie/Desktop/master_data.csv\", chunksize=chunk_size):\n"
     ]
    },
    {
     "name": "stdout",
     "output_type": "stream",
     "text": [
      "Missing columns in this chunk: {'tunnel_parents   label   detailed-label'}\n",
      "Missing columns in this chunk: {'tunnel_parents   label   detailed-label'}\n",
      "Missing columns in this chunk: {'tunnel_parents   label   detailed-label'}\n"
     ]
    },
    {
     "name": "stderr",
     "output_type": "stream",
     "text": [
      "/tmp/ipykernel_18148/1266505323.py:8: DtypeWarning: Columns (7) have mixed types. Specify dtype option on import or set low_memory=False.\n",
      "  for chunk in pd.read_csv(\"/home/charlie/Desktop/master_data.csv\", chunksize=chunk_size):\n"
     ]
    },
    {
     "name": "stdout",
     "output_type": "stream",
     "text": [
      "Missing columns in this chunk: {'tunnel_parents   label   detailed-label'}\n",
      "Missing columns in this chunk: {'tunnel_parents   label   detailed-label'}\n"
     ]
    },
    {
     "name": "stderr",
     "output_type": "stream",
     "text": [
      "/tmp/ipykernel_18148/1266505323.py:8: DtypeWarning: Columns (7) have mixed types. Specify dtype option on import or set low_memory=False.\n",
      "  for chunk in pd.read_csv(\"/home/charlie/Desktop/master_data.csv\", chunksize=chunk_size):\n"
     ]
    },
    {
     "name": "stdout",
     "output_type": "stream",
     "text": [
      "Missing columns in this chunk: {'tunnel_parents   label   detailed-label'}\n",
      "Missing columns in this chunk: {'tunnel_parents   label   detailed-label'}\n"
     ]
    },
    {
     "name": "stderr",
     "output_type": "stream",
     "text": [
      "/tmp/ipykernel_18148/1266505323.py:8: DtypeWarning: Columns (7) have mixed types. Specify dtype option on import or set low_memory=False.\n",
      "  for chunk in pd.read_csv(\"/home/charlie/Desktop/master_data.csv\", chunksize=chunk_size):\n",
      "/tmp/ipykernel_18148/1266505323.py:8: DtypeWarning: Columns (7) have mixed types. Specify dtype option on import or set low_memory=False.\n",
      "  for chunk in pd.read_csv(\"/home/charlie/Desktop/master_data.csv\", chunksize=chunk_size):\n"
     ]
    },
    {
     "name": "stdout",
     "output_type": "stream",
     "text": [
      "Missing columns in this chunk: {'tunnel_parents   label   detailed-label'}\n",
      "Missing columns in this chunk: {'tunnel_parents   label   detailed-label'}\n"
     ]
    },
    {
     "name": "stderr",
     "output_type": "stream",
     "text": [
      "/tmp/ipykernel_18148/1266505323.py:8: DtypeWarning: Columns (7) have mixed types. Specify dtype option on import or set low_memory=False.\n",
      "  for chunk in pd.read_csv(\"/home/charlie/Desktop/master_data.csv\", chunksize=chunk_size):\n",
      "/tmp/ipykernel_18148/1266505323.py:8: DtypeWarning: Columns (7) have mixed types. Specify dtype option on import or set low_memory=False.\n",
      "  for chunk in pd.read_csv(\"/home/charlie/Desktop/master_data.csv\", chunksize=chunk_size):\n"
     ]
    },
    {
     "name": "stdout",
     "output_type": "stream",
     "text": [
      "Missing columns in this chunk: {'tunnel_parents   label   detailed-label'}\n",
      "Missing columns in this chunk: {'tunnel_parents   label   detailed-label'}\n",
      "Missing columns in this chunk: {'tunnel_parents   label   detailed-label'}\n",
      "Missing columns in this chunk: {'tunnel_parents   label   detailed-label'}\n",
      "Missing columns in this chunk: {'tunnel_parents   label   detailed-label'}\n",
      "Missing columns in this chunk: {'tunnel_parents   label   detailed-label'}\n",
      "Missing columns in this chunk: {'tunnel_parents   label   detailed-label'}\n",
      "Missing columns in this chunk: {'tunnel_parents   label   detailed-label'}\n",
      "Missing columns in this chunk: {'tunnel_parents   label   detailed-label'}\n",
      "Missing columns in this chunk: {'tunnel_parents   label   detailed-label'}\n",
      "Missing columns in this chunk: {'tunnel_parents   label   detailed-label'}\n",
      "Missing columns in this chunk: {'tunnel_parents   label   detailed-label'}\n",
      "Missing columns in this chunk: {'tunnel_parents   label   detailed-label'}\n",
      "Missing columns in this chunk: {'tunnel_parents   label   detailed-label'}\n",
      "Missing columns in this chunk: {'tunnel_parents   label   detailed-label'}\n",
      "Missing columns in this chunk: {'tunnel_parents   label   detailed-label'}\n",
      "Missing columns in this chunk: {'tunnel_parents   label   detailed-label'}\n",
      "Missing columns in this chunk: {'tunnel_parents   label   detailed-label'}\n",
      "Missing columns in this chunk: {'tunnel_parents   label   detailed-label'}\n",
      "Missing columns in this chunk: {'tunnel_parents   label   detailed-label'}\n",
      "Missing columns in this chunk: {'tunnel_parents   label   detailed-label'}\n",
      "Missing columns in this chunk: {'tunnel_parents   label   detailed-label'}\n",
      "Missing columns in this chunk: {'tunnel_parents   label   detailed-label'}\n"
     ]
    },
    {
     "name": "stderr",
     "output_type": "stream",
     "text": [
      "/tmp/ipykernel_18148/1266505323.py:8: DtypeWarning: Columns (7) have mixed types. Specify dtype option on import or set low_memory=False.\n",
      "  for chunk in pd.read_csv(\"/home/charlie/Desktop/master_data.csv\", chunksize=chunk_size):\n"
     ]
    },
    {
     "name": "stdout",
     "output_type": "stream",
     "text": [
      "Missing columns in this chunk: {'tunnel_parents   label   detailed-label'}\n",
      "Missing columns in this chunk: {'tunnel_parents   label   detailed-label'}\n",
      "Missing columns in this chunk: {'tunnel_parents   label   detailed-label'}\n",
      "Missing columns in this chunk: {'tunnel_parents   label   detailed-label'}\n",
      "Missing columns in this chunk: {'tunnel_parents   label   detailed-label'}\n",
      "Missing columns in this chunk: {'tunnel_parents   label   detailed-label'}\n",
      "Missing columns in this chunk: {'tunnel_parents   label   detailed-label'}\n",
      "Missing columns in this chunk: {'tunnel_parents   label   detailed-label'}\n",
      "Missing columns in this chunk: {'tunnel_parents   label   detailed-label'}\n",
      "Missing columns in this chunk: {'tunnel_parents   label   detailed-label'}\n",
      "Missing columns in this chunk: {'tunnel_parents   label   detailed-label'}\n",
      "Missing columns in this chunk: {'tunnel_parents   label   detailed-label'}\n",
      "Missing columns in this chunk: {'tunnel_parents   label   detailed-label'}\n",
      "Missing columns in this chunk: {'tunnel_parents   label   detailed-label'}\n",
      "Missing columns in this chunk: {'tunnel_parents   label   detailed-label'}\n",
      "Missing columns in this chunk: {'tunnel_parents   label   detailed-label'}\n",
      "Missing columns in this chunk: {'tunnel_parents   label   detailed-label'}\n",
      "Missing columns in this chunk: {'tunnel_parents   label   detailed-label'}\n",
      "Missing columns in this chunk: {'tunnel_parents   label   detailed-label'}\n",
      "Missing columns in this chunk: {'tunnel_parents   label   detailed-label'}\n",
      "Missing columns in this chunk: {'tunnel_parents   label   detailed-label'}\n",
      "Missing columns in this chunk: {'tunnel_parents   label   detailed-label'}\n",
      "Missing columns in this chunk: {'tunnel_parents   label   detailed-label'}\n",
      "Missing columns in this chunk: {'tunnel_parents   label   detailed-label'}\n",
      "Missing columns in this chunk: {'tunnel_parents   label   detailed-label'}\n",
      "Missing columns in this chunk: {'tunnel_parents   label   detailed-label'}\n",
      "Missing columns in this chunk: {'tunnel_parents   label   detailed-label'}\n",
      "Missing columns in this chunk: {'tunnel_parents   label   detailed-label'}\n",
      "Missing columns in this chunk: {'tunnel_parents   label   detailed-label'}\n",
      "Missing columns in this chunk: {'tunnel_parents   label   detailed-label'}\n",
      "Missing columns in this chunk: {'tunnel_parents   label   detailed-label'}\n",
      "Missing columns in this chunk: {'tunnel_parents   label   detailed-label'}\n",
      "Missing columns in this chunk: {'tunnel_parents   label   detailed-label'}\n",
      "Missing columns in this chunk: {'tunnel_parents   label   detailed-label'}\n",
      "Missing columns in this chunk: {'tunnel_parents   label   detailed-label'}\n",
      "Missing columns in this chunk: {'tunnel_parents   label   detailed-label'}\n",
      "Missing columns in this chunk: {'tunnel_parents   label   detailed-label'}\n",
      "Missing columns in this chunk: {'tunnel_parents   label   detailed-label'}\n",
      "Missing columns in this chunk: {'tunnel_parents   label   detailed-label'}\n",
      "Missing columns in this chunk: {'tunnel_parents   label   detailed-label'}\n",
      "Missing columns in this chunk: {'tunnel_parents   label   detailed-label'}\n",
      "Missing columns in this chunk: {'tunnel_parents   label   detailed-label'}\n",
      "Missing columns in this chunk: {'tunnel_parents   label   detailed-label'}\n",
      "Missing columns in this chunk: {'tunnel_parents   label   detailed-label'}\n",
      "Missing columns in this chunk: {'tunnel_parents   label   detailed-label'}\n",
      "Missing columns in this chunk: {'tunnel_parents   label   detailed-label'}\n",
      "Missing columns in this chunk: {'tunnel_parents   label   detailed-label'}\n",
      "Missing columns in this chunk: {'tunnel_parents   label   detailed-label'}\n",
      "Missing columns in this chunk: {'tunnel_parents   label   detailed-label'}\n",
      "Missing columns in this chunk: {'tunnel_parents   label   detailed-label'}\n",
      "Missing columns in this chunk: {'tunnel_parents   label   detailed-label'}\n",
      "Missing columns in this chunk: {'tunnel_parents   label   detailed-label'}\n",
      "Missing columns in this chunk: {'tunnel_parents   label   detailed-label'}\n",
      "Missing columns in this chunk: {'tunnel_parents   label   detailed-label'}\n",
      "Missing columns in this chunk: {'tunnel_parents   label   detailed-label'}\n",
      "Missing columns in this chunk: {'tunnel_parents   label   detailed-label'}\n",
      "Missing columns in this chunk: {'tunnel_parents   label   detailed-label'}\n",
      "Missing columns in this chunk: {'tunnel_parents   label   detailed-label'}\n",
      "Missing columns in this chunk: {'tunnel_parents   label   detailed-label'}\n",
      "Missing columns in this chunk: {'tunnel_parents   label   detailed-label'}\n",
      "Missing columns in this chunk: {'tunnel_parents   label   detailed-label'}\n",
      "Missing columns in this chunk: {'tunnel_parents   label   detailed-label'}\n",
      "Missing columns in this chunk: {'tunnel_parents   label   detailed-label'}\n",
      "Missing columns in this chunk: {'tunnel_parents   label   detailed-label'}\n",
      "Missing columns in this chunk: {'tunnel_parents   label   detailed-label'}\n",
      "Missing columns in this chunk: {'tunnel_parents   label   detailed-label'}\n",
      "Missing columns in this chunk: {'tunnel_parents   label   detailed-label'}\n",
      "Missing columns in this chunk: {'tunnel_parents   label   detailed-label'}\n",
      "Missing columns in this chunk: {'tunnel_parents   label   detailed-label'}\n",
      "Missing columns in this chunk: {'tunnel_parents   label   detailed-label'}\n",
      "Missing columns in this chunk: {'tunnel_parents   label   detailed-label'}\n",
      "Missing columns in this chunk: {'tunnel_parents   label   detailed-label'}\n",
      "Missing columns in this chunk: {'tunnel_parents   label   detailed-label'}\n",
      "Missing columns in this chunk: {'tunnel_parents   label   detailed-label'}\n",
      "Missing columns in this chunk: {'tunnel_parents   label   detailed-label'}\n",
      "Missing columns in this chunk: {'tunnel_parents   label   detailed-label'}\n",
      "Missing columns in this chunk: {'tunnel_parents   label   detailed-label'}\n",
      "Missing columns in this chunk: {'tunnel_parents   label   detailed-label'}\n",
      "Missing columns in this chunk: {'tunnel_parents   label   detailed-label'}\n",
      "Missing columns in this chunk: {'tunnel_parents   label   detailed-label'}\n",
      "Missing columns in this chunk: {'tunnel_parents   label   detailed-label'}\n",
      "Missing columns in this chunk: {'tunnel_parents   label   detailed-label'}\n",
      "Missing columns in this chunk: {'tunnel_parents   label   detailed-label'}\n",
      "Missing columns in this chunk: {'tunnel_parents   label   detailed-label'}\n",
      "Missing columns in this chunk: {'tunnel_parents   label   detailed-label'}\n",
      "Missing columns in this chunk: {'tunnel_parents   label   detailed-label'}\n",
      "Missing columns in this chunk: {'tunnel_parents   label   detailed-label'}\n",
      "Missing columns in this chunk: {'tunnel_parents   label   detailed-label'}\n",
      "Missing columns in this chunk: {'tunnel_parents   label   detailed-label'}\n",
      "Missing columns in this chunk: {'tunnel_parents   label   detailed-label'}\n",
      "Missing columns in this chunk: {'tunnel_parents   label   detailed-label'}\n",
      "Missing columns in this chunk: {'tunnel_parents   label   detailed-label'}\n",
      "Missing columns in this chunk: {'tunnel_parents   label   detailed-label'}\n",
      "Missing columns in this chunk: {'tunnel_parents   label   detailed-label'}\n",
      "Missing columns in this chunk: {'tunnel_parents   label   detailed-label'}\n",
      "Missing columns in this chunk: {'tunnel_parents   label   detailed-label'}\n",
      "Missing columns in this chunk: {'tunnel_parents   label   detailed-label'}\n",
      "Missing columns in this chunk: {'tunnel_parents   label   detailed-label'}\n",
      "Missing columns in this chunk: {'tunnel_parents   label   detailed-label'}\n",
      "Missing columns in this chunk: {'tunnel_parents   label   detailed-label'}\n",
      "Missing columns in this chunk: {'tunnel_parents   label   detailed-label'}\n",
      "Missing columns in this chunk: {'tunnel_parents   label   detailed-label'}\n",
      "Missing columns in this chunk: {'tunnel_parents   label   detailed-label'}\n",
      "Missing columns in this chunk: {'tunnel_parents   label   detailed-label'}\n",
      "Missing columns in this chunk: {'tunnel_parents   label   detailed-label'}\n",
      "Missing columns in this chunk: {'tunnel_parents   label   detailed-label'}\n",
      "Missing columns in this chunk: {'tunnel_parents   label   detailed-label'}\n",
      "Missing columns in this chunk: {'tunnel_parents   label   detailed-label'}\n",
      "Missing columns in this chunk: {'tunnel_parents   label   detailed-label'}\n",
      "Missing columns in this chunk: {'tunnel_parents   label   detailed-label'}\n",
      "Missing columns in this chunk: {'tunnel_parents   label   detailed-label'}\n",
      "Missing columns in this chunk: {'tunnel_parents   label   detailed-label'}\n",
      "Missing columns in this chunk: {'tunnel_parents   label   detailed-label'}\n",
      "Missing columns in this chunk: {'tunnel_parents   label   detailed-label'}\n",
      "Missing columns in this chunk: {'tunnel_parents   label   detailed-label'}\n",
      "Missing columns in this chunk: {'tunnel_parents   label   detailed-label'}\n",
      "Missing columns in this chunk: {'tunnel_parents   label   detailed-label'}\n",
      "Missing columns in this chunk: {'tunnel_parents   label   detailed-label'}\n",
      "Missing columns in this chunk: {'tunnel_parents   label   detailed-label'}\n",
      "Missing columns in this chunk: {'tunnel_parents   label   detailed-label'}\n",
      "Missing columns in this chunk: {'tunnel_parents   label   detailed-label'}\n",
      "Missing columns in this chunk: {'tunnel_parents   label   detailed-label'}\n",
      "Missing columns in this chunk: {'tunnel_parents   label   detailed-label'}\n",
      "Missing columns in this chunk: {'tunnel_parents   label   detailed-label'}\n",
      "Missing columns in this chunk: {'tunnel_parents   label   detailed-label'}\n",
      "Missing columns in this chunk: {'tunnel_parents   label   detailed-label'}\n",
      "Missing columns in this chunk: {'tunnel_parents   label   detailed-label'}\n",
      "Missing columns in this chunk: {'tunnel_parents   label   detailed-label'}\n",
      "Missing columns in this chunk: {'tunnel_parents   label   detailed-label'}\n",
      "Missing columns in this chunk: {'tunnel_parents   label   detailed-label'}\n",
      "Missing columns in this chunk: {'tunnel_parents   label   detailed-label'}\n",
      "Missing columns in this chunk: {'tunnel_parents   label   detailed-label'}\n",
      "Missing columns in this chunk: {'tunnel_parents   label   detailed-label'}\n"
     ]
    },
    {
     "name": "stderr",
     "output_type": "stream",
     "text": [
      "/tmp/ipykernel_18148/1266505323.py:8: DtypeWarning: Columns (7) have mixed types. Specify dtype option on import or set low_memory=False.\n",
      "  for chunk in pd.read_csv(\"/home/charlie/Desktop/master_data.csv\", chunksize=chunk_size):\n"
     ]
    },
    {
     "name": "stdout",
     "output_type": "stream",
     "text": [
      "Missing columns in this chunk: {'tunnel_parents   label   detailed-label'}\n",
      "Missing columns in this chunk: {'tunnel_parents   label   detailed-label'}\n"
     ]
    },
    {
     "name": "stderr",
     "output_type": "stream",
     "text": [
      "/tmp/ipykernel_18148/1266505323.py:8: DtypeWarning: Columns (7) have mixed types. Specify dtype option on import or set low_memory=False.\n",
      "  for chunk in pd.read_csv(\"/home/charlie/Desktop/master_data.csv\", chunksize=chunk_size):\n"
     ]
    },
    {
     "name": "stdout",
     "output_type": "stream",
     "text": [
      "Missing columns in this chunk: {'tunnel_parents   label   detailed-label'}\n",
      "Missing columns in this chunk: {'tunnel_parents   label   detailed-label'}\n"
     ]
    },
    {
     "name": "stderr",
     "output_type": "stream",
     "text": [
      "/tmp/ipykernel_18148/1266505323.py:8: DtypeWarning: Columns (7) have mixed types. Specify dtype option on import or set low_memory=False.\n",
      "  for chunk in pd.read_csv(\"/home/charlie/Desktop/master_data.csv\", chunksize=chunk_size):\n"
     ]
    },
    {
     "name": "stdout",
     "output_type": "stream",
     "text": [
      "Missing columns in this chunk: {'tunnel_parents   label   detailed-label'}\n",
      "Missing columns in this chunk: {'tunnel_parents   label   detailed-label'}\n"
     ]
    },
    {
     "name": "stderr",
     "output_type": "stream",
     "text": [
      "/tmp/ipykernel_18148/1266505323.py:8: DtypeWarning: Columns (7) have mixed types. Specify dtype option on import or set low_memory=False.\n",
      "  for chunk in pd.read_csv(\"/home/charlie/Desktop/master_data.csv\", chunksize=chunk_size):\n"
     ]
    },
    {
     "name": "stdout",
     "output_type": "stream",
     "text": [
      "Missing columns in this chunk: {'tunnel_parents   label   detailed-label'}\n",
      "Missing columns in this chunk: {'tunnel_parents   label   detailed-label'}\n",
      "Missing columns in this chunk: {'tunnel_parents   label   detailed-label'}\n",
      "Missing columns in this chunk: {'tunnel_parents   label   detailed-label'}\n",
      "Missing columns in this chunk: {'tunnel_parents   label   detailed-label'}\n",
      "Missing columns in this chunk: {'tunnel_parents   label   detailed-label'}\n",
      "Missing columns in this chunk: {'tunnel_parents   label   detailed-label'}\n",
      "Missing columns in this chunk: {'tunnel_parents   label   detailed-label'}\n",
      "Missing columns in this chunk: {'tunnel_parents   label   detailed-label'}\n",
      "Missing columns in this chunk: {'tunnel_parents   label   detailed-label'}\n"
     ]
    },
    {
     "name": "stderr",
     "output_type": "stream",
     "text": [
      "/tmp/ipykernel_18148/1266505323.py:8: DtypeWarning: Columns (7) have mixed types. Specify dtype option on import or set low_memory=False.\n",
      "  for chunk in pd.read_csv(\"/home/charlie/Desktop/master_data.csv\", chunksize=chunk_size):\n"
     ]
    },
    {
     "name": "stdout",
     "output_type": "stream",
     "text": [
      "Missing columns in this chunk: {'tunnel_parents   label   detailed-label'}\n",
      "Missing columns in this chunk: {'tunnel_parents   label   detailed-label'}\n"
     ]
    },
    {
     "name": "stderr",
     "output_type": "stream",
     "text": [
      "/tmp/ipykernel_18148/1266505323.py:8: DtypeWarning: Columns (7) have mixed types. Specify dtype option on import or set low_memory=False.\n",
      "  for chunk in pd.read_csv(\"/home/charlie/Desktop/master_data.csv\", chunksize=chunk_size):\n"
     ]
    },
    {
     "name": "stdout",
     "output_type": "stream",
     "text": [
      "Missing columns in this chunk: {'tunnel_parents   label   detailed-label'}\n",
      "Missing columns in this chunk: {'tunnel_parents   label   detailed-label'}\n",
      "Missing columns in this chunk: {'tunnel_parents   label   detailed-label'}\n",
      "Missing columns in this chunk: {'tunnel_parents   label   detailed-label'}\n",
      "Missing columns in this chunk: {'tunnel_parents   label   detailed-label'}\n",
      "Missing columns in this chunk: {'tunnel_parents   label   detailed-label'}\n",
      "Missing columns in this chunk: {'tunnel_parents   label   detailed-label'}\n",
      "Missing columns in this chunk: {'tunnel_parents   label   detailed-label'}\n",
      "Missing columns in this chunk: {'tunnel_parents   label   detailed-label'}\n",
      "Missing columns in this chunk: {'tunnel_parents   label   detailed-label'}\n",
      "Missing columns in this chunk: {'tunnel_parents   label   detailed-label'}\n"
     ]
    },
    {
     "name": "stderr",
     "output_type": "stream",
     "text": [
      "/tmp/ipykernel_18148/1266505323.py:8: DtypeWarning: Columns (7) have mixed types. Specify dtype option on import or set low_memory=False.\n",
      "  for chunk in pd.read_csv(\"/home/charlie/Desktop/master_data.csv\", chunksize=chunk_size):\n"
     ]
    },
    {
     "name": "stdout",
     "output_type": "stream",
     "text": [
      "Missing columns in this chunk: {'tunnel_parents   label   detailed-label'}\n",
      "Missing columns in this chunk: {'tunnel_parents   label   detailed-label'}\n",
      "Missing columns in this chunk: {'tunnel_parents   label   detailed-label'}\n"
     ]
    },
    {
     "name": "stderr",
     "output_type": "stream",
     "text": [
      "/tmp/ipykernel_18148/1266505323.py:8: DtypeWarning: Columns (7) have mixed types. Specify dtype option on import or set low_memory=False.\n",
      "  for chunk in pd.read_csv(\"/home/charlie/Desktop/master_data.csv\", chunksize=chunk_size):\n"
     ]
    },
    {
     "name": "stdout",
     "output_type": "stream",
     "text": [
      "Missing columns in this chunk: {'tunnel_parents   label   detailed-label'}\n",
      "Missing columns in this chunk: {'tunnel_parents   label   detailed-label'}\n"
     ]
    },
    {
     "name": "stderr",
     "output_type": "stream",
     "text": [
      "/tmp/ipykernel_18148/1266505323.py:8: DtypeWarning: Columns (7) have mixed types. Specify dtype option on import or set low_memory=False.\n",
      "  for chunk in pd.read_csv(\"/home/charlie/Desktop/master_data.csv\", chunksize=chunk_size):\n"
     ]
    },
    {
     "name": "stdout",
     "output_type": "stream",
     "text": [
      "Missing columns in this chunk: {'tunnel_parents   label   detailed-label'}\n",
      "Missing columns in this chunk: {'tunnel_parents   label   detailed-label'}\n",
      "Missing columns in this chunk: {'tunnel_parents   label   detailed-label'}\n"
     ]
    },
    {
     "name": "stderr",
     "output_type": "stream",
     "text": [
      "/tmp/ipykernel_18148/1266505323.py:8: DtypeWarning: Columns (7) have mixed types. Specify dtype option on import or set low_memory=False.\n",
      "  for chunk in pd.read_csv(\"/home/charlie/Desktop/master_data.csv\", chunksize=chunk_size):\n"
     ]
    },
    {
     "name": "stdout",
     "output_type": "stream",
     "text": [
      "Missing columns in this chunk: {'tunnel_parents   label   detailed-label'}\n",
      "Missing columns in this chunk: {'tunnel_parents   label   detailed-label'}\n",
      "Missing columns in this chunk: {'tunnel_parents   label   detailed-label'}\n",
      "Missing columns in this chunk: {'tunnel_parents   label   detailed-label'}\n",
      "Missing columns in this chunk: {'tunnel_parents   label   detailed-label'}\n"
     ]
    },
    {
     "name": "stderr",
     "output_type": "stream",
     "text": [
      "/tmp/ipykernel_18148/1266505323.py:8: DtypeWarning: Columns (7) have mixed types. Specify dtype option on import or set low_memory=False.\n",
      "  for chunk in pd.read_csv(\"/home/charlie/Desktop/master_data.csv\", chunksize=chunk_size):\n"
     ]
    },
    {
     "name": "stdout",
     "output_type": "stream",
     "text": [
      "Missing columns in this chunk: {'tunnel_parents   label   detailed-label'}\n",
      "Missing columns in this chunk: {'tunnel_parents   label   detailed-label'}\n"
     ]
    },
    {
     "name": "stderr",
     "output_type": "stream",
     "text": [
      "/tmp/ipykernel_18148/1266505323.py:8: DtypeWarning: Columns (7) have mixed types. Specify dtype option on import or set low_memory=False.\n",
      "  for chunk in pd.read_csv(\"/home/charlie/Desktop/master_data.csv\", chunksize=chunk_size):\n"
     ]
    },
    {
     "name": "stdout",
     "output_type": "stream",
     "text": [
      "Missing columns in this chunk: {'tunnel_parents   label   detailed-label'}\n",
      "Missing columns in this chunk: {'tunnel_parents   label   detailed-label'}\n"
     ]
    },
    {
     "name": "stderr",
     "output_type": "stream",
     "text": [
      "/tmp/ipykernel_18148/1266505323.py:8: DtypeWarning: Columns (7) have mixed types. Specify dtype option on import or set low_memory=False.\n",
      "  for chunk in pd.read_csv(\"/home/charlie/Desktop/master_data.csv\", chunksize=chunk_size):\n"
     ]
    },
    {
     "name": "stdout",
     "output_type": "stream",
     "text": [
      "Missing columns in this chunk: {'tunnel_parents   label   detailed-label'}\n",
      "Missing columns in this chunk: {'tunnel_parents   label   detailed-label'}\n"
     ]
    },
    {
     "name": "stderr",
     "output_type": "stream",
     "text": [
      "/tmp/ipykernel_18148/1266505323.py:8: DtypeWarning: Columns (7) have mixed types. Specify dtype option on import or set low_memory=False.\n",
      "  for chunk in pd.read_csv(\"/home/charlie/Desktop/master_data.csv\", chunksize=chunk_size):\n"
     ]
    },
    {
     "name": "stdout",
     "output_type": "stream",
     "text": [
      "Missing columns in this chunk: {'tunnel_parents   label   detailed-label'}\n",
      "Missing columns in this chunk: {'tunnel_parents   label   detailed-label'}\n",
      "Missing columns in this chunk: {'tunnel_parents   label   detailed-label'}\n",
      "Missing columns in this chunk: {'tunnel_parents   label   detailed-label'}\n",
      "Missing columns in this chunk: {'tunnel_parents   label   detailed-label'}\n"
     ]
    },
    {
     "name": "stderr",
     "output_type": "stream",
     "text": [
      "/tmp/ipykernel_18148/1266505323.py:8: DtypeWarning: Columns (7) have mixed types. Specify dtype option on import or set low_memory=False.\n",
      "  for chunk in pd.read_csv(\"/home/charlie/Desktop/master_data.csv\", chunksize=chunk_size):\n"
     ]
    },
    {
     "name": "stdout",
     "output_type": "stream",
     "text": [
      "Missing columns in this chunk: {'tunnel_parents   label   detailed-label'}\n",
      "Missing columns in this chunk: {'tunnel_parents   label   detailed-label'}\n"
     ]
    },
    {
     "name": "stderr",
     "output_type": "stream",
     "text": [
      "/tmp/ipykernel_18148/1266505323.py:8: DtypeWarning: Columns (7) have mixed types. Specify dtype option on import or set low_memory=False.\n",
      "  for chunk in pd.read_csv(\"/home/charlie/Desktop/master_data.csv\", chunksize=chunk_size):\n",
      "/tmp/ipykernel_18148/1266505323.py:8: DtypeWarning: Columns (7) have mixed types. Specify dtype option on import or set low_memory=False.\n",
      "  for chunk in pd.read_csv(\"/home/charlie/Desktop/master_data.csv\", chunksize=chunk_size):\n"
     ]
    },
    {
     "name": "stdout",
     "output_type": "stream",
     "text": [
      "Missing columns in this chunk: {'tunnel_parents   label   detailed-label'}\n",
      "Missing columns in this chunk: {'tunnel_parents   label   detailed-label'}\n"
     ]
    },
    {
     "name": "stderr",
     "output_type": "stream",
     "text": [
      "/tmp/ipykernel_18148/1266505323.py:8: DtypeWarning: Columns (7) have mixed types. Specify dtype option on import or set low_memory=False.\n",
      "  for chunk in pd.read_csv(\"/home/charlie/Desktop/master_data.csv\", chunksize=chunk_size):\n",
      "/tmp/ipykernel_18148/1266505323.py:8: DtypeWarning: Columns (7) have mixed types. Specify dtype option on import or set low_memory=False.\n",
      "  for chunk in pd.read_csv(\"/home/charlie/Desktop/master_data.csv\", chunksize=chunk_size):\n"
     ]
    },
    {
     "name": "stdout",
     "output_type": "stream",
     "text": [
      "Missing columns in this chunk: {'tunnel_parents   label   detailed-label'}\n",
      "Missing columns in this chunk: {'tunnel_parents   label   detailed-label'}\n",
      "Missing columns in this chunk: {'tunnel_parents   label   detailed-label'}\n"
     ]
    },
    {
     "name": "stderr",
     "output_type": "stream",
     "text": [
      "/tmp/ipykernel_18148/1266505323.py:8: DtypeWarning: Columns (7) have mixed types. Specify dtype option on import or set low_memory=False.\n",
      "  for chunk in pd.read_csv(\"/home/charlie/Desktop/master_data.csv\", chunksize=chunk_size):\n"
     ]
    },
    {
     "name": "stdout",
     "output_type": "stream",
     "text": [
      "Missing columns in this chunk: {'tunnel_parents   label   detailed-label'}\n",
      "Missing columns in this chunk: {'tunnel_parents   label   detailed-label'}\n",
      "Missing columns in this chunk: {'tunnel_parents   label   detailed-label'}\n",
      "Missing columns in this chunk: {'tunnel_parents   label   detailed-label'}\n",
      "Missing columns in this chunk: {'tunnel_parents   label   detailed-label'}\n"
     ]
    },
    {
     "name": "stderr",
     "output_type": "stream",
     "text": [
      "/tmp/ipykernel_18148/1266505323.py:8: DtypeWarning: Columns (7) have mixed types. Specify dtype option on import or set low_memory=False.\n",
      "  for chunk in pd.read_csv(\"/home/charlie/Desktop/master_data.csv\", chunksize=chunk_size):\n"
     ]
    },
    {
     "name": "stdout",
     "output_type": "stream",
     "text": [
      "Missing columns in this chunk: {'tunnel_parents   label   detailed-label'}\n",
      "Missing columns in this chunk: {'tunnel_parents   label   detailed-label'}\n"
     ]
    },
    {
     "name": "stderr",
     "output_type": "stream",
     "text": [
      "/tmp/ipykernel_18148/1266505323.py:8: DtypeWarning: Columns (7) have mixed types. Specify dtype option on import or set low_memory=False.\n",
      "  for chunk in pd.read_csv(\"/home/charlie/Desktop/master_data.csv\", chunksize=chunk_size):\n"
     ]
    },
    {
     "name": "stdout",
     "output_type": "stream",
     "text": [
      "Missing columns in this chunk: {'tunnel_parents   label   detailed-label'}\n",
      "Missing columns in this chunk: {'tunnel_parents   label   detailed-label'}\n"
     ]
    },
    {
     "name": "stderr",
     "output_type": "stream",
     "text": [
      "/tmp/ipykernel_18148/1266505323.py:8: DtypeWarning: Columns (7) have mixed types. Specify dtype option on import or set low_memory=False.\n",
      "  for chunk in pd.read_csv(\"/home/charlie/Desktop/master_data.csv\", chunksize=chunk_size):\n"
     ]
    },
    {
     "name": "stdout",
     "output_type": "stream",
     "text": [
      "Missing columns in this chunk: {'tunnel_parents   label   detailed-label'}\n",
      "Missing columns in this chunk: {'tunnel_parents   label   detailed-label'}\n"
     ]
    },
    {
     "name": "stderr",
     "output_type": "stream",
     "text": [
      "/tmp/ipykernel_18148/1266505323.py:8: DtypeWarning: Columns (7) have mixed types. Specify dtype option on import or set low_memory=False.\n",
      "  for chunk in pd.read_csv(\"/home/charlie/Desktop/master_data.csv\", chunksize=chunk_size):\n"
     ]
    },
    {
     "name": "stdout",
     "output_type": "stream",
     "text": [
      "Missing columns in this chunk: {'tunnel_parents   label   detailed-label'}\n",
      "Missing columns in this chunk: {'tunnel_parents   label   detailed-label'}\n",
      "Missing columns in this chunk: {'tunnel_parents   label   detailed-label'}\n",
      "Missing columns in this chunk: {'tunnel_parents   label   detailed-label'}\n",
      "Missing columns in this chunk: {'tunnel_parents   label   detailed-label'}\n"
     ]
    },
    {
     "name": "stderr",
     "output_type": "stream",
     "text": [
      "/tmp/ipykernel_18148/1266505323.py:8: DtypeWarning: Columns (7) have mixed types. Specify dtype option on import or set low_memory=False.\n",
      "  for chunk in pd.read_csv(\"/home/charlie/Desktop/master_data.csv\", chunksize=chunk_size):\n"
     ]
    },
    {
     "name": "stdout",
     "output_type": "stream",
     "text": [
      "Missing columns in this chunk: {'tunnel_parents   label   detailed-label'}\n",
      "Missing columns in this chunk: {'tunnel_parents   label   detailed-label'}\n",
      "Missing columns in this chunk: {'tunnel_parents   label   detailed-label'}\n"
     ]
    },
    {
     "name": "stderr",
     "output_type": "stream",
     "text": [
      "/tmp/ipykernel_18148/1266505323.py:8: DtypeWarning: Columns (7) have mixed types. Specify dtype option on import or set low_memory=False.\n",
      "  for chunk in pd.read_csv(\"/home/charlie/Desktop/master_data.csv\", chunksize=chunk_size):\n"
     ]
    },
    {
     "name": "stdout",
     "output_type": "stream",
     "text": [
      "Missing columns in this chunk: {'tunnel_parents   label   detailed-label'}\n",
      "Missing columns in this chunk: {'tunnel_parents   label   detailed-label'}\n"
     ]
    },
    {
     "name": "stderr",
     "output_type": "stream",
     "text": [
      "/tmp/ipykernel_18148/1266505323.py:8: DtypeWarning: Columns (7) have mixed types. Specify dtype option on import or set low_memory=False.\n",
      "  for chunk in pd.read_csv(\"/home/charlie/Desktop/master_data.csv\", chunksize=chunk_size):\n",
      "/tmp/ipykernel_18148/1266505323.py:8: DtypeWarning: Columns (7) have mixed types. Specify dtype option on import or set low_memory=False.\n",
      "  for chunk in pd.read_csv(\"/home/charlie/Desktop/master_data.csv\", chunksize=chunk_size):\n"
     ]
    },
    {
     "name": "stdout",
     "output_type": "stream",
     "text": [
      "Missing columns in this chunk: {'tunnel_parents   label   detailed-label'}\n",
      "Missing columns in this chunk: {'tunnel_parents   label   detailed-label'}\n",
      "Missing columns in this chunk: {'tunnel_parents   label   detailed-label'}\n"
     ]
    },
    {
     "name": "stderr",
     "output_type": "stream",
     "text": [
      "/tmp/ipykernel_18148/1266505323.py:8: DtypeWarning: Columns (7) have mixed types. Specify dtype option on import or set low_memory=False.\n",
      "  for chunk in pd.read_csv(\"/home/charlie/Desktop/master_data.csv\", chunksize=chunk_size):\n"
     ]
    },
    {
     "name": "stdout",
     "output_type": "stream",
     "text": [
      "Missing columns in this chunk: {'tunnel_parents   label   detailed-label'}\n",
      "Missing columns in this chunk: {'tunnel_parents   label   detailed-label'}\n",
      "Missing columns in this chunk: {'tunnel_parents   label   detailed-label'}\n",
      "Missing columns in this chunk: {'tunnel_parents   label   detailed-label'}\n",
      "Missing columns in this chunk: {'tunnel_parents   label   detailed-label'}\n",
      "Missing columns in this chunk: {'tunnel_parents   label   detailed-label'}\n",
      "Missing columns in this chunk: {'tunnel_parents   label   detailed-label'}\n",
      "Missing columns in this chunk: {'tunnel_parents   label   detailed-label'}\n",
      "Missing columns in this chunk: {'tunnel_parents   label   detailed-label'}\n",
      "Missing columns in this chunk: {'tunnel_parents   label   detailed-label'}\n"
     ]
    },
    {
     "name": "stderr",
     "output_type": "stream",
     "text": [
      "/tmp/ipykernel_18148/1266505323.py:8: DtypeWarning: Columns (7) have mixed types. Specify dtype option on import or set low_memory=False.\n",
      "  for chunk in pd.read_csv(\"/home/charlie/Desktop/master_data.csv\", chunksize=chunk_size):\n"
     ]
    },
    {
     "name": "stdout",
     "output_type": "stream",
     "text": [
      "Missing columns in this chunk: {'tunnel_parents   label   detailed-label'}\n",
      "Missing columns in this chunk: {'tunnel_parents   label   detailed-label'}\n"
     ]
    },
    {
     "name": "stderr",
     "output_type": "stream",
     "text": [
      "/tmp/ipykernel_18148/1266505323.py:8: DtypeWarning: Columns (7) have mixed types. Specify dtype option on import or set low_memory=False.\n",
      "  for chunk in pd.read_csv(\"/home/charlie/Desktop/master_data.csv\", chunksize=chunk_size):\n"
     ]
    },
    {
     "name": "stdout",
     "output_type": "stream",
     "text": [
      "Missing columns in this chunk: {'tunnel_parents   label   detailed-label'}\n",
      "Missing columns in this chunk: {'tunnel_parents   label   detailed-label'}\n",
      "Missing columns in this chunk: {'tunnel_parents   label   detailed-label'}\n",
      "Missing columns in this chunk: {'tunnel_parents   label   detailed-label'}\n",
      "Missing columns in this chunk: {'tunnel_parents   label   detailed-label'}\n",
      "Missing columns in this chunk: {'tunnel_parents   label   detailed-label'}\n",
      "Missing columns in this chunk: {'tunnel_parents   label   detailed-label'}\n",
      "Missing columns in this chunk: {'tunnel_parents   label   detailed-label'}\n"
     ]
    },
    {
     "name": "stderr",
     "output_type": "stream",
     "text": [
      "/tmp/ipykernel_18148/1266505323.py:8: DtypeWarning: Columns (7) have mixed types. Specify dtype option on import or set low_memory=False.\n",
      "  for chunk in pd.read_csv(\"/home/charlie/Desktop/master_data.csv\", chunksize=chunk_size):\n"
     ]
    },
    {
     "name": "stdout",
     "output_type": "stream",
     "text": [
      "Missing columns in this chunk: {'tunnel_parents   label   detailed-label'}\n",
      "Missing columns in this chunk: {'tunnel_parents   label   detailed-label'}\n",
      "Missing columns in this chunk: {'tunnel_parents   label   detailed-label'}\n"
     ]
    },
    {
     "name": "stderr",
     "output_type": "stream",
     "text": [
      "/tmp/ipykernel_18148/1266505323.py:8: DtypeWarning: Columns (7) have mixed types. Specify dtype option on import or set low_memory=False.\n",
      "  for chunk in pd.read_csv(\"/home/charlie/Desktop/master_data.csv\", chunksize=chunk_size):\n"
     ]
    },
    {
     "name": "stdout",
     "output_type": "stream",
     "text": [
      "Missing columns in this chunk: {'tunnel_parents   label   detailed-label'}\n",
      "Missing columns in this chunk: {'tunnel_parents   label   detailed-label'}\n"
     ]
    },
    {
     "name": "stderr",
     "output_type": "stream",
     "text": [
      "/tmp/ipykernel_18148/1266505323.py:8: DtypeWarning: Columns (7) have mixed types. Specify dtype option on import or set low_memory=False.\n",
      "  for chunk in pd.read_csv(\"/home/charlie/Desktop/master_data.csv\", chunksize=chunk_size):\n"
     ]
    },
    {
     "name": "stdout",
     "output_type": "stream",
     "text": [
      "Missing columns in this chunk: {'tunnel_parents   label   detailed-label'}\n",
      "Missing columns in this chunk: {'tunnel_parents   label   detailed-label'}\n"
     ]
    },
    {
     "name": "stderr",
     "output_type": "stream",
     "text": [
      "/tmp/ipykernel_18148/1266505323.py:8: DtypeWarning: Columns (7) have mixed types. Specify dtype option on import or set low_memory=False.\n",
      "  for chunk in pd.read_csv(\"/home/charlie/Desktop/master_data.csv\", chunksize=chunk_size):\n"
     ]
    },
    {
     "name": "stdout",
     "output_type": "stream",
     "text": [
      "Missing columns in this chunk: {'tunnel_parents   label   detailed-label'}\n",
      "Missing columns in this chunk: {'tunnel_parents   label   detailed-label'}\n",
      "Missing columns in this chunk: {'tunnel_parents   label   detailed-label'}\n",
      "Missing columns in this chunk: {'tunnel_parents   label   detailed-label'}\n",
      "Missing columns in this chunk: {'tunnel_parents   label   detailed-label'}\n",
      "Missing columns in this chunk: {'tunnel_parents   label   detailed-label'}\n",
      "Missing columns in this chunk: {'tunnel_parents   label   detailed-label'}\n",
      "Missing columns in this chunk: {'tunnel_parents   label   detailed-label'}\n"
     ]
    },
    {
     "name": "stderr",
     "output_type": "stream",
     "text": [
      "/tmp/ipykernel_18148/1266505323.py:8: DtypeWarning: Columns (7) have mixed types. Specify dtype option on import or set low_memory=False.\n",
      "  for chunk in pd.read_csv(\"/home/charlie/Desktop/master_data.csv\", chunksize=chunk_size):\n"
     ]
    },
    {
     "name": "stdout",
     "output_type": "stream",
     "text": [
      "Missing columns in this chunk: {'tunnel_parents   label   detailed-label'}\n",
      "Missing columns in this chunk: {'tunnel_parents   label   detailed-label'}\n"
     ]
    },
    {
     "name": "stderr",
     "output_type": "stream",
     "text": [
      "/tmp/ipykernel_18148/1266505323.py:8: DtypeWarning: Columns (7) have mixed types. Specify dtype option on import or set low_memory=False.\n",
      "  for chunk in pd.read_csv(\"/home/charlie/Desktop/master_data.csv\", chunksize=chunk_size):\n"
     ]
    },
    {
     "name": "stdout",
     "output_type": "stream",
     "text": [
      "Missing columns in this chunk: {'tunnel_parents   label   detailed-label'}\n",
      "Missing columns in this chunk: {'tunnel_parents   label   detailed-label'}\n",
      "Missing columns in this chunk: {'tunnel_parents   label   detailed-label'}\n",
      "Missing columns in this chunk: {'tunnel_parents   label   detailed-label'}\n",
      "Missing columns in this chunk: {'tunnel_parents   label   detailed-label'}\n",
      "Missing columns in this chunk: {'tunnel_parents   label   detailed-label'}\n",
      "Missing columns in this chunk: {'tunnel_parents   label   detailed-label'}\n"
     ]
    },
    {
     "name": "stderr",
     "output_type": "stream",
     "text": [
      "/tmp/ipykernel_18148/1266505323.py:8: DtypeWarning: Columns (7) have mixed types. Specify dtype option on import or set low_memory=False.\n",
      "  for chunk in pd.read_csv(\"/home/charlie/Desktop/master_data.csv\", chunksize=chunk_size):\n"
     ]
    },
    {
     "name": "stdout",
     "output_type": "stream",
     "text": [
      "Missing columns in this chunk: {'tunnel_parents   label   detailed-label'}\n",
      "Missing columns in this chunk: {'tunnel_parents   label   detailed-label'}\n"
     ]
    },
    {
     "name": "stderr",
     "output_type": "stream",
     "text": [
      "/tmp/ipykernel_18148/1266505323.py:8: DtypeWarning: Columns (7) have mixed types. Specify dtype option on import or set low_memory=False.\n",
      "  for chunk in pd.read_csv(\"/home/charlie/Desktop/master_data.csv\", chunksize=chunk_size):\n"
     ]
    },
    {
     "name": "stdout",
     "output_type": "stream",
     "text": [
      "Missing columns in this chunk: {'tunnel_parents   label   detailed-label'}\n",
      "Missing columns in this chunk: {'tunnel_parents   label   detailed-label'}\n",
      "Missing columns in this chunk: {'tunnel_parents   label   detailed-label'}\n"
     ]
    },
    {
     "name": "stderr",
     "output_type": "stream",
     "text": [
      "/tmp/ipykernel_18148/1266505323.py:8: DtypeWarning: Columns (7) have mixed types. Specify dtype option on import or set low_memory=False.\n",
      "  for chunk in pd.read_csv(\"/home/charlie/Desktop/master_data.csv\", chunksize=chunk_size):\n"
     ]
    },
    {
     "name": "stdout",
     "output_type": "stream",
     "text": [
      "Missing columns in this chunk: {'tunnel_parents   label   detailed-label'}\n",
      "Missing columns in this chunk: {'tunnel_parents   label   detailed-label'}\n"
     ]
    },
    {
     "name": "stderr",
     "output_type": "stream",
     "text": [
      "/tmp/ipykernel_18148/1266505323.py:8: DtypeWarning: Columns (7) have mixed types. Specify dtype option on import or set low_memory=False.\n",
      "  for chunk in pd.read_csv(\"/home/charlie/Desktop/master_data.csv\", chunksize=chunk_size):\n"
     ]
    },
    {
     "name": "stdout",
     "output_type": "stream",
     "text": [
      "Missing columns in this chunk: {'tunnel_parents   label   detailed-label'}\n",
      "Missing columns in this chunk: {'tunnel_parents   label   detailed-label'}\n"
     ]
    },
    {
     "name": "stderr",
     "output_type": "stream",
     "text": [
      "/tmp/ipykernel_18148/1266505323.py:8: DtypeWarning: Columns (7) have mixed types. Specify dtype option on import or set low_memory=False.\n",
      "  for chunk in pd.read_csv(\"/home/charlie/Desktop/master_data.csv\", chunksize=chunk_size):\n"
     ]
    },
    {
     "name": "stdout",
     "output_type": "stream",
     "text": [
      "Missing columns in this chunk: {'tunnel_parents   label   detailed-label'}\n",
      "Missing columns in this chunk: {'tunnel_parents   label   detailed-label'}\n",
      "Missing columns in this chunk: {'tunnel_parents   label   detailed-label'}\n",
      "Missing columns in this chunk: {'tunnel_parents   label   detailed-label'}\n"
     ]
    },
    {
     "name": "stderr",
     "output_type": "stream",
     "text": [
      "/tmp/ipykernel_18148/1266505323.py:8: DtypeWarning: Columns (7) have mixed types. Specify dtype option on import or set low_memory=False.\n",
      "  for chunk in pd.read_csv(\"/home/charlie/Desktop/master_data.csv\", chunksize=chunk_size):\n"
     ]
    },
    {
     "name": "stdout",
     "output_type": "stream",
     "text": [
      "Missing columns in this chunk: {'tunnel_parents   label   detailed-label'}\n",
      "Missing columns in this chunk: {'tunnel_parents   label   detailed-label'}\n"
     ]
    },
    {
     "name": "stderr",
     "output_type": "stream",
     "text": [
      "/tmp/ipykernel_18148/1266505323.py:8: DtypeWarning: Columns (7) have mixed types. Specify dtype option on import or set low_memory=False.\n",
      "  for chunk in pd.read_csv(\"/home/charlie/Desktop/master_data.csv\", chunksize=chunk_size):\n"
     ]
    },
    {
     "name": "stdout",
     "output_type": "stream",
     "text": [
      "Missing columns in this chunk: {'tunnel_parents   label   detailed-label'}\n",
      "Missing columns in this chunk: {'tunnel_parents   label   detailed-label'}\n"
     ]
    },
    {
     "name": "stderr",
     "output_type": "stream",
     "text": [
      "/tmp/ipykernel_18148/1266505323.py:8: DtypeWarning: Columns (7) have mixed types. Specify dtype option on import or set low_memory=False.\n",
      "  for chunk in pd.read_csv(\"/home/charlie/Desktop/master_data.csv\", chunksize=chunk_size):\n"
     ]
    },
    {
     "name": "stdout",
     "output_type": "stream",
     "text": [
      "Missing columns in this chunk: {'tunnel_parents   label   detailed-label'}\n",
      "Missing columns in this chunk: {'tunnel_parents   label   detailed-label'}\n"
     ]
    },
    {
     "name": "stderr",
     "output_type": "stream",
     "text": [
      "/tmp/ipykernel_18148/1266505323.py:8: DtypeWarning: Columns (7) have mixed types. Specify dtype option on import or set low_memory=False.\n",
      "  for chunk in pd.read_csv(\"/home/charlie/Desktop/master_data.csv\", chunksize=chunk_size):\n"
     ]
    },
    {
     "name": "stdout",
     "output_type": "stream",
     "text": [
      "Missing columns in this chunk: {'tunnel_parents   label   detailed-label'}\n",
      "Missing columns in this chunk: {'tunnel_parents   label   detailed-label'}\n",
      "Missing columns in this chunk: {'tunnel_parents   label   detailed-label'}\n",
      "Missing columns in this chunk: {'tunnel_parents   label   detailed-label'}\n",
      "Missing columns in this chunk: {'tunnel_parents   label   detailed-label'}\n",
      "Missing columns in this chunk: {'tunnel_parents   label   detailed-label'}\n",
      "Missing columns in this chunk: {'tunnel_parents   label   detailed-label'}\n"
     ]
    },
    {
     "name": "stderr",
     "output_type": "stream",
     "text": [
      "/tmp/ipykernel_18148/1266505323.py:8: DtypeWarning: Columns (7) have mixed types. Specify dtype option on import or set low_memory=False.\n",
      "  for chunk in pd.read_csv(\"/home/charlie/Desktop/master_data.csv\", chunksize=chunk_size):\n"
     ]
    },
    {
     "name": "stdout",
     "output_type": "stream",
     "text": [
      "Missing columns in this chunk: {'tunnel_parents   label   detailed-label'}\n",
      "Missing columns in this chunk: {'tunnel_parents   label   detailed-label'}\n"
     ]
    },
    {
     "name": "stderr",
     "output_type": "stream",
     "text": [
      "/tmp/ipykernel_18148/1266505323.py:8: DtypeWarning: Columns (7) have mixed types. Specify dtype option on import or set low_memory=False.\n",
      "  for chunk in pd.read_csv(\"/home/charlie/Desktop/master_data.csv\", chunksize=chunk_size):\n"
     ]
    },
    {
     "name": "stdout",
     "output_type": "stream",
     "text": [
      "Missing columns in this chunk: {'tunnel_parents   label   detailed-label'}\n",
      "Missing columns in this chunk: {'tunnel_parents   label   detailed-label'}\n"
     ]
    },
    {
     "name": "stderr",
     "output_type": "stream",
     "text": [
      "/tmp/ipykernel_18148/1266505323.py:8: DtypeWarning: Columns (7) have mixed types. Specify dtype option on import or set low_memory=False.\n",
      "  for chunk in pd.read_csv(\"/home/charlie/Desktop/master_data.csv\", chunksize=chunk_size):\n"
     ]
    },
    {
     "name": "stdout",
     "output_type": "stream",
     "text": [
      "Missing columns in this chunk: {'tunnel_parents   label   detailed-label'}\n",
      "Missing columns in this chunk: {'tunnel_parents   label   detailed-label'}\n"
     ]
    },
    {
     "name": "stderr",
     "output_type": "stream",
     "text": [
      "/tmp/ipykernel_18148/1266505323.py:8: DtypeWarning: Columns (7) have mixed types. Specify dtype option on import or set low_memory=False.\n",
      "  for chunk in pd.read_csv(\"/home/charlie/Desktop/master_data.csv\", chunksize=chunk_size):\n"
     ]
    },
    {
     "name": "stdout",
     "output_type": "stream",
     "text": [
      "Missing columns in this chunk: {'tunnel_parents   label   detailed-label'}\n",
      "Missing columns in this chunk: {'tunnel_parents   label   detailed-label'}\n",
      "Missing columns in this chunk: {'tunnel_parents   label   detailed-label'}\n",
      "Missing columns in this chunk: {'tunnel_parents   label   detailed-label'}\n",
      "Missing columns in this chunk: {'tunnel_parents   label   detailed-label'}\n",
      "Missing columns in this chunk: {'tunnel_parents   label   detailed-label'}\n",
      "Missing columns in this chunk: {'tunnel_parents   label   detailed-label'}\n"
     ]
    },
    {
     "name": "stderr",
     "output_type": "stream",
     "text": [
      "/tmp/ipykernel_18148/1266505323.py:8: DtypeWarning: Columns (7) have mixed types. Specify dtype option on import or set low_memory=False.\n",
      "  for chunk in pd.read_csv(\"/home/charlie/Desktop/master_data.csv\", chunksize=chunk_size):\n",
      "/tmp/ipykernel_18148/1266505323.py:8: DtypeWarning: Columns (7) have mixed types. Specify dtype option on import or set low_memory=False.\n",
      "  for chunk in pd.read_csv(\"/home/charlie/Desktop/master_data.csv\", chunksize=chunk_size):\n"
     ]
    },
    {
     "name": "stdout",
     "output_type": "stream",
     "text": [
      "Missing columns in this chunk: {'tunnel_parents   label   detailed-label'}\n",
      "Missing columns in this chunk: {'tunnel_parents   label   detailed-label'}\n"
     ]
    },
    {
     "name": "stderr",
     "output_type": "stream",
     "text": [
      "/tmp/ipykernel_18148/1266505323.py:8: DtypeWarning: Columns (7) have mixed types. Specify dtype option on import or set low_memory=False.\n",
      "  for chunk in pd.read_csv(\"/home/charlie/Desktop/master_data.csv\", chunksize=chunk_size):\n"
     ]
    },
    {
     "name": "stdout",
     "output_type": "stream",
     "text": [
      "Missing columns in this chunk: {'tunnel_parents   label   detailed-label'}\n",
      "Missing columns in this chunk: {'tunnel_parents   label   detailed-label'}\n"
     ]
    },
    {
     "name": "stderr",
     "output_type": "stream",
     "text": [
      "/tmp/ipykernel_18148/1266505323.py:8: DtypeWarning: Columns (7) have mixed types. Specify dtype option on import or set low_memory=False.\n",
      "  for chunk in pd.read_csv(\"/home/charlie/Desktop/master_data.csv\", chunksize=chunk_size):\n"
     ]
    },
    {
     "name": "stdout",
     "output_type": "stream",
     "text": [
      "Missing columns in this chunk: {'tunnel_parents   label   detailed-label'}\n",
      "Missing columns in this chunk: {'tunnel_parents   label   detailed-label'}\n"
     ]
    },
    {
     "name": "stderr",
     "output_type": "stream",
     "text": [
      "/tmp/ipykernel_18148/1266505323.py:8: DtypeWarning: Columns (7) have mixed types. Specify dtype option on import or set low_memory=False.\n",
      "  for chunk in pd.read_csv(\"/home/charlie/Desktop/master_data.csv\", chunksize=chunk_size):\n"
     ]
    },
    {
     "name": "stdout",
     "output_type": "stream",
     "text": [
      "Missing columns in this chunk: {'tunnel_parents   label   detailed-label'}\n",
      "Missing columns in this chunk: {'tunnel_parents   label   detailed-label'}\n"
     ]
    },
    {
     "name": "stderr",
     "output_type": "stream",
     "text": [
      "/tmp/ipykernel_18148/1266505323.py:8: DtypeWarning: Columns (7) have mixed types. Specify dtype option on import or set low_memory=False.\n",
      "  for chunk in pd.read_csv(\"/home/charlie/Desktop/master_data.csv\", chunksize=chunk_size):\n",
      "/tmp/ipykernel_18148/1266505323.py:8: DtypeWarning: Columns (7) have mixed types. Specify dtype option on import or set low_memory=False.\n",
      "  for chunk in pd.read_csv(\"/home/charlie/Desktop/master_data.csv\", chunksize=chunk_size):\n"
     ]
    },
    {
     "name": "stdout",
     "output_type": "stream",
     "text": [
      "Missing columns in this chunk: {'tunnel_parents   label   detailed-label'}\n",
      "Missing columns in this chunk: {'tunnel_parents   label   detailed-label'}\n",
      "Missing columns in this chunk: {'tunnel_parents   label   detailed-label'}\n",
      "Missing columns in this chunk: {'tunnel_parents   label   detailed-label'}\n",
      "Missing columns in this chunk: {'tunnel_parents   label   detailed-label'}\n",
      "Missing columns in this chunk: {'tunnel_parents   label   detailed-label'}\n",
      "Missing columns in this chunk: {'tunnel_parents   label   detailed-label'}\n",
      "Missing columns in this chunk: {'tunnel_parents   label   detailed-label'}\n"
     ]
    },
    {
     "name": "stderr",
     "output_type": "stream",
     "text": [
      "/tmp/ipykernel_18148/1266505323.py:8: DtypeWarning: Columns (7) have mixed types. Specify dtype option on import or set low_memory=False.\n",
      "  for chunk in pd.read_csv(\"/home/charlie/Desktop/master_data.csv\", chunksize=chunk_size):\n"
     ]
    },
    {
     "name": "stdout",
     "output_type": "stream",
     "text": [
      "Missing columns in this chunk: {'tunnel_parents   label   detailed-label'}\n",
      "Missing columns in this chunk: {'tunnel_parents   label   detailed-label'}\n"
     ]
    },
    {
     "name": "stderr",
     "output_type": "stream",
     "text": [
      "/tmp/ipykernel_18148/1266505323.py:8: DtypeWarning: Columns (7) have mixed types. Specify dtype option on import or set low_memory=False.\n",
      "  for chunk in pd.read_csv(\"/home/charlie/Desktop/master_data.csv\", chunksize=chunk_size):\n"
     ]
    },
    {
     "name": "stdout",
     "output_type": "stream",
     "text": [
      "Missing columns in this chunk: {'tunnel_parents   label   detailed-label'}\n",
      "Missing columns in this chunk: {'tunnel_parents   label   detailed-label'}\n"
     ]
    },
    {
     "name": "stderr",
     "output_type": "stream",
     "text": [
      "/tmp/ipykernel_18148/1266505323.py:8: DtypeWarning: Columns (7) have mixed types. Specify dtype option on import or set low_memory=False.\n",
      "  for chunk in pd.read_csv(\"/home/charlie/Desktop/master_data.csv\", chunksize=chunk_size):\n",
      "/tmp/ipykernel_18148/1266505323.py:8: DtypeWarning: Columns (7) have mixed types. Specify dtype option on import or set low_memory=False.\n",
      "  for chunk in pd.read_csv(\"/home/charlie/Desktop/master_data.csv\", chunksize=chunk_size):\n"
     ]
    },
    {
     "name": "stdout",
     "output_type": "stream",
     "text": [
      "Missing columns in this chunk: {'tunnel_parents   label   detailed-label'}\n",
      "Missing columns in this chunk: {'tunnel_parents   label   detailed-label'}\n",
      "Missing columns in this chunk: {'tunnel_parents   label   detailed-label'}\n",
      "Missing columns in this chunk: {'tunnel_parents   label   detailed-label'}\n",
      "Missing columns in this chunk: {'tunnel_parents   label   detailed-label'}\n",
      "Missing columns in this chunk: {'tunnel_parents   label   detailed-label'}\n"
     ]
    },
    {
     "name": "stderr",
     "output_type": "stream",
     "text": [
      "/tmp/ipykernel_18148/1266505323.py:8: DtypeWarning: Columns (7) have mixed types. Specify dtype option on import or set low_memory=False.\n",
      "  for chunk in pd.read_csv(\"/home/charlie/Desktop/master_data.csv\", chunksize=chunk_size):\n",
      "/tmp/ipykernel_18148/1266505323.py:8: DtypeWarning: Columns (7) have mixed types. Specify dtype option on import or set low_memory=False.\n",
      "  for chunk in pd.read_csv(\"/home/charlie/Desktop/master_data.csv\", chunksize=chunk_size):\n"
     ]
    },
    {
     "name": "stdout",
     "output_type": "stream",
     "text": [
      "Missing columns in this chunk: {'tunnel_parents   label   detailed-label'}\n",
      "Missing columns in this chunk: {'tunnel_parents   label   detailed-label'}\n"
     ]
    },
    {
     "name": "stderr",
     "output_type": "stream",
     "text": [
      "/tmp/ipykernel_18148/1266505323.py:8: DtypeWarning: Columns (7) have mixed types. Specify dtype option on import or set low_memory=False.\n",
      "  for chunk in pd.read_csv(\"/home/charlie/Desktop/master_data.csv\", chunksize=chunk_size):\n"
     ]
    },
    {
     "name": "stdout",
     "output_type": "stream",
     "text": [
      "Missing columns in this chunk: {'tunnel_parents   label   detailed-label'}\n",
      "Missing columns in this chunk: {'tunnel_parents   label   detailed-label'}\n",
      "Missing columns in this chunk: {'tunnel_parents   label   detailed-label'}\n",
      "Missing columns in this chunk: {'tunnel_parents   label   detailed-label'}\n",
      "Missing columns in this chunk: {'tunnel_parents   label   detailed-label'}\n",
      "Missing columns in this chunk: {'tunnel_parents   label   detailed-label'}\n",
      "Missing columns in this chunk: {'tunnel_parents   label   detailed-label'}\n",
      "Missing columns in this chunk: {'tunnel_parents   label   detailed-label'}\n",
      "Missing columns in this chunk: {'tunnel_parents   label   detailed-label'}\n",
      "Missing columns in this chunk: {'tunnel_parents   label   detailed-label'}\n",
      "Missing columns in this chunk: {'tunnel_parents   label   detailed-label'}\n",
      "Missing columns in this chunk: {'tunnel_parents   label   detailed-label'}\n",
      "Missing columns in this chunk: {'tunnel_parents   label   detailed-label'}\n",
      "Missing columns in this chunk: {'tunnel_parents   label   detailed-label'}\n",
      "Missing columns in this chunk: {'tunnel_parents   label   detailed-label'}\n",
      "Missing columns in this chunk: {'tunnel_parents   label   detailed-label'}\n",
      "Missing columns in this chunk: {'tunnel_parents   label   detailed-label'}\n",
      "Missing columns in this chunk: {'tunnel_parents   label   detailed-label'}\n",
      "Missing columns in this chunk: {'tunnel_parents   label   detailed-label'}\n",
      "Missing columns in this chunk: {'tunnel_parents   label   detailed-label'}\n",
      "Missing columns in this chunk: {'tunnel_parents   label   detailed-label'}\n",
      "Missing columns in this chunk: {'tunnel_parents   label   detailed-label'}\n",
      "Missing columns in this chunk: {'tunnel_parents   label   detailed-label'}\n",
      "Missing columns in this chunk: {'tunnel_parents   label   detailed-label'}\n"
     ]
    },
    {
     "name": "stderr",
     "output_type": "stream",
     "text": [
      "/tmp/ipykernel_18148/1266505323.py:8: DtypeWarning: Columns (7) have mixed types. Specify dtype option on import or set low_memory=False.\n",
      "  for chunk in pd.read_csv(\"/home/charlie/Desktop/master_data.csv\", chunksize=chunk_size):\n"
     ]
    },
    {
     "name": "stdout",
     "output_type": "stream",
     "text": [
      "Missing columns in this chunk: {'tunnel_parents   label   detailed-label'}\n",
      "Missing columns in this chunk: {'tunnel_parents   label   detailed-label'}\n"
     ]
    },
    {
     "name": "stderr",
     "output_type": "stream",
     "text": [
      "/tmp/ipykernel_18148/1266505323.py:8: DtypeWarning: Columns (7) have mixed types. Specify dtype option on import or set low_memory=False.\n",
      "  for chunk in pd.read_csv(\"/home/charlie/Desktop/master_data.csv\", chunksize=chunk_size):\n"
     ]
    },
    {
     "name": "stdout",
     "output_type": "stream",
     "text": [
      "Missing columns in this chunk: {'tunnel_parents   label   detailed-label'}\n",
      "Missing columns in this chunk: {'tunnel_parents   label   detailed-label'}\n"
     ]
    },
    {
     "name": "stderr",
     "output_type": "stream",
     "text": [
      "/tmp/ipykernel_18148/1266505323.py:8: DtypeWarning: Columns (7) have mixed types. Specify dtype option on import or set low_memory=False.\n",
      "  for chunk in pd.read_csv(\"/home/charlie/Desktop/master_data.csv\", chunksize=chunk_size):\n"
     ]
    },
    {
     "name": "stdout",
     "output_type": "stream",
     "text": [
      "Missing columns in this chunk: {'tunnel_parents   label   detailed-label'}\n",
      "Missing columns in this chunk: {'tunnel_parents   label   detailed-label'}\n"
     ]
    },
    {
     "name": "stderr",
     "output_type": "stream",
     "text": [
      "/tmp/ipykernel_18148/1266505323.py:8: DtypeWarning: Columns (7) have mixed types. Specify dtype option on import or set low_memory=False.\n",
      "  for chunk in pd.read_csv(\"/home/charlie/Desktop/master_data.csv\", chunksize=chunk_size):\n"
     ]
    },
    {
     "name": "stdout",
     "output_type": "stream",
     "text": [
      "Missing columns in this chunk: {'tunnel_parents   label   detailed-label'}\n",
      "Missing columns in this chunk: {'tunnel_parents   label   detailed-label'}\n",
      "Missing columns in this chunk: {'tunnel_parents   label   detailed-label'}\n",
      "Missing columns in this chunk: {'tunnel_parents   label   detailed-label'}\n",
      "Missing columns in this chunk: {'tunnel_parents   label   detailed-label'}\n",
      "Missing columns in this chunk: {'tunnel_parents   label   detailed-label'}\n",
      "Missing columns in this chunk: {'tunnel_parents   label   detailed-label'}\n"
     ]
    },
    {
     "name": "stderr",
     "output_type": "stream",
     "text": [
      "/tmp/ipykernel_18148/1266505323.py:8: DtypeWarning: Columns (7) have mixed types. Specify dtype option on import or set low_memory=False.\n",
      "  for chunk in pd.read_csv(\"/home/charlie/Desktop/master_data.csv\", chunksize=chunk_size):\n"
     ]
    },
    {
     "name": "stdout",
     "output_type": "stream",
     "text": [
      "Missing columns in this chunk: {'tunnel_parents   label   detailed-label'}\n",
      "Missing columns in this chunk: {'tunnel_parents   label   detailed-label'}\n"
     ]
    },
    {
     "name": "stderr",
     "output_type": "stream",
     "text": [
      "/tmp/ipykernel_18148/1266505323.py:8: DtypeWarning: Columns (7) have mixed types. Specify dtype option on import or set low_memory=False.\n",
      "  for chunk in pd.read_csv(\"/home/charlie/Desktop/master_data.csv\", chunksize=chunk_size):\n"
     ]
    },
    {
     "name": "stdout",
     "output_type": "stream",
     "text": [
      "Missing columns in this chunk: {'tunnel_parents   label   detailed-label'}\n",
      "Missing columns in this chunk: {'tunnel_parents   label   detailed-label'}\n"
     ]
    },
    {
     "name": "stderr",
     "output_type": "stream",
     "text": [
      "/tmp/ipykernel_18148/1266505323.py:8: DtypeWarning: Columns (7) have mixed types. Specify dtype option on import or set low_memory=False.\n",
      "  for chunk in pd.read_csv(\"/home/charlie/Desktop/master_data.csv\", chunksize=chunk_size):\n"
     ]
    },
    {
     "name": "stdout",
     "output_type": "stream",
     "text": [
      "Missing columns in this chunk: {'tunnel_parents   label   detailed-label'}\n",
      "Missing columns in this chunk: {'tunnel_parents   label   detailed-label'}\n"
     ]
    },
    {
     "name": "stderr",
     "output_type": "stream",
     "text": [
      "/tmp/ipykernel_18148/1266505323.py:8: DtypeWarning: Columns (7) have mixed types. Specify dtype option on import or set low_memory=False.\n",
      "  for chunk in pd.read_csv(\"/home/charlie/Desktop/master_data.csv\", chunksize=chunk_size):\n",
      "/tmp/ipykernel_18148/1266505323.py:8: DtypeWarning: Columns (7) have mixed types. Specify dtype option on import or set low_memory=False.\n",
      "  for chunk in pd.read_csv(\"/home/charlie/Desktop/master_data.csv\", chunksize=chunk_size):\n"
     ]
    },
    {
     "name": "stdout",
     "output_type": "stream",
     "text": [
      "Missing columns in this chunk: {'tunnel_parents   label   detailed-label'}\n",
      "Missing columns in this chunk: {'tunnel_parents   label   detailed-label'}\n",
      "Missing columns in this chunk: {'tunnel_parents   label   detailed-label'}\n"
     ]
    },
    {
     "name": "stderr",
     "output_type": "stream",
     "text": [
      "/tmp/ipykernel_18148/1266505323.py:8: DtypeWarning: Columns (7) have mixed types. Specify dtype option on import or set low_memory=False.\n",
      "  for chunk in pd.read_csv(\"/home/charlie/Desktop/master_data.csv\", chunksize=chunk_size):\n"
     ]
    },
    {
     "name": "stdout",
     "output_type": "stream",
     "text": [
      "Missing columns in this chunk: {'tunnel_parents   label   detailed-label'}\n",
      "Missing columns in this chunk: {'tunnel_parents   label   detailed-label'}\n",
      "Missing columns in this chunk: {'tunnel_parents   label   detailed-label'}\n",
      "Missing columns in this chunk: {'tunnel_parents   label   detailed-label'}\n"
     ]
    },
    {
     "name": "stderr",
     "output_type": "stream",
     "text": [
      "/tmp/ipykernel_18148/1266505323.py:8: DtypeWarning: Columns (7) have mixed types. Specify dtype option on import or set low_memory=False.\n",
      "  for chunk in pd.read_csv(\"/home/charlie/Desktop/master_data.csv\", chunksize=chunk_size):\n",
      "/tmp/ipykernel_18148/1266505323.py:8: DtypeWarning: Columns (7) have mixed types. Specify dtype option on import or set low_memory=False.\n",
      "  for chunk in pd.read_csv(\"/home/charlie/Desktop/master_data.csv\", chunksize=chunk_size):\n"
     ]
    },
    {
     "name": "stdout",
     "output_type": "stream",
     "text": [
      "Missing columns in this chunk: {'tunnel_parents   label   detailed-label'}\n",
      "Missing columns in this chunk: {'tunnel_parents   label   detailed-label'}\n"
     ]
    },
    {
     "name": "stderr",
     "output_type": "stream",
     "text": [
      "/tmp/ipykernel_18148/1266505323.py:8: DtypeWarning: Columns (7) have mixed types. Specify dtype option on import or set low_memory=False.\n",
      "  for chunk in pd.read_csv(\"/home/charlie/Desktop/master_data.csv\", chunksize=chunk_size):\n",
      "/tmp/ipykernel_18148/1266505323.py:8: DtypeWarning: Columns (7) have mixed types. Specify dtype option on import or set low_memory=False.\n",
      "  for chunk in pd.read_csv(\"/home/charlie/Desktop/master_data.csv\", chunksize=chunk_size):\n"
     ]
    },
    {
     "name": "stdout",
     "output_type": "stream",
     "text": [
      "Missing columns in this chunk: {'tunnel_parents   label   detailed-label'}\n",
      "Missing columns in this chunk: {'tunnel_parents   label   detailed-label'}\n",
      "Missing columns in this chunk: {'tunnel_parents   label   detailed-label'}\n"
     ]
    },
    {
     "name": "stderr",
     "output_type": "stream",
     "text": [
      "/tmp/ipykernel_18148/1266505323.py:8: DtypeWarning: Columns (7) have mixed types. Specify dtype option on import or set low_memory=False.\n",
      "  for chunk in pd.read_csv(\"/home/charlie/Desktop/master_data.csv\", chunksize=chunk_size):\n",
      "/tmp/ipykernel_18148/1266505323.py:8: DtypeWarning: Columns (7) have mixed types. Specify dtype option on import or set low_memory=False.\n",
      "  for chunk in pd.read_csv(\"/home/charlie/Desktop/master_data.csv\", chunksize=chunk_size):\n"
     ]
    },
    {
     "name": "stdout",
     "output_type": "stream",
     "text": [
      "Missing columns in this chunk: {'tunnel_parents   label   detailed-label'}\n",
      "Missing columns in this chunk: {'tunnel_parents   label   detailed-label'}\n"
     ]
    },
    {
     "name": "stderr",
     "output_type": "stream",
     "text": [
      "/tmp/ipykernel_18148/1266505323.py:8: DtypeWarning: Columns (7) have mixed types. Specify dtype option on import or set low_memory=False.\n",
      "  for chunk in pd.read_csv(\"/home/charlie/Desktop/master_data.csv\", chunksize=chunk_size):\n"
     ]
    },
    {
     "name": "stdout",
     "output_type": "stream",
     "text": [
      "Missing columns in this chunk: {'tunnel_parents   label   detailed-label'}\n",
      "Missing columns in this chunk: {'tunnel_parents   label   detailed-label'}\n"
     ]
    },
    {
     "name": "stderr",
     "output_type": "stream",
     "text": [
      "/tmp/ipykernel_18148/1266505323.py:8: DtypeWarning: Columns (7) have mixed types. Specify dtype option on import or set low_memory=False.\n",
      "  for chunk in pd.read_csv(\"/home/charlie/Desktop/master_data.csv\", chunksize=chunk_size):\n"
     ]
    },
    {
     "name": "stdout",
     "output_type": "stream",
     "text": [
      "Missing columns in this chunk: {'tunnel_parents   label   detailed-label'}\n",
      "Missing columns in this chunk: {'tunnel_parents   label   detailed-label'}\n"
     ]
    },
    {
     "name": "stderr",
     "output_type": "stream",
     "text": [
      "/tmp/ipykernel_18148/1266505323.py:8: DtypeWarning: Columns (7) have mixed types. Specify dtype option on import or set low_memory=False.\n",
      "  for chunk in pd.read_csv(\"/home/charlie/Desktop/master_data.csv\", chunksize=chunk_size):\n"
     ]
    },
    {
     "name": "stdout",
     "output_type": "stream",
     "text": [
      "Missing columns in this chunk: {'tunnel_parents   label   detailed-label'}\n",
      "Missing columns in this chunk: {'tunnel_parents   label   detailed-label'}\n"
     ]
    },
    {
     "name": "stderr",
     "output_type": "stream",
     "text": [
      "/tmp/ipykernel_18148/1266505323.py:8: DtypeWarning: Columns (7) have mixed types. Specify dtype option on import or set low_memory=False.\n",
      "  for chunk in pd.read_csv(\"/home/charlie/Desktop/master_data.csv\", chunksize=chunk_size):\n",
      "/tmp/ipykernel_18148/1266505323.py:8: DtypeWarning: Columns (7) have mixed types. Specify dtype option on import or set low_memory=False.\n",
      "  for chunk in pd.read_csv(\"/home/charlie/Desktop/master_data.csv\", chunksize=chunk_size):\n"
     ]
    },
    {
     "name": "stdout",
     "output_type": "stream",
     "text": [
      "Missing columns in this chunk: {'tunnel_parents   label   detailed-label'}\n",
      "Missing columns in this chunk: {'tunnel_parents   label   detailed-label'}\n",
      "Missing columns in this chunk: {'tunnel_parents   label   detailed-label'}\n"
     ]
    },
    {
     "name": "stderr",
     "output_type": "stream",
     "text": [
      "/tmp/ipykernel_18148/1266505323.py:8: DtypeWarning: Columns (7) have mixed types. Specify dtype option on import or set low_memory=False.\n",
      "  for chunk in pd.read_csv(\"/home/charlie/Desktop/master_data.csv\", chunksize=chunk_size):\n"
     ]
    },
    {
     "name": "stdout",
     "output_type": "stream",
     "text": [
      "Missing columns in this chunk: {'tunnel_parents   label   detailed-label'}\n",
      "Missing columns in this chunk: {'tunnel_parents   label   detailed-label'}\n"
     ]
    },
    {
     "name": "stderr",
     "output_type": "stream",
     "text": [
      "/tmp/ipykernel_18148/1266505323.py:8: DtypeWarning: Columns (7) have mixed types. Specify dtype option on import or set low_memory=False.\n",
      "  for chunk in pd.read_csv(\"/home/charlie/Desktop/master_data.csv\", chunksize=chunk_size):\n"
     ]
    },
    {
     "name": "stdout",
     "output_type": "stream",
     "text": [
      "Missing columns in this chunk: {'tunnel_parents   label   detailed-label'}\n",
      "Missing columns in this chunk: {'tunnel_parents   label   detailed-label'}\n"
     ]
    },
    {
     "name": "stderr",
     "output_type": "stream",
     "text": [
      "/tmp/ipykernel_18148/1266505323.py:8: DtypeWarning: Columns (7) have mixed types. Specify dtype option on import or set low_memory=False.\n",
      "  for chunk in pd.read_csv(\"/home/charlie/Desktop/master_data.csv\", chunksize=chunk_size):\n"
     ]
    },
    {
     "name": "stdout",
     "output_type": "stream",
     "text": [
      "Missing columns in this chunk: {'tunnel_parents   label   detailed-label'}\n",
      "Missing columns in this chunk: {'tunnel_parents   label   detailed-label'}\n"
     ]
    },
    {
     "name": "stderr",
     "output_type": "stream",
     "text": [
      "/tmp/ipykernel_18148/1266505323.py:8: DtypeWarning: Columns (7) have mixed types. Specify dtype option on import or set low_memory=False.\n",
      "  for chunk in pd.read_csv(\"/home/charlie/Desktop/master_data.csv\", chunksize=chunk_size):\n"
     ]
    },
    {
     "name": "stdout",
     "output_type": "stream",
     "text": [
      "Missing columns in this chunk: {'tunnel_parents   label   detailed-label'}\n",
      "Missing columns in this chunk: {'tunnel_parents   label   detailed-label'}\n"
     ]
    },
    {
     "name": "stderr",
     "output_type": "stream",
     "text": [
      "/tmp/ipykernel_18148/1266505323.py:8: DtypeWarning: Columns (7) have mixed types. Specify dtype option on import or set low_memory=False.\n",
      "  for chunk in pd.read_csv(\"/home/charlie/Desktop/master_data.csv\", chunksize=chunk_size):\n"
     ]
    },
    {
     "name": "stdout",
     "output_type": "stream",
     "text": [
      "Missing columns in this chunk: {'tunnel_parents   label   detailed-label'}\n",
      "Missing columns in this chunk: {'tunnel_parents   label   detailed-label'}\n"
     ]
    },
    {
     "name": "stderr",
     "output_type": "stream",
     "text": [
      "/tmp/ipykernel_18148/1266505323.py:8: DtypeWarning: Columns (7) have mixed types. Specify dtype option on import or set low_memory=False.\n",
      "  for chunk in pd.read_csv(\"/home/charlie/Desktop/master_data.csv\", chunksize=chunk_size):\n"
     ]
    },
    {
     "name": "stdout",
     "output_type": "stream",
     "text": [
      "Missing columns in this chunk: {'tunnel_parents   label   detailed-label'}\n",
      "Missing columns in this chunk: {'tunnel_parents   label   detailed-label'}\n"
     ]
    },
    {
     "name": "stderr",
     "output_type": "stream",
     "text": [
      "/tmp/ipykernel_18148/1266505323.py:8: DtypeWarning: Columns (7) have mixed types. Specify dtype option on import or set low_memory=False.\n",
      "  for chunk in pd.read_csv(\"/home/charlie/Desktop/master_data.csv\", chunksize=chunk_size):\n"
     ]
    },
    {
     "name": "stdout",
     "output_type": "stream",
     "text": [
      "Missing columns in this chunk: {'tunnel_parents   label   detailed-label'}\n",
      "Missing columns in this chunk: {'tunnel_parents   label   detailed-label'}\n"
     ]
    },
    {
     "name": "stderr",
     "output_type": "stream",
     "text": [
      "/tmp/ipykernel_18148/1266505323.py:8: DtypeWarning: Columns (7) have mixed types. Specify dtype option on import or set low_memory=False.\n",
      "  for chunk in pd.read_csv(\"/home/charlie/Desktop/master_data.csv\", chunksize=chunk_size):\n"
     ]
    },
    {
     "name": "stdout",
     "output_type": "stream",
     "text": [
      "Missing columns in this chunk: {'tunnel_parents   label   detailed-label'}\n",
      "Missing columns in this chunk: {'tunnel_parents   label   detailed-label'}\n"
     ]
    },
    {
     "name": "stderr",
     "output_type": "stream",
     "text": [
      "/tmp/ipykernel_18148/1266505323.py:8: DtypeWarning: Columns (7) have mixed types. Specify dtype option on import or set low_memory=False.\n",
      "  for chunk in pd.read_csv(\"/home/charlie/Desktop/master_data.csv\", chunksize=chunk_size):\n"
     ]
    },
    {
     "name": "stdout",
     "output_type": "stream",
     "text": [
      "Missing columns in this chunk: {'tunnel_parents   label   detailed-label'}\n",
      "Missing columns in this chunk: {'tunnel_parents   label   detailed-label'}\n"
     ]
    },
    {
     "name": "stderr",
     "output_type": "stream",
     "text": [
      "/tmp/ipykernel_18148/1266505323.py:8: DtypeWarning: Columns (7) have mixed types. Specify dtype option on import or set low_memory=False.\n",
      "  for chunk in pd.read_csv(\"/home/charlie/Desktop/master_data.csv\", chunksize=chunk_size):\n"
     ]
    },
    {
     "name": "stdout",
     "output_type": "stream",
     "text": [
      "Missing columns in this chunk: {'tunnel_parents   label   detailed-label'}\n",
      "Missing columns in this chunk: {'tunnel_parents   label   detailed-label'}\n"
     ]
    },
    {
     "name": "stderr",
     "output_type": "stream",
     "text": [
      "/tmp/ipykernel_18148/1266505323.py:8: DtypeWarning: Columns (7) have mixed types. Specify dtype option on import or set low_memory=False.\n",
      "  for chunk in pd.read_csv(\"/home/charlie/Desktop/master_data.csv\", chunksize=chunk_size):\n"
     ]
    },
    {
     "name": "stdout",
     "output_type": "stream",
     "text": [
      "Missing columns in this chunk: {'tunnel_parents   label   detailed-label'}\n",
      "Missing columns in this chunk: {'tunnel_parents   label   detailed-label'}\n"
     ]
    },
    {
     "name": "stderr",
     "output_type": "stream",
     "text": [
      "/tmp/ipykernel_18148/1266505323.py:8: DtypeWarning: Columns (7) have mixed types. Specify dtype option on import or set low_memory=False.\n",
      "  for chunk in pd.read_csv(\"/home/charlie/Desktop/master_data.csv\", chunksize=chunk_size):\n"
     ]
    },
    {
     "name": "stdout",
     "output_type": "stream",
     "text": [
      "Missing columns in this chunk: {'tunnel_parents   label   detailed-label'}\n",
      "Missing columns in this chunk: {'tunnel_parents   label   detailed-label'}\n"
     ]
    },
    {
     "name": "stderr",
     "output_type": "stream",
     "text": [
      "/tmp/ipykernel_18148/1266505323.py:8: DtypeWarning: Columns (7) have mixed types. Specify dtype option on import or set low_memory=False.\n",
      "  for chunk in pd.read_csv(\"/home/charlie/Desktop/master_data.csv\", chunksize=chunk_size):\n"
     ]
    },
    {
     "name": "stdout",
     "output_type": "stream",
     "text": [
      "Missing columns in this chunk: {'tunnel_parents   label   detailed-label'}\n",
      "Missing columns in this chunk: {'tunnel_parents   label   detailed-label'}\n"
     ]
    },
    {
     "name": "stderr",
     "output_type": "stream",
     "text": [
      "/tmp/ipykernel_18148/1266505323.py:8: DtypeWarning: Columns (7) have mixed types. Specify dtype option on import or set low_memory=False.\n",
      "  for chunk in pd.read_csv(\"/home/charlie/Desktop/master_data.csv\", chunksize=chunk_size):\n",
      "/tmp/ipykernel_18148/1266505323.py:8: DtypeWarning: Columns (7) have mixed types. Specify dtype option on import or set low_memory=False.\n",
      "  for chunk in pd.read_csv(\"/home/charlie/Desktop/master_data.csv\", chunksize=chunk_size):\n"
     ]
    },
    {
     "name": "stdout",
     "output_type": "stream",
     "text": [
      "Missing columns in this chunk: {'tunnel_parents   label   detailed-label'}\n",
      "Missing columns in this chunk: {'tunnel_parents   label   detailed-label'}\n",
      "Missing columns in this chunk: {'tunnel_parents   label   detailed-label'}\n"
     ]
    },
    {
     "name": "stderr",
     "output_type": "stream",
     "text": [
      "/tmp/ipykernel_18148/1266505323.py:8: DtypeWarning: Columns (7) have mixed types. Specify dtype option on import or set low_memory=False.\n",
      "  for chunk in pd.read_csv(\"/home/charlie/Desktop/master_data.csv\", chunksize=chunk_size):\n"
     ]
    },
    {
     "name": "stdout",
     "output_type": "stream",
     "text": [
      "Missing columns in this chunk: {'tunnel_parents   label   detailed-label'}\n",
      "Missing columns in this chunk: {'tunnel_parents   label   detailed-label'}\n"
     ]
    },
    {
     "name": "stderr",
     "output_type": "stream",
     "text": [
      "/tmp/ipykernel_18148/1266505323.py:8: DtypeWarning: Columns (7) have mixed types. Specify dtype option on import or set low_memory=False.\n",
      "  for chunk in pd.read_csv(\"/home/charlie/Desktop/master_data.csv\", chunksize=chunk_size):\n"
     ]
    },
    {
     "name": "stdout",
     "output_type": "stream",
     "text": [
      "Missing columns in this chunk: {'tunnel_parents   label   detailed-label'}\n",
      "Missing columns in this chunk: {'tunnel_parents   label   detailed-label'}\n"
     ]
    },
    {
     "name": "stderr",
     "output_type": "stream",
     "text": [
      "/tmp/ipykernel_18148/1266505323.py:8: DtypeWarning: Columns (7) have mixed types. Specify dtype option on import or set low_memory=False.\n",
      "  for chunk in pd.read_csv(\"/home/charlie/Desktop/master_data.csv\", chunksize=chunk_size):\n",
      "/tmp/ipykernel_18148/1266505323.py:8: DtypeWarning: Columns (7) have mixed types. Specify dtype option on import or set low_memory=False.\n",
      "  for chunk in pd.read_csv(\"/home/charlie/Desktop/master_data.csv\", chunksize=chunk_size):\n"
     ]
    },
    {
     "name": "stdout",
     "output_type": "stream",
     "text": [
      "Missing columns in this chunk: {'tunnel_parents   label   detailed-label'}\n",
      "Missing columns in this chunk: {'tunnel_parents   label   detailed-label'}\n"
     ]
    },
    {
     "name": "stderr",
     "output_type": "stream",
     "text": [
      "/tmp/ipykernel_18148/1266505323.py:8: DtypeWarning: Columns (7) have mixed types. Specify dtype option on import or set low_memory=False.\n",
      "  for chunk in pd.read_csv(\"/home/charlie/Desktop/master_data.csv\", chunksize=chunk_size):\n",
      "/tmp/ipykernel_18148/1266505323.py:8: DtypeWarning: Columns (7) have mixed types. Specify dtype option on import or set low_memory=False.\n",
      "  for chunk in pd.read_csv(\"/home/charlie/Desktop/master_data.csv\", chunksize=chunk_size):\n"
     ]
    },
    {
     "name": "stdout",
     "output_type": "stream",
     "text": [
      "Missing columns in this chunk: {'tunnel_parents   label   detailed-label'}\n",
      "Missing columns in this chunk: {'tunnel_parents   label   detailed-label'}\n",
      "Missing columns in this chunk: {'tunnel_parents   label   detailed-label'}\n"
     ]
    },
    {
     "name": "stderr",
     "output_type": "stream",
     "text": [
      "/tmp/ipykernel_18148/1266505323.py:8: DtypeWarning: Columns (7) have mixed types. Specify dtype option on import or set low_memory=False.\n",
      "  for chunk in pd.read_csv(\"/home/charlie/Desktop/master_data.csv\", chunksize=chunk_size):\n"
     ]
    },
    {
     "name": "stdout",
     "output_type": "stream",
     "text": [
      "Missing columns in this chunk: {'tunnel_parents   label   detailed-label'}\n",
      "Missing columns in this chunk: {'tunnel_parents   label   detailed-label'}\n"
     ]
    },
    {
     "name": "stderr",
     "output_type": "stream",
     "text": [
      "/tmp/ipykernel_18148/1266505323.py:8: DtypeWarning: Columns (7) have mixed types. Specify dtype option on import or set low_memory=False.\n",
      "  for chunk in pd.read_csv(\"/home/charlie/Desktop/master_data.csv\", chunksize=chunk_size):\n"
     ]
    },
    {
     "name": "stdout",
     "output_type": "stream",
     "text": [
      "Missing columns in this chunk: {'tunnel_parents   label   detailed-label'}\n",
      "Missing columns in this chunk: {'tunnel_parents   label   detailed-label'}\n"
     ]
    },
    {
     "name": "stderr",
     "output_type": "stream",
     "text": [
      "/tmp/ipykernel_18148/1266505323.py:8: DtypeWarning: Columns (7) have mixed types. Specify dtype option on import or set low_memory=False.\n",
      "  for chunk in pd.read_csv(\"/home/charlie/Desktop/master_data.csv\", chunksize=chunk_size):\n"
     ]
    },
    {
     "name": "stdout",
     "output_type": "stream",
     "text": [
      "Missing columns in this chunk: {'tunnel_parents   label   detailed-label'}\n",
      "Missing columns in this chunk: {'tunnel_parents   label   detailed-label'}\n"
     ]
    },
    {
     "name": "stderr",
     "output_type": "stream",
     "text": [
      "/tmp/ipykernel_18148/1266505323.py:8: DtypeWarning: Columns (7) have mixed types. Specify dtype option on import or set low_memory=False.\n",
      "  for chunk in pd.read_csv(\"/home/charlie/Desktop/master_data.csv\", chunksize=chunk_size):\n"
     ]
    },
    {
     "name": "stdout",
     "output_type": "stream",
     "text": [
      "Missing columns in this chunk: {'tunnel_parents   label   detailed-label'}\n",
      "Missing columns in this chunk: {'tunnel_parents   label   detailed-label'}\n"
     ]
    },
    {
     "name": "stderr",
     "output_type": "stream",
     "text": [
      "/tmp/ipykernel_18148/1266505323.py:8: DtypeWarning: Columns (7) have mixed types. Specify dtype option on import or set low_memory=False.\n",
      "  for chunk in pd.read_csv(\"/home/charlie/Desktop/master_data.csv\", chunksize=chunk_size):\n"
     ]
    },
    {
     "name": "stdout",
     "output_type": "stream",
     "text": [
      "Missing columns in this chunk: {'tunnel_parents   label   detailed-label'}\n",
      "Missing columns in this chunk: {'tunnel_parents   label   detailed-label'}\n"
     ]
    },
    {
     "name": "stderr",
     "output_type": "stream",
     "text": [
      "/tmp/ipykernel_18148/1266505323.py:8: DtypeWarning: Columns (7) have mixed types. Specify dtype option on import or set low_memory=False.\n",
      "  for chunk in pd.read_csv(\"/home/charlie/Desktop/master_data.csv\", chunksize=chunk_size):\n",
      "/tmp/ipykernel_18148/1266505323.py:8: DtypeWarning: Columns (7) have mixed types. Specify dtype option on import or set low_memory=False.\n",
      "  for chunk in pd.read_csv(\"/home/charlie/Desktop/master_data.csv\", chunksize=chunk_size):\n"
     ]
    },
    {
     "name": "stdout",
     "output_type": "stream",
     "text": [
      "Missing columns in this chunk: {'tunnel_parents   label   detailed-label'}\n",
      "Missing columns in this chunk: {'tunnel_parents   label   detailed-label'}\n",
      "Missing columns in this chunk: {'tunnel_parents   label   detailed-label'}\n"
     ]
    },
    {
     "name": "stderr",
     "output_type": "stream",
     "text": [
      "/tmp/ipykernel_18148/1266505323.py:8: DtypeWarning: Columns (7) have mixed types. Specify dtype option on import or set low_memory=False.\n",
      "  for chunk in pd.read_csv(\"/home/charlie/Desktop/master_data.csv\", chunksize=chunk_size):\n"
     ]
    },
    {
     "name": "stdout",
     "output_type": "stream",
     "text": [
      "Missing columns in this chunk: {'tunnel_parents   label   detailed-label'}\n",
      "Missing columns in this chunk: {'tunnel_parents   label   detailed-label'}\n"
     ]
    },
    {
     "name": "stderr",
     "output_type": "stream",
     "text": [
      "/tmp/ipykernel_18148/1266505323.py:8: DtypeWarning: Columns (7) have mixed types. Specify dtype option on import or set low_memory=False.\n",
      "  for chunk in pd.read_csv(\"/home/charlie/Desktop/master_data.csv\", chunksize=chunk_size):\n"
     ]
    },
    {
     "name": "stdout",
     "output_type": "stream",
     "text": [
      "Missing columns in this chunk: {'tunnel_parents   label   detailed-label'}\n",
      "Missing columns in this chunk: {'tunnel_parents   label   detailed-label'}\n"
     ]
    },
    {
     "name": "stderr",
     "output_type": "stream",
     "text": [
      "/tmp/ipykernel_18148/1266505323.py:8: DtypeWarning: Columns (7) have mixed types. Specify dtype option on import or set low_memory=False.\n",
      "  for chunk in pd.read_csv(\"/home/charlie/Desktop/master_data.csv\", chunksize=chunk_size):\n",
      "/tmp/ipykernel_18148/1266505323.py:8: DtypeWarning: Columns (7) have mixed types. Specify dtype option on import or set low_memory=False.\n",
      "  for chunk in pd.read_csv(\"/home/charlie/Desktop/master_data.csv\", chunksize=chunk_size):\n"
     ]
    },
    {
     "name": "stdout",
     "output_type": "stream",
     "text": [
      "Missing columns in this chunk: {'tunnel_parents   label   detailed-label'}\n",
      "Missing columns in this chunk: {'tunnel_parents   label   detailed-label'}\n"
     ]
    },
    {
     "name": "stderr",
     "output_type": "stream",
     "text": [
      "/tmp/ipykernel_18148/1266505323.py:8: DtypeWarning: Columns (7) have mixed types. Specify dtype option on import or set low_memory=False.\n",
      "  for chunk in pd.read_csv(\"/home/charlie/Desktop/master_data.csv\", chunksize=chunk_size):\n"
     ]
    },
    {
     "name": "stdout",
     "output_type": "stream",
     "text": [
      "Missing columns in this chunk: {'tunnel_parents   label   detailed-label'}\n",
      "Missing columns in this chunk: {'tunnel_parents   label   detailed-label'}\n",
      "Missing columns in this chunk: {'tunnel_parents   label   detailed-label'}\n",
      "Missing columns in this chunk: {'tunnel_parents   label   detailed-label'}\n",
      "Missing columns in this chunk: {'tunnel_parents   label   detailed-label'}\n",
      "Missing columns in this chunk: {'tunnel_parents   label   detailed-label'}\n",
      "Missing columns in this chunk: {'tunnel_parents   label   detailed-label'}\n",
      "Missing columns in this chunk: {'tunnel_parents   label   detailed-label'}\n",
      "Missing columns in this chunk: {'tunnel_parents   label   detailed-label'}\n",
      "Missing columns in this chunk: {'tunnel_parents   label   detailed-label'}\n",
      "Missing columns in this chunk: {'tunnel_parents   label   detailed-label'}\n",
      "Missing columns in this chunk: {'tunnel_parents   label   detailed-label'}\n",
      "Missing columns in this chunk: {'tunnel_parents   label   detailed-label'}\n",
      "Missing columns in this chunk: {'tunnel_parents   label   detailed-label'}\n",
      "Missing columns in this chunk: {'tunnel_parents   label   detailed-label'}\n",
      "Missing columns in this chunk: {'tunnel_parents   label   detailed-label'}\n"
     ]
    },
    {
     "name": "stderr",
     "output_type": "stream",
     "text": [
      "/tmp/ipykernel_18148/1266505323.py:8: DtypeWarning: Columns (7) have mixed types. Specify dtype option on import or set low_memory=False.\n",
      "  for chunk in pd.read_csv(\"/home/charlie/Desktop/master_data.csv\", chunksize=chunk_size):\n"
     ]
    },
    {
     "name": "stdout",
     "output_type": "stream",
     "text": [
      "Missing columns in this chunk: {'tunnel_parents   label   detailed-label'}\n",
      "Missing columns in this chunk: {'tunnel_parents   label   detailed-label'}\n"
     ]
    },
    {
     "name": "stderr",
     "output_type": "stream",
     "text": [
      "/tmp/ipykernel_18148/1266505323.py:8: DtypeWarning: Columns (7) have mixed types. Specify dtype option on import or set low_memory=False.\n",
      "  for chunk in pd.read_csv(\"/home/charlie/Desktop/master_data.csv\", chunksize=chunk_size):\n"
     ]
    },
    {
     "name": "stdout",
     "output_type": "stream",
     "text": [
      "Missing columns in this chunk: {'tunnel_parents   label   detailed-label'}\n",
      "Missing columns in this chunk: {'tunnel_parents   label   detailed-label'}\n",
      "Missing columns in this chunk: {'tunnel_parents   label   detailed-label'}\n",
      "Missing columns in this chunk: {'tunnel_parents   label   detailed-label'}\n",
      "Missing columns in this chunk: {'tunnel_parents   label   detailed-label'}\n",
      "Missing columns in this chunk: {'tunnel_parents   label   detailed-label'}\n",
      "Missing columns in this chunk: {'tunnel_parents   label   detailed-label'}\n",
      "Missing columns in this chunk: {'tunnel_parents   label   detailed-label'}\n",
      "Missing columns in this chunk: {'tunnel_parents   label   detailed-label'}\n",
      "Missing columns in this chunk: {'tunnel_parents   label   detailed-label'}\n"
     ]
    },
    {
     "name": "stderr",
     "output_type": "stream",
     "text": [
      "/tmp/ipykernel_18148/1266505323.py:8: DtypeWarning: Columns (7) have mixed types. Specify dtype option on import or set low_memory=False.\n",
      "  for chunk in pd.read_csv(\"/home/charlie/Desktop/master_data.csv\", chunksize=chunk_size):\n",
      "/tmp/ipykernel_18148/1266505323.py:8: DtypeWarning: Columns (7) have mixed types. Specify dtype option on import or set low_memory=False.\n",
      "  for chunk in pd.read_csv(\"/home/charlie/Desktop/master_data.csv\", chunksize=chunk_size):\n"
     ]
    },
    {
     "name": "stdout",
     "output_type": "stream",
     "text": [
      "Missing columns in this chunk: {'tunnel_parents   label   detailed-label'}\n",
      "Missing columns in this chunk: {'tunnel_parents   label   detailed-label'}\n"
     ]
    },
    {
     "name": "stderr",
     "output_type": "stream",
     "text": [
      "/tmp/ipykernel_18148/1266505323.py:8: DtypeWarning: Columns (7) have mixed types. Specify dtype option on import or set low_memory=False.\n",
      "  for chunk in pd.read_csv(\"/home/charlie/Desktop/master_data.csv\", chunksize=chunk_size):\n"
     ]
    },
    {
     "name": "stdout",
     "output_type": "stream",
     "text": [
      "Missing columns in this chunk: {'tunnel_parents   label   detailed-label'}\n",
      "Missing columns in this chunk: {'tunnel_parents   label   detailed-label'}\n",
      "Missing columns in this chunk: {'tunnel_parents   label   detailed-label'}\n"
     ]
    },
    {
     "name": "stderr",
     "output_type": "stream",
     "text": [
      "/tmp/ipykernel_18148/1266505323.py:8: DtypeWarning: Columns (7) have mixed types. Specify dtype option on import or set low_memory=False.\n",
      "  for chunk in pd.read_csv(\"/home/charlie/Desktop/master_data.csv\", chunksize=chunk_size):\n"
     ]
    },
    {
     "name": "stdout",
     "output_type": "stream",
     "text": [
      "Missing columns in this chunk: {'tunnel_parents   label   detailed-label'}\n",
      "Missing columns in this chunk: {'tunnel_parents   label   detailed-label'}\n"
     ]
    },
    {
     "name": "stderr",
     "output_type": "stream",
     "text": [
      "/tmp/ipykernel_18148/1266505323.py:8: DtypeWarning: Columns (7) have mixed types. Specify dtype option on import or set low_memory=False.\n",
      "  for chunk in pd.read_csv(\"/home/charlie/Desktop/master_data.csv\", chunksize=chunk_size):\n"
     ]
    },
    {
     "name": "stdout",
     "output_type": "stream",
     "text": [
      "Missing columns in this chunk: {'tunnel_parents   label   detailed-label'}\n",
      "Missing columns in this chunk: {'tunnel_parents   label   detailed-label'}\n",
      "Missing columns in this chunk: {'tunnel_parents   label   detailed-label'}\n",
      "Missing columns in this chunk: {'tunnel_parents   label   detailed-label'}\n",
      "Missing columns in this chunk: {'tunnel_parents   label   detailed-label'}\n"
     ]
    },
    {
     "name": "stderr",
     "output_type": "stream",
     "text": [
      "/tmp/ipykernel_18148/1266505323.py:8: DtypeWarning: Columns (7) have mixed types. Specify dtype option on import or set low_memory=False.\n",
      "  for chunk in pd.read_csv(\"/home/charlie/Desktop/master_data.csv\", chunksize=chunk_size):\n"
     ]
    },
    {
     "name": "stdout",
     "output_type": "stream",
     "text": [
      "Missing columns in this chunk: {'tunnel_parents   label   detailed-label'}\n",
      "Missing columns in this chunk: {'tunnel_parents   label   detailed-label'}\n"
     ]
    },
    {
     "name": "stderr",
     "output_type": "stream",
     "text": [
      "/tmp/ipykernel_18148/1266505323.py:8: DtypeWarning: Columns (7) have mixed types. Specify dtype option on import or set low_memory=False.\n",
      "  for chunk in pd.read_csv(\"/home/charlie/Desktop/master_data.csv\", chunksize=chunk_size):\n",
      "/tmp/ipykernel_18148/1266505323.py:8: DtypeWarning: Columns (7) have mixed types. Specify dtype option on import or set low_memory=False.\n",
      "  for chunk in pd.read_csv(\"/home/charlie/Desktop/master_data.csv\", chunksize=chunk_size):\n"
     ]
    },
    {
     "name": "stdout",
     "output_type": "stream",
     "text": [
      "Missing columns in this chunk: {'tunnel_parents   label   detailed-label'}\n",
      "Missing columns in this chunk: {'tunnel_parents   label   detailed-label'}\n",
      "Missing columns in this chunk: {'tunnel_parents   label   detailed-label'}\n"
     ]
    },
    {
     "name": "stderr",
     "output_type": "stream",
     "text": [
      "/tmp/ipykernel_18148/1266505323.py:8: DtypeWarning: Columns (7) have mixed types. Specify dtype option on import or set low_memory=False.\n",
      "  for chunk in pd.read_csv(\"/home/charlie/Desktop/master_data.csv\", chunksize=chunk_size):\n"
     ]
    },
    {
     "name": "stdout",
     "output_type": "stream",
     "text": [
      "Missing columns in this chunk: {'tunnel_parents   label   detailed-label'}\n",
      "Missing columns in this chunk: {'tunnel_parents   label   detailed-label'}\n",
      "Missing columns in this chunk: {'tunnel_parents   label   detailed-label'}\n",
      "Missing columns in this chunk: {'tunnel_parents   label   detailed-label'}\n",
      "Missing columns in this chunk: {'tunnel_parents   label   detailed-label'}\n",
      "Missing columns in this chunk: {'tunnel_parents   label   detailed-label'}\n",
      "Missing columns in this chunk: {'tunnel_parents   label   detailed-label'}\n",
      "Missing columns in this chunk: {'tunnel_parents   label   detailed-label'}\n",
      "Missing columns in this chunk: {'tunnel_parents   label   detailed-label'}\n"
     ]
    },
    {
     "name": "stderr",
     "output_type": "stream",
     "text": [
      "/tmp/ipykernel_18148/1266505323.py:8: DtypeWarning: Columns (7) have mixed types. Specify dtype option on import or set low_memory=False.\n",
      "  for chunk in pd.read_csv(\"/home/charlie/Desktop/master_data.csv\", chunksize=chunk_size):\n",
      "/tmp/ipykernel_18148/1266505323.py:8: DtypeWarning: Columns (7) have mixed types. Specify dtype option on import or set low_memory=False.\n",
      "  for chunk in pd.read_csv(\"/home/charlie/Desktop/master_data.csv\", chunksize=chunk_size):\n"
     ]
    },
    {
     "name": "stdout",
     "output_type": "stream",
     "text": [
      "Missing columns in this chunk: {'tunnel_parents   label   detailed-label'}\n",
      "Missing columns in this chunk: {'tunnel_parents   label   detailed-label'}\n",
      "Missing columns in this chunk: {'tunnel_parents   label   detailed-label'}\n",
      "Missing columns in this chunk: {'tunnel_parents   label   detailed-label'}\n",
      "Missing columns in this chunk: {'tunnel_parents   label   detailed-label'}\n",
      "Missing columns in this chunk: {'tunnel_parents   label   detailed-label'}\n",
      "Missing columns in this chunk: {'tunnel_parents   label   detailed-label'}\n",
      "Missing columns in this chunk: {'tunnel_parents   label   detailed-label'}\n",
      "Missing columns in this chunk: {'tunnel_parents   label   detailed-label'}\n",
      "Missing columns in this chunk: {'tunnel_parents   label   detailed-label'}\n",
      "Missing columns in this chunk: {'tunnel_parents   label   detailed-label'}\n",
      "Missing columns in this chunk: {'tunnel_parents   label   detailed-label'}\n",
      "Missing columns in this chunk: {'tunnel_parents   label   detailed-label'}\n"
     ]
    },
    {
     "name": "stderr",
     "output_type": "stream",
     "text": [
      "/tmp/ipykernel_18148/1266505323.py:8: DtypeWarning: Columns (7) have mixed types. Specify dtype option on import or set low_memory=False.\n",
      "  for chunk in pd.read_csv(\"/home/charlie/Desktop/master_data.csv\", chunksize=chunk_size):\n"
     ]
    },
    {
     "name": "stdout",
     "output_type": "stream",
     "text": [
      "Missing columns in this chunk: {'tunnel_parents   label   detailed-label'}\n",
      "Missing columns in this chunk: {'tunnel_parents   label   detailed-label'}\n"
     ]
    },
    {
     "name": "stderr",
     "output_type": "stream",
     "text": [
      "/tmp/ipykernel_18148/1266505323.py:8: DtypeWarning: Columns (7) have mixed types. Specify dtype option on import or set low_memory=False.\n",
      "  for chunk in pd.read_csv(\"/home/charlie/Desktop/master_data.csv\", chunksize=chunk_size):\n"
     ]
    },
    {
     "name": "stdout",
     "output_type": "stream",
     "text": [
      "Missing columns in this chunk: {'tunnel_parents   label   detailed-label'}\n",
      "Missing columns in this chunk: {'tunnel_parents   label   detailed-label'}\n"
     ]
    },
    {
     "name": "stderr",
     "output_type": "stream",
     "text": [
      "/tmp/ipykernel_18148/1266505323.py:8: DtypeWarning: Columns (7) have mixed types. Specify dtype option on import or set low_memory=False.\n",
      "  for chunk in pd.read_csv(\"/home/charlie/Desktop/master_data.csv\", chunksize=chunk_size):\n"
     ]
    },
    {
     "name": "stdout",
     "output_type": "stream",
     "text": [
      "Missing columns in this chunk: {'tunnel_parents   label   detailed-label'}\n",
      "Missing columns in this chunk: {'tunnel_parents   label   detailed-label'}\n"
     ]
    },
    {
     "name": "stderr",
     "output_type": "stream",
     "text": [
      "/tmp/ipykernel_18148/1266505323.py:8: DtypeWarning: Columns (7) have mixed types. Specify dtype option on import or set low_memory=False.\n",
      "  for chunk in pd.read_csv(\"/home/charlie/Desktop/master_data.csv\", chunksize=chunk_size):\n"
     ]
    },
    {
     "name": "stdout",
     "output_type": "stream",
     "text": [
      "Missing columns in this chunk: {'tunnel_parents   label   detailed-label'}\n",
      "Missing columns in this chunk: {'tunnel_parents   label   detailed-label'}\n",
      "Missing columns in this chunk: {'tunnel_parents   label   detailed-label'}\n"
     ]
    },
    {
     "name": "stderr",
     "output_type": "stream",
     "text": [
      "/tmp/ipykernel_18148/1266505323.py:8: DtypeWarning: Columns (7) have mixed types. Specify dtype option on import or set low_memory=False.\n",
      "  for chunk in pd.read_csv(\"/home/charlie/Desktop/master_data.csv\", chunksize=chunk_size):\n"
     ]
    },
    {
     "name": "stdout",
     "output_type": "stream",
     "text": [
      "Missing columns in this chunk: {'tunnel_parents   label   detailed-label'}\n",
      "Missing columns in this chunk: {'tunnel_parents   label   detailed-label'}\n",
      "Missing columns in this chunk: {'tunnel_parents   label   detailed-label'}\n",
      "Missing columns in this chunk: {'tunnel_parents   label   detailed-label'}\n"
     ]
    },
    {
     "name": "stderr",
     "output_type": "stream",
     "text": [
      "/tmp/ipykernel_18148/1266505323.py:8: DtypeWarning: Columns (7) have mixed types. Specify dtype option on import or set low_memory=False.\n",
      "  for chunk in pd.read_csv(\"/home/charlie/Desktop/master_data.csv\", chunksize=chunk_size):\n"
     ]
    },
    {
     "name": "stdout",
     "output_type": "stream",
     "text": [
      "Missing columns in this chunk: {'tunnel_parents   label   detailed-label'}\n",
      "Missing columns in this chunk: {'tunnel_parents   label   detailed-label'}\n"
     ]
    },
    {
     "name": "stderr",
     "output_type": "stream",
     "text": [
      "/tmp/ipykernel_18148/1266505323.py:8: DtypeWarning: Columns (7) have mixed types. Specify dtype option on import or set low_memory=False.\n",
      "  for chunk in pd.read_csv(\"/home/charlie/Desktop/master_data.csv\", chunksize=chunk_size):\n"
     ]
    },
    {
     "name": "stdout",
     "output_type": "stream",
     "text": [
      "Missing columns in this chunk: {'tunnel_parents   label   detailed-label'}\n",
      "Missing columns in this chunk: {'tunnel_parents   label   detailed-label'}\n"
     ]
    },
    {
     "name": "stderr",
     "output_type": "stream",
     "text": [
      "/tmp/ipykernel_18148/1266505323.py:8: DtypeWarning: Columns (7) have mixed types. Specify dtype option on import or set low_memory=False.\n",
      "  for chunk in pd.read_csv(\"/home/charlie/Desktop/master_data.csv\", chunksize=chunk_size):\n"
     ]
    },
    {
     "name": "stdout",
     "output_type": "stream",
     "text": [
      "Missing columns in this chunk: {'tunnel_parents   label   detailed-label'}\n",
      "Missing columns in this chunk: {'tunnel_parents   label   detailed-label'}\n"
     ]
    },
    {
     "name": "stderr",
     "output_type": "stream",
     "text": [
      "/tmp/ipykernel_18148/1266505323.py:8: DtypeWarning: Columns (7) have mixed types. Specify dtype option on import or set low_memory=False.\n",
      "  for chunk in pd.read_csv(\"/home/charlie/Desktop/master_data.csv\", chunksize=chunk_size):\n"
     ]
    },
    {
     "name": "stdout",
     "output_type": "stream",
     "text": [
      "Missing columns in this chunk: {'tunnel_parents   label   detailed-label'}\n",
      "Missing columns in this chunk: {'tunnel_parents   label   detailed-label'}\n",
      "Missing columns in this chunk: {'tunnel_parents   label   detailed-label'}\n",
      "Missing columns in this chunk: {'tunnel_parents   label   detailed-label'}\n",
      "Missing columns in this chunk: {'tunnel_parents   label   detailed-label'}\n",
      "Missing columns in this chunk: {'tunnel_parents   label   detailed-label'}\n"
     ]
    },
    {
     "name": "stderr",
     "output_type": "stream",
     "text": [
      "/tmp/ipykernel_18148/1266505323.py:8: DtypeWarning: Columns (7) have mixed types. Specify dtype option on import or set low_memory=False.\n",
      "  for chunk in pd.read_csv(\"/home/charlie/Desktop/master_data.csv\", chunksize=chunk_size):\n"
     ]
    },
    {
     "name": "stdout",
     "output_type": "stream",
     "text": [
      "Missing columns in this chunk: {'tunnel_parents   label   detailed-label'}\n",
      "Missing columns in this chunk: {'tunnel_parents   label   detailed-label'}\n"
     ]
    },
    {
     "name": "stderr",
     "output_type": "stream",
     "text": [
      "/tmp/ipykernel_18148/1266505323.py:8: DtypeWarning: Columns (7) have mixed types. Specify dtype option on import or set low_memory=False.\n",
      "  for chunk in pd.read_csv(\"/home/charlie/Desktop/master_data.csv\", chunksize=chunk_size):\n",
      "/tmp/ipykernel_18148/1266505323.py:8: DtypeWarning: Columns (7) have mixed types. Specify dtype option on import or set low_memory=False.\n",
      "  for chunk in pd.read_csv(\"/home/charlie/Desktop/master_data.csv\", chunksize=chunk_size):\n"
     ]
    },
    {
     "name": "stdout",
     "output_type": "stream",
     "text": [
      "Missing columns in this chunk: {'tunnel_parents   label   detailed-label'}\n",
      "Missing columns in this chunk: {'tunnel_parents   label   detailed-label'}\n"
     ]
    },
    {
     "name": "stderr",
     "output_type": "stream",
     "text": [
      "/tmp/ipykernel_18148/1266505323.py:8: DtypeWarning: Columns (7) have mixed types. Specify dtype option on import or set low_memory=False.\n",
      "  for chunk in pd.read_csv(\"/home/charlie/Desktop/master_data.csv\", chunksize=chunk_size):\n"
     ]
    },
    {
     "name": "stdout",
     "output_type": "stream",
     "text": [
      "Missing columns in this chunk: {'tunnel_parents   label   detailed-label'}\n",
      "Missing columns in this chunk: {'tunnel_parents   label   detailed-label'}\n",
      "Missing columns in this chunk: {'tunnel_parents   label   detailed-label'}\n",
      "Missing columns in this chunk: {'tunnel_parents   label   detailed-label'}\n",
      "Missing columns in this chunk: {'tunnel_parents   label   detailed-label'}\n",
      "Missing columns in this chunk: {'tunnel_parents   label   detailed-label'}\n",
      "Missing columns in this chunk: {'tunnel_parents   label   detailed-label'}\n",
      "Missing columns in this chunk: {'tunnel_parents   label   detailed-label'}\n",
      "Missing columns in this chunk: {'tunnel_parents   label   detailed-label'}\n"
     ]
    },
    {
     "name": "stderr",
     "output_type": "stream",
     "text": [
      "/tmp/ipykernel_18148/1266505323.py:8: DtypeWarning: Columns (7) have mixed types. Specify dtype option on import or set low_memory=False.\n",
      "  for chunk in pd.read_csv(\"/home/charlie/Desktop/master_data.csv\", chunksize=chunk_size):\n"
     ]
    },
    {
     "name": "stdout",
     "output_type": "stream",
     "text": [
      "Missing columns in this chunk: {'tunnel_parents   label   detailed-label'}\n",
      "Missing columns in this chunk: {'tunnel_parents   label   detailed-label'}\n"
     ]
    },
    {
     "name": "stderr",
     "output_type": "stream",
     "text": [
      "/tmp/ipykernel_18148/1266505323.py:8: DtypeWarning: Columns (7) have mixed types. Specify dtype option on import or set low_memory=False.\n",
      "  for chunk in pd.read_csv(\"/home/charlie/Desktop/master_data.csv\", chunksize=chunk_size):\n"
     ]
    },
    {
     "name": "stdout",
     "output_type": "stream",
     "text": [
      "Missing columns in this chunk: {'tunnel_parents   label   detailed-label'}\n",
      "Missing columns in this chunk: {'tunnel_parents   label   detailed-label'}\n",
      "Missing columns in this chunk: {'tunnel_parents   label   detailed-label'}\n",
      "Missing columns in this chunk: {'tunnel_parents   label   detailed-label'}\n",
      "Missing columns in this chunk: {'tunnel_parents   label   detailed-label'}\n",
      "Missing columns in this chunk: {'tunnel_parents   label   detailed-label'}\n",
      "Missing columns in this chunk: {'tunnel_parents   label   detailed-label'}\n",
      "Missing columns in this chunk: {'tunnel_parents   label   detailed-label'}\n",
      "Missing columns in this chunk: {'tunnel_parents   label   detailed-label'}\n"
     ]
    },
    {
     "name": "stderr",
     "output_type": "stream",
     "text": [
      "/tmp/ipykernel_18148/1266505323.py:8: DtypeWarning: Columns (7) have mixed types. Specify dtype option on import or set low_memory=False.\n",
      "  for chunk in pd.read_csv(\"/home/charlie/Desktop/master_data.csv\", chunksize=chunk_size):\n"
     ]
    },
    {
     "name": "stdout",
     "output_type": "stream",
     "text": [
      "Missing columns in this chunk: {'tunnel_parents   label   detailed-label'}\n",
      "Missing columns in this chunk: {'tunnel_parents   label   detailed-label'}\n"
     ]
    },
    {
     "name": "stderr",
     "output_type": "stream",
     "text": [
      "/tmp/ipykernel_18148/1266505323.py:8: DtypeWarning: Columns (7) have mixed types. Specify dtype option on import or set low_memory=False.\n",
      "  for chunk in pd.read_csv(\"/home/charlie/Desktop/master_data.csv\", chunksize=chunk_size):\n"
     ]
    },
    {
     "name": "stdout",
     "output_type": "stream",
     "text": [
      "Missing columns in this chunk: {'tunnel_parents   label   detailed-label'}\n",
      "Missing columns in this chunk: {'tunnel_parents   label   detailed-label'}\n"
     ]
    },
    {
     "name": "stderr",
     "output_type": "stream",
     "text": [
      "/tmp/ipykernel_18148/1266505323.py:8: DtypeWarning: Columns (7) have mixed types. Specify dtype option on import or set low_memory=False.\n",
      "  for chunk in pd.read_csv(\"/home/charlie/Desktop/master_data.csv\", chunksize=chunk_size):\n",
      "/tmp/ipykernel_18148/1266505323.py:8: DtypeWarning: Columns (7) have mixed types. Specify dtype option on import or set low_memory=False.\n",
      "  for chunk in pd.read_csv(\"/home/charlie/Desktop/master_data.csv\", chunksize=chunk_size):\n"
     ]
    },
    {
     "name": "stdout",
     "output_type": "stream",
     "text": [
      "Missing columns in this chunk: {'tunnel_parents   label   detailed-label'}\n",
      "Missing columns in this chunk: {'tunnel_parents   label   detailed-label'}\n"
     ]
    },
    {
     "name": "stderr",
     "output_type": "stream",
     "text": [
      "/tmp/ipykernel_18148/1266505323.py:8: DtypeWarning: Columns (7) have mixed types. Specify dtype option on import or set low_memory=False.\n",
      "  for chunk in pd.read_csv(\"/home/charlie/Desktop/master_data.csv\", chunksize=chunk_size):\n"
     ]
    },
    {
     "name": "stdout",
     "output_type": "stream",
     "text": [
      "Missing columns in this chunk: {'tunnel_parents   label   detailed-label'}\n",
      "Missing columns in this chunk: {'tunnel_parents   label   detailed-label'}\n",
      "Missing columns in this chunk: {'tunnel_parents   label   detailed-label'}\n",
      "Missing columns in this chunk: {'tunnel_parents   label   detailed-label'}\n",
      "Missing columns in this chunk: {'tunnel_parents   label   detailed-label'}\n",
      "Missing columns in this chunk: {'tunnel_parents   label   detailed-label'}\n",
      "Missing columns in this chunk: {'tunnel_parents   label   detailed-label'}\n"
     ]
    },
    {
     "name": "stderr",
     "output_type": "stream",
     "text": [
      "/tmp/ipykernel_18148/1266505323.py:8: DtypeWarning: Columns (7) have mixed types. Specify dtype option on import or set low_memory=False.\n",
      "  for chunk in pd.read_csv(\"/home/charlie/Desktop/master_data.csv\", chunksize=chunk_size):\n"
     ]
    },
    {
     "name": "stdout",
     "output_type": "stream",
     "text": [
      "Missing columns in this chunk: {'tunnel_parents   label   detailed-label'}\n",
      "Missing columns in this chunk: {'tunnel_parents   label   detailed-label'}\n"
     ]
    },
    {
     "name": "stderr",
     "output_type": "stream",
     "text": [
      "/tmp/ipykernel_18148/1266505323.py:8: DtypeWarning: Columns (7) have mixed types. Specify dtype option on import or set low_memory=False.\n",
      "  for chunk in pd.read_csv(\"/home/charlie/Desktop/master_data.csv\", chunksize=chunk_size):\n"
     ]
    },
    {
     "name": "stdout",
     "output_type": "stream",
     "text": [
      "Missing columns in this chunk: {'tunnel_parents   label   detailed-label'}\n",
      "Missing columns in this chunk: {'tunnel_parents   label   detailed-label'}\n",
      "Missing columns in this chunk: {'tunnel_parents   label   detailed-label'}\n",
      "Missing columns in this chunk: {'tunnel_parents   label   detailed-label'}\n",
      "Missing columns in this chunk: {'tunnel_parents   label   detailed-label'}\n",
      "Missing columns in this chunk: {'tunnel_parents   label   detailed-label'}\n",
      "Missing columns in this chunk: {'tunnel_parents   label   detailed-label'}\n",
      "Missing columns in this chunk: {'tunnel_parents   label   detailed-label'}\n",
      "Missing columns in this chunk: {'tunnel_parents   label   detailed-label'}\n",
      "Missing columns in this chunk: {'tunnel_parents   label   detailed-label'}\n",
      "Missing columns in this chunk: {'tunnel_parents   label   detailed-label'}\n"
     ]
    },
    {
     "name": "stderr",
     "output_type": "stream",
     "text": [
      "/tmp/ipykernel_18148/1266505323.py:8: DtypeWarning: Columns (7) have mixed types. Specify dtype option on import or set low_memory=False.\n",
      "  for chunk in pd.read_csv(\"/home/charlie/Desktop/master_data.csv\", chunksize=chunk_size):\n"
     ]
    },
    {
     "name": "stdout",
     "output_type": "stream",
     "text": [
      "Missing columns in this chunk: {'tunnel_parents   label   detailed-label'}\n",
      "Missing columns in this chunk: {'tunnel_parents   label   detailed-label'}\n"
     ]
    },
    {
     "name": "stderr",
     "output_type": "stream",
     "text": [
      "/tmp/ipykernel_18148/1266505323.py:8: DtypeWarning: Columns (7) have mixed types. Specify dtype option on import or set low_memory=False.\n",
      "  for chunk in pd.read_csv(\"/home/charlie/Desktop/master_data.csv\", chunksize=chunk_size):\n"
     ]
    },
    {
     "name": "stdout",
     "output_type": "stream",
     "text": [
      "Missing columns in this chunk: {'tunnel_parents   label   detailed-label'}\n",
      "Missing columns in this chunk: {'tunnel_parents   label   detailed-label'}\n"
     ]
    },
    {
     "name": "stderr",
     "output_type": "stream",
     "text": [
      "/tmp/ipykernel_18148/1266505323.py:8: DtypeWarning: Columns (7) have mixed types. Specify dtype option on import or set low_memory=False.\n",
      "  for chunk in pd.read_csv(\"/home/charlie/Desktop/master_data.csv\", chunksize=chunk_size):\n"
     ]
    },
    {
     "name": "stdout",
     "output_type": "stream",
     "text": [
      "Missing columns in this chunk: {'tunnel_parents   label   detailed-label'}\n",
      "Missing columns in this chunk: {'tunnel_parents   label   detailed-label'}\n"
     ]
    },
    {
     "name": "stderr",
     "output_type": "stream",
     "text": [
      "/tmp/ipykernel_18148/1266505323.py:8: DtypeWarning: Columns (7) have mixed types. Specify dtype option on import or set low_memory=False.\n",
      "  for chunk in pd.read_csv(\"/home/charlie/Desktop/master_data.csv\", chunksize=chunk_size):\n"
     ]
    },
    {
     "name": "stdout",
     "output_type": "stream",
     "text": [
      "Missing columns in this chunk: {'tunnel_parents   label   detailed-label'}\n",
      "Missing columns in this chunk: {'tunnel_parents   label   detailed-label'}\n",
      "Missing columns in this chunk: {'tunnel_parents   label   detailed-label'}\n",
      "Missing columns in this chunk: {'tunnel_parents   label   detailed-label'}\n",
      "Missing columns in this chunk: {'tunnel_parents   label   detailed-label'}\n"
     ]
    },
    {
     "name": "stderr",
     "output_type": "stream",
     "text": [
      "/tmp/ipykernel_18148/1266505323.py:8: DtypeWarning: Columns (7) have mixed types. Specify dtype option on import or set low_memory=False.\n",
      "  for chunk in pd.read_csv(\"/home/charlie/Desktop/master_data.csv\", chunksize=chunk_size):\n"
     ]
    },
    {
     "name": "stdout",
     "output_type": "stream",
     "text": [
      "Missing columns in this chunk: {'tunnel_parents   label   detailed-label'}\n",
      "Missing columns in this chunk: {'tunnel_parents   label   detailed-label'}\n"
     ]
    },
    {
     "name": "stderr",
     "output_type": "stream",
     "text": [
      "/tmp/ipykernel_18148/1266505323.py:8: DtypeWarning: Columns (7) have mixed types. Specify dtype option on import or set low_memory=False.\n",
      "  for chunk in pd.read_csv(\"/home/charlie/Desktop/master_data.csv\", chunksize=chunk_size):\n",
      "/tmp/ipykernel_18148/1266505323.py:8: DtypeWarning: Columns (7) have mixed types. Specify dtype option on import or set low_memory=False.\n",
      "  for chunk in pd.read_csv(\"/home/charlie/Desktop/master_data.csv\", chunksize=chunk_size):\n"
     ]
    },
    {
     "name": "stdout",
     "output_type": "stream",
     "text": [
      "Missing columns in this chunk: {'tunnel_parents   label   detailed-label'}\n",
      "Missing columns in this chunk: {'tunnel_parents   label   detailed-label'}\n",
      "Missing columns in this chunk: {'tunnel_parents   label   detailed-label'}\n",
      "Missing columns in this chunk: {'tunnel_parents   label   detailed-label'}\n",
      "Missing columns in this chunk: {'tunnel_parents   label   detailed-label'}\n",
      "Missing columns in this chunk: {'tunnel_parents   label   detailed-label'}\n",
      "Missing columns in this chunk: {'tunnel_parents   label   detailed-label'}\n",
      "Missing columns in this chunk: {'tunnel_parents   label   detailed-label'}\n",
      "Missing columns in this chunk: {'tunnel_parents   label   detailed-label'}\n",
      "Missing columns in this chunk: {'tunnel_parents   label   detailed-label'}\n",
      "Missing columns in this chunk: {'tunnel_parents   label   detailed-label'}\n",
      "Missing columns in this chunk: {'tunnel_parents   label   detailed-label'}\n",
      "Missing columns in this chunk: {'tunnel_parents   label   detailed-label'}\n"
     ]
    },
    {
     "name": "stderr",
     "output_type": "stream",
     "text": [
      "/tmp/ipykernel_18148/1266505323.py:8: DtypeWarning: Columns (7) have mixed types. Specify dtype option on import or set low_memory=False.\n",
      "  for chunk in pd.read_csv(\"/home/charlie/Desktop/master_data.csv\", chunksize=chunk_size):\n"
     ]
    },
    {
     "name": "stdout",
     "output_type": "stream",
     "text": [
      "Missing columns in this chunk: {'tunnel_parents   label   detailed-label'}\n",
      "Missing columns in this chunk: {'tunnel_parents   label   detailed-label'}\n",
      "Missing columns in this chunk: {'tunnel_parents   label   detailed-label'}\n",
      "Missing columns in this chunk: {'tunnel_parents   label   detailed-label'}\n",
      "Missing columns in this chunk: {'tunnel_parents   label   detailed-label'}\n",
      "Missing columns in this chunk: {'tunnel_parents   label   detailed-label'}\n",
      "Missing columns in this chunk: {'tunnel_parents   label   detailed-label'}\n",
      "Missing columns in this chunk: {'tunnel_parents   label   detailed-label'}\n",
      "Missing columns in this chunk: {'tunnel_parents   label   detailed-label'}\n",
      "Missing columns in this chunk: {'tunnel_parents   label   detailed-label'}\n",
      "Missing columns in this chunk: {'tunnel_parents   label   detailed-label'}\n",
      "Missing columns in this chunk: {'tunnel_parents   label   detailed-label'}\n",
      "Missing columns in this chunk: {'tunnel_parents   label   detailed-label'}\n",
      "Missing columns in this chunk: {'tunnel_parents   label   detailed-label'}\n",
      "Missing columns in this chunk: {'tunnel_parents   label   detailed-label'}\n",
      "Missing columns in this chunk: {'tunnel_parents   label   detailed-label'}\n",
      "Missing columns in this chunk: {'tunnel_parents   label   detailed-label'}\n",
      "Missing columns in this chunk: {'tunnel_parents   label   detailed-label'}\n",
      "Missing columns in this chunk: {'tunnel_parents   label   detailed-label'}\n",
      "Missing columns in this chunk: {'tunnel_parents   label   detailed-label'}\n",
      "Missing columns in this chunk: {'tunnel_parents   label   detailed-label'}\n",
      "Missing columns in this chunk: {'tunnel_parents   label   detailed-label'}\n",
      "Missing columns in this chunk: {'tunnel_parents   label   detailed-label'}\n",
      "Missing columns in this chunk: {'tunnel_parents   label   detailed-label'}\n",
      "Missing columns in this chunk: {'tunnel_parents   label   detailed-label'}\n",
      "Missing columns in this chunk: {'tunnel_parents   label   detailed-label'}\n",
      "Missing columns in this chunk: {'tunnel_parents   label   detailed-label'}\n"
     ]
    },
    {
     "name": "stderr",
     "output_type": "stream",
     "text": [
      "/tmp/ipykernel_18148/1266505323.py:8: DtypeWarning: Columns (7) have mixed types. Specify dtype option on import or set low_memory=False.\n",
      "  for chunk in pd.read_csv(\"/home/charlie/Desktop/master_data.csv\", chunksize=chunk_size):\n",
      "/tmp/ipykernel_18148/1266505323.py:8: DtypeWarning: Columns (7) have mixed types. Specify dtype option on import or set low_memory=False.\n",
      "  for chunk in pd.read_csv(\"/home/charlie/Desktop/master_data.csv\", chunksize=chunk_size):\n"
     ]
    },
    {
     "name": "stdout",
     "output_type": "stream",
     "text": [
      "Missing columns in this chunk: {'tunnel_parents   label   detailed-label'}\n",
      "Missing columns in this chunk: {'tunnel_parents   label   detailed-label'}\n"
     ]
    },
    {
     "name": "stderr",
     "output_type": "stream",
     "text": [
      "/tmp/ipykernel_18148/1266505323.py:8: DtypeWarning: Columns (7) have mixed types. Specify dtype option on import or set low_memory=False.\n",
      "  for chunk in pd.read_csv(\"/home/charlie/Desktop/master_data.csv\", chunksize=chunk_size):\n"
     ]
    },
    {
     "name": "stdout",
     "output_type": "stream",
     "text": [
      "Missing columns in this chunk: {'tunnel_parents   label   detailed-label'}\n",
      "Missing columns in this chunk: {'tunnel_parents   label   detailed-label'}\n"
     ]
    },
    {
     "name": "stderr",
     "output_type": "stream",
     "text": [
      "/tmp/ipykernel_18148/1266505323.py:8: DtypeWarning: Columns (7) have mixed types. Specify dtype option on import or set low_memory=False.\n",
      "  for chunk in pd.read_csv(\"/home/charlie/Desktop/master_data.csv\", chunksize=chunk_size):\n",
      "/tmp/ipykernel_18148/1266505323.py:8: DtypeWarning: Columns (7) have mixed types. Specify dtype option on import or set low_memory=False.\n",
      "  for chunk in pd.read_csv(\"/home/charlie/Desktop/master_data.csv\", chunksize=chunk_size):\n"
     ]
    },
    {
     "name": "stdout",
     "output_type": "stream",
     "text": [
      "Missing columns in this chunk: {'tunnel_parents   label   detailed-label'}\n",
      "Missing columns in this chunk: {'tunnel_parents   label   detailed-label'}\n",
      "Missing columns in this chunk: {'tunnel_parents   label   detailed-label'}\n",
      "Missing columns in this chunk: {'tunnel_parents   label   detailed-label'}\n",
      "Missing columns in this chunk: {'tunnel_parents   label   detailed-label'}\n",
      "Missing columns in this chunk: {'tunnel_parents   label   detailed-label'}\n",
      "Missing columns in this chunk: {'tunnel_parents   label   detailed-label'}\n",
      "Missing columns in this chunk: {'tunnel_parents   label   detailed-label'}\n",
      "Missing columns in this chunk: {'tunnel_parents   label   detailed-label'}\n",
      "Missing columns in this chunk: {'tunnel_parents   label   detailed-label'}\n",
      "Missing columns in this chunk: {'tunnel_parents   label   detailed-label'}\n",
      "Missing columns in this chunk: {'tunnel_parents   label   detailed-label'}\n"
     ]
    },
    {
     "name": "stderr",
     "output_type": "stream",
     "text": [
      "/tmp/ipykernel_18148/1266505323.py:8: DtypeWarning: Columns (7) have mixed types. Specify dtype option on import or set low_memory=False.\n",
      "  for chunk in pd.read_csv(\"/home/charlie/Desktop/master_data.csv\", chunksize=chunk_size):\n"
     ]
    },
    {
     "name": "stdout",
     "output_type": "stream",
     "text": [
      "Missing columns in this chunk: {'tunnel_parents   label   detailed-label'}\n",
      "Missing columns in this chunk: {'tunnel_parents   label   detailed-label'}\n",
      "Missing columns in this chunk: {'tunnel_parents   label   detailed-label'}\n",
      "Missing columns in this chunk: {'tunnel_parents   label   detailed-label'}\n",
      "Missing columns in this chunk: {'tunnel_parents   label   detailed-label'}\n",
      "Missing columns in this chunk: {'tunnel_parents   label   detailed-label'}\n",
      "Missing columns in this chunk: {'tunnel_parents   label   detailed-label'}\n",
      "Missing columns in this chunk: {'tunnel_parents   label   detailed-label'}\n",
      "Missing columns in this chunk: {'tunnel_parents   label   detailed-label'}\n",
      "Missing columns in this chunk: {'tunnel_parents   label   detailed-label'}\n",
      "Missing columns in this chunk: {'tunnel_parents   label   detailed-label'}\n",
      "Missing columns in this chunk: {'tunnel_parents   label   detailed-label'}\n",
      "Missing columns in this chunk: {'tunnel_parents   label   detailed-label'}\n",
      "Missing columns in this chunk: {'tunnel_parents   label   detailed-label'}\n",
      "Missing columns in this chunk: {'tunnel_parents   label   detailed-label'}\n",
      "Missing columns in this chunk: {'tunnel_parents   label   detailed-label'}\n",
      "Missing columns in this chunk: {'tunnel_parents   label   detailed-label'}\n",
      "Missing columns in this chunk: {'tunnel_parents   label   detailed-label'}\n",
      "Missing columns in this chunk: {'tunnel_parents   label   detailed-label'}\n",
      "Missing columns in this chunk: {'tunnel_parents   label   detailed-label'}\n",
      "Missing columns in this chunk: {'tunnel_parents   label   detailed-label'}\n",
      "Missing columns in this chunk: {'tunnel_parents   label   detailed-label'}\n",
      "Missing columns in this chunk: {'tunnel_parents   label   detailed-label'}\n",
      "Missing columns in this chunk: {'tunnel_parents   label   detailed-label'}\n",
      "Missing columns in this chunk: {'tunnel_parents   label   detailed-label'}\n",
      "Missing columns in this chunk: {'tunnel_parents   label   detailed-label'}\n",
      "Missing columns in this chunk: {'tunnel_parents   label   detailed-label'}\n",
      "Missing columns in this chunk: {'tunnel_parents   label   detailed-label'}\n",
      "Missing columns in this chunk: {'tunnel_parents   label   detailed-label'}\n",
      "Missing columns in this chunk: {'tunnel_parents   label   detailed-label'}\n"
     ]
    },
    {
     "name": "stderr",
     "output_type": "stream",
     "text": [
      "/tmp/ipykernel_18148/1266505323.py:8: DtypeWarning: Columns (7) have mixed types. Specify dtype option on import or set low_memory=False.\n",
      "  for chunk in pd.read_csv(\"/home/charlie/Desktop/master_data.csv\", chunksize=chunk_size):\n",
      "/tmp/ipykernel_18148/1266505323.py:8: DtypeWarning: Columns (7) have mixed types. Specify dtype option on import or set low_memory=False.\n",
      "  for chunk in pd.read_csv(\"/home/charlie/Desktop/master_data.csv\", chunksize=chunk_size):\n"
     ]
    },
    {
     "name": "stdout",
     "output_type": "stream",
     "text": [
      "Missing columns in this chunk: {'tunnel_parents   label   detailed-label'}\n",
      "Missing columns in this chunk: {'tunnel_parents   label   detailed-label'}\n",
      "Missing columns in this chunk: {'tunnel_parents   label   detailed-label'}\n",
      "Missing columns in this chunk: {'tunnel_parents   label   detailed-label'}\n",
      "Missing columns in this chunk: {'tunnel_parents   label   detailed-label'}\n",
      "Missing columns in this chunk: {'tunnel_parents   label   detailed-label'}\n",
      "Missing columns in this chunk: {'tunnel_parents   label   detailed-label'}\n"
     ]
    },
    {
     "name": "stderr",
     "output_type": "stream",
     "text": [
      "/tmp/ipykernel_18148/1266505323.py:8: DtypeWarning: Columns (7) have mixed types. Specify dtype option on import or set low_memory=False.\n",
      "  for chunk in pd.read_csv(\"/home/charlie/Desktop/master_data.csv\", chunksize=chunk_size):\n",
      "/tmp/ipykernel_18148/1266505323.py:8: DtypeWarning: Columns (7) have mixed types. Specify dtype option on import or set low_memory=False.\n",
      "  for chunk in pd.read_csv(\"/home/charlie/Desktop/master_data.csv\", chunksize=chunk_size):\n"
     ]
    },
    {
     "name": "stdout",
     "output_type": "stream",
     "text": [
      "Missing columns in this chunk: {'tunnel_parents   label   detailed-label'}\n",
      "Missing columns in this chunk: {'tunnel_parents   label   detailed-label'}\n",
      "Missing columns in this chunk: {'tunnel_parents   label   detailed-label'}\n",
      "Missing columns in this chunk: {'tunnel_parents   label   detailed-label'}\n"
     ]
    },
    {
     "name": "stderr",
     "output_type": "stream",
     "text": [
      "/tmp/ipykernel_18148/1266505323.py:8: DtypeWarning: Columns (7) have mixed types. Specify dtype option on import or set low_memory=False.\n",
      "  for chunk in pd.read_csv(\"/home/charlie/Desktop/master_data.csv\", chunksize=chunk_size):\n"
     ]
    },
    {
     "name": "stdout",
     "output_type": "stream",
     "text": [
      "Missing columns in this chunk: {'tunnel_parents   label   detailed-label'}\n",
      "Missing columns in this chunk: {'tunnel_parents   label   detailed-label'}\n",
      "Missing columns in this chunk: {'tunnel_parents   label   detailed-label'}\n",
      "Missing columns in this chunk: {'tunnel_parents   label   detailed-label'}\n",
      "Missing columns in this chunk: {'tunnel_parents   label   detailed-label'}\n",
      "Missing columns in this chunk: {'tunnel_parents   label   detailed-label'}\n",
      "Missing columns in this chunk: {'tunnel_parents   label   detailed-label'}\n",
      "Missing columns in this chunk: {'tunnel_parents   label   detailed-label'}\n",
      "Missing columns in this chunk: {'tunnel_parents   label   detailed-label'}\n",
      "Missing columns in this chunk: {'tunnel_parents   label   detailed-label'}\n",
      "Missing columns in this chunk: {'tunnel_parents   label   detailed-label'}\n",
      "Missing columns in this chunk: {'tunnel_parents   label   detailed-label'}\n",
      "Missing columns in this chunk: {'tunnel_parents   label   detailed-label'}\n",
      "Missing columns in this chunk: {'tunnel_parents   label   detailed-label'}\n"
     ]
    },
    {
     "name": "stderr",
     "output_type": "stream",
     "text": [
      "/tmp/ipykernel_18148/1266505323.py:8: DtypeWarning: Columns (7) have mixed types. Specify dtype option on import or set low_memory=False.\n",
      "  for chunk in pd.read_csv(\"/home/charlie/Desktop/master_data.csv\", chunksize=chunk_size):\n"
     ]
    },
    {
     "name": "stdout",
     "output_type": "stream",
     "text": [
      "Missing columns in this chunk: {'tunnel_parents   label   detailed-label'}\n",
      "Missing columns in this chunk: {'tunnel_parents   label   detailed-label'}\n",
      "Missing columns in this chunk: {'tunnel_parents   label   detailed-label'}\n",
      "Missing columns in this chunk: {'tunnel_parents   label   detailed-label'}\n",
      "Missing columns in this chunk: {'tunnel_parents   label   detailed-label'}\n",
      "Missing columns in this chunk: {'tunnel_parents   label   detailed-label'}\n",
      "Missing columns in this chunk: {'tunnel_parents   label   detailed-label'}\n",
      "Missing columns in this chunk: {'tunnel_parents   label   detailed-label'}\n",
      "Missing columns in this chunk: {'tunnel_parents   label   detailed-label'}\n",
      "Missing columns in this chunk: {'tunnel_parents   label   detailed-label'}\n",
      "Missing columns in this chunk: {'tunnel_parents   label   detailed-label'}\n",
      "Missing columns in this chunk: {'tunnel_parents   label   detailed-label'}\n"
     ]
    },
    {
     "name": "stderr",
     "output_type": "stream",
     "text": [
      "/tmp/ipykernel_18148/1266505323.py:8: DtypeWarning: Columns (7) have mixed types. Specify dtype option on import or set low_memory=False.\n",
      "  for chunk in pd.read_csv(\"/home/charlie/Desktop/master_data.csv\", chunksize=chunk_size):\n",
      "/tmp/ipykernel_18148/1266505323.py:8: DtypeWarning: Columns (7) have mixed types. Specify dtype option on import or set low_memory=False.\n",
      "  for chunk in pd.read_csv(\"/home/charlie/Desktop/master_data.csv\", chunksize=chunk_size):\n"
     ]
    },
    {
     "name": "stdout",
     "output_type": "stream",
     "text": [
      "Missing columns in this chunk: {'tunnel_parents   label   detailed-label'}\n",
      "Missing columns in this chunk: {'tunnel_parents   label   detailed-label'}\n",
      "Missing columns in this chunk: {'tunnel_parents   label   detailed-label'}\n"
     ]
    },
    {
     "name": "stderr",
     "output_type": "stream",
     "text": [
      "/tmp/ipykernel_18148/1266505323.py:8: DtypeWarning: Columns (7) have mixed types. Specify dtype option on import or set low_memory=False.\n",
      "  for chunk in pd.read_csv(\"/home/charlie/Desktop/master_data.csv\", chunksize=chunk_size):\n"
     ]
    },
    {
     "name": "stdout",
     "output_type": "stream",
     "text": [
      "Missing columns in this chunk: {'tunnel_parents   label   detailed-label'}\n",
      "Missing columns in this chunk: {'tunnel_parents   label   detailed-label'}\n",
      "Missing columns in this chunk: {'tunnel_parents   label   detailed-label'}\n",
      "Missing columns in this chunk: {'tunnel_parents   label   detailed-label'}\n",
      "Missing columns in this chunk: {'tunnel_parents   label   detailed-label'}\n",
      "Missing columns in this chunk: {'tunnel_parents   label   detailed-label'}\n",
      "Missing columns in this chunk: {'tunnel_parents   label   detailed-label'}\n",
      "Missing columns in this chunk: {'tunnel_parents   label   detailed-label'}\n",
      "Missing columns in this chunk: {'tunnel_parents   label   detailed-label'}\n",
      "Missing columns in this chunk: {'tunnel_parents   label   detailed-label'}\n",
      "Missing columns in this chunk: {'tunnel_parents   label   detailed-label'}\n",
      "Missing columns in this chunk: {'tunnel_parents   label   detailed-label'}\n",
      "Missing columns in this chunk: {'tunnel_parents   label   detailed-label'}\n",
      "Missing columns in this chunk: {'tunnel_parents   label   detailed-label'}\n",
      "Missing columns in this chunk: {'tunnel_parents   label   detailed-label'}\n",
      "Missing columns in this chunk: {'tunnel_parents   label   detailed-label'}\n",
      "Missing columns in this chunk: {'tunnel_parents   label   detailed-label'}\n",
      "Missing columns in this chunk: {'tunnel_parents   label   detailed-label'}\n",
      "Missing columns in this chunk: {'tunnel_parents   label   detailed-label'}\n",
      "Missing columns in this chunk: {'tunnel_parents   label   detailed-label'}\n",
      "Missing columns in this chunk: {'tunnel_parents   label   detailed-label'}\n",
      "Missing columns in this chunk: {'tunnel_parents   label   detailed-label'}\n",
      "Missing columns in this chunk: {'tunnel_parents   label   detailed-label'}\n",
      "Missing columns in this chunk: {'tunnel_parents   label   detailed-label'}\n",
      "Missing columns in this chunk: {'tunnel_parents   label   detailed-label'}\n",
      "Missing columns in this chunk: {'tunnel_parents   label   detailed-label'}\n",
      "Missing columns in this chunk: {'tunnel_parents   label   detailed-label'}\n",
      "Missing columns in this chunk: {'tunnel_parents   label   detailed-label'}\n",
      "Missing columns in this chunk: {'tunnel_parents   label   detailed-label'}\n",
      "Missing columns in this chunk: {'tunnel_parents   label   detailed-label'}\n",
      "Missing columns in this chunk: {'tunnel_parents   label   detailed-label'}\n",
      "Missing columns in this chunk: {'tunnel_parents   label   detailed-label'}\n",
      "Missing columns in this chunk: {'tunnel_parents   label   detailed-label'}\n",
      "Missing columns in this chunk: {'tunnel_parents   label   detailed-label'}\n",
      "Missing columns in this chunk: {'tunnel_parents   label   detailed-label'}\n",
      "Missing columns in this chunk: {'tunnel_parents   label   detailed-label'}\n",
      "Missing columns in this chunk: {'tunnel_parents   label   detailed-label'}\n",
      "Missing columns in this chunk: {'tunnel_parents   label   detailed-label'}\n"
     ]
    },
    {
     "name": "stderr",
     "output_type": "stream",
     "text": [
      "/tmp/ipykernel_18148/1266505323.py:8: DtypeWarning: Columns (7) have mixed types. Specify dtype option on import or set low_memory=False.\n",
      "  for chunk in pd.read_csv(\"/home/charlie/Desktop/master_data.csv\", chunksize=chunk_size):\n"
     ]
    },
    {
     "name": "stdout",
     "output_type": "stream",
     "text": [
      "Missing columns in this chunk: {'tunnel_parents   label   detailed-label'}\n",
      "Missing columns in this chunk: {'tunnel_parents   label   detailed-label'}\n"
     ]
    },
    {
     "name": "stderr",
     "output_type": "stream",
     "text": [
      "/tmp/ipykernel_18148/1266505323.py:8: DtypeWarning: Columns (7) have mixed types. Specify dtype option on import or set low_memory=False.\n",
      "  for chunk in pd.read_csv(\"/home/charlie/Desktop/master_data.csv\", chunksize=chunk_size):\n"
     ]
    },
    {
     "name": "stdout",
     "output_type": "stream",
     "text": [
      "Missing columns in this chunk: {'tunnel_parents   label   detailed-label'}\n",
      "Missing columns in this chunk: {'tunnel_parents   label   detailed-label'}\n",
      "Missing columns in this chunk: {'tunnel_parents   label   detailed-label'}\n",
      "Missing columns in this chunk: {'tunnel_parents   label   detailed-label'}\n",
      "Missing columns in this chunk: {'tunnel_parents   label   detailed-label'}\n",
      "Missing columns in this chunk: {'tunnel_parents   label   detailed-label'}\n",
      "Missing columns in this chunk: {'tunnel_parents   label   detailed-label'}\n",
      "Missing columns in this chunk: {'tunnel_parents   label   detailed-label'}\n"
     ]
    },
    {
     "name": "stderr",
     "output_type": "stream",
     "text": [
      "/tmp/ipykernel_18148/1266505323.py:8: DtypeWarning: Columns (7) have mixed types. Specify dtype option on import or set low_memory=False.\n",
      "  for chunk in pd.read_csv(\"/home/charlie/Desktop/master_data.csv\", chunksize=chunk_size):\n"
     ]
    },
    {
     "name": "stdout",
     "output_type": "stream",
     "text": [
      "Missing columns in this chunk: {'tunnel_parents   label   detailed-label'}\n",
      "Missing columns in this chunk: {'tunnel_parents   label   detailed-label'}\n"
     ]
    },
    {
     "name": "stderr",
     "output_type": "stream",
     "text": [
      "/tmp/ipykernel_18148/1266505323.py:8: DtypeWarning: Columns (7) have mixed types. Specify dtype option on import or set low_memory=False.\n",
      "  for chunk in pd.read_csv(\"/home/charlie/Desktop/master_data.csv\", chunksize=chunk_size):\n"
     ]
    },
    {
     "name": "stdout",
     "output_type": "stream",
     "text": [
      "Missing columns in this chunk: {'tunnel_parents   label   detailed-label'}\n",
      "Missing columns in this chunk: {'tunnel_parents   label   detailed-label'}\n"
     ]
    },
    {
     "name": "stderr",
     "output_type": "stream",
     "text": [
      "/tmp/ipykernel_18148/1266505323.py:8: DtypeWarning: Columns (7) have mixed types. Specify dtype option on import or set low_memory=False.\n",
      "  for chunk in pd.read_csv(\"/home/charlie/Desktop/master_data.csv\", chunksize=chunk_size):\n"
     ]
    },
    {
     "name": "stdout",
     "output_type": "stream",
     "text": [
      "Missing columns in this chunk: {'tunnel_parents   label   detailed-label'}\n",
      "Missing columns in this chunk: {'tunnel_parents   label   detailed-label'}\n",
      "Missing columns in this chunk: {'tunnel_parents   label   detailed-label'}\n"
     ]
    },
    {
     "name": "stderr",
     "output_type": "stream",
     "text": [
      "/tmp/ipykernel_18148/1266505323.py:8: DtypeWarning: Columns (7) have mixed types. Specify dtype option on import or set low_memory=False.\n",
      "  for chunk in pd.read_csv(\"/home/charlie/Desktop/master_data.csv\", chunksize=chunk_size):\n",
      "/tmp/ipykernel_18148/1266505323.py:8: DtypeWarning: Columns (7) have mixed types. Specify dtype option on import or set low_memory=False.\n",
      "  for chunk in pd.read_csv(\"/home/charlie/Desktop/master_data.csv\", chunksize=chunk_size):\n"
     ]
    },
    {
     "name": "stdout",
     "output_type": "stream",
     "text": [
      "Missing columns in this chunk: {'tunnel_parents   label   detailed-label'}\n",
      "Missing columns in this chunk: {'tunnel_parents   label   detailed-label'}\n"
     ]
    },
    {
     "name": "stderr",
     "output_type": "stream",
     "text": [
      "/tmp/ipykernel_18148/1266505323.py:8: DtypeWarning: Columns (7) have mixed types. Specify dtype option on import or set low_memory=False.\n",
      "  for chunk in pd.read_csv(\"/home/charlie/Desktop/master_data.csv\", chunksize=chunk_size):\n",
      "/tmp/ipykernel_18148/1266505323.py:8: DtypeWarning: Columns (7) have mixed types. Specify dtype option on import or set low_memory=False.\n",
      "  for chunk in pd.read_csv(\"/home/charlie/Desktop/master_data.csv\", chunksize=chunk_size):\n"
     ]
    },
    {
     "name": "stdout",
     "output_type": "stream",
     "text": [
      "Missing columns in this chunk: {'tunnel_parents   label   detailed-label'}\n",
      "Missing columns in this chunk: {'tunnel_parents   label   detailed-label'}\n"
     ]
    },
    {
     "name": "stderr",
     "output_type": "stream",
     "text": [
      "/tmp/ipykernel_18148/1266505323.py:8: DtypeWarning: Columns (7) have mixed types. Specify dtype option on import or set low_memory=False.\n",
      "  for chunk in pd.read_csv(\"/home/charlie/Desktop/master_data.csv\", chunksize=chunk_size):\n",
      "/tmp/ipykernel_18148/1266505323.py:8: DtypeWarning: Columns (7) have mixed types. Specify dtype option on import or set low_memory=False.\n",
      "  for chunk in pd.read_csv(\"/home/charlie/Desktop/master_data.csv\", chunksize=chunk_size):\n"
     ]
    },
    {
     "name": "stdout",
     "output_type": "stream",
     "text": [
      "Missing columns in this chunk: {'tunnel_parents   label   detailed-label'}\n",
      "Missing columns in this chunk: {'tunnel_parents   label   detailed-label'}\n"
     ]
    },
    {
     "name": "stderr",
     "output_type": "stream",
     "text": [
      "/tmp/ipykernel_18148/1266505323.py:8: DtypeWarning: Columns (7) have mixed types. Specify dtype option on import or set low_memory=False.\n",
      "  for chunk in pd.read_csv(\"/home/charlie/Desktop/master_data.csv\", chunksize=chunk_size):\n",
      "/tmp/ipykernel_18148/1266505323.py:8: DtypeWarning: Columns (7) have mixed types. Specify dtype option on import or set low_memory=False.\n",
      "  for chunk in pd.read_csv(\"/home/charlie/Desktop/master_data.csv\", chunksize=chunk_size):\n"
     ]
    },
    {
     "name": "stdout",
     "output_type": "stream",
     "text": [
      "Missing columns in this chunk: {'tunnel_parents   label   detailed-label'}\n",
      "Missing columns in this chunk: {'tunnel_parents   label   detailed-label'}\n"
     ]
    },
    {
     "name": "stderr",
     "output_type": "stream",
     "text": [
      "/tmp/ipykernel_18148/1266505323.py:8: DtypeWarning: Columns (7) have mixed types. Specify dtype option on import or set low_memory=False.\n",
      "  for chunk in pd.read_csv(\"/home/charlie/Desktop/master_data.csv\", chunksize=chunk_size):\n",
      "/tmp/ipykernel_18148/1266505323.py:8: DtypeWarning: Columns (7) have mixed types. Specify dtype option on import or set low_memory=False.\n",
      "  for chunk in pd.read_csv(\"/home/charlie/Desktop/master_data.csv\", chunksize=chunk_size):\n"
     ]
    },
    {
     "name": "stdout",
     "output_type": "stream",
     "text": [
      "Missing columns in this chunk: {'tunnel_parents   label   detailed-label'}\n",
      "Missing columns in this chunk: {'tunnel_parents   label   detailed-label'}\n"
     ]
    },
    {
     "name": "stderr",
     "output_type": "stream",
     "text": [
      "/tmp/ipykernel_18148/1266505323.py:8: DtypeWarning: Columns (7) have mixed types. Specify dtype option on import or set low_memory=False.\n",
      "  for chunk in pd.read_csv(\"/home/charlie/Desktop/master_data.csv\", chunksize=chunk_size):\n",
      "/tmp/ipykernel_18148/1266505323.py:8: DtypeWarning: Columns (7) have mixed types. Specify dtype option on import or set low_memory=False.\n",
      "  for chunk in pd.read_csv(\"/home/charlie/Desktop/master_data.csv\", chunksize=chunk_size):\n"
     ]
    },
    {
     "name": "stdout",
     "output_type": "stream",
     "text": [
      "Missing columns in this chunk: {'tunnel_parents   label   detailed-label'}\n",
      "Missing columns in this chunk: {'tunnel_parents   label   detailed-label'}\n"
     ]
    },
    {
     "name": "stderr",
     "output_type": "stream",
     "text": [
      "/tmp/ipykernel_18148/1266505323.py:8: DtypeWarning: Columns (7) have mixed types. Specify dtype option on import or set low_memory=False.\n",
      "  for chunk in pd.read_csv(\"/home/charlie/Desktop/master_data.csv\", chunksize=chunk_size):\n",
      "/tmp/ipykernel_18148/1266505323.py:8: DtypeWarning: Columns (7) have mixed types. Specify dtype option on import or set low_memory=False.\n",
      "  for chunk in pd.read_csv(\"/home/charlie/Desktop/master_data.csv\", chunksize=chunk_size):\n"
     ]
    },
    {
     "name": "stdout",
     "output_type": "stream",
     "text": [
      "Missing columns in this chunk: {'tunnel_parents   label   detailed-label'}\n",
      "Missing columns in this chunk: {'tunnel_parents   label   detailed-label'}\n"
     ]
    },
    {
     "name": "stderr",
     "output_type": "stream",
     "text": [
      "/tmp/ipykernel_18148/1266505323.py:8: DtypeWarning: Columns (7) have mixed types. Specify dtype option on import or set low_memory=False.\n",
      "  for chunk in pd.read_csv(\"/home/charlie/Desktop/master_data.csv\", chunksize=chunk_size):\n",
      "/tmp/ipykernel_18148/1266505323.py:8: DtypeWarning: Columns (7) have mixed types. Specify dtype option on import or set low_memory=False.\n",
      "  for chunk in pd.read_csv(\"/home/charlie/Desktop/master_data.csv\", chunksize=chunk_size):\n"
     ]
    },
    {
     "name": "stdout",
     "output_type": "stream",
     "text": [
      "Missing columns in this chunk: {'tunnel_parents   label   detailed-label'}\n",
      "Missing columns in this chunk: {'tunnel_parents   label   detailed-label'}\n"
     ]
    },
    {
     "name": "stderr",
     "output_type": "stream",
     "text": [
      "/tmp/ipykernel_18148/1266505323.py:8: DtypeWarning: Columns (7) have mixed types. Specify dtype option on import or set low_memory=False.\n",
      "  for chunk in pd.read_csv(\"/home/charlie/Desktop/master_data.csv\", chunksize=chunk_size):\n",
      "/tmp/ipykernel_18148/1266505323.py:8: DtypeWarning: Columns (7) have mixed types. Specify dtype option on import or set low_memory=False.\n",
      "  for chunk in pd.read_csv(\"/home/charlie/Desktop/master_data.csv\", chunksize=chunk_size):\n"
     ]
    },
    {
     "name": "stdout",
     "output_type": "stream",
     "text": [
      "Missing columns in this chunk: {'tunnel_parents   label   detailed-label'}\n",
      "Missing columns in this chunk: {'tunnel_parents   label   detailed-label'}\n"
     ]
    },
    {
     "name": "stderr",
     "output_type": "stream",
     "text": [
      "/tmp/ipykernel_18148/1266505323.py:8: DtypeWarning: Columns (7) have mixed types. Specify dtype option on import or set low_memory=False.\n",
      "  for chunk in pd.read_csv(\"/home/charlie/Desktop/master_data.csv\", chunksize=chunk_size):\n",
      "/tmp/ipykernel_18148/1266505323.py:8: DtypeWarning: Columns (7) have mixed types. Specify dtype option on import or set low_memory=False.\n",
      "  for chunk in pd.read_csv(\"/home/charlie/Desktop/master_data.csv\", chunksize=chunk_size):\n"
     ]
    },
    {
     "name": "stdout",
     "output_type": "stream",
     "text": [
      "Missing columns in this chunk: {'tunnel_parents   label   detailed-label'}\n",
      "Missing columns in this chunk: {'tunnel_parents   label   detailed-label'}\n"
     ]
    },
    {
     "name": "stderr",
     "output_type": "stream",
     "text": [
      "/tmp/ipykernel_18148/1266505323.py:8: DtypeWarning: Columns (7) have mixed types. Specify dtype option on import or set low_memory=False.\n",
      "  for chunk in pd.read_csv(\"/home/charlie/Desktop/master_data.csv\", chunksize=chunk_size):\n",
      "/tmp/ipykernel_18148/1266505323.py:8: DtypeWarning: Columns (7) have mixed types. Specify dtype option on import or set low_memory=False.\n",
      "  for chunk in pd.read_csv(\"/home/charlie/Desktop/master_data.csv\", chunksize=chunk_size):\n"
     ]
    },
    {
     "name": "stdout",
     "output_type": "stream",
     "text": [
      "Missing columns in this chunk: {'tunnel_parents   label   detailed-label'}\n",
      "Missing columns in this chunk: {'tunnel_parents   label   detailed-label'}\n"
     ]
    },
    {
     "name": "stderr",
     "output_type": "stream",
     "text": [
      "/tmp/ipykernel_18148/1266505323.py:8: DtypeWarning: Columns (7) have mixed types. Specify dtype option on import or set low_memory=False.\n",
      "  for chunk in pd.read_csv(\"/home/charlie/Desktop/master_data.csv\", chunksize=chunk_size):\n",
      "/tmp/ipykernel_18148/1266505323.py:8: DtypeWarning: Columns (7) have mixed types. Specify dtype option on import or set low_memory=False.\n",
      "  for chunk in pd.read_csv(\"/home/charlie/Desktop/master_data.csv\", chunksize=chunk_size):\n"
     ]
    },
    {
     "name": "stdout",
     "output_type": "stream",
     "text": [
      "Missing columns in this chunk: {'tunnel_parents   label   detailed-label'}\n",
      "Missing columns in this chunk: {'tunnel_parents   label   detailed-label'}\n"
     ]
    },
    {
     "name": "stderr",
     "output_type": "stream",
     "text": [
      "/tmp/ipykernel_18148/1266505323.py:8: DtypeWarning: Columns (7) have mixed types. Specify dtype option on import or set low_memory=False.\n",
      "  for chunk in pd.read_csv(\"/home/charlie/Desktop/master_data.csv\", chunksize=chunk_size):\n",
      "/tmp/ipykernel_18148/1266505323.py:8: DtypeWarning: Columns (7) have mixed types. Specify dtype option on import or set low_memory=False.\n",
      "  for chunk in pd.read_csv(\"/home/charlie/Desktop/master_data.csv\", chunksize=chunk_size):\n"
     ]
    },
    {
     "name": "stdout",
     "output_type": "stream",
     "text": [
      "Missing columns in this chunk: {'tunnel_parents   label   detailed-label'}\n",
      "Missing columns in this chunk: {'tunnel_parents   label   detailed-label'}\n"
     ]
    },
    {
     "name": "stderr",
     "output_type": "stream",
     "text": [
      "/tmp/ipykernel_18148/1266505323.py:8: DtypeWarning: Columns (7) have mixed types. Specify dtype option on import or set low_memory=False.\n",
      "  for chunk in pd.read_csv(\"/home/charlie/Desktop/master_data.csv\", chunksize=chunk_size):\n",
      "/tmp/ipykernel_18148/1266505323.py:8: DtypeWarning: Columns (7) have mixed types. Specify dtype option on import or set low_memory=False.\n",
      "  for chunk in pd.read_csv(\"/home/charlie/Desktop/master_data.csv\", chunksize=chunk_size):\n"
     ]
    },
    {
     "name": "stdout",
     "output_type": "stream",
     "text": [
      "Missing columns in this chunk: {'tunnel_parents   label   detailed-label'}\n",
      "Missing columns in this chunk: {'tunnel_parents   label   detailed-label'}\n"
     ]
    },
    {
     "name": "stderr",
     "output_type": "stream",
     "text": [
      "/tmp/ipykernel_18148/1266505323.py:8: DtypeWarning: Columns (7) have mixed types. Specify dtype option on import or set low_memory=False.\n",
      "  for chunk in pd.read_csv(\"/home/charlie/Desktop/master_data.csv\", chunksize=chunk_size):\n",
      "/tmp/ipykernel_18148/1266505323.py:8: DtypeWarning: Columns (7) have mixed types. Specify dtype option on import or set low_memory=False.\n",
      "  for chunk in pd.read_csv(\"/home/charlie/Desktop/master_data.csv\", chunksize=chunk_size):\n"
     ]
    },
    {
     "name": "stdout",
     "output_type": "stream",
     "text": [
      "Missing columns in this chunk: {'tunnel_parents   label   detailed-label'}\n",
      "Missing columns in this chunk: {'tunnel_parents   label   detailed-label'}\n"
     ]
    },
    {
     "name": "stderr",
     "output_type": "stream",
     "text": [
      "/tmp/ipykernel_18148/1266505323.py:8: DtypeWarning: Columns (7) have mixed types. Specify dtype option on import or set low_memory=False.\n",
      "  for chunk in pd.read_csv(\"/home/charlie/Desktop/master_data.csv\", chunksize=chunk_size):\n",
      "/tmp/ipykernel_18148/1266505323.py:8: DtypeWarning: Columns (7) have mixed types. Specify dtype option on import or set low_memory=False.\n",
      "  for chunk in pd.read_csv(\"/home/charlie/Desktop/master_data.csv\", chunksize=chunk_size):\n"
     ]
    },
    {
     "name": "stdout",
     "output_type": "stream",
     "text": [
      "Missing columns in this chunk: {'tunnel_parents   label   detailed-label'}\n",
      "Missing columns in this chunk: {'tunnel_parents   label   detailed-label'}\n"
     ]
    },
    {
     "name": "stderr",
     "output_type": "stream",
     "text": [
      "/tmp/ipykernel_18148/1266505323.py:8: DtypeWarning: Columns (7) have mixed types. Specify dtype option on import or set low_memory=False.\n",
      "  for chunk in pd.read_csv(\"/home/charlie/Desktop/master_data.csv\", chunksize=chunk_size):\n",
      "/tmp/ipykernel_18148/1266505323.py:8: DtypeWarning: Columns (7) have mixed types. Specify dtype option on import or set low_memory=False.\n",
      "  for chunk in pd.read_csv(\"/home/charlie/Desktop/master_data.csv\", chunksize=chunk_size):\n"
     ]
    },
    {
     "name": "stdout",
     "output_type": "stream",
     "text": [
      "Missing columns in this chunk: {'tunnel_parents   label   detailed-label'}\n",
      "Missing columns in this chunk: {'tunnel_parents   label   detailed-label'}\n"
     ]
    },
    {
     "name": "stderr",
     "output_type": "stream",
     "text": [
      "/tmp/ipykernel_18148/1266505323.py:8: DtypeWarning: Columns (7) have mixed types. Specify dtype option on import or set low_memory=False.\n",
      "  for chunk in pd.read_csv(\"/home/charlie/Desktop/master_data.csv\", chunksize=chunk_size):\n",
      "/tmp/ipykernel_18148/1266505323.py:8: DtypeWarning: Columns (7) have mixed types. Specify dtype option on import or set low_memory=False.\n",
      "  for chunk in pd.read_csv(\"/home/charlie/Desktop/master_data.csv\", chunksize=chunk_size):\n"
     ]
    },
    {
     "name": "stdout",
     "output_type": "stream",
     "text": [
      "Missing columns in this chunk: {'tunnel_parents   label   detailed-label'}\n",
      "Missing columns in this chunk: {'tunnel_parents   label   detailed-label'}\n"
     ]
    },
    {
     "name": "stderr",
     "output_type": "stream",
     "text": [
      "/tmp/ipykernel_18148/1266505323.py:8: DtypeWarning: Columns (7) have mixed types. Specify dtype option on import or set low_memory=False.\n",
      "  for chunk in pd.read_csv(\"/home/charlie/Desktop/master_data.csv\", chunksize=chunk_size):\n",
      "/tmp/ipykernel_18148/1266505323.py:8: DtypeWarning: Columns (7) have mixed types. Specify dtype option on import or set low_memory=False.\n",
      "  for chunk in pd.read_csv(\"/home/charlie/Desktop/master_data.csv\", chunksize=chunk_size):\n"
     ]
    },
    {
     "name": "stdout",
     "output_type": "stream",
     "text": [
      "Missing columns in this chunk: {'tunnel_parents   label   detailed-label'}\n",
      "Missing columns in this chunk: {'tunnel_parents   label   detailed-label'}\n"
     ]
    },
    {
     "name": "stderr",
     "output_type": "stream",
     "text": [
      "/tmp/ipykernel_18148/1266505323.py:8: DtypeWarning: Columns (7) have mixed types. Specify dtype option on import or set low_memory=False.\n",
      "  for chunk in pd.read_csv(\"/home/charlie/Desktop/master_data.csv\", chunksize=chunk_size):\n",
      "/tmp/ipykernel_18148/1266505323.py:8: DtypeWarning: Columns (7) have mixed types. Specify dtype option on import or set low_memory=False.\n",
      "  for chunk in pd.read_csv(\"/home/charlie/Desktop/master_data.csv\", chunksize=chunk_size):\n"
     ]
    },
    {
     "name": "stdout",
     "output_type": "stream",
     "text": [
      "Missing columns in this chunk: {'tunnel_parents   label   detailed-label'}\n",
      "Missing columns in this chunk: {'tunnel_parents   label   detailed-label'}\n"
     ]
    },
    {
     "name": "stderr",
     "output_type": "stream",
     "text": [
      "/tmp/ipykernel_18148/1266505323.py:8: DtypeWarning: Columns (7) have mixed types. Specify dtype option on import or set low_memory=False.\n",
      "  for chunk in pd.read_csv(\"/home/charlie/Desktop/master_data.csv\", chunksize=chunk_size):\n",
      "/tmp/ipykernel_18148/1266505323.py:8: DtypeWarning: Columns (7) have mixed types. Specify dtype option on import or set low_memory=False.\n",
      "  for chunk in pd.read_csv(\"/home/charlie/Desktop/master_data.csv\", chunksize=chunk_size):\n"
     ]
    },
    {
     "name": "stdout",
     "output_type": "stream",
     "text": [
      "Missing columns in this chunk: {'tunnel_parents   label   detailed-label'}\n",
      "Missing columns in this chunk: {'tunnel_parents   label   detailed-label'}\n"
     ]
    },
    {
     "name": "stderr",
     "output_type": "stream",
     "text": [
      "/tmp/ipykernel_18148/1266505323.py:8: DtypeWarning: Columns (7) have mixed types. Specify dtype option on import or set low_memory=False.\n",
      "  for chunk in pd.read_csv(\"/home/charlie/Desktop/master_data.csv\", chunksize=chunk_size):\n",
      "/tmp/ipykernel_18148/1266505323.py:8: DtypeWarning: Columns (7) have mixed types. Specify dtype option on import or set low_memory=False.\n",
      "  for chunk in pd.read_csv(\"/home/charlie/Desktop/master_data.csv\", chunksize=chunk_size):\n"
     ]
    },
    {
     "name": "stdout",
     "output_type": "stream",
     "text": [
      "Missing columns in this chunk: {'tunnel_parents   label   detailed-label'}\n",
      "Missing columns in this chunk: {'tunnel_parents   label   detailed-label'}\n"
     ]
    },
    {
     "name": "stderr",
     "output_type": "stream",
     "text": [
      "/tmp/ipykernel_18148/1266505323.py:8: DtypeWarning: Columns (7) have mixed types. Specify dtype option on import or set low_memory=False.\n",
      "  for chunk in pd.read_csv(\"/home/charlie/Desktop/master_data.csv\", chunksize=chunk_size):\n",
      "/tmp/ipykernel_18148/1266505323.py:8: DtypeWarning: Columns (7) have mixed types. Specify dtype option on import or set low_memory=False.\n",
      "  for chunk in pd.read_csv(\"/home/charlie/Desktop/master_data.csv\", chunksize=chunk_size):\n"
     ]
    },
    {
     "name": "stdout",
     "output_type": "stream",
     "text": [
      "Missing columns in this chunk: {'tunnel_parents   label   detailed-label'}\n",
      "Missing columns in this chunk: {'tunnel_parents   label   detailed-label'}\n"
     ]
    },
    {
     "name": "stderr",
     "output_type": "stream",
     "text": [
      "/tmp/ipykernel_18148/1266505323.py:8: DtypeWarning: Columns (7) have mixed types. Specify dtype option on import or set low_memory=False.\n",
      "  for chunk in pd.read_csv(\"/home/charlie/Desktop/master_data.csv\", chunksize=chunk_size):\n",
      "/tmp/ipykernel_18148/1266505323.py:8: DtypeWarning: Columns (7) have mixed types. Specify dtype option on import or set low_memory=False.\n",
      "  for chunk in pd.read_csv(\"/home/charlie/Desktop/master_data.csv\", chunksize=chunk_size):\n"
     ]
    },
    {
     "name": "stdout",
     "output_type": "stream",
     "text": [
      "Missing columns in this chunk: {'tunnel_parents   label   detailed-label'}\n",
      "Missing columns in this chunk: {'tunnel_parents   label   detailed-label'}\n"
     ]
    },
    {
     "name": "stderr",
     "output_type": "stream",
     "text": [
      "/tmp/ipykernel_18148/1266505323.py:8: DtypeWarning: Columns (7) have mixed types. Specify dtype option on import or set low_memory=False.\n",
      "  for chunk in pd.read_csv(\"/home/charlie/Desktop/master_data.csv\", chunksize=chunk_size):\n",
      "/tmp/ipykernel_18148/1266505323.py:8: DtypeWarning: Columns (7) have mixed types. Specify dtype option on import or set low_memory=False.\n",
      "  for chunk in pd.read_csv(\"/home/charlie/Desktop/master_data.csv\", chunksize=chunk_size):\n"
     ]
    },
    {
     "name": "stdout",
     "output_type": "stream",
     "text": [
      "Missing columns in this chunk: {'tunnel_parents   label   detailed-label'}\n",
      "Missing columns in this chunk: {'tunnel_parents   label   detailed-label'}\n"
     ]
    },
    {
     "name": "stderr",
     "output_type": "stream",
     "text": [
      "/tmp/ipykernel_18148/1266505323.py:8: DtypeWarning: Columns (7) have mixed types. Specify dtype option on import or set low_memory=False.\n",
      "  for chunk in pd.read_csv(\"/home/charlie/Desktop/master_data.csv\", chunksize=chunk_size):\n",
      "/tmp/ipykernel_18148/1266505323.py:8: DtypeWarning: Columns (7) have mixed types. Specify dtype option on import or set low_memory=False.\n",
      "  for chunk in pd.read_csv(\"/home/charlie/Desktop/master_data.csv\", chunksize=chunk_size):\n"
     ]
    },
    {
     "name": "stdout",
     "output_type": "stream",
     "text": [
      "Missing columns in this chunk: {'tunnel_parents   label   detailed-label'}\n",
      "Missing columns in this chunk: {'tunnel_parents   label   detailed-label'}\n"
     ]
    },
    {
     "name": "stderr",
     "output_type": "stream",
     "text": [
      "/tmp/ipykernel_18148/1266505323.py:8: DtypeWarning: Columns (7) have mixed types. Specify dtype option on import or set low_memory=False.\n",
      "  for chunk in pd.read_csv(\"/home/charlie/Desktop/master_data.csv\", chunksize=chunk_size):\n",
      "/tmp/ipykernel_18148/1266505323.py:8: DtypeWarning: Columns (7) have mixed types. Specify dtype option on import or set low_memory=False.\n",
      "  for chunk in pd.read_csv(\"/home/charlie/Desktop/master_data.csv\", chunksize=chunk_size):\n"
     ]
    },
    {
     "name": "stdout",
     "output_type": "stream",
     "text": [
      "Missing columns in this chunk: {'tunnel_parents   label   detailed-label'}\n",
      "Missing columns in this chunk: {'tunnel_parents   label   detailed-label'}\n"
     ]
    },
    {
     "name": "stderr",
     "output_type": "stream",
     "text": [
      "/tmp/ipykernel_18148/1266505323.py:8: DtypeWarning: Columns (7) have mixed types. Specify dtype option on import or set low_memory=False.\n",
      "  for chunk in pd.read_csv(\"/home/charlie/Desktop/master_data.csv\", chunksize=chunk_size):\n",
      "/tmp/ipykernel_18148/1266505323.py:8: DtypeWarning: Columns (7) have mixed types. Specify dtype option on import or set low_memory=False.\n",
      "  for chunk in pd.read_csv(\"/home/charlie/Desktop/master_data.csv\", chunksize=chunk_size):\n"
     ]
    },
    {
     "name": "stdout",
     "output_type": "stream",
     "text": [
      "Missing columns in this chunk: {'tunnel_parents   label   detailed-label'}\n",
      "Missing columns in this chunk: {'tunnel_parents   label   detailed-label'}\n"
     ]
    },
    {
     "name": "stderr",
     "output_type": "stream",
     "text": [
      "/tmp/ipykernel_18148/1266505323.py:8: DtypeWarning: Columns (7) have mixed types. Specify dtype option on import or set low_memory=False.\n",
      "  for chunk in pd.read_csv(\"/home/charlie/Desktop/master_data.csv\", chunksize=chunk_size):\n",
      "/tmp/ipykernel_18148/1266505323.py:8: DtypeWarning: Columns (7) have mixed types. Specify dtype option on import or set low_memory=False.\n",
      "  for chunk in pd.read_csv(\"/home/charlie/Desktop/master_data.csv\", chunksize=chunk_size):\n"
     ]
    },
    {
     "name": "stdout",
     "output_type": "stream",
     "text": [
      "Missing columns in this chunk: {'tunnel_parents   label   detailed-label'}\n",
      "Missing columns in this chunk: {'tunnel_parents   label   detailed-label'}\n"
     ]
    },
    {
     "name": "stderr",
     "output_type": "stream",
     "text": [
      "/tmp/ipykernel_18148/1266505323.py:8: DtypeWarning: Columns (7) have mixed types. Specify dtype option on import or set low_memory=False.\n",
      "  for chunk in pd.read_csv(\"/home/charlie/Desktop/master_data.csv\", chunksize=chunk_size):\n"
     ]
    },
    {
     "name": "stdout",
     "output_type": "stream",
     "text": [
      "Missing columns in this chunk: {'tunnel_parents   label   detailed-label'}\n",
      "Missing columns in this chunk: {'tunnel_parents   label   detailed-label'}\n"
     ]
    },
    {
     "name": "stderr",
     "output_type": "stream",
     "text": [
      "/tmp/ipykernel_18148/1266505323.py:8: DtypeWarning: Columns (7) have mixed types. Specify dtype option on import or set low_memory=False.\n",
      "  for chunk in pd.read_csv(\"/home/charlie/Desktop/master_data.csv\", chunksize=chunk_size):\n",
      "/tmp/ipykernel_18148/1266505323.py:8: DtypeWarning: Columns (7) have mixed types. Specify dtype option on import or set low_memory=False.\n",
      "  for chunk in pd.read_csv(\"/home/charlie/Desktop/master_data.csv\", chunksize=chunk_size):\n"
     ]
    },
    {
     "name": "stdout",
     "output_type": "stream",
     "text": [
      "Missing columns in this chunk: {'tunnel_parents   label   detailed-label'}\n",
      "Missing columns in this chunk: {'tunnel_parents   label   detailed-label'}\n"
     ]
    },
    {
     "name": "stderr",
     "output_type": "stream",
     "text": [
      "/tmp/ipykernel_18148/1266505323.py:8: DtypeWarning: Columns (7) have mixed types. Specify dtype option on import or set low_memory=False.\n",
      "  for chunk in pd.read_csv(\"/home/charlie/Desktop/master_data.csv\", chunksize=chunk_size):\n",
      "/tmp/ipykernel_18148/1266505323.py:8: DtypeWarning: Columns (7) have mixed types. Specify dtype option on import or set low_memory=False.\n",
      "  for chunk in pd.read_csv(\"/home/charlie/Desktop/master_data.csv\", chunksize=chunk_size):\n"
     ]
    },
    {
     "name": "stdout",
     "output_type": "stream",
     "text": [
      "Missing columns in this chunk: {'tunnel_parents   label   detailed-label'}\n",
      "Missing columns in this chunk: {'tunnel_parents   label   detailed-label'}\n"
     ]
    },
    {
     "name": "stderr",
     "output_type": "stream",
     "text": [
      "/tmp/ipykernel_18148/1266505323.py:8: DtypeWarning: Columns (7) have mixed types. Specify dtype option on import or set low_memory=False.\n",
      "  for chunk in pd.read_csv(\"/home/charlie/Desktop/master_data.csv\", chunksize=chunk_size):\n"
     ]
    },
    {
     "name": "stdout",
     "output_type": "stream",
     "text": [
      "Missing columns in this chunk: {'tunnel_parents   label   detailed-label'}\n",
      "Missing columns in this chunk: {'tunnel_parents   label   detailed-label'}\n"
     ]
    },
    {
     "name": "stderr",
     "output_type": "stream",
     "text": [
      "/tmp/ipykernel_18148/1266505323.py:8: DtypeWarning: Columns (7) have mixed types. Specify dtype option on import or set low_memory=False.\n",
      "  for chunk in pd.read_csv(\"/home/charlie/Desktop/master_data.csv\", chunksize=chunk_size):\n",
      "/tmp/ipykernel_18148/1266505323.py:8: DtypeWarning: Columns (7) have mixed types. Specify dtype option on import or set low_memory=False.\n",
      "  for chunk in pd.read_csv(\"/home/charlie/Desktop/master_data.csv\", chunksize=chunk_size):\n"
     ]
    },
    {
     "name": "stdout",
     "output_type": "stream",
     "text": [
      "Missing columns in this chunk: {'tunnel_parents   label   detailed-label'}\n",
      "Missing columns in this chunk: {'tunnel_parents   label   detailed-label'}\n",
      "Missing columns in this chunk: {'tunnel_parents   label   detailed-label'}\n",
      "Missing columns in this chunk: {'tunnel_parents   label   detailed-label'}\n"
     ]
    },
    {
     "name": "stderr",
     "output_type": "stream",
     "text": [
      "/tmp/ipykernel_18148/1266505323.py:8: DtypeWarning: Columns (7) have mixed types. Specify dtype option on import or set low_memory=False.\n",
      "  for chunk in pd.read_csv(\"/home/charlie/Desktop/master_data.csv\", chunksize=chunk_size):\n",
      "/tmp/ipykernel_18148/1266505323.py:8: DtypeWarning: Columns (7) have mixed types. Specify dtype option on import or set low_memory=False.\n",
      "  for chunk in pd.read_csv(\"/home/charlie/Desktop/master_data.csv\", chunksize=chunk_size):\n"
     ]
    },
    {
     "name": "stdout",
     "output_type": "stream",
     "text": [
      "Missing columns in this chunk: {'tunnel_parents   label   detailed-label'}\n",
      "Missing columns in this chunk: {'tunnel_parents   label   detailed-label'}\n"
     ]
    },
    {
     "name": "stderr",
     "output_type": "stream",
     "text": [
      "/tmp/ipykernel_18148/1266505323.py:8: DtypeWarning: Columns (7) have mixed types. Specify dtype option on import or set low_memory=False.\n",
      "  for chunk in pd.read_csv(\"/home/charlie/Desktop/master_data.csv\", chunksize=chunk_size):\n"
     ]
    },
    {
     "name": "stdout",
     "output_type": "stream",
     "text": [
      "Missing columns in this chunk: {'tunnel_parents   label   detailed-label'}\n",
      "Missing columns in this chunk: {'tunnel_parents   label   detailed-label'}\n",
      "Missing columns in this chunk: {'tunnel_parents   label   detailed-label'}\n",
      "Missing columns in this chunk: {'tunnel_parents   label   detailed-label'}\n",
      "Missing columns in this chunk: {'tunnel_parents   label   detailed-label'}\n",
      "Missing columns in this chunk: {'tunnel_parents   label   detailed-label'}\n",
      "Missing columns in this chunk: {'tunnel_parents   label   detailed-label'}\n"
     ]
    },
    {
     "name": "stderr",
     "output_type": "stream",
     "text": [
      "/tmp/ipykernel_18148/1266505323.py:8: DtypeWarning: Columns (7) have mixed types. Specify dtype option on import or set low_memory=False.\n",
      "  for chunk in pd.read_csv(\"/home/charlie/Desktop/master_data.csv\", chunksize=chunk_size):\n"
     ]
    },
    {
     "name": "stdout",
     "output_type": "stream",
     "text": [
      "Missing columns in this chunk: {'tunnel_parents   label   detailed-label'}\n",
      "Missing columns in this chunk: {'tunnel_parents   label   detailed-label'}\n"
     ]
    },
    {
     "name": "stderr",
     "output_type": "stream",
     "text": [
      "/tmp/ipykernel_18148/1266505323.py:8: DtypeWarning: Columns (7) have mixed types. Specify dtype option on import or set low_memory=False.\n",
      "  for chunk in pd.read_csv(\"/home/charlie/Desktop/master_data.csv\", chunksize=chunk_size):\n",
      "/tmp/ipykernel_18148/1266505323.py:8: DtypeWarning: Columns (7) have mixed types. Specify dtype option on import or set low_memory=False.\n",
      "  for chunk in pd.read_csv(\"/home/charlie/Desktop/master_data.csv\", chunksize=chunk_size):\n"
     ]
    },
    {
     "name": "stdout",
     "output_type": "stream",
     "text": [
      "Missing columns in this chunk: {'tunnel_parents   label   detailed-label'}\n",
      "Missing columns in this chunk: {'tunnel_parents   label   detailed-label'}\n",
      "Missing columns in this chunk: {'tunnel_parents   label   detailed-label'}\n",
      "Missing columns in this chunk: {'tunnel_parents   label   detailed-label'}\n",
      "Missing columns in this chunk: {'tunnel_parents   label   detailed-label'}\n"
     ]
    },
    {
     "name": "stderr",
     "output_type": "stream",
     "text": [
      "/tmp/ipykernel_18148/1266505323.py:8: DtypeWarning: Columns (7) have mixed types. Specify dtype option on import or set low_memory=False.\n",
      "  for chunk in pd.read_csv(\"/home/charlie/Desktop/master_data.csv\", chunksize=chunk_size):\n"
     ]
    },
    {
     "name": "stdout",
     "output_type": "stream",
     "text": [
      "Missing columns in this chunk: {'tunnel_parents   label   detailed-label'}\n",
      "Missing columns in this chunk: {'tunnel_parents   label   detailed-label'}\n",
      "Missing columns in this chunk: {'tunnel_parents   label   detailed-label'}\n"
     ]
    },
    {
     "name": "stderr",
     "output_type": "stream",
     "text": [
      "/tmp/ipykernel_18148/1266505323.py:8: DtypeWarning: Columns (7) have mixed types. Specify dtype option on import or set low_memory=False.\n",
      "  for chunk in pd.read_csv(\"/home/charlie/Desktop/master_data.csv\", chunksize=chunk_size):\n"
     ]
    },
    {
     "name": "stdout",
     "output_type": "stream",
     "text": [
      "Missing columns in this chunk: {'tunnel_parents   label   detailed-label'}\n",
      "Missing columns in this chunk: {'tunnel_parents   label   detailed-label'}\n",
      "Missing columns in this chunk: {'tunnel_parents   label   detailed-label'}\n"
     ]
    },
    {
     "name": "stderr",
     "output_type": "stream",
     "text": [
      "/tmp/ipykernel_18148/1266505323.py:8: DtypeWarning: Columns (7) have mixed types. Specify dtype option on import or set low_memory=False.\n",
      "  for chunk in pd.read_csv(\"/home/charlie/Desktop/master_data.csv\", chunksize=chunk_size):\n"
     ]
    },
    {
     "name": "stdout",
     "output_type": "stream",
     "text": [
      "Missing columns in this chunk: {'tunnel_parents   label   detailed-label'}\n",
      "Missing columns in this chunk: {'tunnel_parents   label   detailed-label'}\n"
     ]
    },
    {
     "name": "stderr",
     "output_type": "stream",
     "text": [
      "/tmp/ipykernel_18148/1266505323.py:8: DtypeWarning: Columns (7) have mixed types. Specify dtype option on import or set low_memory=False.\n",
      "  for chunk in pd.read_csv(\"/home/charlie/Desktop/master_data.csv\", chunksize=chunk_size):\n"
     ]
    },
    {
     "name": "stdout",
     "output_type": "stream",
     "text": [
      "Missing columns in this chunk: {'tunnel_parents   label   detailed-label'}\n",
      "Missing columns in this chunk: {'tunnel_parents   label   detailed-label'}\n"
     ]
    },
    {
     "name": "stderr",
     "output_type": "stream",
     "text": [
      "/tmp/ipykernel_18148/1266505323.py:8: DtypeWarning: Columns (7) have mixed types. Specify dtype option on import or set low_memory=False.\n",
      "  for chunk in pd.read_csv(\"/home/charlie/Desktop/master_data.csv\", chunksize=chunk_size):\n",
      "/tmp/ipykernel_18148/1266505323.py:8: DtypeWarning: Columns (7) have mixed types. Specify dtype option on import or set low_memory=False.\n",
      "  for chunk in pd.read_csv(\"/home/charlie/Desktop/master_data.csv\", chunksize=chunk_size):\n"
     ]
    },
    {
     "name": "stdout",
     "output_type": "stream",
     "text": [
      "Missing columns in this chunk: {'tunnel_parents   label   detailed-label'}\n",
      "Missing columns in this chunk: {'tunnel_parents   label   detailed-label'}\n",
      "Missing columns in this chunk: {'tunnel_parents   label   detailed-label'}\n",
      "Missing columns in this chunk: {'tunnel_parents   label   detailed-label'}\n"
     ]
    },
    {
     "name": "stderr",
     "output_type": "stream",
     "text": [
      "/tmp/ipykernel_18148/1266505323.py:8: DtypeWarning: Columns (7) have mixed types. Specify dtype option on import or set low_memory=False.\n",
      "  for chunk in pd.read_csv(\"/home/charlie/Desktop/master_data.csv\", chunksize=chunk_size):\n",
      "/tmp/ipykernel_18148/1266505323.py:8: DtypeWarning: Columns (7) have mixed types. Specify dtype option on import or set low_memory=False.\n",
      "  for chunk in pd.read_csv(\"/home/charlie/Desktop/master_data.csv\", chunksize=chunk_size):\n"
     ]
    },
    {
     "name": "stdout",
     "output_type": "stream",
     "text": [
      "Missing columns in this chunk: {'tunnel_parents   label   detailed-label'}\n",
      "Missing columns in this chunk: {'tunnel_parents   label   detailed-label'}\n",
      "Missing columns in this chunk: {'tunnel_parents   label   detailed-label'}\n",
      "Missing columns in this chunk: {'tunnel_parents   label   detailed-label'}\n",
      "Missing columns in this chunk: {'tunnel_parents   label   detailed-label'}\n"
     ]
    },
    {
     "name": "stderr",
     "output_type": "stream",
     "text": [
      "/tmp/ipykernel_18148/1266505323.py:8: DtypeWarning: Columns (7) have mixed types. Specify dtype option on import or set low_memory=False.\n",
      "  for chunk in pd.read_csv(\"/home/charlie/Desktop/master_data.csv\", chunksize=chunk_size):\n"
     ]
    },
    {
     "name": "stdout",
     "output_type": "stream",
     "text": [
      "Missing columns in this chunk: {'tunnel_parents   label   detailed-label'}\n",
      "Missing columns in this chunk: {'tunnel_parents   label   detailed-label'}\n",
      "Missing columns in this chunk: {'tunnel_parents   label   detailed-label'}\n"
     ]
    },
    {
     "name": "stderr",
     "output_type": "stream",
     "text": [
      "/tmp/ipykernel_18148/1266505323.py:8: DtypeWarning: Columns (7) have mixed types. Specify dtype option on import or set low_memory=False.\n",
      "  for chunk in pd.read_csv(\"/home/charlie/Desktop/master_data.csv\", chunksize=chunk_size):\n"
     ]
    },
    {
     "name": "stdout",
     "output_type": "stream",
     "text": [
      "Missing columns in this chunk: {'tunnel_parents   label   detailed-label'}\n",
      "Missing columns in this chunk: {'tunnel_parents   label   detailed-label'}\n",
      "Missing columns in this chunk: {'tunnel_parents   label   detailed-label'}\n",
      "Missing columns in this chunk: {'tunnel_parents   label   detailed-label'}\n",
      "Missing columns in this chunk: {'tunnel_parents   label   detailed-label'}\n",
      "Missing columns in this chunk: {'tunnel_parents   label   detailed-label'}\n",
      "Missing columns in this chunk: {'tunnel_parents   label   detailed-label'}\n"
     ]
    },
    {
     "name": "stderr",
     "output_type": "stream",
     "text": [
      "/tmp/ipykernel_18148/1266505323.py:8: DtypeWarning: Columns (7) have mixed types. Specify dtype option on import or set low_memory=False.\n",
      "  for chunk in pd.read_csv(\"/home/charlie/Desktop/master_data.csv\", chunksize=chunk_size):\n"
     ]
    },
    {
     "name": "stdout",
     "output_type": "stream",
     "text": [
      "Missing columns in this chunk: {'tunnel_parents   label   detailed-label'}\n",
      "Missing columns in this chunk: {'tunnel_parents   label   detailed-label'}\n",
      "Missing columns in this chunk: {'tunnel_parents   label   detailed-label'}\n"
     ]
    },
    {
     "name": "stderr",
     "output_type": "stream",
     "text": [
      "/tmp/ipykernel_18148/1266505323.py:8: DtypeWarning: Columns (7) have mixed types. Specify dtype option on import or set low_memory=False.\n",
      "  for chunk in pd.read_csv(\"/home/charlie/Desktop/master_data.csv\", chunksize=chunk_size):\n",
      "/tmp/ipykernel_18148/1266505323.py:8: DtypeWarning: Columns (7) have mixed types. Specify dtype option on import or set low_memory=False.\n",
      "  for chunk in pd.read_csv(\"/home/charlie/Desktop/master_data.csv\", chunksize=chunk_size):\n"
     ]
    },
    {
     "name": "stdout",
     "output_type": "stream",
     "text": [
      "Missing columns in this chunk: {'tunnel_parents   label   detailed-label'}\n",
      "Missing columns in this chunk: {'tunnel_parents   label   detailed-label'}\n"
     ]
    },
    {
     "name": "stderr",
     "output_type": "stream",
     "text": [
      "/tmp/ipykernel_18148/1266505323.py:8: DtypeWarning: Columns (7) have mixed types. Specify dtype option on import or set low_memory=False.\n",
      "  for chunk in pd.read_csv(\"/home/charlie/Desktop/master_data.csv\", chunksize=chunk_size):\n"
     ]
    },
    {
     "name": "stdout",
     "output_type": "stream",
     "text": [
      "Missing columns in this chunk: {'tunnel_parents   label   detailed-label'}\n",
      "Missing columns in this chunk: {'tunnel_parents   label   detailed-label'}\n",
      "Missing columns in this chunk: {'tunnel_parents   label   detailed-label'}\n"
     ]
    },
    {
     "name": "stderr",
     "output_type": "stream",
     "text": [
      "/tmp/ipykernel_18148/1266505323.py:8: DtypeWarning: Columns (7) have mixed types. Specify dtype option on import or set low_memory=False.\n",
      "  for chunk in pd.read_csv(\"/home/charlie/Desktop/master_data.csv\", chunksize=chunk_size):\n"
     ]
    },
    {
     "name": "stdout",
     "output_type": "stream",
     "text": [
      "Missing columns in this chunk: {'tunnel_parents   label   detailed-label'}\n",
      "Missing columns in this chunk: {'tunnel_parents   label   detailed-label'}\n",
      "Missing columns in this chunk: {'tunnel_parents   label   detailed-label'}\n",
      "Missing columns in this chunk: {'tunnel_parents   label   detailed-label'}\n",
      "Missing columns in this chunk: {'tunnel_parents   label   detailed-label'}\n"
     ]
    },
    {
     "name": "stderr",
     "output_type": "stream",
     "text": [
      "/tmp/ipykernel_18148/1266505323.py:8: DtypeWarning: Columns (7) have mixed types. Specify dtype option on import or set low_memory=False.\n",
      "  for chunk in pd.read_csv(\"/home/charlie/Desktop/master_data.csv\", chunksize=chunk_size):\n"
     ]
    },
    {
     "name": "stdout",
     "output_type": "stream",
     "text": [
      "Missing columns in this chunk: {'tunnel_parents   label   detailed-label'}\n",
      "Missing columns in this chunk: {'tunnel_parents   label   detailed-label'}\n",
      "Missing columns in this chunk: {'tunnel_parents   label   detailed-label'}\n",
      "Missing columns in this chunk: {'tunnel_parents   label   detailed-label'}\n"
     ]
    },
    {
     "name": "stderr",
     "output_type": "stream",
     "text": [
      "/tmp/ipykernel_18148/1266505323.py:8: DtypeWarning: Columns (7) have mixed types. Specify dtype option on import or set low_memory=False.\n",
      "  for chunk in pd.read_csv(\"/home/charlie/Desktop/master_data.csv\", chunksize=chunk_size):\n",
      "/tmp/ipykernel_18148/1266505323.py:8: DtypeWarning: Columns (7) have mixed types. Specify dtype option on import or set low_memory=False.\n",
      "  for chunk in pd.read_csv(\"/home/charlie/Desktop/master_data.csv\", chunksize=chunk_size):\n"
     ]
    },
    {
     "name": "stdout",
     "output_type": "stream",
     "text": [
      "Missing columns in this chunk: {'tunnel_parents   label   detailed-label'}\n",
      "Missing columns in this chunk: {'tunnel_parents   label   detailed-label'}\n"
     ]
    },
    {
     "name": "stderr",
     "output_type": "stream",
     "text": [
      "/tmp/ipykernel_18148/1266505323.py:8: DtypeWarning: Columns (7) have mixed types. Specify dtype option on import or set low_memory=False.\n",
      "  for chunk in pd.read_csv(\"/home/charlie/Desktop/master_data.csv\", chunksize=chunk_size):\n",
      "/tmp/ipykernel_18148/1266505323.py:8: DtypeWarning: Columns (7) have mixed types. Specify dtype option on import or set low_memory=False.\n",
      "  for chunk in pd.read_csv(\"/home/charlie/Desktop/master_data.csv\", chunksize=chunk_size):\n"
     ]
    },
    {
     "name": "stdout",
     "output_type": "stream",
     "text": [
      "Missing columns in this chunk: {'tunnel_parents   label   detailed-label'}\n",
      "Missing columns in this chunk: {'tunnel_parents   label   detailed-label'}\n"
     ]
    },
    {
     "name": "stderr",
     "output_type": "stream",
     "text": [
      "/tmp/ipykernel_18148/1266505323.py:8: DtypeWarning: Columns (7) have mixed types. Specify dtype option on import or set low_memory=False.\n",
      "  for chunk in pd.read_csv(\"/home/charlie/Desktop/master_data.csv\", chunksize=chunk_size):\n"
     ]
    },
    {
     "name": "stdout",
     "output_type": "stream",
     "text": [
      "Missing columns in this chunk: {'tunnel_parents   label   detailed-label'}\n",
      "Missing columns in this chunk: {'tunnel_parents   label   detailed-label'}\n",
      "Missing columns in this chunk: {'tunnel_parents   label   detailed-label'}\n",
      "Missing columns in this chunk: {'tunnel_parents   label   detailed-label'}\n"
     ]
    },
    {
     "name": "stderr",
     "output_type": "stream",
     "text": [
      "/tmp/ipykernel_18148/1266505323.py:8: DtypeWarning: Columns (7) have mixed types. Specify dtype option on import or set low_memory=False.\n",
      "  for chunk in pd.read_csv(\"/home/charlie/Desktop/master_data.csv\", chunksize=chunk_size):\n"
     ]
    },
    {
     "name": "stdout",
     "output_type": "stream",
     "text": [
      "Missing columns in this chunk: {'tunnel_parents   label   detailed-label'}\n",
      "Missing columns in this chunk: {'tunnel_parents   label   detailed-label'}\n",
      "Missing columns in this chunk: {'tunnel_parents   label   detailed-label'}\n",
      "Missing columns in this chunk: {'tunnel_parents   label   detailed-label'}\n",
      "Missing columns in this chunk: {'tunnel_parents   label   detailed-label'}\n",
      "Missing columns in this chunk: {'tunnel_parents   label   detailed-label'}\n",
      "Missing columns in this chunk: {'tunnel_parents   label   detailed-label'}\n",
      "Missing columns in this chunk: {'tunnel_parents   label   detailed-label'}\n",
      "Missing columns in this chunk: {'tunnel_parents   label   detailed-label'}\n",
      "Missing columns in this chunk: {'tunnel_parents   label   detailed-label'}\n",
      "Missing columns in this chunk: {'tunnel_parents   label   detailed-label'}\n",
      "Missing columns in this chunk: {'tunnel_parents   label   detailed-label'}\n",
      "Missing columns in this chunk: {'tunnel_parents   label   detailed-label'}\n"
     ]
    },
    {
     "name": "stderr",
     "output_type": "stream",
     "text": [
      "/tmp/ipykernel_18148/1266505323.py:8: DtypeWarning: Columns (7) have mixed types. Specify dtype option on import or set low_memory=False.\n",
      "  for chunk in pd.read_csv(\"/home/charlie/Desktop/master_data.csv\", chunksize=chunk_size):\n"
     ]
    },
    {
     "name": "stdout",
     "output_type": "stream",
     "text": [
      "Missing columns in this chunk: {'tunnel_parents   label   detailed-label'}\n",
      "Missing columns in this chunk: {'tunnel_parents   label   detailed-label'}\n",
      "Missing columns in this chunk: {'tunnel_parents   label   detailed-label'}\n",
      "Missing columns in this chunk: {'tunnel_parents   label   detailed-label'}\n",
      "Missing columns in this chunk: {'tunnel_parents   label   detailed-label'}\n"
     ]
    },
    {
     "name": "stderr",
     "output_type": "stream",
     "text": [
      "/tmp/ipykernel_18148/1266505323.py:8: DtypeWarning: Columns (7) have mixed types. Specify dtype option on import or set low_memory=False.\n",
      "  for chunk in pd.read_csv(\"/home/charlie/Desktop/master_data.csv\", chunksize=chunk_size):\n",
      "/tmp/ipykernel_18148/1266505323.py:8: DtypeWarning: Columns (7) have mixed types. Specify dtype option on import or set low_memory=False.\n",
      "  for chunk in pd.read_csv(\"/home/charlie/Desktop/master_data.csv\", chunksize=chunk_size):\n"
     ]
    },
    {
     "name": "stdout",
     "output_type": "stream",
     "text": [
      "Missing columns in this chunk: {'tunnel_parents   label   detailed-label'}\n",
      "Missing columns in this chunk: {'tunnel_parents   label   detailed-label'}\n",
      "Missing columns in this chunk: {'tunnel_parents   label   detailed-label'}\n",
      "Missing columns in this chunk: {'tunnel_parents   label   detailed-label'}\n",
      "Missing columns in this chunk: {'tunnel_parents   label   detailed-label'}\n"
     ]
    },
    {
     "name": "stderr",
     "output_type": "stream",
     "text": [
      "/tmp/ipykernel_18148/1266505323.py:8: DtypeWarning: Columns (7) have mixed types. Specify dtype option on import or set low_memory=False.\n",
      "  for chunk in pd.read_csv(\"/home/charlie/Desktop/master_data.csv\", chunksize=chunk_size):\n"
     ]
    },
    {
     "name": "stdout",
     "output_type": "stream",
     "text": [
      "Missing columns in this chunk: {'tunnel_parents   label   detailed-label'}\n",
      "Missing columns in this chunk: {'tunnel_parents   label   detailed-label'}\n",
      "Missing columns in this chunk: {'tunnel_parents   label   detailed-label'}\n"
     ]
    },
    {
     "name": "stderr",
     "output_type": "stream",
     "text": [
      "/tmp/ipykernel_18148/1266505323.py:8: DtypeWarning: Columns (7) have mixed types. Specify dtype option on import or set low_memory=False.\n",
      "  for chunk in pd.read_csv(\"/home/charlie/Desktop/master_data.csv\", chunksize=chunk_size):\n"
     ]
    },
    {
     "name": "stdout",
     "output_type": "stream",
     "text": [
      "Missing columns in this chunk: {'tunnel_parents   label   detailed-label'}\n",
      "Missing columns in this chunk: {'tunnel_parents   label   detailed-label'}\n"
     ]
    },
    {
     "name": "stderr",
     "output_type": "stream",
     "text": [
      "/tmp/ipykernel_18148/1266505323.py:8: DtypeWarning: Columns (7) have mixed types. Specify dtype option on import or set low_memory=False.\n",
      "  for chunk in pd.read_csv(\"/home/charlie/Desktop/master_data.csv\", chunksize=chunk_size):\n"
     ]
    },
    {
     "name": "stdout",
     "output_type": "stream",
     "text": [
      "Missing columns in this chunk: {'tunnel_parents   label   detailed-label'}\n",
      "Missing columns in this chunk: {'tunnel_parents   label   detailed-label'}\n",
      "Missing columns in this chunk: {'tunnel_parents   label   detailed-label'}\n"
     ]
    },
    {
     "name": "stderr",
     "output_type": "stream",
     "text": [
      "/tmp/ipykernel_18148/1266505323.py:8: DtypeWarning: Columns (7) have mixed types. Specify dtype option on import or set low_memory=False.\n",
      "  for chunk in pd.read_csv(\"/home/charlie/Desktop/master_data.csv\", chunksize=chunk_size):\n",
      "/tmp/ipykernel_18148/1266505323.py:8: DtypeWarning: Columns (7) have mixed types. Specify dtype option on import or set low_memory=False.\n",
      "  for chunk in pd.read_csv(\"/home/charlie/Desktop/master_data.csv\", chunksize=chunk_size):\n"
     ]
    },
    {
     "name": "stdout",
     "output_type": "stream",
     "text": [
      "Missing columns in this chunk: {'tunnel_parents   label   detailed-label'}\n",
      "Missing columns in this chunk: {'tunnel_parents   label   detailed-label'}\n"
     ]
    },
    {
     "name": "stderr",
     "output_type": "stream",
     "text": [
      "/tmp/ipykernel_18148/1266505323.py:8: DtypeWarning: Columns (7) have mixed types. Specify dtype option on import or set low_memory=False.\n",
      "  for chunk in pd.read_csv(\"/home/charlie/Desktop/master_data.csv\", chunksize=chunk_size):\n"
     ]
    },
    {
     "name": "stdout",
     "output_type": "stream",
     "text": [
      "Missing columns in this chunk: {'tunnel_parents   label   detailed-label'}\n",
      "Missing columns in this chunk: {'tunnel_parents   label   detailed-label'}\n"
     ]
    },
    {
     "name": "stderr",
     "output_type": "stream",
     "text": [
      "/tmp/ipykernel_18148/1266505323.py:8: DtypeWarning: Columns (7) have mixed types. Specify dtype option on import or set low_memory=False.\n",
      "  for chunk in pd.read_csv(\"/home/charlie/Desktop/master_data.csv\", chunksize=chunk_size):\n"
     ]
    },
    {
     "name": "stdout",
     "output_type": "stream",
     "text": [
      "Missing columns in this chunk: {'tunnel_parents   label   detailed-label'}\n",
      "Missing columns in this chunk: {'tunnel_parents   label   detailed-label'}\n",
      "Missing columns in this chunk: {'tunnel_parents   label   detailed-label'}\n"
     ]
    },
    {
     "name": "stderr",
     "output_type": "stream",
     "text": [
      "/tmp/ipykernel_18148/1266505323.py:8: DtypeWarning: Columns (7) have mixed types. Specify dtype option on import or set low_memory=False.\n",
      "  for chunk in pd.read_csv(\"/home/charlie/Desktop/master_data.csv\", chunksize=chunk_size):\n"
     ]
    },
    {
     "name": "stdout",
     "output_type": "stream",
     "text": [
      "Missing columns in this chunk: {'tunnel_parents   label   detailed-label'}\n",
      "Missing columns in this chunk: {'tunnel_parents   label   detailed-label'}\n",
      "Missing columns in this chunk: {'tunnel_parents   label   detailed-label'}\n",
      "Missing columns in this chunk: {'tunnel_parents   label   detailed-label'}\n"
     ]
    },
    {
     "name": "stderr",
     "output_type": "stream",
     "text": [
      "/tmp/ipykernel_18148/1266505323.py:8: DtypeWarning: Columns (7) have mixed types. Specify dtype option on import or set low_memory=False.\n",
      "  for chunk in pd.read_csv(\"/home/charlie/Desktop/master_data.csv\", chunksize=chunk_size):\n",
      "/tmp/ipykernel_18148/1266505323.py:8: DtypeWarning: Columns (7) have mixed types. Specify dtype option on import or set low_memory=False.\n",
      "  for chunk in pd.read_csv(\"/home/charlie/Desktop/master_data.csv\", chunksize=chunk_size):\n"
     ]
    },
    {
     "name": "stdout",
     "output_type": "stream",
     "text": [
      "Missing columns in this chunk: {'tunnel_parents   label   detailed-label'}\n",
      "Missing columns in this chunk: {'tunnel_parents   label   detailed-label'}\n",
      "Missing columns in this chunk: {'tunnel_parents   label   detailed-label'}\n",
      "Missing columns in this chunk: {'tunnel_parents   label   detailed-label'}\n"
     ]
    },
    {
     "name": "stderr",
     "output_type": "stream",
     "text": [
      "/tmp/ipykernel_18148/1266505323.py:8: DtypeWarning: Columns (7) have mixed types. Specify dtype option on import or set low_memory=False.\n",
      "  for chunk in pd.read_csv(\"/home/charlie/Desktop/master_data.csv\", chunksize=chunk_size):\n"
     ]
    },
    {
     "name": "stdout",
     "output_type": "stream",
     "text": [
      "Missing columns in this chunk: {'tunnel_parents   label   detailed-label'}\n",
      "Missing columns in this chunk: {'tunnel_parents   label   detailed-label'}\n"
     ]
    },
    {
     "name": "stderr",
     "output_type": "stream",
     "text": [
      "/tmp/ipykernel_18148/1266505323.py:8: DtypeWarning: Columns (7) have mixed types. Specify dtype option on import or set low_memory=False.\n",
      "  for chunk in pd.read_csv(\"/home/charlie/Desktop/master_data.csv\", chunksize=chunk_size):\n",
      "/tmp/ipykernel_18148/1266505323.py:8: DtypeWarning: Columns (7) have mixed types. Specify dtype option on import or set low_memory=False.\n",
      "  for chunk in pd.read_csv(\"/home/charlie/Desktop/master_data.csv\", chunksize=chunk_size):\n"
     ]
    },
    {
     "name": "stdout",
     "output_type": "stream",
     "text": [
      "Missing columns in this chunk: {'tunnel_parents   label   detailed-label'}\n",
      "Missing columns in this chunk: {'tunnel_parents   label   detailed-label'}\n"
     ]
    },
    {
     "name": "stderr",
     "output_type": "stream",
     "text": [
      "/tmp/ipykernel_18148/1266505323.py:8: DtypeWarning: Columns (7) have mixed types. Specify dtype option on import or set low_memory=False.\n",
      "  for chunk in pd.read_csv(\"/home/charlie/Desktop/master_data.csv\", chunksize=chunk_size):\n"
     ]
    },
    {
     "name": "stdout",
     "output_type": "stream",
     "text": [
      "Missing columns in this chunk: {'tunnel_parents   label   detailed-label'}\n",
      "Missing columns in this chunk: {'tunnel_parents   label   detailed-label'}\n"
     ]
    },
    {
     "name": "stderr",
     "output_type": "stream",
     "text": [
      "/tmp/ipykernel_18148/1266505323.py:8: DtypeWarning: Columns (7) have mixed types. Specify dtype option on import or set low_memory=False.\n",
      "  for chunk in pd.read_csv(\"/home/charlie/Desktop/master_data.csv\", chunksize=chunk_size):\n"
     ]
    },
    {
     "name": "stdout",
     "output_type": "stream",
     "text": [
      "Missing columns in this chunk: {'tunnel_parents   label   detailed-label'}\n",
      "Missing columns in this chunk: {'tunnel_parents   label   detailed-label'}\n"
     ]
    },
    {
     "name": "stderr",
     "output_type": "stream",
     "text": [
      "/tmp/ipykernel_18148/1266505323.py:8: DtypeWarning: Columns (7) have mixed types. Specify dtype option on import or set low_memory=False.\n",
      "  for chunk in pd.read_csv(\"/home/charlie/Desktop/master_data.csv\", chunksize=chunk_size):\n",
      "/tmp/ipykernel_18148/1266505323.py:8: DtypeWarning: Columns (7) have mixed types. Specify dtype option on import or set low_memory=False.\n",
      "  for chunk in pd.read_csv(\"/home/charlie/Desktop/master_data.csv\", chunksize=chunk_size):\n"
     ]
    },
    {
     "name": "stdout",
     "output_type": "stream",
     "text": [
      "Missing columns in this chunk: {'tunnel_parents   label   detailed-label'}\n",
      "Missing columns in this chunk: {'tunnel_parents   label   detailed-label'}\n",
      "Missing columns in this chunk: {'tunnel_parents   label   detailed-label'}\n"
     ]
    },
    {
     "name": "stderr",
     "output_type": "stream",
     "text": [
      "/tmp/ipykernel_18148/1266505323.py:8: DtypeWarning: Columns (7) have mixed types. Specify dtype option on import or set low_memory=False.\n",
      "  for chunk in pd.read_csv(\"/home/charlie/Desktop/master_data.csv\", chunksize=chunk_size):\n"
     ]
    },
    {
     "name": "stdout",
     "output_type": "stream",
     "text": [
      "Missing columns in this chunk: {'tunnel_parents   label   detailed-label'}\n",
      "Missing columns in this chunk: {'tunnel_parents   label   detailed-label'}\n",
      "Missing columns in this chunk: {'tunnel_parents   label   detailed-label'}\n",
      "Missing columns in this chunk: {'tunnel_parents   label   detailed-label'}\n",
      "Missing columns in this chunk: {'tunnel_parents   label   detailed-label'}\n"
     ]
    },
    {
     "name": "stderr",
     "output_type": "stream",
     "text": [
      "/tmp/ipykernel_18148/1266505323.py:8: DtypeWarning: Columns (7) have mixed types. Specify dtype option on import or set low_memory=False.\n",
      "  for chunk in pd.read_csv(\"/home/charlie/Desktop/master_data.csv\", chunksize=chunk_size):\n",
      "/tmp/ipykernel_18148/1266505323.py:8: DtypeWarning: Columns (7) have mixed types. Specify dtype option on import or set low_memory=False.\n",
      "  for chunk in pd.read_csv(\"/home/charlie/Desktop/master_data.csv\", chunksize=chunk_size):\n"
     ]
    },
    {
     "name": "stdout",
     "output_type": "stream",
     "text": [
      "Missing columns in this chunk: {'tunnel_parents   label   detailed-label'}\n",
      "Missing columns in this chunk: {'tunnel_parents   label   detailed-label'}\n"
     ]
    },
    {
     "name": "stderr",
     "output_type": "stream",
     "text": [
      "/tmp/ipykernel_18148/1266505323.py:8: DtypeWarning: Columns (7) have mixed types. Specify dtype option on import or set low_memory=False.\n",
      "  for chunk in pd.read_csv(\"/home/charlie/Desktop/master_data.csv\", chunksize=chunk_size):\n"
     ]
    },
    {
     "name": "stdout",
     "output_type": "stream",
     "text": [
      "Missing columns in this chunk: {'tunnel_parents   label   detailed-label'}\n",
      "Missing columns in this chunk: {'tunnel_parents   label   detailed-label'}\n"
     ]
    },
    {
     "name": "stderr",
     "output_type": "stream",
     "text": [
      "/tmp/ipykernel_18148/1266505323.py:8: DtypeWarning: Columns (7) have mixed types. Specify dtype option on import or set low_memory=False.\n",
      "  for chunk in pd.read_csv(\"/home/charlie/Desktop/master_data.csv\", chunksize=chunk_size):\n"
     ]
    },
    {
     "name": "stdout",
     "output_type": "stream",
     "text": [
      "Missing columns in this chunk: {'tunnel_parents   label   detailed-label'}\n",
      "Missing columns in this chunk: {'tunnel_parents   label   detailed-label'}\n",
      "Missing columns in this chunk: {'tunnel_parents   label   detailed-label'}\n",
      "Missing columns in this chunk: {'tunnel_parents   label   detailed-label'}\n",
      "Missing columns in this chunk: {'tunnel_parents   label   detailed-label'}\n"
     ]
    },
    {
     "name": "stderr",
     "output_type": "stream",
     "text": [
      "/tmp/ipykernel_18148/1266505323.py:8: DtypeWarning: Columns (7) have mixed types. Specify dtype option on import or set low_memory=False.\n",
      "  for chunk in pd.read_csv(\"/home/charlie/Desktop/master_data.csv\", chunksize=chunk_size):\n"
     ]
    },
    {
     "name": "stdout",
     "output_type": "stream",
     "text": [
      "Missing columns in this chunk: {'tunnel_parents   label   detailed-label'}\n",
      "Missing columns in this chunk: {'tunnel_parents   label   detailed-label'}\n",
      "Missing columns in this chunk: {'tunnel_parents   label   detailed-label'}\n"
     ]
    },
    {
     "name": "stderr",
     "output_type": "stream",
     "text": [
      "/tmp/ipykernel_18148/1266505323.py:8: DtypeWarning: Columns (7) have mixed types. Specify dtype option on import or set low_memory=False.\n",
      "  for chunk in pd.read_csv(\"/home/charlie/Desktop/master_data.csv\", chunksize=chunk_size):\n"
     ]
    },
    {
     "name": "stdout",
     "output_type": "stream",
     "text": [
      "Missing columns in this chunk: {'tunnel_parents   label   detailed-label'}\n",
      "Missing columns in this chunk: {'tunnel_parents   label   detailed-label'}\n",
      "Missing columns in this chunk: {'tunnel_parents   label   detailed-label'}\n"
     ]
    },
    {
     "name": "stderr",
     "output_type": "stream",
     "text": [
      "/tmp/ipykernel_18148/1266505323.py:8: DtypeWarning: Columns (7) have mixed types. Specify dtype option on import or set low_memory=False.\n",
      "  for chunk in pd.read_csv(\"/home/charlie/Desktop/master_data.csv\", chunksize=chunk_size):\n"
     ]
    },
    {
     "name": "stdout",
     "output_type": "stream",
     "text": [
      "Missing columns in this chunk: {'tunnel_parents   label   detailed-label'}\n",
      "Missing columns in this chunk: {'tunnel_parents   label   detailed-label'}\n",
      "Missing columns in this chunk: {'tunnel_parents   label   detailed-label'}\n",
      "Missing columns in this chunk: {'tunnel_parents   label   detailed-label'}\n",
      "Missing columns in this chunk: {'tunnel_parents   label   detailed-label'}\n"
     ]
    },
    {
     "name": "stderr",
     "output_type": "stream",
     "text": [
      "/tmp/ipykernel_18148/1266505323.py:8: DtypeWarning: Columns (7) have mixed types. Specify dtype option on import or set low_memory=False.\n",
      "  for chunk in pd.read_csv(\"/home/charlie/Desktop/master_data.csv\", chunksize=chunk_size):\n",
      "/tmp/ipykernel_18148/1266505323.py:8: DtypeWarning: Columns (7) have mixed types. Specify dtype option on import or set low_memory=False.\n",
      "  for chunk in pd.read_csv(\"/home/charlie/Desktop/master_data.csv\", chunksize=chunk_size):\n"
     ]
    },
    {
     "name": "stdout",
     "output_type": "stream",
     "text": [
      "Missing columns in this chunk: {'tunnel_parents   label   detailed-label'}\n",
      "Missing columns in this chunk: {'tunnel_parents   label   detailed-label'}\n",
      "Missing columns in this chunk: {'tunnel_parents   label   detailed-label'}\n",
      "Missing columns in this chunk: {'tunnel_parents   label   detailed-label'}\n",
      "Missing columns in this chunk: {'tunnel_parents   label   detailed-label'}\n",
      "Missing columns in this chunk: {'tunnel_parents   label   detailed-label'}\n",
      "Missing columns in this chunk: {'tunnel_parents   label   detailed-label'}\n",
      "Missing columns in this chunk: {'tunnel_parents   label   detailed-label'}\n"
     ]
    },
    {
     "name": "stderr",
     "output_type": "stream",
     "text": [
      "/tmp/ipykernel_18148/1266505323.py:8: DtypeWarning: Columns (7) have mixed types. Specify dtype option on import or set low_memory=False.\n",
      "  for chunk in pd.read_csv(\"/home/charlie/Desktop/master_data.csv\", chunksize=chunk_size):\n"
     ]
    },
    {
     "name": "stdout",
     "output_type": "stream",
     "text": [
      "Missing columns in this chunk: {'tunnel_parents   label   detailed-label'}\n",
      "Missing columns in this chunk: {'tunnel_parents   label   detailed-label'}\n",
      "Missing columns in this chunk: {'tunnel_parents   label   detailed-label'}\n",
      "Missing columns in this chunk: {'tunnel_parents   label   detailed-label'}\n"
     ]
    },
    {
     "name": "stderr",
     "output_type": "stream",
     "text": [
      "/tmp/ipykernel_18148/1266505323.py:8: DtypeWarning: Columns (7) have mixed types. Specify dtype option on import or set low_memory=False.\n",
      "  for chunk in pd.read_csv(\"/home/charlie/Desktop/master_data.csv\", chunksize=chunk_size):\n",
      "/tmp/ipykernel_18148/1266505323.py:8: DtypeWarning: Columns (7) have mixed types. Specify dtype option on import or set low_memory=False.\n",
      "  for chunk in pd.read_csv(\"/home/charlie/Desktop/master_data.csv\", chunksize=chunk_size):\n"
     ]
    },
    {
     "name": "stdout",
     "output_type": "stream",
     "text": [
      "Missing columns in this chunk: {'tunnel_parents   label   detailed-label'}\n",
      "Missing columns in this chunk: {'tunnel_parents   label   detailed-label'}\n",
      "Missing columns in this chunk: {'tunnel_parents   label   detailed-label'}\n"
     ]
    },
    {
     "name": "stderr",
     "output_type": "stream",
     "text": [
      "/tmp/ipykernel_18148/1266505323.py:8: DtypeWarning: Columns (7) have mixed types. Specify dtype option on import or set low_memory=False.\n",
      "  for chunk in pd.read_csv(\"/home/charlie/Desktop/master_data.csv\", chunksize=chunk_size):\n"
     ]
    },
    {
     "name": "stdout",
     "output_type": "stream",
     "text": [
      "Missing columns in this chunk: {'tunnel_parents   label   detailed-label'}\n",
      "Missing columns in this chunk: {'tunnel_parents   label   detailed-label'}\n",
      "Missing columns in this chunk: {'tunnel_parents   label   detailed-label'}\n"
     ]
    },
    {
     "name": "stderr",
     "output_type": "stream",
     "text": [
      "/tmp/ipykernel_18148/1266505323.py:8: DtypeWarning: Columns (7) have mixed types. Specify dtype option on import or set low_memory=False.\n",
      "  for chunk in pd.read_csv(\"/home/charlie/Desktop/master_data.csv\", chunksize=chunk_size):\n"
     ]
    },
    {
     "name": "stdout",
     "output_type": "stream",
     "text": [
      "Missing columns in this chunk: {'tunnel_parents   label   detailed-label'}\n",
      "Missing columns in this chunk: {'tunnel_parents   label   detailed-label'}\n",
      "Missing columns in this chunk: {'tunnel_parents   label   detailed-label'}\n"
     ]
    },
    {
     "name": "stderr",
     "output_type": "stream",
     "text": [
      "/tmp/ipykernel_18148/1266505323.py:8: DtypeWarning: Columns (7) have mixed types. Specify dtype option on import or set low_memory=False.\n",
      "  for chunk in pd.read_csv(\"/home/charlie/Desktop/master_data.csv\", chunksize=chunk_size):\n"
     ]
    },
    {
     "name": "stdout",
     "output_type": "stream",
     "text": [
      "Missing columns in this chunk: {'tunnel_parents   label   detailed-label'}\n",
      "Missing columns in this chunk: {'tunnel_parents   label   detailed-label'}\n",
      "Missing columns in this chunk: {'tunnel_parents   label   detailed-label'}\n",
      "Missing columns in this chunk: {'tunnel_parents   label   detailed-label'}\n",
      "Missing columns in this chunk: {'tunnel_parents   label   detailed-label'}\n"
     ]
    },
    {
     "name": "stderr",
     "output_type": "stream",
     "text": [
      "/tmp/ipykernel_18148/1266505323.py:8: DtypeWarning: Columns (7) have mixed types. Specify dtype option on import or set low_memory=False.\n",
      "  for chunk in pd.read_csv(\"/home/charlie/Desktop/master_data.csv\", chunksize=chunk_size):\n",
      "/tmp/ipykernel_18148/1266505323.py:8: DtypeWarning: Columns (7) have mixed types. Specify dtype option on import or set low_memory=False.\n",
      "  for chunk in pd.read_csv(\"/home/charlie/Desktop/master_data.csv\", chunksize=chunk_size):\n"
     ]
    },
    {
     "name": "stdout",
     "output_type": "stream",
     "text": [
      "Missing columns in this chunk: {'tunnel_parents   label   detailed-label'}\n",
      "Missing columns in this chunk: {'tunnel_parents   label   detailed-label'}\n",
      "Missing columns in this chunk: {'tunnel_parents   label   detailed-label'}\n",
      "Missing columns in this chunk: {'tunnel_parents   label   detailed-label'}\n"
     ]
    },
    {
     "name": "stderr",
     "output_type": "stream",
     "text": [
      "/tmp/ipykernel_18148/1266505323.py:8: DtypeWarning: Columns (7) have mixed types. Specify dtype option on import or set low_memory=False.\n",
      "  for chunk in pd.read_csv(\"/home/charlie/Desktop/master_data.csv\", chunksize=chunk_size):\n"
     ]
    },
    {
     "name": "stdout",
     "output_type": "stream",
     "text": [
      "Missing columns in this chunk: {'tunnel_parents   label   detailed-label'}\n",
      "Missing columns in this chunk: {'tunnel_parents   label   detailed-label'}\n",
      "Missing columns in this chunk: {'tunnel_parents   label   detailed-label'}\n"
     ]
    },
    {
     "name": "stderr",
     "output_type": "stream",
     "text": [
      "/tmp/ipykernel_18148/1266505323.py:8: DtypeWarning: Columns (7) have mixed types. Specify dtype option on import or set low_memory=False.\n",
      "  for chunk in pd.read_csv(\"/home/charlie/Desktop/master_data.csv\", chunksize=chunk_size):\n"
     ]
    },
    {
     "name": "stdout",
     "output_type": "stream",
     "text": [
      "Missing columns in this chunk: {'tunnel_parents   label   detailed-label'}\n",
      "Missing columns in this chunk: {'tunnel_parents   label   detailed-label'}\n",
      "Missing columns in this chunk: {'tunnel_parents   label   detailed-label'}\n"
     ]
    },
    {
     "name": "stderr",
     "output_type": "stream",
     "text": [
      "/tmp/ipykernel_18148/1266505323.py:8: DtypeWarning: Columns (7) have mixed types. Specify dtype option on import or set low_memory=False.\n",
      "  for chunk in pd.read_csv(\"/home/charlie/Desktop/master_data.csv\", chunksize=chunk_size):\n",
      "/tmp/ipykernel_18148/1266505323.py:8: DtypeWarning: Columns (7) have mixed types. Specify dtype option on import or set low_memory=False.\n",
      "  for chunk in pd.read_csv(\"/home/charlie/Desktop/master_data.csv\", chunksize=chunk_size):\n"
     ]
    },
    {
     "name": "stdout",
     "output_type": "stream",
     "text": [
      "Missing columns in this chunk: {'tunnel_parents   label   detailed-label'}\n",
      "Missing columns in this chunk: {'tunnel_parents   label   detailed-label'}\n",
      "Missing columns in this chunk: {'tunnel_parents   label   detailed-label'}\n"
     ]
    },
    {
     "name": "stderr",
     "output_type": "stream",
     "text": [
      "/tmp/ipykernel_18148/1266505323.py:8: DtypeWarning: Columns (7) have mixed types. Specify dtype option on import or set low_memory=False.\n",
      "  for chunk in pd.read_csv(\"/home/charlie/Desktop/master_data.csv\", chunksize=chunk_size):\n"
     ]
    },
    {
     "name": "stdout",
     "output_type": "stream",
     "text": [
      "Missing columns in this chunk: {'tunnel_parents   label   detailed-label'}\n",
      "Missing columns in this chunk: {'tunnel_parents   label   detailed-label'}\n"
     ]
    },
    {
     "name": "stderr",
     "output_type": "stream",
     "text": [
      "/tmp/ipykernel_18148/1266505323.py:8: DtypeWarning: Columns (7) have mixed types. Specify dtype option on import or set low_memory=False.\n",
      "  for chunk in pd.read_csv(\"/home/charlie/Desktop/master_data.csv\", chunksize=chunk_size):\n"
     ]
    },
    {
     "name": "stdout",
     "output_type": "stream",
     "text": [
      "Missing columns in this chunk: {'tunnel_parents   label   detailed-label'}\n",
      "Missing columns in this chunk: {'tunnel_parents   label   detailed-label'}\n",
      "Missing columns in this chunk: {'tunnel_parents   label   detailed-label'}\n"
     ]
    },
    {
     "name": "stderr",
     "output_type": "stream",
     "text": [
      "/tmp/ipykernel_18148/1266505323.py:8: DtypeWarning: Columns (7) have mixed types. Specify dtype option on import or set low_memory=False.\n",
      "  for chunk in pd.read_csv(\"/home/charlie/Desktop/master_data.csv\", chunksize=chunk_size):\n"
     ]
    },
    {
     "name": "stdout",
     "output_type": "stream",
     "text": [
      "Missing columns in this chunk: {'tunnel_parents   label   detailed-label'}\n",
      "Missing columns in this chunk: {'tunnel_parents   label   detailed-label'}\n"
     ]
    },
    {
     "name": "stderr",
     "output_type": "stream",
     "text": [
      "/tmp/ipykernel_18148/1266505323.py:8: DtypeWarning: Columns (7) have mixed types. Specify dtype option on import or set low_memory=False.\n",
      "  for chunk in pd.read_csv(\"/home/charlie/Desktop/master_data.csv\", chunksize=chunk_size):\n"
     ]
    },
    {
     "name": "stdout",
     "output_type": "stream",
     "text": [
      "Missing columns in this chunk: {'tunnel_parents   label   detailed-label'}\n",
      "Missing columns in this chunk: {'tunnel_parents   label   detailed-label'}\n"
     ]
    },
    {
     "name": "stderr",
     "output_type": "stream",
     "text": [
      "/tmp/ipykernel_18148/1266505323.py:8: DtypeWarning: Columns (7) have mixed types. Specify dtype option on import or set low_memory=False.\n",
      "  for chunk in pd.read_csv(\"/home/charlie/Desktop/master_data.csv\", chunksize=chunk_size):\n"
     ]
    },
    {
     "name": "stdout",
     "output_type": "stream",
     "text": [
      "Missing columns in this chunk: {'tunnel_parents   label   detailed-label'}\n",
      "Missing columns in this chunk: {'tunnel_parents   label   detailed-label'}\n",
      "Missing columns in this chunk: {'tunnel_parents   label   detailed-label'}\n"
     ]
    },
    {
     "name": "stderr",
     "output_type": "stream",
     "text": [
      "/tmp/ipykernel_18148/1266505323.py:8: DtypeWarning: Columns (7) have mixed types. Specify dtype option on import or set low_memory=False.\n",
      "  for chunk in pd.read_csv(\"/home/charlie/Desktop/master_data.csv\", chunksize=chunk_size):\n"
     ]
    },
    {
     "name": "stdout",
     "output_type": "stream",
     "text": [
      "Missing columns in this chunk: {'tunnel_parents   label   detailed-label'}\n",
      "Missing columns in this chunk: {'tunnel_parents   label   detailed-label'}\n"
     ]
    },
    {
     "name": "stderr",
     "output_type": "stream",
     "text": [
      "/tmp/ipykernel_18148/1266505323.py:8: DtypeWarning: Columns (7) have mixed types. Specify dtype option on import or set low_memory=False.\n",
      "  for chunk in pd.read_csv(\"/home/charlie/Desktop/master_data.csv\", chunksize=chunk_size):\n",
      "/tmp/ipykernel_18148/1266505323.py:8: DtypeWarning: Columns (7) have mixed types. Specify dtype option on import or set low_memory=False.\n",
      "  for chunk in pd.read_csv(\"/home/charlie/Desktop/master_data.csv\", chunksize=chunk_size):\n"
     ]
    },
    {
     "name": "stdout",
     "output_type": "stream",
     "text": [
      "Missing columns in this chunk: {'tunnel_parents   label   detailed-label'}\n",
      "Missing columns in this chunk: {'tunnel_parents   label   detailed-label'}\n"
     ]
    },
    {
     "name": "stderr",
     "output_type": "stream",
     "text": [
      "/tmp/ipykernel_18148/1266505323.py:8: DtypeWarning: Columns (7) have mixed types. Specify dtype option on import or set low_memory=False.\n",
      "  for chunk in pd.read_csv(\"/home/charlie/Desktop/master_data.csv\", chunksize=chunk_size):\n",
      "/tmp/ipykernel_18148/1266505323.py:8: DtypeWarning: Columns (7) have mixed types. Specify dtype option on import or set low_memory=False.\n",
      "  for chunk in pd.read_csv(\"/home/charlie/Desktop/master_data.csv\", chunksize=chunk_size):\n"
     ]
    },
    {
     "name": "stdout",
     "output_type": "stream",
     "text": [
      "Missing columns in this chunk: {'tunnel_parents   label   detailed-label'}\n",
      "Missing columns in this chunk: {'tunnel_parents   label   detailed-label'}\n",
      "Missing columns in this chunk: {'tunnel_parents   label   detailed-label'}\n",
      "Missing columns in this chunk: {'tunnel_parents   label   detailed-label'}\n",
      "Missing columns in this chunk: {'tunnel_parents   label   detailed-label'}\n",
      "Missing columns in this chunk: {'tunnel_parents   label   detailed-label'}\n",
      "Missing columns in this chunk: {'tunnel_parents   label   detailed-label'}\n"
     ]
    },
    {
     "name": "stderr",
     "output_type": "stream",
     "text": [
      "/tmp/ipykernel_18148/1266505323.py:8: DtypeWarning: Columns (7) have mixed types. Specify dtype option on import or set low_memory=False.\n",
      "  for chunk in pd.read_csv(\"/home/charlie/Desktop/master_data.csv\", chunksize=chunk_size):\n"
     ]
    },
    {
     "name": "stdout",
     "output_type": "stream",
     "text": [
      "Missing columns in this chunk: {'tunnel_parents   label   detailed-label'}\n",
      "Missing columns in this chunk: {'tunnel_parents   label   detailed-label'}\n",
      "Missing columns in this chunk: {'tunnel_parents   label   detailed-label'}\n"
     ]
    },
    {
     "name": "stderr",
     "output_type": "stream",
     "text": [
      "/tmp/ipykernel_18148/1266505323.py:8: DtypeWarning: Columns (7) have mixed types. Specify dtype option on import or set low_memory=False.\n",
      "  for chunk in pd.read_csv(\"/home/charlie/Desktop/master_data.csv\", chunksize=chunk_size):\n",
      "/tmp/ipykernel_18148/1266505323.py:8: DtypeWarning: Columns (7) have mixed types. Specify dtype option on import or set low_memory=False.\n",
      "  for chunk in pd.read_csv(\"/home/charlie/Desktop/master_data.csv\", chunksize=chunk_size):\n"
     ]
    },
    {
     "name": "stdout",
     "output_type": "stream",
     "text": [
      "Missing columns in this chunk: {'tunnel_parents   label   detailed-label'}\n",
      "Missing columns in this chunk: {'tunnel_parents   label   detailed-label'}\n"
     ]
    },
    {
     "name": "stderr",
     "output_type": "stream",
     "text": [
      "/tmp/ipykernel_18148/1266505323.py:8: DtypeWarning: Columns (7) have mixed types. Specify dtype option on import or set low_memory=False.\n",
      "  for chunk in pd.read_csv(\"/home/charlie/Desktop/master_data.csv\", chunksize=chunk_size):\n"
     ]
    },
    {
     "name": "stdout",
     "output_type": "stream",
     "text": [
      "Missing columns in this chunk: {'tunnel_parents   label   detailed-label'}\n",
      "Missing columns in this chunk: {'tunnel_parents   label   detailed-label'}\n"
     ]
    },
    {
     "name": "stderr",
     "output_type": "stream",
     "text": [
      "/tmp/ipykernel_18148/1266505323.py:8: DtypeWarning: Columns (7) have mixed types. Specify dtype option on import or set low_memory=False.\n",
      "  for chunk in pd.read_csv(\"/home/charlie/Desktop/master_data.csv\", chunksize=chunk_size):\n"
     ]
    },
    {
     "name": "stdout",
     "output_type": "stream",
     "text": [
      "Missing columns in this chunk: {'tunnel_parents   label   detailed-label'}\n",
      "Missing columns in this chunk: {'tunnel_parents   label   detailed-label'}\n",
      "Missing columns in this chunk: {'tunnel_parents   label   detailed-label'}\n"
     ]
    },
    {
     "name": "stderr",
     "output_type": "stream",
     "text": [
      "/tmp/ipykernel_18148/1266505323.py:8: DtypeWarning: Columns (7) have mixed types. Specify dtype option on import or set low_memory=False.\n",
      "  for chunk in pd.read_csv(\"/home/charlie/Desktop/master_data.csv\", chunksize=chunk_size):\n",
      "/tmp/ipykernel_18148/1266505323.py:8: DtypeWarning: Columns (7) have mixed types. Specify dtype option on import or set low_memory=False.\n",
      "  for chunk in pd.read_csv(\"/home/charlie/Desktop/master_data.csv\", chunksize=chunk_size):\n"
     ]
    },
    {
     "name": "stdout",
     "output_type": "stream",
     "text": [
      "Missing columns in this chunk: {'tunnel_parents   label   detailed-label'}\n",
      "Missing columns in this chunk: {'tunnel_parents   label   detailed-label'}\n",
      "Missing columns in this chunk: {'tunnel_parents   label   detailed-label'}\n",
      "Missing columns in this chunk: {'tunnel_parents   label   detailed-label'}\n",
      "Missing columns in this chunk: {'tunnel_parents   label   detailed-label'}\n",
      "Missing columns in this chunk: {'tunnel_parents   label   detailed-label'}\n",
      "Missing columns in this chunk: {'tunnel_parents   label   detailed-label'}\n",
      "Missing columns in this chunk: {'tunnel_parents   label   detailed-label'}\n",
      "Missing columns in this chunk: {'tunnel_parents   label   detailed-label'}\n",
      "Missing columns in this chunk: {'tunnel_parents   label   detailed-label'}\n",
      "Missing columns in this chunk: {'tunnel_parents   label   detailed-label'}\n"
     ]
    },
    {
     "name": "stderr",
     "output_type": "stream",
     "text": [
      "/tmp/ipykernel_18148/1266505323.py:8: DtypeWarning: Columns (7) have mixed types. Specify dtype option on import or set low_memory=False.\n",
      "  for chunk in pd.read_csv(\"/home/charlie/Desktop/master_data.csv\", chunksize=chunk_size):\n",
      "/tmp/ipykernel_18148/1266505323.py:8: DtypeWarning: Columns (7) have mixed types. Specify dtype option on import or set low_memory=False.\n",
      "  for chunk in pd.read_csv(\"/home/charlie/Desktop/master_data.csv\", chunksize=chunk_size):\n"
     ]
    },
    {
     "name": "stdout",
     "output_type": "stream",
     "text": [
      "Missing columns in this chunk: {'tunnel_parents   label   detailed-label'}\n",
      "Missing columns in this chunk: {'tunnel_parents   label   detailed-label'}\n"
     ]
    },
    {
     "name": "stderr",
     "output_type": "stream",
     "text": [
      "/tmp/ipykernel_18148/1266505323.py:8: DtypeWarning: Columns (7) have mixed types. Specify dtype option on import or set low_memory=False.\n",
      "  for chunk in pd.read_csv(\"/home/charlie/Desktop/master_data.csv\", chunksize=chunk_size):\n"
     ]
    },
    {
     "name": "stdout",
     "output_type": "stream",
     "text": [
      "Missing columns in this chunk: {'tunnel_parents   label   detailed-label'}\n",
      "Missing columns in this chunk: {'tunnel_parents   label   detailed-label'}\n",
      "Missing columns in this chunk: {'tunnel_parents   label   detailed-label'}\n",
      "Missing columns in this chunk: {'tunnel_parents   label   detailed-label'}\n",
      "Missing columns in this chunk: {'tunnel_parents   label   detailed-label'}\n"
     ]
    },
    {
     "name": "stderr",
     "output_type": "stream",
     "text": [
      "/tmp/ipykernel_18148/1266505323.py:8: DtypeWarning: Columns (7) have mixed types. Specify dtype option on import or set low_memory=False.\n",
      "  for chunk in pd.read_csv(\"/home/charlie/Desktop/master_data.csv\", chunksize=chunk_size):\n"
     ]
    },
    {
     "name": "stdout",
     "output_type": "stream",
     "text": [
      "Missing columns in this chunk: {'tunnel_parents   label   detailed-label'}\n",
      "Missing columns in this chunk: {'tunnel_parents   label   detailed-label'}\n"
     ]
    },
    {
     "name": "stderr",
     "output_type": "stream",
     "text": [
      "/tmp/ipykernel_18148/1266505323.py:8: DtypeWarning: Columns (7) have mixed types. Specify dtype option on import or set low_memory=False.\n",
      "  for chunk in pd.read_csv(\"/home/charlie/Desktop/master_data.csv\", chunksize=chunk_size):\n"
     ]
    },
    {
     "name": "stdout",
     "output_type": "stream",
     "text": [
      "Missing columns in this chunk: {'tunnel_parents   label   detailed-label'}\n",
      "Missing columns in this chunk: {'tunnel_parents   label   detailed-label'}\n",
      "Missing columns in this chunk: {'tunnel_parents   label   detailed-label'}\n",
      "Missing columns in this chunk: {'tunnel_parents   label   detailed-label'}\n"
     ]
    },
    {
     "name": "stderr",
     "output_type": "stream",
     "text": [
      "/tmp/ipykernel_18148/1266505323.py:8: DtypeWarning: Columns (7) have mixed types. Specify dtype option on import or set low_memory=False.\n",
      "  for chunk in pd.read_csv(\"/home/charlie/Desktop/master_data.csv\", chunksize=chunk_size):\n"
     ]
    },
    {
     "name": "stdout",
     "output_type": "stream",
     "text": [
      "Missing columns in this chunk: {'tunnel_parents   label   detailed-label'}\n",
      "Missing columns in this chunk: {'tunnel_parents   label   detailed-label'}\n",
      "Missing columns in this chunk: {'tunnel_parents   label   detailed-label'}\n",
      "Missing columns in this chunk: {'tunnel_parents   label   detailed-label'}\n"
     ]
    },
    {
     "name": "stderr",
     "output_type": "stream",
     "text": [
      "/tmp/ipykernel_18148/1266505323.py:8: DtypeWarning: Columns (7) have mixed types. Specify dtype option on import or set low_memory=False.\n",
      "  for chunk in pd.read_csv(\"/home/charlie/Desktop/master_data.csv\", chunksize=chunk_size):\n"
     ]
    },
    {
     "name": "stdout",
     "output_type": "stream",
     "text": [
      "Missing columns in this chunk: {'tunnel_parents   label   detailed-label'}\n",
      "Missing columns in this chunk: {'tunnel_parents   label   detailed-label'}\n",
      "Missing columns in this chunk: {'tunnel_parents   label   detailed-label'}\n",
      "Missing columns in this chunk: {'tunnel_parents   label   detailed-label'}\n"
     ]
    },
    {
     "name": "stderr",
     "output_type": "stream",
     "text": [
      "/tmp/ipykernel_18148/1266505323.py:8: DtypeWarning: Columns (7) have mixed types. Specify dtype option on import or set low_memory=False.\n",
      "  for chunk in pd.read_csv(\"/home/charlie/Desktop/master_data.csv\", chunksize=chunk_size):\n"
     ]
    },
    {
     "name": "stdout",
     "output_type": "stream",
     "text": [
      "Missing columns in this chunk: {'tunnel_parents   label   detailed-label'}\n",
      "Missing columns in this chunk: {'tunnel_parents   label   detailed-label'}\n"
     ]
    },
    {
     "name": "stderr",
     "output_type": "stream",
     "text": [
      "/tmp/ipykernel_18148/1266505323.py:8: DtypeWarning: Columns (7) have mixed types. Specify dtype option on import or set low_memory=False.\n",
      "  for chunk in pd.read_csv(\"/home/charlie/Desktop/master_data.csv\", chunksize=chunk_size):\n"
     ]
    },
    {
     "name": "stdout",
     "output_type": "stream",
     "text": [
      "Missing columns in this chunk: {'tunnel_parents   label   detailed-label'}\n",
      "Missing columns in this chunk: {'tunnel_parents   label   detailed-label'}\n",
      "Missing columns in this chunk: {'tunnel_parents   label   detailed-label'}\n",
      "Missing columns in this chunk: {'tunnel_parents   label   detailed-label'}\n",
      "Missing columns in this chunk: {'tunnel_parents   label   detailed-label'}\n"
     ]
    },
    {
     "name": "stderr",
     "output_type": "stream",
     "text": [
      "/tmp/ipykernel_18148/1266505323.py:8: DtypeWarning: Columns (7) have mixed types. Specify dtype option on import or set low_memory=False.\n",
      "  for chunk in pd.read_csv(\"/home/charlie/Desktop/master_data.csv\", chunksize=chunk_size):\n",
      "/tmp/ipykernel_18148/1266505323.py:8: DtypeWarning: Columns (7) have mixed types. Specify dtype option on import or set low_memory=False.\n",
      "  for chunk in pd.read_csv(\"/home/charlie/Desktop/master_data.csv\", chunksize=chunk_size):\n"
     ]
    },
    {
     "name": "stdout",
     "output_type": "stream",
     "text": [
      "Missing columns in this chunk: {'tunnel_parents   label   detailed-label'}\n",
      "Missing columns in this chunk: {'tunnel_parents   label   detailed-label'}\n"
     ]
    },
    {
     "name": "stderr",
     "output_type": "stream",
     "text": [
      "/tmp/ipykernel_18148/1266505323.py:8: DtypeWarning: Columns (7) have mixed types. Specify dtype option on import or set low_memory=False.\n",
      "  for chunk in pd.read_csv(\"/home/charlie/Desktop/master_data.csv\", chunksize=chunk_size):\n"
     ]
    },
    {
     "name": "stdout",
     "output_type": "stream",
     "text": [
      "Missing columns in this chunk: {'tunnel_parents   label   detailed-label'}\n",
      "Missing columns in this chunk: {'tunnel_parents   label   detailed-label'}\n"
     ]
    },
    {
     "name": "stderr",
     "output_type": "stream",
     "text": [
      "/tmp/ipykernel_18148/1266505323.py:8: DtypeWarning: Columns (7) have mixed types. Specify dtype option on import or set low_memory=False.\n",
      "  for chunk in pd.read_csv(\"/home/charlie/Desktop/master_data.csv\", chunksize=chunk_size):\n",
      "/tmp/ipykernel_18148/1266505323.py:8: DtypeWarning: Columns (7) have mixed types. Specify dtype option on import or set low_memory=False.\n",
      "  for chunk in pd.read_csv(\"/home/charlie/Desktop/master_data.csv\", chunksize=chunk_size):\n"
     ]
    },
    {
     "name": "stdout",
     "output_type": "stream",
     "text": [
      "Missing columns in this chunk: {'tunnel_parents   label   detailed-label'}\n",
      "Missing columns in this chunk: {'tunnel_parents   label   detailed-label'}\n"
     ]
    },
    {
     "name": "stderr",
     "output_type": "stream",
     "text": [
      "/tmp/ipykernel_18148/1266505323.py:8: DtypeWarning: Columns (7) have mixed types. Specify dtype option on import or set low_memory=False.\n",
      "  for chunk in pd.read_csv(\"/home/charlie/Desktop/master_data.csv\", chunksize=chunk_size):\n",
      "/tmp/ipykernel_18148/1266505323.py:8: DtypeWarning: Columns (7) have mixed types. Specify dtype option on import or set low_memory=False.\n",
      "  for chunk in pd.read_csv(\"/home/charlie/Desktop/master_data.csv\", chunksize=chunk_size):\n"
     ]
    },
    {
     "name": "stdout",
     "output_type": "stream",
     "text": [
      "Missing columns in this chunk: {'tunnel_parents   label   detailed-label'}\n",
      "Missing columns in this chunk: {'tunnel_parents   label   detailed-label'}\n",
      "Missing columns in this chunk: {'tunnel_parents   label   detailed-label'}\n",
      "Missing columns in this chunk: {'tunnel_parents   label   detailed-label'}\n"
     ]
    },
    {
     "name": "stderr",
     "output_type": "stream",
     "text": [
      "/tmp/ipykernel_18148/1266505323.py:8: DtypeWarning: Columns (7) have mixed types. Specify dtype option on import or set low_memory=False.\n",
      "  for chunk in pd.read_csv(\"/home/charlie/Desktop/master_data.csv\", chunksize=chunk_size):\n"
     ]
    },
    {
     "name": "stdout",
     "output_type": "stream",
     "text": [
      "Missing columns in this chunk: {'tunnel_parents   label   detailed-label'}\n",
      "Missing columns in this chunk: {'tunnel_parents   label   detailed-label'}\n",
      "Missing columns in this chunk: {'tunnel_parents   label   detailed-label'}\n"
     ]
    },
    {
     "name": "stderr",
     "output_type": "stream",
     "text": [
      "/tmp/ipykernel_18148/1266505323.py:8: DtypeWarning: Columns (7) have mixed types. Specify dtype option on import or set low_memory=False.\n",
      "  for chunk in pd.read_csv(\"/home/charlie/Desktop/master_data.csv\", chunksize=chunk_size):\n"
     ]
    },
    {
     "name": "stdout",
     "output_type": "stream",
     "text": [
      "Missing columns in this chunk: {'tunnel_parents   label   detailed-label'}\n",
      "Missing columns in this chunk: {'tunnel_parents   label   detailed-label'}\n"
     ]
    },
    {
     "name": "stderr",
     "output_type": "stream",
     "text": [
      "/tmp/ipykernel_18148/1266505323.py:8: DtypeWarning: Columns (7) have mixed types. Specify dtype option on import or set low_memory=False.\n",
      "  for chunk in pd.read_csv(\"/home/charlie/Desktop/master_data.csv\", chunksize=chunk_size):\n",
      "/tmp/ipykernel_18148/1266505323.py:8: DtypeWarning: Columns (7) have mixed types. Specify dtype option on import or set low_memory=False.\n",
      "  for chunk in pd.read_csv(\"/home/charlie/Desktop/master_data.csv\", chunksize=chunk_size):\n"
     ]
    },
    {
     "name": "stdout",
     "output_type": "stream",
     "text": [
      "Missing columns in this chunk: {'tunnel_parents   label   detailed-label'}\n",
      "Missing columns in this chunk: {'tunnel_parents   label   detailed-label'}\n"
     ]
    },
    {
     "name": "stderr",
     "output_type": "stream",
     "text": [
      "/tmp/ipykernel_18148/1266505323.py:8: DtypeWarning: Columns (7) have mixed types. Specify dtype option on import or set low_memory=False.\n",
      "  for chunk in pd.read_csv(\"/home/charlie/Desktop/master_data.csv\", chunksize=chunk_size):\n",
      "/tmp/ipykernel_18148/1266505323.py:8: DtypeWarning: Columns (7) have mixed types. Specify dtype option on import or set low_memory=False.\n",
      "  for chunk in pd.read_csv(\"/home/charlie/Desktop/master_data.csv\", chunksize=chunk_size):\n"
     ]
    },
    {
     "name": "stdout",
     "output_type": "stream",
     "text": [
      "Missing columns in this chunk: {'tunnel_parents   label   detailed-label'}\n",
      "Missing columns in this chunk: {'tunnel_parents   label   detailed-label'}\n",
      "Missing columns in this chunk: {'tunnel_parents   label   detailed-label'}\n"
     ]
    },
    {
     "name": "stderr",
     "output_type": "stream",
     "text": [
      "/tmp/ipykernel_18148/1266505323.py:8: DtypeWarning: Columns (7) have mixed types. Specify dtype option on import or set low_memory=False.\n",
      "  for chunk in pd.read_csv(\"/home/charlie/Desktop/master_data.csv\", chunksize=chunk_size):\n"
     ]
    },
    {
     "name": "stdout",
     "output_type": "stream",
     "text": [
      "Missing columns in this chunk: {'tunnel_parents   label   detailed-label'}\n",
      "Missing columns in this chunk: {'tunnel_parents   label   detailed-label'}\n"
     ]
    },
    {
     "name": "stderr",
     "output_type": "stream",
     "text": [
      "/tmp/ipykernel_18148/1266505323.py:8: DtypeWarning: Columns (7) have mixed types. Specify dtype option on import or set low_memory=False.\n",
      "  for chunk in pd.read_csv(\"/home/charlie/Desktop/master_data.csv\", chunksize=chunk_size):\n"
     ]
    },
    {
     "name": "stdout",
     "output_type": "stream",
     "text": [
      "Missing columns in this chunk: {'tunnel_parents   label   detailed-label'}\n",
      "Missing columns in this chunk: {'tunnel_parents   label   detailed-label'}\n",
      "Missing columns in this chunk: {'tunnel_parents   label   detailed-label'}\n",
      "Missing columns in this chunk: {'tunnel_parents   label   detailed-label'}\n"
     ]
    },
    {
     "name": "stderr",
     "output_type": "stream",
     "text": [
      "/tmp/ipykernel_18148/1266505323.py:8: DtypeWarning: Columns (7) have mixed types. Specify dtype option on import or set low_memory=False.\n",
      "  for chunk in pd.read_csv(\"/home/charlie/Desktop/master_data.csv\", chunksize=chunk_size):\n"
     ]
    },
    {
     "name": "stdout",
     "output_type": "stream",
     "text": [
      "Missing columns in this chunk: {'tunnel_parents   label   detailed-label'}\n",
      "Missing columns in this chunk: {'tunnel_parents   label   detailed-label'}\n"
     ]
    },
    {
     "name": "stderr",
     "output_type": "stream",
     "text": [
      "/tmp/ipykernel_18148/1266505323.py:8: DtypeWarning: Columns (7) have mixed types. Specify dtype option on import or set low_memory=False.\n",
      "  for chunk in pd.read_csv(\"/home/charlie/Desktop/master_data.csv\", chunksize=chunk_size):\n"
     ]
    },
    {
     "name": "stdout",
     "output_type": "stream",
     "text": [
      "Missing columns in this chunk: {'tunnel_parents   label   detailed-label'}\n",
      "Missing columns in this chunk: {'tunnel_parents   label   detailed-label'}\n"
     ]
    },
    {
     "name": "stderr",
     "output_type": "stream",
     "text": [
      "/tmp/ipykernel_18148/1266505323.py:8: DtypeWarning: Columns (7) have mixed types. Specify dtype option on import or set low_memory=False.\n",
      "  for chunk in pd.read_csv(\"/home/charlie/Desktop/master_data.csv\", chunksize=chunk_size):\n"
     ]
    },
    {
     "name": "stdout",
     "output_type": "stream",
     "text": [
      "Missing columns in this chunk: {'tunnel_parents   label   detailed-label'}\n",
      "Missing columns in this chunk: {'tunnel_parents   label   detailed-label'}\n",
      "Missing columns in this chunk: {'tunnel_parents   label   detailed-label'}\n"
     ]
    },
    {
     "name": "stderr",
     "output_type": "stream",
     "text": [
      "/tmp/ipykernel_18148/1266505323.py:8: DtypeWarning: Columns (7) have mixed types. Specify dtype option on import or set low_memory=False.\n",
      "  for chunk in pd.read_csv(\"/home/charlie/Desktop/master_data.csv\", chunksize=chunk_size):\n",
      "/tmp/ipykernel_18148/1266505323.py:8: DtypeWarning: Columns (7) have mixed types. Specify dtype option on import or set low_memory=False.\n",
      "  for chunk in pd.read_csv(\"/home/charlie/Desktop/master_data.csv\", chunksize=chunk_size):\n"
     ]
    },
    {
     "name": "stdout",
     "output_type": "stream",
     "text": [
      "Missing columns in this chunk: {'tunnel_parents   label   detailed-label'}\n",
      "Missing columns in this chunk: {'tunnel_parents   label   detailed-label'}\n",
      "Missing columns in this chunk: {'tunnel_parents   label   detailed-label'}\n"
     ]
    },
    {
     "name": "stderr",
     "output_type": "stream",
     "text": [
      "/tmp/ipykernel_18148/1266505323.py:8: DtypeWarning: Columns (7) have mixed types. Specify dtype option on import or set low_memory=False.\n",
      "  for chunk in pd.read_csv(\"/home/charlie/Desktop/master_data.csv\", chunksize=chunk_size):\n"
     ]
    },
    {
     "name": "stdout",
     "output_type": "stream",
     "text": [
      "Missing columns in this chunk: {'tunnel_parents   label   detailed-label'}\n",
      "Missing columns in this chunk: {'tunnel_parents   label   detailed-label'}\n"
     ]
    },
    {
     "name": "stderr",
     "output_type": "stream",
     "text": [
      "/tmp/ipykernel_18148/1266505323.py:8: DtypeWarning: Columns (7) have mixed types. Specify dtype option on import or set low_memory=False.\n",
      "  for chunk in pd.read_csv(\"/home/charlie/Desktop/master_data.csv\", chunksize=chunk_size):\n"
     ]
    },
    {
     "name": "stdout",
     "output_type": "stream",
     "text": [
      "Missing columns in this chunk: {'tunnel_parents   label   detailed-label'}\n",
      "Missing columns in this chunk: {'tunnel_parents   label   detailed-label'}\n",
      "Missing columns in this chunk: {'tunnel_parents   label   detailed-label'}\n",
      "Missing columns in this chunk: {'tunnel_parents   label   detailed-label'}\n"
     ]
    },
    {
     "name": "stderr",
     "output_type": "stream",
     "text": [
      "/tmp/ipykernel_18148/1266505323.py:8: DtypeWarning: Columns (7) have mixed types. Specify dtype option on import or set low_memory=False.\n",
      "  for chunk in pd.read_csv(\"/home/charlie/Desktop/master_data.csv\", chunksize=chunk_size):\n"
     ]
    },
    {
     "name": "stdout",
     "output_type": "stream",
     "text": [
      "Missing columns in this chunk: {'tunnel_parents   label   detailed-label'}\n",
      "Missing columns in this chunk: {'tunnel_parents   label   detailed-label'}\n",
      "Missing columns in this chunk: {'tunnel_parents   label   detailed-label'}\n"
     ]
    },
    {
     "name": "stderr",
     "output_type": "stream",
     "text": [
      "/tmp/ipykernel_18148/1266505323.py:8: DtypeWarning: Columns (7) have mixed types. Specify dtype option on import or set low_memory=False.\n",
      "  for chunk in pd.read_csv(\"/home/charlie/Desktop/master_data.csv\", chunksize=chunk_size):\n"
     ]
    },
    {
     "name": "stdout",
     "output_type": "stream",
     "text": [
      "Missing columns in this chunk: {'tunnel_parents   label   detailed-label'}\n",
      "Missing columns in this chunk: {'tunnel_parents   label   detailed-label'}\n",
      "Missing columns in this chunk: {'tunnel_parents   label   detailed-label'}\n",
      "Missing columns in this chunk: {'tunnel_parents   label   detailed-label'}\n"
     ]
    },
    {
     "name": "stderr",
     "output_type": "stream",
     "text": [
      "/tmp/ipykernel_18148/1266505323.py:8: DtypeWarning: Columns (7) have mixed types. Specify dtype option on import or set low_memory=False.\n",
      "  for chunk in pd.read_csv(\"/home/charlie/Desktop/master_data.csv\", chunksize=chunk_size):\n",
      "/tmp/ipykernel_18148/1266505323.py:8: DtypeWarning: Columns (7) have mixed types. Specify dtype option on import or set low_memory=False.\n",
      "  for chunk in pd.read_csv(\"/home/charlie/Desktop/master_data.csv\", chunksize=chunk_size):\n"
     ]
    },
    {
     "name": "stdout",
     "output_type": "stream",
     "text": [
      "Missing columns in this chunk: {'tunnel_parents   label   detailed-label'}\n",
      "Missing columns in this chunk: {'tunnel_parents   label   detailed-label'}\n",
      "Missing columns in this chunk: {'tunnel_parents   label   detailed-label'}\n",
      "Missing columns in this chunk: {'tunnel_parents   label   detailed-label'}\n"
     ]
    },
    {
     "name": "stderr",
     "output_type": "stream",
     "text": [
      "/tmp/ipykernel_18148/1266505323.py:8: DtypeWarning: Columns (7) have mixed types. Specify dtype option on import or set low_memory=False.\n",
      "  for chunk in pd.read_csv(\"/home/charlie/Desktop/master_data.csv\", chunksize=chunk_size):\n",
      "/tmp/ipykernel_18148/1266505323.py:8: DtypeWarning: Columns (7) have mixed types. Specify dtype option on import or set low_memory=False.\n",
      "  for chunk in pd.read_csv(\"/home/charlie/Desktop/master_data.csv\", chunksize=chunk_size):\n"
     ]
    },
    {
     "name": "stdout",
     "output_type": "stream",
     "text": [
      "Missing columns in this chunk: {'tunnel_parents   label   detailed-label'}\n",
      "Missing columns in this chunk: {'tunnel_parents   label   detailed-label'}\n",
      "Missing columns in this chunk: {'tunnel_parents   label   detailed-label'}\n"
     ]
    },
    {
     "name": "stderr",
     "output_type": "stream",
     "text": [
      "/tmp/ipykernel_18148/1266505323.py:8: DtypeWarning: Columns (7) have mixed types. Specify dtype option on import or set low_memory=False.\n",
      "  for chunk in pd.read_csv(\"/home/charlie/Desktop/master_data.csv\", chunksize=chunk_size):\n"
     ]
    },
    {
     "name": "stdout",
     "output_type": "stream",
     "text": [
      "Missing columns in this chunk: {'tunnel_parents   label   detailed-label'}\n",
      "Missing columns in this chunk: {'tunnel_parents   label   detailed-label'}\n",
      "Missing columns in this chunk: {'tunnel_parents   label   detailed-label'}\n"
     ]
    },
    {
     "name": "stderr",
     "output_type": "stream",
     "text": [
      "/tmp/ipykernel_18148/1266505323.py:8: DtypeWarning: Columns (7) have mixed types. Specify dtype option on import or set low_memory=False.\n",
      "  for chunk in pd.read_csv(\"/home/charlie/Desktop/master_data.csv\", chunksize=chunk_size):\n",
      "/tmp/ipykernel_18148/1266505323.py:8: DtypeWarning: Columns (7) have mixed types. Specify dtype option on import or set low_memory=False.\n",
      "  for chunk in pd.read_csv(\"/home/charlie/Desktop/master_data.csv\", chunksize=chunk_size):\n"
     ]
    },
    {
     "name": "stdout",
     "output_type": "stream",
     "text": [
      "Missing columns in this chunk: {'tunnel_parents   label   detailed-label'}\n",
      "Missing columns in this chunk: {'tunnel_parents   label   detailed-label'}\n"
     ]
    },
    {
     "name": "stderr",
     "output_type": "stream",
     "text": [
      "/tmp/ipykernel_18148/1266505323.py:8: DtypeWarning: Columns (7) have mixed types. Specify dtype option on import or set low_memory=False.\n",
      "  for chunk in pd.read_csv(\"/home/charlie/Desktop/master_data.csv\", chunksize=chunk_size):\n",
      "/tmp/ipykernel_18148/1266505323.py:8: DtypeWarning: Columns (7) have mixed types. Specify dtype option on import or set low_memory=False.\n",
      "  for chunk in pd.read_csv(\"/home/charlie/Desktop/master_data.csv\", chunksize=chunk_size):\n"
     ]
    },
    {
     "name": "stdout",
     "output_type": "stream",
     "text": [
      "Missing columns in this chunk: {'tunnel_parents   label   detailed-label'}\n",
      "Missing columns in this chunk: {'tunnel_parents   label   detailed-label'}\n"
     ]
    },
    {
     "name": "stderr",
     "output_type": "stream",
     "text": [
      "/tmp/ipykernel_18148/1266505323.py:8: DtypeWarning: Columns (7) have mixed types. Specify dtype option on import or set low_memory=False.\n",
      "  for chunk in pd.read_csv(\"/home/charlie/Desktop/master_data.csv\", chunksize=chunk_size):\n"
     ]
    },
    {
     "name": "stdout",
     "output_type": "stream",
     "text": [
      "Missing columns in this chunk: {'tunnel_parents   label   detailed-label'}\n",
      "Missing columns in this chunk: {'tunnel_parents   label   detailed-label'}\n",
      "Missing columns in this chunk: {'tunnel_parents   label   detailed-label'}\n"
     ]
    },
    {
     "name": "stderr",
     "output_type": "stream",
     "text": [
      "/tmp/ipykernel_18148/1266505323.py:8: DtypeWarning: Columns (7) have mixed types. Specify dtype option on import or set low_memory=False.\n",
      "  for chunk in pd.read_csv(\"/home/charlie/Desktop/master_data.csv\", chunksize=chunk_size):\n",
      "/tmp/ipykernel_18148/1266505323.py:8: DtypeWarning: Columns (7) have mixed types. Specify dtype option on import or set low_memory=False.\n",
      "  for chunk in pd.read_csv(\"/home/charlie/Desktop/master_data.csv\", chunksize=chunk_size):\n"
     ]
    },
    {
     "name": "stdout",
     "output_type": "stream",
     "text": [
      "Missing columns in this chunk: {'tunnel_parents   label   detailed-label'}\n",
      "Missing columns in this chunk: {'tunnel_parents   label   detailed-label'}\n"
     ]
    },
    {
     "name": "stderr",
     "output_type": "stream",
     "text": [
      "/tmp/ipykernel_18148/1266505323.py:8: DtypeWarning: Columns (7) have mixed types. Specify dtype option on import or set low_memory=False.\n",
      "  for chunk in pd.read_csv(\"/home/charlie/Desktop/master_data.csv\", chunksize=chunk_size):\n"
     ]
    },
    {
     "name": "stdout",
     "output_type": "stream",
     "text": [
      "Missing columns in this chunk: {'tunnel_parents   label   detailed-label'}\n",
      "Missing columns in this chunk: {'tunnel_parents   label   detailed-label'}\n",
      "Missing columns in this chunk: {'tunnel_parents   label   detailed-label'}\n"
     ]
    },
    {
     "name": "stderr",
     "output_type": "stream",
     "text": [
      "/tmp/ipykernel_18148/1266505323.py:8: DtypeWarning: Columns (7) have mixed types. Specify dtype option on import or set low_memory=False.\n",
      "  for chunk in pd.read_csv(\"/home/charlie/Desktop/master_data.csv\", chunksize=chunk_size):\n",
      "/tmp/ipykernel_18148/1266505323.py:8: DtypeWarning: Columns (7) have mixed types. Specify dtype option on import or set low_memory=False.\n",
      "  for chunk in pd.read_csv(\"/home/charlie/Desktop/master_data.csv\", chunksize=chunk_size):\n"
     ]
    },
    {
     "name": "stdout",
     "output_type": "stream",
     "text": [
      "Missing columns in this chunk: {'tunnel_parents   label   detailed-label'}\n",
      "Missing columns in this chunk: {'tunnel_parents   label   detailed-label'}\n"
     ]
    },
    {
     "name": "stderr",
     "output_type": "stream",
     "text": [
      "/tmp/ipykernel_18148/1266505323.py:8: DtypeWarning: Columns (7) have mixed types. Specify dtype option on import or set low_memory=False.\n",
      "  for chunk in pd.read_csv(\"/home/charlie/Desktop/master_data.csv\", chunksize=chunk_size):\n"
     ]
    },
    {
     "name": "stdout",
     "output_type": "stream",
     "text": [
      "Missing columns in this chunk: {'tunnel_parents   label   detailed-label'}\n",
      "Missing columns in this chunk: {'tunnel_parents   label   detailed-label'}\n"
     ]
    },
    {
     "name": "stderr",
     "output_type": "stream",
     "text": [
      "/tmp/ipykernel_18148/1266505323.py:8: DtypeWarning: Columns (7) have mixed types. Specify dtype option on import or set low_memory=False.\n",
      "  for chunk in pd.read_csv(\"/home/charlie/Desktop/master_data.csv\", chunksize=chunk_size):\n",
      "/tmp/ipykernel_18148/1266505323.py:8: DtypeWarning: Columns (7) have mixed types. Specify dtype option on import or set low_memory=False.\n",
      "  for chunk in pd.read_csv(\"/home/charlie/Desktop/master_data.csv\", chunksize=chunk_size):\n"
     ]
    },
    {
     "name": "stdout",
     "output_type": "stream",
     "text": [
      "Missing columns in this chunk: {'tunnel_parents   label   detailed-label'}\n",
      "Missing columns in this chunk: {'tunnel_parents   label   detailed-label'}\n",
      "Missing columns in this chunk: {'tunnel_parents   label   detailed-label'}\n"
     ]
    },
    {
     "name": "stderr",
     "output_type": "stream",
     "text": [
      "/tmp/ipykernel_18148/1266505323.py:8: DtypeWarning: Columns (7) have mixed types. Specify dtype option on import or set low_memory=False.\n",
      "  for chunk in pd.read_csv(\"/home/charlie/Desktop/master_data.csv\", chunksize=chunk_size):\n",
      "/tmp/ipykernel_18148/1266505323.py:8: DtypeWarning: Columns (7) have mixed types. Specify dtype option on import or set low_memory=False.\n",
      "  for chunk in pd.read_csv(\"/home/charlie/Desktop/master_data.csv\", chunksize=chunk_size):\n"
     ]
    },
    {
     "name": "stdout",
     "output_type": "stream",
     "text": [
      "Missing columns in this chunk: {'tunnel_parents   label   detailed-label'}\n",
      "Missing columns in this chunk: {'tunnel_parents   label   detailed-label'}\n"
     ]
    },
    {
     "name": "stderr",
     "output_type": "stream",
     "text": [
      "/tmp/ipykernel_18148/1266505323.py:8: DtypeWarning: Columns (7) have mixed types. Specify dtype option on import or set low_memory=False.\n",
      "  for chunk in pd.read_csv(\"/home/charlie/Desktop/master_data.csv\", chunksize=chunk_size):\n"
     ]
    },
    {
     "name": "stdout",
     "output_type": "stream",
     "text": [
      "Missing columns in this chunk: {'tunnel_parents   label   detailed-label'}\n",
      "Missing columns in this chunk: {'tunnel_parents   label   detailed-label'}\n",
      "Missing columns in this chunk: {'tunnel_parents   label   detailed-label'}\n"
     ]
    },
    {
     "name": "stderr",
     "output_type": "stream",
     "text": [
      "/tmp/ipykernel_18148/1266505323.py:8: DtypeWarning: Columns (7) have mixed types. Specify dtype option on import or set low_memory=False.\n",
      "  for chunk in pd.read_csv(\"/home/charlie/Desktop/master_data.csv\", chunksize=chunk_size):\n"
     ]
    },
    {
     "name": "stdout",
     "output_type": "stream",
     "text": [
      "Missing columns in this chunk: {'tunnel_parents   label   detailed-label'}\n",
      "Missing columns in this chunk: {'tunnel_parents   label   detailed-label'}\n"
     ]
    },
    {
     "name": "stderr",
     "output_type": "stream",
     "text": [
      "/tmp/ipykernel_18148/1266505323.py:8: DtypeWarning: Columns (7) have mixed types. Specify dtype option on import or set low_memory=False.\n",
      "  for chunk in pd.read_csv(\"/home/charlie/Desktop/master_data.csv\", chunksize=chunk_size):\n"
     ]
    },
    {
     "name": "stdout",
     "output_type": "stream",
     "text": [
      "Missing columns in this chunk: {'tunnel_parents   label   detailed-label'}\n",
      "Missing columns in this chunk: {'tunnel_parents   label   detailed-label'}\n",
      "Missing columns in this chunk: {'tunnel_parents   label   detailed-label'}\n",
      "Missing columns in this chunk: {'tunnel_parents   label   detailed-label'}\n"
     ]
    },
    {
     "name": "stderr",
     "output_type": "stream",
     "text": [
      "/tmp/ipykernel_18148/1266505323.py:8: DtypeWarning: Columns (7) have mixed types. Specify dtype option on import or set low_memory=False.\n",
      "  for chunk in pd.read_csv(\"/home/charlie/Desktop/master_data.csv\", chunksize=chunk_size):\n"
     ]
    },
    {
     "name": "stdout",
     "output_type": "stream",
     "text": [
      "Missing columns in this chunk: {'tunnel_parents   label   detailed-label'}\n",
      "Missing columns in this chunk: {'tunnel_parents   label   detailed-label'}\n"
     ]
    },
    {
     "name": "stderr",
     "output_type": "stream",
     "text": [
      "/tmp/ipykernel_18148/1266505323.py:8: DtypeWarning: Columns (7) have mixed types. Specify dtype option on import or set low_memory=False.\n",
      "  for chunk in pd.read_csv(\"/home/charlie/Desktop/master_data.csv\", chunksize=chunk_size):\n"
     ]
    },
    {
     "name": "stdout",
     "output_type": "stream",
     "text": [
      "Missing columns in this chunk: {'tunnel_parents   label   detailed-label'}\n",
      "Missing columns in this chunk: {'tunnel_parents   label   detailed-label'}\n",
      "Missing columns in this chunk: {'tunnel_parents   label   detailed-label'}\n",
      "Missing columns in this chunk: {'tunnel_parents   label   detailed-label'}\n",
      "Missing columns in this chunk: {'tunnel_parents   label   detailed-label'}\n",
      "Missing columns in this chunk: {'tunnel_parents   label   detailed-label'}\n",
      "Missing columns in this chunk: {'tunnel_parents   label   detailed-label'}\n",
      "Missing columns in this chunk: {'tunnel_parents   label   detailed-label'}\n",
      "Missing columns in this chunk: {'tunnel_parents   label   detailed-label'}\n",
      "Missing columns in this chunk: {'tunnel_parents   label   detailed-label'}\n"
     ]
    },
    {
     "name": "stderr",
     "output_type": "stream",
     "text": [
      "/tmp/ipykernel_18148/1266505323.py:8: DtypeWarning: Columns (7) have mixed types. Specify dtype option on import or set low_memory=False.\n",
      "  for chunk in pd.read_csv(\"/home/charlie/Desktop/master_data.csv\", chunksize=chunk_size):\n",
      "/tmp/ipykernel_18148/1266505323.py:8: DtypeWarning: Columns (7) have mixed types. Specify dtype option on import or set low_memory=False.\n",
      "  for chunk in pd.read_csv(\"/home/charlie/Desktop/master_data.csv\", chunksize=chunk_size):\n"
     ]
    },
    {
     "name": "stdout",
     "output_type": "stream",
     "text": [
      "Missing columns in this chunk: {'tunnel_parents   label   detailed-label'}\n",
      "Missing columns in this chunk: {'tunnel_parents   label   detailed-label'}\n"
     ]
    },
    {
     "name": "stderr",
     "output_type": "stream",
     "text": [
      "/tmp/ipykernel_18148/1266505323.py:8: DtypeWarning: Columns (7) have mixed types. Specify dtype option on import or set low_memory=False.\n",
      "  for chunk in pd.read_csv(\"/home/charlie/Desktop/master_data.csv\", chunksize=chunk_size):\n",
      "/tmp/ipykernel_18148/1266505323.py:8: DtypeWarning: Columns (7) have mixed types. Specify dtype option on import or set low_memory=False.\n",
      "  for chunk in pd.read_csv(\"/home/charlie/Desktop/master_data.csv\", chunksize=chunk_size):\n"
     ]
    },
    {
     "name": "stdout",
     "output_type": "stream",
     "text": [
      "Missing columns in this chunk: {'tunnel_parents   label   detailed-label'}\n",
      "Missing columns in this chunk: {'tunnel_parents   label   detailed-label'}\n"
     ]
    },
    {
     "name": "stderr",
     "output_type": "stream",
     "text": [
      "/tmp/ipykernel_18148/1266505323.py:8: DtypeWarning: Columns (7) have mixed types. Specify dtype option on import or set low_memory=False.\n",
      "  for chunk in pd.read_csv(\"/home/charlie/Desktop/master_data.csv\", chunksize=chunk_size):\n"
     ]
    },
    {
     "name": "stdout",
     "output_type": "stream",
     "text": [
      "Missing columns in this chunk: {'tunnel_parents   label   detailed-label'}\n",
      "Missing columns in this chunk: {'tunnel_parents   label   detailed-label'}\n",
      "Missing columns in this chunk: {'tunnel_parents   label   detailed-label'}\n"
     ]
    },
    {
     "name": "stderr",
     "output_type": "stream",
     "text": [
      "/tmp/ipykernel_18148/1266505323.py:8: DtypeWarning: Columns (7) have mixed types. Specify dtype option on import or set low_memory=False.\n",
      "  for chunk in pd.read_csv(\"/home/charlie/Desktop/master_data.csv\", chunksize=chunk_size):\n",
      "/tmp/ipykernel_18148/1266505323.py:8: DtypeWarning: Columns (7) have mixed types. Specify dtype option on import or set low_memory=False.\n",
      "  for chunk in pd.read_csv(\"/home/charlie/Desktop/master_data.csv\", chunksize=chunk_size):\n"
     ]
    },
    {
     "name": "stdout",
     "output_type": "stream",
     "text": [
      "Missing columns in this chunk: {'tunnel_parents   label   detailed-label'}\n",
      "Missing columns in this chunk: {'tunnel_parents   label   detailed-label'}\n",
      "Missing columns in this chunk: {'tunnel_parents   label   detailed-label'}\n"
     ]
    },
    {
     "name": "stderr",
     "output_type": "stream",
     "text": [
      "/tmp/ipykernel_18148/1266505323.py:8: DtypeWarning: Columns (7) have mixed types. Specify dtype option on import or set low_memory=False.\n",
      "  for chunk in pd.read_csv(\"/home/charlie/Desktop/master_data.csv\", chunksize=chunk_size):\n"
     ]
    },
    {
     "name": "stdout",
     "output_type": "stream",
     "text": [
      "Missing columns in this chunk: {'tunnel_parents   label   detailed-label'}\n",
      "Missing columns in this chunk: {'tunnel_parents   label   detailed-label'}\n",
      "Missing columns in this chunk: {'tunnel_parents   label   detailed-label'}\n",
      "Missing columns in this chunk: {'tunnel_parents   label   detailed-label'}\n"
     ]
    },
    {
     "name": "stderr",
     "output_type": "stream",
     "text": [
      "/tmp/ipykernel_18148/1266505323.py:8: DtypeWarning: Columns (7) have mixed types. Specify dtype option on import or set low_memory=False.\n",
      "  for chunk in pd.read_csv(\"/home/charlie/Desktop/master_data.csv\", chunksize=chunk_size):\n"
     ]
    },
    {
     "name": "stdout",
     "output_type": "stream",
     "text": [
      "Missing columns in this chunk: {'tunnel_parents   label   detailed-label'}\n",
      "Missing columns in this chunk: {'tunnel_parents   label   detailed-label'}\n"
     ]
    },
    {
     "name": "stderr",
     "output_type": "stream",
     "text": [
      "/tmp/ipykernel_18148/1266505323.py:8: DtypeWarning: Columns (7) have mixed types. Specify dtype option on import or set low_memory=False.\n",
      "  for chunk in pd.read_csv(\"/home/charlie/Desktop/master_data.csv\", chunksize=chunk_size):\n",
      "/tmp/ipykernel_18148/1266505323.py:8: DtypeWarning: Columns (7) have mixed types. Specify dtype option on import or set low_memory=False.\n",
      "  for chunk in pd.read_csv(\"/home/charlie/Desktop/master_data.csv\", chunksize=chunk_size):\n"
     ]
    },
    {
     "name": "stdout",
     "output_type": "stream",
     "text": [
      "Missing columns in this chunk: {'tunnel_parents   label   detailed-label'}\n",
      "Missing columns in this chunk: {'tunnel_parents   label   detailed-label'}\n"
     ]
    },
    {
     "name": "stderr",
     "output_type": "stream",
     "text": [
      "/tmp/ipykernel_18148/1266505323.py:8: DtypeWarning: Columns (7) have mixed types. Specify dtype option on import or set low_memory=False.\n",
      "  for chunk in pd.read_csv(\"/home/charlie/Desktop/master_data.csv\", chunksize=chunk_size):\n",
      "/tmp/ipykernel_18148/1266505323.py:8: DtypeWarning: Columns (7) have mixed types. Specify dtype option on import or set low_memory=False.\n",
      "  for chunk in pd.read_csv(\"/home/charlie/Desktop/master_data.csv\", chunksize=chunk_size):\n"
     ]
    },
    {
     "name": "stdout",
     "output_type": "stream",
     "text": [
      "Missing columns in this chunk: {'tunnel_parents   label   detailed-label'}\n",
      "Missing columns in this chunk: {'tunnel_parents   label   detailed-label'}\n"
     ]
    },
    {
     "name": "stderr",
     "output_type": "stream",
     "text": [
      "/tmp/ipykernel_18148/1266505323.py:8: DtypeWarning: Columns (7) have mixed types. Specify dtype option on import or set low_memory=False.\n",
      "  for chunk in pd.read_csv(\"/home/charlie/Desktop/master_data.csv\", chunksize=chunk_size):\n"
     ]
    },
    {
     "name": "stdout",
     "output_type": "stream",
     "text": [
      "Missing columns in this chunk: {'tunnel_parents   label   detailed-label'}\n",
      "Missing columns in this chunk: {'tunnel_parents   label   detailed-label'}\n",
      "Missing columns in this chunk: {'tunnel_parents   label   detailed-label'}\n",
      "Missing columns in this chunk: {'tunnel_parents   label   detailed-label'}\n",
      "Missing columns in this chunk: {'tunnel_parents   label   detailed-label'}\n"
     ]
    },
    {
     "name": "stderr",
     "output_type": "stream",
     "text": [
      "/tmp/ipykernel_18148/1266505323.py:8: DtypeWarning: Columns (7) have mixed types. Specify dtype option on import or set low_memory=False.\n",
      "  for chunk in pd.read_csv(\"/home/charlie/Desktop/master_data.csv\", chunksize=chunk_size):\n"
     ]
    },
    {
     "name": "stdout",
     "output_type": "stream",
     "text": [
      "Missing columns in this chunk: {'tunnel_parents   label   detailed-label'}\n",
      "Missing columns in this chunk: {'tunnel_parents   label   detailed-label'}\n",
      "Missing columns in this chunk: {'tunnel_parents   label   detailed-label'}\n"
     ]
    },
    {
     "name": "stderr",
     "output_type": "stream",
     "text": [
      "/tmp/ipykernel_18148/1266505323.py:8: DtypeWarning: Columns (7) have mixed types. Specify dtype option on import or set low_memory=False.\n",
      "  for chunk in pd.read_csv(\"/home/charlie/Desktop/master_data.csv\", chunksize=chunk_size):\n"
     ]
    },
    {
     "name": "stdout",
     "output_type": "stream",
     "text": [
      "Missing columns in this chunk: {'tunnel_parents   label   detailed-label'}\n",
      "Missing columns in this chunk: {'tunnel_parents   label   detailed-label'}\n",
      "Missing columns in this chunk: {'tunnel_parents   label   detailed-label'}\n",
      "Missing columns in this chunk: {'tunnel_parents   label   detailed-label'}\n",
      "Missing columns in this chunk: {'tunnel_parents   label   detailed-label'}\n",
      "Missing columns in this chunk: {'tunnel_parents   label   detailed-label'}\n",
      "Missing columns in this chunk: {'tunnel_parents   label   detailed-label'}\n"
     ]
    },
    {
     "name": "stderr",
     "output_type": "stream",
     "text": [
      "/tmp/ipykernel_18148/1266505323.py:8: DtypeWarning: Columns (7) have mixed types. Specify dtype option on import or set low_memory=False.\n",
      "  for chunk in pd.read_csv(\"/home/charlie/Desktop/master_data.csv\", chunksize=chunk_size):\n"
     ]
    },
    {
     "name": "stdout",
     "output_type": "stream",
     "text": [
      "Missing columns in this chunk: {'tunnel_parents   label   detailed-label'}\n",
      "Missing columns in this chunk: {'tunnel_parents   label   detailed-label'}\n",
      "Missing columns in this chunk: {'tunnel_parents   label   detailed-label'}\n"
     ]
    },
    {
     "name": "stderr",
     "output_type": "stream",
     "text": [
      "/tmp/ipykernel_18148/1266505323.py:8: DtypeWarning: Columns (7) have mixed types. Specify dtype option on import or set low_memory=False.\n",
      "  for chunk in pd.read_csv(\"/home/charlie/Desktop/master_data.csv\", chunksize=chunk_size):\n"
     ]
    },
    {
     "name": "stdout",
     "output_type": "stream",
     "text": [
      "Missing columns in this chunk: {'tunnel_parents   label   detailed-label'}\n",
      "Missing columns in this chunk: {'tunnel_parents   label   detailed-label'}\n",
      "Missing columns in this chunk: {'tunnel_parents   label   detailed-label'}\n",
      "Missing columns in this chunk: {'tunnel_parents   label   detailed-label'}\n",
      "Missing columns in this chunk: {'tunnel_parents   label   detailed-label'}\n",
      "Missing columns in this chunk: {'tunnel_parents   label   detailed-label'}\n",
      "Missing columns in this chunk: {'tunnel_parents   label   detailed-label'}\n",
      "Missing columns in this chunk: {'tunnel_parents   label   detailed-label'}\n",
      "Missing columns in this chunk: {'tunnel_parents   label   detailed-label'}\n"
     ]
    },
    {
     "name": "stderr",
     "output_type": "stream",
     "text": [
      "/tmp/ipykernel_18148/1266505323.py:8: DtypeWarning: Columns (7) have mixed types. Specify dtype option on import or set low_memory=False.\n",
      "  for chunk in pd.read_csv(\"/home/charlie/Desktop/master_data.csv\", chunksize=chunk_size):\n"
     ]
    },
    {
     "name": "stdout",
     "output_type": "stream",
     "text": [
      "Missing columns in this chunk: {'tunnel_parents   label   detailed-label'}\n",
      "Missing columns in this chunk: {'tunnel_parents   label   detailed-label'}\n",
      "Missing columns in this chunk: {'tunnel_parents   label   detailed-label'}\n",
      "Missing columns in this chunk: {'tunnel_parents   label   detailed-label'}\n",
      "Missing columns in this chunk: {'tunnel_parents   label   detailed-label'}\n",
      "Missing columns in this chunk: {'tunnel_parents   label   detailed-label'}\n",
      "Missing columns in this chunk: {'tunnel_parents   label   detailed-label'}\n",
      "Missing columns in this chunk: {'tunnel_parents   label   detailed-label'}\n",
      "Missing columns in this chunk: {'tunnel_parents   label   detailed-label'}\n",
      "Missing columns in this chunk: {'tunnel_parents   label   detailed-label'}\n",
      "Missing columns in this chunk: {'tunnel_parents   label   detailed-label'}\n",
      "Missing columns in this chunk: {'tunnel_parents   label   detailed-label'}\n",
      "Missing columns in this chunk: {'tunnel_parents   label   detailed-label'}\n",
      "Missing columns in this chunk: {'tunnel_parents   label   detailed-label'}\n",
      "Missing columns in this chunk: {'tunnel_parents   label   detailed-label'}\n",
      "Missing columns in this chunk: {'tunnel_parents   label   detailed-label'}\n",
      "Missing columns in this chunk: {'tunnel_parents   label   detailed-label'}\n",
      "Missing columns in this chunk: {'tunnel_parents   label   detailed-label'}\n",
      "Missing columns in this chunk: {'tunnel_parents   label   detailed-label'}\n",
      "Missing columns in this chunk: {'tunnel_parents   label   detailed-label'}\n",
      "Missing columns in this chunk: {'tunnel_parents   label   detailed-label'}\n",
      "Missing columns in this chunk: {'tunnel_parents   label   detailed-label'}\n",
      "Missing columns in this chunk: {'tunnel_parents   label   detailed-label'}\n",
      "Missing columns in this chunk: {'tunnel_parents   label   detailed-label'}\n",
      "Missing columns in this chunk: {'tunnel_parents   label   detailed-label'}\n",
      "Missing columns in this chunk: {'tunnel_parents   label   detailed-label'}\n",
      "Missing columns in this chunk: {'tunnel_parents   label   detailed-label'}\n",
      "Missing columns in this chunk: {'tunnel_parents   label   detailed-label'}\n",
      "Missing columns in this chunk: {'tunnel_parents   label   detailed-label'}\n"
     ]
    },
    {
     "name": "stderr",
     "output_type": "stream",
     "text": [
      "/tmp/ipykernel_18148/1266505323.py:8: DtypeWarning: Columns (7) have mixed types. Specify dtype option on import or set low_memory=False.\n",
      "  for chunk in pd.read_csv(\"/home/charlie/Desktop/master_data.csv\", chunksize=chunk_size):\n"
     ]
    },
    {
     "name": "stdout",
     "output_type": "stream",
     "text": [
      "Missing columns in this chunk: {'tunnel_parents   label   detailed-label'}\n",
      "Missing columns in this chunk: {'tunnel_parents   label   detailed-label'}\n"
     ]
    },
    {
     "name": "stderr",
     "output_type": "stream",
     "text": [
      "/tmp/ipykernel_18148/1266505323.py:8: DtypeWarning: Columns (7) have mixed types. Specify dtype option on import or set low_memory=False.\n",
      "  for chunk in pd.read_csv(\"/home/charlie/Desktop/master_data.csv\", chunksize=chunk_size):\n",
      "/tmp/ipykernel_18148/1266505323.py:8: DtypeWarning: Columns (7) have mixed types. Specify dtype option on import or set low_memory=False.\n",
      "  for chunk in pd.read_csv(\"/home/charlie/Desktop/master_data.csv\", chunksize=chunk_size):\n"
     ]
    },
    {
     "name": "stdout",
     "output_type": "stream",
     "text": [
      "Missing columns in this chunk: {'tunnel_parents   label   detailed-label'}\n",
      "Missing columns in this chunk: {'tunnel_parents   label   detailed-label'}\n"
     ]
    },
    {
     "name": "stderr",
     "output_type": "stream",
     "text": [
      "/tmp/ipykernel_18148/1266505323.py:8: DtypeWarning: Columns (7) have mixed types. Specify dtype option on import or set low_memory=False.\n",
      "  for chunk in pd.read_csv(\"/home/charlie/Desktop/master_data.csv\", chunksize=chunk_size):\n",
      "/tmp/ipykernel_18148/1266505323.py:8: DtypeWarning: Columns (7) have mixed types. Specify dtype option on import or set low_memory=False.\n",
      "  for chunk in pd.read_csv(\"/home/charlie/Desktop/master_data.csv\", chunksize=chunk_size):\n"
     ]
    },
    {
     "name": "stdout",
     "output_type": "stream",
     "text": [
      "Missing columns in this chunk: {'tunnel_parents   label   detailed-label'}\n",
      "Missing columns in this chunk: {'tunnel_parents   label   detailed-label'}\n"
     ]
    },
    {
     "name": "stderr",
     "output_type": "stream",
     "text": [
      "/tmp/ipykernel_18148/1266505323.py:8: DtypeWarning: Columns (7) have mixed types. Specify dtype option on import or set low_memory=False.\n",
      "  for chunk in pd.read_csv(\"/home/charlie/Desktop/master_data.csv\", chunksize=chunk_size):\n"
     ]
    },
    {
     "name": "stdout",
     "output_type": "stream",
     "text": [
      "Missing columns in this chunk: {'tunnel_parents   label   detailed-label'}\n",
      "Missing columns in this chunk: {'tunnel_parents   label   detailed-label'}\n",
      "Missing columns in this chunk: {'tunnel_parents   label   detailed-label'}\n",
      "Missing columns in this chunk: {'tunnel_parents   label   detailed-label'}\n",
      "Missing columns in this chunk: {'tunnel_parents   label   detailed-label'}\n",
      "Missing columns in this chunk: {'tunnel_parents   label   detailed-label'}\n",
      "Missing columns in this chunk: {'tunnel_parents   label   detailed-label'}\n",
      "Missing columns in this chunk: {'tunnel_parents   label   detailed-label'}\n",
      "Missing columns in this chunk: {'tunnel_parents   label   detailed-label'}\n",
      "Missing columns in this chunk: {'tunnel_parents   label   detailed-label'}\n",
      "Missing columns in this chunk: {'tunnel_parents   label   detailed-label'}\n",
      "Missing columns in this chunk: {'tunnel_parents   label   detailed-label'}\n",
      "Missing columns in this chunk: {'tunnel_parents   label   detailed-label'}\n",
      "Missing columns in this chunk: {'tunnel_parents   label   detailed-label'}\n",
      "Missing columns in this chunk: {'tunnel_parents   label   detailed-label'}\n",
      "Missing columns in this chunk: {'tunnel_parents   label   detailed-label'}\n",
      "Missing columns in this chunk: {'tunnel_parents   label   detailed-label'}\n",
      "Missing columns in this chunk: {'tunnel_parents   label   detailed-label'}\n",
      "Missing columns in this chunk: {'tunnel_parents   label   detailed-label'}\n",
      "Missing columns in this chunk: {'tunnel_parents   label   detailed-label'}\n",
      "Missing columns in this chunk: {'tunnel_parents   label   detailed-label'}\n",
      "Missing columns in this chunk: {'tunnel_parents   label   detailed-label'}\n",
      "Missing columns in this chunk: {'tunnel_parents   label   detailed-label'}\n",
      "Missing columns in this chunk: {'tunnel_parents   label   detailed-label'}\n",
      "Missing columns in this chunk: {'tunnel_parents   label   detailed-label'}\n",
      "Missing columns in this chunk: {'tunnel_parents   label   detailed-label'}\n",
      "Missing columns in this chunk: {'tunnel_parents   label   detailed-label'}\n",
      "Missing columns in this chunk: {'tunnel_parents   label   detailed-label'}\n",
      "Missing columns in this chunk: {'tunnel_parents   label   detailed-label'}\n",
      "Missing columns in this chunk: {'tunnel_parents   label   detailed-label'}\n",
      "Missing columns in this chunk: {'tunnel_parents   label   detailed-label'}\n",
      "Missing columns in this chunk: {'tunnel_parents   label   detailed-label'}\n",
      "Missing columns in this chunk: {'tunnel_parents   label   detailed-label'}\n",
      "Missing columns in this chunk: {'tunnel_parents   label   detailed-label'}\n",
      "Missing columns in this chunk: {'tunnel_parents   label   detailed-label'}\n",
      "Missing columns in this chunk: {'tunnel_parents   label   detailed-label'}\n",
      "Missing columns in this chunk: {'tunnel_parents   label   detailed-label'}\n",
      "Missing columns in this chunk: {'tunnel_parents   label   detailed-label'}\n",
      "Missing columns in this chunk: {'tunnel_parents   label   detailed-label'}\n",
      "Missing columns in this chunk: {'tunnel_parents   label   detailed-label'}\n",
      "Missing columns in this chunk: {'tunnel_parents   label   detailed-label'}\n",
      "Missing columns in this chunk: {'tunnel_parents   label   detailed-label'}\n",
      "Missing columns in this chunk: {'tunnel_parents   label   detailed-label'}\n",
      "Missing columns in this chunk: {'tunnel_parents   label   detailed-label'}\n",
      "Missing columns in this chunk: {'tunnel_parents   label   detailed-label'}\n",
      "Missing columns in this chunk: {'tunnel_parents   label   detailed-label'}\n",
      "Missing columns in this chunk: {'tunnel_parents   label   detailed-label'}\n",
      "Missing columns in this chunk: {'tunnel_parents   label   detailed-label'}\n",
      "Missing columns in this chunk: {'tunnel_parents   label   detailed-label'}\n",
      "Missing columns in this chunk: {'tunnel_parents   label   detailed-label'}\n",
      "Missing columns in this chunk: {'tunnel_parents   label   detailed-label'}\n",
      "Missing columns in this chunk: {'tunnel_parents   label   detailed-label'}\n",
      "Missing columns in this chunk: {'tunnel_parents   label   detailed-label'}\n",
      "Missing columns in this chunk: {'tunnel_parents   label   detailed-label'}\n",
      "Missing columns in this chunk: {'tunnel_parents   label   detailed-label'}\n",
      "Missing columns in this chunk: {'tunnel_parents   label   detailed-label'}\n",
      "Missing columns in this chunk: {'tunnel_parents   label   detailed-label'}\n",
      "Missing columns in this chunk: {'tunnel_parents   label   detailed-label'}\n",
      "Missing columns in this chunk: {'tunnel_parents   label   detailed-label'}\n",
      "Missing columns in this chunk: {'tunnel_parents   label   detailed-label'}\n",
      "Missing columns in this chunk: {'tunnel_parents   label   detailed-label'}\n",
      "Missing columns in this chunk: {'tunnel_parents   label   detailed-label'}\n",
      "Missing columns in this chunk: {'tunnel_parents   label   detailed-label'}\n",
      "Missing columns in this chunk: {'tunnel_parents   label   detailed-label'}\n",
      "Missing columns in this chunk: {'tunnel_parents   label   detailed-label'}\n",
      "Missing columns in this chunk: {'tunnel_parents   label   detailed-label'}\n",
      "Missing columns in this chunk: {'tunnel_parents   label   detailed-label'}\n",
      "Missing columns in this chunk: {'tunnel_parents   label   detailed-label'}\n",
      "Missing columns in this chunk: {'tunnel_parents   label   detailed-label'}\n",
      "Missing columns in this chunk: {'tunnel_parents   label   detailed-label'}\n",
      "Missing columns in this chunk: {'tunnel_parents   label   detailed-label'}\n",
      "Missing columns in this chunk: {'tunnel_parents   label   detailed-label'}\n",
      "Missing columns in this chunk: {'tunnel_parents   label   detailed-label'}\n",
      "Missing columns in this chunk: {'tunnel_parents   label   detailed-label'}\n",
      "Missing columns in this chunk: {'tunnel_parents   label   detailed-label'}\n",
      "Missing columns in this chunk: {'tunnel_parents   label   detailed-label'}\n",
      "Missing columns in this chunk: {'tunnel_parents   label   detailed-label'}\n",
      "Missing columns in this chunk: {'tunnel_parents   label   detailed-label'}\n",
      "Missing columns in this chunk: {'tunnel_parents   label   detailed-label'}\n",
      "Missing columns in this chunk: {'tunnel_parents   label   detailed-label'}\n",
      "Missing columns in this chunk: {'tunnel_parents   label   detailed-label'}\n",
      "Missing columns in this chunk: {'tunnel_parents   label   detailed-label'}\n",
      "Missing columns in this chunk: {'tunnel_parents   label   detailed-label'}\n"
     ]
    },
    {
     "name": "stderr",
     "output_type": "stream",
     "text": [
      "/tmp/ipykernel_18148/1266505323.py:8: DtypeWarning: Columns (7) have mixed types. Specify dtype option on import or set low_memory=False.\n",
      "  for chunk in pd.read_csv(\"/home/charlie/Desktop/master_data.csv\", chunksize=chunk_size):\n"
     ]
    },
    {
     "name": "stdout",
     "output_type": "stream",
     "text": [
      "Missing columns in this chunk: {'tunnel_parents   label   detailed-label'}\n",
      "Missing columns in this chunk: {'tunnel_parents   label   detailed-label'}\n",
      "Missing columns in this chunk: {'tunnel_parents   label   detailed-label'}\n",
      "Missing columns in this chunk: {'tunnel_parents   label   detailed-label'}\n",
      "Missing columns in this chunk: {'tunnel_parents   label   detailed-label'}\n",
      "Missing columns in this chunk: {'tunnel_parents   label   detailed-label'}\n",
      "Missing columns in this chunk: {'tunnel_parents   label   detailed-label'}\n",
      "Missing columns in this chunk: {'tunnel_parents   label   detailed-label'}\n",
      "Missing columns in this chunk: {'tunnel_parents   label   detailed-label'}\n",
      "Missing columns in this chunk: {'tunnel_parents   label   detailed-label'}\n"
     ]
    },
    {
     "name": "stderr",
     "output_type": "stream",
     "text": [
      "/tmp/ipykernel_18148/1266505323.py:8: DtypeWarning: Columns (7) have mixed types. Specify dtype option on import or set low_memory=False.\n",
      "  for chunk in pd.read_csv(\"/home/charlie/Desktop/master_data.csv\", chunksize=chunk_size):\n"
     ]
    },
    {
     "name": "stdout",
     "output_type": "stream",
     "text": [
      "Missing columns in this chunk: {'tunnel_parents   label   detailed-label'}\n",
      "Missing columns in this chunk: {'tunnel_parents   label   detailed-label'}\n",
      "Missing columns in this chunk: {'tunnel_parents   label   detailed-label'}\n"
     ]
    },
    {
     "name": "stderr",
     "output_type": "stream",
     "text": [
      "/tmp/ipykernel_18148/1266505323.py:8: DtypeWarning: Columns (7) have mixed types. Specify dtype option on import or set low_memory=False.\n",
      "  for chunk in pd.read_csv(\"/home/charlie/Desktop/master_data.csv\", chunksize=chunk_size):\n"
     ]
    },
    {
     "name": "stdout",
     "output_type": "stream",
     "text": [
      "Missing columns in this chunk: {'tunnel_parents   label   detailed-label'}\n",
      "Missing columns in this chunk: {'tunnel_parents   label   detailed-label'}\n"
     ]
    },
    {
     "name": "stderr",
     "output_type": "stream",
     "text": [
      "/tmp/ipykernel_18148/1266505323.py:8: DtypeWarning: Columns (7) have mixed types. Specify dtype option on import or set low_memory=False.\n",
      "  for chunk in pd.read_csv(\"/home/charlie/Desktop/master_data.csv\", chunksize=chunk_size):\n",
      "/tmp/ipykernel_18148/1266505323.py:8: DtypeWarning: Columns (7) have mixed types. Specify dtype option on import or set low_memory=False.\n",
      "  for chunk in pd.read_csv(\"/home/charlie/Desktop/master_data.csv\", chunksize=chunk_size):\n"
     ]
    },
    {
     "name": "stdout",
     "output_type": "stream",
     "text": [
      "Missing columns in this chunk: {'tunnel_parents   label   detailed-label'}\n",
      "Missing columns in this chunk: {'tunnel_parents   label   detailed-label'}\n",
      "Missing columns in this chunk: {'tunnel_parents   label   detailed-label'}\n"
     ]
    },
    {
     "name": "stderr",
     "output_type": "stream",
     "text": [
      "/tmp/ipykernel_18148/1266505323.py:8: DtypeWarning: Columns (7) have mixed types. Specify dtype option on import or set low_memory=False.\n",
      "  for chunk in pd.read_csv(\"/home/charlie/Desktop/master_data.csv\", chunksize=chunk_size):\n"
     ]
    },
    {
     "name": "stdout",
     "output_type": "stream",
     "text": [
      "Missing columns in this chunk: {'tunnel_parents   label   detailed-label'}\n",
      "Missing columns in this chunk: {'tunnel_parents   label   detailed-label'}\n"
     ]
    },
    {
     "name": "stderr",
     "output_type": "stream",
     "text": [
      "/tmp/ipykernel_18148/1266505323.py:8: DtypeWarning: Columns (7) have mixed types. Specify dtype option on import or set low_memory=False.\n",
      "  for chunk in pd.read_csv(\"/home/charlie/Desktop/master_data.csv\", chunksize=chunk_size):\n"
     ]
    },
    {
     "name": "stdout",
     "output_type": "stream",
     "text": [
      "Missing columns in this chunk: {'tunnel_parents   label   detailed-label'}\n",
      "Missing columns in this chunk: {'tunnel_parents   label   detailed-label'}\n",
      "Missing columns in this chunk: {'tunnel_parents   label   detailed-label'}\n",
      "Missing columns in this chunk: {'tunnel_parents   label   detailed-label'}\n",
      "Missing columns in this chunk: {'tunnel_parents   label   detailed-label'}\n",
      "Missing columns in this chunk: {'tunnel_parents   label   detailed-label'}\n",
      "Missing columns in this chunk: {'tunnel_parents   label   detailed-label'}\n",
      "Missing columns in this chunk: {'tunnel_parents   label   detailed-label'}\n",
      "Missing columns in this chunk: {'tunnel_parents   label   detailed-label'}\n",
      "Missing columns in this chunk: {'tunnel_parents   label   detailed-label'}\n",
      "Missing columns in this chunk: {'tunnel_parents   label   detailed-label'}\n"
     ]
    },
    {
     "name": "stderr",
     "output_type": "stream",
     "text": [
      "/tmp/ipykernel_18148/1266505323.py:8: DtypeWarning: Columns (7) have mixed types. Specify dtype option on import or set low_memory=False.\n",
      "  for chunk in pd.read_csv(\"/home/charlie/Desktop/master_data.csv\", chunksize=chunk_size):\n"
     ]
    },
    {
     "name": "stdout",
     "output_type": "stream",
     "text": [
      "Missing columns in this chunk: {'tunnel_parents   label   detailed-label'}\n",
      "Missing columns in this chunk: {'tunnel_parents   label   detailed-label'}\n",
      "Missing columns in this chunk: {'tunnel_parents   label   detailed-label'}\n"
     ]
    },
    {
     "name": "stderr",
     "output_type": "stream",
     "text": [
      "/tmp/ipykernel_18148/1266505323.py:8: DtypeWarning: Columns (7) have mixed types. Specify dtype option on import or set low_memory=False.\n",
      "  for chunk in pd.read_csv(\"/home/charlie/Desktop/master_data.csv\", chunksize=chunk_size):\n"
     ]
    },
    {
     "name": "stdout",
     "output_type": "stream",
     "text": [
      "Missing columns in this chunk: {'tunnel_parents   label   detailed-label'}\n",
      "Missing columns in this chunk: {'tunnel_parents   label   detailed-label'}\n",
      "Missing columns in this chunk: {'tunnel_parents   label   detailed-label'}\n",
      "Missing columns in this chunk: {'tunnel_parents   label   detailed-label'}\n",
      "Missing columns in this chunk: {'tunnel_parents   label   detailed-label'}\n",
      "Missing columns in this chunk: {'tunnel_parents   label   detailed-label'}\n",
      "Missing columns in this chunk: {'tunnel_parents   label   detailed-label'}\n",
      "Missing columns in this chunk: {'tunnel_parents   label   detailed-label'}\n",
      "Missing columns in this chunk: {'tunnel_parents   label   detailed-label'}\n",
      "Missing columns in this chunk: {'tunnel_parents   label   detailed-label'}\n",
      "Missing columns in this chunk: {'tunnel_parents   label   detailed-label'}\n",
      "Missing columns in this chunk: {'tunnel_parents   label   detailed-label'}\n",
      "Missing columns in this chunk: {'tunnel_parents   label   detailed-label'}\n",
      "Missing columns in this chunk: {'tunnel_parents   label   detailed-label'}\n",
      "Missing columns in this chunk: {'tunnel_parents   label   detailed-label'}\n",
      "Missing columns in this chunk: {'tunnel_parents   label   detailed-label'}\n",
      "Missing columns in this chunk: {'tunnel_parents   label   detailed-label'}\n",
      "Missing columns in this chunk: {'tunnel_parents   label   detailed-label'}\n",
      "Missing columns in this chunk: {'tunnel_parents   label   detailed-label'}\n",
      "Missing columns in this chunk: {'tunnel_parents   label   detailed-label'}\n",
      "Missing columns in this chunk: {'tunnel_parents   label   detailed-label'}\n",
      "Missing columns in this chunk: {'tunnel_parents   label   detailed-label'}\n",
      "Missing columns in this chunk: {'tunnel_parents   label   detailed-label'}\n"
     ]
    },
    {
     "name": "stderr",
     "output_type": "stream",
     "text": [
      "/tmp/ipykernel_18148/1266505323.py:8: DtypeWarning: Columns (7) have mixed types. Specify dtype option on import or set low_memory=False.\n",
      "  for chunk in pd.read_csv(\"/home/charlie/Desktop/master_data.csv\", chunksize=chunk_size):\n"
     ]
    },
    {
     "name": "stdout",
     "output_type": "stream",
     "text": [
      "Missing columns in this chunk: {'tunnel_parents   label   detailed-label'}\n",
      "Missing columns in this chunk: {'tunnel_parents   label   detailed-label'}\n"
     ]
    },
    {
     "name": "stderr",
     "output_type": "stream",
     "text": [
      "/tmp/ipykernel_18148/1266505323.py:8: DtypeWarning: Columns (7) have mixed types. Specify dtype option on import or set low_memory=False.\n",
      "  for chunk in pd.read_csv(\"/home/charlie/Desktop/master_data.csv\", chunksize=chunk_size):\n"
     ]
    },
    {
     "name": "stdout",
     "output_type": "stream",
     "text": [
      "Missing columns in this chunk: {'tunnel_parents   label   detailed-label'}\n",
      "Missing columns in this chunk: {'tunnel_parents   label   detailed-label'}\n",
      "Missing columns in this chunk: {'tunnel_parents   label   detailed-label'}\n",
      "Missing columns in this chunk: {'tunnel_parents   label   detailed-label'}\n",
      "Missing columns in this chunk: {'tunnel_parents   label   detailed-label'}\n"
     ]
    },
    {
     "name": "stderr",
     "output_type": "stream",
     "text": [
      "/tmp/ipykernel_18148/1266505323.py:8: DtypeWarning: Columns (7) have mixed types. Specify dtype option on import or set low_memory=False.\n",
      "  for chunk in pd.read_csv(\"/home/charlie/Desktop/master_data.csv\", chunksize=chunk_size):\n"
     ]
    },
    {
     "name": "stdout",
     "output_type": "stream",
     "text": [
      "Missing columns in this chunk: {'tunnel_parents   label   detailed-label'}\n",
      "Missing columns in this chunk: {'tunnel_parents   label   detailed-label'}\n",
      "Missing columns in this chunk: {'tunnel_parents   label   detailed-label'}\n",
      "Missing columns in this chunk: {'tunnel_parents   label   detailed-label'}\n",
      "Missing columns in this chunk: {'tunnel_parents   label   detailed-label'}\n",
      "Missing columns in this chunk: {'tunnel_parents   label   detailed-label'}\n",
      "Missing columns in this chunk: {'tunnel_parents   label   detailed-label'}\n",
      "Missing columns in this chunk: {'tunnel_parents   label   detailed-label'}\n"
     ]
    },
    {
     "name": "stderr",
     "output_type": "stream",
     "text": [
      "/tmp/ipykernel_18148/1266505323.py:8: DtypeWarning: Columns (7) have mixed types. Specify dtype option on import or set low_memory=False.\n",
      "  for chunk in pd.read_csv(\"/home/charlie/Desktop/master_data.csv\", chunksize=chunk_size):\n"
     ]
    },
    {
     "name": "stdout",
     "output_type": "stream",
     "text": [
      "Missing columns in this chunk: {'tunnel_parents   label   detailed-label'}\n",
      "Missing columns in this chunk: {'tunnel_parents   label   detailed-label'}\n",
      "Missing columns in this chunk: {'tunnel_parents   label   detailed-label'}\n",
      "Missing columns in this chunk: {'tunnel_parents   label   detailed-label'}\n",
      "Missing columns in this chunk: {'tunnel_parents   label   detailed-label'}\n"
     ]
    },
    {
     "name": "stderr",
     "output_type": "stream",
     "text": [
      "/tmp/ipykernel_18148/1266505323.py:8: DtypeWarning: Columns (7) have mixed types. Specify dtype option on import or set low_memory=False.\n",
      "  for chunk in pd.read_csv(\"/home/charlie/Desktop/master_data.csv\", chunksize=chunk_size):\n"
     ]
    },
    {
     "name": "stdout",
     "output_type": "stream",
     "text": [
      "Missing columns in this chunk: {'tunnel_parents   label   detailed-label'}\n",
      "Missing columns in this chunk: {'tunnel_parents   label   detailed-label'}\n"
     ]
    },
    {
     "name": "stderr",
     "output_type": "stream",
     "text": [
      "/tmp/ipykernel_18148/1266505323.py:8: DtypeWarning: Columns (7) have mixed types. Specify dtype option on import or set low_memory=False.\n",
      "  for chunk in pd.read_csv(\"/home/charlie/Desktop/master_data.csv\", chunksize=chunk_size):\n"
     ]
    },
    {
     "name": "stdout",
     "output_type": "stream",
     "text": [
      "Missing columns in this chunk: {'tunnel_parents   label   detailed-label'}\n",
      "Missing columns in this chunk: {'tunnel_parents   label   detailed-label'}\n",
      "Missing columns in this chunk: {'tunnel_parents   label   detailed-label'}\n",
      "Missing columns in this chunk: {'tunnel_parents   label   detailed-label'}\n",
      "Missing columns in this chunk: {'tunnel_parents   label   detailed-label'}\n",
      "Missing columns in this chunk: {'tunnel_parents   label   detailed-label'}\n",
      "Missing columns in this chunk: {'tunnel_parents   label   detailed-label'}\n",
      "Missing columns in this chunk: {'tunnel_parents   label   detailed-label'}\n",
      "Missing columns in this chunk: {'tunnel_parents   label   detailed-label'}\n",
      "Missing columns in this chunk: {'tunnel_parents   label   detailed-label'}\n",
      "Missing columns in this chunk: {'tunnel_parents   label   detailed-label'}\n",
      "Missing columns in this chunk: {'tunnel_parents   label   detailed-label'}\n",
      "Missing columns in this chunk: {'tunnel_parents   label   detailed-label'}\n",
      "Missing columns in this chunk: {'tunnel_parents   label   detailed-label'}\n",
      "Missing columns in this chunk: {'tunnel_parents   label   detailed-label'}\n",
      "Missing columns in this chunk: {'tunnel_parents   label   detailed-label'}\n",
      "Missing columns in this chunk: {'tunnel_parents   label   detailed-label'}\n",
      "Missing columns in this chunk: {'tunnel_parents   label   detailed-label'}\n",
      "Missing columns in this chunk: {'tunnel_parents   label   detailed-label'}\n",
      "Missing columns in this chunk: {'tunnel_parents   label   detailed-label'}\n",
      "Missing columns in this chunk: {'tunnel_parents   label   detailed-label'}\n",
      "Missing columns in this chunk: {'tunnel_parents   label   detailed-label'}\n",
      "Missing columns in this chunk: {'tunnel_parents   label   detailed-label'}\n",
      "Missing columns in this chunk: {'tunnel_parents   label   detailed-label'}\n",
      "Missing columns in this chunk: {'tunnel_parents   label   detailed-label'}\n",
      "Missing columns in this chunk: {'tunnel_parents   label   detailed-label'}\n",
      "Missing columns in this chunk: {'tunnel_parents   label   detailed-label'}\n",
      "Missing columns in this chunk: {'tunnel_parents   label   detailed-label'}\n",
      "Missing columns in this chunk: {'tunnel_parents   label   detailed-label'}\n",
      "Missing columns in this chunk: {'tunnel_parents   label   detailed-label'}\n",
      "Missing columns in this chunk: {'tunnel_parents   label   detailed-label'}\n",
      "Missing columns in this chunk: {'tunnel_parents   label   detailed-label'}\n",
      "Missing columns in this chunk: {'tunnel_parents   label   detailed-label'}\n",
      "Missing columns in this chunk: {'tunnel_parents   label   detailed-label'}\n",
      "Missing columns in this chunk: {'tunnel_parents   label   detailed-label'}\n",
      "Missing columns in this chunk: {'tunnel_parents   label   detailed-label'}\n",
      "Missing columns in this chunk: {'tunnel_parents   label   detailed-label'}\n",
      "Missing columns in this chunk: {'tunnel_parents   label   detailed-label'}\n",
      "Missing columns in this chunk: {'tunnel_parents   label   detailed-label'}\n",
      "Missing columns in this chunk: {'tunnel_parents   label   detailed-label'}\n",
      "Missing columns in this chunk: {'tunnel_parents   label   detailed-label'}\n",
      "Missing columns in this chunk: {'tunnel_parents   label   detailed-label'}\n",
      "Missing columns in this chunk: {'tunnel_parents   label   detailed-label'}\n",
      "Missing columns in this chunk: {'tunnel_parents   label   detailed-label'}\n",
      "Missing columns in this chunk: {'tunnel_parents   label   detailed-label'}\n",
      "Missing columns in this chunk: {'tunnel_parents   label   detailed-label'}\n",
      "Missing columns in this chunk: {'tunnel_parents   label   detailed-label'}\n",
      "Missing columns in this chunk: {'tunnel_parents   label   detailed-label'}\n",
      "Missing columns in this chunk: {'tunnel_parents   label   detailed-label'}\n",
      "Missing columns in this chunk: {'tunnel_parents   label   detailed-label'}\n",
      "Missing columns in this chunk: {'tunnel_parents   label   detailed-label'}\n",
      "Missing columns in this chunk: {'tunnel_parents   label   detailed-label'}\n",
      "Missing columns in this chunk: {'tunnel_parents   label   detailed-label'}\n",
      "Missing columns in this chunk: {'tunnel_parents   label   detailed-label'}\n",
      "Missing columns in this chunk: {'tunnel_parents   label   detailed-label'}\n",
      "Missing columns in this chunk: {'tunnel_parents   label   detailed-label'}\n",
      "Missing columns in this chunk: {'tunnel_parents   label   detailed-label'}\n",
      "Missing columns in this chunk: {'tunnel_parents   label   detailed-label'}\n",
      "Missing columns in this chunk: {'tunnel_parents   label   detailed-label'}\n",
      "Missing columns in this chunk: {'tunnel_parents   label   detailed-label'}\n",
      "Missing columns in this chunk: {'tunnel_parents   label   detailed-label'}\n",
      "Missing columns in this chunk: {'tunnel_parents   label   detailed-label'}\n",
      "Missing columns in this chunk: {'tunnel_parents   label   detailed-label'}\n",
      "Missing columns in this chunk: {'tunnel_parents   label   detailed-label'}\n",
      "Missing columns in this chunk: {'tunnel_parents   label   detailed-label'}\n",
      "Missing columns in this chunk: {'tunnel_parents   label   detailed-label'}\n",
      "Missing columns in this chunk: {'tunnel_parents   label   detailed-label'}\n",
      "Missing columns in this chunk: {'tunnel_parents   label   detailed-label'}\n",
      "Missing columns in this chunk: {'tunnel_parents   label   detailed-label'}\n",
      "Missing columns in this chunk: {'tunnel_parents   label   detailed-label'}\n",
      "Missing columns in this chunk: {'tunnel_parents   label   detailed-label'}\n",
      "Missing columns in this chunk: {'tunnel_parents   label   detailed-label'}\n",
      "Missing columns in this chunk: {'tunnel_parents   label   detailed-label'}\n",
      "Missing columns in this chunk: {'tunnel_parents   label   detailed-label'}\n",
      "Missing columns in this chunk: {'tunnel_parents   label   detailed-label'}\n",
      "Missing columns in this chunk: {'tunnel_parents   label   detailed-label'}\n",
      "Missing columns in this chunk: {'tunnel_parents   label   detailed-label'}\n",
      "Missing columns in this chunk: {'tunnel_parents   label   detailed-label'}\n",
      "Missing columns in this chunk: {'tunnel_parents   label   detailed-label'}\n",
      "Missing columns in this chunk: {'tunnel_parents   label   detailed-label'}\n",
      "Missing columns in this chunk: {'tunnel_parents   label   detailed-label'}\n",
      "Missing columns in this chunk: {'tunnel_parents   label   detailed-label'}\n",
      "Missing columns in this chunk: {'tunnel_parents   label   detailed-label'}\n",
      "Missing columns in this chunk: {'tunnel_parents   label   detailed-label'}\n",
      "Missing columns in this chunk: {'tunnel_parents   label   detailed-label'}\n",
      "Missing columns in this chunk: {'tunnel_parents   label   detailed-label'}\n",
      "Missing columns in this chunk: {'tunnel_parents   label   detailed-label'}\n",
      "Missing columns in this chunk: {'tunnel_parents   label   detailed-label'}\n",
      "Missing columns in this chunk: {'tunnel_parents   label   detailed-label'}\n",
      "Missing columns in this chunk: {'tunnel_parents   label   detailed-label'}\n",
      "Missing columns in this chunk: {'tunnel_parents   label   detailed-label'}\n",
      "Missing columns in this chunk: {'tunnel_parents   label   detailed-label'}\n",
      "Missing columns in this chunk: {'tunnel_parents   label   detailed-label'}\n",
      "Missing columns in this chunk: {'tunnel_parents   label   detailed-label'}\n",
      "Missing columns in this chunk: {'tunnel_parents   label   detailed-label'}\n",
      "Missing columns in this chunk: {'tunnel_parents   label   detailed-label'}\n",
      "Missing columns in this chunk: {'tunnel_parents   label   detailed-label'}\n",
      "Missing columns in this chunk: {'tunnel_parents   label   detailed-label'}\n",
      "Missing columns in this chunk: {'tunnel_parents   label   detailed-label'}\n"
     ]
    },
    {
     "name": "stderr",
     "output_type": "stream",
     "text": [
      "/tmp/ipykernel_18148/1266505323.py:8: DtypeWarning: Columns (7) have mixed types. Specify dtype option on import or set low_memory=False.\n",
      "  for chunk in pd.read_csv(\"/home/charlie/Desktop/master_data.csv\", chunksize=chunk_size):\n"
     ]
    },
    {
     "name": "stdout",
     "output_type": "stream",
     "text": [
      "Missing columns in this chunk: {'tunnel_parents   label   detailed-label'}\n",
      "Missing columns in this chunk: {'tunnel_parents   label   detailed-label'}\n",
      "Missing columns in this chunk: {'tunnel_parents   label   detailed-label'}\n",
      "Missing columns in this chunk: {'tunnel_parents   label   detailed-label'}\n",
      "Missing columns in this chunk: {'tunnel_parents   label   detailed-label'}\n",
      "Missing columns in this chunk: {'tunnel_parents   label   detailed-label'}\n",
      "Missing columns in this chunk: {'tunnel_parents   label   detailed-label'}\n",
      "Missing columns in this chunk: {'tunnel_parents   label   detailed-label'}\n",
      "Missing columns in this chunk: {'tunnel_parents   label   detailed-label'}\n",
      "Missing columns in this chunk: {'tunnel_parents   label   detailed-label'}\n",
      "Missing columns in this chunk: {'tunnel_parents   label   detailed-label'}\n",
      "Missing columns in this chunk: {'tunnel_parents   label   detailed-label'}\n",
      "Missing columns in this chunk: {'tunnel_parents   label   detailed-label'}\n",
      "Missing columns in this chunk: {'tunnel_parents   label   detailed-label'}\n",
      "Missing columns in this chunk: {'tunnel_parents   label   detailed-label'}\n",
      "Missing columns in this chunk: {'tunnel_parents   label   detailed-label'}\n",
      "Missing columns in this chunk: {'tunnel_parents   label   detailed-label'}\n",
      "Missing columns in this chunk: {'tunnel_parents   label   detailed-label'}\n",
      "Missing columns in this chunk: {'tunnel_parents   label   detailed-label'}\n",
      "Missing columns in this chunk: {'tunnel_parents   label   detailed-label'}\n",
      "Missing columns in this chunk: {'tunnel_parents   label   detailed-label'}\n",
      "Missing columns in this chunk: {'tunnel_parents   label   detailed-label'}\n",
      "Missing columns in this chunk: {'tunnel_parents   label   detailed-label'}\n",
      "Missing columns in this chunk: {'tunnel_parents   label   detailed-label'}\n",
      "Missing columns in this chunk: {'tunnel_parents   label   detailed-label'}\n",
      "Missing columns in this chunk: {'tunnel_parents   label   detailed-label'}\n",
      "Missing columns in this chunk: {'tunnel_parents   label   detailed-label'}\n",
      "Missing columns in this chunk: {'tunnel_parents   label   detailed-label'}\n",
      "Missing columns in this chunk: {'tunnel_parents   label   detailed-label'}\n",
      "Missing columns in this chunk: {'tunnel_parents   label   detailed-label'}\n",
      "Missing columns in this chunk: {'tunnel_parents   label   detailed-label'}\n",
      "Missing columns in this chunk: {'tunnel_parents   label   detailed-label'}\n",
      "Missing columns in this chunk: {'tunnel_parents   label   detailed-label'}\n",
      "Missing columns in this chunk: {'tunnel_parents   label   detailed-label'}\n",
      "Missing columns in this chunk: {'tunnel_parents   label   detailed-label'}\n"
     ]
    },
    {
     "name": "stderr",
     "output_type": "stream",
     "text": [
      "/tmp/ipykernel_18148/1266505323.py:8: DtypeWarning: Columns (7) have mixed types. Specify dtype option on import or set low_memory=False.\n",
      "  for chunk in pd.read_csv(\"/home/charlie/Desktop/master_data.csv\", chunksize=chunk_size):\n"
     ]
    },
    {
     "name": "stdout",
     "output_type": "stream",
     "text": [
      "Missing columns in this chunk: {'tunnel_parents   label   detailed-label'}\n",
      "Missing columns in this chunk: {'tunnel_parents   label   detailed-label'}\n",
      "Missing columns in this chunk: {'tunnel_parents   label   detailed-label'}\n",
      "Missing columns in this chunk: {'tunnel_parents   label   detailed-label'}\n",
      "Missing columns in this chunk: {'tunnel_parents   label   detailed-label'}\n",
      "Missing columns in this chunk: {'tunnel_parents   label   detailed-label'}\n",
      "Missing columns in this chunk: {'tunnel_parents   label   detailed-label'}\n",
      "Missing columns in this chunk: {'tunnel_parents   label   detailed-label'}\n",
      "Missing columns in this chunk: {'tunnel_parents   label   detailed-label'}\n",
      "Missing columns in this chunk: {'tunnel_parents   label   detailed-label'}\n",
      "Missing columns in this chunk: {'tunnel_parents   label   detailed-label'}\n",
      "Missing columns in this chunk: {'tunnel_parents   label   detailed-label'}\n",
      "Missing columns in this chunk: {'tunnel_parents   label   detailed-label'}\n",
      "Missing columns in this chunk: {'tunnel_parents   label   detailed-label'}\n",
      "Missing columns in this chunk: {'tunnel_parents   label   detailed-label'}\n",
      "Missing columns in this chunk: {'tunnel_parents   label   detailed-label'}\n",
      "Missing columns in this chunk: {'tunnel_parents   label   detailed-label'}\n",
      "Missing columns in this chunk: {'tunnel_parents   label   detailed-label'}\n",
      "Missing columns in this chunk: {'tunnel_parents   label   detailed-label'}\n",
      "Missing columns in this chunk: {'tunnel_parents   label   detailed-label'}\n",
      "Missing columns in this chunk: {'tunnel_parents   label   detailed-label'}\n",
      "Missing columns in this chunk: {'tunnel_parents   label   detailed-label'}\n",
      "Missing columns in this chunk: {'tunnel_parents   label   detailed-label'}\n",
      "Missing columns in this chunk: {'tunnel_parents   label   detailed-label'}\n",
      "Missing columns in this chunk: {'tunnel_parents   label   detailed-label'}\n",
      "Missing columns in this chunk: {'tunnel_parents   label   detailed-label'}\n",
      "Missing columns in this chunk: {'tunnel_parents   label   detailed-label'}\n",
      "Missing columns in this chunk: {'tunnel_parents   label   detailed-label'}\n",
      "Missing columns in this chunk: {'tunnel_parents   label   detailed-label'}\n",
      "Missing columns in this chunk: {'tunnel_parents   label   detailed-label'}\n",
      "Missing columns in this chunk: {'tunnel_parents   label   detailed-label'}\n",
      "Missing columns in this chunk: {'tunnel_parents   label   detailed-label'}\n",
      "Missing columns in this chunk: {'tunnel_parents   label   detailed-label'}\n",
      "Missing columns in this chunk: {'tunnel_parents   label   detailed-label'}\n",
      "Missing columns in this chunk: {'tunnel_parents   label   detailed-label'}\n",
      "Missing columns in this chunk: {'tunnel_parents   label   detailed-label'}\n",
      "Missing columns in this chunk: {'tunnel_parents   label   detailed-label'}\n",
      "Missing columns in this chunk: {'tunnel_parents   label   detailed-label'}\n",
      "Missing columns in this chunk: {'tunnel_parents   label   detailed-label'}\n",
      "Missing columns in this chunk: {'tunnel_parents   label   detailed-label'}\n",
      "Missing columns in this chunk: {'tunnel_parents   label   detailed-label'}\n",
      "Missing columns in this chunk: {'tunnel_parents   label   detailed-label'}\n",
      "Missing columns in this chunk: {'tunnel_parents   label   detailed-label'}\n",
      "Missing columns in this chunk: {'tunnel_parents   label   detailed-label'}\n",
      "Missing columns in this chunk: {'tunnel_parents   label   detailed-label'}\n",
      "Missing columns in this chunk: {'tunnel_parents   label   detailed-label'}\n",
      "Missing columns in this chunk: {'tunnel_parents   label   detailed-label'}\n",
      "Missing columns in this chunk: {'tunnel_parents   label   detailed-label'}\n",
      "Missing columns in this chunk: {'tunnel_parents   label   detailed-label'}\n"
     ]
    },
    {
     "name": "stderr",
     "output_type": "stream",
     "text": [
      "/tmp/ipykernel_18148/1266505323.py:8: DtypeWarning: Columns (7) have mixed types. Specify dtype option on import or set low_memory=False.\n",
      "  for chunk in pd.read_csv(\"/home/charlie/Desktop/master_data.csv\", chunksize=chunk_size):\n",
      "/tmp/ipykernel_18148/1266505323.py:8: DtypeWarning: Columns (7) have mixed types. Specify dtype option on import or set low_memory=False.\n",
      "  for chunk in pd.read_csv(\"/home/charlie/Desktop/master_data.csv\", chunksize=chunk_size):\n"
     ]
    },
    {
     "name": "stdout",
     "output_type": "stream",
     "text": [
      "Missing columns in this chunk: {'tunnel_parents   label   detailed-label'}\n",
      "Missing columns in this chunk: {'tunnel_parents   label   detailed-label'}\n"
     ]
    },
    {
     "name": "stderr",
     "output_type": "stream",
     "text": [
      "/tmp/ipykernel_18148/1266505323.py:8: DtypeWarning: Columns (7) have mixed types. Specify dtype option on import or set low_memory=False.\n",
      "  for chunk in pd.read_csv(\"/home/charlie/Desktop/master_data.csv\", chunksize=chunk_size):\n",
      "/tmp/ipykernel_18148/1266505323.py:8: DtypeWarning: Columns (7) have mixed types. Specify dtype option on import or set low_memory=False.\n",
      "  for chunk in pd.read_csv(\"/home/charlie/Desktop/master_data.csv\", chunksize=chunk_size):\n"
     ]
    },
    {
     "name": "stdout",
     "output_type": "stream",
     "text": [
      "Missing columns in this chunk: {'tunnel_parents   label   detailed-label'}\n",
      "Missing columns in this chunk: {'tunnel_parents   label   detailed-label'}\n"
     ]
    },
    {
     "name": "stderr",
     "output_type": "stream",
     "text": [
      "/tmp/ipykernel_18148/1266505323.py:8: DtypeWarning: Columns (7) have mixed types. Specify dtype option on import or set low_memory=False.\n",
      "  for chunk in pd.read_csv(\"/home/charlie/Desktop/master_data.csv\", chunksize=chunk_size):\n"
     ]
    },
    {
     "name": "stdout",
     "output_type": "stream",
     "text": [
      "Missing columns in this chunk: {'tunnel_parents   label   detailed-label'}\n",
      "Missing columns in this chunk: {'tunnel_parents   label   detailed-label'}\n"
     ]
    },
    {
     "name": "stderr",
     "output_type": "stream",
     "text": [
      "/tmp/ipykernel_18148/1266505323.py:8: DtypeWarning: Columns (7) have mixed types. Specify dtype option on import or set low_memory=False.\n",
      "  for chunk in pd.read_csv(\"/home/charlie/Desktop/master_data.csv\", chunksize=chunk_size):\n"
     ]
    },
    {
     "name": "stdout",
     "output_type": "stream",
     "text": [
      "Missing columns in this chunk: {'tunnel_parents   label   detailed-label'}\n",
      "Missing columns in this chunk: {'tunnel_parents   label   detailed-label'}\n",
      "Missing columns in this chunk: {'tunnel_parents   label   detailed-label'}\n",
      "Missing columns in this chunk: {'tunnel_parents   label   detailed-label'}\n",
      "Missing columns in this chunk: {'tunnel_parents   label   detailed-label'}\n"
     ]
    },
    {
     "name": "stderr",
     "output_type": "stream",
     "text": [
      "/tmp/ipykernel_18148/1266505323.py:8: DtypeWarning: Columns (7) have mixed types. Specify dtype option on import or set low_memory=False.\n",
      "  for chunk in pd.read_csv(\"/home/charlie/Desktop/master_data.csv\", chunksize=chunk_size):\n"
     ]
    },
    {
     "name": "stdout",
     "output_type": "stream",
     "text": [
      "Missing columns in this chunk: {'tunnel_parents   label   detailed-label'}\n",
      "Missing columns in this chunk: {'tunnel_parents   label   detailed-label'}\n",
      "Missing columns in this chunk: {'tunnel_parents   label   detailed-label'}\n"
     ]
    },
    {
     "name": "stderr",
     "output_type": "stream",
     "text": [
      "/tmp/ipykernel_18148/1266505323.py:8: DtypeWarning: Columns (7) have mixed types. Specify dtype option on import or set low_memory=False.\n",
      "  for chunk in pd.read_csv(\"/home/charlie/Desktop/master_data.csv\", chunksize=chunk_size):\n"
     ]
    },
    {
     "name": "stdout",
     "output_type": "stream",
     "text": [
      "Missing columns in this chunk: {'tunnel_parents   label   detailed-label'}\n",
      "Missing columns in this chunk: {'tunnel_parents   label   detailed-label'}\n"
     ]
    },
    {
     "name": "stderr",
     "output_type": "stream",
     "text": [
      "/tmp/ipykernel_18148/1266505323.py:8: DtypeWarning: Columns (7) have mixed types. Specify dtype option on import or set low_memory=False.\n",
      "  for chunk in pd.read_csv(\"/home/charlie/Desktop/master_data.csv\", chunksize=chunk_size):\n",
      "/tmp/ipykernel_18148/1266505323.py:8: DtypeWarning: Columns (7) have mixed types. Specify dtype option on import or set low_memory=False.\n",
      "  for chunk in pd.read_csv(\"/home/charlie/Desktop/master_data.csv\", chunksize=chunk_size):\n"
     ]
    },
    {
     "name": "stdout",
     "output_type": "stream",
     "text": [
      "Missing columns in this chunk: {'tunnel_parents   label   detailed-label'}\n",
      "Missing columns in this chunk: {'tunnel_parents   label   detailed-label'}\n"
     ]
    },
    {
     "name": "stderr",
     "output_type": "stream",
     "text": [
      "/tmp/ipykernel_18148/1266505323.py:8: DtypeWarning: Columns (7) have mixed types. Specify dtype option on import or set low_memory=False.\n",
      "  for chunk in pd.read_csv(\"/home/charlie/Desktop/master_data.csv\", chunksize=chunk_size):\n"
     ]
    },
    {
     "name": "stdout",
     "output_type": "stream",
     "text": [
      "Missing columns in this chunk: {'tunnel_parents   label   detailed-label'}\n",
      "Missing columns in this chunk: {'tunnel_parents   label   detailed-label'}\n",
      "Missing columns in this chunk: {'tunnel_parents   label   detailed-label'}\n"
     ]
    },
    {
     "name": "stderr",
     "output_type": "stream",
     "text": [
      "/tmp/ipykernel_18148/1266505323.py:8: DtypeWarning: Columns (7) have mixed types. Specify dtype option on import or set low_memory=False.\n",
      "  for chunk in pd.read_csv(\"/home/charlie/Desktop/master_data.csv\", chunksize=chunk_size):\n"
     ]
    },
    {
     "name": "stdout",
     "output_type": "stream",
     "text": [
      "Missing columns in this chunk: {'tunnel_parents   label   detailed-label'}\n",
      "Missing columns in this chunk: {'tunnel_parents   label   detailed-label'}\n"
     ]
    },
    {
     "name": "stderr",
     "output_type": "stream",
     "text": [
      "/tmp/ipykernel_18148/1266505323.py:8: DtypeWarning: Columns (7) have mixed types. Specify dtype option on import or set low_memory=False.\n",
      "  for chunk in pd.read_csv(\"/home/charlie/Desktop/master_data.csv\", chunksize=chunk_size):\n"
     ]
    },
    {
     "name": "stdout",
     "output_type": "stream",
     "text": [
      "Missing columns in this chunk: {'tunnel_parents   label   detailed-label'}\n",
      "Missing columns in this chunk: {'tunnel_parents   label   detailed-label'}\n",
      "Missing columns in this chunk: {'tunnel_parents   label   detailed-label'}\n"
     ]
    },
    {
     "name": "stderr",
     "output_type": "stream",
     "text": [
      "/tmp/ipykernel_18148/1266505323.py:8: DtypeWarning: Columns (7) have mixed types. Specify dtype option on import or set low_memory=False.\n",
      "  for chunk in pd.read_csv(\"/home/charlie/Desktop/master_data.csv\", chunksize=chunk_size):\n"
     ]
    },
    {
     "name": "stdout",
     "output_type": "stream",
     "text": [
      "Missing columns in this chunk: {'tunnel_parents   label   detailed-label'}\n",
      "Missing columns in this chunk: {'tunnel_parents   label   detailed-label'}\n",
      "Missing columns in this chunk: {'tunnel_parents   label   detailed-label'}\n",
      "Missing columns in this chunk: {'tunnel_parents   label   detailed-label'}\n",
      "Missing columns in this chunk: {'tunnel_parents   label   detailed-label'}\n",
      "Missing columns in this chunk: {'tunnel_parents   label   detailed-label'}\n",
      "Missing columns in this chunk: {'tunnel_parents   label   detailed-label'}\n",
      "Missing columns in this chunk: {'tunnel_parents   label   detailed-label'}\n",
      "Missing columns in this chunk: {'tunnel_parents   label   detailed-label'}\n",
      "Missing columns in this chunk: {'tunnel_parents   label   detailed-label'}\n",
      "Missing columns in this chunk: {'tunnel_parents   label   detailed-label'}\n",
      "Missing columns in this chunk: {'tunnel_parents   label   detailed-label'}\n",
      "Missing columns in this chunk: {'tunnel_parents   label   detailed-label'}\n",
      "Missing columns in this chunk: {'tunnel_parents   label   detailed-label'}\n",
      "Missing columns in this chunk: {'tunnel_parents   label   detailed-label'}\n",
      "Missing columns in this chunk: {'tunnel_parents   label   detailed-label'}\n",
      "Missing columns in this chunk: {'tunnel_parents   label   detailed-label'}\n",
      "Missing columns in this chunk: {'tunnel_parents   label   detailed-label'}\n",
      "Missing columns in this chunk: {'tunnel_parents   label   detailed-label'}\n",
      "Missing columns in this chunk: {'tunnel_parents   label   detailed-label'}\n",
      "Missing columns in this chunk: {'tunnel_parents   label   detailed-label'}\n",
      "Missing columns in this chunk: {'tunnel_parents   label   detailed-label'}\n",
      "Missing columns in this chunk: {'tunnel_parents   label   detailed-label'}\n"
     ]
    },
    {
     "name": "stderr",
     "output_type": "stream",
     "text": [
      "/tmp/ipykernel_18148/1266505323.py:8: DtypeWarning: Columns (7) have mixed types. Specify dtype option on import or set low_memory=False.\n",
      "  for chunk in pd.read_csv(\"/home/charlie/Desktop/master_data.csv\", chunksize=chunk_size):\n"
     ]
    },
    {
     "name": "stdout",
     "output_type": "stream",
     "text": [
      "Missing columns in this chunk: {'tunnel_parents   label   detailed-label'}\n",
      "Missing columns in this chunk: {'tunnel_parents   label   detailed-label'}\n",
      "Missing columns in this chunk: {'tunnel_parents   label   detailed-label'}\n"
     ]
    },
    {
     "name": "stderr",
     "output_type": "stream",
     "text": [
      "/tmp/ipykernel_18148/1266505323.py:8: DtypeWarning: Columns (7) have mixed types. Specify dtype option on import or set low_memory=False.\n",
      "  for chunk in pd.read_csv(\"/home/charlie/Desktop/master_data.csv\", chunksize=chunk_size):\n"
     ]
    },
    {
     "name": "stdout",
     "output_type": "stream",
     "text": [
      "Missing columns in this chunk: {'tunnel_parents   label   detailed-label'}\n",
      "Missing columns in this chunk: {'tunnel_parents   label   detailed-label'}\n",
      "Missing columns in this chunk: {'tunnel_parents   label   detailed-label'}\n",
      "Missing columns in this chunk: {'tunnel_parents   label   detailed-label'}\n",
      "Missing columns in this chunk: {'tunnel_parents   label   detailed-label'}\n",
      "Missing columns in this chunk: {'tunnel_parents   label   detailed-label'}\n",
      "Missing columns in this chunk: {'tunnel_parents   label   detailed-label'}\n",
      "Missing columns in this chunk: {'tunnel_parents   label   detailed-label'}\n",
      "Missing columns in this chunk: {'tunnel_parents   label   detailed-label'}\n",
      "Missing columns in this chunk: {'tunnel_parents   label   detailed-label'}\n",
      "Missing columns in this chunk: {'tunnel_parents   label   detailed-label'}\n",
      "Missing columns in this chunk: {'tunnel_parents   label   detailed-label'}\n",
      "Missing columns in this chunk: {'tunnel_parents   label   detailed-label'}\n",
      "Missing columns in this chunk: {'tunnel_parents   label   detailed-label'}\n",
      "Missing columns in this chunk: {'tunnel_parents   label   detailed-label'}\n"
     ]
    },
    {
     "name": "stderr",
     "output_type": "stream",
     "text": [
      "/tmp/ipykernel_18148/1266505323.py:8: DtypeWarning: Columns (7) have mixed types. Specify dtype option on import or set low_memory=False.\n",
      "  for chunk in pd.read_csv(\"/home/charlie/Desktop/master_data.csv\", chunksize=chunk_size):\n",
      "/tmp/ipykernel_18148/1266505323.py:8: DtypeWarning: Columns (7) have mixed types. Specify dtype option on import or set low_memory=False.\n",
      "  for chunk in pd.read_csv(\"/home/charlie/Desktop/master_data.csv\", chunksize=chunk_size):\n"
     ]
    },
    {
     "name": "stdout",
     "output_type": "stream",
     "text": [
      "Missing columns in this chunk: {'tunnel_parents   label   detailed-label'}\n",
      "Missing columns in this chunk: {'tunnel_parents   label   detailed-label'}\n"
     ]
    },
    {
     "name": "stderr",
     "output_type": "stream",
     "text": [
      "/tmp/ipykernel_18148/1266505323.py:8: DtypeWarning: Columns (7) have mixed types. Specify dtype option on import or set low_memory=False.\n",
      "  for chunk in pd.read_csv(\"/home/charlie/Desktop/master_data.csv\", chunksize=chunk_size):\n"
     ]
    },
    {
     "name": "stdout",
     "output_type": "stream",
     "text": [
      "Missing columns in this chunk: {'tunnel_parents   label   detailed-label'}\n",
      "Missing columns in this chunk: {'tunnel_parents   label   detailed-label'}\n",
      "Missing columns in this chunk: {'tunnel_parents   label   detailed-label'}\n",
      "Missing columns in this chunk: {'tunnel_parents   label   detailed-label'}\n",
      "Missing columns in this chunk: {'tunnel_parents   label   detailed-label'}\n",
      "Missing columns in this chunk: {'tunnel_parents   label   detailed-label'}\n",
      "Missing columns in this chunk: {'tunnel_parents   label   detailed-label'}\n",
      "Missing columns in this chunk: {'tunnel_parents   label   detailed-label'}\n",
      "Missing columns in this chunk: {'tunnel_parents   label   detailed-label'}\n"
     ]
    },
    {
     "name": "stderr",
     "output_type": "stream",
     "text": [
      "/tmp/ipykernel_18148/1266505323.py:8: DtypeWarning: Columns (7) have mixed types. Specify dtype option on import or set low_memory=False.\n",
      "  for chunk in pd.read_csv(\"/home/charlie/Desktop/master_data.csv\", chunksize=chunk_size):\n"
     ]
    },
    {
     "name": "stdout",
     "output_type": "stream",
     "text": [
      "Missing columns in this chunk: {'tunnel_parents   label   detailed-label'}\n",
      "Missing columns in this chunk: {'tunnel_parents   label   detailed-label'}\n"
     ]
    },
    {
     "name": "stderr",
     "output_type": "stream",
     "text": [
      "/tmp/ipykernel_18148/1266505323.py:8: DtypeWarning: Columns (7) have mixed types. Specify dtype option on import or set low_memory=False.\n",
      "  for chunk in pd.read_csv(\"/home/charlie/Desktop/master_data.csv\", chunksize=chunk_size):\n"
     ]
    },
    {
     "name": "stdout",
     "output_type": "stream",
     "text": [
      "Missing columns in this chunk: {'tunnel_parents   label   detailed-label'}\n",
      "Missing columns in this chunk: {'tunnel_parents   label   detailed-label'}\n",
      "Missing columns in this chunk: {'tunnel_parents   label   detailed-label'}\n",
      "Missing columns in this chunk: {'tunnel_parents   label   detailed-label'}\n",
      "Missing columns in this chunk: {'tunnel_parents   label   detailed-label'}\n",
      "Missing columns in this chunk: {'tunnel_parents   label   detailed-label'}\n",
      "Missing columns in this chunk: {'tunnel_parents   label   detailed-label'}\n",
      "Missing columns in this chunk: {'tunnel_parents   label   detailed-label'}\n"
     ]
    },
    {
     "name": "stderr",
     "output_type": "stream",
     "text": [
      "/tmp/ipykernel_18148/1266505323.py:8: DtypeWarning: Columns (7) have mixed types. Specify dtype option on import or set low_memory=False.\n",
      "  for chunk in pd.read_csv(\"/home/charlie/Desktop/master_data.csv\", chunksize=chunk_size):\n",
      "/tmp/ipykernel_18148/1266505323.py:8: DtypeWarning: Columns (7) have mixed types. Specify dtype option on import or set low_memory=False.\n",
      "  for chunk in pd.read_csv(\"/home/charlie/Desktop/master_data.csv\", chunksize=chunk_size):\n"
     ]
    },
    {
     "name": "stdout",
     "output_type": "stream",
     "text": [
      "Missing columns in this chunk: {'tunnel_parents   label   detailed-label'}\n",
      "Missing columns in this chunk: {'tunnel_parents   label   detailed-label'}\n"
     ]
    },
    {
     "name": "stderr",
     "output_type": "stream",
     "text": [
      "/tmp/ipykernel_18148/1266505323.py:8: DtypeWarning: Columns (7) have mixed types. Specify dtype option on import or set low_memory=False.\n",
      "  for chunk in pd.read_csv(\"/home/charlie/Desktop/master_data.csv\", chunksize=chunk_size):\n"
     ]
    },
    {
     "name": "stdout",
     "output_type": "stream",
     "text": [
      "Missing columns in this chunk: {'tunnel_parents   label   detailed-label'}\n",
      "Missing columns in this chunk: {'tunnel_parents   label   detailed-label'}\n",
      "Missing columns in this chunk: {'tunnel_parents   label   detailed-label'}\n",
      "Missing columns in this chunk: {'tunnel_parents   label   detailed-label'}\n",
      "Missing columns in this chunk: {'tunnel_parents   label   detailed-label'}\n",
      "Missing columns in this chunk: {'tunnel_parents   label   detailed-label'}\n",
      "Missing columns in this chunk: {'tunnel_parents   label   detailed-label'}\n",
      "Missing columns in this chunk: {'tunnel_parents   label   detailed-label'}\n"
     ]
    },
    {
     "name": "stderr",
     "output_type": "stream",
     "text": [
      "/tmp/ipykernel_18148/1266505323.py:8: DtypeWarning: Columns (7) have mixed types. Specify dtype option on import or set low_memory=False.\n",
      "  for chunk in pd.read_csv(\"/home/charlie/Desktop/master_data.csv\", chunksize=chunk_size):\n",
      "/tmp/ipykernel_18148/1266505323.py:8: DtypeWarning: Columns (7) have mixed types. Specify dtype option on import or set low_memory=False.\n",
      "  for chunk in pd.read_csv(\"/home/charlie/Desktop/master_data.csv\", chunksize=chunk_size):\n"
     ]
    },
    {
     "name": "stdout",
     "output_type": "stream",
     "text": [
      "Missing columns in this chunk: {'tunnel_parents   label   detailed-label'}\n",
      "Missing columns in this chunk: {'tunnel_parents   label   detailed-label'}\n"
     ]
    },
    {
     "name": "stderr",
     "output_type": "stream",
     "text": [
      "/tmp/ipykernel_18148/1266505323.py:8: DtypeWarning: Columns (7) have mixed types. Specify dtype option on import or set low_memory=False.\n",
      "  for chunk in pd.read_csv(\"/home/charlie/Desktop/master_data.csv\", chunksize=chunk_size):\n",
      "/tmp/ipykernel_18148/1266505323.py:8: DtypeWarning: Columns (7) have mixed types. Specify dtype option on import or set low_memory=False.\n",
      "  for chunk in pd.read_csv(\"/home/charlie/Desktop/master_data.csv\", chunksize=chunk_size):\n"
     ]
    },
    {
     "name": "stdout",
     "output_type": "stream",
     "text": [
      "Missing columns in this chunk: {'tunnel_parents   label   detailed-label'}\n",
      "Missing columns in this chunk: {'tunnel_parents   label   detailed-label'}\n",
      "Missing columns in this chunk: {'tunnel_parents   label   detailed-label'}\n"
     ]
    },
    {
     "name": "stderr",
     "output_type": "stream",
     "text": [
      "/tmp/ipykernel_18148/1266505323.py:8: DtypeWarning: Columns (7) have mixed types. Specify dtype option on import or set low_memory=False.\n",
      "  for chunk in pd.read_csv(\"/home/charlie/Desktop/master_data.csv\", chunksize=chunk_size):\n"
     ]
    },
    {
     "name": "stdout",
     "output_type": "stream",
     "text": [
      "Missing columns in this chunk: {'tunnel_parents   label   detailed-label'}\n",
      "Missing columns in this chunk: {'tunnel_parents   label   detailed-label'}\n",
      "Missing columns in this chunk: {'tunnel_parents   label   detailed-label'}\n",
      "Missing columns in this chunk: {'tunnel_parents   label   detailed-label'}\n",
      "Missing columns in this chunk: {'tunnel_parents   label   detailed-label'}\n",
      "Missing columns in this chunk: {'tunnel_parents   label   detailed-label'}\n",
      "Missing columns in this chunk: {'tunnel_parents   label   detailed-label'}\n",
      "Missing columns in this chunk: {'tunnel_parents   label   detailed-label'}\n",
      "Missing columns in this chunk: {'tunnel_parents   label   detailed-label'}\n",
      "Missing columns in this chunk: {'tunnel_parents   label   detailed-label'}\n",
      "Missing columns in this chunk: {'tunnel_parents   label   detailed-label'}\n"
     ]
    },
    {
     "name": "stderr",
     "output_type": "stream",
     "text": [
      "/tmp/ipykernel_18148/1266505323.py:8: DtypeWarning: Columns (7) have mixed types. Specify dtype option on import or set low_memory=False.\n",
      "  for chunk in pd.read_csv(\"/home/charlie/Desktop/master_data.csv\", chunksize=chunk_size):\n"
     ]
    },
    {
     "name": "stdout",
     "output_type": "stream",
     "text": [
      "Missing columns in this chunk: {'tunnel_parents   label   detailed-label'}\n",
      "Missing columns in this chunk: {'tunnel_parents   label   detailed-label'}\n",
      "Missing columns in this chunk: {'tunnel_parents   label   detailed-label'}\n",
      "Missing columns in this chunk: {'tunnel_parents   label   detailed-label'}\n",
      "Missing columns in this chunk: {'tunnel_parents   label   detailed-label'}\n",
      "Missing columns in this chunk: {'tunnel_parents   label   detailed-label'}\n",
      "Missing columns in this chunk: {'tunnel_parents   label   detailed-label'}\n",
      "Missing columns in this chunk: {'tunnel_parents   label   detailed-label'}\n",
      "Missing columns in this chunk: {'tunnel_parents   label   detailed-label'}\n",
      "Missing columns in this chunk: {'tunnel_parents   label   detailed-label'}\n",
      "Missing columns in this chunk: {'tunnel_parents   label   detailed-label'}\n",
      "Missing columns in this chunk: {'tunnel_parents   label   detailed-label'}\n",
      "Missing columns in this chunk: {'tunnel_parents   label   detailed-label'}\n",
      "Missing columns in this chunk: {'tunnel_parents   label   detailed-label'}\n",
      "Missing columns in this chunk: {'tunnel_parents   label   detailed-label'}\n",
      "Missing columns in this chunk: {'tunnel_parents   label   detailed-label'}\n",
      "Missing columns in this chunk: {'tunnel_parents   label   detailed-label'}\n",
      "Missing columns in this chunk: {'tunnel_parents   label   detailed-label'}\n",
      "Missing columns in this chunk: {'tunnel_parents   label   detailed-label'}\n",
      "Missing columns in this chunk: {'tunnel_parents   label   detailed-label'}\n",
      "Missing columns in this chunk: {'tunnel_parents   label   detailed-label'}\n",
      "Missing columns in this chunk: {'tunnel_parents   label   detailed-label'}\n",
      "Missing columns in this chunk: {'tunnel_parents   label   detailed-label'}\n",
      "Missing columns in this chunk: {'tunnel_parents   label   detailed-label'}\n",
      "Missing columns in this chunk: {'tunnel_parents   label   detailed-label'}\n",
      "Missing columns in this chunk: {'tunnel_parents   label   detailed-label'}\n",
      "Missing columns in this chunk: {'tunnel_parents   label   detailed-label'}\n",
      "Missing columns in this chunk: {'tunnel_parents   label   detailed-label'}\n",
      "Missing columns in this chunk: {'tunnel_parents   label   detailed-label'}\n",
      "Missing columns in this chunk: {'tunnel_parents   label   detailed-label'}\n",
      "Missing columns in this chunk: {'tunnel_parents   label   detailed-label'}\n",
      "Missing columns in this chunk: {'tunnel_parents   label   detailed-label'}\n",
      "Missing columns in this chunk: {'tunnel_parents   label   detailed-label'}\n",
      "Missing columns in this chunk: {'tunnel_parents   label   detailed-label'}\n",
      "Missing columns in this chunk: {'tunnel_parents   label   detailed-label'}\n",
      "Missing columns in this chunk: {'tunnel_parents   label   detailed-label'}\n"
     ]
    },
    {
     "name": "stderr",
     "output_type": "stream",
     "text": [
      "/tmp/ipykernel_18148/1266505323.py:8: DtypeWarning: Columns (7) have mixed types. Specify dtype option on import or set low_memory=False.\n",
      "  for chunk in pd.read_csv(\"/home/charlie/Desktop/master_data.csv\", chunksize=chunk_size):\n"
     ]
    },
    {
     "name": "stdout",
     "output_type": "stream",
     "text": [
      "Missing columns in this chunk: {'tunnel_parents   label   detailed-label'}\n",
      "Missing columns in this chunk: {'tunnel_parents   label   detailed-label'}\n",
      "Missing columns in this chunk: {'tunnel_parents   label   detailed-label'}\n",
      "Missing columns in this chunk: {'tunnel_parents   label   detailed-label'}\n",
      "Missing columns in this chunk: {'tunnel_parents   label   detailed-label'}\n",
      "Missing columns in this chunk: {'tunnel_parents   label   detailed-label'}\n",
      "Missing columns in this chunk: {'tunnel_parents   label   detailed-label'}\n",
      "Missing columns in this chunk: {'tunnel_parents   label   detailed-label'}\n",
      "Missing columns in this chunk: {'tunnel_parents   label   detailed-label'}\n",
      "Missing columns in this chunk: {'tunnel_parents   label   detailed-label'}\n",
      "Missing columns in this chunk: {'tunnel_parents   label   detailed-label'}\n",
      "Missing columns in this chunk: {'tunnel_parents   label   detailed-label'}\n",
      "Missing columns in this chunk: {'tunnel_parents   label   detailed-label'}\n",
      "Missing columns in this chunk: {'tunnel_parents   label   detailed-label'}\n",
      "Missing columns in this chunk: {'tunnel_parents   label   detailed-label'}\n",
      "Missing columns in this chunk: {'tunnel_parents   label   detailed-label'}\n",
      "Missing columns in this chunk: {'tunnel_parents   label   detailed-label'}\n",
      "Missing columns in this chunk: {'tunnel_parents   label   detailed-label'}\n",
      "Missing columns in this chunk: {'tunnel_parents   label   detailed-label'}\n",
      "Missing columns in this chunk: {'tunnel_parents   label   detailed-label'}\n",
      "Missing columns in this chunk: {'tunnel_parents   label   detailed-label'}\n",
      "Missing columns in this chunk: {'tunnel_parents   label   detailed-label'}\n",
      "Missing columns in this chunk: {'tunnel_parents   label   detailed-label'}\n",
      "Missing columns in this chunk: {'tunnel_parents   label   detailed-label'}\n",
      "Missing columns in this chunk: {'tunnel_parents   label   detailed-label'}\n",
      "Missing columns in this chunk: {'tunnel_parents   label   detailed-label'}\n",
      "Missing columns in this chunk: {'tunnel_parents   label   detailed-label'}\n",
      "Missing columns in this chunk: {'tunnel_parents   label   detailed-label'}\n",
      "Missing columns in this chunk: {'tunnel_parents   label   detailed-label'}\n",
      "Missing columns in this chunk: {'tunnel_parents   label   detailed-label'}\n",
      "Missing columns in this chunk: {'tunnel_parents   label   detailed-label'}\n",
      "Missing columns in this chunk: {'tunnel_parents   label   detailed-label'}\n",
      "Missing columns in this chunk: {'tunnel_parents   label   detailed-label'}\n",
      "Missing columns in this chunk: {'tunnel_parents   label   detailed-label'}\n",
      "Missing columns in this chunk: {'tunnel_parents   label   detailed-label'}\n",
      "Missing columns in this chunk: {'tunnel_parents   label   detailed-label'}\n",
      "Missing columns in this chunk: {'tunnel_parents   label   detailed-label'}\n",
      "Missing columns in this chunk: {'tunnel_parents   label   detailed-label'}\n",
      "Missing columns in this chunk: {'tunnel_parents   label   detailed-label'}\n",
      "Missing columns in this chunk: {'tunnel_parents   label   detailed-label'}\n",
      "Missing columns in this chunk: {'tunnel_parents   label   detailed-label'}\n",
      "Missing columns in this chunk: {'tunnel_parents   label   detailed-label'}\n",
      "Missing columns in this chunk: {'tunnel_parents   label   detailed-label'}\n",
      "Missing columns in this chunk: {'tunnel_parents   label   detailed-label'}\n",
      "Missing columns in this chunk: {'tunnel_parents   label   detailed-label'}\n",
      "Missing columns in this chunk: {'tunnel_parents   label   detailed-label'}\n",
      "Missing columns in this chunk: {'tunnel_parents   label   detailed-label'}\n",
      "Missing columns in this chunk: {'tunnel_parents   label   detailed-label'}\n",
      "Missing columns in this chunk: {'tunnel_parents   label   detailed-label'}\n",
      "Missing columns in this chunk: {'tunnel_parents   label   detailed-label'}\n",
      "Missing columns in this chunk: {'tunnel_parents   label   detailed-label'}\n",
      "Missing columns in this chunk: {'tunnel_parents   label   detailed-label'}\n",
      "Missing columns in this chunk: {'tunnel_parents   label   detailed-label'}\n",
      "Missing columns in this chunk: {'tunnel_parents   label   detailed-label'}\n",
      "Missing columns in this chunk: {'tunnel_parents   label   detailed-label'}\n",
      "Missing columns in this chunk: {'tunnel_parents   label   detailed-label'}\n",
      "Missing columns in this chunk: {'tunnel_parents   label   detailed-label'}\n",
      "Missing columns in this chunk: {'tunnel_parents   label   detailed-label'}\n",
      "Missing columns in this chunk: {'tunnel_parents   label   detailed-label'}\n",
      "Missing columns in this chunk: {'tunnel_parents   label   detailed-label'}\n",
      "Missing columns in this chunk: {'tunnel_parents   label   detailed-label'}\n",
      "Missing columns in this chunk: {'tunnel_parents   label   detailed-label'}\n",
      "Missing columns in this chunk: {'tunnel_parents   label   detailed-label'}\n",
      "Missing columns in this chunk: {'tunnel_parents   label   detailed-label'}\n",
      "Missing columns in this chunk: {'tunnel_parents   label   detailed-label'}\n",
      "Missing columns in this chunk: {'tunnel_parents   label   detailed-label'}\n",
      "Missing columns in this chunk: {'tunnel_parents   label   detailed-label'}\n",
      "Missing columns in this chunk: {'tunnel_parents   label   detailed-label'}\n",
      "Missing columns in this chunk: {'tunnel_parents   label   detailed-label'}\n",
      "Missing columns in this chunk: {'tunnel_parents   label   detailed-label'}\n",
      "Missing columns in this chunk: {'tunnel_parents   label   detailed-label'}\n",
      "Missing columns in this chunk: {'tunnel_parents   label   detailed-label'}\n",
      "Missing columns in this chunk: {'tunnel_parents   label   detailed-label'}\n",
      "Missing columns in this chunk: {'tunnel_parents   label   detailed-label'}\n",
      "Missing columns in this chunk: {'tunnel_parents   label   detailed-label'}\n",
      "Missing columns in this chunk: {'tunnel_parents   label   detailed-label'}\n",
      "Missing columns in this chunk: {'tunnel_parents   label   detailed-label'}\n",
      "Missing columns in this chunk: {'tunnel_parents   label   detailed-label'}\n",
      "Missing columns in this chunk: {'tunnel_parents   label   detailed-label'}\n",
      "Missing columns in this chunk: {'tunnel_parents   label   detailed-label'}\n",
      "Missing columns in this chunk: {'tunnel_parents   label   detailed-label'}\n",
      "Missing columns in this chunk: {'tunnel_parents   label   detailed-label'}\n",
      "Missing columns in this chunk: {'tunnel_parents   label   detailed-label'}\n",
      "Missing columns in this chunk: {'tunnel_parents   label   detailed-label'}\n",
      "Missing columns in this chunk: {'tunnel_parents   label   detailed-label'}\n",
      "Missing columns in this chunk: {'tunnel_parents   label   detailed-label'}\n",
      "Missing columns in this chunk: {'tunnel_parents   label   detailed-label'}\n",
      "Missing columns in this chunk: {'tunnel_parents   label   detailed-label'}\n",
      "Missing columns in this chunk: {'tunnel_parents   label   detailed-label'}\n",
      "Missing columns in this chunk: {'tunnel_parents   label   detailed-label'}\n",
      "Missing columns in this chunk: {'tunnel_parents   label   detailed-label'}\n",
      "Missing columns in this chunk: {'tunnel_parents   label   detailed-label'}\n",
      "Missing columns in this chunk: {'tunnel_parents   label   detailed-label'}\n",
      "Missing columns in this chunk: {'tunnel_parents   label   detailed-label'}\n",
      "Missing columns in this chunk: {'tunnel_parents   label   detailed-label'}\n",
      "Missing columns in this chunk: {'tunnel_parents   label   detailed-label'}\n",
      "Missing columns in this chunk: {'tunnel_parents   label   detailed-label'}\n",
      "Missing columns in this chunk: {'tunnel_parents   label   detailed-label'}\n",
      "Missing columns in this chunk: {'tunnel_parents   label   detailed-label'}\n",
      "Missing columns in this chunk: {'tunnel_parents   label   detailed-label'}\n",
      "Missing columns in this chunk: {'tunnel_parents   label   detailed-label'}\n",
      "Missing columns in this chunk: {'tunnel_parents   label   detailed-label'}\n",
      "Missing columns in this chunk: {'tunnel_parents   label   detailed-label'}\n",
      "Missing columns in this chunk: {'tunnel_parents   label   detailed-label'}\n",
      "Missing columns in this chunk: {'tunnel_parents   label   detailed-label'}\n",
      "Missing columns in this chunk: {'tunnel_parents   label   detailed-label'}\n",
      "Missing columns in this chunk: {'tunnel_parents   label   detailed-label'}\n",
      "Missing columns in this chunk: {'tunnel_parents   label   detailed-label'}\n",
      "Missing columns in this chunk: {'tunnel_parents   label   detailed-label'}\n",
      "Missing columns in this chunk: {'tunnel_parents   label   detailed-label'}\n",
      "Missing columns in this chunk: {'tunnel_parents   label   detailed-label'}\n",
      "Missing columns in this chunk: {'tunnel_parents   label   detailed-label'}\n",
      "Missing columns in this chunk: {'tunnel_parents   label   detailed-label'}\n",
      "Missing columns in this chunk: {'tunnel_parents   label   detailed-label'}\n",
      "Missing columns in this chunk: {'tunnel_parents   label   detailed-label'}\n",
      "No valid data to group.\n"
     ]
    }
   ],
   "source": [
    "import pandas as pd\n",
    "\n",
    "chunk_size = 100000\n",
    "grouped_counts = None  # Initialize to store aggregated counts\n",
    "\n",
    "required_columns = ['tunnel_parents   label   detailed-label']  # Expected columns\n",
    "\n",
    "for chunk in pd.read_csv(\"/home/charlie/Desktop/master_data.csv\", chunksize=chunk_size):\n",
    "    # Clean and standardise column names\n",
    "    chunk.columns = chunk.columns.str.strip().str.replace(\"-\", \"_\").str.lower()\n",
    "    \n",
    "    # Check if required columns exist\n",
    "    if not all(col in chunk.columns for col in required_columns):\n",
    "        missing_cols = set(required_columns) - set(chunk.columns)\n",
    "        print(f\"Missing columns in this chunk: {missing_cols}\")\n",
    "        continue  # Skip this chunk\n",
    "    \n",
    "    # Group by the required columns\n",
    "    chunk_counts = chunk.groupby(required_columns).size()\n",
    "    \n",
    "    # Aggregate results across chunks\n",
    "    if grouped_counts is None:\n",
    "        grouped_counts = chunk_counts\n",
    "    else:\n",
    "        grouped_counts = grouped_counts.add(chunk_counts, fill_value=0)\n",
    "\n",
    "# Print the final grouped counts\n",
    "if grouped_counts is not None:\n",
    "    print(grouped_counts)\n",
    "else:\n",
    "    print(\"No valid data to group.\")\n"
   ]
  },
  {
   "cell_type": "code",
   "execution_count": 9,
   "id": "4fb186ce-36cb-443a-8a15-5b24fcf70991",
   "metadata": {},
   "outputs": [
    {
     "name": "stdout",
     "output_type": "stream",
     "text": [
      "tunnel_parents   label   detailed-label\n",
      "(empty)   Benign   -                                 4536\n",
      "(empty)   Malicious   Attack                         5962\n",
      "(empty)   Malicious   C&C                               8\n",
      "(empty)   Malicious   PartOfAHorizontalPortScan    145597\n",
      "-   Benign   -                                        211\n",
      "-   Malicious   C&C                                    14\n",
      "-   Malicious   C&C-FileDownload                       11\n",
      "-   Malicious   DDoS                                    1\n",
      "-   benign   -                                       1034\n",
      "dtype: int64\n"
     ]
    }
   ],
   "source": [
    "# Group by multiple columns and count occurrences\n",
    "grouped_counts = df.groupby(['tunnel_parents   label   detailed-label']).size()\n",
    "print(grouped_counts)\n"
   ]
  },
  {
   "cell_type": "code",
   "execution_count": null,
   "id": "319c7e6a-10b6-4bec-92e7-0512efd7607f",
   "metadata": {},
   "outputs": [],
   "source": []
  }
 ],
 "metadata": {
  "kernelspec": {
   "display_name": "Python 3 (ipykernel)",
   "language": "python",
   "name": "python3"
  },
  "language_info": {
   "codemirror_mode": {
    "name": "ipython",
    "version": 3
   },
   "file_extension": ".py",
   "mimetype": "text/x-python",
   "name": "python",
   "nbconvert_exporter": "python",
   "pygments_lexer": "ipython3",
   "version": "3.9.21"
  }
 },
 "nbformat": 4,
 "nbformat_minor": 5
}
