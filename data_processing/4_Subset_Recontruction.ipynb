{
 "cells": [
  {
   "cell_type": "code",
   "execution_count": 1,
   "id": "3929755c-b859-468f-a9d1-6a81f0143c4f",
   "metadata": {},
   "outputs": [
    {
     "name": "stderr",
     "output_type": "stream",
     "text": [
      "Processing Files: 100%|██████████| 15000/15000 [02:05<00:00, 119.69it/s]"
     ]
    },
    {
     "name": "stdout",
     "output_type": "stream",
     "text": [
      "Master CSV created at: /home/charlie/Desktop/Data_Subset/Masterfile/Masterfile.csv\n",
      "PROCESSING COMPLETE in 125.36 seconds\n"
     ]
    },
    {
     "name": "stderr",
     "output_type": "stream",
     "text": [
      "\n"
     ]
    }
   ],
   "source": [
    "import pandas as pd\n",
    "import os\n",
    "import time\n",
    "import glob\n",
    "from tqdm import tqdm\n",
    "\n",
    "# Input and output paths\n",
    "input_files = '/home/charlie/Desktop/Data_Subset/Subset_4/*.csv'\n",
    "output_dir = '/home/charlie/Desktop/Data_Subset/Masterfile/'  \n",
    "output_file = os.path.join(output_dir, 'Masterfile.csv')\n",
    "line_reading_limit = 800  # Number of rows per subset\n",
    "\n",
    "# Ensure output directory exists\n",
    "os.makedirs(output_dir, exist_ok=True)\n",
    "\n",
    "start_time = time.time()\n",
    "files = glob.glob(input_files)\n",
    "\n",
    "try:\n",
    "    # Open the output file and write headers only once\n",
    "    with open(output_file, 'w') as f_out:\n",
    "        # Initialize progress bar\n",
    "        with tqdm(total=len(files), desc='Processing Files') as pbar:\n",
    "            for file in files:\n",
    "                try:\n",
    "                    # Read limited rows from the file\n",
    "                    df = pd.read_csv(file, nrows=line_reading_limit)\n",
    "                    \n",
    "                    # Write headers only for the first file\n",
    "                    df.to_csv(f_out, index=False, header=f_out.tell() == 0, mode='a')\n",
    "                    \n",
    "                    pbar.update(1)\n",
    "\n",
    "                except Exception as e:\n",
    "                    print(f\"Error Processing: {file}: {e}\")\n",
    "                \n",
    "    print(f\"Master CSV created at: {output_file}\")\n",
    "\n",
    "except Exception as e:\n",
    "    print(f\"CRITICAL ERROR: {e}\")\n",
    "\n",
    "end_time = time.time()\n",
    "print(f\"PROCESSING COMPLETE in {end_time - start_time:.2f} seconds\")\n"
   ]
  },
  {
   "cell_type": "code",
   "execution_count": null,
   "id": "6c61b8f3-354b-4ee5-afef-2e126e2af904",
   "metadata": {},
   "outputs": [],
   "source": []
  }
 ],
 "metadata": {
  "kernelspec": {
   "display_name": "Python 3 (ipykernel)",
   "language": "python",
   "name": "python3"
  },
  "language_info": {
   "codemirror_mode": {
    "name": "ipython",
    "version": 3
   },
   "file_extension": ".py",
   "mimetype": "text/x-python",
   "name": "python",
   "nbconvert_exporter": "python",
   "pygments_lexer": "ipython3",
   "version": "3.9.21"
  }
 },
 "nbformat": 4,
 "nbformat_minor": 5
}
