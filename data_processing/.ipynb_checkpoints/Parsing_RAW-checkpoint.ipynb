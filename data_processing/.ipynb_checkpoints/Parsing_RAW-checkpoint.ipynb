{
 "cells": [
  {
   "cell_type": "code",
   "execution_count": 17,
   "id": "ecf270b6-7317-491f-87b7-a05132c65db4",
   "metadata": {},
   "outputs": [
    {
     "name": "stderr",
     "output_type": "stream",
     "text": [
      "Processing Files: 0it [00:00, ?it/s]"
     ]
    },
    {
     "name": "stdout",
     "output_type": "stream",
     "text": [
      "CELL COMPLETE\n",
      "OUTPUT: /home/charlie/Desktop/Original_Data/Master_FIles/Draft_Master.csv\n"
     ]
    },
    {
     "name": "stderr",
     "output_type": "stream",
     "text": [
      "\n"
     ]
    }
   ],
   "source": [
    "#This cell is for parsing the data from the raw files and formatting it to a csv format in a single master file\n",
    "\n",
    "import pandas as pd\n",
    "import glob\n",
    "import time\n",
    "from tqdm import tqdm\n",
    "\n",
    "# Source files of raw data\n",
    "source_files = '/home/charlie/Desktop/Original_Data/RAW_Subset/*.labeled'\n",
    "\n",
    "# Output master CSV file\n",
    "output_file = '/home/charlie/Desktop/Original_Data/Master_FIles/Draft_Master.csv'\n",
    "\n",
    "# Data types being parsed\n",
    "parsed_data = {\n",
    "    'ts': 'object',\n",
    "    'uid': 'object',\n",
    "    'id.orig_h': 'object',\n",
    "    'id.orig_p': 'object',\n",
    "    'id.resp_h': 'object',\n",
    "    'id.resp_p': 'object',\n",
    "    'proto': 'object',\n",
    "    'service': 'object',\n",
    "    'duration': 'object',\n",
    "    'orig_bytes': 'object',\n",
    "    'resp_bytes': 'object',\n",
    "    'conn_state': 'object',\n",
    "    'local_orig': 'object',\n",
    "    'local_resp': 'object',\n",
    "    'missed_bytes': 'object',\n",
    "    'history': 'object',\n",
    "    'orig_pkts': 'object',\n",
    "    'orig_ip_bytes': 'object',\n",
    "    'resp_pkts': 'object',\n",
    "    'resp_ip_bytes': 'object',\n",
    "    'tunnel_parents': 'object',\n",
    "    'label': 'object',\n",
    "    'detailed_label': 'object'\n",
    "}\n",
    "\n",
    "\n",
    "# List all files\n",
    "files = glob.glob(source_files)\n",
    "\n",
    "# Start time for tracking\n",
    "start_time = time.time()\n",
    "try:\n",
    "    # Read loop and setup progress bar using tqdm\n",
    "    with tqdm(total=len(files), desc='Processing Files') as pbar:\n",
    "        first_file = True  # Write headers once to file\n",
    "        for file in files:\n",
    "            try:\n",
    "                # Extract header from metadata\n",
    "                with open(file, 'r') as f:\n",
    "                    header = None\n",
    "                    for line in f:\n",
    "                        if line.startswith(\"#fields\"):\n",
    "                            header = [f\"'{col.strip()}'\" for col in line.strip().split('\\t')[1:]]  # Encapsulate in quotes\n",
    "                            break\n",
    "                \n",
    "                # Ensure header is found\n",
    "                if header is None:\n",
    "                    raise ValueError(f\"No header found in file: {file}\")\n",
    "\n",
    "                # Reads files in chunks to prevent memory errors\n",
    "                for chunk in pd.read_csv(file, \n",
    "                                         sep='\\t', #seperator for tabs\n",
    "                                         #sep='\\s+',  # Use regex-based separator for whitespace\n",
    "                                         na_values=['-'], \n",
    "                                         chunksize=10000, \n",
    "                                         comment='#',  # Skip lines starting with '#'\n",
    "                                         header=None,  # No automatic header\n",
    "                                         names=header):  # Set custom header with encapsulated names\n",
    "                    # Clean column names (optional additional processing)\n",
    "                    chunk.columns = chunk.columns.str.strip()\n",
    "                    \n",
    "                    # Write to the master CSV\n",
    "                    chunk.to_csv(output_file, mode='a', header=first_file, index=False)\n",
    "                    first_file = False  # Stops headers being written for the remainder of the loop\n",
    "            except Exception as e:\n",
    "                print(f\"ERROR Processing: {file}: {e}\")\n",
    "            pbar.update(1)\n",
    "except Exception as e:\n",
    "    print(f\"CRITICAL ERROR: {e}\")\n",
    "print(\"CELL COMPLETE\")\n",
    "print(f\"OUTPUT: {output_file}\")\n"
   ]
  },
  {
   "cell_type": "code",
   "execution_count": 16,
   "id": "83a91ce1-3e3b-4e33-b3b4-34f77c2cebe9",
   "metadata": {},
   "outputs": [
    {
     "name": "stderr",
     "output_type": "stream",
     "text": [
      "Processing File: 1line [00:00, 384.90line/s]"
     ]
    },
    {
     "name": "stdout",
     "output_type": "stream",
     "text": [
      "CELL COMPLETE\n",
      "OUTPUT: /home/charlie/Desktop/Test/master/master_dataset_cleaned.csv\n"
     ]
    },
    {
     "name": "stderr",
     "output_type": "stream",
     "text": [
      "\n"
     ]
    }
   ],
   "source": [
    "#This script cleans the formatted cvs master file. The raw data is inconsistent in its format. The raw data from devices is seperated by tabs\n",
    "#But the labels they added after are seperated by white spaces. The cell above formats the seperator as tabs \n",
    "#This cell goes over the master file and seperates the label data by white spaces, otherwise the all merge into one column.\n",
    "\n",
    "# File paths\n",
    "input_file = '/home/charlie/Desktop/Original_Data/Master_FIles/Draft_Master.csv'\n",
    "output_file = '/home/charlie/Desktop/Original_Data/Master_FIles/Master_Dataset.csv'\n",
    "\n",
    "# Preprocess the file to fix spaces in the last columns\n",
    "try:\n",
    "    with tqdm(unit='line', desc='Processing File') as pbar:\n",
    "        with open(input_file, 'r') as infile, open(output_file, 'w') as outfile:\n",
    "            for line in infile:\n",
    "                # Skip comment lines\n",
    "                if line.startswith(\"#\"):\n",
    "                    outfile.write(line)\n",
    "                    continue\n",
    "                \n",
    "                # Replace spaces between `tunnel_parents`, `label`, and `detailed_label` with commas\n",
    "                # We assume the problematic spaces occur as \"   \" (triple spaces)\n",
    "                parts = line.rsplit(\"   \", 2)  # Split the last two occurrences of spaces\n",
    "                outfile.write(','.join(parts))  # Join them with commas\n",
    "            pbar.update(1)\n",
    "except Exception as e:\n",
    "    print(f\"CRITICAL ERROR: {e}\")\n",
    "\n",
    "print(\"CELL COMPLETE\")\n",
    "print(f\"OUTPUT: {output_file}\")\n"
   ]
  },
  {
   "cell_type": "code",
   "execution_count": null,
   "id": "c46174d9-0d1b-49b8-b212-b3f1889d2b17",
   "metadata": {},
   "outputs": [],
   "source": []
  }
 ],
 "metadata": {
  "kernelspec": {
   "display_name": "Python 3 (ipykernel)",
   "language": "python",
   "name": "python3"
  },
  "language_info": {
   "codemirror_mode": {
    "name": "ipython",
    "version": 3
   },
   "file_extension": ".py",
   "mimetype": "text/x-python",
   "name": "python",
   "nbconvert_exporter": "python",
   "pygments_lexer": "ipython3",
   "version": "3.9.21"
  }
 },
 "nbformat": 4,
 "nbformat_minor": 5
}
